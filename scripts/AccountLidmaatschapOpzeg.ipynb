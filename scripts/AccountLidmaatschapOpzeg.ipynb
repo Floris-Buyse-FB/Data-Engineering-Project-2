{
 "cells": [
  {
   "cell_type": "markdown",
   "metadata": {},
   "source": [
    "# Epic 8\n",
    "Als een keyuser wil ik graag een lijst van accounts (bedrijven) kunnen opmaken die het meest waarschijnlijk zijn om hun lidmaatschap volgend jaar niet te hernieuwen"
   ]
  },
  {
   "cell_type": "markdown",
   "metadata": {},
   "source": [
    "Om dit te kunnen uitvoeren, gaan we eerst inzicht in de data omtrent lidmaatschappen verwerven. Het is vooral belangrijk te achterhalen om welke redenen accounts in het verleden hun lidmaatschap hebben opgezegd."
   ]
  },
  {
   "cell_type": "markdown",
   "metadata": {},
   "source": [
    "## 1. Data inladen"
   ]
  },
  {
   "cell_type": "code",
   "execution_count": 661,
   "metadata": {},
   "outputs": [],
   "source": [
    "import pandas as pd\n",
    "import pyarrow as pa\n",
    "import pyarrow.parquet as pq\n",
    "import numpy as np\n",
    "import os\n",
    "from dotenv import load_dotenv\n",
    "from sqlalchemy import create_engine\n",
    "import optparse\n",
    "import nltk\n",
    "import sklearn\n",
    "from sklearn.model_selection import train_test_split\n",
    "from sklearn.ensemble import RandomForestClassifier\n",
    "from sklearn.metrics import accuracy_score, confusion_matrix, classification_report\n",
    "from sklearn.metrics import roc_auc_score, roc_curve, precision_recall_curve, auc\n",
    "import seaborn as sns"
   ]
  },
  {
   "cell_type": "markdown",
   "metadata": {},
   "source": [
    "#### Create connection to DWH\n"
   ]
  },
  {
   "cell_type": "markdown",
   "metadata": {},
   "source": [
    "nog geen OS gebruikt hieronder want gebruik docker dus moet nog es bekijken hoe"
   ]
  },
  {
   "cell_type": "code",
   "execution_count": 662,
   "metadata": {},
   "outputs": [],
   "source": [
    "\n",
    "SERVER_NAME_REMOTE=\"localhost\"\n",
    "DB_USER=\"sa\"\n",
    "DB_PASSWORD=\"Dep2Groep2-VIC\"\n",
    "DWH_NAME=\"Voka_DWH\"\n",
    "\n",
    "def connect_db(local=True):\n",
    "    if local:\n",
    "        URL_LOCAL = f'mssql+pyodbc://{SERVER_NAME}/{DWH_NAME}?trusted_connection=yes&driver=ODBC+Driver+17 for SQL Server'\n",
    "        engine = create_engine(URL_LOCAL)\n",
    "        conn = engine.connect()\n",
    "        return conn\n",
    "    else:\n",
    "        URL = f'mssql+pymssql://{DB_USER}:{DB_PASSWORD}@{SERVER_NAME_REMOTE}:1438/{DWH_NAME}'\n",
    "        engine = create_engine(URL)\n",
    "        conn = engine.connect()\n",
    "        return conn"
   ]
  },
  {
   "cell_type": "code",
   "execution_count": 663,
   "metadata": {},
   "outputs": [],
   "source": [
    "conn = connect_db(local=False)"
   ]
  },
  {
   "cell_type": "markdown",
   "metadata": {},
   "source": [
    "Create dataframe with all the data from the DWH"
   ]
  },
  {
   "cell_type": "code",
   "execution_count": 664,
   "metadata": {},
   "outputs": [],
   "source": [
    "def create_query(table_name, columns, condition=None):\n",
    "\n",
    "    query = f\"SELECT \"\n",
    "\n",
    "    for i, column in enumerate(columns):\n",
    "        if i == 0:\n",
    "            query += f\"[{column}]\"\n",
    "        else:\n",
    "            query += f\", [{column}]\"\n",
    "    \n",
    "    query += f\" FROM [{DWH_NAME}].[dbo].[{table_name}]\"\n",
    "    \n",
    "    if condition:\n",
    "        query += f\" WHERE {condition}\"\n",
    "\n",
    "    return query\n"
   ]
  },
  {
   "cell_type": "markdown",
   "metadata": {},
   "source": [
    "#### Merge Account en Lidmaatschap"
   ]
  },
  {
   "cell_type": "code",
   "execution_count": 665,
   "metadata": {},
   "outputs": [
    {
     "data": {
      "text/plain": [
       "(50170, 7)"
      ]
     },
     "execution_count": 665,
     "metadata": {},
     "output_type": "execute_result"
    }
   ],
   "source": [
    "#ACCOUNT DATA\n",
    "#needed Account columns\n",
    "account_col = ['accountID', 'plaats', 'isVokaEntiteit', 'accountStatus', 'ondernemingstype', 'ondernemingsaard', 'activiteitNaam']\n",
    "\n",
    "#condition\n",
    "account_condition = \"provincie = 'Oost-Vlaanderen'\"\n",
    "\n",
    "#create query\n",
    "account_query = create_query('DimAccount', account_col, account_condition)\n",
    "df_account = pd.read_sql(account_query, conn)\n",
    "df_account['plaats'] = df_account['plaats'].str.replace(r'\\([a-z.-]+\\)', '', regex=True).str.replace('  ', ' ')\n",
    "\n",
    "\n",
    "df_account.shape\n"
   ]
  },
  {
   "cell_type": "code",
   "execution_count": 666,
   "metadata": {},
   "outputs": [
    {
     "data": {
      "text/plain": [
       "(6612, 6)"
      ]
     },
     "execution_count": 666,
     "metadata": {},
     "output_type": "execute_result"
    }
   ],
   "source": [
    "#LIDMAATSCHAP DATA\n",
    "#needed Lidmaatschap columns\n",
    "lidmaatschap_col = ['lidmaatschapID', 'accountID', 'redenAangroei', 'redenVerloop', 'startDatum', 'opzegDatum']\n",
    "\n",
    "#create query\n",
    "lidmaatschap_query = create_query('DimLidmaatschap', lidmaatschap_col)\n",
    "df_lidmaatschap = pd.read_sql(lidmaatschap_query, conn)\n",
    "\n",
    "df_lidmaatschap.shape"
   ]
  },
  {
   "cell_type": "code",
   "execution_count": 667,
   "metadata": {},
   "outputs": [
    {
     "data": {
      "text/plain": [
       "(317954, 4)"
      ]
     },
     "execution_count": 667,
     "metadata": {},
     "output_type": "execute_result"
    }
   ],
   "source": [
    "#FIN DATA\n",
    "#needed Fin columns\n",
    "financiële_data_col = ['accountID', 'boekjaar', 'aantalMaanden', 'toegevoegdeWaarde']\n",
    "\n",
    "#create query\n",
    "financiële_data_query = create_query('DimFinanciëleDataAccount', financiële_data_col)\n",
    "df_financiële_data = pd.read_sql(financiële_data_query, conn)\n",
    "\n",
    "df_financiële_data.shape"
   ]
  },
  {
   "cell_type": "code",
   "execution_count": 668,
   "metadata": {},
   "outputs": [
    {
     "data": {
      "text/plain": [
       "(78790, 4)"
      ]
     },
     "execution_count": 668,
     "metadata": {},
     "output_type": "execute_result"
    }
   ],
   "source": [
    "#Inschrijving Data\n",
    "#needed Inschrijving columns\n",
    "inschrijving_col = ['contactID', 'campagneID', 'inschrijvingsDatumID', 'facturatieBedrag']\n",
    "\n",
    "#create query\n",
    "inschrijving_query = create_query('FactInschrijving', inschrijving_col)\n",
    "df_inschrijving = pd.read_sql(inschrijving_query, conn)\n",
    "\n",
    "df_inschrijving.shape"
   ]
  },
  {
   "cell_type": "markdown",
   "metadata": {},
   "source": [
    "#### Merge Lidmaatschap en Account"
   ]
  },
  {
   "cell_type": "code",
   "execution_count": 669,
   "metadata": {},
   "outputs": [
    {
     "data": {
      "text/plain": [
       "(6612, 12)"
      ]
     },
     "execution_count": 669,
     "metadata": {},
     "output_type": "execute_result"
    }
   ],
   "source": [
    "df_account_lid = df_account.merge(df_lidmaatschap, on='accountID', how='inner')\n",
    "df_account_lid.shape"
   ]
  },
  {
   "cell_type": "markdown",
   "metadata": {},
   "source": [
    "#### Merge Inschrijving en Contact"
   ]
  },
  {
   "cell_type": "code",
   "execution_count": 670,
   "metadata": {},
   "outputs": [
    {
     "data": {
      "text/plain": [
       "(194192, 2)"
      ]
     },
     "execution_count": 670,
     "metadata": {},
     "output_type": "execute_result"
    }
   ],
   "source": [
    "#needed contact col\n",
    "contact_col = ['contactID', 'accountID']\n",
    "\n",
    "#create query\n",
    "contact_query = create_query('DimContact', contact_col)\n",
    "df_contact = pd.read_sql(contact_query, conn)\n",
    "\n",
    "df_contact.shape"
   ]
  },
  {
   "cell_type": "code",
   "execution_count": 671,
   "metadata": {},
   "outputs": [
    {
     "data": {
      "text/plain": [
       "(78790, 5)"
      ]
     },
     "execution_count": 671,
     "metadata": {},
     "output_type": "execute_result"
    }
   ],
   "source": [
    "df_inschrijving = df_inschrijving.merge(df_contact, on='contactID', how='left')\n",
    "df_inschrijving.shape"
   ]
  },
  {
   "cell_type": "markdown",
   "metadata": {},
   "source": [
    "#### Merge Inschrijving en Datum"
   ]
  },
  {
   "cell_type": "code",
   "execution_count": 672,
   "metadata": {},
   "outputs": [
    {
     "data": {
      "text/plain": [
       "(100806, 2)"
      ]
     },
     "execution_count": 672,
     "metadata": {},
     "output_type": "execute_result"
    }
   ],
   "source": [
    "#needed datum col\n",
    "datum_col = ['dateID', 'fullDate']\n",
    "\n",
    "#create query\n",
    "datum_query = create_query('DimDate', datum_col)\n",
    "df_datum = pd.read_sql(datum_query, conn)\n",
    "\n",
    "df_datum.shape"
   ]
  },
  {
   "cell_type": "code",
   "execution_count": 673,
   "metadata": {},
   "outputs": [],
   "source": [
    "df_inschrijving = df_inschrijving.merge(df_datum, left_on='inschrijvingsDatumID', right_on='dateID', how='left')\n"
   ]
  },
  {
   "cell_type": "code",
   "execution_count": 674,
   "metadata": {},
   "outputs": [],
   "source": [
    "df_inschrijving.drop(columns=['dateID', 'inschrijvingsDatumID'], inplace=True)"
   ]
  },
  {
   "cell_type": "code",
   "execution_count": 675,
   "metadata": {},
   "outputs": [
    {
     "data": {
      "text/html": [
       "<div>\n",
       "<style scoped>\n",
       "    .dataframe tbody tr th:only-of-type {\n",
       "        vertical-align: middle;\n",
       "    }\n",
       "\n",
       "    .dataframe tbody tr th {\n",
       "        vertical-align: top;\n",
       "    }\n",
       "\n",
       "    .dataframe thead th {\n",
       "        text-align: right;\n",
       "    }\n",
       "</style>\n",
       "<table border=\"1\" class=\"dataframe\">\n",
       "  <thead>\n",
       "    <tr style=\"text-align: right;\">\n",
       "      <th></th>\n",
       "      <th>contactID</th>\n",
       "      <th>campagneID</th>\n",
       "      <th>facturatieBedrag</th>\n",
       "      <th>accountID</th>\n",
       "      <th>fullDate</th>\n",
       "    </tr>\n",
       "  </thead>\n",
       "  <tbody>\n",
       "    <tr>\n",
       "      <th>0</th>\n",
       "      <td>0017416A-2C6E-E111-B43A-00505680000A</td>\n",
       "      <td>82D778E0-1EC3-E811-80F5-001DD8B72B62</td>\n",
       "      <td>3000</td>\n",
       "      <td>18C73253-C368-E111-B43A-00505680000A</td>\n",
       "      <td>2019-01-21</td>\n",
       "    </tr>\n",
       "    <tr>\n",
       "      <th>1</th>\n",
       "      <td>0017416A-2C6E-E111-B43A-00505680000A</td>\n",
       "      <td>82D778E0-1EC3-E811-80F5-001DD8B72B62</td>\n",
       "      <td>3000</td>\n",
       "      <td>18C73253-C368-E111-B43A-00505680000A</td>\n",
       "      <td>2019-01-21</td>\n",
       "    </tr>\n",
       "    <tr>\n",
       "      <th>2</th>\n",
       "      <td>0017416A-2C6E-E111-B43A-00505680000A</td>\n",
       "      <td>82D778E0-1EC3-E811-80F5-001DD8B72B62</td>\n",
       "      <td>3000</td>\n",
       "      <td>18C73253-C368-E111-B43A-00505680000A</td>\n",
       "      <td>2019-01-21</td>\n",
       "    </tr>\n",
       "    <tr>\n",
       "      <th>3</th>\n",
       "      <td>0017416A-2C6E-E111-B43A-00505680000A</td>\n",
       "      <td>82D778E0-1EC3-E811-80F5-001DD8B72B62</td>\n",
       "      <td>3000</td>\n",
       "      <td>18C73253-C368-E111-B43A-00505680000A</td>\n",
       "      <td>2019-01-21</td>\n",
       "    </tr>\n",
       "    <tr>\n",
       "      <th>4</th>\n",
       "      <td>0017416A-2C6E-E111-B43A-00505680000A</td>\n",
       "      <td>82D778E0-1EC3-E811-80F5-001DD8B72B62</td>\n",
       "      <td>3000</td>\n",
       "      <td>18C73253-C368-E111-B43A-00505680000A</td>\n",
       "      <td>2019-01-21</td>\n",
       "    </tr>\n",
       "  </tbody>\n",
       "</table>\n",
       "</div>"
      ],
      "text/plain": [
       "                              contactID                            campagneID  \\\n",
       "0  0017416A-2C6E-E111-B43A-00505680000A  82D778E0-1EC3-E811-80F5-001DD8B72B62   \n",
       "1  0017416A-2C6E-E111-B43A-00505680000A  82D778E0-1EC3-E811-80F5-001DD8B72B62   \n",
       "2  0017416A-2C6E-E111-B43A-00505680000A  82D778E0-1EC3-E811-80F5-001DD8B72B62   \n",
       "3  0017416A-2C6E-E111-B43A-00505680000A  82D778E0-1EC3-E811-80F5-001DD8B72B62   \n",
       "4  0017416A-2C6E-E111-B43A-00505680000A  82D778E0-1EC3-E811-80F5-001DD8B72B62   \n",
       "\n",
       "  facturatieBedrag                             accountID    fullDate  \n",
       "0             3000  18C73253-C368-E111-B43A-00505680000A  2019-01-21  \n",
       "1             3000  18C73253-C368-E111-B43A-00505680000A  2019-01-21  \n",
       "2             3000  18C73253-C368-E111-B43A-00505680000A  2019-01-21  \n",
       "3             3000  18C73253-C368-E111-B43A-00505680000A  2019-01-21  \n",
       "4             3000  18C73253-C368-E111-B43A-00505680000A  2019-01-21  "
      ]
     },
     "execution_count": 675,
     "metadata": {},
     "output_type": "execute_result"
    }
   ],
   "source": [
    "df_inschrijving.head()"
   ]
  },
  {
   "cell_type": "code",
   "execution_count": 676,
   "metadata": {},
   "outputs": [
    {
     "data": {
      "text/plain": [
       "(78790, 4)"
      ]
     },
     "execution_count": 676,
     "metadata": {},
     "output_type": "execute_result"
    }
   ],
   "source": [
    "#drop contactID from inschrijving\n",
    "df_inschrijving.drop('contactID', axis=1, inplace=True)\n",
    "df_inschrijving.shape"
   ]
  },
  {
   "cell_type": "markdown",
   "metadata": {},
   "source": [
    "#### Inladen Campagne "
   ]
  },
  {
   "cell_type": "code",
   "execution_count": 677,
   "metadata": {},
   "outputs": [
    {
     "data": {
      "text/plain": [
       "(4101, 3)"
      ]
     },
     "execution_count": 677,
     "metadata": {},
     "output_type": "execute_result"
    }
   ],
   "source": [
    "#needed campagne col\n",
    "campagne_col = ['campagneID', 'campagneNaam', 'campagneType']\n",
    "\n",
    "#create query\n",
    "campagne_query = create_query('DimCampagne', campagne_col)\n",
    "df_campagne = pd.read_sql(campagne_query, conn)\n",
    "\n",
    "df_campagne.shape"
   ]
  },
  {
   "cell_type": "markdown",
   "metadata": {},
   "source": [
    "We hebben nu de volgende dataframes:\n",
    "- df_account_lid = account + lidmaatschap info\n",
    "- df_inschrijving = inschrijvingen per account\n",
    "- df_financiële_data = financiële data per account\n",
    "- df_campagne = de verschillende campagnes waarvoor een account kan inschrijven"
   ]
  },
  {
   "cell_type": "markdown",
   "metadata": {},
   "source": [
    "## 2. Data analyseren"
   ]
  },
  {
   "cell_type": "code",
   "execution_count": 678,
   "metadata": {},
   "outputs": [
    {
     "name": "stdout",
     "output_type": "stream",
     "text": [
      "<class 'pandas.core.frame.DataFrame'>\n",
      "RangeIndex: 6612 entries, 0 to 6611\n",
      "Data columns (total 12 columns):\n",
      " #   Column            Non-Null Count  Dtype \n",
      "---  ------            --------------  ----- \n",
      " 0   accountID         6612 non-null   object\n",
      " 1   plaats            6612 non-null   object\n",
      " 2   isVokaEntiteit    6612 non-null   int64 \n",
      " 3   accountStatus     6612 non-null   int64 \n",
      " 4   ondernemingstype  6612 non-null   object\n",
      " 5   ondernemingsaard  6612 non-null   object\n",
      " 6   activiteitNaam    2448 non-null   object\n",
      " 7   lidmaatschapID    6612 non-null   object\n",
      " 8   redenAangroei     6612 non-null   object\n",
      " 9   redenVerloop      6612 non-null   object\n",
      " 10  startDatum        6612 non-null   object\n",
      " 11  opzegDatum        6612 non-null   object\n",
      "dtypes: int64(2), object(10)\n",
      "memory usage: 620.0+ KB\n"
     ]
    }
   ],
   "source": [
    "df_account_lid.info()"
   ]
  },
  {
   "cell_type": "code",
   "execution_count": 679,
   "metadata": {},
   "outputs": [
    {
     "data": {
      "text/html": [
       "<div>\n",
       "<style scoped>\n",
       "    .dataframe tbody tr th:only-of-type {\n",
       "        vertical-align: middle;\n",
       "    }\n",
       "\n",
       "    .dataframe tbody tr th {\n",
       "        vertical-align: top;\n",
       "    }\n",
       "\n",
       "    .dataframe thead th {\n",
       "        text-align: right;\n",
       "    }\n",
       "</style>\n",
       "<table border=\"1\" class=\"dataframe\">\n",
       "  <thead>\n",
       "    <tr style=\"text-align: right;\">\n",
       "      <th></th>\n",
       "      <th>accountID</th>\n",
       "      <th>plaats</th>\n",
       "      <th>isVokaEntiteit</th>\n",
       "      <th>accountStatus</th>\n",
       "      <th>ondernemingstype</th>\n",
       "      <th>ondernemingsaard</th>\n",
       "      <th>activiteitNaam</th>\n",
       "      <th>lidmaatschapID</th>\n",
       "      <th>redenAangroei</th>\n",
       "      <th>redenVerloop</th>\n",
       "      <th>startDatum</th>\n",
       "      <th>opzegDatum</th>\n",
       "    </tr>\n",
       "  </thead>\n",
       "  <tbody>\n",
       "    <tr>\n",
       "      <th>0</th>\n",
       "      <td>00002DAC-0A69-E111-B43A-00505680000A</td>\n",
       "      <td>BEVERE</td>\n",
       "      <td>0</td>\n",
       "      <td>1</td>\n",
       "      <td>Bedrijf</td>\n",
       "      <td>Diensten</td>\n",
       "      <td>Overige industrie &amp; diensten</td>\n",
       "      <td>F10DF4A4-186F-E111-B43A-00505680000A</td>\n",
       "      <td>unknown</td>\n",
       "      <td>unknown</td>\n",
       "      <td>2011-12-07</td>\n",
       "      <td>2013-12-31</td>\n",
       "    </tr>\n",
       "    <tr>\n",
       "      <th>1</th>\n",
       "      <td>00025050-8D55-EB11-8117-001DD8B72B61</td>\n",
       "      <td>Melle</td>\n",
       "      <td>0</td>\n",
       "      <td>1</td>\n",
       "      <td>Familiebedrijf</td>\n",
       "      <td>Diensten</td>\n",
       "      <td>None</td>\n",
       "      <td>EB02B961-EFC1-EB11-8123-001DD8B72B62</td>\n",
       "      <td>Lead van een collega nalv contact of deelname</td>\n",
       "      <td>unknown</td>\n",
       "      <td>2021-05-20</td>\n",
       "      <td>2026-01-01</td>\n",
       "    </tr>\n",
       "    <tr>\n",
       "      <th>2</th>\n",
       "      <td>0012D444-0A69-E111-B43A-00505680000A</td>\n",
       "      <td>GERAARDSBERGEN</td>\n",
       "      <td>0</td>\n",
       "      <td>1</td>\n",
       "      <td>Bedrijf</td>\n",
       "      <td>Diensten</td>\n",
       "      <td>None</td>\n",
       "      <td>DFECE67E-146F-E111-B43A-00505680000A</td>\n",
       "      <td>unknown</td>\n",
       "      <td>Geen gebruik</td>\n",
       "      <td>2012-03-02</td>\n",
       "      <td>2016-03-28</td>\n",
       "    </tr>\n",
       "    <tr>\n",
       "      <th>3</th>\n",
       "      <td>0014BCC0-075B-EB11-811A-001DD8B72B62</td>\n",
       "      <td>MEILEGEM</td>\n",
       "      <td>0</td>\n",
       "      <td>1</td>\n",
       "      <td>Bedrijf</td>\n",
       "      <td>Diensten</td>\n",
       "      <td>None</td>\n",
       "      <td>42A999FB-6F69-ED11-9561-6045BD8952CE</td>\n",
       "      <td>Actieve werving: koude prospectie</td>\n",
       "      <td>unknown</td>\n",
       "      <td>2022-11-18</td>\n",
       "      <td>2026-01-01</td>\n",
       "    </tr>\n",
       "    <tr>\n",
       "      <th>4</th>\n",
       "      <td>0016CAE8-BD68-E111-B43A-00505680000A</td>\n",
       "      <td>GENTBRUGGE</td>\n",
       "      <td>0</td>\n",
       "      <td>1</td>\n",
       "      <td>Bedrijf</td>\n",
       "      <td>Productie &amp; Diensten</td>\n",
       "      <td>Overige industrie &amp; diensten</td>\n",
       "      <td>36CF5725-FA6E-E111-B43A-00505680000A</td>\n",
       "      <td>unknown</td>\n",
       "      <td>unknown</td>\n",
       "      <td>2010-12-17</td>\n",
       "      <td>2026-01-01</td>\n",
       "    </tr>\n",
       "  </tbody>\n",
       "</table>\n",
       "</div>"
      ],
      "text/plain": [
       "                              accountID          plaats  isVokaEntiteit  \\\n",
       "0  00002DAC-0A69-E111-B43A-00505680000A          BEVERE               0   \n",
       "1  00025050-8D55-EB11-8117-001DD8B72B61           Melle               0   \n",
       "2  0012D444-0A69-E111-B43A-00505680000A  GERAARDSBERGEN               0   \n",
       "3  0014BCC0-075B-EB11-811A-001DD8B72B62        MEILEGEM               0   \n",
       "4  0016CAE8-BD68-E111-B43A-00505680000A      GENTBRUGGE               0   \n",
       "\n",
       "   accountStatus ondernemingstype      ondernemingsaard  \\\n",
       "0              1          Bedrijf              Diensten   \n",
       "1              1   Familiebedrijf              Diensten   \n",
       "2              1          Bedrijf              Diensten   \n",
       "3              1          Bedrijf              Diensten   \n",
       "4              1          Bedrijf  Productie & Diensten   \n",
       "\n",
       "                 activiteitNaam                        lidmaatschapID  \\\n",
       "0  Overige industrie & diensten  F10DF4A4-186F-E111-B43A-00505680000A   \n",
       "1                          None  EB02B961-EFC1-EB11-8123-001DD8B72B62   \n",
       "2                          None  DFECE67E-146F-E111-B43A-00505680000A   \n",
       "3                          None  42A999FB-6F69-ED11-9561-6045BD8952CE   \n",
       "4  Overige industrie & diensten  36CF5725-FA6E-E111-B43A-00505680000A   \n",
       "\n",
       "                                   redenAangroei  redenVerloop  startDatum  \\\n",
       "0                                        unknown       unknown  2011-12-07   \n",
       "1  Lead van een collega nalv contact of deelname       unknown  2021-05-20   \n",
       "2                                        unknown  Geen gebruik  2012-03-02   \n",
       "3              Actieve werving: koude prospectie       unknown  2022-11-18   \n",
       "4                                        unknown       unknown  2010-12-17   \n",
       "\n",
       "   opzegDatum  \n",
       "0  2013-12-31  \n",
       "1  2026-01-01  \n",
       "2  2016-03-28  \n",
       "3  2026-01-01  \n",
       "4  2026-01-01  "
      ]
     },
     "execution_count": 679,
     "metadata": {},
     "output_type": "execute_result"
    }
   ],
   "source": [
    "df_account_lid.head()"
   ]
  },
  {
   "cell_type": "markdown",
   "metadata": {},
   "source": [
    "We gaan nu kijken naar de accounts waarvoor de accountStatus = 0. Dit zijn accounts die hun lidmaatschap hebben opgezegd. We willen nu achterhalen waarom ze dit hebben gedaan."
   ]
  },
  {
   "cell_type": "markdown",
   "metadata": {},
   "source": [
    "De meeste info die we hier voorlopig uit kunnen halen is voorlopig bij de reden 'Geen gebruik'. 'Unknown' is namelijk niet bruikbaar en 'Stopzetting' is te vaag. We gaan dus kijken naar de accounts waarvoor de reden 'Geen gebruik' is. (En we verwijderen de accounts waarvoor de reden 'Unknown' is => we maken nieuwe dataframe)"
   ]
  },
  {
   "cell_type": "code",
   "execution_count": 680,
   "metadata": {},
   "outputs": [
    {
     "name": "stdout",
     "output_type": "stream",
     "text": [
      "[datetime.date(2013, 12, 31) datetime.date(2026, 1, 1)\n",
      " datetime.date(2016, 3, 28) ... datetime.date(2016, 3, 17)\n",
      " datetime.date(2012, 10, 25) datetime.date(2014, 4, 22)]\n"
     ]
    }
   ],
   "source": [
    "print(df_account_lid['opzegDatum'].unique())"
   ]
  },
  {
   "cell_type": "code",
   "execution_count": 681,
   "metadata": {},
   "outputs": [
    {
     "data": {
      "text/plain": [
       "(4060, 12)"
      ]
     },
     "execution_count": 681,
     "metadata": {},
     "output_type": "execute_result"
    }
   ],
   "source": [
    "#opzegdatum omzetten naar string\n",
    "df_account_lid['opzegDatum'] = df_account_lid['opzegDatum'].astype(str)\n",
    "#we splitsen de dataframes in accounts waarvoor de opzegtdatum = 1950-01-01 en accounts waarvoor de opzegdatum != 1950-01-01\n",
    "df_account_ACTIEF = df_account_lid[df_account_lid['opzegDatum'] == '2026-01-01']\n",
    "df_account_INACTIEF = df_account_lid[df_account_lid['opzegDatum'] != '2026-01-01']\n",
    "\n",
    "df_account_INACTIEF.shape\n"
   ]
  },
  {
   "cell_type": "code",
   "execution_count": 682,
   "metadata": {},
   "outputs": [],
   "source": [
    "# #we verwijderen de rijen waarvoor redenVerloop = \"unkown\"\n",
    "# df_account_INACTIEF = df_account_INACTIEF[df_account_INACTIEF['redenVerloop'] != 'unknown']\n",
    "# df_account_INACTIEF.shape"
   ]
  },
  {
   "cell_type": "code",
   "execution_count": 683,
   "metadata": {},
   "outputs": [
    {
     "data": {
      "text/plain": [
       "redenVerloop\n",
       "unknown                      1841\n",
       "Geen gebruik                 1007\n",
       "Stopzetting                   409\n",
       "Overzetting lidmaatschap      312\n",
       "Wanbetaler                    139\n",
       "Geen meerwaarde                90\n",
       "Ontevreden/klacht              84\n",
       "Prijs                          82\n",
       "Faillissement                  75\n",
       "Overname                       17\n",
       "FinanciÃ«le moeilijkheden       4\n",
       "Name: count, dtype: int64"
      ]
     },
     "execution_count": 683,
     "metadata": {},
     "output_type": "execute_result"
    }
   ],
   "source": [
    "#nagaan voor accounts met accountStatus = 0, wat redenVerloop is + sinds wanneer\n",
    "df_account_INACTIEF['redenVerloop'].value_counts()\n"
   ]
  },
  {
   "cell_type": "code",
   "execution_count": 684,
   "metadata": {},
   "outputs": [
    {
     "data": {
      "text/html": [
       "<div>\n",
       "<style scoped>\n",
       "    .dataframe tbody tr th:only-of-type {\n",
       "        vertical-align: middle;\n",
       "    }\n",
       "\n",
       "    .dataframe tbody tr th {\n",
       "        vertical-align: top;\n",
       "    }\n",
       "\n",
       "    .dataframe thead th {\n",
       "        text-align: right;\n",
       "    }\n",
       "</style>\n",
       "<table border=\"1\" class=\"dataframe\">\n",
       "  <thead>\n",
       "    <tr style=\"text-align: right;\">\n",
       "      <th></th>\n",
       "      <th>accountID</th>\n",
       "      <th>plaats</th>\n",
       "      <th>isVokaEntiteit</th>\n",
       "      <th>accountStatus</th>\n",
       "      <th>ondernemingstype</th>\n",
       "      <th>ondernemingsaard</th>\n",
       "      <th>activiteitNaam</th>\n",
       "      <th>lidmaatschapID</th>\n",
       "      <th>redenAangroei</th>\n",
       "      <th>redenVerloop</th>\n",
       "      <th>startDatum</th>\n",
       "      <th>opzegDatum</th>\n",
       "    </tr>\n",
       "  </thead>\n",
       "  <tbody>\n",
       "    <tr>\n",
       "      <th>1</th>\n",
       "      <td>00025050-8D55-EB11-8117-001DD8B72B61</td>\n",
       "      <td>Melle</td>\n",
       "      <td>0</td>\n",
       "      <td>1</td>\n",
       "      <td>Familiebedrijf</td>\n",
       "      <td>Diensten</td>\n",
       "      <td>None</td>\n",
       "      <td>EB02B961-EFC1-EB11-8123-001DD8B72B62</td>\n",
       "      <td>Lead van een collega nalv contact of deelname</td>\n",
       "      <td>unknown</td>\n",
       "      <td>2021-05-20</td>\n",
       "      <td>2026-01-01</td>\n",
       "    </tr>\n",
       "    <tr>\n",
       "      <th>3</th>\n",
       "      <td>0014BCC0-075B-EB11-811A-001DD8B72B62</td>\n",
       "      <td>MEILEGEM</td>\n",
       "      <td>0</td>\n",
       "      <td>1</td>\n",
       "      <td>Bedrijf</td>\n",
       "      <td>Diensten</td>\n",
       "      <td>None</td>\n",
       "      <td>42A999FB-6F69-ED11-9561-6045BD8952CE</td>\n",
       "      <td>Actieve werving: koude prospectie</td>\n",
       "      <td>unknown</td>\n",
       "      <td>2022-11-18</td>\n",
       "      <td>2026-01-01</td>\n",
       "    </tr>\n",
       "    <tr>\n",
       "      <th>4</th>\n",
       "      <td>0016CAE8-BD68-E111-B43A-00505680000A</td>\n",
       "      <td>GENTBRUGGE</td>\n",
       "      <td>0</td>\n",
       "      <td>1</td>\n",
       "      <td>Bedrijf</td>\n",
       "      <td>Productie &amp; Diensten</td>\n",
       "      <td>Overige industrie &amp; diensten</td>\n",
       "      <td>36CF5725-FA6E-E111-B43A-00505680000A</td>\n",
       "      <td>unknown</td>\n",
       "      <td>unknown</td>\n",
       "      <td>2010-12-17</td>\n",
       "      <td>2026-01-01</td>\n",
       "    </tr>\n",
       "    <tr>\n",
       "      <th>5</th>\n",
       "      <td>002304C8-C268-E111-B43A-00505680000A</td>\n",
       "      <td>BUGGENHOUT</td>\n",
       "      <td>0</td>\n",
       "      <td>1</td>\n",
       "      <td>Familiebedrijf</td>\n",
       "      <td>Productie</td>\n",
       "      <td>None</td>\n",
       "      <td>2ACEEBEE-126F-E111-B43A-00505680000A</td>\n",
       "      <td>unknown</td>\n",
       "      <td>unknown</td>\n",
       "      <td>2007-01-01</td>\n",
       "      <td>2026-01-01</td>\n",
       "    </tr>\n",
       "    <tr>\n",
       "      <th>6</th>\n",
       "      <td>002C0FBC-C268-E111-B43A-00505680000A</td>\n",
       "      <td>Hamme (O.-Vl.)</td>\n",
       "      <td>0</td>\n",
       "      <td>1</td>\n",
       "      <td>Familiebedrijf</td>\n",
       "      <td>Productie &amp; Diensten</td>\n",
       "      <td>Ijzer en staal</td>\n",
       "      <td>A6713FE6-FB6E-E111-B43A-00505680000A</td>\n",
       "      <td>unknown</td>\n",
       "      <td>unknown</td>\n",
       "      <td>2007-01-01</td>\n",
       "      <td>2026-01-01</td>\n",
       "    </tr>\n",
       "    <tr>\n",
       "      <th>8</th>\n",
       "      <td>003EB9D8-0A29-E811-80F0-001DD8B72B61</td>\n",
       "      <td>Ledeberg</td>\n",
       "      <td>0</td>\n",
       "      <td>1</td>\n",
       "      <td>Bedrijf</td>\n",
       "      <td>Diensten</td>\n",
       "      <td>None</td>\n",
       "      <td>CF9E5EAE-41C6-E811-80F5-001DD8B72B62</td>\n",
       "      <td>Actieve werving: koude prospectie</td>\n",
       "      <td>unknown</td>\n",
       "      <td>2018-10-01</td>\n",
       "      <td>2026-01-01</td>\n",
       "    </tr>\n",
       "    <tr>\n",
       "      <th>9</th>\n",
       "      <td>004CB1A1-4C92-ED11-AAD1-6045BD895D85</td>\n",
       "      <td>Gent</td>\n",
       "      <td>0</td>\n",
       "      <td>1</td>\n",
       "      <td>Bedrijf</td>\n",
       "      <td>Diensten</td>\n",
       "      <td>None</td>\n",
       "      <td>C6A46201-4E92-ED11-AAD1-6045BD895D85</td>\n",
       "      <td>unknown</td>\n",
       "      <td>unknown</td>\n",
       "      <td>2023-01-09</td>\n",
       "      <td>2026-01-01</td>\n",
       "    </tr>\n",
       "    <tr>\n",
       "      <th>10</th>\n",
       "      <td>004E24A6-0A69-E111-B43A-00505680000A</td>\n",
       "      <td>DENDERMONDE</td>\n",
       "      <td>0</td>\n",
       "      <td>1</td>\n",
       "      <td>Bedrijf</td>\n",
       "      <td>Diensten</td>\n",
       "      <td>Telecom &amp; IT</td>\n",
       "      <td>CF25E5EF-E76E-E111-B43A-00505680000A</td>\n",
       "      <td>unknown</td>\n",
       "      <td>unknown</td>\n",
       "      <td>2012-01-17</td>\n",
       "      <td>2026-01-01</td>\n",
       "    </tr>\n",
       "    <tr>\n",
       "      <th>11</th>\n",
       "      <td>0059AC0E-2D17-EA11-8109-001DD8B72B62</td>\n",
       "      <td>SINT-MARTENS-LATEM</td>\n",
       "      <td>0</td>\n",
       "      <td>1</td>\n",
       "      <td>Bedrijf</td>\n",
       "      <td>Diensten</td>\n",
       "      <td>None</td>\n",
       "      <td>9F9DF7C6-2D17-EA11-8109-001DD8B72B62</td>\n",
       "      <td>Actieve werving: koude prospectie</td>\n",
       "      <td>unknown</td>\n",
       "      <td>2019-11-30</td>\n",
       "      <td>2026-01-01</td>\n",
       "    </tr>\n",
       "    <tr>\n",
       "      <th>15</th>\n",
       "      <td>006A3322-F65B-E711-80E8-001DD8B72B61</td>\n",
       "      <td>DENDERMONDE</td>\n",
       "      <td>0</td>\n",
       "      <td>1</td>\n",
       "      <td>Bedrijf</td>\n",
       "      <td>Productie</td>\n",
       "      <td>None</td>\n",
       "      <td>B338E25F-F65B-E711-80E8-001DD8B72B61</td>\n",
       "      <td>unknown</td>\n",
       "      <td>Overzetting lidmaatschap</td>\n",
       "      <td>2007-01-01</td>\n",
       "      <td>2026-01-01</td>\n",
       "    </tr>\n",
       "  </tbody>\n",
       "</table>\n",
       "</div>"
      ],
      "text/plain": [
       "                               accountID              plaats  isVokaEntiteit  \\\n",
       "1   00025050-8D55-EB11-8117-001DD8B72B61               Melle               0   \n",
       "3   0014BCC0-075B-EB11-811A-001DD8B72B62            MEILEGEM               0   \n",
       "4   0016CAE8-BD68-E111-B43A-00505680000A          GENTBRUGGE               0   \n",
       "5   002304C8-C268-E111-B43A-00505680000A          BUGGENHOUT               0   \n",
       "6   002C0FBC-C268-E111-B43A-00505680000A      Hamme (O.-Vl.)               0   \n",
       "8   003EB9D8-0A29-E811-80F0-001DD8B72B61            Ledeberg               0   \n",
       "9   004CB1A1-4C92-ED11-AAD1-6045BD895D85                Gent               0   \n",
       "10  004E24A6-0A69-E111-B43A-00505680000A         DENDERMONDE               0   \n",
       "11  0059AC0E-2D17-EA11-8109-001DD8B72B62  SINT-MARTENS-LATEM               0   \n",
       "15  006A3322-F65B-E711-80E8-001DD8B72B61         DENDERMONDE               0   \n",
       "\n",
       "    accountStatus ondernemingstype      ondernemingsaard  \\\n",
       "1               1   Familiebedrijf              Diensten   \n",
       "3               1          Bedrijf              Diensten   \n",
       "4               1          Bedrijf  Productie & Diensten   \n",
       "5               1   Familiebedrijf             Productie   \n",
       "6               1   Familiebedrijf  Productie & Diensten   \n",
       "8               1          Bedrijf              Diensten   \n",
       "9               1          Bedrijf              Diensten   \n",
       "10              1          Bedrijf              Diensten   \n",
       "11              1          Bedrijf              Diensten   \n",
       "15              1          Bedrijf             Productie   \n",
       "\n",
       "                  activiteitNaam                        lidmaatschapID  \\\n",
       "1                           None  EB02B961-EFC1-EB11-8123-001DD8B72B62   \n",
       "3                           None  42A999FB-6F69-ED11-9561-6045BD8952CE   \n",
       "4   Overige industrie & diensten  36CF5725-FA6E-E111-B43A-00505680000A   \n",
       "5                           None  2ACEEBEE-126F-E111-B43A-00505680000A   \n",
       "6                 Ijzer en staal  A6713FE6-FB6E-E111-B43A-00505680000A   \n",
       "8                           None  CF9E5EAE-41C6-E811-80F5-001DD8B72B62   \n",
       "9                           None  C6A46201-4E92-ED11-AAD1-6045BD895D85   \n",
       "10                  Telecom & IT  CF25E5EF-E76E-E111-B43A-00505680000A   \n",
       "11                          None  9F9DF7C6-2D17-EA11-8109-001DD8B72B62   \n",
       "15                          None  B338E25F-F65B-E711-80E8-001DD8B72B61   \n",
       "\n",
       "                                    redenAangroei              redenVerloop  \\\n",
       "1   Lead van een collega nalv contact of deelname                   unknown   \n",
       "3               Actieve werving: koude prospectie                   unknown   \n",
       "4                                         unknown                   unknown   \n",
       "5                                         unknown                   unknown   \n",
       "6                                         unknown                   unknown   \n",
       "8               Actieve werving: koude prospectie                   unknown   \n",
       "9                                         unknown                   unknown   \n",
       "10                                        unknown                   unknown   \n",
       "11              Actieve werving: koude prospectie                   unknown   \n",
       "15                                        unknown  Overzetting lidmaatschap   \n",
       "\n",
       "    startDatum  opzegDatum  \n",
       "1   2021-05-20  2026-01-01  \n",
       "3   2022-11-18  2026-01-01  \n",
       "4   2010-12-17  2026-01-01  \n",
       "5   2007-01-01  2026-01-01  \n",
       "6   2007-01-01  2026-01-01  \n",
       "8   2018-10-01  2026-01-01  \n",
       "9   2023-01-09  2026-01-01  \n",
       "10  2012-01-17  2026-01-01  \n",
       "11  2019-11-30  2026-01-01  \n",
       "15  2007-01-01  2026-01-01  "
      ]
     },
     "execution_count": 684,
     "metadata": {},
     "output_type": "execute_result"
    }
   ],
   "source": [
    "df_account_ACTIEF.head(10)\n"
   ]
  },
  {
   "cell_type": "markdown",
   "metadata": {},
   "source": [
    "Nu willen we voor een bepaald accountID uit de dataframe df_account_INACTIEF de aantal inschrijvingen tellen (per campagne) per jaar. We willen dit doen voor telkens het jaar VOOR het jaar van de opzegDatum."
   ]
  },
  {
   "cell_type": "code",
   "execution_count": 685,
   "metadata": {},
   "outputs": [
    {
     "name": "stderr",
     "output_type": "stream",
     "text": [
      "C:\\Users\\emmad\\AppData\\Local\\Temp\\ipykernel_8868\\3134376907.py:2: SettingWithCopyWarning: \n",
      "A value is trying to be set on a copy of a slice from a DataFrame.\n",
      "Try using .loc[row_indexer,col_indexer] = value instead\n",
      "\n",
      "See the caveats in the documentation: https://pandas.pydata.org/pandas-docs/stable/user_guide/indexing.html#returning-a-view-versus-a-copy\n",
      "  df_account_INACTIEF['jaar'] = df_account_INACTIEF['opzegDatum'].str[:4]\n",
      "C:\\Users\\emmad\\AppData\\Local\\Temp\\ipykernel_8868\\3134376907.py:3: SettingWithCopyWarning: \n",
      "A value is trying to be set on a copy of a slice from a DataFrame.\n",
      "Try using .loc[row_indexer,col_indexer] = value instead\n",
      "\n",
      "See the caveats in the documentation: https://pandas.pydata.org/pandas-docs/stable/user_guide/indexing.html#returning-a-view-versus-a-copy\n",
      "  df_account_INACTIEF['voorbije_jaar'] = df_account_INACTIEF['jaar'].astype(int) - 1\n",
      "C:\\Users\\emmad\\AppData\\Local\\Temp\\ipykernel_8868\\3134376907.py:4: SettingWithCopyWarning: \n",
      "A value is trying to be set on a copy of a slice from a DataFrame\n",
      "\n",
      "See the caveats in the documentation: https://pandas.pydata.org/pandas-docs/stable/user_guide/indexing.html#returning-a-view-versus-a-copy\n",
      "  df_account_INACTIEF.drop('jaar', axis=1, inplace=True)\n"
     ]
    },
    {
     "data": {
      "text/html": [
       "<div>\n",
       "<style scoped>\n",
       "    .dataframe tbody tr th:only-of-type {\n",
       "        vertical-align: middle;\n",
       "    }\n",
       "\n",
       "    .dataframe tbody tr th {\n",
       "        vertical-align: top;\n",
       "    }\n",
       "\n",
       "    .dataframe thead th {\n",
       "        text-align: right;\n",
       "    }\n",
       "</style>\n",
       "<table border=\"1\" class=\"dataframe\">\n",
       "  <thead>\n",
       "    <tr style=\"text-align: right;\">\n",
       "      <th></th>\n",
       "      <th>accountID</th>\n",
       "      <th>plaats</th>\n",
       "      <th>isVokaEntiteit</th>\n",
       "      <th>accountStatus</th>\n",
       "      <th>ondernemingstype</th>\n",
       "      <th>ondernemingsaard</th>\n",
       "      <th>activiteitNaam</th>\n",
       "      <th>lidmaatschapID</th>\n",
       "      <th>redenAangroei</th>\n",
       "      <th>redenVerloop</th>\n",
       "      <th>startDatum</th>\n",
       "      <th>opzegDatum</th>\n",
       "      <th>voorbije_jaar</th>\n",
       "    </tr>\n",
       "  </thead>\n",
       "  <tbody>\n",
       "    <tr>\n",
       "      <th>0</th>\n",
       "      <td>00002DAC-0A69-E111-B43A-00505680000A</td>\n",
       "      <td>BEVERE</td>\n",
       "      <td>0</td>\n",
       "      <td>1</td>\n",
       "      <td>Bedrijf</td>\n",
       "      <td>Diensten</td>\n",
       "      <td>Overige industrie &amp; diensten</td>\n",
       "      <td>F10DF4A4-186F-E111-B43A-00505680000A</td>\n",
       "      <td>unknown</td>\n",
       "      <td>unknown</td>\n",
       "      <td>2011-12-07</td>\n",
       "      <td>2013-12-31</td>\n",
       "      <td>2012</td>\n",
       "    </tr>\n",
       "    <tr>\n",
       "      <th>2</th>\n",
       "      <td>0012D444-0A69-E111-B43A-00505680000A</td>\n",
       "      <td>GERAARDSBERGEN</td>\n",
       "      <td>0</td>\n",
       "      <td>1</td>\n",
       "      <td>Bedrijf</td>\n",
       "      <td>Diensten</td>\n",
       "      <td>None</td>\n",
       "      <td>DFECE67E-146F-E111-B43A-00505680000A</td>\n",
       "      <td>unknown</td>\n",
       "      <td>Geen gebruik</td>\n",
       "      <td>2012-03-02</td>\n",
       "      <td>2016-03-28</td>\n",
       "      <td>2015</td>\n",
       "    </tr>\n",
       "    <tr>\n",
       "      <th>7</th>\n",
       "      <td>003B965B-C268-E111-B43A-00505680000A</td>\n",
       "      <td>GENT</td>\n",
       "      <td>0</td>\n",
       "      <td>1</td>\n",
       "      <td>Bedrijf</td>\n",
       "      <td>Diensten</td>\n",
       "      <td>Telecom &amp; IT</td>\n",
       "      <td>D7D751D6-2D6F-E111-B43A-00505680000A</td>\n",
       "      <td>Actieve werving: koude prospectie</td>\n",
       "      <td>Geen gebruik</td>\n",
       "      <td>2013-07-04</td>\n",
       "      <td>2017-01-19</td>\n",
       "      <td>2016</td>\n",
       "    </tr>\n",
       "    <tr>\n",
       "      <th>12</th>\n",
       "      <td>005C6F7F-A268-E111-B43A-00505680000A</td>\n",
       "      <td>SINT-MARTENS-LATEM</td>\n",
       "      <td>0</td>\n",
       "      <td>1</td>\n",
       "      <td>Bedrijf</td>\n",
       "      <td>Diensten</td>\n",
       "      <td>None</td>\n",
       "      <td>4F8AA590-BA47-EC11-8C62-6045BD8D2834</td>\n",
       "      <td>Lead van een collega nalv contact of deelname</td>\n",
       "      <td>Prijs</td>\n",
       "      <td>2021-11-16</td>\n",
       "      <td>2021-12-30</td>\n",
       "      <td>2020</td>\n",
       "    </tr>\n",
       "    <tr>\n",
       "      <th>13</th>\n",
       "      <td>0062F706-0969-E111-B43A-00505680000A</td>\n",
       "      <td>DEINZE</td>\n",
       "      <td>0</td>\n",
       "      <td>1</td>\n",
       "      <td>Bedrijf</td>\n",
       "      <td>Productie</td>\n",
       "      <td>None</td>\n",
       "      <td>45C679CB-086F-E111-B43A-00505680000A</td>\n",
       "      <td>unknown</td>\n",
       "      <td>Geen gebruik</td>\n",
       "      <td>2007-01-02</td>\n",
       "      <td>2013-07-01</td>\n",
       "      <td>2012</td>\n",
       "    </tr>\n",
       "  </tbody>\n",
       "</table>\n",
       "</div>"
      ],
      "text/plain": [
       "                               accountID              plaats  isVokaEntiteit  \\\n",
       "0   00002DAC-0A69-E111-B43A-00505680000A              BEVERE               0   \n",
       "2   0012D444-0A69-E111-B43A-00505680000A      GERAARDSBERGEN               0   \n",
       "7   003B965B-C268-E111-B43A-00505680000A                GENT               0   \n",
       "12  005C6F7F-A268-E111-B43A-00505680000A  SINT-MARTENS-LATEM               0   \n",
       "13  0062F706-0969-E111-B43A-00505680000A              DEINZE               0   \n",
       "\n",
       "    accountStatus ondernemingstype ondernemingsaard  \\\n",
       "0               1          Bedrijf         Diensten   \n",
       "2               1          Bedrijf         Diensten   \n",
       "7               1          Bedrijf         Diensten   \n",
       "12              1          Bedrijf         Diensten   \n",
       "13              1          Bedrijf        Productie   \n",
       "\n",
       "                  activiteitNaam                        lidmaatschapID  \\\n",
       "0   Overige industrie & diensten  F10DF4A4-186F-E111-B43A-00505680000A   \n",
       "2                           None  DFECE67E-146F-E111-B43A-00505680000A   \n",
       "7                   Telecom & IT  D7D751D6-2D6F-E111-B43A-00505680000A   \n",
       "12                          None  4F8AA590-BA47-EC11-8C62-6045BD8D2834   \n",
       "13                          None  45C679CB-086F-E111-B43A-00505680000A   \n",
       "\n",
       "                                    redenAangroei  redenVerloop  startDatum  \\\n",
       "0                                         unknown       unknown  2011-12-07   \n",
       "2                                         unknown  Geen gebruik  2012-03-02   \n",
       "7               Actieve werving: koude prospectie  Geen gebruik  2013-07-04   \n",
       "12  Lead van een collega nalv contact of deelname         Prijs  2021-11-16   \n",
       "13                                        unknown  Geen gebruik  2007-01-02   \n",
       "\n",
       "    opzegDatum  voorbije_jaar  \n",
       "0   2013-12-31           2012  \n",
       "2   2016-03-28           2015  \n",
       "7   2017-01-19           2016  \n",
       "12  2021-12-30           2020  \n",
       "13  2013-07-01           2012  "
      ]
     },
     "execution_count": 685,
     "metadata": {},
     "output_type": "execute_result"
    }
   ],
   "source": [
    "#jaar voor opzegDatum per acountID bepalen\n",
    "df_account_INACTIEF['jaar'] = df_account_INACTIEF['opzegDatum'].str[:4] \n",
    "df_account_INACTIEF['voorbije_jaar'] = df_account_INACTIEF['jaar'].astype(int) - 1\n",
    "df_account_INACTIEF.drop('jaar', axis=1, inplace=True)\n",
    "\n",
    "df_account_INACTIEF.head()"
   ]
  },
  {
   "cell_type": "markdown",
   "metadata": {},
   "source": [
    "Nu hebben we dus de dataframe van accounts die hun lidmaatschap hebben opgezegd bij Voka + het jaar VOOR de opzegdatum van deze accounts. Nu gaan we voor dit jaar gaan tellen hoeveel inschrijvingen er zijn per accountID per campagne."
   ]
  },
  {
   "cell_type": "code",
   "execution_count": 686,
   "metadata": {},
   "outputs": [
    {
     "data": {
      "text/html": [
       "<div>\n",
       "<style scoped>\n",
       "    .dataframe tbody tr th:only-of-type {\n",
       "        vertical-align: middle;\n",
       "    }\n",
       "\n",
       "    .dataframe tbody tr th {\n",
       "        vertical-align: top;\n",
       "    }\n",
       "\n",
       "    .dataframe thead th {\n",
       "        text-align: right;\n",
       "    }\n",
       "</style>\n",
       "<table border=\"1\" class=\"dataframe\">\n",
       "  <thead>\n",
       "    <tr style=\"text-align: right;\">\n",
       "      <th></th>\n",
       "      <th>campagneID</th>\n",
       "      <th>facturatieBedrag</th>\n",
       "      <th>accountID</th>\n",
       "      <th>fullDate</th>\n",
       "      <th>jaar</th>\n",
       "    </tr>\n",
       "  </thead>\n",
       "  <tbody>\n",
       "    <tr>\n",
       "      <th>0</th>\n",
       "      <td>82D778E0-1EC3-E811-80F5-001DD8B72B62</td>\n",
       "      <td>3000</td>\n",
       "      <td>18C73253-C368-E111-B43A-00505680000A</td>\n",
       "      <td>2019-01-21</td>\n",
       "      <td>2019</td>\n",
       "    </tr>\n",
       "    <tr>\n",
       "      <th>1</th>\n",
       "      <td>82D778E0-1EC3-E811-80F5-001DD8B72B62</td>\n",
       "      <td>3000</td>\n",
       "      <td>18C73253-C368-E111-B43A-00505680000A</td>\n",
       "      <td>2019-01-21</td>\n",
       "      <td>2019</td>\n",
       "    </tr>\n",
       "    <tr>\n",
       "      <th>2</th>\n",
       "      <td>82D778E0-1EC3-E811-80F5-001DD8B72B62</td>\n",
       "      <td>3000</td>\n",
       "      <td>18C73253-C368-E111-B43A-00505680000A</td>\n",
       "      <td>2019-01-21</td>\n",
       "      <td>2019</td>\n",
       "    </tr>\n",
       "    <tr>\n",
       "      <th>3</th>\n",
       "      <td>82D778E0-1EC3-E811-80F5-001DD8B72B62</td>\n",
       "      <td>3000</td>\n",
       "      <td>18C73253-C368-E111-B43A-00505680000A</td>\n",
       "      <td>2019-01-21</td>\n",
       "      <td>2019</td>\n",
       "    </tr>\n",
       "    <tr>\n",
       "      <th>4</th>\n",
       "      <td>82D778E0-1EC3-E811-80F5-001DD8B72B62</td>\n",
       "      <td>3000</td>\n",
       "      <td>18C73253-C368-E111-B43A-00505680000A</td>\n",
       "      <td>2019-01-21</td>\n",
       "      <td>2019</td>\n",
       "    </tr>\n",
       "  </tbody>\n",
       "</table>\n",
       "</div>"
      ],
      "text/plain": [
       "                             campagneID facturatieBedrag  \\\n",
       "0  82D778E0-1EC3-E811-80F5-001DD8B72B62             3000   \n",
       "1  82D778E0-1EC3-E811-80F5-001DD8B72B62             3000   \n",
       "2  82D778E0-1EC3-E811-80F5-001DD8B72B62             3000   \n",
       "3  82D778E0-1EC3-E811-80F5-001DD8B72B62             3000   \n",
       "4  82D778E0-1EC3-E811-80F5-001DD8B72B62             3000   \n",
       "\n",
       "                              accountID    fullDate  jaar  \n",
       "0  18C73253-C368-E111-B43A-00505680000A  2019-01-21  2019  \n",
       "1  18C73253-C368-E111-B43A-00505680000A  2019-01-21  2019  \n",
       "2  18C73253-C368-E111-B43A-00505680000A  2019-01-21  2019  \n",
       "3  18C73253-C368-E111-B43A-00505680000A  2019-01-21  2019  \n",
       "4  18C73253-C368-E111-B43A-00505680000A  2019-01-21  2019  "
      ]
     },
     "execution_count": 686,
     "metadata": {},
     "output_type": "execute_result"
    }
   ],
   "source": [
    "#voorbereiding inschrijving\n",
    "df_inschrijving['fullDate'] = df_inschrijving['fullDate'].astype(str)\n",
    "df_inschrijving['jaar'] = df_inschrijving['fullDate'].str[:4]\n",
    "df_inschrijving['jaar'] = df_inschrijving['jaar'].astype(int)\n",
    "df_inschrijving.head()\n"
   ]
  },
  {
   "cell_type": "code",
   "execution_count": 687,
   "metadata": {},
   "outputs": [
    {
     "name": "stderr",
     "output_type": "stream",
     "text": [
      "C:\\Users\\emmad\\AppData\\Local\\Temp\\ipykernel_8868\\4123443639.py:5: SettingWithCopyWarning: \n",
      "A value is trying to be set on a copy of a slice from a DataFrame.\n",
      "Try using .loc[row_indexer,col_indexer] = value instead\n",
      "\n",
      "See the caveats in the documentation: https://pandas.pydata.org/pandas-docs/stable/user_guide/indexing.html#returning-a-view-versus-a-copy\n",
      "  df_account_INACTIEF.loc[i, 'aantal_inschrijvingen'] = df_inschrijving[(df_inschrijving['accountID'] == accountID) & (df_inschrijving['jaar'] == voorbije_jaar)]['accountID'].count()\n"
     ]
    }
   ],
   "source": [
    "#hoeveel inschrijvingen per accountID van df_account_INACTIEF in het voorbije jaar (zie kolom voorbije_jaar in df) per campagneID\n",
    "for i, row in df_account_INACTIEF.iterrows():\n",
    "    accountID = row['accountID']\n",
    "    voorbije_jaar = row['voorbije_jaar']\n",
    "    df_account_INACTIEF.loc[i, 'aantal_inschrijvingen'] = df_inschrijving[(df_inschrijving['accountID'] == accountID) & (df_inschrijving['jaar'] == voorbije_jaar)]['accountID'].count()"
   ]
  },
  {
   "cell_type": "code",
   "execution_count": 688,
   "metadata": {},
   "outputs": [
    {
     "data": {
      "text/html": [
       "<div>\n",
       "<style scoped>\n",
       "    .dataframe tbody tr th:only-of-type {\n",
       "        vertical-align: middle;\n",
       "    }\n",
       "\n",
       "    .dataframe tbody tr th {\n",
       "        vertical-align: top;\n",
       "    }\n",
       "\n",
       "    .dataframe thead th {\n",
       "        text-align: right;\n",
       "    }\n",
       "</style>\n",
       "<table border=\"1\" class=\"dataframe\">\n",
       "  <thead>\n",
       "    <tr style=\"text-align: right;\">\n",
       "      <th></th>\n",
       "      <th>accountID</th>\n",
       "      <th>plaats</th>\n",
       "      <th>isVokaEntiteit</th>\n",
       "      <th>accountStatus</th>\n",
       "      <th>ondernemingstype</th>\n",
       "      <th>ondernemingsaard</th>\n",
       "      <th>activiteitNaam</th>\n",
       "      <th>lidmaatschapID</th>\n",
       "      <th>redenAangroei</th>\n",
       "      <th>redenVerloop</th>\n",
       "      <th>startDatum</th>\n",
       "      <th>opzegDatum</th>\n",
       "      <th>voorbije_jaar</th>\n",
       "      <th>aantal_inschrijvingen</th>\n",
       "    </tr>\n",
       "  </thead>\n",
       "  <tbody>\n",
       "    <tr>\n",
       "      <th>0</th>\n",
       "      <td>00002DAC-0A69-E111-B43A-00505680000A</td>\n",
       "      <td>BEVERE</td>\n",
       "      <td>0</td>\n",
       "      <td>1</td>\n",
       "      <td>Bedrijf</td>\n",
       "      <td>Diensten</td>\n",
       "      <td>Overige industrie &amp; diensten</td>\n",
       "      <td>F10DF4A4-186F-E111-B43A-00505680000A</td>\n",
       "      <td>unknown</td>\n",
       "      <td>unknown</td>\n",
       "      <td>2011-12-07</td>\n",
       "      <td>2013-12-31</td>\n",
       "      <td>2012</td>\n",
       "      <td>0.0</td>\n",
       "    </tr>\n",
       "    <tr>\n",
       "      <th>2</th>\n",
       "      <td>0012D444-0A69-E111-B43A-00505680000A</td>\n",
       "      <td>GERAARDSBERGEN</td>\n",
       "      <td>0</td>\n",
       "      <td>1</td>\n",
       "      <td>Bedrijf</td>\n",
       "      <td>Diensten</td>\n",
       "      <td>None</td>\n",
       "      <td>DFECE67E-146F-E111-B43A-00505680000A</td>\n",
       "      <td>unknown</td>\n",
       "      <td>Geen gebruik</td>\n",
       "      <td>2012-03-02</td>\n",
       "      <td>2016-03-28</td>\n",
       "      <td>2015</td>\n",
       "      <td>0.0</td>\n",
       "    </tr>\n",
       "    <tr>\n",
       "      <th>7</th>\n",
       "      <td>003B965B-C268-E111-B43A-00505680000A</td>\n",
       "      <td>GENT</td>\n",
       "      <td>0</td>\n",
       "      <td>1</td>\n",
       "      <td>Bedrijf</td>\n",
       "      <td>Diensten</td>\n",
       "      <td>Telecom &amp; IT</td>\n",
       "      <td>D7D751D6-2D6F-E111-B43A-00505680000A</td>\n",
       "      <td>Actieve werving: koude prospectie</td>\n",
       "      <td>Geen gebruik</td>\n",
       "      <td>2013-07-04</td>\n",
       "      <td>2017-01-19</td>\n",
       "      <td>2016</td>\n",
       "      <td>0.0</td>\n",
       "    </tr>\n",
       "    <tr>\n",
       "      <th>12</th>\n",
       "      <td>005C6F7F-A268-E111-B43A-00505680000A</td>\n",
       "      <td>SINT-MARTENS-LATEM</td>\n",
       "      <td>0</td>\n",
       "      <td>1</td>\n",
       "      <td>Bedrijf</td>\n",
       "      <td>Diensten</td>\n",
       "      <td>None</td>\n",
       "      <td>4F8AA590-BA47-EC11-8C62-6045BD8D2834</td>\n",
       "      <td>Lead van een collega nalv contact of deelname</td>\n",
       "      <td>Prijs</td>\n",
       "      <td>2021-11-16</td>\n",
       "      <td>2021-12-30</td>\n",
       "      <td>2020</td>\n",
       "      <td>0.0</td>\n",
       "    </tr>\n",
       "    <tr>\n",
       "      <th>13</th>\n",
       "      <td>0062F706-0969-E111-B43A-00505680000A</td>\n",
       "      <td>DEINZE</td>\n",
       "      <td>0</td>\n",
       "      <td>1</td>\n",
       "      <td>Bedrijf</td>\n",
       "      <td>Productie</td>\n",
       "      <td>None</td>\n",
       "      <td>45C679CB-086F-E111-B43A-00505680000A</td>\n",
       "      <td>unknown</td>\n",
       "      <td>Geen gebruik</td>\n",
       "      <td>2007-01-02</td>\n",
       "      <td>2013-07-01</td>\n",
       "      <td>2012</td>\n",
       "      <td>0.0</td>\n",
       "    </tr>\n",
       "  </tbody>\n",
       "</table>\n",
       "</div>"
      ],
      "text/plain": [
       "                               accountID              plaats  isVokaEntiteit  \\\n",
       "0   00002DAC-0A69-E111-B43A-00505680000A              BEVERE               0   \n",
       "2   0012D444-0A69-E111-B43A-00505680000A      GERAARDSBERGEN               0   \n",
       "7   003B965B-C268-E111-B43A-00505680000A                GENT               0   \n",
       "12  005C6F7F-A268-E111-B43A-00505680000A  SINT-MARTENS-LATEM               0   \n",
       "13  0062F706-0969-E111-B43A-00505680000A              DEINZE               0   \n",
       "\n",
       "    accountStatus ondernemingstype ondernemingsaard  \\\n",
       "0               1          Bedrijf         Diensten   \n",
       "2               1          Bedrijf         Diensten   \n",
       "7               1          Bedrijf         Diensten   \n",
       "12              1          Bedrijf         Diensten   \n",
       "13              1          Bedrijf        Productie   \n",
       "\n",
       "                  activiteitNaam                        lidmaatschapID  \\\n",
       "0   Overige industrie & diensten  F10DF4A4-186F-E111-B43A-00505680000A   \n",
       "2                           None  DFECE67E-146F-E111-B43A-00505680000A   \n",
       "7                   Telecom & IT  D7D751D6-2D6F-E111-B43A-00505680000A   \n",
       "12                          None  4F8AA590-BA47-EC11-8C62-6045BD8D2834   \n",
       "13                          None  45C679CB-086F-E111-B43A-00505680000A   \n",
       "\n",
       "                                    redenAangroei  redenVerloop  startDatum  \\\n",
       "0                                         unknown       unknown  2011-12-07   \n",
       "2                                         unknown  Geen gebruik  2012-03-02   \n",
       "7               Actieve werving: koude prospectie  Geen gebruik  2013-07-04   \n",
       "12  Lead van een collega nalv contact of deelname         Prijs  2021-11-16   \n",
       "13                                        unknown  Geen gebruik  2007-01-02   \n",
       "\n",
       "    opzegDatum  voorbije_jaar  aantal_inschrijvingen  \n",
       "0   2013-12-31           2012                    0.0  \n",
       "2   2016-03-28           2015                    0.0  \n",
       "7   2017-01-19           2016                    0.0  \n",
       "12  2021-12-30           2020                    0.0  \n",
       "13  2013-07-01           2012                    0.0  "
      ]
     },
     "execution_count": 688,
     "metadata": {},
     "output_type": "execute_result"
    }
   ],
   "source": [
    "df_account_INACTIEF.head()"
   ]
  },
  {
   "cell_type": "code",
   "execution_count": 689,
   "metadata": {},
   "outputs": [
    {
     "data": {
      "text/plain": [
       "3671"
      ]
     },
     "execution_count": 689,
     "metadata": {},
     "output_type": "execute_result"
    }
   ],
   "source": [
    "# voor hoeveel accounts is aantal inschrijvingen = 0\n",
    "df_account_INACTIEF[df_account_INACTIEF['aantal_inschrijvingen'] == 0]['accountID'].count()"
   ]
  },
  {
   "cell_type": "code",
   "execution_count": 690,
   "metadata": {},
   "outputs": [
    {
     "name": "stderr",
     "output_type": "stream",
     "text": [
      "C:\\Users\\emmad\\AppData\\Local\\Temp\\ipykernel_8868\\3430865321.py:1: SettingWithCopyWarning: \n",
      "A value is trying to be set on a copy of a slice from a DataFrame.\n",
      "Try using .loc[row_indexer,col_indexer] = value instead\n",
      "\n",
      "See the caveats in the documentation: https://pandas.pydata.org/pandas-docs/stable/user_guide/indexing.html#returning-a-view-versus-a-copy\n",
      "  df_account_ACTIEF['voorbije_jaar'] = 2022\n"
     ]
    },
    {
     "data": {
      "text/plain": [
       "(2552, 13)"
      ]
     },
     "execution_count": 690,
     "metadata": {},
     "output_type": "execute_result"
    }
   ],
   "source": [
    "df_account_ACTIEF['voorbije_jaar'] = 2022\n",
    "df_account_ACTIEF.shape"
   ]
  },
  {
   "cell_type": "code",
   "execution_count": 691,
   "metadata": {},
   "outputs": [
    {
     "name": "stderr",
     "output_type": "stream",
     "text": [
      "C:\\Users\\emmad\\AppData\\Local\\Temp\\ipykernel_8868\\20846879.py:4: SettingWithCopyWarning: \n",
      "A value is trying to be set on a copy of a slice from a DataFrame.\n",
      "Try using .loc[row_indexer,col_indexer] = value instead\n",
      "\n",
      "See the caveats in the documentation: https://pandas.pydata.org/pandas-docs/stable/user_guide/indexing.html#returning-a-view-versus-a-copy\n",
      "  df_account_ACTIEF.loc[i, 'aantal_inschrijvingen'] = df_inschrijving[(df_inschrijving['accountID'] == accountID) & (df_inschrijving['jaar'] == voorbije_jaar)]['accountID'].count()\n"
     ]
    }
   ],
   "source": [
    "for i, row in df_account_ACTIEF.iterrows():\n",
    "    accountID = row['accountID']\n",
    "    voorbije_jaar = row['voorbije_jaar']\n",
    "    df_account_ACTIEF.loc[i, 'aantal_inschrijvingen'] = df_inschrijving[(df_inschrijving['accountID'] == accountID) & (df_inschrijving['jaar'] == voorbije_jaar)]['accountID'].count()"
   ]
  },
  {
   "cell_type": "code",
   "execution_count": 692,
   "metadata": {},
   "outputs": [
    {
     "data": {
      "text/html": [
       "<div>\n",
       "<style scoped>\n",
       "    .dataframe tbody tr th:only-of-type {\n",
       "        vertical-align: middle;\n",
       "    }\n",
       "\n",
       "    .dataframe tbody tr th {\n",
       "        vertical-align: top;\n",
       "    }\n",
       "\n",
       "    .dataframe thead th {\n",
       "        text-align: right;\n",
       "    }\n",
       "</style>\n",
       "<table border=\"1\" class=\"dataframe\">\n",
       "  <thead>\n",
       "    <tr style=\"text-align: right;\">\n",
       "      <th></th>\n",
       "      <th>accountID</th>\n",
       "      <th>plaats</th>\n",
       "      <th>isVokaEntiteit</th>\n",
       "      <th>accountStatus</th>\n",
       "      <th>ondernemingstype</th>\n",
       "      <th>ondernemingsaard</th>\n",
       "      <th>activiteitNaam</th>\n",
       "      <th>lidmaatschapID</th>\n",
       "      <th>redenAangroei</th>\n",
       "      <th>redenVerloop</th>\n",
       "      <th>startDatum</th>\n",
       "      <th>opzegDatum</th>\n",
       "      <th>voorbije_jaar</th>\n",
       "      <th>aantal_inschrijvingen</th>\n",
       "    </tr>\n",
       "  </thead>\n",
       "  <tbody>\n",
       "    <tr>\n",
       "      <th>1</th>\n",
       "      <td>00025050-8D55-EB11-8117-001DD8B72B61</td>\n",
       "      <td>Melle</td>\n",
       "      <td>0</td>\n",
       "      <td>1</td>\n",
       "      <td>Familiebedrijf</td>\n",
       "      <td>Diensten</td>\n",
       "      <td>None</td>\n",
       "      <td>EB02B961-EFC1-EB11-8123-001DD8B72B62</td>\n",
       "      <td>Lead van een collega nalv contact of deelname</td>\n",
       "      <td>unknown</td>\n",
       "      <td>2021-05-20</td>\n",
       "      <td>2026-01-01</td>\n",
       "      <td>2022</td>\n",
       "      <td>0.0</td>\n",
       "    </tr>\n",
       "    <tr>\n",
       "      <th>3</th>\n",
       "      <td>0014BCC0-075B-EB11-811A-001DD8B72B62</td>\n",
       "      <td>MEILEGEM</td>\n",
       "      <td>0</td>\n",
       "      <td>1</td>\n",
       "      <td>Bedrijf</td>\n",
       "      <td>Diensten</td>\n",
       "      <td>None</td>\n",
       "      <td>42A999FB-6F69-ED11-9561-6045BD8952CE</td>\n",
       "      <td>Actieve werving: koude prospectie</td>\n",
       "      <td>unknown</td>\n",
       "      <td>2022-11-18</td>\n",
       "      <td>2026-01-01</td>\n",
       "      <td>2022</td>\n",
       "      <td>5.0</td>\n",
       "    </tr>\n",
       "    <tr>\n",
       "      <th>4</th>\n",
       "      <td>0016CAE8-BD68-E111-B43A-00505680000A</td>\n",
       "      <td>GENTBRUGGE</td>\n",
       "      <td>0</td>\n",
       "      <td>1</td>\n",
       "      <td>Bedrijf</td>\n",
       "      <td>Productie &amp; Diensten</td>\n",
       "      <td>Overige industrie &amp; diensten</td>\n",
       "      <td>36CF5725-FA6E-E111-B43A-00505680000A</td>\n",
       "      <td>unknown</td>\n",
       "      <td>unknown</td>\n",
       "      <td>2010-12-17</td>\n",
       "      <td>2026-01-01</td>\n",
       "      <td>2022</td>\n",
       "      <td>0.0</td>\n",
       "    </tr>\n",
       "    <tr>\n",
       "      <th>5</th>\n",
       "      <td>002304C8-C268-E111-B43A-00505680000A</td>\n",
       "      <td>BUGGENHOUT</td>\n",
       "      <td>0</td>\n",
       "      <td>1</td>\n",
       "      <td>Familiebedrijf</td>\n",
       "      <td>Productie</td>\n",
       "      <td>None</td>\n",
       "      <td>2ACEEBEE-126F-E111-B43A-00505680000A</td>\n",
       "      <td>unknown</td>\n",
       "      <td>unknown</td>\n",
       "      <td>2007-01-01</td>\n",
       "      <td>2026-01-01</td>\n",
       "      <td>2022</td>\n",
       "      <td>0.0</td>\n",
       "    </tr>\n",
       "    <tr>\n",
       "      <th>6</th>\n",
       "      <td>002C0FBC-C268-E111-B43A-00505680000A</td>\n",
       "      <td>Hamme (O.-Vl.)</td>\n",
       "      <td>0</td>\n",
       "      <td>1</td>\n",
       "      <td>Familiebedrijf</td>\n",
       "      <td>Productie &amp; Diensten</td>\n",
       "      <td>Ijzer en staal</td>\n",
       "      <td>A6713FE6-FB6E-E111-B43A-00505680000A</td>\n",
       "      <td>unknown</td>\n",
       "      <td>unknown</td>\n",
       "      <td>2007-01-01</td>\n",
       "      <td>2026-01-01</td>\n",
       "      <td>2022</td>\n",
       "      <td>16.0</td>\n",
       "    </tr>\n",
       "  </tbody>\n",
       "</table>\n",
       "</div>"
      ],
      "text/plain": [
       "                              accountID          plaats  isVokaEntiteit  \\\n",
       "1  00025050-8D55-EB11-8117-001DD8B72B61           Melle               0   \n",
       "3  0014BCC0-075B-EB11-811A-001DD8B72B62        MEILEGEM               0   \n",
       "4  0016CAE8-BD68-E111-B43A-00505680000A      GENTBRUGGE               0   \n",
       "5  002304C8-C268-E111-B43A-00505680000A      BUGGENHOUT               0   \n",
       "6  002C0FBC-C268-E111-B43A-00505680000A  Hamme (O.-Vl.)               0   \n",
       "\n",
       "   accountStatus ondernemingstype      ondernemingsaard  \\\n",
       "1              1   Familiebedrijf              Diensten   \n",
       "3              1          Bedrijf              Diensten   \n",
       "4              1          Bedrijf  Productie & Diensten   \n",
       "5              1   Familiebedrijf             Productie   \n",
       "6              1   Familiebedrijf  Productie & Diensten   \n",
       "\n",
       "                 activiteitNaam                        lidmaatschapID  \\\n",
       "1                          None  EB02B961-EFC1-EB11-8123-001DD8B72B62   \n",
       "3                          None  42A999FB-6F69-ED11-9561-6045BD8952CE   \n",
       "4  Overige industrie & diensten  36CF5725-FA6E-E111-B43A-00505680000A   \n",
       "5                          None  2ACEEBEE-126F-E111-B43A-00505680000A   \n",
       "6                Ijzer en staal  A6713FE6-FB6E-E111-B43A-00505680000A   \n",
       "\n",
       "                                   redenAangroei redenVerloop  startDatum  \\\n",
       "1  Lead van een collega nalv contact of deelname      unknown  2021-05-20   \n",
       "3              Actieve werving: koude prospectie      unknown  2022-11-18   \n",
       "4                                        unknown      unknown  2010-12-17   \n",
       "5                                        unknown      unknown  2007-01-01   \n",
       "6                                        unknown      unknown  2007-01-01   \n",
       "\n",
       "   opzegDatum  voorbije_jaar  aantal_inschrijvingen  \n",
       "1  2026-01-01           2022                    0.0  \n",
       "3  2026-01-01           2022                    5.0  \n",
       "4  2026-01-01           2022                    0.0  \n",
       "5  2026-01-01           2022                    0.0  \n",
       "6  2026-01-01           2022                   16.0  "
      ]
     },
     "execution_count": 692,
     "metadata": {},
     "output_type": "execute_result"
    }
   ],
   "source": [
    "df_account_ACTIEF.head()"
   ]
  },
  {
   "cell_type": "code",
   "execution_count": 693,
   "metadata": {},
   "outputs": [
    {
     "data": {
      "text/plain": [
       "1251"
      ]
     },
     "execution_count": 693,
     "metadata": {},
     "output_type": "execute_result"
    }
   ],
   "source": [
    "# voor hoeveel accounts is aantal inschrijvingen = 0\n",
    "df_account_ACTIEF[df_account_ACTIEF['aantal_inschrijvingen'] == 0]['accountID'].count()"
   ]
  },
  {
   "cell_type": "code",
   "execution_count": 694,
   "metadata": {},
   "outputs": [
    {
     "name": "stderr",
     "output_type": "stream",
     "text": [
      "C:\\Users\\emmad\\AppData\\Local\\Temp\\ipykernel_8868\\3507007459.py:2: SettingWithCopyWarning: \n",
      "A value is trying to be set on a copy of a slice from a DataFrame.\n",
      "Try using .loc[row_indexer,col_indexer] = value instead\n",
      "\n",
      "See the caveats in the documentation: https://pandas.pydata.org/pandas-docs/stable/user_guide/indexing.html#returning-a-view-versus-a-copy\n",
      "  df_account_ACTIEF['lidmaatschap_actief'] = 1\n",
      "C:\\Users\\emmad\\AppData\\Local\\Temp\\ipykernel_8868\\3507007459.py:3: SettingWithCopyWarning: \n",
      "A value is trying to be set on a copy of a slice from a DataFrame.\n",
      "Try using .loc[row_indexer,col_indexer] = value instead\n",
      "\n",
      "See the caveats in the documentation: https://pandas.pydata.org/pandas-docs/stable/user_guide/indexing.html#returning-a-view-versus-a-copy\n",
      "  df_account_INACTIEF['lidmaatschap_actief'] = 0\n"
     ]
    }
   ],
   "source": [
    "#we voegen lidmaatschap_actief kolom toe aan df_account_ACTIEF waar allemaal = 1\n",
    "df_account_ACTIEF['lidmaatschap_actief'] = 1\n",
    "df_account_INACTIEF['lidmaatschap_actief'] = 0"
   ]
  },
  {
   "cell_type": "code",
   "execution_count": 695,
   "metadata": {},
   "outputs": [
    {
     "data": {
      "text/plain": [
       "(4060, 15)"
      ]
     },
     "execution_count": 695,
     "metadata": {},
     "output_type": "execute_result"
    }
   ],
   "source": [
    "df_account_INACTIEF.shape"
   ]
  },
  {
   "cell_type": "code",
   "execution_count": 696,
   "metadata": {},
   "outputs": [
    {
     "data": {
      "text/plain": [
       "(6612, 13)"
      ]
     },
     "execution_count": 696,
     "metadata": {},
     "output_type": "execute_result"
    }
   ],
   "source": [
    "#we voegen de df account_ACTIEF toe aan df_account_INACTIEF en noemen het df\n",
    "df = pd.concat([df_account_INACTIEF, df_account_ACTIEF], axis=0)\n",
    "df.drop('accountStatus', axis=1, inplace=True)\n",
    "df.drop('ondernemingsaard', axis=1, inplace=True)\n",
    "df.shape"
   ]
  },
  {
   "cell_type": "code",
   "execution_count": 697,
   "metadata": {},
   "outputs": [
    {
     "data": {
      "text/html": [
       "<div>\n",
       "<style scoped>\n",
       "    .dataframe tbody tr th:only-of-type {\n",
       "        vertical-align: middle;\n",
       "    }\n",
       "\n",
       "    .dataframe tbody tr th {\n",
       "        vertical-align: top;\n",
       "    }\n",
       "\n",
       "    .dataframe thead th {\n",
       "        text-align: right;\n",
       "    }\n",
       "</style>\n",
       "<table border=\"1\" class=\"dataframe\">\n",
       "  <thead>\n",
       "    <tr style=\"text-align: right;\">\n",
       "      <th></th>\n",
       "      <th>accountID</th>\n",
       "      <th>plaats</th>\n",
       "      <th>isVokaEntiteit</th>\n",
       "      <th>ondernemingstype</th>\n",
       "      <th>activiteitNaam</th>\n",
       "      <th>lidmaatschapID</th>\n",
       "      <th>redenAangroei</th>\n",
       "      <th>redenVerloop</th>\n",
       "      <th>startDatum</th>\n",
       "      <th>opzegDatum</th>\n",
       "      <th>voorbije_jaar</th>\n",
       "      <th>aantal_inschrijvingen</th>\n",
       "      <th>lidmaatschap_actief</th>\n",
       "    </tr>\n",
       "  </thead>\n",
       "  <tbody>\n",
       "    <tr>\n",
       "      <th>0</th>\n",
       "      <td>00002DAC-0A69-E111-B43A-00505680000A</td>\n",
       "      <td>BEVERE</td>\n",
       "      <td>0</td>\n",
       "      <td>Bedrijf</td>\n",
       "      <td>Overige industrie &amp; diensten</td>\n",
       "      <td>F10DF4A4-186F-E111-B43A-00505680000A</td>\n",
       "      <td>unknown</td>\n",
       "      <td>unknown</td>\n",
       "      <td>2011-12-07</td>\n",
       "      <td>2013-12-31</td>\n",
       "      <td>2012</td>\n",
       "      <td>0.0</td>\n",
       "      <td>0</td>\n",
       "    </tr>\n",
       "    <tr>\n",
       "      <th>2</th>\n",
       "      <td>0012D444-0A69-E111-B43A-00505680000A</td>\n",
       "      <td>GERAARDSBERGEN</td>\n",
       "      <td>0</td>\n",
       "      <td>Bedrijf</td>\n",
       "      <td>None</td>\n",
       "      <td>DFECE67E-146F-E111-B43A-00505680000A</td>\n",
       "      <td>unknown</td>\n",
       "      <td>Geen gebruik</td>\n",
       "      <td>2012-03-02</td>\n",
       "      <td>2016-03-28</td>\n",
       "      <td>2015</td>\n",
       "      <td>0.0</td>\n",
       "      <td>0</td>\n",
       "    </tr>\n",
       "    <tr>\n",
       "      <th>7</th>\n",
       "      <td>003B965B-C268-E111-B43A-00505680000A</td>\n",
       "      <td>GENT</td>\n",
       "      <td>0</td>\n",
       "      <td>Bedrijf</td>\n",
       "      <td>Telecom &amp; IT</td>\n",
       "      <td>D7D751D6-2D6F-E111-B43A-00505680000A</td>\n",
       "      <td>Actieve werving: koude prospectie</td>\n",
       "      <td>Geen gebruik</td>\n",
       "      <td>2013-07-04</td>\n",
       "      <td>2017-01-19</td>\n",
       "      <td>2016</td>\n",
       "      <td>0.0</td>\n",
       "      <td>0</td>\n",
       "    </tr>\n",
       "    <tr>\n",
       "      <th>12</th>\n",
       "      <td>005C6F7F-A268-E111-B43A-00505680000A</td>\n",
       "      <td>SINT-MARTENS-LATEM</td>\n",
       "      <td>0</td>\n",
       "      <td>Bedrijf</td>\n",
       "      <td>None</td>\n",
       "      <td>4F8AA590-BA47-EC11-8C62-6045BD8D2834</td>\n",
       "      <td>Lead van een collega nalv contact of deelname</td>\n",
       "      <td>Prijs</td>\n",
       "      <td>2021-11-16</td>\n",
       "      <td>2021-12-30</td>\n",
       "      <td>2020</td>\n",
       "      <td>0.0</td>\n",
       "      <td>0</td>\n",
       "    </tr>\n",
       "    <tr>\n",
       "      <th>13</th>\n",
       "      <td>0062F706-0969-E111-B43A-00505680000A</td>\n",
       "      <td>DEINZE</td>\n",
       "      <td>0</td>\n",
       "      <td>Bedrijf</td>\n",
       "      <td>None</td>\n",
       "      <td>45C679CB-086F-E111-B43A-00505680000A</td>\n",
       "      <td>unknown</td>\n",
       "      <td>Geen gebruik</td>\n",
       "      <td>2007-01-02</td>\n",
       "      <td>2013-07-01</td>\n",
       "      <td>2012</td>\n",
       "      <td>0.0</td>\n",
       "      <td>0</td>\n",
       "    </tr>\n",
       "  </tbody>\n",
       "</table>\n",
       "</div>"
      ],
      "text/plain": [
       "                               accountID              plaats  isVokaEntiteit  \\\n",
       "0   00002DAC-0A69-E111-B43A-00505680000A              BEVERE               0   \n",
       "2   0012D444-0A69-E111-B43A-00505680000A      GERAARDSBERGEN               0   \n",
       "7   003B965B-C268-E111-B43A-00505680000A                GENT               0   \n",
       "12  005C6F7F-A268-E111-B43A-00505680000A  SINT-MARTENS-LATEM               0   \n",
       "13  0062F706-0969-E111-B43A-00505680000A              DEINZE               0   \n",
       "\n",
       "   ondernemingstype                activiteitNaam  \\\n",
       "0           Bedrijf  Overige industrie & diensten   \n",
       "2           Bedrijf                          None   \n",
       "7           Bedrijf                  Telecom & IT   \n",
       "12          Bedrijf                          None   \n",
       "13          Bedrijf                          None   \n",
       "\n",
       "                          lidmaatschapID  \\\n",
       "0   F10DF4A4-186F-E111-B43A-00505680000A   \n",
       "2   DFECE67E-146F-E111-B43A-00505680000A   \n",
       "7   D7D751D6-2D6F-E111-B43A-00505680000A   \n",
       "12  4F8AA590-BA47-EC11-8C62-6045BD8D2834   \n",
       "13  45C679CB-086F-E111-B43A-00505680000A   \n",
       "\n",
       "                                    redenAangroei  redenVerloop  startDatum  \\\n",
       "0                                         unknown       unknown  2011-12-07   \n",
       "2                                         unknown  Geen gebruik  2012-03-02   \n",
       "7               Actieve werving: koude prospectie  Geen gebruik  2013-07-04   \n",
       "12  Lead van een collega nalv contact of deelname         Prijs  2021-11-16   \n",
       "13                                        unknown  Geen gebruik  2007-01-02   \n",
       "\n",
       "    opzegDatum  voorbije_jaar  aantal_inschrijvingen  lidmaatschap_actief  \n",
       "0   2013-12-31           2012                    0.0                    0  \n",
       "2   2016-03-28           2015                    0.0                    0  \n",
       "7   2017-01-19           2016                    0.0                    0  \n",
       "12  2021-12-30           2020                    0.0                    0  \n",
       "13  2013-07-01           2012                    0.0                    0  "
      ]
     },
     "execution_count": 697,
     "metadata": {},
     "output_type": "execute_result"
    }
   ],
   "source": [
    "df.head()"
   ]
  },
  {
   "cell_type": "code",
   "execution_count": 698,
   "metadata": {},
   "outputs": [
    {
     "data": {
      "text/plain": [
       "array(['Overige industrie & diensten', None, 'Telecom & IT',\n",
       "       'Distributie, logistiek en transport', 'Consultancy', 'Energie',\n",
       "       'Grafische industrie en diensten', 'Voeding', 'Detailhandel',\n",
       "       'Overige industrie & diensten,Horeca & toerisme', 'Ijzer en staal',\n",
       "       'Chemie, petrochemie', 'Textiel, kleding en confectie',\n",
       "       'Financiële diensten', 'Horeca & toerisme', 'Papier & karton',\n",
       "       'Verzekering', 'Human capital', 'Groothandel,Chemie, petrochemie',\n",
       "       'Vastgoed', 'Zorg', 'Bouw', 'Accountancy & boekhouding',\n",
       "       'Agrarische & bio-industrie', 'Telecom & IT,Papier & karton',\n",
       "       'Telecom & IT,Consultancy', 'Vrije beroepen',\n",
       "       'Technologische industrie & diensten,Grafische industrie en diensten',\n",
       "       'Hout- en meubelindustrie', 'Bouw,Grafische industrie en diensten',\n",
       "       'Distributie, logistiek en transport,Glas, rubber en kunststof',\n",
       "       'Technologische industrie & diensten', 'Groothandel',\n",
       "       'Technologische industrie & diensten,Bouw',\n",
       "       'Automobiel- en Tweewielerindustrie',\n",
       "       'Telecom & IT,Overige industrie & diensten,Vastgoed',\n",
       "       'Overige industrie & diensten,Onderwijs', 'Havengerelateerd',\n",
       "       'Media', 'Onderwijs', 'Overige industrie & diensten,Bouw',\n",
       "       'Overheid',\n",
       "       'Overige industrie & diensten,Automobiel- en Tweewielerindustrie',\n",
       "       'Textiel, kleding en confectie,Detailhandel',\n",
       "       'Milieu,Overige industrie & diensten,Energie',\n",
       "       'Voeding,Overige industrie & diensten',\n",
       "       'Zorg,Overige industrie & diensten',\n",
       "       'Groothandel,Overige industrie & diensten',\n",
       "       'Textiel, kleding en confectie,Groothandel,Detailhandel,Onderwijs',\n",
       "       'Milieu',\n",
       "       'Technologische industrie & diensten,Agrarische & bio-industrie',\n",
       "       'Groothandel,Energie',\n",
       "       'Ijzer en staal,Overige industrie & diensten',\n",
       "       'Human capital,Technologische industrie & diensten,Zorg,Chemie, petrochemie,Consultancy',\n",
       "       'Telecom & IT,Grafische industrie en diensten',\n",
       "       'Overige industrie & diensten,Detailhandel',\n",
       "       'Vastgoed,Verenigingen en maatschappelijke organisaties',\n",
       "       'Verenigingen en maatschappelijke organisaties',\n",
       "       'Textiel, kleding en confectie,Bouw,Horeca & toerisme',\n",
       "       'Overige industrie & diensten,Chemie, petrochemie,Energie',\n",
       "       'Milieu,Energie', 'Farmacie',\n",
       "       'Technologische industrie & diensten,Overige industrie & diensten',\n",
       "       'Overheid,Onderwijs',\n",
       "       'Textiel, kleding en confectie,Technologische industrie & diensten',\n",
       "       'Voeding,Chemie, petrochemie',\n",
       "       'Technologische industrie & diensten,Overige industrie & diensten,Consultancy'],\n",
       "      dtype=object)"
      ]
     },
     "execution_count": 698,
     "metadata": {},
     "output_type": "execute_result"
    }
   ],
   "source": [
    "# welke verschillende mogelijkheden binnen 'ondernemingsaard' zijn er? geef elke mogelijkheid in lijst\n",
    "df['activiteitNaam'].unique()"
   ]
  },
  {
   "cell_type": "markdown",
   "metadata": {},
   "source": [
    "## 3. Data Cleaning"
   ]
  },
  {
   "cell_type": "markdown",
   "metadata": {},
   "source": [
    "Nu gaan we voor deze gemergede dataframe nog onehotencoding toepassen "
   ]
  },
  {
   "cell_type": "code",
   "execution_count": 699,
   "metadata": {},
   "outputs": [],
   "source": [
    "#one hot encoding voor df_account_INACTIEF \n",
    "#USING sklearn OneHotEncoder\n",
    "from sklearn.preprocessing import OneHotEncoder\n",
    "\n",
    "ondernemingstype_cat = ['Bedrijf', 'Familiebedrijf', 'Sociale organisatie',\n",
    "       'Vrije beroepen', 'Social Profit', 'Pers/Media', 'Onderwijs',\n",
    "       'unknown', 'Overheid', 'Eenmanszaak', 'Werkgeversorganisaties',\n",
    "       'Multinational', 'Beroepsorganisatie']\n",
    "\n",
    "activiteitnaam_cat = ['Overige industrie & diensten', None, 'Telecom & IT',\n",
    "       'Distributie, logistiek en transport', 'Consultancy', 'Energie',\n",
    "       'Grafische industrie en diensten', 'Voeding', 'Detailhandel',\n",
    "       'Overige industrie & diensten,Horeca & toerisme', 'Ijzer en staal',\n",
    "       'Chemie, petrochemie', 'Textiel, kleding en confectie',\n",
    "       'Financiële diensten', 'Horeca & toerisme', 'Papier & karton',\n",
    "       'Verzekering', 'Human capital', 'Groothandel,Chemie, petrochemie',\n",
    "       'Vastgoed', 'Zorg', 'Bouw', 'Accountancy & boekhouding',\n",
    "       'Agrarische & bio-industrie', 'Telecom & IT,Papier & karton',\n",
    "       'Telecom & IT,Consultancy', 'Vrije beroepen',\n",
    "       'Technologische industrie & diensten,Grafische industrie en diensten',\n",
    "       'Hout- en meubelindustrie', 'Bouw,Grafische industrie en diensten',\n",
    "       'Distributie, logistiek en transport,Glas, rubber en kunststof',\n",
    "       'Technologische industrie & diensten', 'Groothandel',\n",
    "       'Technologische industrie & diensten,Bouw',\n",
    "       'Automobiel- en Tweewielerindustrie',\n",
    "       'Telecom & IT,Overige industrie & diensten,Vastgoed',\n",
    "       'Overige industrie & diensten,Onderwijs', 'Havengerelateerd',\n",
    "       'Media', 'Onderwijs', 'Overige industrie & diensten,Bouw',\n",
    "       'Overheid',\n",
    "       'Overige industrie & diensten,Automobiel- en Tweewielerindustrie',\n",
    "       'Textiel, kleding en confectie,Detailhandel',\n",
    "       'Milieu,Overige industrie & diensten,Energie',\n",
    "       'Voeding,Overige industrie & diensten',\n",
    "       'Zorg,Overige industrie & diensten',\n",
    "       'Groothandel,Overige industrie & diensten',\n",
    "       'Textiel, kleding en confectie,Groothandel,Detailhandel,Onderwijs',\n",
    "       'Milieu',\n",
    "       'Technologische industrie & diensten,Agrarische & bio-industrie',\n",
    "       'Groothandel,Energie',\n",
    "       'Ijzer en staal,Overige industrie & diensten',\n",
    "       'Human capital,Technologische industrie & diensten,Zorg,Chemie, petrochemie,Consultancy',\n",
    "       'Telecom & IT,Grafische industrie en diensten',\n",
    "       'Overige industrie & diensten,Detailhandel',\n",
    "       'Vastgoed,Verenigingen en maatschappelijke organisaties',\n",
    "       'Verenigingen en maatschappelijke organisaties',\n",
    "       'Textiel, kleding en confectie,Bouw,Horeca & toerisme',\n",
    "       'Overige industrie & diensten,Chemie, petrochemie,Energie',\n",
    "       'Milieu,Energie', 'Farmacie',\n",
    "       'Technologische industrie & diensten,Overige industrie & diensten',\n",
    "       'Overheid,Onderwijs',\n",
    "       'Textiel, kleding en confectie,Technologische industrie & diensten',\n",
    "       'Voeding,Chemie, petrochemie',\n",
    "       'Technologische industrie & diensten,Overige industrie & diensten,Consultancy']\n",
    "redenAangroei_cat = ['unknown', 'Actieve werving: koude prospectie',\n",
    "       'Lead van een collega nalv contact of deelname',\n",
    "       'Overzetting lidmaatschap', 'Spontane aanvraag via de website',\n",
    "       'Actieve werving: tip van een collega',\n",
    "       'Actieve werving: marketingcampagne',\n",
    "       'Lead van een andere Voka entiteit',\n",
    "       'Leden maken leden: Lead van een Voka lid',\n",
    "       'Spontane aanvraag via mail']\n",
    "redenVerloop_cat = ['unknown', 'Geen gebruik', 'Prijs', 'Overname', 'Stopzetting',\n",
    "       'Wanbetaler', 'Ontevreden/klacht', 'Overzetting lidmaatschap',\n",
    "       'Geen meerwaarde', 'Faillissement', 'FinanciÃ«le moeilijkheden']\n"
   ]
  },
  {
   "cell_type": "code",
   "execution_count": 700,
   "metadata": {},
   "outputs": [
    {
     "name": "stderr",
     "output_type": "stream",
     "text": [
      "c:\\Users\\emmad\\AppData\\Local\\Programs\\Python\\Python311\\Lib\\site-packages\\sklearn\\preprocessing\\_encoders.py:975: FutureWarning: `sparse` was renamed to `sparse_output` in version 1.2 and will be removed in 1.4. `sparse_output` is ignored unless you leave `sparse` to its default value.\n",
      "  warnings.warn(\n",
      "c:\\Users\\emmad\\AppData\\Local\\Programs\\Python\\Python311\\Lib\\site-packages\\sklearn\\preprocessing\\_encoders.py:975: FutureWarning: `sparse` was renamed to `sparse_output` in version 1.2 and will be removed in 1.4. `sparse_output` is ignored unless you leave `sparse` to its default value.\n",
      "  warnings.warn(\n",
      "c:\\Users\\emmad\\AppData\\Local\\Programs\\Python\\Python311\\Lib\\site-packages\\sklearn\\preprocessing\\_encoders.py:975: FutureWarning: `sparse` was renamed to `sparse_output` in version 1.2 and will be removed in 1.4. `sparse_output` is ignored unless you leave `sparse` to its default value.\n",
      "  warnings.warn(\n",
      "c:\\Users\\emmad\\AppData\\Local\\Programs\\Python\\Python311\\Lib\\site-packages\\sklearn\\preprocessing\\_encoders.py:975: FutureWarning: `sparse` was renamed to `sparse_output` in version 1.2 and will be removed in 1.4. `sparse_output` is ignored unless you leave `sparse` to its default value.\n",
      "  warnings.warn(\n"
     ]
    }
   ],
   "source": [
    "activiteitNaam_encoder = OneHotEncoder(categories=[activiteitnaam_cat], sparse=False)\n",
    "ondernemingstype_encoder = OneHotEncoder(categories=[ondernemingstype_cat], sparse=False)\n",
    "redenAangroei_encoder = OneHotEncoder(categories=[redenAangroei_cat], sparse=False)\n",
    "redenVerloop_encoder = OneHotEncoder(categories=[redenVerloop_cat], sparse=False)\n",
    "\n",
    "activiteitNaam_1hot = activiteitNaam_encoder.fit_transform(df[['activiteitNaam']])\n",
    "ondernemingstype_1hot = ondernemingstype_encoder.fit_transform(df[['ondernemingstype']])\n",
    "redenAangroei_1hot = redenAangroei_encoder.fit_transform(df[['redenAangroei']])\n",
    "redenVerloop_1hot = redenVerloop_encoder.fit_transform(df[['redenVerloop']])"
   ]
  },
  {
   "cell_type": "code",
   "execution_count": 701,
   "metadata": {},
   "outputs": [],
   "source": [
    "# # # Ondernemingstype\n",
    "# ondernemingstype_categories = [\n",
    "#  {'categorie': 'unknown', 'binary': None},\n",
    "#  {'categorie': 'Beroepsorganisatie', 'binary': None},\n",
    "#  {'categorie': 'Vakbonden', 'binary': None},\n",
    "#  {'categorie': 'Eenmanszaak', 'binary': None},\n",
    "#  {'categorie': 'Multinational', 'binary': None},\n",
    "#  {'categorie': 'Sociale organisatie', 'binary': None},\n",
    "#  {'categorie': 'Werkgeversorganisaties', 'binary': None},\n",
    "#  {'categorie': 'Pers/Media', 'binary': None},\n",
    "#  {'categorie': 'Overheid', 'binary': None},\n",
    "#  {'categorie': 'Onderwijs', 'binary': None},\n",
    "#  {'categorie': 'Social Profit', 'binary': None},\n",
    "#  {'categorie': 'Vrije beroepen', 'binary': None},\n",
    "#  {'categorie': 'Familiebedrijf', 'binary': None},\n",
    "#  {'categorie': 'Bedrijf', 'binary': None}\n",
    "# ]\n",
    "\n",
    "# for i, categorie in enumerate(ondernemingstype_categories):\n",
    "#   categorie['binary'] = str(bin(i)[2:].zfill(4))\n",
    "\n",
    "# category_to_binary = {categorie['categorie']: categorie['binary'] for categorie in ondernemingstype_categories}\n",
    "# df['ondernemingstype'] = df['ondernemingstype'].map(category_to_binary)\n",
    "\n",
    "# for i in range(1, 5):\n",
    "#     df[f'ondernemingstype_{i}'] = df['ondernemingstype'].apply(lambda x: int(str(x)[i-1]))"
   ]
  },
  {
   "cell_type": "code",
   "execution_count": 702,
   "metadata": {},
   "outputs": [],
   "source": [
    "df = df.drop(['activiteitNaam', 'redenAangroei', 'redenVerloop', 'ondernemingstype' ], axis=1)"
   ]
  },
  {
   "cell_type": "code",
   "execution_count": 703,
   "metadata": {},
   "outputs": [],
   "source": [
    "# df = df.join(pd.DataFrame(activiteitNaam_1hot), rsuffix='_activiteitNaam')\n",
    "df = df.join(pd.DataFrame(redenAangroei_1hot), rsuffix='_redenAangroei')\n",
    "df = df.join(pd.DataFrame(redenVerloop_1hot), rsuffix='_redenVerloop')"
   ]
  },
  {
   "cell_type": "code",
   "execution_count": 706,
   "metadata": {},
   "outputs": [
    {
     "data": {
      "text/html": [
       "<div>\n",
       "<style scoped>\n",
       "    .dataframe tbody tr th:only-of-type {\n",
       "        vertical-align: middle;\n",
       "    }\n",
       "\n",
       "    .dataframe tbody tr th {\n",
       "        vertical-align: top;\n",
       "    }\n",
       "\n",
       "    .dataframe thead th {\n",
       "        text-align: right;\n",
       "    }\n",
       "</style>\n",
       "<table border=\"1\" class=\"dataframe\">\n",
       "  <thead>\n",
       "    <tr style=\"text-align: right;\">\n",
       "      <th></th>\n",
       "      <th>accountID</th>\n",
       "      <th>plaats</th>\n",
       "      <th>isVokaEntiteit</th>\n",
       "      <th>lidmaatschapID</th>\n",
       "      <th>startDatum</th>\n",
       "      <th>opzegDatum</th>\n",
       "      <th>voorbije_jaar</th>\n",
       "      <th>aantal_inschrijvingen</th>\n",
       "      <th>lidmaatschap_actief</th>\n",
       "      <th>0</th>\n",
       "      <th>...</th>\n",
       "      <th>1_redenVerloop</th>\n",
       "      <th>2_redenVerloop</th>\n",
       "      <th>3_redenVerloop</th>\n",
       "      <th>4_redenVerloop</th>\n",
       "      <th>5_redenVerloop</th>\n",
       "      <th>6_redenVerloop</th>\n",
       "      <th>7_redenVerloop</th>\n",
       "      <th>8_redenVerloop</th>\n",
       "      <th>9_redenVerloop</th>\n",
       "      <th>10</th>\n",
       "    </tr>\n",
       "  </thead>\n",
       "  <tbody>\n",
       "    <tr>\n",
       "      <th>0</th>\n",
       "      <td>00002DAC-0A69-E111-B43A-00505680000A</td>\n",
       "      <td>BEVERE</td>\n",
       "      <td>0</td>\n",
       "      <td>F10DF4A4-186F-E111-B43A-00505680000A</td>\n",
       "      <td>2011-12-07</td>\n",
       "      <td>2013-12-31</td>\n",
       "      <td>2012</td>\n",
       "      <td>0.0</td>\n",
       "      <td>0</td>\n",
       "      <td>1.0</td>\n",
       "      <td>...</td>\n",
       "      <td>0.0</td>\n",
       "      <td>0.0</td>\n",
       "      <td>0.0</td>\n",
       "      <td>0.0</td>\n",
       "      <td>0.0</td>\n",
       "      <td>0.0</td>\n",
       "      <td>0.0</td>\n",
       "      <td>0.0</td>\n",
       "      <td>0.0</td>\n",
       "      <td>0.0</td>\n",
       "    </tr>\n",
       "    <tr>\n",
       "      <th>2</th>\n",
       "      <td>0012D444-0A69-E111-B43A-00505680000A</td>\n",
       "      <td>GERAARDSBERGEN</td>\n",
       "      <td>0</td>\n",
       "      <td>DFECE67E-146F-E111-B43A-00505680000A</td>\n",
       "      <td>2012-03-02</td>\n",
       "      <td>2016-03-28</td>\n",
       "      <td>2015</td>\n",
       "      <td>0.0</td>\n",
       "      <td>0</td>\n",
       "      <td>0.0</td>\n",
       "      <td>...</td>\n",
       "      <td>1.0</td>\n",
       "      <td>0.0</td>\n",
       "      <td>0.0</td>\n",
       "      <td>0.0</td>\n",
       "      <td>0.0</td>\n",
       "      <td>0.0</td>\n",
       "      <td>0.0</td>\n",
       "      <td>0.0</td>\n",
       "      <td>0.0</td>\n",
       "      <td>0.0</td>\n",
       "    </tr>\n",
       "    <tr>\n",
       "      <th>7</th>\n",
       "      <td>003B965B-C268-E111-B43A-00505680000A</td>\n",
       "      <td>GENT</td>\n",
       "      <td>0</td>\n",
       "      <td>D7D751D6-2D6F-E111-B43A-00505680000A</td>\n",
       "      <td>2013-07-04</td>\n",
       "      <td>2017-01-19</td>\n",
       "      <td>2016</td>\n",
       "      <td>0.0</td>\n",
       "      <td>0</td>\n",
       "      <td>1.0</td>\n",
       "      <td>...</td>\n",
       "      <td>0.0</td>\n",
       "      <td>0.0</td>\n",
       "      <td>0.0</td>\n",
       "      <td>0.0</td>\n",
       "      <td>0.0</td>\n",
       "      <td>0.0</td>\n",
       "      <td>0.0</td>\n",
       "      <td>0.0</td>\n",
       "      <td>0.0</td>\n",
       "      <td>0.0</td>\n",
       "    </tr>\n",
       "    <tr>\n",
       "      <th>12</th>\n",
       "      <td>005C6F7F-A268-E111-B43A-00505680000A</td>\n",
       "      <td>SINT-MARTENS-LATEM</td>\n",
       "      <td>0</td>\n",
       "      <td>4F8AA590-BA47-EC11-8C62-6045BD8D2834</td>\n",
       "      <td>2021-11-16</td>\n",
       "      <td>2021-12-30</td>\n",
       "      <td>2020</td>\n",
       "      <td>0.0</td>\n",
       "      <td>0</td>\n",
       "      <td>0.0</td>\n",
       "      <td>...</td>\n",
       "      <td>0.0</td>\n",
       "      <td>0.0</td>\n",
       "      <td>1.0</td>\n",
       "      <td>0.0</td>\n",
       "      <td>0.0</td>\n",
       "      <td>0.0</td>\n",
       "      <td>0.0</td>\n",
       "      <td>0.0</td>\n",
       "      <td>0.0</td>\n",
       "      <td>0.0</td>\n",
       "    </tr>\n",
       "    <tr>\n",
       "      <th>13</th>\n",
       "      <td>0062F706-0969-E111-B43A-00505680000A</td>\n",
       "      <td>DEINZE</td>\n",
       "      <td>0</td>\n",
       "      <td>45C679CB-086F-E111-B43A-00505680000A</td>\n",
       "      <td>2007-01-02</td>\n",
       "      <td>2013-07-01</td>\n",
       "      <td>2012</td>\n",
       "      <td>0.0</td>\n",
       "      <td>0</td>\n",
       "      <td>1.0</td>\n",
       "      <td>...</td>\n",
       "      <td>0.0</td>\n",
       "      <td>0.0</td>\n",
       "      <td>0.0</td>\n",
       "      <td>0.0</td>\n",
       "      <td>0.0</td>\n",
       "      <td>0.0</td>\n",
       "      <td>0.0</td>\n",
       "      <td>0.0</td>\n",
       "      <td>0.0</td>\n",
       "      <td>0.0</td>\n",
       "    </tr>\n",
       "  </tbody>\n",
       "</table>\n",
       "<p>5 rows × 30 columns</p>\n",
       "</div>"
      ],
      "text/plain": [
       "                               accountID              plaats  isVokaEntiteit  \\\n",
       "0   00002DAC-0A69-E111-B43A-00505680000A              BEVERE               0   \n",
       "2   0012D444-0A69-E111-B43A-00505680000A      GERAARDSBERGEN               0   \n",
       "7   003B965B-C268-E111-B43A-00505680000A                GENT               0   \n",
       "12  005C6F7F-A268-E111-B43A-00505680000A  SINT-MARTENS-LATEM               0   \n",
       "13  0062F706-0969-E111-B43A-00505680000A              DEINZE               0   \n",
       "\n",
       "                          lidmaatschapID  startDatum  opzegDatum  \\\n",
       "0   F10DF4A4-186F-E111-B43A-00505680000A  2011-12-07  2013-12-31   \n",
       "2   DFECE67E-146F-E111-B43A-00505680000A  2012-03-02  2016-03-28   \n",
       "7   D7D751D6-2D6F-E111-B43A-00505680000A  2013-07-04  2017-01-19   \n",
       "12  4F8AA590-BA47-EC11-8C62-6045BD8D2834  2021-11-16  2021-12-30   \n",
       "13  45C679CB-086F-E111-B43A-00505680000A  2007-01-02  2013-07-01   \n",
       "\n",
       "    voorbije_jaar  aantal_inschrijvingen  lidmaatschap_actief    0  ...  \\\n",
       "0            2012                    0.0                    0  1.0  ...   \n",
       "2            2015                    0.0                    0  0.0  ...   \n",
       "7            2016                    0.0                    0  1.0  ...   \n",
       "12           2020                    0.0                    0  0.0  ...   \n",
       "13           2012                    0.0                    0  1.0  ...   \n",
       "\n",
       "    1_redenVerloop  2_redenVerloop  3_redenVerloop  4_redenVerloop  \\\n",
       "0              0.0             0.0             0.0             0.0   \n",
       "2              1.0             0.0             0.0             0.0   \n",
       "7              0.0             0.0             0.0             0.0   \n",
       "12             0.0             0.0             1.0             0.0   \n",
       "13             0.0             0.0             0.0             0.0   \n",
       "\n",
       "    5_redenVerloop  6_redenVerloop  7_redenVerloop  8_redenVerloop  \\\n",
       "0              0.0             0.0             0.0             0.0   \n",
       "2              0.0             0.0             0.0             0.0   \n",
       "7              0.0             0.0             0.0             0.0   \n",
       "12             0.0             0.0             0.0             0.0   \n",
       "13             0.0             0.0             0.0             0.0   \n",
       "\n",
       "    9_redenVerloop   10  \n",
       "0              0.0  0.0  \n",
       "2              0.0  0.0  \n",
       "7              0.0  0.0  \n",
       "12             0.0  0.0  \n",
       "13             0.0  0.0  \n",
       "\n",
       "[5 rows x 30 columns]"
      ]
     },
     "execution_count": 706,
     "metadata": {},
     "output_type": "execute_result"
    }
   ],
   "source": [
    "df.head()"
   ]
  },
  {
   "cell_type": "markdown",
   "metadata": {},
   "source": [
    "## 4. Model trainen"
   ]
  },
  {
   "cell_type": "markdown",
   "metadata": {},
   "source": [
    "Nu gaan we voor deze situatie een model trainen die op basis van de aantal_inschrijvingen in het voorbije jaar gaat voorspellen of een account zijn lidmaatschap gaat opzeggen of niet. We gaan dit doen voor de accounts die hun lidmaatschap hebben opgezegd bij Voka."
   ]
  },
  {
   "cell_type": "code",
   "execution_count": 156,
   "metadata": {},
   "outputs": [],
   "source": [
    "#Nu gaan we voor deze situatie een model trainen die op basis van de aantal_inschrijvingen in het voorbije jaar gaat voorspellen of een account in het volgende jaar het lidmaatchap gaat opzeggen\n",
    "#We gaan hiervoor een random forest model gebruiken\n",
    "#We gaan eerst de data opsplitsen in een train en test set\n",
    "#We gaan de data opsplitsen in een train en test set\n",
    "\n"
   ]
  },
  {
   "cell_type": "code",
   "execution_count": 359,
   "metadata": {},
   "outputs": [],
   "source": [
    "#opsplitsen in X en y\n",
    "X = df.drop('lidmaatschap_actief', axis=1)\n",
    "y = df['lidmaatschap_actief']"
   ]
  },
  {
   "cell_type": "code",
   "execution_count": 360,
   "metadata": {},
   "outputs": [
    {
     "data": {
      "text/plain": [
       "((5289, 14), (1323, 14), (5289,), (1323,))"
      ]
     },
     "execution_count": 360,
     "metadata": {},
     "output_type": "execute_result"
    }
   ],
   "source": [
    "#opslitsen in train en test set\n",
    "X_train, X_test, y_train, y_test = train_test_split(X, y, test_size=0.2, random_state=42)\n",
    "X_train.shape, X_test.shape, y_train.shape, y_test.shape\n"
   ]
  }
 ],
 "metadata": {
  "kernelspec": {
   "display_name": "Python 3",
   "language": "python",
   "name": "python3"
  },
  "language_info": {
   "codemirror_mode": {
    "name": "ipython",
    "version": 3
   },
   "file_extension": ".py",
   "mimetype": "text/x-python",
   "name": "python",
   "nbconvert_exporter": "python",
   "pygments_lexer": "ipython3",
   "version": "3.11.3"
  }
 },
 "nbformat": 4,
 "nbformat_minor": 2
}
