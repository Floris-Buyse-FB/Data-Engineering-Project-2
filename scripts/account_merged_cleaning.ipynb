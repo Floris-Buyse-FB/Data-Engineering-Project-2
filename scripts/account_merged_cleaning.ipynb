{
 "cells": [
  {
   "cell_type": "code",
   "execution_count": 48,
   "metadata": {},
   "outputs": [],
   "source": [
    "import pandas as pd\n",
    "import numpy as np\n",
    "import os"
   ]
  },
  {
   "cell_type": "code",
   "execution_count": 49,
   "metadata": {},
   "outputs": [],
   "source": [
    "DATA_DIR = '../data_merged/'\n",
    "FILE_NAME = 'merged_accounts'\n",
    "URL = os.path.join(DATA_DIR, FILE_NAME + '.csv')"
   ]
  },
  {
   "cell_type": "code",
   "execution_count": 50,
   "metadata": {},
   "outputs": [
    {
     "name": "stderr",
     "output_type": "stream",
     "text": [
      "C:\\Users\\buyse\\AppData\\Local\\Temp\\ipykernel_15876\\676708795.py:1: DtypeWarning: Columns (4) have mixed types. Specify dtype option on import or set low_memory=False.\n",
      "  data = pd.read_csv(URL)\n"
     ]
    }
   ],
   "source": [
    "data = pd.read_csv(URL)"
   ]
  },
  {
   "cell_type": "code",
   "execution_count": 51,
   "metadata": {},
   "outputs": [
    {
     "data": {
      "text/plain": [
       "(1771670, 67)"
      ]
     },
     "execution_count": 51,
     "metadata": {},
     "output_type": "execute_result"
    }
   ],
   "source": [
    "data.shape"
   ]
  },
  {
   "cell_type": "markdown",
   "metadata": {},
   "source": [
    "#### Onnodige kolommen al verwijderen"
   ]
  },
  {
   "cell_type": "code",
   "execution_count": 52,
   "metadata": {},
   "outputs": [],
   "source": [
    "data = data[data['account_reden_van_status'] != 'Inactief']\n",
    "data = data[data['account_reden_van_status'] != 'Stopzetting']\n",
    "\n",
    "data.drop(['account_industriezone_naam_',\n",
    "           'account_oprichtingsdatum',\n",
    "           'account_reden_van_status',\n",
    "           'account_status',\n",
    "           'account_voka_nr_',\n",
    "           'contact_persoon_id',\n",
    "           'account_account_id',\n",
    "           'contact_account',\n",
    "           'contactfunctie_contactpersoon',\n",
    "           'financieledata_aantal_maanden',\n",
    "           'financieledata_boekjaar',\n",
    "           'financieledata_gewijzigd_op',\n",
    "           'functie_functie_id',\n",
    "           'financieledata_ondernemingid',\n",
    "           'contactfunctie_functie',\n",
    "           'persoon_web_login',\n",
    "           'persoon_persoonsnr_',\n",
    "           'persoon_persoon_id',\n",
    "           'contact_voka_medewerker',\n",
    "          ], axis=1, inplace=True)"
   ]
  },
  {
   "cell_type": "markdown",
   "metadata": {},
   "source": [
    "#### Account adres samenvoegen + enkel Oost-Vlaamse accounts behouden"
   ]
  },
  {
   "cell_type": "code",
   "execution_count": 53,
   "metadata": {},
   "outputs": [],
   "source": [
    "data = data[data['account_adres_provincie'] == 'Oost-Vlaanderen']\n",
    "\n",
    "plaats = data['account_adres_plaats'].str.lower().str.capitalize()\n",
    "postcode = data['account_adres_postcode'].astype(str)\n",
    "subregio = data['account_adres_geografische_subregio'].str.lower().str.capitalize()\n",
    "provincie = data['account_adres_provincie'].str.lower().str.capitalize()\n",
    "land = data['account_adres_land'].str.lower().str.capitalize()\n",
    "\n",
    "data['account_adres'] = plaats + ' ' + postcode + ' ' + subregio + ' ' + provincie + ' ' + land\n",
    "\n",
    "data.drop(['account_adres_geografische_regio', \n",
    "           'account_adres_geografische_subregio', \n",
    "           'account_adres_plaats', 'account_adres_postcode', \n",
    "           'account_adres_provincie', 'account_adres_land'], axis=1, inplace=True)"
   ]
  },
  {
   "cell_type": "markdown",
   "metadata": {},
   "source": [
    "#### Activiteitscode samenvoegen"
   ]
  },
  {
   "cell_type": "code",
   "execution_count": 54,
   "metadata": {},
   "outputs": [],
   "source": [
    "# enkel de actieve activiteitscodes\n",
    "data = data[data['activiteitscode_status'] != 'Inactief']\n",
    "# hernoem de kolom\n",
    "data['account_activiteit'] = data['activiteitscode_naam'].str.lower().str.capitalize()\n",
    "# verwijder de onnodige kolommen\n",
    "data.drop(['account_activiteitscode_account',\n",
    " 'account_activiteitscode_activiteitscode',\n",
    " 'account_activiteitscode_inf_account_inf_activiteitscodeid',\n",
    " 'activiteitscode_activiteitscode_id',\n",
    " 'activiteitscode_status', 'activiteitscode_naam'], axis=1, inplace=True)"
   ]
  },
  {
   "cell_type": "markdown",
   "metadata": {},
   "source": [
    "#### Account ondernemingstype,aard,activiteit samenvoegen"
   ]
  },
  {
   "cell_type": "code",
   "execution_count": 55,
   "metadata": {},
   "outputs": [],
   "source": [
    "data['account_onderneming'] = data['account_ondernemingstype'] + ' ' \\\n",
    "                            + data['account_ondernemingsaard'] + ' ' \\\n",
    "                            + data['account_primaire_activiteit'] + ' ' \\\n",
    "                            + data['account_activiteit']\n",
    "\n",
    "data.drop(['account_ondernemingstype', \n",
    "           'account_ondernemingsaard', \n",
    "           'account_primaire_activiteit',\n",
    "           'account_activiteit'], axis=1, inplace=True)"
   ]
  },
  {
   "cell_type": "markdown",
   "metadata": {},
   "source": [
    "#### Account persoon samenvoegen / verwijderen"
   ]
  },
  {
   "cell_type": "code",
   "execution_count": 56,
   "metadata": {},
   "outputs": [],
   "source": [
    "data = data[data['persoon_mail_regio_oost_vlaanderen'] == 1]\n",
    "data = data[data['persoon_marketingcommunicatie'] != 'Uitgeschreven']\n",
    "data = data[data['persoon_marketingcommunicatie'] != 'unknown']\n",
    "data = data[data['persoon_reden_van_status'] == 'Actief']"
   ]
  },
  {
   "cell_type": "code",
   "execution_count": 57,
   "metadata": {},
   "outputs": [],
   "source": [
    "# drop alle kolommen die beginne met persoon_mail_regio\n",
    "data.drop([col for col in data.columns if col.startswith('persoon_mail_regio')], axis=1, inplace=True)\n",
    "data.drop(['persoon_reden_van_status'], axis=1, inplace=True)"
   ]
  },
  {
   "cell_type": "markdown",
   "metadata": {},
   "source": [
    "#### Account contact samenvoegen / verwijderen"
   ]
  },
  {
   "cell_type": "code",
   "execution_count": 58,
   "metadata": {},
   "outputs": [],
   "source": [
    "data = data[data['contact_status'] == 'Actief']"
   ]
  },
  {
   "cell_type": "code",
   "execution_count": 59,
   "metadata": {},
   "outputs": [],
   "source": [
    "data.drop(['contact_status'], axis=1, inplace=True)"
   ]
  },
  {
   "cell_type": "code",
   "execution_count": 60,
   "metadata": {},
   "outputs": [
    {
     "data": {
      "text/plain": [
       "['account_adres',\n",
       " 'account_is_voka_entiteit',\n",
       " 'account_onderneming',\n",
       " 'contact_contactpersoon_id',\n",
       " 'contact_functietitel',\n",
       " 'financieledata_fte',\n",
       " 'financieledata_toegevoegde_waarde',\n",
       " 'functie_naam',\n",
       " 'persoon_mail_thema_duurzaamheid',\n",
       " 'persoon_mail_thema_financieel_fiscaal',\n",
       " 'persoon_mail_thema_innovatie',\n",
       " 'persoon_mail_thema_internationaal_ondernemen',\n",
       " 'persoon_mail_thema_mobiliteit',\n",
       " 'persoon_mail_thema_omgeving',\n",
       " 'persoon_mail_thema_sales_marketing_communicatie',\n",
       " 'persoon_mail_thema_strategie_en_algemeen_management',\n",
       " 'persoon_mail_thema_talent',\n",
       " 'persoon_mail_thema_welzijn',\n",
       " 'persoon_mail_type_bevraging',\n",
       " 'persoon_mail_type_communities_en_projecten',\n",
       " 'persoon_mail_type_netwerkevenementen',\n",
       " 'persoon_mail_type_nieuwsbrieven',\n",
       " 'persoon_mail_type_opleidingen',\n",
       " 'persoon_mail_type_persberichten_belangrijke_meldingen',\n",
       " 'persoon_marketingcommunicatie']"
      ]
     },
     "execution_count": 60,
     "metadata": {},
     "output_type": "execute_result"
    }
   ],
   "source": [
    "sorted(list(data.columns))"
   ]
  },
  {
   "cell_type": "code",
   "execution_count": 61,
   "metadata": {},
   "outputs": [
    {
     "data": {
      "text/plain": [
       "(26796, 25)"
      ]
     },
     "execution_count": 61,
     "metadata": {},
     "output_type": "execute_result"
    }
   ],
   "source": [
    "data.shape"
   ]
  },
  {
   "cell_type": "code",
   "execution_count": 62,
   "metadata": {},
   "outputs": [],
   "source": [
    "data.to_csv('../data_merged/merged_accounts_cleaned.csv', index=False)"
   ]
  }
 ],
 "metadata": {
  "kernelspec": {
   "display_name": "Python 3",
   "language": "python",
   "name": "python3"
  },
  "language_info": {
   "codemirror_mode": {
    "name": "ipython",
    "version": 3
   },
   "file_extension": ".py",
   "mimetype": "text/x-python",
   "name": "python",
   "nbconvert_exporter": "python",
   "pygments_lexer": "ipython3",
   "version": "3.11.3"
  }
 },
 "nbformat": 4,
 "nbformat_minor": 2
}
