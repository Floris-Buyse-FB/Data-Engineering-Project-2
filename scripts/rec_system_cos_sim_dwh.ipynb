{
 "cells": [
  {
   "cell_type": "code",
   "execution_count": 287,
   "metadata": {},
   "outputs": [
    {
     "data": {
      "text/plain": [
       "True"
      ]
     },
     "execution_count": 287,
     "metadata": {},
     "output_type": "execute_result"
    }
   ],
   "source": [
    "import os\n",
    "import nltk\n",
    "import numpy as np\n",
    "import pandas as pd\n",
    "from dotenv import load_dotenv\n",
    "from nltk.corpus import stopwords\n",
    "from sqlalchemy import create_engine\n",
    "from nltk.tokenize import word_tokenize\n",
    "from nltk.stem.snowball import SnowballStemmer\n",
    "from sklearn.preprocessing import MinMaxScaler\n",
    "from sklearn.metrics.pairwise import cosine_similarity\n",
    "from sklearn.feature_extraction.text import TfidfVectorizer\n",
    "\n",
    "nltk.download('stopwords', quiet=True)\n",
    "nltk.download('punkt', quiet=True)"
   ]
  },
  {
   "cell_type": "markdown",
   "metadata": {},
   "source": [
    "### Create connection to DWH"
   ]
  },
  {
   "cell_type": "code",
   "execution_count": 288,
   "metadata": {},
   "outputs": [],
   "source": [
    "ENV_URL = os.path.join(os.getcwd(), '../.env')\n",
    "load_dotenv(ENV_URL)\n",
    "\n",
    "DWH_NAME = os.environ.get('DWH_NAME')\n",
    "SERVER_NAME = os.environ.get('SERVER_NAME')\n",
    "DB_USER = os.environ.get('DB_USER')\n",
    "DB_PASSWORD = os.environ.get('DB_PASSWORD')\n",
    "\n",
    "URL = f'mssql+pymssql://{DB_USER}:{DB_PASSWORD}@{SERVER_NAME}/{DWH_NAME}'\n",
    "URL_LOCAL = f'mssql+pyodbc://{SERVER_NAME}/{DWH_NAME}?trusted_connection=yes&driver=ODBC+Driver+17 for SQL Server'\n",
    "\n",
    "engine = create_engine(URL_LOCAL)\n",
    "conn = engine.connect()"
   ]
  },
  {
   "cell_type": "markdown",
   "metadata": {},
   "source": [
    "### Create a dataframe with all the data from the DWH"
   ]
  },
  {
   "cell_type": "code",
   "execution_count": 289,
   "metadata": {},
   "outputs": [],
   "source": [
    "def create_query(table_name, columns, condition=None):\n",
    "\n",
    "    query = f\"SELECT \"\n",
    "\n",
    "    for i, column in enumerate(columns):\n",
    "        if i == 0:\n",
    "            query += f\"[{column}]\"\n",
    "        else:\n",
    "            query += f\", [{column}]\"\n",
    "    \n",
    "    query += f\" FROM [{DWH_NAME}].[dbo].[{table_name}]\"\n",
    "    \n",
    "    if condition:\n",
    "        query += f\" WHERE {condition}\"\n",
    "\n",
    "    return query\n",
    "\n",
    "\n",
    "def calc_marketing_pressure(df):\n",
    "    marketing_pressure_cols = [col for col in df.columns if col.__contains__('persoon_mail_type') \n",
    "                           or col.__contains__('persoon_mail_thema') or col.__contains__('persoon_marketingcommunicatie')]\n",
    "\n",
    "    marketing_pressure_cols.append('bron')\n",
    "    marketing_pressure_cols.append('visit_first_visit')\n",
    "    marketing_pressure_cols.append('visit_total_pages')\n",
    "    marketing_pressure_cols.append('mail_click_freq')\n",
    "\n",
    "    df['marketing_pressure'] = df[marketing_pressure_cols].sum(axis=1)\n",
    "    df['marketing_pressure'] = df['marketing_pressure'].astype(int)\n",
    "    df.drop(marketing_pressure_cols, axis=1, inplace=True)\n",
    "\n",
    "    return df\n",
    "\n",
    "\n",
    "def remove_stopwords(text):\n",
    "    stop_words_nl = set(stopwords.words('dutch'))\n",
    "    \n",
    "    word_tokens = word_tokenize(text, language='dutch')\n",
    "\n",
    "    result = [x for x in word_tokens if x not in stop_words_nl]\n",
    "\n",
    "    seperator = ', '\n",
    "    return seperator.join(result)\n",
    "\n",
    "\n",
    "def team_name_change(text):\n",
    "    teams_dict = {\n",
    "        'jo': ' jong ondernemen ',\n",
    "        'do': ' duurzaam ondernemen ',\n",
    "        'in': ' innovatie digitalisering ',\n",
    "        'io': ' internationaal ondernemen ',\n",
    "        'ao': ' arbeidsmarkt ',\n",
    "        'ex': ' expert ',\n",
    "        'gr': ' groei ',\n",
    "        'bb': ' belangenbehartiging ',\n",
    "        'co': ' communicatie ',\n",
    "        'nw': ' netwerking ',\n",
    "        'ha': ' haven ',\n",
    "        'ma': ' match '\n",
    "    }\n",
    "    word_tokens = word_tokenize(text, language='dutch')\n",
    "    # apply dict to list\n",
    "    result = [teams_dict.get(word, word) for word in word_tokens]\n",
    "    # join list to string\n",
    "    cleaned_list = ', '.join(result)\n",
    "    # tokenize string\n",
    "    tokenize_list = word_tokenize(cleaned_list, language='dutch')\n",
    "    # remove comma\n",
    "    tokenize_list_no_comma = [x for x in tokenize_list if x != ',']\n",
    "    # join list to string and remove duplicates from list\n",
    "    return ', '.join(list(set(tokenize_list_no_comma)))"
   ]
  },
  {
   "cell_type": "markdown",
   "metadata": {},
   "source": [
    "#### Account data"
   ]
  },
  {
   "cell_type": "code",
   "execution_count": 290,
   "metadata": {},
   "outputs": [
    {
     "data": {
      "text/plain": [
       "(3206, 3)"
      ]
     },
     "execution_count": 290,
     "metadata": {},
     "output_type": "execute_result"
    }
   ],
   "source": [
    "acc_cols = ['accountID', 'plaats', 'ondernemingstype', 'ondernemingsaard', 'activiteitNaam']\n",
    "# account conditie\n",
    "acc_condition = \"accountStatus = 1 AND provincie = 'Oost-Vlaanderen'\"\n",
    "# create query\n",
    "acc_query = create_query('DimAccount', acc_cols, acc_condition)\n",
    "# read sql\n",
    "df_account = pd.read_sql(acc_query, conn)\n",
    "\n",
    "df_account['plaats'] = df_account['plaats'].str.replace(r'\\([a-z.-]+\\)', '', regex=True).str.replace('  ', ' ')\\\n",
    "\n",
    "# account ondernemingstype samenvoegen\n",
    "df_account['onderneming'] = df_account['ondernemingstype'] + ' ' \\\n",
    "                            + df_account['ondernemingsaard'] + ' ' \\\n",
    "                            + df_account['activiteitNaam']\n",
    "\n",
    "df_account['onderneming'] = df_account['onderneming'].str.replace('unknown', '').str.replace(', , ', '') \\\n",
    "                                                            .str.strip().str.lower() \\\n",
    "                                                            .str.replace(r',$|^,', '', regex=True) \\\n",
    "                                                            .str.replace('&', '').str.replace('-', '')                                                      \n",
    "# gebruikte kolommen droppen\n",
    "df_account.drop(columns=['ondernemingstype', \n",
    "            'ondernemingsaard', 'activiteitNaam'], inplace=True)\n",
    "\n",
    "df_account.shape"
   ]
  },
  {
   "cell_type": "markdown",
   "metadata": {},
   "source": [
    "#### Contact data"
   ]
  },
  {
   "cell_type": "code",
   "execution_count": 291,
   "metadata": {},
   "outputs": [
    {
     "data": {
      "text/plain": [
       "(396800, 20)"
      ]
     },
     "execution_count": 291,
     "metadata": {},
     "output_type": "execute_result"
    }
   ],
   "source": [
    "contact_cols = ['contactID', 'accountID', 'functietitel', \n",
    " 'persoon_mail_thema_duurzaamheid', 'persoon_mail_thema_financieel_fiscaal', 'persoon_mail_thema_innovatie',\n",
    " 'persoon_mail_thema_internationaal_ondernemen', 'persoon_mail_thema_mobiliteit', 'persoon_mail_thema_omgeving',\n",
    " 'persoon_mail_thema_sales_marketing_communicatie', 'persoon_mail_thema_strategie_en_algemeen_management',\n",
    " 'persoon_mail_thema_talent', 'persoon_mail_thema_welzijn', 'persoon_mail_type_bevraging', 'persoon_mail_type_communities_en_projecten',\n",
    " 'persoon_mail_type_netwerkevenementen', 'persoon_mail_type_nieuwsbrieven', 'persoon_mail_type_opleidingen',\n",
    " 'persoon_mail_type_persberichten_belangrijke_meldingen', 'persoon_marketingcommunicatie',]\n",
    "\n",
    "contact_condition = \"contactStatus = 'Actief'\"\n",
    "contact_query = create_query('DimContact', contact_cols, contact_condition)\n",
    "df_contact = pd.read_sql(contact_query, conn)\n",
    "\n",
    "df_contact['functietitel'] = df_contact['functietitel'].str.lower()\n",
    "df_contact['persoon_marketingcommunicatie'] = df_contact['persoon_marketingcommunicatie'].fillna('-1')\n",
    "df_contact['persoon_marketingcommunicatie'] = df_contact['persoon_marketingcommunicatie'] \\\n",
    "                                                            .str.replace('Strikt', '0').str.replace('Flexibel', '1') \\\n",
    "                                                            .str.replace('Uitgeschreven', '-1').str.replace('unknown', '-1').astype(int)\n",
    "\n",
    "df_contact.shape"
   ]
  },
  {
   "cell_type": "markdown",
   "metadata": {},
   "source": [
    "### Merge account and contact data"
   ]
  },
  {
   "cell_type": "code",
   "execution_count": 292,
   "metadata": {},
   "outputs": [
    {
     "data": {
      "text/plain": [
       "(16635, 22)"
      ]
     },
     "execution_count": 292,
     "metadata": {},
     "output_type": "execute_result"
    }
   ],
   "source": [
    "df = pd.merge(df_contact, df_account, on='accountID', how='inner')\n",
    "df.shape"
   ]
  },
  {
   "cell_type": "markdown",
   "metadata": {},
   "source": [
    "### Afspraken data"
   ]
  },
  {
   "cell_type": "code",
   "execution_count": 293,
   "metadata": {},
   "outputs": [
    {
     "data": {
      "text/plain": [
       "(2547, 4)"
      ]
     },
     "execution_count": 293,
     "metadata": {},
     "output_type": "execute_result"
    }
   ],
   "source": [
    "afspraak_cols = ['subthema', 'onderwerp', 'keyphrases', 'contactID']\n",
    "\n",
    "afspraak_condition = \"contactID is not null\"\n",
    "afspraak_query = create_query('DimAfspraak', afspraak_cols, afspraak_condition)\n",
    "df_afspraak = pd.read_sql(afspraak_query, conn)\n",
    "\n",
    "df_afspraak['thema'] = df_afspraak['subthema'].str.replace('\\(', '', regex=True)\n",
    "\n",
    "df_afspraak['thema'] = df_afspraak['thema'].str.replace('\\)', '', regex=True).str.lower() \\\n",
    "        .str.replace(r'[^\\w\\s]', '', regex=True).str.replace('  ', ' ').str.strip()\n",
    "\n",
    "df_afspraak['onderwerp'] = df_afspraak['onderwerp'].str.lower().astype(str).str.replace('ov-', '') \\\n",
    "        .str.replace('ov -', '').str.replace('ov ', '').str.replace('-', ' ') \\\n",
    "        .str.replace(r'[^\\w\\s]', '', regex=True).str.replace('  ', ' ').str.strip()\n",
    "\n",
    "df_afspraak['keyphrases'] = df_afspraak['keyphrases'].str.lower().str.replace(r'[^\\w\\s]', '', regex=True) \\\n",
    "                                                                            .str.replace('  ', ' ').str.strip()\n",
    "\n",
    "df_afspraak.drop(['subthema'], axis=1, inplace=True)\n",
    "df_afspraak.drop_duplicates(inplace=True)\n",
    "\n",
    "df_afspraak.shape"
   ]
  },
  {
   "cell_type": "code",
   "execution_count": 294,
   "metadata": {},
   "outputs": [
    {
     "data": {
      "text/plain": [
       "(4861, 4)"
      ]
     },
     "execution_count": 294,
     "metadata": {},
     "output_type": "execute_result"
    }
   ],
   "source": [
    "afspraak_cols = ['subthema', 'onderwerp', 'keyphrases', 'accountID']\n",
    "\n",
    "afspraak_condition = \"accountID is not null\"\n",
    "afspraak_query = create_query('DimAfspraak', afspraak_cols, afspraak_condition)\n",
    "df_afspraak1 = pd.read_sql(afspraak_query, conn)\n",
    "\n",
    "df_afspraak1['thema'] = df_afspraak1['subthema'].str.replace('\\(', '', regex=True)\n",
    "\n",
    "df_afspraak1['thema'] = df_afspraak1['thema'].str.replace('\\)', '', regex=True).str.lower() \\\n",
    "        .str.replace(r'[^\\w\\s]', '', regex=True).str.replace('  ', ' ').str.strip()\n",
    "\n",
    "df_afspraak1['onderwerp'] = df_afspraak1['onderwerp'].str.lower().astype(str).str.replace('ov-', '') \\\n",
    "        .str.replace('ov -', '').str.replace('ov ', '').str.replace('-', ' ') \\\n",
    "        .str.replace(r'[^\\w\\s]', '', regex=True).str.replace('  ', ' ').str.strip()\n",
    "\n",
    "df_afspraak1['keyphrases'] = df_afspraak1['keyphrases'].str.lower().str.replace(r'[^\\w\\s]', '', regex=True) \\\n",
    "                                                                            .str.replace('  ', ' ').str.strip()\n",
    "\n",
    "df_afspraak1.drop(['subthema'], axis=1, inplace=True)\n",
    "df_afspraak1.drop_duplicates(inplace=True)\n",
    "\n",
    "df_afspraak1.shape"
   ]
  },
  {
   "cell_type": "markdown",
   "metadata": {},
   "source": [
    "### Merge afspraken data met account en contact data"
   ]
  },
  {
   "cell_type": "code",
   "execution_count": 295,
   "metadata": {},
   "outputs": [
    {
     "data": {
      "text/plain": [
       "(31314, 25)"
      ]
     },
     "execution_count": 295,
     "metadata": {},
     "output_type": "execute_result"
    }
   ],
   "source": [
    "df = df.merge(df_afspraak, on=['contactID'], how='left')\n",
    "df = df.merge(df_afspraak1, on=['accountID'], how='left')\n",
    "\n",
    "df['onderwerp_x'] = df['onderwerp_x'].fillna('')\n",
    "df['onderwerp_y'] = df['onderwerp_y'].fillna('')\n",
    "df['keyphrases_x'] = df['keyphrases_x'].fillna('')\n",
    "df['keyphrases_y'] = df['keyphrases_y'].fillna('')\n",
    "df['thema_x'] = df['thema_x'].fillna('')\n",
    "df['thema_y'] = df['thema_y'].fillna('')\n",
    "\n",
    "df['onderwerp'] = df['onderwerp_x'] + ' ' + df['onderwerp_y']\n",
    "df['keyphrases'] = df['keyphrases_x'] + ' ' + df['keyphrases_y']\n",
    "df['thema'] = df['thema_x'] + ' ' + df['thema_y']\n",
    "\n",
    "df['onderwerp'] = df['onderwerp'].str.strip().apply(lambda x: ' '.join(list(set(x.replace('  ', ' ').split(' ')))))\n",
    "df['keyphrases'] = df['keyphrases'].str.strip().apply(lambda x: ' '.join(list(set(x.replace('  ', ' ').split(' ')))))\n",
    "df['thema'] = df['thema'].str.strip().apply(lambda x: ' '.join(list(set(x.replace('  ', ' ').split(' ')))))\n",
    "\n",
    "df.drop(['onderwerp_x', 'onderwerp_y', 'keyphrases_x', 'keyphrases_y', 'thema_x', 'thema_y'], axis=1, inplace=True)\n",
    "df.drop_duplicates(inplace=True)\n",
    "df.shape"
   ]
  },
  {
   "cell_type": "markdown",
   "metadata": {},
   "source": [
    "### Campagne data"
   ]
  },
  {
   "cell_type": "code",
   "execution_count": 296,
   "metadata": {},
   "outputs": [
    {
     "data": {
      "text/plain": [
       "(4101, 4)"
      ]
     },
     "execution_count": 296,
     "metadata": {},
     "output_type": "execute_result"
    }
   ],
   "source": [
    "campagne_cols = ['campagneID', 'campagneNaam', 'campagneType', 'campagneSoort']\n",
    "\n",
    "campagne_query = create_query('DimCampagne', campagne_cols)\n",
    "df_campagne = pd.read_sql(campagne_query, conn)\n",
    "\n",
    "df_campagne['campagneNaam'] = df_campagne['campagneNaam'].str.replace('OV-', '').str.replace('ov-', '') \\\n",
    "                                    .str.replace('-', ' ').str.replace(r'[^\\w\\s]', '', regex=True) \\\n",
    "                                    .str.replace('  ', ' ').str.strip().str.lower().str.replace('  ', ' ')\n",
    "\n",
    "df_campagne.shape"
   ]
  },
  {
   "cell_type": "markdown",
   "metadata": {},
   "source": [
    "### Inschrijvingen data"
   ]
  },
  {
   "cell_type": "code",
   "execution_count": 297,
   "metadata": {},
   "outputs": [
    {
     "data": {
      "text/plain": [
       "(91851, 3)"
      ]
     },
     "execution_count": 297,
     "metadata": {},
     "output_type": "execute_result"
    }
   ],
   "source": [
    "inschrijving_cols = ['campagneID', 'contactID', 'bron']\n",
    "\n",
    "inschrijving_query = create_query('FactInschrijving', inschrijving_cols)\n",
    "df_inschrijving = pd.read_sql(inschrijving_query, conn)\n",
    "\n",
    "df_inschrijving['bron'] = df_inschrijving['bron'].astype(str).str.replace('unknown', '-1') \\\n",
    "                            .str.replace('Website', '0').str.replace('Email', '1').astype(int)\n",
    "\n",
    "df_inschrijving.shape"
   ]
  },
  {
   "cell_type": "markdown",
   "metadata": {},
   "source": [
    "### Campagne en inschrijvingen data samenvoegen"
   ]
  },
  {
   "cell_type": "code",
   "execution_count": 298,
   "metadata": {},
   "outputs": [
    {
     "data": {
      "text/plain": [
       "(48531, 6)"
      ]
     },
     "execution_count": 298,
     "metadata": {},
     "output_type": "execute_result"
    }
   ],
   "source": [
    "df_campagne_inschrijving = pd.merge(df_campagne, df_inschrijving, on='campagneID', how='inner')\n",
    "df_campagne_inschrijving.drop_duplicates(inplace=True)\n",
    "df_campagne_inschrijving.shape"
   ]
  },
  {
   "cell_type": "markdown",
   "metadata": {},
   "source": [
    "### Sessie data"
   ]
  },
  {
   "cell_type": "code",
   "execution_count": 299,
   "metadata": {},
   "outputs": [
    {
     "data": {
      "text/plain": [
       "(1954, 2)"
      ]
     },
     "execution_count": 299,
     "metadata": {},
     "output_type": "execute_result"
    }
   ],
   "source": [
    "sessie_cols = ['campaignID', 'themaNaam']\n",
    "\n",
    "sessie_query = create_query('DimSessie', sessie_cols)\n",
    "df_sessie = pd.read_sql(sessie_query, conn)\n",
    "\n",
    "df_sessie = df_sessie.groupby('campaignID')['themaNaam'].apply(list).reset_index()\n",
    "df_sessie['themaNaam'] = df_sessie['themaNaam'].apply(lambda x: ', '.join(list(set(x))))\n",
    "df_sessie['themaNaam'] = df_sessie['themaNaam'].str.replace('OV-', '').str.replace('ov-', '') \\\n",
    "                                                            .str.replace('-', ' ').str.replace(r'[^\\w\\s]', '', regex=True) \\\n",
    "                                                            .str.replace('  ', ' ').str.strip().str.lower().str.replace('  ', ' ')\n",
    "\n",
    "df_sessie.shape"
   ]
  },
  {
   "cell_type": "markdown",
   "metadata": {},
   "source": [
    "### Sessie en campagne/inschrijvingen data samenvoegen"
   ]
  },
  {
   "cell_type": "code",
   "execution_count": 300,
   "metadata": {},
   "outputs": [
    {
     "data": {
      "text/plain": [
       "(48450, 6)"
      ]
     },
     "execution_count": 300,
     "metadata": {},
     "output_type": "execute_result"
    }
   ],
   "source": [
    "df_campagne_inschrijving_sessie = pd.merge(df_campagne_inschrijving, df_sessie, left_on='campagneID', right_on='campaignID', how='inner')\n",
    "df_campagne_inschrijving_sessie.drop(['campaignID', 'campagneID'], axis=1, inplace=True)\n",
    "df_campagne_inschrijving_sessie.drop_duplicates(inplace=True)\n",
    "df_campagne_inschrijving_sessie.shape"
   ]
  },
  {
   "cell_type": "markdown",
   "metadata": {},
   "source": [
    "### Campagne, inschrijvingen en sessie data samenvoegen met account en contact data"
   ]
  },
  {
   "cell_type": "code",
   "execution_count": 301,
   "metadata": {},
   "outputs": [
    {
     "data": {
      "text/plain": [
       "(41060, 30)"
      ]
     },
     "execution_count": 301,
     "metadata": {},
     "output_type": "execute_result"
    }
   ],
   "source": [
    "df = pd.merge(df, df_campagne_inschrijving_sessie, on='contactID', how='inner')\n",
    "df.shape"
   ]
  },
  {
   "cell_type": "markdown",
   "metadata": {},
   "source": [
    "### Visit data"
   ]
  },
  {
   "cell_type": "code",
   "execution_count": 302,
   "metadata": {},
   "outputs": [
    {
     "data": {
      "text/plain": [
       "(18262, 6)"
      ]
     },
     "execution_count": 302,
     "metadata": {},
     "output_type": "execute_result"
    }
   ],
   "source": [
    "visit_cols = ['contactID', 'visit_first_visit', 'visit_total_pages', 'mailing_onderwerp', 'mailing_name', 'mailSent_clicks', 'mailSent']\n",
    "\n",
    "visit_query = create_query('DimVisit', visit_cols)\n",
    "df_visit = pd.read_sql(visit_query, conn)\n",
    "\n",
    "df_visit.drop_duplicates(inplace=True)\n",
    "\n",
    "df_visit['visit_first_visit'] = df_visit['visit_first_visit'] \\\n",
    "      .str.replace('Ja', '0').str.replace('Nee', '1') \\\n",
    "      .str.replace('unknown', '-1').astype(int)\n",
    "\n",
    "df_visit['visit_total_pages'] = df_visit['visit_total_pages']\\\n",
    "      .replace('unknown', '-1.0').astype(float)\n",
    "\n",
    "df_visit['aantal_mails'] = df_visit.groupby(\n",
    "    ['contactID'])['mailSent'].transform('nunique')\n",
    "\n",
    "df_visit['clicks_total'] = df_visit.groupby(\n",
    "    ['contactID'])['mailSent_clicks'].transform('sum')\n",
    "\n",
    "df_visit['visit_total_pages'] = df_visit.groupby(\n",
    "    ['contactID'])['visit_total_pages'].transform('sum').astype(int)\n",
    "\n",
    "df_visit['visit_first_visit'] = df_visit.groupby(\n",
    "    ['contactID'])['visit_first_visit'].transform('sum').astype(int)\n",
    "\n",
    "df_visit['mailing_name'] = df_visit['mailing_name'].str.replace('OV-', '') \\\n",
    "                                            .str.replace('OV ', '').str.replace('OV -', '') \\\n",
    "                                            .str.replace('-', ' ').str.replace(r'[^\\w\\s]', ' ', regex=True) \\\n",
    "                                            .str.replace('  ', ' ').str.strip().str.lower().str.replace('  ', ' ')\n",
    "\n",
    "df_visit['mailing_onderwerp'] = df_visit['mailing_onderwerp'] \\\n",
    "                                            .str.replace('-', ' ').str.replace(r'[^\\w\\s]', ' ', regex=True) \\\n",
    "                                            .str.replace('  ', ' ').str.strip().str.lower().str.replace('  ', ' ')\n",
    "\n",
    "df_visit['mail_click_freq'] = np.round(df_visit['clicks_total'] / df_visit['aantal_mails'], 0)\n",
    "df_visit['mail_click_freq'] = df_visit['mail_click_freq'].fillna(-1).astype(int)\n",
    "\n",
    "df_visit.drop(['mailSent', 'mailSent_clicks', 'clicks_total', 'aantal_mails'], axis=1, inplace=True)\n",
    "df_visit.drop_duplicates(inplace=True)\n",
    "df_visit.shape"
   ]
  },
  {
   "cell_type": "markdown",
   "metadata": {},
   "source": [
    "### Final merge"
   ]
  },
  {
   "cell_type": "code",
   "execution_count": 303,
   "metadata": {},
   "outputs": [
    {
     "data": {
      "text/plain": [
       "(1218, 4)"
      ]
     },
     "execution_count": 303,
     "metadata": {},
     "output_type": "execute_result"
    }
   ],
   "source": [
    "df = pd.merge(df, df_visit, on='contactID', how='inner')\n",
    "\n",
    "int_cols = df.select_dtypes(include=['int64', 'int32']).columns\n",
    "df[int_cols] = df[int_cols].astype('int8')\n",
    "\n",
    "df = calc_marketing_pressure(df)\n",
    "\n",
    "df['keyphrases'] += ' ' + df['plaats'] + ' ' + df['onderneming'] + ' ' + df['functietitel'] \\\n",
    "                + ' ' + df['onderwerp'] + ' ' + df['thema'] + ' ' + df['campagneNaam'] \\\n",
    "                + ' ' + df['campagneType'] + ' ' + df['campagneSoort'] + ' ' + df['themaNaam'] \\\n",
    "                + ' ' + df['mailing_onderwerp'] + ' ' + df['mailing_name']\n",
    "\n",
    "df.drop(['plaats', 'onderneming', 'functietitel', 'onderwerp', 'thema', 'campagneNaam', 'campagneType', 'campagneSoort', \n",
    "         'themaNaam', 'mailing_onderwerp', 'mailing_name'], axis=1, inplace=True)\n",
    "\n",
    "df['keyphrases'] = df['keyphrases'].str.replace(', ,', ',').str.replace(r'(\\s{2},\\s{2}),*+', '').str.replace('unknown', ' ') \\\n",
    "    .str.replace('  ', ' ').str.replace(r'[^\\w\\s]', '', regex=True).str.replace(r'\\d+', '', regex=True) \\\n",
    "    .str.replace('ov', '').str.replace('  ', ' ').str.strip().str.lower() \\\n",
    "\n",
    "df = df.groupby('contactID').agg(list)\n",
    "\n",
    "df['marketing_pressure'] = df['marketing_pressure'].apply(lambda x: np.mean(x).round(0).astype(int))\n",
    "df['accountID'] = df['accountID'].apply(lambda x: list(set(x)))\n",
    "df['accountID'] = df['accountID'].apply(lambda x: x[0])\n",
    "df['keyphrases'] = df['keyphrases'].apply(lambda x: ', '.join(list(set(x))))\n",
    "df['keyphrases'] = df['keyphrases'].apply(lambda x: remove_stopwords(x))\n",
    "df['keyphrases'] = df['keyphrases'].apply(lambda x: team_name_change(x))\n",
    "df['keyphrases'] = df['keyphrases'].apply(lambda x: ', '.join(sorted(x.split(', '))))\n",
    "\n",
    "df.reset_index(inplace=True)\n",
    "df.drop_duplicates(inplace=True)\n",
    "df.shape"
   ]
  },
  {
   "cell_type": "code",
   "execution_count": 304,
   "metadata": {},
   "outputs": [
    {
     "data": {
      "text/plain": [
       "(1218, 4)"
      ]
     },
     "execution_count": 304,
     "metadata": {},
     "output_type": "execute_result"
    }
   ],
   "source": [
    "df.drop_duplicates(inplace=True)\n",
    "df.shape"
   ]
  },
  {
   "cell_type": "code",
   "execution_count": 305,
   "metadata": {},
   "outputs": [
    {
     "data": {
      "text/html": [
       "<div>\n",
       "<style scoped>\n",
       "    .dataframe tbody tr th:only-of-type {\n",
       "        vertical-align: middle;\n",
       "    }\n",
       "\n",
       "    .dataframe tbody tr th {\n",
       "        vertical-align: top;\n",
       "    }\n",
       "\n",
       "    .dataframe thead th {\n",
       "        text-align: right;\n",
       "    }\n",
       "</style>\n",
       "<table border=\"1\" class=\"dataframe\">\n",
       "  <thead>\n",
       "    <tr style=\"text-align: right;\">\n",
       "      <th></th>\n",
       "      <th>contactID</th>\n",
       "      <th>accountID</th>\n",
       "      <th>keyphrases</th>\n",
       "      <th>marketing_pressure</th>\n",
       "    </tr>\n",
       "  </thead>\n",
       "  <tbody>\n",
       "    <tr>\n",
       "      <th>0</th>\n",
       "      <td>0017416A-2C6E-E111-B43A-00505680000A</td>\n",
       "      <td>18C73253-C368-E111-B43A-00505680000A</td>\n",
       "      <td>aanspreekpunt, actuel, ambitie, ander, bedrijf...</td>\n",
       "      <td>7</td>\n",
       "    </tr>\n",
       "    <tr>\n",
       "      <th>1</th>\n",
       "      <td>0036CCCE-B36F-E111-B43A-00505680000A</td>\n",
       "      <td>38066821-A368-E111-B43A-00505680000A</td>\n",
       "      <td>aandel, aankop, accelero, bedrijv, belgie, bew...</td>\n",
       "      <td>16</td>\n",
       "    </tr>\n",
       "    <tr>\n",
       "      <th>2</th>\n",
       "      <td>003740F4-F4A0-EB11-811E-001DD8B72B62</td>\n",
       "      <td>5028133E-C568-E111-B43A-00505680000A</td>\n",
       "      <td>aanwerv, automatiser, beroep, bezoek, chain, c...</td>\n",
       "      <td>50</td>\n",
       "    </tr>\n",
       "    <tr>\n",
       "      <th>3</th>\n",
       "      <td>0067424D-677A-EA11-810E-001DD8B72B61</td>\n",
       "      <td>4A65C934-0869-E111-B43A-00505680000A</td>\n",
       "      <td>aanbod, activiteit, ander, arbeidsbemiddelar, ...</td>\n",
       "      <td>50</td>\n",
       "    </tr>\n",
       "    <tr>\n",
       "      <th>4</th>\n",
       "      <td>0111C115-DC6A-E111-B43A-00505680000A</td>\n",
       "      <td>CC5DAB7F-8C68-E111-B43A-00505680000A</td>\n",
       "      <td>aalter, bedrijf, bestuurders, diensten, erige,...</td>\n",
       "      <td>42</td>\n",
       "    </tr>\n",
       "  </tbody>\n",
       "</table>\n",
       "</div>"
      ],
      "text/plain": [
       "                              contactID                             accountID  \\\n",
       "0  0017416A-2C6E-E111-B43A-00505680000A  18C73253-C368-E111-B43A-00505680000A   \n",
       "1  0036CCCE-B36F-E111-B43A-00505680000A  38066821-A368-E111-B43A-00505680000A   \n",
       "2  003740F4-F4A0-EB11-811E-001DD8B72B62  5028133E-C568-E111-B43A-00505680000A   \n",
       "3  0067424D-677A-EA11-810E-001DD8B72B61  4A65C934-0869-E111-B43A-00505680000A   \n",
       "4  0111C115-DC6A-E111-B43A-00505680000A  CC5DAB7F-8C68-E111-B43A-00505680000A   \n",
       "\n",
       "                                          keyphrases  marketing_pressure  \n",
       "0  aanspreekpunt, actuel, ambitie, ander, bedrijf...                   7  \n",
       "1  aandel, aankop, accelero, bedrijv, belgie, bew...                  16  \n",
       "2  aanwerv, automatiser, beroep, bezoek, chain, c...                  50  \n",
       "3  aanbod, activiteit, ander, arbeidsbemiddelar, ...                  50  \n",
       "4  aalter, bedrijf, bestuurders, diensten, erige,...                  42  "
      ]
     },
     "execution_count": 305,
     "metadata": {},
     "output_type": "execute_result"
    }
   ],
   "source": [
    "df.head()"
   ]
  },
  {
   "cell_type": "markdown",
   "metadata": {},
   "source": [
    "### Recommendation system"
   ]
  },
  {
   "cell_type": "code",
   "execution_count": 306,
   "metadata": {},
   "outputs": [],
   "source": [
    "def recommend(df, new_keyphrase: str, top_n=10):\n",
    "    # preprocessing\n",
    "    scaler = MinMaxScaler()\n",
    "    df['marketing_pressure'] = scaler.fit_transform(df[['marketing_pressure']])\n",
    "    # vectorization\n",
    "    tfidf = TfidfVectorizer()\n",
    "    tfidf_matrix = tfidf.fit_transform(df['keyphrases'])\n",
    "    # vectorize the new keyphrase and calculate similarity\n",
    "    new_keyphrase_tfidf = tfidf.transform([new_keyphrase])\n",
    "    sim_score_new = cosine_similarity(new_keyphrase_tfidf, tfidf_matrix)\n",
    "    # sort the similarity scores\n",
    "    contact_person_similarity = list(enumerate(sim_score_new[0]))\n",
    "    sorted_contact_persons = sorted(contact_person_similarity, key=lambda x: x[1], reverse=True)\n",
    "    # get the top n similar contact persons\n",
    "    top_contact_persons = sorted_contact_persons[:top_n]\n",
    "    # Create a set to keep track of recommended contact IDs\n",
    "    recommended_contact_ids = set()\n",
    "    # Iterate through the sorted contact persons and add unique contact IDs to the set\n",
    "    for index, _ in top_contact_persons:\n",
    "        contact_id = df['contactID'][index]\n",
    "        recommended_contact_ids.add(contact_id)\n",
    "    # Convert the set back to a list\n",
    "    recommended_contact_ids = list(recommended_contact_ids)\n",
    "    # This would not remove the duplicates\n",
    "    # recommended_contact_ids = [df['contact_contactpersoon_id'][index] for index, _ in top_contact_persons]\n",
    "    # sort the contact ids by marketing pressure\n",
    "    recommended_contact_ids = sorted(recommended_contact_ids, key=lambda x: df[df['contactID'] == x]['marketing_pressure'].values[0], reverse=False)\n",
    "    # result\n",
    "    results_list = []\n",
    "    print(\"Recommended Contact Persons for the New Campaign:\")\n",
    "    for contact_id in recommended_contact_ids:\n",
    "        marketing_pressure = df[df['contactID'] == contact_id]['marketing_pressure'].values[0]\n",
    "        results_list.append((contact_id, marketing_pressure))\n",
    "    return results_list"
   ]
  },
  {
   "cell_type": "markdown",
   "metadata": {},
   "source": [
    "### Test the recommendation system"
   ]
  },
  {
   "cell_type": "code",
   "execution_count": 307,
   "metadata": {},
   "outputs": [
    {
     "name": "stdout",
     "output_type": "stream",
     "text": [
      "Recommended Contact Persons for the New Campaign:\n"
     ]
    },
    {
     "data": {
      "text/plain": [
       "[('B393FAF5-B147-E411-9EE6-005056B06EC4', 0.48409405255878285),\n",
       " ('7FBB918E-3A6A-E111-B43A-00505680000A', 0.49239280774550487),\n",
       " ('7AF8217E-DE3F-E911-80FC-001DD8B72B62', 0.49930843706777317),\n",
       " ('BBD75B48-ADD2-E811-80F7-001DD8B72B62', 0.5006915629322268),\n",
       " ('F72696BA-4C83-E311-BBFD-005056B06EB4', 0.5062240663900415),\n",
       " ('FD9D8245-02AE-E411-88B8-005056B06EC4', 0.5089903181189488),\n",
       " ('850C1F75-016C-E111-B43A-00505680000A', 0.5159059474412172),\n",
       " ('98C926A5-D769-E111-B43A-00505680000A', 0.5311203319502075),\n",
       " ('605AECBB-FD70-E111-B43A-00505680000A', 0.5643153526970954),\n",
       " ('CC77CF80-F672-E111-B43A-00505680000A', 0.6749654218533887)]"
      ]
     },
     "execution_count": 307,
     "metadata": {},
     "output_type": "execute_result"
    }
   ],
   "source": [
    "campaign_keyphrase = 'volwassen, ov, gent, merelbeke, ondernemen, winst, ceo, bedrijf, netwerkevenement'\n",
    "recommend(df, campaign_keyphrase)"
   ]
  }
 ],
 "metadata": {
  "kernelspec": {
   "display_name": ".venv",
   "language": "python",
   "name": "python3"
  },
  "language_info": {
   "codemirror_mode": {
    "name": "ipython",
    "version": 3
   },
   "file_extension": ".py",
   "mimetype": "text/x-python",
   "name": "python",
   "nbconvert_exporter": "python",
   "pygments_lexer": "ipython3",
   "version": "3.11.3"
  }
 },
 "nbformat": 4,
 "nbformat_minor": 2
}
