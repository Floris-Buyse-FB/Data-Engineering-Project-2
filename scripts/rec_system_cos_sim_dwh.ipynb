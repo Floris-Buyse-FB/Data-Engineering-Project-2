{
 "cells": [
  {
   "cell_type": "code",
   "execution_count": 143,
   "metadata": {},
   "outputs": [],
   "source": [
    "import os\n",
    "import numpy as np\n",
    "import pandas as pd\n",
    "from dotenv import load_dotenv\n",
    "from sqlalchemy import create_engine\n",
    "from sklearn.preprocessing import MinMaxScaler\n",
    "from sklearn.metrics.pairwise import cosine_similarity\n",
    "from sklearn.feature_extraction.text import TfidfVectorizer"
   ]
  },
  {
   "cell_type": "markdown",
   "metadata": {},
   "source": [
    "### Create connection to DWH"
   ]
  },
  {
   "cell_type": "code",
   "execution_count": 269,
   "metadata": {},
   "outputs": [],
   "source": [
    "ENV_URL = os.path.join(os.getcwd(), '../.env')\n",
    "load_dotenv(ENV_URL)\n",
    "\n",
    "DWH_NAME = os.environ.get('DWH_NAME')\n",
    "SERVER_NAME = os.environ.get('SERVER_NAME')\n",
    "DB_USER = os.environ.get('DB_USER')\n",
    "DB_PASSWORD = os.environ.get('DB_PASSWORD')\n",
    "\n",
    "URL = f'mssql+pymssql://{DB_USER}:{DB_PASSWORD}@{SERVER_NAME}/{DWH_NAME}'\n",
    "URL_LOCAL = f'mssql+pyodbc://{SERVER_NAME}/{DWH_NAME}?trusted_connection=yes&driver=ODBC+Driver+17 for SQL Server'\n",
    "\n",
    "engine = create_engine(URL_LOCAL)\n",
    "conn = engine.connect()"
   ]
  },
  {
   "cell_type": "markdown",
   "metadata": {},
   "source": [
    "### Create a dataframe with all the data from the DWH"
   ]
  },
  {
   "cell_type": "code",
   "execution_count": 270,
   "metadata": {},
   "outputs": [],
   "source": [
    "def create_query(table_name, columns, condition=None):\n",
    "\n",
    "    query = f\"SELECT \"\n",
    "\n",
    "    for i, column in enumerate(columns):\n",
    "        if i == 0:\n",
    "            query += f\"[{column}]\"\n",
    "        else:\n",
    "            query += f\", [{column}]\"\n",
    "    \n",
    "    query += f\" FROM [{DWH_NAME}].[dbo].[{table_name}]\"\n",
    "    \n",
    "    if condition:\n",
    "        query += f\" WHERE {condition}\"\n",
    "\n",
    "    return query"
   ]
  },
  {
   "cell_type": "markdown",
   "metadata": {},
   "source": [
    "#### Account data"
   ]
  },
  {
   "cell_type": "code",
   "execution_count": 272,
   "metadata": {},
   "outputs": [
    {
     "data": {
      "text/plain": [
       "(3206, 2)"
      ]
     },
     "execution_count": 272,
     "metadata": {},
     "output_type": "execute_result"
    }
   ],
   "source": [
    "acc_cols = ['accountID', 'plaats', 'ondernemingstype', 'ondernemingsaard', 'activiteitNaam']\n",
    "# account conditie\n",
    "acc_condition = \"accountStatus = 1 AND provincie = 'Oost-Vlaanderen'\"\n",
    "# create query\n",
    "acc_query = create_query('DimAccount', acc_cols, acc_condition)\n",
    "# read sql\n",
    "df_account = pd.read_sql(acc_query, conn)\n",
    "# account adres samenvoegen\n",
    "df_account['plaats'] = df_account['plaats'].str.replace(r'\\([a-z.-]+\\)', '', regex=True).str.replace('  ', ' ')\\\n",
    "\n",
    "# account ondernemingstype samenvoegen\n",
    "df_account['onderneming'] = df_account['ondernemingstype'] + ' ' \\\n",
    "                            + df_account['ondernemingsaard'] + ' ' \\\n",
    "                            + df_account['activiteitNaam']\n",
    "\n",
    "df_account['onderneming'] = df_account['onderneming'].str.replace('unknown', '').str.replace(', , ', '') \\\n",
    "                                                            .str.strip().str.lower() \\\n",
    "                                                            .str.replace(r',$|^,', '', regex=True) \\\n",
    "                                                            .str.replace('&', '').str.replace('-', '')                                                      \n",
    "# gebruikte kolommen droppen\n",
    "df_account.drop(columns=['plaats', 'ondernemingstype', \n",
    "            'ondernemingsaard', 'activiteitNaam'], inplace=True)\n",
    "\n",
    "df_account.shape"
   ]
  },
  {
   "cell_type": "markdown",
   "metadata": {},
   "source": [
    "#### Contact data"
   ]
  },
  {
   "cell_type": "code",
   "execution_count": 273,
   "metadata": {},
   "outputs": [
    {
     "data": {
      "text/plain": [
       "(396800, 20)"
      ]
     },
     "execution_count": 273,
     "metadata": {},
     "output_type": "execute_result"
    }
   ],
   "source": [
    "contact_cols = ['contactID', 'accountID', 'functietitel', \n",
    " 'persoon_mail_thema_duurzaamheid', 'persoon_mail_thema_financieel_fiscaal', 'persoon_mail_thema_innovatie',\n",
    " 'persoon_mail_thema_internationaal_ondernemen', 'persoon_mail_thema_mobiliteit', 'persoon_mail_thema_omgeving',\n",
    " 'persoon_mail_thema_sales_marketing_communicatie', 'persoon_mail_thema_strategie_en_algemeen_management',\n",
    " 'persoon_mail_thema_talent', 'persoon_mail_thema_welzijn', 'persoon_mail_type_bevraging', 'persoon_mail_type_communities_en_projecten',\n",
    " 'persoon_mail_type_netwerkevenementen', 'persoon_mail_type_nieuwsbrieven', 'persoon_mail_type_opleidingen',\n",
    " 'persoon_mail_type_persberichten_belangrijke_meldingen', 'persoon_marketingcommunicatie',]\n",
    "\n",
    "contact_condition = \"contactStatus = 'Actief'\"\n",
    "contact_query = create_query('DimContact', contact_cols, contact_condition)\n",
    "df_contact = pd.read_sql(contact_query, conn)\n",
    "\n",
    "df_contact['persoon_marketingcommunicatie'] = df_contact['persoon_marketingcommunicatie'].fillna('-1')\n",
    "df_contact['persoon_marketingcommunicatie'] = df_contact['persoon_marketingcommunicatie'] \\\n",
    "                                                            .str.replace('Strikt', '0').str.replace('Flexibel', '1') \\\n",
    "                                                            .str.replace('Uitgeschreven', '-1').str.replace('unknown', '-1').astype(int)\n",
    "\n",
    "df_contact.shape"
   ]
  },
  {
   "cell_type": "markdown",
   "metadata": {},
   "source": [
    "### Merge account and contact data"
   ]
  },
  {
   "cell_type": "code",
   "execution_count": 293,
   "metadata": {},
   "outputs": [
    {
     "data": {
      "text/plain": [
       "(16635, 21)"
      ]
     },
     "execution_count": 293,
     "metadata": {},
     "output_type": "execute_result"
    }
   ],
   "source": [
    "df = pd.merge(df_contact, df_account, on='accountID', how='inner')\n",
    "df.shape"
   ]
  },
  {
   "cell_type": "markdown",
   "metadata": {},
   "source": [
    "### Afspraken data"
   ]
  },
  {
   "cell_type": "code",
   "execution_count": 294,
   "metadata": {},
   "outputs": [
    {
     "data": {
      "text/plain": [
       "(2547, 4)"
      ]
     },
     "execution_count": 294,
     "metadata": {},
     "output_type": "execute_result"
    }
   ],
   "source": [
    "afspraak_cols = ['subthema', 'onderwerp', 'keyphrases', 'contactID']\n",
    "\n",
    "afspraak_condition = \"contactID is not null\"\n",
    "afspraak_query = create_query('DimAfspraak', afspraak_cols, afspraak_condition)\n",
    "df_afspraak = pd.read_sql(afspraak_query, conn)\n",
    "\n",
    "df_afspraak['thema'] = df_afspraak['subthema'].str.replace('\\(', '', regex=True)\n",
    "\n",
    "df_afspraak['thema'] = df_afspraak['thema'].str.replace('\\)', '', regex=True).str.lower() \\\n",
    "        .str.replace(r'[^\\w\\s]', '', regex=True).str.replace('  ', ' ').str.strip()\n",
    "\n",
    "df_afspraak['onderwerp'] = df_afspraak['onderwerp'].str.lower().astype(str).str.replace('ov-', '') \\\n",
    "        .str.replace('ov -', '').str.replace('ov ', '').str.replace('-', ' ') \\\n",
    "        .str.replace(r'[^\\w\\s]', '', regex=True).str.replace('  ', ' ').str.strip()\n",
    "\n",
    "df_afspraak['keyphrases'] = df_afspraak['keyphrases'].str.lower().str.replace(r'[^\\w\\s]', '', regex=True) \\\n",
    "                                                                            .str.replace('  ', ' ').str.strip()\n",
    "\n",
    "df_afspraak.drop(['subthema'], axis=1, inplace=True)\n",
    "df_afspraak.drop_duplicates(inplace=True)\n",
    "\n",
    "df_afspraak.shape"
   ]
  },
  {
   "cell_type": "code",
   "execution_count": 295,
   "metadata": {},
   "outputs": [
    {
     "data": {
      "text/plain": [
       "(4861, 4)"
      ]
     },
     "execution_count": 295,
     "metadata": {},
     "output_type": "execute_result"
    }
   ],
   "source": [
    "afspraak_cols = ['subthema', 'onderwerp', 'keyphrases', 'accountID']\n",
    "\n",
    "afspraak_condition = \"accountID is not null\"\n",
    "afspraak_query = create_query('DimAfspraak', afspraak_cols, afspraak_condition)\n",
    "df_afspraak1 = pd.read_sql(afspraak_query, conn)\n",
    "\n",
    "df_afspraak1['thema'] = df_afspraak1['subthema'].str.replace('\\(', '', regex=True)\n",
    "\n",
    "df_afspraak1['thema'] = df_afspraak1['thema'].str.replace('\\)', '', regex=True).str.lower() \\\n",
    "        .str.replace(r'[^\\w\\s]', '', regex=True).str.replace('  ', ' ').str.strip()\n",
    "\n",
    "df_afspraak1['onderwerp'] = df_afspraak1['onderwerp'].str.lower().astype(str).str.replace('ov-', '') \\\n",
    "        .str.replace('ov -', '').str.replace('ov ', '').str.replace('-', ' ') \\\n",
    "        .str.replace(r'[^\\w\\s]', '', regex=True).str.replace('  ', ' ').str.strip()\n",
    "\n",
    "df_afspraak1['keyphrases'] = df_afspraak1['keyphrases'].str.lower().str.replace(r'[^\\w\\s]', '', regex=True) \\\n",
    "                                                                            .str.replace('  ', ' ').str.strip()\n",
    "\n",
    "df_afspraak1.drop(['subthema'], axis=1, inplace=True)\n",
    "df_afspraak1.drop_duplicates(inplace=True)\n",
    "\n",
    "df_afspraak1.shape"
   ]
  },
  {
   "cell_type": "markdown",
   "metadata": {},
   "source": [
    "### Merge afspraken data met account en contact data"
   ]
  },
  {
   "cell_type": "code",
   "execution_count": 296,
   "metadata": {},
   "outputs": [
    {
     "data": {
      "text/plain": [
       "(31314, 24)"
      ]
     },
     "execution_count": 296,
     "metadata": {},
     "output_type": "execute_result"
    }
   ],
   "source": [
    "df = df.merge(df_afspraak, on=['contactID'], how='left')\n",
    "df = df.merge(df_afspraak1, on=['accountID'], how='left')\n",
    "\n",
    "df['onderwerp_x'] = df['onderwerp_x'].fillna('')\n",
    "df['onderwerp_y'] = df['onderwerp_y'].fillna('')\n",
    "df['keyphrases_x'] = df['keyphrases_x'].fillna('')\n",
    "df['keyphrases_y'] = df['keyphrases_y'].fillna('')\n",
    "df['thema_x'] = df['thema_x'].fillna('')\n",
    "df['thema_y'] = df['thema_y'].fillna('')\n",
    "\n",
    "df['onderwerp'] = df['onderwerp_x'] + ' ' + df['onderwerp_y']\n",
    "df['keyphrases'] = df['keyphrases_x'] + ' ' + df['keyphrases_y']\n",
    "df['thema'] = df['thema_x'] + ' ' + df['thema_y']\n",
    "\n",
    "df['onderwerp'] = df['onderwerp'].str.strip().apply(lambda x: ' '.join(list(set(x.replace('  ', ' ').split(' ')))))\n",
    "df['keyphrases'] = df['keyphrases'].str.strip().apply(lambda x: ' '.join(list(set(x.replace('  ', ' ').split(' ')))))\n",
    "df['thema'] = df['thema'].str.strip().apply(lambda x: ' '.join(list(set(x.replace('  ', ' ').split(' ')))))\n",
    "\n",
    "df.drop(['onderwerp_x', 'onderwerp_y', 'keyphrases_x', 'keyphrases_y', 'thema_x', 'thema_y'], axis=1, inplace=True)\n",
    "df.drop_duplicates(inplace=True)\n",
    "df.shape"
   ]
  },
  {
   "cell_type": "markdown",
   "metadata": {},
   "source": [
    "### Campagne data"
   ]
  },
  {
   "cell_type": "code",
   "execution_count": 297,
   "metadata": {},
   "outputs": [
    {
     "data": {
      "text/plain": [
       "(4101, 4)"
      ]
     },
     "execution_count": 297,
     "metadata": {},
     "output_type": "execute_result"
    }
   ],
   "source": [
    "campagne_cols = ['campagneID', 'campagneNaam', 'campagneType', 'campagneSoort']\n",
    "\n",
    "campagne_query = create_query('DimCampagne', campagne_cols)\n",
    "df_campagne = pd.read_sql(campagne_query, conn)\n",
    "\n",
    "df_campagne['campagneNaam'] = df_campagne['campagneNaam'].str.replace('OV-', '').str.replace('ov-', '') \\\n",
    "                                    .str.replace('-', ' ').str.replace(r'[^\\w\\s]', '', regex=True) \\\n",
    "                                    .str.replace('  ', ' ').str.strip().str.lower().str.replace('  ', ' ')\n",
    "\n",
    "df_campagne.shape"
   ]
  },
  {
   "cell_type": "markdown",
   "metadata": {},
   "source": [
    "### Inschrijvingen data"
   ]
  },
  {
   "cell_type": "code",
   "execution_count": 298,
   "metadata": {},
   "outputs": [
    {
     "data": {
      "text/plain": [
       "(91851, 3)"
      ]
     },
     "execution_count": 298,
     "metadata": {},
     "output_type": "execute_result"
    }
   ],
   "source": [
    "inschrijving_cols = ['campagneID', 'contactID', 'bron']\n",
    "\n",
    "inschrijving_query = create_query('FactInschrijving', inschrijving_cols)\n",
    "df_inschrijving = pd.read_sql(inschrijving_query, conn)\n",
    "\n",
    "df_inschrijving['bron'] = df_inschrijving['bron'].astype(str).str.replace('unknown', '-1') \\\n",
    "                            .str.replace('Website', '0').str.replace('Email', '1').astype(int)\n",
    "\n",
    "df_inschrijving.shape"
   ]
  },
  {
   "cell_type": "markdown",
   "metadata": {},
   "source": [
    "### Campagne en inschrijvingen data samenvoegen"
   ]
  },
  {
   "cell_type": "code",
   "execution_count": 300,
   "metadata": {},
   "outputs": [
    {
     "data": {
      "text/plain": [
       "(48531, 6)"
      ]
     },
     "execution_count": 300,
     "metadata": {},
     "output_type": "execute_result"
    }
   ],
   "source": [
    "df_campagne_inschrijving = pd.merge(df_campagne, df_inschrijving, on='campagneID', how='inner')\n",
    "df_campagne_inschrijving.drop_duplicates(inplace=True)\n",
    "df_campagne_inschrijving.shape"
   ]
  },
  {
   "cell_type": "markdown",
   "metadata": {},
   "source": [
    "### Sessie data"
   ]
  },
  {
   "cell_type": "code",
   "execution_count": 301,
   "metadata": {},
   "outputs": [
    {
     "data": {
      "text/plain": [
       "(1954, 2)"
      ]
     },
     "execution_count": 301,
     "metadata": {},
     "output_type": "execute_result"
    }
   ],
   "source": [
    "sessie_cols = ['campaignID', 'themaNaam']\n",
    "\n",
    "sessie_query = create_query('DimSessie', sessie_cols)\n",
    "df_sessie = pd.read_sql(sessie_query, conn)\n",
    "\n",
    "df_sessie = df_sessie.groupby('campaignID')['themaNaam'].apply(list).reset_index()\n",
    "df_sessie['themaNaam'] = df_sessie['themaNaam'].apply(lambda x: ', '.join(list(set(x))))\n",
    "df_sessie['themaNaam'] = df_sessie['themaNaam'].str.replace('OV-', '').str.replace('ov-', '') \\\n",
    "                                                            .str.replace('-', ' ').str.replace(r'[^\\w\\s]', '', regex=True) \\\n",
    "                                                            .str.replace('  ', ' ').str.strip().str.lower().str.replace('  ', ' ')\n",
    "\n",
    "df_sessie.shape"
   ]
  },
  {
   "cell_type": "markdown",
   "metadata": {},
   "source": [
    "### Sessie en campagne/inschrijvingen data samenvoegen"
   ]
  },
  {
   "cell_type": "code",
   "execution_count": 302,
   "metadata": {},
   "outputs": [
    {
     "data": {
      "text/plain": [
       "(48531, 8)"
      ]
     },
     "execution_count": 302,
     "metadata": {},
     "output_type": "execute_result"
    }
   ],
   "source": [
    "df_campagne_inschrijving_sessie = pd.merge(df_campagne_inschrijving, df_sessie, left_on='campagneID', right_on='campaignID', how='inner')\n",
    "df_campagne_inschrijving_sessie.drop_duplicates(inplace=True)\n",
    "df_campagne_inschrijving_sessie.shape"
   ]
  },
  {
   "cell_type": "markdown",
   "metadata": {},
   "source": [
    "### Campagne, inschrijvingen en sessie data samenvoegen met account en contact data"
   ]
  },
  {
   "cell_type": "code",
   "execution_count": 303,
   "metadata": {},
   "outputs": [
    {
     "data": {
      "text/plain": [
       "(41122, 31)"
      ]
     },
     "execution_count": 303,
     "metadata": {},
     "output_type": "execute_result"
    }
   ],
   "source": [
    "df = pd.merge(df, df_campagne_inschrijving_sessie, on='contactID', how='inner')\n",
    "df.shape"
   ]
  },
  {
   "cell_type": "markdown",
   "metadata": {},
   "source": [
    "### Visit data"
   ]
  },
  {
   "cell_type": "code",
   "execution_count": 304,
   "metadata": {},
   "outputs": [
    {
     "data": {
      "text/plain": [
       "(6124, 5)"
      ]
     },
     "execution_count": 304,
     "metadata": {},
     "output_type": "execute_result"
    }
   ],
   "source": [
    "# TODO: meer kolommen in DWH toevoegen\n",
    "visit_cols = ['contactID', 'visit_first_visit', 'visit_total_pages', 'mailing_onderwerp', 'mailSent_clicks', 'mailSent']\n",
    "\n",
    "visit_query = create_query('DimVisit', visit_cols)\n",
    "df_visit = pd.read_sql(visit_query, conn)\n",
    "\n",
    "df_visit.drop_duplicates(inplace=True)\n",
    "\n",
    "df_visit['visit_first_visit'] = df_visit['visit_first_visit'] \\\n",
    "      .str.replace('Ja', '0').str.replace('Nee', '1') \\\n",
    "      .str.replace('unknown', '-1').astype(int)\n",
    "\n",
    "df_visit['visit_total_pages'] = df_visit['visit_total_pages']\\\n",
    "      .replace('unknown', '-1.0').astype(float)\n",
    "\n",
    "df_visit['aantal_mails'] = df_visit.groupby(\n",
    "    ['contactID'])['mailSent'].transform('nunique')\n",
    "\n",
    "df_visit['clicks_total'] = df_visit.groupby(\n",
    "    ['contactID'])['mailSent_clicks'].transform('sum')\n",
    "\n",
    "df_visit['visit_total_pages'] = df_visit.groupby(\n",
    "    ['contactID'])['visit_total_pages'].transform('sum')\n",
    "\n",
    "df_visit['visit_first_visit'] = df_visit.groupby(\n",
    "    ['contactID'])['visit_first_visit'].transform('sum')\n",
    "\n",
    "df_visit['mail_click_freq'] = df_visit['clicks_total'] / df_visit['aantal_mails']\n",
    "\n",
    "df_visit.drop(['mailSent', 'mailSent_clicks', 'clicks_total', 'aantal_mails'], axis=1, inplace=True)\n",
    "df_visit.drop_duplicates(inplace=True)\n",
    "df_visit.shape"
   ]
  },
  {
   "cell_type": "markdown",
   "metadata": {},
   "source": [
    "### Final merge"
   ]
  },
  {
   "cell_type": "code",
   "execution_count": 305,
   "metadata": {},
   "outputs": [
    {
     "data": {
      "text/plain": [
       "(21419, 35)"
      ]
     },
     "execution_count": 305,
     "metadata": {},
     "output_type": "execute_result"
    }
   ],
   "source": [
    "df = pd.merge(df, df_visit, on='contactID', how='inner')\n",
    "\n",
    "# TODO: maak keyphrases\n",
    "\n",
    "df.drop_duplicates(inplace=True)\n",
    "df.shape"
   ]
  },
  {
   "cell_type": "markdown",
   "metadata": {},
   "source": [
    "### Preprocessing + marketing_pressure calculation"
   ]
  },
  {
   "cell_type": "code",
   "execution_count": 306,
   "metadata": {},
   "outputs": [],
   "source": [
    "def calc_marketing_pressure(df):\n",
    "    marketing_pressure_cols = [col for col in df.columns if col.__contains__('persoon_mail_type') \n",
    "                           or col.__contains__('persoon_mail_thema') or col.__contains__('persoon_marketingcommunicatie')]\n",
    "\n",
    "    marketing_pressure_cols.append('bron')\n",
    "    marketing_pressure_cols.append('visit_first_visit')\n",
    "    marketing_pressure_cols.append('visit_total_pages')\n",
    "    marketing_pressure_cols.append('mail_click_freq')\n",
    "\n",
    "    df['marketing_pressure'] = df[marketing_pressure_cols].sum(axis=1)\n",
    "    df['marketing_pressure'] = df['marketing_pressure'].astype(int)\n",
    "    df.drop(marketing_pressure_cols, axis=1, inplace=True)\n",
    "\n",
    "    return df"
   ]
  },
  {
   "cell_type": "code",
   "execution_count": 307,
   "metadata": {},
   "outputs": [],
   "source": [
    "df = calc_marketing_pressure(df)\n",
    "\n",
    "df = df.groupby('contactID').agg(list)\n",
    "\n",
    "df['marketing_pressure'] = df['marketing_pressure'].apply(lambda x: np.mean(x).round(0).astype(int))\n",
    "df['keyphrases'] = df['keyphrases'].apply(lambda x: ','.join(list(set(x))))\n",
    "    \n",
    "df.reset_index(inplace=True)"
   ]
  },
  {
   "cell_type": "markdown",
   "metadata": {},
   "source": [
    "### Recommendation system"
   ]
  },
  {
   "cell_type": "code",
   "execution_count": null,
   "metadata": {},
   "outputs": [],
   "source": [
    "def recommend(df, new_keyphrase: str, top_n=10):\n",
    "    # preprocessing\n",
    "    scaler = MinMaxScaler()\n",
    "    df['marketing_pressure'] = scaler.fit_transform(df[['marketing_pressure']])\n",
    "    # vectorization\n",
    "    tfidf = TfidfVectorizer()\n",
    "    tfidf_matrix = tfidf.fit_transform(df['keyphrases'])\n",
    "    # vectorize the new keyphrase and calculate similarity\n",
    "    new_keyphrase_tfidf = tfidf.transform([new_keyphrase])\n",
    "    sim_score_new = cosine_similarity(new_keyphrase_tfidf, tfidf_matrix)\n",
    "    # sort the similarity scores\n",
    "    contact_person_similarity = list(enumerate(sim_score_new[0]))\n",
    "    sorted_contact_persons = sorted(contact_person_similarity, key=lambda x: x[1], reverse=True)\n",
    "    # get the top n similar contact persons\n",
    "    top_contact_persons = sorted_contact_persons[:top_n]\n",
    "    # Create a set to keep track of recommended contact IDs\n",
    "    recommended_contact_ids = set()\n",
    "    # Iterate through the sorted contact persons and add unique contact IDs to the set\n",
    "    for index, _ in top_contact_persons:\n",
    "        contact_id = df['contact_contactpersoon_id'][index]\n",
    "        recommended_contact_ids.add(contact_id)\n",
    "    # Convert the set back to a list\n",
    "    recommended_contact_ids = list(recommended_contact_ids)\n",
    "    # This would not remove the duplicates\n",
    "    # recommended_contact_ids = [df['contact_contactpersoon_id'][index] for index, _ in top_contact_persons]\n",
    "    # sort the contact ids by marketing pressure\n",
    "    recommended_contact_ids = sorted(recommended_contact_ids, key=lambda x: df[df['contact_contactpersoon_id'] == x]['marketing_pressure'].values[0], reverse=False)\n",
    "    # result\n",
    "    results_list = []\n",
    "    print(\"Recommended Contact Persons for the New Campaign:\")\n",
    "    for contact_id in recommended_contact_ids:\n",
    "        marketing_pressure = df[df['contact_contactpersoon_id'] == contact_id]['marketing_pressure'].values[0]\n",
    "        results_list.append((contact_id, marketing_pressure))\n",
    "    return results_list"
   ]
  },
  {
   "cell_type": "markdown",
   "metadata": {},
   "source": [
    "### Test the recommendation system"
   ]
  },
  {
   "cell_type": "code",
   "execution_count": null,
   "metadata": {},
   "outputs": [],
   "source": [
    "campaign_keyphrase = 'volwassen, ov, gent, merelbeke, ondernemen, winst, ceo, bedrijf, netwerkevenement'\n",
    "recommend(df, campaign_keyphrase)"
   ]
  }
 ],
 "metadata": {
  "kernelspec": {
   "display_name": ".venv",
   "language": "python",
   "name": "python3"
  },
  "language_info": {
   "codemirror_mode": {
    "name": "ipython",
    "version": 3
   },
   "file_extension": ".py",
   "mimetype": "text/x-python",
   "name": "python",
   "nbconvert_exporter": "python",
   "pygments_lexer": "ipython3",
   "version": "3.11.3"
  }
 },
 "nbformat": 4,
 "nbformat_minor": 2
}
