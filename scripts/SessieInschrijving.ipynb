{
 "cells": [
  {
   "cell_type": "code",
   "execution_count": 1,
   "metadata": {},
   "outputs": [
    {
     "data": {
      "text/html": [
       "<div>\n",
       "<style scoped>\n",
       "    .dataframe tbody tr th:only-of-type {\n",
       "        vertical-align: middle;\n",
       "    }\n",
       "\n",
       "    .dataframe tbody tr th {\n",
       "        vertical-align: top;\n",
       "    }\n",
       "\n",
       "    .dataframe thead th {\n",
       "        text-align: right;\n",
       "    }\n",
       "</style>\n",
       "<table border=\"1\" class=\"dataframe\">\n",
       "  <thead>\n",
       "    <tr style=\"text-align: right;\">\n",
       "      <th></th>\n",
       "      <th>crm_SessieInschrijving_SessieInschrijving</th>\n",
       "      <th>crm_SessieInschrijving_Sessie</th>\n",
       "      <th>crm_SessieInschrijving_Inschrijving</th>\n",
       "    </tr>\n",
       "  </thead>\n",
       "  <tbody>\n",
       "    <tr>\n",
       "      <th>0</th>\n",
       "      <td>NaN</td>\n",
       "      <td>NaN</td>\n",
       "      <td>NaN</td>\n",
       "    </tr>\n",
       "    <tr>\n",
       "      <th>1</th>\n",
       "      <td>NaN</td>\n",
       "      <td>NaN</td>\n",
       "      <td>NaN</td>\n",
       "    </tr>\n",
       "    <tr>\n",
       "      <th>2</th>\n",
       "      <td>NaN</td>\n",
       "      <td>NaN</td>\n",
       "      <td>NaN</td>\n",
       "    </tr>\n",
       "    <tr>\n",
       "      <th>3</th>\n",
       "      <td>NaN</td>\n",
       "      <td>NaN</td>\n",
       "      <td>NaN</td>\n",
       "    </tr>\n",
       "    <tr>\n",
       "      <th>4</th>\n",
       "      <td>NaN</td>\n",
       "      <td>NaN</td>\n",
       "      <td>NaN</td>\n",
       "    </tr>\n",
       "  </tbody>\n",
       "</table>\n",
       "</div>"
      ],
      "text/plain": [
       "  crm_SessieInschrijving_SessieInschrijving crm_SessieInschrijving_Sessie  \\\n",
       "0                                       NaN                           NaN   \n",
       "1                                       NaN                           NaN   \n",
       "2                                       NaN                           NaN   \n",
       "3                                       NaN                           NaN   \n",
       "4                                       NaN                           NaN   \n",
       "\n",
       "  crm_SessieInschrijving_Inschrijving  \n",
       "0                                 NaN  \n",
       "1                                 NaN  \n",
       "2                                 NaN  \n",
       "3                                 NaN  \n",
       "4                                 NaN  "
      ]
     },
     "execution_count": 1,
     "metadata": {},
     "output_type": "execute_result"
    }
   ],
   "source": [
    "import pandas as pd\n",
    "data = pd.read_csv('../data/Sessie inschrijving.csv', sep=\",\")\n",
    "data.head()"
   ]
  },
  {
   "cell_type": "code",
   "execution_count": 2,
   "metadata": {},
   "outputs": [
    {
     "name": "stdout",
     "output_type": "stream",
     "text": [
      "<class 'pandas.core.frame.DataFrame'>\n",
      "RangeIndex: 1417368 entries, 0 to 1417367\n",
      "Data columns (total 3 columns):\n",
      " #   Column                                     Non-Null Count    Dtype \n",
      "---  ------                                     --------------    ----- \n",
      " 0   crm_SessieInschrijving_SessieInschrijving  1413178 non-null  object\n",
      " 1   crm_SessieInschrijving_Sessie              1413178 non-null  object\n",
      " 2   crm_SessieInschrijving_Inschrijving        1413178 non-null  object\n",
      "dtypes: object(3)\n",
      "memory usage: 32.4+ MB\n"
     ]
    }
   ],
   "source": [
    "data.info()"
   ]
  },
  {
   "cell_type": "code",
   "execution_count": 3,
   "metadata": {},
   "outputs": [],
   "source": [
    "data.dropna(inplace=True)"
   ]
  },
  {
   "cell_type": "code",
   "execution_count": 4,
   "metadata": {},
   "outputs": [
    {
     "name": "stdout",
     "output_type": "stream",
     "text": [
      "<class 'pandas.core.frame.DataFrame'>\n",
      "Int64Index: 1413178 entries, 4190 to 1417367\n",
      "Data columns (total 3 columns):\n",
      " #   Column                                     Non-Null Count    Dtype \n",
      "---  ------                                     --------------    ----- \n",
      " 0   crm_SessieInschrijving_SessieInschrijving  1413178 non-null  object\n",
      " 1   crm_SessieInschrijving_Sessie              1413178 non-null  object\n",
      " 2   crm_SessieInschrijving_Inschrijving        1413178 non-null  object\n",
      "dtypes: object(3)\n",
      "memory usage: 43.1+ MB\n"
     ]
    }
   ],
   "source": [
    "data.info()"
   ]
  },
  {
   "cell_type": "code",
   "execution_count": 5,
   "metadata": {},
   "outputs": [
    {
     "data": {
      "text/html": [
       "<div>\n",
       "<style scoped>\n",
       "    .dataframe tbody tr th:only-of-type {\n",
       "        vertical-align: middle;\n",
       "    }\n",
       "\n",
       "    .dataframe tbody tr th {\n",
       "        vertical-align: top;\n",
       "    }\n",
       "\n",
       "    .dataframe thead th {\n",
       "        text-align: right;\n",
       "    }\n",
       "</style>\n",
       "<table border=\"1\" class=\"dataframe\">\n",
       "  <thead>\n",
       "    <tr style=\"text-align: right;\">\n",
       "      <th></th>\n",
       "      <th>crm_SessieInschrijving_SessieInschrijving</th>\n",
       "      <th>crm_SessieInschrijving_Sessie</th>\n",
       "      <th>crm_SessieInschrijving_Inschrijving</th>\n",
       "    </tr>\n",
       "  </thead>\n",
       "  <tbody>\n",
       "    <tr>\n",
       "      <th>4190</th>\n",
       "      <td>00000033-7696-E911-80FF-001DD8B72B61</td>\n",
       "      <td>5C0D87E1-8275-E911-80FE-001DD8B72B62</td>\n",
       "      <td>F6FFFF32-7696-E911-80FF-001DD8B72B61</td>\n",
       "    </tr>\n",
       "    <tr>\n",
       "      <th>4191</th>\n",
       "      <td>000003B8-B7F7-E311-956D-005056B06EB4</td>\n",
       "      <td>9D62E8AA-B7F7-E311-956D-005056B06EB4</td>\n",
       "      <td>FFFF02B8-B7F7-E311-956D-005056B06EB4</td>\n",
       "    </tr>\n",
       "    <tr>\n",
       "      <th>4192</th>\n",
       "      <td>00001C33-FE05-EA11-8107-001DD8B72B61</td>\n",
       "      <td>FAFF1B33-FE05-EA11-8107-001DD8B72B61</td>\n",
       "      <td>B78C945E-FD9B-E911-8100-001DD8B72B61</td>\n",
       "    </tr>\n",
       "    <tr>\n",
       "      <th>4193</th>\n",
       "      <td>00002092-25C9-E711-80EC-001DD8B72B62</td>\n",
       "      <td>C2192CB8-D319-E711-80E4-001DD8B72B62</td>\n",
       "      <td>FDFF1F92-25C9-E711-80EC-001DD8B72B62</td>\n",
       "    </tr>\n",
       "    <tr>\n",
       "      <th>4194</th>\n",
       "      <td>0000254F-0CBB-E111-92F9-1CC1DE6D1BD7</td>\n",
       "      <td>B636C1E9-AEB8-E111-A45C-00505680000A</td>\n",
       "      <td>FA77B7FB-30B9-E111-A45C-00505680000A</td>\n",
       "    </tr>\n",
       "  </tbody>\n",
       "</table>\n",
       "</div>"
      ],
      "text/plain": [
       "     crm_SessieInschrijving_SessieInschrijving  \\\n",
       "4190      00000033-7696-E911-80FF-001DD8B72B61   \n",
       "4191      000003B8-B7F7-E311-956D-005056B06EB4   \n",
       "4192      00001C33-FE05-EA11-8107-001DD8B72B61   \n",
       "4193      00002092-25C9-E711-80EC-001DD8B72B62   \n",
       "4194      0000254F-0CBB-E111-92F9-1CC1DE6D1BD7   \n",
       "\n",
       "             crm_SessieInschrijving_Sessie  \\\n",
       "4190  5C0D87E1-8275-E911-80FE-001DD8B72B62   \n",
       "4191  9D62E8AA-B7F7-E311-956D-005056B06EB4   \n",
       "4192  FAFF1B33-FE05-EA11-8107-001DD8B72B61   \n",
       "4193  C2192CB8-D319-E711-80E4-001DD8B72B62   \n",
       "4194  B636C1E9-AEB8-E111-A45C-00505680000A   \n",
       "\n",
       "       crm_SessieInschrijving_Inschrijving  \n",
       "4190  F6FFFF32-7696-E911-80FF-001DD8B72B61  \n",
       "4191  FFFF02B8-B7F7-E311-956D-005056B06EB4  \n",
       "4192  B78C945E-FD9B-E911-8100-001DD8B72B61  \n",
       "4193  FDFF1F92-25C9-E711-80EC-001DD8B72B62  \n",
       "4194  FA77B7FB-30B9-E111-A45C-00505680000A  "
      ]
     },
     "execution_count": 5,
     "metadata": {},
     "output_type": "execute_result"
    }
   ],
   "source": [
    "data.head()"
   ]
  }
 ],
 "metadata": {
  "kernelspec": {
   "display_name": "Python 3",
   "language": "python",
   "name": "python3"
  },
  "language_info": {
   "codemirror_mode": {
    "name": "ipython",
    "version": 3
   },
   "file_extension": ".py",
   "mimetype": "text/x-python",
   "name": "python",
   "nbconvert_exporter": "python",
   "pygments_lexer": "ipython3",
   "version": "3.11.2"
  }
 },
 "nbformat": 4,
 "nbformat_minor": 2
}
