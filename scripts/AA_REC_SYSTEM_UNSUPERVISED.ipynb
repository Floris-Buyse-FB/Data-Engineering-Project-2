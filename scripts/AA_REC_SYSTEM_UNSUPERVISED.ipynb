{
 "cells": [
  {
   "cell_type": "code",
   "execution_count": 1,
   "metadata": {},
   "outputs": [],
   "source": [
    "import pandas as pd\n",
    "import numpy as np\n",
    "import matplotlib.pyplot as plt\n",
    "import os"
   ]
  },
  {
   "cell_type": "code",
   "execution_count": 70,
   "metadata": {},
   "outputs": [
    {
     "data": {
      "text/plain": [
       "(250668, 19)"
      ]
     },
     "execution_count": 70,
     "metadata": {},
     "output_type": "execute_result"
    }
   ],
   "source": [
    "df = pd.read_csv('../data_clean/merged_total.csv')\n",
    "df.fillna('unknown', inplace=True)\n",
    "df.shape"
   ]
  },
  {
   "cell_type": "markdown",
   "metadata": {},
   "source": [
    "### Embedding"
   ]
  },
  {
   "cell_type": "code",
   "execution_count": 46,
   "metadata": {},
   "outputs": [],
   "source": [
    "import openai\n",
    "from dotenv import load_dotenv"
   ]
  },
  {
   "cell_type": "code",
   "execution_count": 47,
   "metadata": {},
   "outputs": [
    {
     "data": {
      "text/plain": [
       "Index(['afspraak_keyphrases', 'account_keyphrases', 'campagne_keyphrases',\n",
       "       'sessie_keyphrases', 'visit_keyphrases', 'mailing_keyphrases'],\n",
       "      dtype='object')"
      ]
     },
     "execution_count": 47,
     "metadata": {},
     "output_type": "execute_result"
    }
   ],
   "source": [
    "load_dotenv(\"../.env\")\n",
    "openai.api_key = os.getenv('OPENAI_API_KEY')\n",
    "\n",
    "embedding_model = \"text-embedding-ada-002\"\n",
    "\n",
    "cat_cols = df.select_dtypes(include=['object']).columns\n",
    "cat_cols = cat_cols[(cat_cols != 'visit_bounce') & (cat_cols != 'contact_contactpersoon_id') & (cat_cols != 'account_account_id')]\n",
    "\n",
    "cat_cols"
   ]
  },
  {
   "cell_type": "code",
   "execution_count": 48,
   "metadata": {},
   "outputs": [],
   "source": [
    "def get_embedding(text):\n",
    "    response = openai.Embedding.create(\n",
    "    input=text,\n",
    "    model=embedding_model\n",
    "    )   \n",
    "    return response['data'][0]['embedding']\n",
    "\n",
    "\n",
    "def embed_col(df, col):\n",
    "    unique_col = df[col].unique().tolist()\n",
    "    dict_temp = {}\n",
    "\n",
    "    for i in unique_col:\n",
    "        dict_temp[i] = get_embedding(i)\n",
    "    \n",
    "    df[col+'_embed'] = df[col].map(dict_temp)\n",
    "    df.drop(columns=[col], inplace=True)\n",
    "\n",
    "    print(f'Column {col} embedded\\nDataframe shape: {df.shape}')\n",
    "    \n",
    "    return df"
   ]
  },
  {
   "cell_type": "code",
   "execution_count": 71,
   "metadata": {},
   "outputs": [],
   "source": [
    "df['account_keyphrases'] = df['account_keyphrases'].str.replace(', -,', '').str.replace(', , ', ', ')\n",
    "df['campagne_keyphrases'] = df['campagne_keyphrases'].str.replace(' - ', ' ')\n",
    "\n",
    "teams_dict = {\n",
    "'jo': ' jong ondernemen ',\n",
    "'do': ' duurzaam ondernemen ',\n",
    "'in': ' innovatie digitalisering ',\n",
    "'io': ' internationaal ondernemen ',\n",
    "'ao': ' arbeidsmarkt ',\n",
    "'ex': ' expert ',\n",
    "'gr': ' groei ',\n",
    "'bb': ' belangenbehartiging ',\n",
    "'co': ' communicatie ',\n",
    "'nw': ' netwerking ',\n",
    "'ha': ' haven ',\n",
    "'ma': ' match '\n",
    "}\n",
    "\n",
    "df['sessie_keyphrases'] = df['sessie_keyphrases'].str.replace(r'(^[a-z]{2})', lambda x: teams_dict.get(x.group(1), x.group(1)), regex=True)\n",
    "df['sessie_keyphrases'] = df['sessie_keyphrases'].str.replace(r'(\\s[a-z]{2}\\s)', lambda x: teams_dict.get(x.group(1), x.group(1)), regex=True)\n",
    "df['sessie_keyphrases'] = df['sessie_keyphrases'].str.replace(r'(\\s[a-z]{2},)', lambda x: teams_dict.get(x.group(1), x.group(1)), regex=True)\n",
    "df['sessie_keyphrases'] = df['sessie_keyphrases'].str.replace(r'(\\s[a-z]{2}\\s)', '', regex=True)\n",
    "df['sessie_keyphrases'] = df['sessie_keyphrases'].str.replace(r'(\\s[a-z]{2},)', '', regex=True)\n",
    "df['sessie_keyphrases'] = df['sessie_keyphrases'].str.replace(r'\\d+-', '', regex=True)\n",
    "df['sessie_keyphrases'] = df['sessie_keyphrases'].str.replace(r'^[a-z0-9]{2}\\s', '', regex=True)\n",
    "df['sessie_keyphrases'] = df['sessie_keyphrases'].str.replace('-klt', '')\n",
    "df['sessie_keyphrases'] = df['sessie_keyphrases'].str.replace('klt', '')\n",
    "df['sessie_keyphrases'] = df['sessie_keyphrases'].str.replace('-llt', '').str.lower().str.strip()\n",
    "\n",
    "df['visit_keyphrases'] = df['visit_keyphrases'].str.replace(r'[a-zA-Z]+\\d+[a-zA-Z]+', '', regex=True)\n",
    "df['visit_keyphrases'] = df['visit_keyphrases'].str.replace(', ,', ',')\n",
    "df['visit_keyphrases'] = df['visit_keyphrases'].str.replace('www', '').str.replace('vokabe', 'voka')"
   ]
  },
  {
   "cell_type": "markdown",
   "metadata": {},
   "source": [
    "### CLUSTERING"
   ]
  },
  {
   "cell_type": "code",
   "execution_count": 6,
   "metadata": {},
   "outputs": [],
   "source": [
    "from sklearn.cluster import DBSCAN"
   ]
  },
  {
   "cell_type": "code",
   "execution_count": null,
   "metadata": {},
   "outputs": [],
   "source": [
    "# reduce the value from each embedded column to a single value\n",
    "def reduce_embedding(embedded):\n",
    "    return np.mean(embedded)\n",
    "\n",
    "df['campagne_naam_embedded'] = df['campagne_naam_embedded'].apply(lambda x: reduce_embedding(x))\n",
    "df['visit_ip_embedded'] = df['visit_ip_embedded'].apply(lambda x: reduce_embedding(x))\n",
    "df['afspraak_keyphrases_embedded'] = df['afspraak_keyphrases_embedded'].apply(lambda x: reduce_embedding(x))\n",
    "df['mailing_name_embedded'] = df['mailing_name_embedded'].apply(lambda x: reduce_embedding(x))\n",
    "df['mailing_onderwerp_embedded'] = df['mailing_onderwerp_embedded'].apply(lambda x: reduce_embedding(x))\n",
    "\n",
    "df.shape"
   ]
  },
  {
   "cell_type": "code",
   "execution_count": null,
   "metadata": {},
   "outputs": [],
   "source": [
    "dbscan = DBSCAN(eps=0.5, min_samples=5, ).fit(df)"
   ]
  },
  {
   "cell_type": "code",
   "execution_count": null,
   "metadata": {},
   "outputs": [
    {
     "name": "stdout",
     "output_type": "stream",
     "text": [
      "Estimated number of clusters: 60\n",
      "Estimated number of noise points: 9604\n"
     ]
    }
   ],
   "source": [
    "labels_db = dbscan.labels_\n",
    "\n",
    "# Number of clusters in labels, ignoring noise if present.\n",
    "n_clusters_ = len(set(labels_db)) - (1 if -1 in labels_db else 0)\n",
    "n_noise_ = list(labels_db).count(-1)\n",
    "\n",
    "print(\"Estimated number of clusters: %d\" % n_clusters_)\n",
    "print(\"Estimated number of noise points: %d\" % n_noise_)"
   ]
  },
  {
   "cell_type": "code",
   "execution_count": null,
   "metadata": {},
   "outputs": [
    {
     "data": {
      "text/plain": [
       "{'algorithm': 'auto',\n",
       " 'eps': 0.5,\n",
       " 'leaf_size': 30,\n",
       " 'metric': 'euclidean',\n",
       " 'metric_params': None,\n",
       " 'min_samples': 5,\n",
       " 'n_jobs': None,\n",
       " 'p': None}"
      ]
     },
     "execution_count": 87,
     "metadata": {},
     "output_type": "execute_result"
    }
   ],
   "source": [
    "dbscan.get_params(deep=True)"
   ]
  }
 ],
 "metadata": {
  "kernelspec": {
   "display_name": "Python 3",
   "language": "python",
   "name": "python3"
  },
  "language_info": {
   "codemirror_mode": {
    "name": "ipython",
    "version": 3
   },
   "file_extension": ".py",
   "mimetype": "text/x-python",
   "name": "python",
   "nbconvert_exporter": "python",
   "pygments_lexer": "ipython3",
   "version": "3.11.3"
  }
 },
 "nbformat": 4,
 "nbformat_minor": 2
}
