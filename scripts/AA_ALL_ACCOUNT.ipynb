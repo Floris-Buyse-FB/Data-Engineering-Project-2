{
 "cells": [
  {
   "cell_type": "code",
   "execution_count": 1,
   "metadata": {},
   "outputs": [],
   "source": [
    "import pandas as pd\n",
    "import numpy as np\n",
    "import os"
   ]
  },
  {
   "cell_type": "markdown",
   "metadata": {},
   "source": [
    "### Account.csv"
   ]
  },
  {
   "cell_type": "code",
   "execution_count": 2,
   "metadata": {},
   "outputs": [
    {
     "data": {
      "text/html": [
       "<div>\n",
       "<style scoped>\n",
       "    .dataframe tbody tr th:only-of-type {\n",
       "        vertical-align: middle;\n",
       "    }\n",
       "\n",
       "    .dataframe tbody tr th {\n",
       "        vertical-align: top;\n",
       "    }\n",
       "\n",
       "    .dataframe thead th {\n",
       "        text-align: right;\n",
       "    }\n",
       "</style>\n",
       "<table border=\"1\" class=\"dataframe\">\n",
       "  <thead>\n",
       "    <tr style=\"text-align: right;\">\n",
       "      <th></th>\n",
       "      <th>account_account_id</th>\n",
       "      <th>account_adres_geografische_regio</th>\n",
       "      <th>account_adres_geografische_subregio</th>\n",
       "      <th>account_adres_plaats</th>\n",
       "      <th>account_adres_postcode</th>\n",
       "      <th>account_adres_provincie</th>\n",
       "      <th>account_industriezone_naam_</th>\n",
       "      <th>account_is_voka_entiteit</th>\n",
       "      <th>account_ondernemingsaard</th>\n",
       "      <th>account_ondernemingstype</th>\n",
       "      <th>account_oprichtingsdatum</th>\n",
       "      <th>account_primaire_activiteit</th>\n",
       "      <th>account_reden_van_status</th>\n",
       "      <th>account_status</th>\n",
       "      <th>account_voka_nr_</th>\n",
       "      <th>account_adres_land</th>\n",
       "    </tr>\n",
       "  </thead>\n",
       "  <tbody>\n",
       "    <tr>\n",
       "      <th>0</th>\n",
       "      <td>00002561-6762-EC11-8F8F-000D3A2E7738</td>\n",
       "      <td>Mechelen-Kempen</td>\n",
       "      <td>Kempen-West</td>\n",
       "      <td>Herentals</td>\n",
       "      <td>2200</td>\n",
       "      <td>Antwerpen</td>\n",
       "      <td>unknown</td>\n",
       "      <td>0</td>\n",
       "      <td>unknown</td>\n",
       "      <td>Bedrijf</td>\n",
       "      <td>8-9-2013</td>\n",
       "      <td>unknown</td>\n",
       "      <td>Actief</td>\n",
       "      <td>1</td>\n",
       "      <td>291484</td>\n",
       "      <td>België</td>\n",
       "    </tr>\n",
       "    <tr>\n",
       "      <th>1</th>\n",
       "      <td>00002DAC-0A69-E111-B43A-00505680000A</td>\n",
       "      <td>Oost-Vlaanderen</td>\n",
       "      <td>Oudenaarde</td>\n",
       "      <td>BEVERE</td>\n",
       "      <td>9700</td>\n",
       "      <td>Oost-Vlaanderen</td>\n",
       "      <td>unknown</td>\n",
       "      <td>0</td>\n",
       "      <td>Diensten</td>\n",
       "      <td>Bedrijf</td>\n",
       "      <td>2-10-1989</td>\n",
       "      <td>Overige industrie &amp; diensten</td>\n",
       "      <td>Actief</td>\n",
       "      <td>1</td>\n",
       "      <td>128093</td>\n",
       "      <td>België</td>\n",
       "    </tr>\n",
       "    <tr>\n",
       "      <th>2</th>\n",
       "      <td>00002F96-DC68-E111-B43A-00505680000A</td>\n",
       "      <td>Limburg</td>\n",
       "      <td>Oost Limburg</td>\n",
       "      <td>KINROOI</td>\n",
       "      <td>3640</td>\n",
       "      <td>Limburg</td>\n",
       "      <td>unknown</td>\n",
       "      <td>0</td>\n",
       "      <td>unknown</td>\n",
       "      <td>Bedrijf</td>\n",
       "      <td>17-2-1999</td>\n",
       "      <td>unknown</td>\n",
       "      <td>Actief</td>\n",
       "      <td>1</td>\n",
       "      <td>166644</td>\n",
       "      <td>België</td>\n",
       "    </tr>\n",
       "    <tr>\n",
       "      <th>3</th>\n",
       "      <td>00005967-2959-E411-8F25-005056B06EB4</td>\n",
       "      <td>Vlaams-Brabant</td>\n",
       "      <td>Regio West Side</td>\n",
       "      <td>HALLE</td>\n",
       "      <td>1500</td>\n",
       "      <td>Vlaams-Brabant</td>\n",
       "      <td>unknown</td>\n",
       "      <td>0</td>\n",
       "      <td>unknown</td>\n",
       "      <td>Bedrijf</td>\n",
       "      <td>unknown</td>\n",
       "      <td>Financiële diensten</td>\n",
       "      <td>Inactief</td>\n",
       "      <td>0</td>\n",
       "      <td>217534</td>\n",
       "      <td>België</td>\n",
       "    </tr>\n",
       "    <tr>\n",
       "      <th>4</th>\n",
       "      <td>00006DCD-DF68-E111-B43A-00505680000A</td>\n",
       "      <td>West-Vlaanderen</td>\n",
       "      <td>Roeselare/Tielt</td>\n",
       "      <td>EMELGEM</td>\n",
       "      <td>8870</td>\n",
       "      <td>West-Vlaanderen</td>\n",
       "      <td>unknown</td>\n",
       "      <td>0</td>\n",
       "      <td>unknown</td>\n",
       "      <td>Bedrijf</td>\n",
       "      <td>27-12-2001</td>\n",
       "      <td>Technologische industrie &amp; diensten</td>\n",
       "      <td>Inactief</td>\n",
       "      <td>0</td>\n",
       "      <td>81445</td>\n",
       "      <td>België</td>\n",
       "    </tr>\n",
       "  </tbody>\n",
       "</table>\n",
       "</div>"
      ],
      "text/plain": [
       "                     account_account_id account_adres_geografische_regio   \n",
       "0  00002561-6762-EC11-8F8F-000D3A2E7738                  Mechelen-Kempen  \\\n",
       "1  00002DAC-0A69-E111-B43A-00505680000A                  Oost-Vlaanderen   \n",
       "2  00002F96-DC68-E111-B43A-00505680000A                          Limburg   \n",
       "3  00005967-2959-E411-8F25-005056B06EB4                   Vlaams-Brabant   \n",
       "4  00006DCD-DF68-E111-B43A-00505680000A                  West-Vlaanderen   \n",
       "\n",
       "  account_adres_geografische_subregio account_adres_plaats   \n",
       "0                         Kempen-West            Herentals  \\\n",
       "1                          Oudenaarde               BEVERE   \n",
       "2                        Oost Limburg              KINROOI   \n",
       "3                     Regio West Side                HALLE   \n",
       "4                     Roeselare/Tielt              EMELGEM   \n",
       "\n",
       "  account_adres_postcode account_adres_provincie account_industriezone_naam_   \n",
       "0                   2200               Antwerpen                     unknown  \\\n",
       "1                   9700         Oost-Vlaanderen                     unknown   \n",
       "2                   3640                 Limburg                     unknown   \n",
       "3                   1500          Vlaams-Brabant                     unknown   \n",
       "4                   8870         West-Vlaanderen                     unknown   \n",
       "\n",
       "   account_is_voka_entiteit account_ondernemingsaard account_ondernemingstype   \n",
       "0                         0                  unknown                  Bedrijf  \\\n",
       "1                         0                 Diensten                  Bedrijf   \n",
       "2                         0                  unknown                  Bedrijf   \n",
       "3                         0                  unknown                  Bedrijf   \n",
       "4                         0                  unknown                  Bedrijf   \n",
       "\n",
       "  account_oprichtingsdatum          account_primaire_activiteit   \n",
       "0                 8-9-2013                              unknown  \\\n",
       "1                2-10-1989         Overige industrie & diensten   \n",
       "2                17-2-1999                              unknown   \n",
       "3                  unknown                  Financiële diensten   \n",
       "4               27-12-2001  Technologische industrie & diensten   \n",
       "\n",
       "  account_reden_van_status  account_status  account_voka_nr_   \n",
       "0                   Actief               1            291484  \\\n",
       "1                   Actief               1            128093   \n",
       "2                   Actief               1            166644   \n",
       "3                 Inactief               0            217534   \n",
       "4                 Inactief               0             81445   \n",
       "\n",
       "  account_adres_land  \n",
       "0             België  \n",
       "1             België  \n",
       "2             België  \n",
       "3             België  \n",
       "4             België  "
      ]
     },
     "execution_count": 2,
     "metadata": {},
     "output_type": "execute_result"
    }
   ],
   "source": [
    "data_acc = pd.read_csv('../data_clean/Account_fixed.csv', sep=',')\n",
    "data_acc.head()"
   ]
  },
  {
   "cell_type": "code",
   "execution_count": 3,
   "metadata": {},
   "outputs": [
    {
     "data": {
      "text/plain": [
       "Index(['account_account_id', 'account_adres_geografische_regio',\n",
       "       'account_adres_geografische_subregio', 'account_adres_plaats',\n",
       "       'account_adres_postcode', 'account_adres_provincie',\n",
       "       'account_industriezone_naam_', 'account_is_voka_entiteit',\n",
       "       'account_ondernemingsaard', 'account_ondernemingstype',\n",
       "       'account_oprichtingsdatum', 'account_primaire_activiteit',\n",
       "       'account_reden_van_status', 'account_status', 'account_voka_nr_',\n",
       "       'account_adres_land'],\n",
       "      dtype='object')"
      ]
     },
     "execution_count": 3,
     "metadata": {},
     "output_type": "execute_result"
    }
   ],
   "source": [
    "data_acc.columns"
   ]
  },
  {
   "cell_type": "markdown",
   "metadata": {},
   "source": [
    "### Activiteitscode.csv"
   ]
  },
  {
   "cell_type": "code",
   "execution_count": 4,
   "metadata": {},
   "outputs": [
    {
     "data": {
      "text/html": [
       "<div>\n",
       "<style scoped>\n",
       "    .dataframe tbody tr th:only-of-type {\n",
       "        vertical-align: middle;\n",
       "    }\n",
       "\n",
       "    .dataframe tbody tr th {\n",
       "        vertical-align: top;\n",
       "    }\n",
       "\n",
       "    .dataframe thead th {\n",
       "        text-align: right;\n",
       "    }\n",
       "</style>\n",
       "<table border=\"1\" class=\"dataframe\">\n",
       "  <thead>\n",
       "    <tr style=\"text-align: right;\">\n",
       "      <th></th>\n",
       "      <th>activiteitscode_naam</th>\n",
       "      <th>activiteitscode_activiteitscode_id</th>\n",
       "      <th>activiteitscode_status</th>\n",
       "    </tr>\n",
       "  </thead>\n",
       "  <tbody>\n",
       "    <tr>\n",
       "      <th>0</th>\n",
       "      <td>Accountancy &amp; boekhouding</td>\n",
       "      <td>7D8F7E6B-1A62-E111-8F14-00505680000A</td>\n",
       "      <td>Actief</td>\n",
       "    </tr>\n",
       "    <tr>\n",
       "      <th>1</th>\n",
       "      <td>Agrarische &amp; bio-industrie</td>\n",
       "      <td>808F7E6B-1A62-E111-8F14-00505680000A</td>\n",
       "      <td>Actief</td>\n",
       "    </tr>\n",
       "    <tr>\n",
       "      <th>2</th>\n",
       "      <td>Automobiel- en Tweewielerindustrie</td>\n",
       "      <td>828F7E6B-1A62-E111-8F14-00505680000A</td>\n",
       "      <td>Actief</td>\n",
       "    </tr>\n",
       "    <tr>\n",
       "      <th>3</th>\n",
       "      <td>Bouw</td>\n",
       "      <td>858F7E6B-1A62-E111-8F14-00505680000A</td>\n",
       "      <td>Actief</td>\n",
       "    </tr>\n",
       "    <tr>\n",
       "      <th>4</th>\n",
       "      <td>Chemie, petrochemie</td>\n",
       "      <td>878F7E6B-1A62-E111-8F14-00505680000A</td>\n",
       "      <td>Actief</td>\n",
       "    </tr>\n",
       "  </tbody>\n",
       "</table>\n",
       "</div>"
      ],
      "text/plain": [
       "                 activiteitscode_naam    activiteitscode_activiteitscode_id   \n",
       "0           Accountancy & boekhouding  7D8F7E6B-1A62-E111-8F14-00505680000A  \\\n",
       "1          Agrarische & bio-industrie  808F7E6B-1A62-E111-8F14-00505680000A   \n",
       "2  Automobiel- en Tweewielerindustrie  828F7E6B-1A62-E111-8F14-00505680000A   \n",
       "3                                Bouw  858F7E6B-1A62-E111-8F14-00505680000A   \n",
       "4                 Chemie, petrochemie  878F7E6B-1A62-E111-8F14-00505680000A   \n",
       "\n",
       "  activiteitscode_status  \n",
       "0                 Actief  \n",
       "1                 Actief  \n",
       "2                 Actief  \n",
       "3                 Actief  \n",
       "4                 Actief  "
      ]
     },
     "execution_count": 4,
     "metadata": {},
     "output_type": "execute_result"
    }
   ],
   "source": [
    "data_acti = pd.read_csv('../data_clean/Activiteitscode_fixed.csv', sep=\",\")\n",
    "data_acti.head()"
   ]
  },
  {
   "cell_type": "code",
   "execution_count": 5,
   "metadata": {},
   "outputs": [
    {
     "data": {
      "text/plain": [
       "Index(['activiteitscode_naam', 'activiteitscode_activiteitscode_id',\n",
       "       'activiteitscode_status'],\n",
       "      dtype='object')"
      ]
     },
     "execution_count": 5,
     "metadata": {},
     "output_type": "execute_result"
    }
   ],
   "source": [
    "data_acti.columns"
   ]
  },
  {
   "cell_type": "markdown",
   "metadata": {},
   "source": [
    "### Account activiteitscode.csv"
   ]
  },
  {
   "cell_type": "code",
   "execution_count": 6,
   "metadata": {},
   "outputs": [
    {
     "data": {
      "text/html": [
       "<div>\n",
       "<style scoped>\n",
       "    .dataframe tbody tr th:only-of-type {\n",
       "        vertical-align: middle;\n",
       "    }\n",
       "\n",
       "    .dataframe tbody tr th {\n",
       "        vertical-align: top;\n",
       "    }\n",
       "\n",
       "    .dataframe thead th {\n",
       "        text-align: right;\n",
       "    }\n",
       "</style>\n",
       "<table border=\"1\" class=\"dataframe\">\n",
       "  <thead>\n",
       "    <tr style=\"text-align: right;\">\n",
       "      <th></th>\n",
       "      <th>account_activiteitscode_account</th>\n",
       "      <th>account_activiteitscode_activiteitscode</th>\n",
       "      <th>account_activiteitscode_inf_account_inf_activiteitscodeid</th>\n",
       "    </tr>\n",
       "  </thead>\n",
       "  <tbody>\n",
       "    <tr>\n",
       "      <th>0</th>\n",
       "      <td>00002DAC-0A69-E111-B43A-00505680000A</td>\n",
       "      <td>20787771-1A62-E111-8F14-00505680000A</td>\n",
       "      <td>2D780AA3-856B-E111-B98D-18A905732A15</td>\n",
       "    </tr>\n",
       "    <tr>\n",
       "      <th>1</th>\n",
       "      <td>00068436-F919-E211-9DAA-005056B06EB4</td>\n",
       "      <td>D4FF9BBC-FBC1-E211-A980-005056B06EB4</td>\n",
       "      <td>490DB440-5FC7-E611-80E3-001DD8B72B62</td>\n",
       "    </tr>\n",
       "    <tr>\n",
       "      <th>2</th>\n",
       "      <td>0009A6E6-2369-E111-B43A-00505680000A</td>\n",
       "      <td>12787771-1A62-E111-8F14-00505680000A</td>\n",
       "      <td>37301718-F9C6-EC11-A7B6-000D3A497120</td>\n",
       "    </tr>\n",
       "    <tr>\n",
       "      <th>3</th>\n",
       "      <td>000D39CF-BE68-E111-B43A-00505680000A</td>\n",
       "      <td>1A787771-1A62-E111-8F14-00505680000A</td>\n",
       "      <td>791676C0-816B-E111-B98D-18A905732A15</td>\n",
       "    </tr>\n",
       "    <tr>\n",
       "      <th>4</th>\n",
       "      <td>0016CAE8-BD68-E111-B43A-00505680000A</td>\n",
       "      <td>20787771-1A62-E111-8F14-00505680000A</td>\n",
       "      <td>DB3A9AFC-816B-E111-B98D-18A905732A15</td>\n",
       "    </tr>\n",
       "  </tbody>\n",
       "</table>\n",
       "</div>"
      ],
      "text/plain": [
       "        account_activiteitscode_account   \n",
       "0  00002DAC-0A69-E111-B43A-00505680000A  \\\n",
       "1  00068436-F919-E211-9DAA-005056B06EB4   \n",
       "2  0009A6E6-2369-E111-B43A-00505680000A   \n",
       "3  000D39CF-BE68-E111-B43A-00505680000A   \n",
       "4  0016CAE8-BD68-E111-B43A-00505680000A   \n",
       "\n",
       "  account_activiteitscode_activiteitscode   \n",
       "0    20787771-1A62-E111-8F14-00505680000A  \\\n",
       "1    D4FF9BBC-FBC1-E211-A980-005056B06EB4   \n",
       "2    12787771-1A62-E111-8F14-00505680000A   \n",
       "3    1A787771-1A62-E111-8F14-00505680000A   \n",
       "4    20787771-1A62-E111-8F14-00505680000A   \n",
       "\n",
       "  account_activiteitscode_inf_account_inf_activiteitscodeid  \n",
       "0               2D780AA3-856B-E111-B98D-18A905732A15         \n",
       "1               490DB440-5FC7-E611-80E3-001DD8B72B62         \n",
       "2               37301718-F9C6-EC11-A7B6-000D3A497120         \n",
       "3               791676C0-816B-E111-B98D-18A905732A15         \n",
       "4               DB3A9AFC-816B-E111-B98D-18A905732A15         "
      ]
     },
     "execution_count": 6,
     "metadata": {},
     "output_type": "execute_result"
    }
   ],
   "source": [
    "data_acc_acti = pd.read_csv('../data_clean/Account_activiteitscode_fixed.csv', sep=\",\")\n",
    "data_acc_acti.head()"
   ]
  },
  {
   "cell_type": "code",
   "execution_count": 7,
   "metadata": {},
   "outputs": [
    {
     "data": {
      "text/plain": [
       "Index(['account_activiteitscode_account',\n",
       "       'account_activiteitscode_activiteitscode',\n",
       "       'account_activiteitscode_inf_account_inf_activiteitscodeid'],\n",
       "      dtype='object')"
      ]
     },
     "execution_count": 7,
     "metadata": {},
     "output_type": "execute_result"
    }
   ],
   "source": [
    "data_acc_acti.columns"
   ]
  },
  {
   "cell_type": "markdown",
   "metadata": {},
   "source": [
    "### Merge"
   ]
  },
  {
   "cell_type": "code",
   "execution_count": 11,
   "metadata": {},
   "outputs": [],
   "source": [
    "merged_relation = data_acc_acti.merge(data_acti, left_on='account_activiteitscode_activiteitscode', right_on='activiteitscode_activiteitscode_id', how='inner')\n",
    "merged_data = data_acc.merge(merged_relation, left_on='account_account_id', right_on='account_activiteitscode_account', how='inner')"
   ]
  },
  {
   "cell_type": "code",
   "execution_count": 12,
   "metadata": {},
   "outputs": [
    {
     "data": {
      "text/plain": [
       "account_account_id                                           00002DAC-0A69-E111-B43A-00505680000A\n",
       "account_adres_geografische_regio                                                  Oost-Vlaanderen\n",
       "account_adres_geografische_subregio                                                    Oudenaarde\n",
       "account_adres_plaats                                                                       BEVERE\n",
       "account_adres_postcode                                                                       9700\n",
       "account_adres_provincie                                                           Oost-Vlaanderen\n",
       "account_industriezone_naam_                                                               unknown\n",
       "account_is_voka_entiteit                                                                        0\n",
       "account_ondernemingsaard                                                                 Diensten\n",
       "account_ondernemingstype                                                                  Bedrijf\n",
       "account_oprichtingsdatum                                                                2-10-1989\n",
       "account_primaire_activiteit                                          Overige industrie & diensten\n",
       "account_reden_van_status                                                                   Actief\n",
       "account_status                                                                                  1\n",
       "account_voka_nr_                                                                           128093\n",
       "account_adres_land                                                                         België\n",
       "account_activiteitscode_account                              00002DAC-0A69-E111-B43A-00505680000A\n",
       "account_activiteitscode_activiteitscode                      20787771-1A62-E111-8F14-00505680000A\n",
       "account_activiteitscode_inf_account_inf_activiteitscodeid    2D780AA3-856B-E111-B98D-18A905732A15\n",
       "activiteitscode_naam                                                 Overige industrie & diensten\n",
       "activiteitscode_activiteitscode_id                           20787771-1A62-E111-8F14-00505680000A\n",
       "activiteitscode_status                                                                     Actief\n",
       "Name: 0, dtype: object"
      ]
     },
     "execution_count": 12,
     "metadata": {},
     "output_type": "execute_result"
    }
   ],
   "source": [
    "merged_data.iloc[0]"
   ]
  },
  {
   "cell_type": "markdown",
   "metadata": {},
   "source": [
    "### Account financiele data.csv"
   ]
  },
  {
   "cell_type": "code",
   "execution_count": 14,
   "metadata": {},
   "outputs": [
    {
     "data": {
      "text/html": [
       "<div>\n",
       "<style scoped>\n",
       "    .dataframe tbody tr th:only-of-type {\n",
       "        vertical-align: middle;\n",
       "    }\n",
       "\n",
       "    .dataframe tbody tr th {\n",
       "        vertical-align: top;\n",
       "    }\n",
       "\n",
       "    .dataframe thead th {\n",
       "        text-align: right;\n",
       "    }\n",
       "</style>\n",
       "<table border=\"1\" class=\"dataframe\">\n",
       "  <thead>\n",
       "    <tr style=\"text-align: right;\">\n",
       "      <th></th>\n",
       "      <th>financieledata_ondernemingid</th>\n",
       "      <th>financieledata_boekjaar</th>\n",
       "      <th>financieledata_aantal_maanden</th>\n",
       "      <th>financieledata_toegevoegde_waarde</th>\n",
       "      <th>financieledata_fte</th>\n",
       "      <th>financieledata_gewijzigd_op</th>\n",
       "    </tr>\n",
       "  </thead>\n",
       "  <tbody>\n",
       "    <tr>\n",
       "      <th>0</th>\n",
       "      <td>00002DAC-0A69-E111-B43A-00505680000A</td>\n",
       "      <td>2007</td>\n",
       "      <td>-1.0</td>\n",
       "      <td>unknown</td>\n",
       "      <td>1</td>\n",
       "      <td>15-10-2018 08:21:37</td>\n",
       "    </tr>\n",
       "    <tr>\n",
       "      <th>1</th>\n",
       "      <td>00002DAC-0A69-E111-B43A-00505680000A</td>\n",
       "      <td>2008</td>\n",
       "      <td>-1.0</td>\n",
       "      <td>unknown</td>\n",
       "      <td>1</td>\n",
       "      <td>15-10-2018 13:20:45</td>\n",
       "    </tr>\n",
       "    <tr>\n",
       "      <th>2</th>\n",
       "      <td>00002DAC-0A69-E111-B43A-00505680000A</td>\n",
       "      <td>2009</td>\n",
       "      <td>-1.0</td>\n",
       "      <td>unknown</td>\n",
       "      <td>2</td>\n",
       "      <td>15-10-2018 04:00:52</td>\n",
       "    </tr>\n",
       "    <tr>\n",
       "      <th>3</th>\n",
       "      <td>00002DAC-0A69-E111-B43A-00505680000A</td>\n",
       "      <td>2010</td>\n",
       "      <td>12.0</td>\n",
       "      <td>unknown</td>\n",
       "      <td>1</td>\n",
       "      <td>15-10-2018 12:42:56</td>\n",
       "    </tr>\n",
       "    <tr>\n",
       "      <th>4</th>\n",
       "      <td>00002DAC-0A69-E111-B43A-00505680000A</td>\n",
       "      <td>2011</td>\n",
       "      <td>12.0</td>\n",
       "      <td>unknown</td>\n",
       "      <td>1</td>\n",
       "      <td>15-10-2018 04:54:28</td>\n",
       "    </tr>\n",
       "  </tbody>\n",
       "</table>\n",
       "</div>"
      ],
      "text/plain": [
       "           financieledata_ondernemingid  financieledata_boekjaar   \n",
       "0  00002DAC-0A69-E111-B43A-00505680000A                     2007  \\\n",
       "1  00002DAC-0A69-E111-B43A-00505680000A                     2008   \n",
       "2  00002DAC-0A69-E111-B43A-00505680000A                     2009   \n",
       "3  00002DAC-0A69-E111-B43A-00505680000A                     2010   \n",
       "4  00002DAC-0A69-E111-B43A-00505680000A                     2011   \n",
       "\n",
       "   financieledata_aantal_maanden financieledata_toegevoegde_waarde   \n",
       "0                           -1.0                           unknown  \\\n",
       "1                           -1.0                           unknown   \n",
       "2                           -1.0                           unknown   \n",
       "3                           12.0                           unknown   \n",
       "4                           12.0                           unknown   \n",
       "\n",
       "  financieledata_fte financieledata_gewijzigd_op  \n",
       "0                  1         15-10-2018 08:21:37  \n",
       "1                  1         15-10-2018 13:20:45  \n",
       "2                  2         15-10-2018 04:00:52  \n",
       "3                  1         15-10-2018 12:42:56  \n",
       "4                  1         15-10-2018 04:54:28  "
      ]
     },
     "execution_count": 14,
     "metadata": {},
     "output_type": "execute_result"
    }
   ],
   "source": [
    "data_acc_money = pd.read_csv('../data_clean/Account_financiële_data_fixed.csv', sep=\",\")\n",
    "data_acc_money.head()"
   ]
  },
  {
   "cell_type": "code",
   "execution_count": 15,
   "metadata": {},
   "outputs": [
    {
     "data": {
      "text/plain": [
       "account_account_id                                           00002DAC-0A69-E111-B43A-00505680000A\n",
       "account_adres_geografische_regio                                                  Oost-Vlaanderen\n",
       "account_adres_geografische_subregio                                                    Oudenaarde\n",
       "account_adres_plaats                                                                       BEVERE\n",
       "account_adres_postcode                                                                       9700\n",
       "account_adres_provincie                                                           Oost-Vlaanderen\n",
       "account_industriezone_naam_                                                               unknown\n",
       "account_is_voka_entiteit                                                                        0\n",
       "account_ondernemingsaard                                                                 Diensten\n",
       "account_ondernemingstype                                                                  Bedrijf\n",
       "account_oprichtingsdatum                                                                2-10-1989\n",
       "account_primaire_activiteit                                          Overige industrie & diensten\n",
       "account_reden_van_status                                                                   Actief\n",
       "account_status                                                                                  1\n",
       "account_voka_nr_                                                                           128093\n",
       "account_adres_land                                                                         België\n",
       "account_activiteitscode_account                              00002DAC-0A69-E111-B43A-00505680000A\n",
       "account_activiteitscode_activiteitscode                      20787771-1A62-E111-8F14-00505680000A\n",
       "account_activiteitscode_inf_account_inf_activiteitscodeid    2D780AA3-856B-E111-B98D-18A905732A15\n",
       "activiteitscode_naam                                                 Overige industrie & diensten\n",
       "activiteitscode_activiteitscode_id                           20787771-1A62-E111-8F14-00505680000A\n",
       "activiteitscode_status                                                                     Actief\n",
       "financieledata_ondernemingid                                 00002DAC-0A69-E111-B43A-00505680000A\n",
       "financieledata_boekjaar                                                                      2007\n",
       "financieledata_aantal_maanden                                                                -1.0\n",
       "financieledata_toegevoegde_waarde                                                         unknown\n",
       "financieledata_fte                                                                              1\n",
       "financieledata_gewijzigd_op                                                   15-10-2018 08:21:37\n",
       "Name: 0, dtype: object"
      ]
     },
     "execution_count": 15,
     "metadata": {},
     "output_type": "execute_result"
    }
   ],
   "source": [
    "merged_data = merged_data.merge(data_acc_money, left_on='account_account_id', right_on='financieledata_ondernemingid', how='inner')\n",
    "merged_data.iloc[0]"
   ]
  }
 ],
 "metadata": {
  "kernelspec": {
   "display_name": "Python 3",
   "language": "python",
   "name": "python3"
  },
  "language_info": {
   "codemirror_mode": {
    "name": "ipython",
    "version": 3
   },
   "file_extension": ".py",
   "mimetype": "text/x-python",
   "name": "python",
   "nbconvert_exporter": "python",
   "pygments_lexer": "ipython3",
   "version": "3.11.3"
  },
  "orig_nbformat": 4
 },
 "nbformat": 4,
 "nbformat_minor": 2
}
