{
 "cells": [
  {
   "cell_type": "code",
   "execution_count": 56,
   "metadata": {},
   "outputs": [],
   "source": [
    "import pandas as pd\n",
    "import numpy as np\n",
    "import os"
   ]
  },
  {
   "cell_type": "code",
   "execution_count": 57,
   "metadata": {},
   "outputs": [],
   "source": [
    "DATA_DIR = '../data_merged/'\n",
    "FILE_NAME = 'merged_afspraken'\n",
    "URL = os.path.join(DATA_DIR, FILE_NAME + '.csv')"
   ]
  },
  {
   "cell_type": "code",
   "execution_count": 58,
   "metadata": {},
   "outputs": [],
   "source": [
    "data = pd.read_csv(URL)"
   ]
  },
  {
   "cell_type": "code",
   "execution_count": 59,
   "metadata": {},
   "outputs": [
    {
     "data": {
      "text/plain": [
       "(7754, 9)"
      ]
     },
     "execution_count": 59,
     "metadata": {},
     "output_type": "execute_result"
    }
   ],
   "source": [
    "data.shape"
   ]
  },
  {
   "cell_type": "markdown",
   "metadata": {},
   "source": [
    "#### Onnodige kolommen al verwijderen"
   ]
  },
  {
   "cell_type": "code",
   "execution_count": 60,
   "metadata": {},
   "outputs": [],
   "source": [
    "data.dropna(inplace=True)\n",
    "data.drop(['afspraak_afspraak_id', 'afspraak_thema',\n",
    "           'afspraak_eindtijd', 'activiteitvereistcontact_activityid_id',\n",
    "           'afspraak_betreft'], axis=1, inplace=True)"
   ]
  },
  {
   "cell_type": "markdown",
   "metadata": {},
   "source": [
    "#### Afspraak subthema heeft al thema in zich, dus afspraak thema kan weg"
   ]
  },
  {
   "cell_type": "code",
   "execution_count": 61,
   "metadata": {},
   "outputs": [],
   "source": [
    "data['afspraak_thema'] = data['afspraak_subthema'].str.replace('\\(', '', regex=True)\n",
    "data['afspraak_thema'] = data['afspraak_thema'].str.replace('\\)', '', regex=True)\n",
    "data.drop('afspraak_subthema', axis=1, inplace=True)"
   ]
  },
  {
   "cell_type": "markdown",
   "metadata": {},
   "source": [
    "#### Afspraak thema en onderwerp combineren"
   ]
  },
  {
   "cell_type": "code",
   "execution_count": 62,
   "metadata": {},
   "outputs": [],
   "source": [
    "data['afspraak_onderwerp'] = data['afspraak_onderwerp'] + ' ' + data['afspraak_thema']\n",
    "data['afspraak_onderwerp'] = data['afspraak_onderwerp'].str.lower().str.capitalize().str.strip()\n",
    "data.drop(['afspraak_thema'], axis=1, inplace=True)"
   ]
  },
  {
   "cell_type": "code",
   "execution_count": 63,
   "metadata": {},
   "outputs": [
    {
     "data": {
      "text/html": [
       "<div>\n",
       "<style scoped>\n",
       "    .dataframe tbody tr th:only-of-type {\n",
       "        vertical-align: middle;\n",
       "    }\n",
       "\n",
       "    .dataframe tbody tr th {\n",
       "        vertical-align: top;\n",
       "    }\n",
       "\n",
       "    .dataframe thead th {\n",
       "        text-align: right;\n",
       "    }\n",
       "</style>\n",
       "<table border=\"1\" class=\"dataframe\">\n",
       "  <thead>\n",
       "    <tr style=\"text-align: right;\">\n",
       "      <th></th>\n",
       "      <th>afspraak_onderwerp</th>\n",
       "      <th>afspraak_keyphrases</th>\n",
       "      <th>activiteitvereistcontact_reqattendee</th>\n",
       "    </tr>\n",
       "  </thead>\n",
       "  <tbody>\n",
       "    <tr>\n",
       "      <th>0</th>\n",
       "      <td>Ov-ledenbezoek-2020 retentie lidmaatschap</td>\n",
       "      <td>china en india , india en china , verschillend...</td>\n",
       "      <td>8E214B8E-F6B8-E911-8104-001DD8B72B62</td>\n",
       "    </tr>\n",
       "    <tr>\n",
       "      <th>2</th>\n",
       "      <td>Ov-klantenbezoek 2018 retentie lidmaatschap</td>\n",
       "      <td>zoek , schap</td>\n",
       "      <td>C3B119F3-8502-E911-80F9-001DD8B72B61</td>\n",
       "    </tr>\n",
       "    <tr>\n",
       "      <th>4</th>\n",
       "      <td>Ov-ledenbezoek-2020 retentie lidmaatschap</td>\n",
       "      <td>dominique de waele , essentiële sector , gedee...</td>\n",
       "      <td>0CC2FFFC-C56A-E111-B43A-00505680000A</td>\n",
       "    </tr>\n",
       "    <tr>\n",
       "      <th>6</th>\n",
       "      <td>Ov-ledenbezoek-2020 retentie lidmaatschap</td>\n",
       "      <td>andere thema ’s , jan dumont , innovatief bedr...</td>\n",
       "      <td>316D6097-E3A8-E711-80EC-001DD8B72B62</td>\n",
       "    </tr>\n",
       "    <tr>\n",
       "      <th>8</th>\n",
       "      <td>Ov-telefoon-2020 retentie lidmaatschap</td>\n",
       "      <td>verschillende industriën , verschillende werkg...</td>\n",
       "      <td>1DCF0AC3-D273-E111-B43A-00505680000A</td>\n",
       "    </tr>\n",
       "  </tbody>\n",
       "</table>\n",
       "</div>"
      ],
      "text/plain": [
       "                            afspraak_onderwerp   \n",
       "0    Ov-ledenbezoek-2020 retentie lidmaatschap  \\\n",
       "2  Ov-klantenbezoek 2018 retentie lidmaatschap   \n",
       "4    Ov-ledenbezoek-2020 retentie lidmaatschap   \n",
       "6    Ov-ledenbezoek-2020 retentie lidmaatschap   \n",
       "8       Ov-telefoon-2020 retentie lidmaatschap   \n",
       "\n",
       "                                 afspraak_keyphrases   \n",
       "0  china en india , india en china , verschillend...  \\\n",
       "2                                       zoek , schap   \n",
       "4  dominique de waele , essentiële sector , gedee...   \n",
       "6  andere thema ’s , jan dumont , innovatief bedr...   \n",
       "8  verschillende industriën , verschillende werkg...   \n",
       "\n",
       "   activiteitvereistcontact_reqattendee  \n",
       "0  8E214B8E-F6B8-E911-8104-001DD8B72B62  \n",
       "2  C3B119F3-8502-E911-80F9-001DD8B72B61  \n",
       "4  0CC2FFFC-C56A-E111-B43A-00505680000A  \n",
       "6  316D6097-E3A8-E711-80EC-001DD8B72B62  \n",
       "8  1DCF0AC3-D273-E111-B43A-00505680000A  "
      ]
     },
     "execution_count": 63,
     "metadata": {},
     "output_type": "execute_result"
    }
   ],
   "source": [
    "data.head()"
   ]
  },
  {
   "cell_type": "markdown",
   "metadata": {},
   "source": [
    "#### Data saven naar csv"
   ]
  },
  {
   "cell_type": "code",
   "execution_count": 65,
   "metadata": {},
   "outputs": [],
   "source": [
    "data.to_csv('../data_merged/merged_afspraken_cleaned.csv', index=False)"
   ]
  }
 ],
 "metadata": {
  "kernelspec": {
   "display_name": "Python 3",
   "language": "python",
   "name": "python3"
  },
  "language_info": {
   "codemirror_mode": {
    "name": "ipython",
    "version": 3
   },
   "file_extension": ".py",
   "mimetype": "text/x-python",
   "name": "python",
   "nbconvert_exporter": "python",
   "pygments_lexer": "ipython3",
   "version": "3.11.3"
  }
 },
 "nbformat": 4,
 "nbformat_minor": 2
}
