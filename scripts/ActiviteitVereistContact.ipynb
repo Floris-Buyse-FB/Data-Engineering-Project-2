{
 "cells": [
  {
   "cell_type": "code",
   "execution_count": 13,
   "metadata": {},
   "outputs": [
    {
     "data": {
      "text/html": [
       "<div>\n",
       "<style scoped>\n",
       "    .dataframe tbody tr th:only-of-type {\n",
       "        vertical-align: middle;\n",
       "    }\n",
       "\n",
       "    .dataframe tbody tr th {\n",
       "        vertical-align: top;\n",
       "    }\n",
       "\n",
       "    .dataframe thead th {\n",
       "        text-align: right;\n",
       "    }\n",
       "</style>\n",
       "<table border=\"1\" class=\"dataframe\">\n",
       "  <thead>\n",
       "    <tr style=\"text-align: right;\">\n",
       "      <th></th>\n",
       "      <th>FinancieleData_ID</th>\n",
       "      <th>ActiviteitVereistContact_ActivityId</th>\n",
       "      <th>ActiviteitVereistContact_ReqAttendee</th>\n",
       "    </tr>\n",
       "  </thead>\n",
       "  <tbody>\n",
       "    <tr>\n",
       "      <th>0</th>\n",
       "      <td>1</td>\n",
       "      <td>0000028D-CC1A-E411-ACD3-005056B06EC4</td>\n",
       "      <td>902EEFE7-2703-E211-8CF1-984BE17C2819</td>\n",
       "    </tr>\n",
       "    <tr>\n",
       "      <th>1</th>\n",
       "      <td>2</td>\n",
       "      <td>00001418-F074-E311-BBFD-005056B06EB4</td>\n",
       "      <td>902EEFE7-2703-E211-8CF1-984BE17C2819</td>\n",
       "    </tr>\n",
       "    <tr>\n",
       "      <th>2</th>\n",
       "      <td>3</td>\n",
       "      <td>00002236-D170-E511-9AB0-005056B06EB4</td>\n",
       "      <td>320746D0-9C6C-E311-B4EF-005056B06EC4</td>\n",
       "    </tr>\n",
       "    <tr>\n",
       "      <th>3</th>\n",
       "      <td>4</td>\n",
       "      <td>00002236-D170-E511-9AB0-005056B06EB4</td>\n",
       "      <td>320746D0-9C6C-E311-B4EF-005056B06EC4</td>\n",
       "    </tr>\n",
       "    <tr>\n",
       "      <th>4</th>\n",
       "      <td>5</td>\n",
       "      <td>00003B12-1DDD-ED11-9D39-0050568A003F</td>\n",
       "      <td>541F9850-176A-E111-B43A-00505680000A</td>\n",
       "    </tr>\n",
       "  </tbody>\n",
       "</table>\n",
       "</div>"
      ],
      "text/plain": [
       "   FinancieleData_ID   ActiviteitVereistContact_ActivityId   \n",
       "0                  1  0000028D-CC1A-E411-ACD3-005056B06EC4  \\\n",
       "1                  2  00001418-F074-E311-BBFD-005056B06EB4   \n",
       "2                  3  00002236-D170-E511-9AB0-005056B06EB4   \n",
       "3                  4  00002236-D170-E511-9AB0-005056B06EB4   \n",
       "4                  5  00003B12-1DDD-ED11-9D39-0050568A003F   \n",
       "\n",
       "   ActiviteitVereistContact_ReqAttendee  \n",
       "0  902EEFE7-2703-E211-8CF1-984BE17C2819  \n",
       "1  902EEFE7-2703-E211-8CF1-984BE17C2819  \n",
       "2  320746D0-9C6C-E311-B4EF-005056B06EC4  \n",
       "3  320746D0-9C6C-E311-B4EF-005056B06EC4  \n",
       "4  541F9850-176A-E111-B43A-00505680000A  "
      ]
     },
     "execution_count": 13,
     "metadata": {},
     "output_type": "execute_result"
    }
   ],
   "source": [
    "import pandas as pd\n",
    "data = pd.read_csv('../data_clean/Activiteit_vereist_contact_fixed.csv', sep=\",\")\n",
    "data.head()"
   ]
  },
  {
   "cell_type": "code",
   "execution_count": 22,
   "metadata": {},
   "outputs": [
    {
     "data": {
      "text/plain": [
       "['0000028D', 'CC1A', 'E411', 'ACD3', '005056B06EC4']"
      ]
     },
     "execution_count": 22,
     "metadata": {},
     "output_type": "execute_result"
    }
   ],
   "source": [
    "data['ActiviteitVereistContact_ActivityId'].iloc[0].split('-')"
   ]
  },
  {
   "cell_type": "code",
   "execution_count": 2,
   "metadata": {},
   "outputs": [
    {
     "data": {
      "text/plain": [
       "FinancieleData_ID                       0\n",
       "ActiviteitVereistContact_ActivityId     0\n",
       "ActiviteitVereistContact_ReqAttendee    0\n",
       "dtype: int64"
      ]
     },
     "execution_count": 2,
     "metadata": {},
     "output_type": "execute_result"
    }
   ],
   "source": [
    "data.isnull().sum()"
   ]
  },
  {
   "cell_type": "code",
   "execution_count": 4,
   "metadata": {},
   "outputs": [],
   "source": [
    "data.dropna(inplace=True)"
   ]
  },
  {
   "cell_type": "code",
   "execution_count": 5,
   "metadata": {},
   "outputs": [
    {
     "name": "stdout",
     "output_type": "stream",
     "text": [
      "<class 'pandas.core.frame.DataFrame'>\n",
      "RangeIndex: 1901287 entries, 0 to 1901286\n",
      "Data columns (total 3 columns):\n",
      " #   Column                  Dtype \n",
      "---  ------                  ----- \n",
      " 0   FinancieleData_ID       int64 \n",
      " 1   Afspraak_ALLE_Afspraak  object\n",
      " 2   Contact_Contactpersoon  object\n",
      "dtypes: int64(1), object(2)\n",
      "memory usage: 43.5+ MB\n"
     ]
    }
   ],
   "source": [
    "data.info()"
   ]
  },
  {
   "cell_type": "code",
   "execution_count": 6,
   "metadata": {},
   "outputs": [
    {
     "data": {
      "text/html": [
       "<div>\n",
       "<style scoped>\n",
       "    .dataframe tbody tr th:only-of-type {\n",
       "        vertical-align: middle;\n",
       "    }\n",
       "\n",
       "    .dataframe tbody tr th {\n",
       "        vertical-align: top;\n",
       "    }\n",
       "\n",
       "    .dataframe thead th {\n",
       "        text-align: right;\n",
       "    }\n",
       "</style>\n",
       "<table border=\"1\" class=\"dataframe\">\n",
       "  <thead>\n",
       "    <tr style=\"text-align: right;\">\n",
       "      <th></th>\n",
       "      <th>FinancieleData_ID</th>\n",
       "      <th>Afspraak_ALLE_Afspraak</th>\n",
       "      <th>Contact_Contactpersoon</th>\n",
       "    </tr>\n",
       "  </thead>\n",
       "  <tbody>\n",
       "    <tr>\n",
       "      <th>0</th>\n",
       "      <td>1</td>\n",
       "      <td>0000028D-CC1A-E411-ACD3-005056B06EC4</td>\n",
       "      <td>902EEFE7-2703-E211-8CF1-984BE17C2819</td>\n",
       "    </tr>\n",
       "  </tbody>\n",
       "</table>\n",
       "</div>"
      ],
      "text/plain": [
       "   FinancieleData_ID                Afspraak_ALLE_Afspraak   \n",
       "0                  1  0000028D-CC1A-E411-ACD3-005056B06EC4  \\\n",
       "\n",
       "                 Contact_Contactpersoon  \n",
       "0  902EEFE7-2703-E211-8CF1-984BE17C2819  "
      ]
     },
     "execution_count": 6,
     "metadata": {},
     "output_type": "execute_result"
    }
   ],
   "source": [
    "data[data['FinancieleData_ID'] == 1]"
   ]
  },
  {
   "cell_type": "code",
   "execution_count": 7,
   "metadata": {},
   "outputs": [],
   "source": [
    "# data.to_csv('../data_clean/Activiteit_vereist_contact_fixed.csv', index=False)"
   ]
  }
 ],
 "metadata": {
  "kernelspec": {
   "display_name": "Python 3",
   "language": "python",
   "name": "python3"
  },
  "language_info": {
   "codemirror_mode": {
    "name": "ipython",
    "version": 3
   },
   "file_extension": ".py",
   "mimetype": "text/x-python",
   "name": "python",
   "nbconvert_exporter": "python",
   "pygments_lexer": "ipython3",
   "version": "3.11.3"
  }
 },
 "nbformat": 4,
 "nbformat_minor": 2
}
