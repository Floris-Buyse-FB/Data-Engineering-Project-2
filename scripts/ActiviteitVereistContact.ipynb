{
 "cells": [
  {
   "cell_type": "code",
   "execution_count": 1,
   "metadata": {},
   "outputs": [
    {
     "data": {
      "text/html": [
       "<div>\n",
       "<style scoped>\n",
       "    .dataframe tbody tr th:only-of-type {\n",
       "        vertical-align: middle;\n",
       "    }\n",
       "\n",
       "    .dataframe tbody tr th {\n",
       "        vertical-align: top;\n",
       "    }\n",
       "\n",
       "    .dataframe thead th {\n",
       "        text-align: right;\n",
       "    }\n",
       "</style>\n",
       "<table border=\"1\" class=\"dataframe\">\n",
       "  <thead>\n",
       "    <tr style=\"text-align: right;\">\n",
       "      <th></th>\n",
       "      <th>crm_ActiviteitVereistContact_ActivityId</th>\n",
       "      <th>crm_ActiviteitVereistContact_ReqAttendee</th>\n",
       "    </tr>\n",
       "  </thead>\n",
       "  <tbody>\n",
       "    <tr>\n",
       "      <th>0</th>\n",
       "      <td>0000028D-CC1A-E411-ACD3-005056B06EC4</td>\n",
       "      <td>902EEFE7-2703-E211-8CF1-984BE17C2819</td>\n",
       "    </tr>\n",
       "    <tr>\n",
       "      <th>1</th>\n",
       "      <td>00001418-F074-E311-BBFD-005056B06EB4</td>\n",
       "      <td>902EEFE7-2703-E211-8CF1-984BE17C2819</td>\n",
       "    </tr>\n",
       "    <tr>\n",
       "      <th>2</th>\n",
       "      <td>00002236-D170-E511-9AB0-005056B06EB4</td>\n",
       "      <td>320746D0-9C6C-E311-B4EF-005056B06EC4</td>\n",
       "    </tr>\n",
       "    <tr>\n",
       "      <th>3</th>\n",
       "      <td>00002236-D170-E511-9AB0-005056B06EB4</td>\n",
       "      <td>320746D0-9C6C-E311-B4EF-005056B06EC4</td>\n",
       "    </tr>\n",
       "    <tr>\n",
       "      <th>4</th>\n",
       "      <td>00003B12-1DDD-ED11-9D39-0050568A003F</td>\n",
       "      <td>541F9850-176A-E111-B43A-00505680000A</td>\n",
       "    </tr>\n",
       "  </tbody>\n",
       "</table>\n",
       "</div>"
      ],
      "text/plain": [
       "  crm_ActiviteitVereistContact_ActivityId  \\\n",
       "0    0000028D-CC1A-E411-ACD3-005056B06EC4   \n",
       "1    00001418-F074-E311-BBFD-005056B06EB4   \n",
       "2    00002236-D170-E511-9AB0-005056B06EB4   \n",
       "3    00002236-D170-E511-9AB0-005056B06EB4   \n",
       "4    00003B12-1DDD-ED11-9D39-0050568A003F   \n",
       "\n",
       "  crm_ActiviteitVereistContact_ReqAttendee  \n",
       "0     902EEFE7-2703-E211-8CF1-984BE17C2819  \n",
       "1     902EEFE7-2703-E211-8CF1-984BE17C2819  \n",
       "2     320746D0-9C6C-E311-B4EF-005056B06EC4  \n",
       "3     320746D0-9C6C-E311-B4EF-005056B06EC4  \n",
       "4     541F9850-176A-E111-B43A-00505680000A  "
      ]
     },
     "execution_count": 1,
     "metadata": {},
     "output_type": "execute_result"
    }
   ],
   "source": [
    "import pandas as pd\n",
    "data = pd.read_csv('../data/Activiteit vereist contact.csv', sep=\",\")\n",
    "data.head()\n"
   ]
  },
  {
   "cell_type": "code",
   "execution_count": 8,
   "metadata": {},
   "outputs": [
    {
     "name": "stdout",
     "output_type": "stream",
     "text": [
      "1901287\n",
      "1901287\n"
     ]
    }
   ],
   "source": []
  }
 ],
 "metadata": {
  "kernelspec": {
   "display_name": "Python 3",
   "language": "python",
   "name": "python3"
  },
  "language_info": {
   "codemirror_mode": {
    "name": "ipython",
    "version": 3
   },
   "file_extension": ".py",
   "mimetype": "text/x-python",
   "name": "python",
   "nbconvert_exporter": "python",
   "pygments_lexer": "ipython3",
   "version": "3.11.2"
  }
 },
 "nbformat": 4,
 "nbformat_minor": 2
}
