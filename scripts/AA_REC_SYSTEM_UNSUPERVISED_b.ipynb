{
 "cells": [
  {
   "cell_type": "code",
   "execution_count": 1,
   "metadata": {},
   "outputs": [],
   "source": [
    "import pandas as pd\n",
    "import numpy as np\n",
    "import matplotlib.pyplot as plt\n",
    "import seaborn as sns\n",
    "import os\n",
    "import re"
   ]
  },
  {
   "cell_type": "code",
   "execution_count": 2,
   "metadata": {},
   "outputs": [
    {
     "name": "stderr",
     "output_type": "stream",
     "text": [
      "C:\\Users\\buyse\\AppData\\Local\\Temp\\ipykernel_14096\\1816359094.py:1: DtypeWarning: Columns (24,25,85,106) have mixed types. Specify dtype option on import or set low_memory=False.\n",
      "  data = pd.read_csv('../data_merged/merged_total.csv')\n"
     ]
    }
   ],
   "source": [
    "data = pd.read_csv('../data_merged/merged_total.csv') # +- 1 minuut om in te laden"
   ]
  },
  {
   "cell_type": "markdown",
   "metadata": {},
   "source": [
    "### Onnodige kolommen weglaten"
   ]
  },
  {
   "cell_type": "code",
   "execution_count": 5,
   "metadata": {},
   "outputs": [],
   "source": [
    "data = data[data['account_adres_geografische_regio'] == 'Oost-Vlaanderen']"
   ]
  },
  {
   "cell_type": "code",
   "execution_count": 166,
   "metadata": {},
   "outputs": [],
   "source": [
    "cols_to_drop = [\n",
    "    'account_account_id',\n",
    "    'account_adres_geografische_regio',\n",
    "    'afspraak_afspraak_id',\n",
    "    'afspraak_eindtijd',\n",
    "    'activiteitvereistcontact_activityid_id',\n",
    "    'activiteitvereistcontact_reqattendee',\n",
    "    'account_oprichtingsdatum',\n",
    "    'aangemaaktop',\n",
    "    'gewijzigddoor',\n",
    "    'gewijzigdop',\n",
    "    'viewedon',\n",
    "    'visitorkey',\n",
    "    'webcontent',\n",
    "    'account_activiteitscode_account',\n",
    "    'account_activiteitscode_activiteitscode',\n",
    "    'account_activiteitscode_inf_account_inf_activiteitscodeid',\n",
    "    'activiteitscode_activiteitscode_id',\n",
    "    'contact_contactpersoon_id',\n",
    "    'functie_functie_id',\n",
    "    'contactfunctie_contactpersoon',\n",
    "    'persoon_persoon_id',\n",
    "    'campagne_campagne_id',\n",
    "    'campagne_einddatum',\n",
    "    'campagne_startdatum',\n",
    "    'sessie_eind_datum_tijd',\n",
    "    'sessie_start_datum_tijd',\n",
    "    'sessie_sessie_id',\n",
    "    'inschrijving_datum_inschrijving',\n",
    "    'inschrijving_inschrijving_id',\n",
    "    'visit_visit_id',\n",
    "    'visit_aangemaakt_op',\n",
    "    'visit_gewijzigd_op',\n",
    "    'pageview_id',\n",
    "    'account_industriezone_naam_',\n",
    "    'account_adres_provincie',\n",
    "    'account_reden_van_status',\n",
    "    'account_status',\n",
    "    'account_voka_nr_',\n",
    "    'account_adres_land',\n",
    "    'activiteitscode_status',\n",
    "    'status',\n",
    "    'redenvanstatus',\n",
    "    'type',\n",
    "    'url',\n",
    "    'operatingsystem',\n",
    "    'financieledata_gewijzigd_op',\n",
    "    'persoon_persoonsnr_',\n",
    "    'persoon_reden_van_status',\n",
    "    'persoon_web_login',\n",
    "    'persoon_mail_regio_antwerpen_waasland',\n",
    "    'persoon_mail_regio_west_vlaanderen',\n",
    "    'persoon_mail_regio_vlaams_brabant',\n",
    "    'persoon_mail_regio_mechelen_kempen',\n",
    "    'persoon_mail_regio_limburg',\n",
    "    'persoon_mail_regio_brussel_hoofdstedelijk_gewest',\n",
    "    'persoon_mail_regio_antwerpen_waasland',\n",
    "    'persoon_mail_regio_oost_vlaanderen',\n",
    "    'persoon_mail_regio_voka_nationaal',\n",
    "    'persoon_mail_thema_duurzaamheid',\n",
    "    'persoon_mail_thema_financieel_fiscaal',\n",
    "    'persoon_mail_thema_innovatie',\n",
    "    'persoon_mail_thema_internationaal_ondernemen',\n",
    "    'persoon_mail_thema_mobiliteit',\n",
    "    'persoon_mail_thema_omgeving',\n",
    "    'persoon_mail_thema_sales_marketing_communicatie',\n",
    "    'persoon_mail_thema_strategie_en_algemeen_management',\n",
    "    'persoon_mail_thema_talent',\n",
    "    'persoon_mail_thema_welzijn',\n",
    "    'persoon_mail_type_bevraging',\n",
    "    'persoon_mail_type_communities_en_projecten',\n",
    "    'persoon_mail_type_netwerkevenementen',\n",
    "    'persoon_mail_type_nieuwsbrieven',\n",
    "    'persoon_mail_type_opleidingen',\n",
    "    'persoon_mail_type_persberichten_belangrijke_meldingen',\n",
    "    'campagne_campagne_nr',\n",
    "    'campagne_status',\n",
    "    'campagne_naam_in_email',\n",
    "    'campagne_url_voka_be',\n",
    "    'sessie_sessie_nr_',\n",
    "    'visit_adobe_reader',\n",
    "    'visit_browser',\n",
    "    'visit_contact_naam_',\n",
    "    'visit_containssocialprofile',\n",
    "    'visit_email_send',\n",
    "    'visit_ended_on',\n",
    "    'visit_entry_page',\n",
    "    'visit_exit_page',\n",
    "    'visit_ip_address',\n",
    "    'visit_ip_organization',\n",
    "    'visit_keywords',\n",
    "    'visit_ip_longitude',\n",
    "    'visit_ip_latitude',\n",
    "    'visit_operating_system',\n",
    "    'visit_started_on',\n",
    "    'visit_time',\n",
    "    'browser',\n",
    "    'time',\n",
    "    'visit_referrer',\n",
    "    'visit_referrer_type',\n",
    "    \n",
    "]"
   ]
  },
  {
   "cell_type": "code",
   "execution_count": 167,
   "metadata": {},
   "outputs": [
    {
     "data": {
      "text/plain": [
       "(2055938, 46)"
      ]
     },
     "execution_count": 167,
     "metadata": {},
     "output_type": "execute_result"
    }
   ],
   "source": [
    "data.drop(cols_to_drop, axis=1, inplace=True)\n",
    "data.drop_duplicates(inplace=True)\n",
    "data.shape"
   ]
  },
  {
   "cell_type": "markdown",
   "metadata": {},
   "source": [
    "### Adres kolommen samenvoegen waar mogelijk"
   ]
  },
  {
   "cell_type": "code",
   "execution_count": null,
   "metadata": {},
   "outputs": [],
   "source": [
    "# voeg account_adres_geografische_subregio, account_adres_plaats samen tot account_adres\n",
    "data['account_adres'] = data['account_adres_geografische_subregio'] + ', ' + data['account_adres_plaats']\n",
    "# remove the (O.-Vl.) from the string\n",
    "data['account_adres'] = data['account_adres'].apply(lambda x: re.sub(r'\\(.*\\)', '', x))\n",
    "data.drop(['account_adres_geografische_subregio', 'account_adres_plaats'], axis=1, inplace=True)"
   ]
  },
  {
   "cell_type": "markdown",
   "metadata": {},
   "source": [
    "### Type kolommen veranderen naar juiste dtypes"
   ]
  },
  {
   "cell_type": "code",
   "execution_count": 201,
   "metadata": {},
   "outputs": [],
   "source": [
    "def change_dtype(col, dtype_first, dtype_to, options=None):\n",
    "    try:\n",
    "        if dtype_first == 'object' and dtype_to == 'float64':\n",
    "            data[col] = data[col].astype('str')\n",
    "            data[col] = data[col].apply(lambda x: x.replace('unknown', '-1'))\n",
    "            data[col] = data[col].apply(lambda x: x.replace(',', '.'))\n",
    "            data[col] = data[col].astype(dtype_to)\n",
    "        \n",
    "        if dtype_first == 'object' and dtype_to =='int64':\n",
    "            data[col] = data[col].astype('str')\n",
    "            data[col] = data[col].apply(lambda x: x.replace('unknown', '-1'))\n",
    "            data[col] = data[col].astype(dtype_to)\n",
    "        \n",
    "        if dtype_first == 'object' and dtype_to =='onehot':\n",
    "            data[col] = data[col].astype('str')\n",
    "            data[col] = data[col].apply(lambda x: x.replace('unknown', '-1'))\n",
    "            data.replace({col: {options[0]: 1, options[1]: 0}}, inplace=True)\n",
    "    except:\n",
    "        print(\"Error: kolommen zijn misschien al omgezet naar het gewenste datatype\")\n"
   ]
  },
  {
   "cell_type": "code",
   "execution_count": 202,
   "metadata": {},
   "outputs": [],
   "source": [
    "change_dtype('financieledata_fte', 'object', 'float64')\n",
    "change_dtype('financieledata_toegevoegde_waarde', 'object', 'float64')\n",
    "change_dtype('contact_status', 'object', 'onehot', ['Actief', 'Inactief'])"
   ]
  },
  {
   "cell_type": "code",
   "execution_count": 203,
   "metadata": {},
   "outputs": [
    {
     "name": "stdout",
     "output_type": "stream",
     "text": [
      "<class 'pandas.core.frame.DataFrame'>\n",
      "Index: 2055938 entries, 0 to 3500991\n",
      "Data columns (total 45 columns):\n",
      " #   Column                             Dtype  \n",
      "---  ------                             -----  \n",
      " 0   account_adres_postcode             int64  \n",
      " 1   account_is_voka_entiteit           int64  \n",
      " 2   account_ondernemingsaard           object \n",
      " 3   account_ondernemingstype           object \n",
      " 4   account_primaire_activiteit        object \n",
      " 5   activiteitscode_naam               object \n",
      " 6   financieledata_boekjaar            int64  \n",
      " 7   financieledata_aantal_maanden      float64\n",
      " 8   financieledata_toegevoegde_waarde  float64\n",
      " 9   financieledata_fte                 float64\n",
      " 10  contact_functietitel               object \n",
      " 11  contact_status                     int64  \n",
      " 12  contact_voka_medewerker            int64  \n",
      " 13  functie_naam                       object \n",
      " 14  persoon_marketingcommunicatie      object \n",
      " 15  campagne_naam                      object \n",
      " 16  campagne_reden_van_status          object \n",
      " 17  campagne_type_campagne             object \n",
      " 18  campagne_soort_campagne            object \n",
      " 19  sessie_activiteitstype             object \n",
      " 20  sessie_product                     object \n",
      " 21  sessie_thema_naam_                 object \n",
      " 22  inschrijving_aanwezig_afwezig      object \n",
      " 23  inschrijving_bron                  object \n",
      " 24  inschrijving_facturatie_bedrag     object \n",
      " 25  visit_bounce                       object \n",
      " 26  visit_ip_stad                      object \n",
      " 27  visit_ip_company                   object \n",
      " 28  visit_ip_land                      object \n",
      " 29  visit_duration                     float64\n",
      " 30  visit_first_visit                  object \n",
      " 31  visit_ip_postcode                  object \n",
      " 32  visit_referring_host               object \n",
      " 33  visit_score                        float64\n",
      " 34  visit_ip_status                    object \n",
      " 35  visit_total_pages                  float64\n",
      " 36  duration                           float64\n",
      " 37  referrertype                       object \n",
      " 38  pagetitle                          object \n",
      " 39  afspraak_thema                     object \n",
      " 40  afspraak_subthema                  object \n",
      " 41  afspraak_onderwerp                 object \n",
      " 42  afspraak_keyphrases                object \n",
      " 43  afspraak_betreft                   object \n",
      " 44  account_adres                      object \n",
      "dtypes: float64(7), int64(5), object(33)\n",
      "memory usage: 721.5+ MB\n"
     ]
    }
   ],
   "source": [
    "data.info()"
   ]
  },
  {
   "cell_type": "code",
   "execution_count": 207,
   "metadata": {},
   "outputs": [
    {
     "data": {
      "text/plain": [
       "account_adres_postcode                                                            9220\n",
       "account_is_voka_entiteit                                                             0\n",
       "account_ondernemingsaard                                          Productie & Diensten\n",
       "account_ondernemingstype                                                Familiebedrijf\n",
       "account_primaire_activiteit                                             Ijzer en staal\n",
       "activiteitscode_naam                                                    Ijzer en staal\n",
       "financieledata_boekjaar                                                           2011\n",
       "financieledata_aantal_maanden                                                     12.0\n",
       "financieledata_toegevoegde_waarde                                                 -1.0\n",
       "financieledata_fte                                                                49.0\n",
       "contact_functietitel                                                               CEO\n",
       "contact_status                                                                       1\n",
       "contact_voka_medewerker                                                              0\n",
       "functie_naam                                                            Bedrijfsleider\n",
       "persoon_marketingcommunicatie                                                 Flexibel\n",
       "campagne_naam                             OV-IN-Netwerkevent duaal met Richtpunt Hamme\n",
       "campagne_reden_van_status                                                        Nieuw\n",
       "campagne_type_campagne                                                Netwerkevenement\n",
       "campagne_soort_campagne                                                        Offline\n",
       "sessie_activiteitstype                                                       IN Events\n",
       "sessie_product                                          OV-Netwerkactiviteit-Regionaal\n",
       "sessie_thema_naam_                                                           Innovatie\n",
       "inschrijving_aanwezig_afwezig                                                 Aanwezig\n",
       "inschrijving_bron                                                              Website\n",
       "inschrijving_facturatie_bedrag                                                       0\n",
       "visit_bounce                                                                       Nee\n",
       "visit_ip_stad                                                              Dendermonde\n",
       "visit_ip_company                                                               Telenet\n",
       "visit_ip_land                                                                  Belgium\n",
       "visit_duration                                                                   152.0\n",
       "visit_first_visit                                                                  Nee\n",
       "visit_ip_postcode                                                                 9200\n",
       "visit_referring_host                                                           unknown\n",
       "visit_score                                                                        6.0\n",
       "visit_ip_status                                                                    VLG\n",
       "visit_total_pages                                                                  3.0\n",
       "duration                                                                          93.0\n",
       "referrertype                                                                     Email\n",
       "pagetitle                                      Netwerkevent met Richtpunt Hamme | Voka\n",
       "afspraak_thema                                                            Lidmaatschap\n",
       "afspraak_subthema                                              Retentie (Lidmaatschap)\n",
       "afspraak_onderwerp                                                 ov-ledenbezoek-2022\n",
       "afspraak_keyphrases                  hilde en filip , bryo coördinator , verenigde ...\n",
       "afspraak_betreft                                                               account\n",
       "account_adres                                                      Dendermonde, Hamme \n",
       "Name: 10837, dtype: object"
      ]
     },
     "execution_count": 207,
     "metadata": {},
     "output_type": "execute_result"
    }
   ],
   "source": [
    "data.iloc[10000]"
   ]
  }
 ],
 "metadata": {
  "kernelspec": {
   "display_name": "Python 3",
   "language": "python",
   "name": "python3"
  },
  "language_info": {
   "codemirror_mode": {
    "name": "ipython",
    "version": 3
   },
   "file_extension": ".py",
   "mimetype": "text/x-python",
   "name": "python",
   "nbconvert_exporter": "python",
   "pygments_lexer": "ipython3",
   "version": "3.11.3"
  }
 },
 "nbformat": 4,
 "nbformat_minor": 2
}
