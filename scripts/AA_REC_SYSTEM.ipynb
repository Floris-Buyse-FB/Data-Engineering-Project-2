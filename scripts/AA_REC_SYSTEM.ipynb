{
 "cells": [
  {
   "cell_type": "code",
   "execution_count": 5,
   "metadata": {},
   "outputs": [],
   "source": [
    "import pandas as pd\n",
    "import numpy as np\n",
    "import os"
   ]
  },
  {
   "cell_type": "markdown",
   "metadata": {},
   "source": [
    "### Eerst gaan we alle datafiles die we nodig hebben mergen tot 1 dataframe"
   ]
  },
  {
   "cell_type": "code",
   "execution_count": 6,
   "metadata": {},
   "outputs": [],
   "source": [
    "data_acc = pd.read_csv('../data_clean/Account_fixed.csv', sep=',')\n",
    "data_acti = pd.read_csv('../data_clean/Activiteitscode_fixed.csv', sep=\",\")\n",
    "data_acc_acti = pd.read_csv('../data_clean/Account_activiteitscode_fixed.csv', sep=\",\")\n",
    "\n",
    "# merge account_activiteitscode with activiteitscode\n",
    "merged_relation = data_acc_acti.merge(data_acti, left_on='account_activiteitscode_activiteitscode', right_on='activiteitscode_activiteitscode_id', how='inner')\n",
    "# merge account with the merged relation from above\n",
    "merged_data = data_acc.merge(merged_relation, left_on='account_account_id', right_on='account_activiteitscode_account', how='inner')\n",
    "\n",
    "# merge account with financiele data\n",
    "data_acc_money = pd.read_csv('../data_clean/Account_financiële_data_fixed.csv', sep=\",\")\n",
    "merged_data = merged_data.merge(data_acc_money, left_on='account_account_id', right_on='financieledata_ondernemingid', how='inner')"
   ]
  },
  {
   "cell_type": "code",
   "execution_count": 10,
   "metadata": {},
   "outputs": [
    {
     "name": "stdout",
     "output_type": "stream",
     "text": [
      "Data is niet meer beschikbaar / is al verwijderd\n"
     ]
    }
   ],
   "source": [
    "# RAM vrijmaken\n",
    "try:\n",
    "    del data_acc\n",
    "    del data_acti\n",
    "    del data_acc_acti\n",
    "    del merged_relation\n",
    "    del data_acc_money\n",
    "except:\n",
    "    print(\"Data is niet meer beschikbaar / is al verwijderd\")"
   ]
  },
  {
   "cell_type": "code",
   "execution_count": 9,
   "metadata": {},
   "outputs": [
    {
     "data": {
      "text/plain": [
       "account_account_id                                           00002DAC-0A69-E111-B43A-00505680000A\n",
       "account_adres_geografische_regio                                                  Oost-Vlaanderen\n",
       "account_adres_geografische_subregio                                                    Oudenaarde\n",
       "account_adres_plaats                                                                       BEVERE\n",
       "account_adres_postcode                                                                       9700\n",
       "account_adres_provincie                                                           Oost-Vlaanderen\n",
       "account_industriezone_naam_                                                               unknown\n",
       "account_is_voka_entiteit                                                                        0\n",
       "account_ondernemingsaard                                                                 Diensten\n",
       "account_ondernemingstype                                                                  Bedrijf\n",
       "account_oprichtingsdatum                                                                2-10-1989\n",
       "account_primaire_activiteit                                          Overige industrie & diensten\n",
       "account_reden_van_status                                                                   Actief\n",
       "account_status                                                                                  1\n",
       "account_voka_nr_                                                                           128093\n",
       "account_adres_land                                                                         België\n",
       "account_activiteitscode_account                              00002DAC-0A69-E111-B43A-00505680000A\n",
       "account_activiteitscode_activiteitscode                      20787771-1A62-E111-8F14-00505680000A\n",
       "account_activiteitscode_inf_account_inf_activiteitscodeid    2D780AA3-856B-E111-B98D-18A905732A15\n",
       "activiteitscode_naam                                                 Overige industrie & diensten\n",
       "activiteitscode_activiteitscode_id                           20787771-1A62-E111-8F14-00505680000A\n",
       "activiteitscode_status                                                                     Actief\n",
       "financieledata_ondernemingid                                 00002DAC-0A69-E111-B43A-00505680000A\n",
       "financieledata_boekjaar                                                                      2007\n",
       "financieledata_aantal_maanden                                                                -1.0\n",
       "financieledata_toegevoegde_waarde                                                         unknown\n",
       "financieledata_fte                                                                              1\n",
       "financieledata_gewijzigd_op                                                   15-10-2018 08:21:37\n",
       "Name: 0, dtype: object"
      ]
     },
     "execution_count": 9,
     "metadata": {},
     "output_type": "execute_result"
    }
   ],
   "source": [
    "merged_data.iloc[0]"
   ]
  },
  {
   "cell_type": "markdown",
   "metadata": {},
   "source": [
    "#### Tweede ronde van mergen"
   ]
  },
  {
   "cell_type": "code",
   "execution_count": 12,
   "metadata": {},
   "outputs": [],
   "source": [
    "data_afspraak_alle = pd.read_csv('../data_clean/Afspraak_alle_fixed.csv', sep=',')\n",
    "data_afspraak_account_cleaned = pd.read_csv('../data_clean/Afspraak_betreft_account_cleaned_fixed.csv', sep=',')\n",
    "data_afspraak_contact_cleaned = pd.read_csv('../data_clean/Afspraak_betreft_contact_cleaned_fixed.csv', sep=',')\n",
    "data_afspraak_account_gelinkt_cleaned = pd.read_csv('../data_clean/Afspraak_account_gelinkt_cleaned_fixed.csv', sep=',')"
   ]
  },
  {
   "cell_type": "markdown",
   "metadata": {},
   "source": [
    "##### Merge data_afspraak_account_cleaned en data_afspraak_account_gelinkt_cleaned"
   ]
  },
  {
   "cell_type": "code",
   "execution_count": 18,
   "metadata": {},
   "outputs": [],
   "source": [
    "afspraak_acc_merged = data_afspraak_account_cleaned.merge(\n",
    "    data_afspraak_account_gelinkt_cleaned, \n",
    "    left_on='afspraak_betreft_account_betreft_id', \n",
    "    right_on='afspraak_account_gelinkt_account', how='inner')"
   ]
  },
  {
   "cell_type": "markdown",
   "metadata": {},
   "source": [
    "##### Merge afspraak_acc_merged en data_afspraak_contact_cleaned"
   ]
  },
  {
   "cell_type": "code",
   "execution_count": 21,
   "metadata": {},
   "outputs": [],
   "source": [
    "afspraak_merged = afspraak_acc_merged.merge(\n",
    "    data_afspraak_contact_cleaned, \n",
    "    left_on='afspraak_betreft_account_afspraak_id', \n",
    "    right_on='afspraak_betreft_contactfiche_afspraak_id', how='inner')"
   ]
  },
  {
   "cell_type": "code",
   "execution_count": 22,
   "metadata": {},
   "outputs": [
    {
     "data": {
      "text/html": [
       "<div>\n",
       "<style scoped>\n",
       "    .dataframe tbody tr th:only-of-type {\n",
       "        vertical-align: middle;\n",
       "    }\n",
       "\n",
       "    .dataframe tbody tr th {\n",
       "        vertical-align: top;\n",
       "    }\n",
       "\n",
       "    .dataframe thead th {\n",
       "        text-align: right;\n",
       "    }\n",
       "</style>\n",
       "<table border=\"1\" class=\"dataframe\">\n",
       "  <thead>\n",
       "    <tr style=\"text-align: right;\">\n",
       "      <th></th>\n",
       "      <th>afspraak_betreft_account_afspraak_id</th>\n",
       "      <th>afspraak_betreft_account_thema</th>\n",
       "      <th>afspraak_betreft_account_subthema</th>\n",
       "      <th>afspraak_betreft_account_onderwerp</th>\n",
       "      <th>afspraak_betreft_account_betreft_id</th>\n",
       "      <th>afspraak_betreft_account_eindtijd</th>\n",
       "      <th>afspraak_betreft_account_keyphrases</th>\n",
       "      <th>afspraak_account_gelinkt_afspraak_id</th>\n",
       "      <th>afspraak_account_gelinkt_thema</th>\n",
       "      <th>afspraak_account_gelinkt_subthema</th>\n",
       "      <th>...</th>\n",
       "      <th>afspraak_account_gelinkt_eindtijd</th>\n",
       "      <th>afspraak_account_gelinkt_account</th>\n",
       "      <th>afspraak_account_gelinkt_keyphrases</th>\n",
       "      <th>afspraak_betreft_contactfiche_afspraak_id</th>\n",
       "      <th>afspraak_betreft_contactfiche_thema</th>\n",
       "      <th>afspraak_betreft_contactfiche_subthema</th>\n",
       "      <th>afspraak_betreft_contactfiche_onderwerp</th>\n",
       "      <th>afspraak_betreft_contactfiche_betreft_id</th>\n",
       "      <th>afspraak_betreft_contactfiche_eindtijd</th>\n",
       "      <th>afspraak_betreft_contactfiche_keyphrases</th>\n",
       "    </tr>\n",
       "  </thead>\n",
       "  <tbody>\n",
       "  </tbody>\n",
       "</table>\n",
       "<p>0 rows × 21 columns</p>\n",
       "</div>"
      ],
      "text/plain": [
       "Empty DataFrame\n",
       "Columns: [afspraak_betreft_account_afspraak_id, afspraak_betreft_account_thema, afspraak_betreft_account_subthema, afspraak_betreft_account_onderwerp, afspraak_betreft_account_betreft_id, afspraak_betreft_account_eindtijd, afspraak_betreft_account_keyphrases, afspraak_account_gelinkt_afspraak_id, afspraak_account_gelinkt_thema, afspraak_account_gelinkt_subthema, afspraak_account_gelinkt_onderwerp, afspraak_account_gelinkt_eindtijd, afspraak_account_gelinkt_account, afspraak_account_gelinkt_keyphrases, afspraak_betreft_contactfiche_afspraak_id, afspraak_betreft_contactfiche_thema, afspraak_betreft_contactfiche_subthema, afspraak_betreft_contactfiche_onderwerp, afspraak_betreft_contactfiche_betreft_id, afspraak_betreft_contactfiche_eindtijd, afspraak_betreft_contactfiche_keyphrases]\n",
       "Index: []\n",
       "\n",
       "[0 rows x 21 columns]"
      ]
     },
     "execution_count": 22,
     "metadata": {},
     "output_type": "execute_result"
    }
   ],
   "source": [
    "afspraak_merged.head()"
   ]
  },
  {
   "cell_type": "markdown",
   "metadata": {},
   "source": [
    "##### Afspraken merge en Account merge samenvoegen"
   ]
  },
  {
   "cell_type": "code",
   "execution_count": null,
   "metadata": {},
   "outputs": [],
   "source": [
    "merged_data_total = merged_data.merge(afspraak_merged, left_on='account_account_id', right_on='afspraak_betreft_account_account', how='inner')"
   ]
  }
 ],
 "metadata": {
  "kernelspec": {
   "display_name": "Python 3",
   "language": "python",
   "name": "python3"
  },
  "language_info": {
   "codemirror_mode": {
    "name": "ipython",
    "version": 3
   },
   "file_extension": ".py",
   "mimetype": "text/x-python",
   "name": "python",
   "nbconvert_exporter": "python",
   "pygments_lexer": "ipython3",
   "version": "3.11.3"
  }
 },
 "nbformat": 4,
 "nbformat_minor": 2
}
