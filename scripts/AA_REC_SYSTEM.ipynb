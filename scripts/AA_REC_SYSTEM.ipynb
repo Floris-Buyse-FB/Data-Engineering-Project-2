{
 "cells": [
  {
   "cell_type": "code",
   "execution_count": 21,
   "metadata": {},
   "outputs": [],
   "source": [
    "import pandas as pd\n",
    "import numpy as np\n",
    "import os"
   ]
  },
  {
   "cell_type": "markdown",
   "metadata": {},
   "source": [
    "### Eerst gaan we alle datafiles die we nodig hebben mergen tot 1 dataframe"
   ]
  },
  {
   "cell_type": "markdown",
   "metadata": {},
   "source": [
    "#### 1. Alles van Account mergen"
   ]
  },
  {
   "cell_type": "markdown",
   "metadata": {},
   "source": [
    "##### Account mergen met activiteit tabellen"
   ]
  },
  {
   "cell_type": "code",
   "execution_count": 2,
   "metadata": {},
   "outputs": [],
   "source": [
    "data_acc = pd.read_csv('../data_clean/Account_fixed.csv', sep=',')\n",
    "data_acti = pd.read_csv('../data_clean/Activiteitscode_fixed.csv', sep=\",\")\n",
    "data_acc_acti = pd.read_csv('../data_clean/Account_activiteitscode_fixed.csv', sep=\",\")\n",
    "\n",
    "# merge account_activiteitscode with activiteitscode\n",
    "merged_relation = data_acc_acti.merge(data_acti, left_on='account_activiteitscode_activiteitscode', right_on='activiteitscode_activiteitscode_id', how='inner')\n",
    "# merge account with the merged relation from above\n",
    "merged_accounts = data_acc.merge(merged_relation, left_on='account_account_id', right_on='account_activiteitscode_account', how='inner')"
   ]
  },
  {
   "cell_type": "code",
   "execution_count": 3,
   "metadata": {},
   "outputs": [],
   "source": [
    "# RAM vrijmaken\n",
    "try:\n",
    "    del data_acc\n",
    "    del data_acti\n",
    "    del data_acc_acti\n",
    "    del merged_relation\n",
    "except:\n",
    "    print(\"Data is niet meer beschikbaar / is al verwijderd\")"
   ]
  },
  {
   "cell_type": "code",
   "execution_count": 4,
   "metadata": {},
   "outputs": [
    {
     "data": {
      "text/plain": [
       "(14673, 22)"
      ]
     },
     "execution_count": 4,
     "metadata": {},
     "output_type": "execute_result"
    }
   ],
   "source": [
    "merged_accounts.shape"
   ]
  },
  {
   "cell_type": "markdown",
   "metadata": {},
   "source": [
    "##### Accounts mergen met financiële data"
   ]
  },
  {
   "cell_type": "code",
   "execution_count": 5,
   "metadata": {},
   "outputs": [
    {
     "data": {
      "text/plain": [
       "(2030180, 6)"
      ]
     },
     "execution_count": 5,
     "metadata": {},
     "output_type": "execute_result"
    }
   ],
   "source": [
    "financiele_data = pd.read_csv('../data_clean/Account_financiële_data_fixed.csv', sep=',')\n",
    "financiele_data.shape"
   ]
  },
  {
   "cell_type": "code",
   "execution_count": 6,
   "metadata": {},
   "outputs": [
    {
     "data": {
      "text/plain": [
       "(181428, 28)"
      ]
     },
     "execution_count": 6,
     "metadata": {},
     "output_type": "execute_result"
    }
   ],
   "source": [
    "merged_accounts = merged_accounts.merge(financiele_data, left_on='account_account_id', right_on='financieledata_ondernemingid', how='inner')\n",
    "merged_accounts.shape"
   ]
  },
  {
   "cell_type": "markdown",
   "metadata": {},
   "source": [
    "##### Accounts merge met Contactfiches"
   ]
  },
  {
   "cell_type": "code",
   "execution_count": 7,
   "metadata": {},
   "outputs": [
    {
     "data": {
      "text/plain": [
       "(1169683, 6)"
      ]
     },
     "execution_count": 7,
     "metadata": {},
     "output_type": "execute_result"
    }
   ],
   "source": [
    "contactfiches = pd.read_csv('../data_clean/Contact_fixed.csv', sep=',')\n",
    "contactfiches.shape"
   ]
  },
  {
   "cell_type": "code",
   "execution_count": 8,
   "metadata": {},
   "outputs": [
    {
     "data": {
      "text/plain": [
       "(3748445, 34)"
      ]
     },
     "execution_count": 8,
     "metadata": {},
     "output_type": "execute_result"
    }
   ],
   "source": [
    "merged_accounts = merged_accounts.merge(contactfiches, left_on='account_account_id', right_on='contact_account', how='inner')\n",
    "merged_accounts.shape"
   ]
  },
  {
   "cell_type": "markdown",
   "metadata": {},
   "source": [
    "##### Accounts mergen met Functie"
   ]
  },
  {
   "cell_type": "code",
   "execution_count": 9,
   "metadata": {},
   "outputs": [
    {
     "data": {
      "text/plain": [
       "((589129, 2), (71, 2))"
      ]
     },
     "execution_count": 9,
     "metadata": {},
     "output_type": "execute_result"
    }
   ],
   "source": [
    "contactfiches_functies = pd.read_csv('../data_clean/Contact_functie_fixed.csv', sep=',')\n",
    "functies = pd.read_csv('../data_clean/Functie_fixed.csv', sep=',')\n",
    "contactfiches_functies.shape, functies.shape"
   ]
  },
  {
   "cell_type": "code",
   "execution_count": 10,
   "metadata": {},
   "outputs": [
    {
     "data": {
      "text/plain": [
       "Index(['contactfunctie_contactpersoon', 'contactfunctie_functie'], dtype='object')"
      ]
     },
     "execution_count": 10,
     "metadata": {},
     "output_type": "execute_result"
    }
   ],
   "source": [
    "contactfiches_functies.columns"
   ]
  },
  {
   "cell_type": "code",
   "execution_count": 11,
   "metadata": {},
   "outputs": [],
   "source": [
    "merged_accounts = merged_accounts.merge(contactfiches_functies, left_on='contact_contactpersoon_id', right_on='contactfunctie_contactpersoon', how='inner')"
   ]
  },
  {
   "cell_type": "code",
   "execution_count": 12,
   "metadata": {},
   "outputs": [
    {
     "data": {
      "text/plain": [
       "['account_account_id',\n",
       " 'account_adres_geografische_regio',\n",
       " 'account_adres_geografische_subregio',\n",
       " 'account_adres_plaats',\n",
       " 'account_adres_postcode',\n",
       " 'account_adres_provincie',\n",
       " 'account_industriezone_naam_',\n",
       " 'account_is_voka_entiteit',\n",
       " 'account_ondernemingsaard',\n",
       " 'account_ondernemingstype',\n",
       " 'account_oprichtingsdatum',\n",
       " 'account_primaire_activiteit',\n",
       " 'account_reden_van_status',\n",
       " 'account_status',\n",
       " 'account_voka_nr_',\n",
       " 'account_adres_land',\n",
       " 'account_activiteitscode_account',\n",
       " 'account_activiteitscode_activiteitscode',\n",
       " 'account_activiteitscode_inf_account_inf_activiteitscodeid',\n",
       " 'activiteitscode_naam',\n",
       " 'activiteitscode_activiteitscode_id',\n",
       " 'activiteitscode_status',\n",
       " 'financieledata_ondernemingid',\n",
       " 'financieledata_boekjaar',\n",
       " 'financieledata_aantal_maanden',\n",
       " 'financieledata_toegevoegde_waarde',\n",
       " 'financieledata_fte',\n",
       " 'financieledata_gewijzigd_op',\n",
       " 'contact_contactpersoon_id',\n",
       " 'contact_account',\n",
       " 'contact_functietitel',\n",
       " 'contact_persoon_id',\n",
       " 'contact_status',\n",
       " 'contact_voka_medewerker',\n",
       " 'contactfunctie_contactpersoon',\n",
       " 'contactfunctie_functie']"
      ]
     },
     "execution_count": 12,
     "metadata": {},
     "output_type": "execute_result"
    }
   ],
   "source": [
    "list(merged_accounts.columns)"
   ]
  },
  {
   "cell_type": "code",
   "execution_count": 13,
   "metadata": {},
   "outputs": [],
   "source": [
    "merged_accounts = merged_accounts.merge(functies, left_on='contactfunctie_functie', right_on='functie_functie_id', how='inner')"
   ]
  },
  {
   "cell_type": "markdown",
   "metadata": {},
   "source": [
    "##### Accounts merge met Personen"
   ]
  },
  {
   "cell_type": "code",
   "execution_count": 14,
   "metadata": {},
   "outputs": [
    {
     "data": {
      "text/plain": [
       "(580981, 29)"
      ]
     },
     "execution_count": 14,
     "metadata": {},
     "output_type": "execute_result"
    }
   ],
   "source": [
    "personen = pd.read_csv('../data_clean/Persoon_fixed.csv', sep=',')\n",
    "personen.shape"
   ]
  },
  {
   "cell_type": "code",
   "execution_count": 15,
   "metadata": {},
   "outputs": [
    {
     "data": {
      "text/plain": [
       "(1771670, 67)"
      ]
     },
     "execution_count": 15,
     "metadata": {},
     "output_type": "execute_result"
    }
   ],
   "source": [
    "merged_accounts = merged_accounts.merge(personen, left_on='contact_persoon_id', right_on='persoon_persoon_id', how='inner')\n",
    "merged_accounts.shape"
   ]
  },
  {
   "cell_type": "markdown",
   "metadata": {},
   "source": [
    "#### 2. Alles van Afspraken mergen"
   ]
  },
  {
   "cell_type": "code",
   "execution_count": 42,
   "metadata": {},
   "outputs": [],
   "source": [
    "afspraak_betreft_account_cleaned = pd.read_csv('../data_clean/Afspraak_betreft_account_cleaned_fixed.csv', sep=',')\n",
    "afspraak_account_gelinkt_cleaned = pd.read_csv('../data_clean/Afspraak_account_gelinkt_cleaned_fixed.csv', sep=',')\n",
    "afspraak_betreft_contact_cleaned = pd.read_csv('../data_clean/Afspraak_betreft_contact_cleaned_fixed.csv', sep=',')"
   ]
  },
  {
   "cell_type": "code",
   "execution_count": 43,
   "metadata": {},
   "outputs": [
    {
     "data": {
      "text/plain": [
       "((4876, 7), (2934, 7), (2552, 7))"
      ]
     },
     "execution_count": 43,
     "metadata": {},
     "output_type": "execute_result"
    }
   ],
   "source": [
    "afspraak_betreft_account_cleaned.shape, afspraak_account_gelinkt_cleaned.shape, afspraak_betreft_contact_cleaned.shape"
   ]
  },
  {
   "cell_type": "code",
   "execution_count": 44,
   "metadata": {},
   "outputs": [],
   "source": [
    "afspraak_betreft_account_cleaned = afspraak_betreft_account_cleaned.drop(['afspraak_betreft_account_betreft_id'], axis=1)\n",
    "afspraak_account_gelinkt_cleaned = afspraak_account_gelinkt_cleaned.drop(['afspraak_account_gelinkt_account'], axis=1)\n",
    "afspraak_betreft_contact_cleaned = afspraak_betreft_contact_cleaned.drop(['afspraak_betreft_contactfiche_betreft_id'], axis=1)"
   ]
  },
  {
   "cell_type": "code",
   "execution_count": 45,
   "metadata": {},
   "outputs": [
    {
     "data": {
      "text/plain": [
       "['afspraak_betreft_account_afspraak_id',\n",
       " 'afspraak_betreft_account_thema',\n",
       " 'afspraak_betreft_account_subthema',\n",
       " 'afspraak_betreft_account_onderwerp',\n",
       " 'afspraak_betreft_account_eindtijd',\n",
       " 'afspraak_betreft_account_keyphrases']"
      ]
     },
     "execution_count": 45,
     "metadata": {},
     "output_type": "execute_result"
    }
   ],
   "source": [
    "list(afspraak_betreft_account_cleaned.columns)"
   ]
  },
  {
   "cell_type": "code",
   "execution_count": 46,
   "metadata": {},
   "outputs": [
    {
     "data": {
      "text/plain": [
       "['afspraak_account_gelinkt_afspraak_id',\n",
       " 'afspraak_account_gelinkt_thema',\n",
       " 'afspraak_account_gelinkt_subthema',\n",
       " 'afspraak_account_gelinkt_onderwerp',\n",
       " 'afspraak_account_gelinkt_eindtijd',\n",
       " 'afspraak_account_gelinkt_keyphrases']"
      ]
     },
     "execution_count": 46,
     "metadata": {},
     "output_type": "execute_result"
    }
   ],
   "source": [
    "list(afspraak_account_gelinkt_cleaned.columns)"
   ]
  },
  {
   "cell_type": "code",
   "execution_count": 47,
   "metadata": {},
   "outputs": [
    {
     "data": {
      "text/plain": [
       "['afspraak_betreft_contactfiche_afspraak_id',\n",
       " 'afspraak_betreft_contactfiche_thema',\n",
       " 'afspraak_betreft_contactfiche_subthema',\n",
       " 'afspraak_betreft_contactfiche_onderwerp',\n",
       " 'afspraak_betreft_contactfiche_eindtijd',\n",
       " 'afspraak_betreft_contactfiche_keyphrases']"
      ]
     },
     "execution_count": 47,
     "metadata": {},
     "output_type": "execute_result"
    }
   ],
   "source": [
    "list(afspraak_betreft_contact_cleaned.columns)"
   ]
  },
  {
   "cell_type": "code",
   "execution_count": 48,
   "metadata": {},
   "outputs": [],
   "source": [
    "afspraak_betreft_account_cleaned.columns = ['afspraak_afspraak_id', 'afspraak_thema', 'afspraak_subthema', 'afspraak_onderwerp', 'afspraak_eindtijd', 'afspraak_keyphrases']\n",
    "afspraak_account_gelinkt_cleaned.columns = ['afspraak_afspraak_id', 'afspraak_thema', 'afspraak_subthema', 'afspraak_onderwerp', 'afspraak_eindtijd', 'afspraak_keyphrases']\n",
    "afspraak_betreft_contact_cleaned.columns = ['afspraak_afspraak_id', 'afspraak_thema', 'afspraak_subthema', 'afspraak_onderwerp', 'afspraak_eindtijd', 'afspraak_keyphrases']"
   ]
  },
  {
   "cell_type": "code",
   "execution_count": 49,
   "metadata": {},
   "outputs": [],
   "source": [
    "afspraak_betreft_account_cleaned[\"afspraak_betreft\"] = \"account\"\n",
    "afspraak_account_gelinkt_cleaned[\"afspraak_betreft\"] = \"account\"\n",
    "afspraak_betreft_contact_cleaned[\"afspraak_betreft\"] = \"contact\""
   ]
  },
  {
   "cell_type": "code",
   "execution_count": 50,
   "metadata": {},
   "outputs": [],
   "source": [
    "afspraken_merged = pd.concat([afspraak_betreft_account_cleaned, afspraak_account_gelinkt_cleaned, afspraak_betreft_contact_cleaned])"
   ]
  },
  {
   "cell_type": "code",
   "execution_count": 51,
   "metadata": {},
   "outputs": [
    {
     "data": {
      "text/html": [
       "<div>\n",
       "<style scoped>\n",
       "    .dataframe tbody tr th:only-of-type {\n",
       "        vertical-align: middle;\n",
       "    }\n",
       "\n",
       "    .dataframe tbody tr th {\n",
       "        vertical-align: top;\n",
       "    }\n",
       "\n",
       "    .dataframe thead th {\n",
       "        text-align: right;\n",
       "    }\n",
       "</style>\n",
       "<table border=\"1\" class=\"dataframe\">\n",
       "  <thead>\n",
       "    <tr style=\"text-align: right;\">\n",
       "      <th></th>\n",
       "      <th>afspraak_afspraak_id</th>\n",
       "    </tr>\n",
       "  </thead>\n",
       "  <tbody>\n",
       "    <tr>\n",
       "      <th>0</th>\n",
       "      <td>00082DAA-24BF-ED11-83FF-6045BD8952CE</td>\n",
       "    </tr>\n",
       "    <tr>\n",
       "      <th>1</th>\n",
       "      <td>00109C77-4D09-EB11-8114-001DD8B72B61</td>\n",
       "    </tr>\n",
       "    <tr>\n",
       "      <th>2</th>\n",
       "      <td>0011A5D9-CC9A-EC11-B400-0022488005A7</td>\n",
       "    </tr>\n",
       "    <tr>\n",
       "      <th>3</th>\n",
       "      <td>0016532E-14E3-EC11-BB3C-000D3ABCA38B</td>\n",
       "    </tr>\n",
       "    <tr>\n",
       "      <th>4</th>\n",
       "      <td>003760C1-13B4-EC11-983F-00224883C880</td>\n",
       "    </tr>\n",
       "  </tbody>\n",
       "</table>\n",
       "</div>"
      ],
      "text/plain": [
       "                   afspraak_afspraak_id\n",
       "0  00082DAA-24BF-ED11-83FF-6045BD8952CE\n",
       "1  00109C77-4D09-EB11-8114-001DD8B72B61\n",
       "2  0011A5D9-CC9A-EC11-B400-0022488005A7\n",
       "3  0016532E-14E3-EC11-BB3C-000D3ABCA38B\n",
       "4  003760C1-13B4-EC11-983F-00224883C880"
      ]
     },
     "execution_count": 51,
     "metadata": {},
     "output_type": "execute_result"
    }
   ],
   "source": [
    "afspraken = pd.read_csv('../data_clean/Afspraak_alle_fixed.csv', sep=',')\n",
    "afspraken.columns = ['afspraak_afspraak_id']\n",
    "afspraken.head()"
   ]
  },
  {
   "cell_type": "code",
   "execution_count": 52,
   "metadata": {},
   "outputs": [],
   "source": [
    "afspraken_merged = pd.merge(afspraken, afspraken_merged, on='afspraak_afspraak_id', how='right')\n",
    "afspraken_merged.reset_index(drop=True, inplace=True)"
   ]
  },
  {
   "cell_type": "code",
   "execution_count": 53,
   "metadata": {},
   "outputs": [
    {
     "name": "stdout",
     "output_type": "stream",
     "text": [
      "<class 'pandas.core.frame.DataFrame'>\n",
      "RangeIndex: 10362 entries, 0 to 10361\n",
      "Data columns (total 7 columns):\n",
      " #   Column                Non-Null Count  Dtype \n",
      "---  ------                --------------  ----- \n",
      " 0   afspraak_afspraak_id  10362 non-null  object\n",
      " 1   afspraak_thema        10362 non-null  object\n",
      " 2   afspraak_subthema     10362 non-null  object\n",
      " 3   afspraak_onderwerp    10362 non-null  object\n",
      " 4   afspraak_eindtijd     10362 non-null  object\n",
      " 5   afspraak_keyphrases   10362 non-null  object\n",
      " 6   afspraak_betreft      10362 non-null  object\n",
      "dtypes: object(7)\n",
      "memory usage: 566.8+ KB\n"
     ]
    }
   ],
   "source": [
    "afspraken_merged.info()"
   ]
  },
  {
   "cell_type": "code",
   "execution_count": 54,
   "metadata": {},
   "outputs": [],
   "source": [
    "# RAM vrijmaken\n",
    "try:\n",
    "    del afspraak_betreft_account_cleaned\n",
    "    del afspraak_account_gelinkt_cleaned\n",
    "    del afspraak_betreft_contact_cleaned\n",
    "    del afspraken\n",
    "except:\n",
    "    print(\"Data is niet meer beschikbaar / is al verwijderd\")"
   ]
  },
  {
   "cell_type": "code",
   "execution_count": 55,
   "metadata": {},
   "outputs": [
    {
     "name": "stdout",
     "output_type": "stream",
     "text": [
      "<class 'pandas.core.frame.DataFrame'>\n",
      "Index: 7624 entries, 0 to 10357\n",
      "Data columns (total 7 columns):\n",
      " #   Column                Non-Null Count  Dtype \n",
      "---  ------                --------------  ----- \n",
      " 0   afspraak_afspraak_id  7624 non-null   object\n",
      " 1   afspraak_thema        7624 non-null   object\n",
      " 2   afspraak_subthema     7624 non-null   object\n",
      " 3   afspraak_onderwerp    7624 non-null   object\n",
      " 4   afspraak_eindtijd     7624 non-null   object\n",
      " 5   afspraak_keyphrases   7624 non-null   object\n",
      " 6   afspraak_betreft      7624 non-null   object\n",
      "dtypes: object(7)\n",
      "memory usage: 476.5+ KB\n"
     ]
    }
   ],
   "source": [
    "afspraken_merged = afspraken_merged.drop_duplicates(subset=['afspraak_afspraak_id'], keep='first')\n",
    "afspraken_merged.info()"
   ]
  },
  {
   "cell_type": "code",
   "execution_count": 56,
   "metadata": {},
   "outputs": [
    {
     "data": {
      "text/plain": [
       "(4635, 2)"
      ]
     },
     "execution_count": 56,
     "metadata": {},
     "output_type": "execute_result"
    }
   ],
   "source": [
    "activiteit_vereist_contact = pd.read_csv('../data_clean/Activiteit_vereist_contact_fixed.csv', sep=',')\n",
    "activiteit_vereist_contact.shape"
   ]
  },
  {
   "cell_type": "code",
   "execution_count": 57,
   "metadata": {},
   "outputs": [
    {
     "name": "stdout",
     "output_type": "stream",
     "text": [
      "<class 'pandas.core.frame.DataFrame'>\n",
      "RangeIndex: 7754 entries, 0 to 7753\n",
      "Data columns (total 9 columns):\n",
      " #   Column                                  Non-Null Count  Dtype \n",
      "---  ------                                  --------------  ----- \n",
      " 0   afspraak_afspraak_id                    7754 non-null   object\n",
      " 1   afspraak_thema                          7754 non-null   object\n",
      " 2   afspraak_subthema                       7754 non-null   object\n",
      " 3   afspraak_onderwerp                      7754 non-null   object\n",
      " 4   afspraak_eindtijd                       7754 non-null   object\n",
      " 5   afspraak_keyphrases                     7754 non-null   object\n",
      " 6   afspraak_betreft                        7754 non-null   object\n",
      " 7   activiteitvereistcontact_activityid_id  4545 non-null   object\n",
      " 8   activiteitvereistcontact_reqattendee    4545 non-null   object\n",
      "dtypes: object(9)\n",
      "memory usage: 545.3+ KB\n"
     ]
    }
   ],
   "source": [
    "afspraken_merged = afspraken_merged.merge(activiteit_vereist_contact, left_on='afspraak_afspraak_id', right_on='activiteitvereistcontact_activityid_id', how='left')\n",
    "afspraken_merged.info()"
   ]
  },
  {
   "cell_type": "markdown",
   "metadata": {},
   "source": [
    "#### 3. Alles van Campagnes mergen"
   ]
  },
  {
   "cell_type": "markdown",
   "metadata": {},
   "source": [
    "##### Campagne mergen met Sessie"
   ]
  },
  {
   "cell_type": "code",
   "execution_count": 59,
   "metadata": {},
   "outputs": [
    {
     "data": {
      "text/plain": [
       "(168, 11)"
      ]
     },
     "execution_count": 59,
     "metadata": {},
     "output_type": "execute_result"
    }
   ],
   "source": [
    "campagne = pd.read_csv('../data_clean/Campagne_fixed.csv', sep=',')\n",
    "campagne.shape"
   ]
  },
  {
   "cell_type": "code",
   "execution_count": 58,
   "metadata": {},
   "outputs": [
    {
     "data": {
      "text/plain": [
       "(350, 8)"
      ]
     },
     "execution_count": 58,
     "metadata": {},
     "output_type": "execute_result"
    }
   ],
   "source": [
    "sessie = pd.read_csv('../data_clean/Sessie_fixed.csv', sep=',')\n",
    "sessie.shape"
   ]
  },
  {
   "cell_type": "code",
   "execution_count": 60,
   "metadata": {},
   "outputs": [
    {
     "data": {
      "text/plain": [
       "(350, 19)"
      ]
     },
     "execution_count": 60,
     "metadata": {},
     "output_type": "execute_result"
    }
   ],
   "source": [
    "campagnes_merged = campagne.merge(sessie, left_on='campagne_campagne_id', right_on='sessie_campagne', how='inner')\n",
    "campagnes_merged.shape"
   ]
  },
  {
   "cell_type": "markdown",
   "metadata": {},
   "source": [
    "##### Campagnes mergen met Sessie inschrijving"
   ]
  },
  {
   "cell_type": "code",
   "execution_count": 61,
   "metadata": {},
   "outputs": [
    {
     "data": {
      "text/plain": [
       "(10159, 3)"
      ]
     },
     "execution_count": 61,
     "metadata": {},
     "output_type": "execute_result"
    }
   ],
   "source": [
    "sessie_inschrijving = pd.read_csv('../data_clean/Sessie_inschrijving_fixed.csv', sep=',')\n",
    "sessie_inschrijving.shape"
   ]
  },
  {
   "cell_type": "code",
   "execution_count": 62,
   "metadata": {},
   "outputs": [
    {
     "data": {
      "text/plain": [
       "(10159, 22)"
      ]
     },
     "execution_count": 62,
     "metadata": {},
     "output_type": "execute_result"
    }
   ],
   "source": [
    "campagnes_merged = campagnes_merged.merge(sessie_inschrijving, left_on='sessie_sessie_id', right_on='sessieinschrijving_sessie', how='inner')\n",
    "campagnes_merged.shape"
   ]
  },
  {
   "cell_type": "markdown",
   "metadata": {},
   "source": [
    "#### 4. Inschrijving omzetten naar 1 kolom, de target feature"
   ]
  },
  {
   "cell_type": "markdown",
   "metadata": {},
   "source": [
    "#### 5. Alles mergen tot 1 dataframe"
   ]
  },
  {
   "cell_type": "markdown",
   "metadata": {},
   "source": [
    "### Data cleaning / One hot encoding"
   ]
  },
  {
   "cell_type": "markdown",
   "metadata": {},
   "source": [
    "##### Op voorhand onnodige kolommen verwijderen voor minder geheugengebruik"
   ]
  },
  {
   "cell_type": "code",
   "execution_count": 29,
   "metadata": {},
   "outputs": [
    {
     "data": {
      "text/plain": [
       "(0, 66)"
      ]
     },
     "execution_count": 29,
     "metadata": {},
     "output_type": "execute_result"
    }
   ],
   "source": [
    "onnodige_kolommen = [\n",
    " 'account_adres_postcode',\n",
    " 'account_industriezone_naam_',\n",
    " 'account_oprichtingsdatum',\n",
    " 'account_voka_nr_',\n",
    " 'account_activiteitscode_account',\n",
    " 'account_activiteitscode_activiteitscode',\n",
    " 'account_activiteitscode_inf_account_inf_activiteitscodeid',\n",
    " 'activiteitscode_activiteitscode_id',\n",
    " 'afspraak_betreft_account_afspraak_id',\n",
    " 'afspraak_betreft_account_onderwerp',\n",
    " 'afspraak_betreft_account_betreft_id',\n",
    " 'afspraak_betreft_account_eindtijd',\n",
    " 'afspraak_betreft_account_keyphrases',\n",
    " 'afspraak_account_gelinkt_afspraak_id',\n",
    " 'afspraak_account_gelinkt_onderwerp',\n",
    " 'afspraak_account_gelinkt_eindtijd',\n",
    " 'afspraak_account_gelinkt_account',\n",
    " 'afspraak_account_gelinkt_keyphrases',\n",
    " 'contact_account',\n",
    " 'contact_functietitel',\n",
    " 'contact_persoon_id',\n",
    " 'afspraak_betreft_contactfiche_afspraak_id',\n",
    " 'afspraak_betreft_contactfiche_onderwerp',\n",
    " 'afspraak_betreft_contactfiche_betreft_id',\n",
    " 'afspraak_betreft_contactfiche_eindtijd',\n",
    " 'afspraak_betreft_contactfiche_keyphrases',\n",
    " 'persoon_persoon_id',\n",
    " 'persoon_persoonsnr_', \n",
    " 'campagne_campagne_id',\n",
    " 'campagne_campagne_nr',\n",
    " 'campagne_einddatum',\n",
    " 'campagne_naam',\n",
    " 'campagne_naam_in_email',\n",
    " 'campagne_startdatum',\n",
    " 'campagne_url_voka_be', \n",
    " 'sessie_campagne',\n",
    " 'sessie_eind_datum_tijd',\n",
    " 'sessie_sessie_id',\n",
    " 'sessie_sessie_nr_',\n",
    " 'sessie_start_datum_tijd',\n",
    "]"
   ]
  }
 ],
 "metadata": {
  "kernelspec": {
   "display_name": "Python 3",
   "language": "python",
   "name": "python3"
  },
  "language_info": {
   "codemirror_mode": {
    "name": "ipython",
    "version": 3
   },
   "file_extension": ".py",
   "mimetype": "text/x-python",
   "name": "python",
   "nbconvert_exporter": "python",
   "pygments_lexer": "ipython3",
   "version": "3.11.6"
  }
 },
 "nbformat": 4,
 "nbformat_minor": 2
}
