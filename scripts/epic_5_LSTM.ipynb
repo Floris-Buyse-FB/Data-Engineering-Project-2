{
 "cells": [
  {
   "cell_type": "code",
   "execution_count": 2,
   "metadata": {},
   "outputs": [],
   "source": [
    "import tensorflow as tf\n",
    "from tensorflow.keras.preprocessing.text import Tokenizer\n",
    "from tensorflow.keras.preprocessing.sequence import pad_sequences\n",
    "from tensorflow.keras.layers import Embedding, LSTM, Dense\n",
    "from epic_5_utils import *"
   ]
  },
  {
   "cell_type": "code",
   "execution_count": 3,
   "metadata": {},
   "outputs": [
    {
     "data": {
      "text/plain": [
       "(68699, 5)"
      ]
     },
     "execution_count": 3,
     "metadata": {},
     "output_type": "execute_result"
    }
   ],
   "source": [
    "conn = connect_db(local=False)\n",
    "df = get_final_df(conn)"
   ]
  },
  {
   "cell_type": "code",
   "execution_count": 5,
   "metadata": {},
   "outputs": [],
   "source": [
    "df.drop(['fullDate'], axis=1, inplace=True)\n",
    "df.drop_duplicates(inplace=True)"
   ]
  },
  {
   "cell_type": "code",
   "execution_count": 6,
   "metadata": {},
   "outputs": [
    {
     "data": {
      "text/html": [
       "<div>\n",
       "<style scoped>\n",
       "    .dataframe tbody tr th:only-of-type {\n",
       "        vertical-align: middle;\n",
       "    }\n",
       "\n",
       "    .dataframe tbody tr th {\n",
       "        vertical-align: top;\n",
       "    }\n",
       "\n",
       "    .dataframe thead th {\n",
       "        text-align: right;\n",
       "    }\n",
       "</style>\n",
       "<table border=\"1\" class=\"dataframe\">\n",
       "  <thead>\n",
       "    <tr style=\"text-align: right;\">\n",
       "      <th></th>\n",
       "      <th>contactID</th>\n",
       "      <th>accountID</th>\n",
       "      <th>keyphrases</th>\n",
       "      <th>marketing_pressure</th>\n",
       "    </tr>\n",
       "  </thead>\n",
       "  <tbody>\n",
       "    <tr>\n",
       "      <th>0</th>\n",
       "      <td>0000FEA0-AB47-E411-9EE6-005056B06EC4</td>\n",
       "      <td>169138A9-BF68-E111-B43A-00505680000A</td>\n",
       "      <td>aanbod, andennes, architect, auto, automatisch...</td>\n",
       "      <td>-3</td>\n",
       "    </tr>\n",
       "    <tr>\n",
       "      <th>1</th>\n",
       "      <td>00029915-2042-E611-80D6-005056B06EC4</td>\n",
       "      <td>01029915-2042-E611-80D6-005056B06EC4</td>\n",
       "      <td>gent, sleidinge, zaakvoerder</td>\n",
       "      <td>-3</td>\n",
       "    </tr>\n",
       "    <tr>\n",
       "      <th>2</th>\n",
       "      <td>0002DD39-E66E-E111-B43A-00505680000A</td>\n",
       "      <td>33A82B0F-C968-E111-B43A-00505680000A</td>\n",
       "      <td>bestuurder, gedelegeerd, leiestreekmeetjesland...</td>\n",
       "      <td>-3</td>\n",
       "    </tr>\n",
       "    <tr>\n",
       "      <th>3</th>\n",
       "      <td>0003747A-026D-EB11-811C-001DD8B72B62</td>\n",
       "      <td>023B965B-C268-E111-B43A-00505680000A</td>\n",
       "      <td>aanwez, afsprak, arn, band, bedrijf, besliss, ...</td>\n",
       "      <td>2</td>\n",
       "    </tr>\n",
       "    <tr>\n",
       "      <th>4</th>\n",
       "      <td>0006FCCF-6F1A-EA11-8109-001DD8B72B61</td>\n",
       "      <td>0106FCCF-6F1A-EA11-8109-001DD8B72B61</td>\n",
       "      <td>sintniklaas, waasland, zaakvoerder</td>\n",
       "      <td>-4</td>\n",
       "    </tr>\n",
       "  </tbody>\n",
       "</table>\n",
       "</div>"
      ],
      "text/plain": [
       "                              contactID                             accountID  \\\n",
       "0  0000FEA0-AB47-E411-9EE6-005056B06EC4  169138A9-BF68-E111-B43A-00505680000A   \n",
       "1  00029915-2042-E611-80D6-005056B06EC4  01029915-2042-E611-80D6-005056B06EC4   \n",
       "2  0002DD39-E66E-E111-B43A-00505680000A  33A82B0F-C968-E111-B43A-00505680000A   \n",
       "3  0003747A-026D-EB11-811C-001DD8B72B62  023B965B-C268-E111-B43A-00505680000A   \n",
       "4  0006FCCF-6F1A-EA11-8109-001DD8B72B61  0106FCCF-6F1A-EA11-8109-001DD8B72B61   \n",
       "\n",
       "                                          keyphrases  marketing_pressure  \n",
       "0  aanbod, andennes, architect, auto, automatisch...                  -3  \n",
       "1                       gent, sleidinge, zaakvoerder                  -3  \n",
       "2  bestuurder, gedelegeerd, leiestreekmeetjesland...                  -3  \n",
       "3  aanwez, afsprak, arn, band, bedrijf, besliss, ...                   2  \n",
       "4                 sintniklaas, waasland, zaakvoerder                  -4  "
      ]
     },
     "execution_count": 6,
     "metadata": {},
     "output_type": "execute_result"
    }
   ],
   "source": [
    "df.head()"
   ]
  },
  {
   "cell_type": "code",
   "execution_count": 7,
   "metadata": {},
   "outputs": [
    {
     "data": {
      "text/plain": [
       "(68699, 4)"
      ]
     },
     "execution_count": 7,
     "metadata": {},
     "output_type": "execute_result"
    }
   ],
   "source": [
    "df.shape"
   ]
  },
  {
   "cell_type": "code",
   "execution_count": null,
   "metadata": {},
   "outputs": [],
   "source": [
    "keyphrases = df['keyphrases'].tolist()\n",
    "\n",
    "# Tokenize the data\n",
    "tokenizer = Tokenizer()\n",
    "tokenizer.fit_on_texts(keyphrases)\n",
    "\n",
    "# Convert the text to sequences\n",
    "sequences = tokenizer.texts_to_sequences(keyphrases)\n",
    "\n",
    "# Pad the sequences\n",
    "padded_sequences = pad_sequences(sequences, maxlen=100)\n",
    "\n",
    "# Create the embedding layer\n",
    "embedding_dim = 128\n",
    "embedding_layer = Embedding(len(tokenizer.word_index), embedding_dim)\n",
    "\n",
    "# Create the LSTM layer\n",
    "lstm_units = 128\n",
    "lstm_layer = LSTM(lstm_units)\n",
    "\n",
    "# Create the dense layer\n",
    "dense_units = 64\n",
    "dense_layer = Dense(dense_units, activation='relu')\n",
    "\n",
    "# Create the output layer\n",
    "output_layer = Dense(len(tokenizer.word_index), activation='softmax')\n",
    "\n",
    "# Compile the model\n",
    "model = tf.keras.Sequential([embedding_layer, lstm_layer, dense_layer, output_layer])\n",
    "model.compile(loss=tf.nn.sparse_softmax_cross_entropy_with_logits, optimizer='adam', metrics=['accuracy'])\n",
    "\n",
    "# Train the model\n",
    "model.fit(padded_sequences, padded_sequences, epochs=10)\n",
    "\n",
    "# Save the model\n",
    "model.save('recommendation_model.h5')"
   ]
  },
  {
   "cell_type": "code",
   "execution_count": null,
   "metadata": {},
   "outputs": [],
   "source": [
    "new_item_keyphrases = [\"networking\", \"ceo\", \"medewerker\", \"nieuwjaar\", \"borrel\"]\n",
    "\n",
    "# Convert the keyphrases to sequences\n",
    "new_item_sequences = tokenizer.texts_to_sequences([new_item_keyphrases])\n",
    "\n",
    "# Pad the sequences\n",
    "new_item_padded_sequences = pad_sequences(new_item_sequences, maxlen=100)\n",
    "\n",
    "# Predict the recommended items\n",
    "recommendations = model.predict(new_item_padded_sequences)\n",
    "\n",
    "# Sort the recommendations by their probability\n",
    "sorted_recommendations = sorted(zip(recommendations, tokenizer.word_index), key=lambda x: x[0], reverse=True)\n",
    "\n",
    "# Print the recommended items\n",
    "for item, probability in sorted_recommendations[:10]:\n",
    "    print(f\"{item}: {probability:.3f}\")\n"
   ]
  }
 ],
 "metadata": {
  "kernelspec": {
   "display_name": ".venv",
   "language": "python",
   "name": "python3"
  },
  "language_info": {
   "codemirror_mode": {
    "name": "ipython",
    "version": 3
   },
   "file_extension": ".py",
   "mimetype": "text/x-python",
   "name": "python",
   "nbconvert_exporter": "python",
   "pygments_lexer": "ipython3",
   "version": "3.11.3"
  }
 },
 "nbformat": 4,
 "nbformat_minor": 2
}
