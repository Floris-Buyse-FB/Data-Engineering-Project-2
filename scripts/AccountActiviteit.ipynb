{
 "cells": [
  {
   "cell_type": "code",
   "execution_count": 25,
   "metadata": {},
   "outputs": [
    {
     "data": {
      "text/html": [
       "<div>\n",
       "<style scoped>\n",
       "    .dataframe tbody tr th:only-of-type {\n",
       "        vertical-align: middle;\n",
       "    }\n",
       "\n",
       "    .dataframe tbody tr th {\n",
       "        vertical-align: top;\n",
       "    }\n",
       "\n",
       "    .dataframe thead th {\n",
       "        text-align: right;\n",
       "    }\n",
       "</style>\n",
       "<table border=\"1\" class=\"dataframe\">\n",
       "  <thead>\n",
       "    <tr style=\"text-align: right;\">\n",
       "      <th></th>\n",
       "      <th>crm_Account_ActiviteitsCode_Account</th>\n",
       "      <th>crm_Account_ActiviteitsCode_Activiteitscode</th>\n",
       "      <th>crm_Account_ActiviteitsCode_inf_account_inf_activiteitscodeId</th>\n",
       "    </tr>\n",
       "  </thead>\n",
       "  <tbody>\n",
       "    <tr>\n",
       "      <th>0</th>\n",
       "      <td>NaN</td>\n",
       "      <td>NaN</td>\n",
       "      <td>NaN</td>\n",
       "    </tr>\n",
       "    <tr>\n",
       "      <th>1</th>\n",
       "      <td>NaN</td>\n",
       "      <td>NaN</td>\n",
       "      <td>NaN</td>\n",
       "    </tr>\n",
       "    <tr>\n",
       "      <th>2</th>\n",
       "      <td>NaN</td>\n",
       "      <td>NaN</td>\n",
       "      <td>NaN</td>\n",
       "    </tr>\n",
       "    <tr>\n",
       "      <th>3</th>\n",
       "      <td>NaN</td>\n",
       "      <td>NaN</td>\n",
       "      <td>NaN</td>\n",
       "    </tr>\n",
       "    <tr>\n",
       "      <th>4</th>\n",
       "      <td>NaN</td>\n",
       "      <td>NaN</td>\n",
       "      <td>NaN</td>\n",
       "    </tr>\n",
       "  </tbody>\n",
       "</table>\n",
       "</div>"
      ],
      "text/plain": [
       "  crm_Account_ActiviteitsCode_Account  \\\n",
       "0                                 NaN   \n",
       "1                                 NaN   \n",
       "2                                 NaN   \n",
       "3                                 NaN   \n",
       "4                                 NaN   \n",
       "\n",
       "  crm_Account_ActiviteitsCode_Activiteitscode  \\\n",
       "0                                         NaN   \n",
       "1                                         NaN   \n",
       "2                                         NaN   \n",
       "3                                         NaN   \n",
       "4                                         NaN   \n",
       "\n",
       "  crm_Account_ActiviteitsCode_inf_account_inf_activiteitscodeId  \n",
       "0                                                NaN             \n",
       "1                                                NaN             \n",
       "2                                                NaN             \n",
       "3                                                NaN             \n",
       "4                                                NaN             "
      ]
     },
     "execution_count": 25,
     "metadata": {},
     "output_type": "execute_result"
    }
   ],
   "source": [
    "import pandas as pd\n",
    "data = pd.read_csv('../data/Account activiteitscode.csv', sep=\",\")\n",
    "data.head()\n",
    "\n",
    "data.dropna(inplace=True) "
   ]
  },
  {
   "cell_type": "code",
   "execution_count": 26,
   "metadata": {},
   "outputs": [],
   "source": [
    "data.dropna(inplace=True) "
   ]
  },
  {
   "cell_type": "code",
   "execution_count": 27,
   "metadata": {},
   "outputs": [
    {
     "data": {
      "text/html": [
       "<div>\n",
       "<style scoped>\n",
       "    .dataframe tbody tr th:only-of-type {\n",
       "        vertical-align: middle;\n",
       "    }\n",
       "\n",
       "    .dataframe tbody tr th {\n",
       "        vertical-align: top;\n",
       "    }\n",
       "\n",
       "    .dataframe thead th {\n",
       "        text-align: right;\n",
       "    }\n",
       "</style>\n",
       "<table border=\"1\" class=\"dataframe\">\n",
       "  <thead>\n",
       "    <tr style=\"text-align: right;\">\n",
       "      <th></th>\n",
       "      <th>crm_Account_ActiviteitsCode_Account</th>\n",
       "      <th>crm_Account_ActiviteitsCode_Activiteitscode</th>\n",
       "      <th>crm_Account_ActiviteitsCode_inf_account_inf_activiteitscodeId</th>\n",
       "    </tr>\n",
       "  </thead>\n",
       "  <tbody>\n",
       "    <tr>\n",
       "      <th>23</th>\n",
       "      <td>00002DAC-0A69-E111-B43A-00505680000A</td>\n",
       "      <td>20787771-1A62-E111-8F14-00505680000A</td>\n",
       "      <td>2D780AA3-856B-E111-B98D-18A905732A15</td>\n",
       "    </tr>\n",
       "    <tr>\n",
       "      <th>24</th>\n",
       "      <td>00068436-F919-E211-9DAA-005056B06EB4</td>\n",
       "      <td>D4FF9BBC-FBC1-E211-A980-005056B06EB4</td>\n",
       "      <td>490DB440-5FC7-E611-80E3-001DD8B72B62</td>\n",
       "    </tr>\n",
       "    <tr>\n",
       "      <th>25</th>\n",
       "      <td>0009A6E6-2369-E111-B43A-00505680000A</td>\n",
       "      <td>12787771-1A62-E111-8F14-00505680000A</td>\n",
       "      <td>37301718-F9C6-EC11-A7B6-000D3A497120</td>\n",
       "    </tr>\n",
       "    <tr>\n",
       "      <th>26</th>\n",
       "      <td>000D39CF-BE68-E111-B43A-00505680000A</td>\n",
       "      <td>1A787771-1A62-E111-8F14-00505680000A</td>\n",
       "      <td>791676C0-816B-E111-B98D-18A905732A15</td>\n",
       "    </tr>\n",
       "    <tr>\n",
       "      <th>27</th>\n",
       "      <td>0016CAE8-BD68-E111-B43A-00505680000A</td>\n",
       "      <td>20787771-1A62-E111-8F14-00505680000A</td>\n",
       "      <td>DB3A9AFC-816B-E111-B98D-18A905732A15</td>\n",
       "    </tr>\n",
       "  </tbody>\n",
       "</table>\n",
       "</div>"
      ],
      "text/plain": [
       "     crm_Account_ActiviteitsCode_Account  \\\n",
       "23  00002DAC-0A69-E111-B43A-00505680000A   \n",
       "24  00068436-F919-E211-9DAA-005056B06EB4   \n",
       "25  0009A6E6-2369-E111-B43A-00505680000A   \n",
       "26  000D39CF-BE68-E111-B43A-00505680000A   \n",
       "27  0016CAE8-BD68-E111-B43A-00505680000A   \n",
       "\n",
       "   crm_Account_ActiviteitsCode_Activiteitscode  \\\n",
       "23        20787771-1A62-E111-8F14-00505680000A   \n",
       "24        D4FF9BBC-FBC1-E211-A980-005056B06EB4   \n",
       "25        12787771-1A62-E111-8F14-00505680000A   \n",
       "26        1A787771-1A62-E111-8F14-00505680000A   \n",
       "27        20787771-1A62-E111-8F14-00505680000A   \n",
       "\n",
       "   crm_Account_ActiviteitsCode_inf_account_inf_activiteitscodeId  \n",
       "23               2D780AA3-856B-E111-B98D-18A905732A15             \n",
       "24               490DB440-5FC7-E611-80E3-001DD8B72B62             \n",
       "25               37301718-F9C6-EC11-A7B6-000D3A497120             \n",
       "26               791676C0-816B-E111-B98D-18A905732A15             \n",
       "27               DB3A9AFC-816B-E111-B98D-18A905732A15             "
      ]
     },
     "execution_count": 27,
     "metadata": {},
     "output_type": "execute_result"
    }
   ],
   "source": [
    "data.head()"
   ]
  },
  {
   "cell_type": "code",
   "execution_count": 28,
   "metadata": {},
   "outputs": [
    {
     "name": "stdout",
     "output_type": "stream",
     "text": [
      "<class 'pandas.core.frame.DataFrame'>\n",
      "Int64Index: 14673 entries, 23 to 14695\n",
      "Data columns (total 3 columns):\n",
      " #   Column                                                         Non-Null Count  Dtype \n",
      "---  ------                                                         --------------  ----- \n",
      " 0   crm_Account_ActiviteitsCode_Account                            14673 non-null  object\n",
      " 1   crm_Account_ActiviteitsCode_Activiteitscode                    14673 non-null  object\n",
      " 2   crm_Account_ActiviteitsCode_inf_account_inf_activiteitscodeId  14673 non-null  object\n",
      "dtypes: object(3)\n",
      "memory usage: 458.5+ KB\n"
     ]
    }
   ],
   "source": [
    "data.info()"
   ]
  }
 ],
 "metadata": {
  "kernelspec": {
   "display_name": "Python 3",
   "language": "python",
   "name": "python3"
  },
  "language_info": {
   "codemirror_mode": {
    "name": "ipython",
    "version": 3
   },
   "file_extension": ".py",
   "mimetype": "text/x-python",
   "name": "python",
   "nbconvert_exporter": "python",
   "pygments_lexer": "ipython3",
   "version": "3.11.2"
  }
 },
 "nbformat": 4,
 "nbformat_minor": 2
}
