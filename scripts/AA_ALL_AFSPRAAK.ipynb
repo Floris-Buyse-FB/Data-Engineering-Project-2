{
 "cells": [
  {
   "cell_type": "code",
   "execution_count": 11,
   "metadata": {},
   "outputs": [],
   "source": [
    "import pandas as pd"
   ]
  },
  {
   "cell_type": "markdown",
   "metadata": {},
   "source": [
    "### Afspraak alle.csv"
   ]
  },
  {
   "cell_type": "code",
   "execution_count": 72,
   "metadata": {},
   "outputs": [
    {
     "data": {
      "text/html": [
       "<div>\n",
       "<style scoped>\n",
       "    .dataframe tbody tr th:only-of-type {\n",
       "        vertical-align: middle;\n",
       "    }\n",
       "\n",
       "    .dataframe tbody tr th {\n",
       "        vertical-align: top;\n",
       "    }\n",
       "\n",
       "    .dataframe thead th {\n",
       "        text-align: right;\n",
       "    }\n",
       "</style>\n",
       "<table border=\"1\" class=\"dataframe\">\n",
       "  <thead>\n",
       "    <tr style=\"text-align: right;\">\n",
       "      <th></th>\n",
       "      <th>crm_Afspraak_ALLE_Afspraak</th>\n",
       "    </tr>\n",
       "  </thead>\n",
       "  <tbody>\n",
       "    <tr>\n",
       "      <th>0</th>\n",
       "      <td>00082DAA-24BF-ED11-83FF-6045BD8952CE</td>\n",
       "    </tr>\n",
       "    <tr>\n",
       "      <th>1</th>\n",
       "      <td>00109C77-4D09-EB11-8114-001DD8B72B61</td>\n",
       "    </tr>\n",
       "    <tr>\n",
       "      <th>2</th>\n",
       "      <td>0011A5D9-CC9A-EC11-B400-0022488005A7</td>\n",
       "    </tr>\n",
       "    <tr>\n",
       "      <th>3</th>\n",
       "      <td>0016532E-14E3-EC11-BB3C-000D3ABCA38B</td>\n",
       "    </tr>\n",
       "    <tr>\n",
       "      <th>4</th>\n",
       "      <td>003760C1-13B4-EC11-983F-00224883C880</td>\n",
       "    </tr>\n",
       "  </tbody>\n",
       "</table>\n",
       "</div>"
      ],
      "text/plain": [
       "             crm_Afspraak_ALLE_Afspraak\n",
       "0  00082DAA-24BF-ED11-83FF-6045BD8952CE\n",
       "1  00109C77-4D09-EB11-8114-001DD8B72B61\n",
       "2  0011A5D9-CC9A-EC11-B400-0022488005A7\n",
       "3  0016532E-14E3-EC11-BB3C-000D3ABCA38B\n",
       "4  003760C1-13B4-EC11-983F-00224883C880"
      ]
     },
     "execution_count": 72,
     "metadata": {},
     "output_type": "execute_result"
    }
   ],
   "source": [
    "data_afspraak_alle = pd.read_csv('../data/Afspraak alle.csv', sep=',')\n",
    "data_afspraak_alle.drop_duplicates(inplace=True)\n",
    "data_afspraak_alle.head()"
   ]
  },
  {
   "cell_type": "markdown",
   "metadata": {},
   "source": [
    "### Afspraak betreft account_cleaned.csv"
   ]
  },
  {
   "cell_type": "code",
   "execution_count": 73,
   "metadata": {},
   "outputs": [
    {
     "data": {
      "text/html": [
       "<div>\n",
       "<style scoped>\n",
       "    .dataframe tbody tr th:only-of-type {\n",
       "        vertical-align: middle;\n",
       "    }\n",
       "\n",
       "    .dataframe tbody tr th {\n",
       "        vertical-align: top;\n",
       "    }\n",
       "\n",
       "    .dataframe thead th {\n",
       "        text-align: right;\n",
       "    }\n",
       "</style>\n",
       "<table border=\"1\" class=\"dataframe\">\n",
       "  <thead>\n",
       "    <tr style=\"text-align: right;\">\n",
       "      <th></th>\n",
       "      <th>betreft_afspraak</th>\n",
       "      <th>betreft_thema</th>\n",
       "      <th>betreft_subthema</th>\n",
       "      <th>betreft_onderwerp</th>\n",
       "      <th>betreft_id</th>\n",
       "      <th>betreft_eindtijd</th>\n",
       "      <th>betreft_keyphrases</th>\n",
       "    </tr>\n",
       "  </thead>\n",
       "  <tbody>\n",
       "    <tr>\n",
       "      <th>0</th>\n",
       "      <td>00082DAA-24BF-ED11-83FF-6045BD8952CE</td>\n",
       "      <td>Lidmaatschap</td>\n",
       "      <td>Retentie (Lidmaatschap)</td>\n",
       "      <td>ov-ledenbezoek-2023</td>\n",
       "      <td>33F751E0-D26B-E111-B43A-00505680000A</td>\n",
       "      <td>18-4-2023</td>\n",
       "      <td>[NAME] [NAME] [NAME] , grootste visverwerkende...</td>\n",
       "    </tr>\n",
       "    <tr>\n",
       "      <th>2</th>\n",
       "      <td>00109C77-4D09-EB11-8114-001DD8B72B61</td>\n",
       "      <td>Lidmaatschap</td>\n",
       "      <td>Retentie (Lidmaatschap)</td>\n",
       "      <td>ov-ledenbezoek-2020</td>\n",
       "      <td>B9B048FF-A868-E111-B43A-00505680000A</td>\n",
       "      <td>16-10-2020</td>\n",
       "      <td>china en india , india en china , verschillend...</td>\n",
       "    </tr>\n",
       "    <tr>\n",
       "      <th>3</th>\n",
       "      <td>0011A5D9-CC9A-EC11-B400-0022488005A7</td>\n",
       "      <td>Financieel</td>\n",
       "      <td>Financiering</td>\n",
       "      <td>OV-Kennismaking inzake funding</td>\n",
       "      <td>C9D63042-CC9A-EC11-B400-0022488005A7</td>\n",
       "      <td>28-2-2022</td>\n",
       "      <td>interesse , ervaringen , ondernemers , investe...</td>\n",
       "    </tr>\n",
       "    <tr>\n",
       "      <th>4</th>\n",
       "      <td>0016532E-14E3-EC11-BB3C-000D3ABCA38B</td>\n",
       "      <td>Lidmaatschap</td>\n",
       "      <td>Retentie (Lidmaatschap)</td>\n",
       "      <td>ov-ledenbezoek-2022</td>\n",
       "      <td>3E4CE37B-D069-E111-B43A-00505680000A</td>\n",
       "      <td>24-6-2022</td>\n",
       "      <td>verwerkende fabriek , nodeloze oproepingen , g...</td>\n",
       "    </tr>\n",
       "    <tr>\n",
       "      <th>5</th>\n",
       "      <td>003760C1-13B4-EC11-983F-00224883C880</td>\n",
       "      <td>Lidmaatschap</td>\n",
       "      <td>Retentie (Lidmaatschap)</td>\n",
       "      <td>OV Ledengesprek 2022</td>\n",
       "      <td>622D5DC9-416B-E111-B43A-00505680000A</td>\n",
       "      <td>21-4-2022</td>\n",
       "      <td>aal arbeider vti waregem , [NAME] [NAME] [NAME...</td>\n",
       "    </tr>\n",
       "  </tbody>\n",
       "</table>\n",
       "</div>"
      ],
      "text/plain": [
       "                       betreft_afspraak betreft_thema   \n",
       "0  00082DAA-24BF-ED11-83FF-6045BD8952CE  Lidmaatschap  \\\n",
       "2  00109C77-4D09-EB11-8114-001DD8B72B61  Lidmaatschap   \n",
       "3  0011A5D9-CC9A-EC11-B400-0022488005A7    Financieel   \n",
       "4  0016532E-14E3-EC11-BB3C-000D3ABCA38B  Lidmaatschap   \n",
       "5  003760C1-13B4-EC11-983F-00224883C880  Lidmaatschap   \n",
       "\n",
       "          betreft_subthema               betreft_onderwerp   \n",
       "0  Retentie (Lidmaatschap)             ov-ledenbezoek-2023  \\\n",
       "2  Retentie (Lidmaatschap)             ov-ledenbezoek-2020   \n",
       "3             Financiering  OV-Kennismaking inzake funding   \n",
       "4  Retentie (Lidmaatschap)             ov-ledenbezoek-2022   \n",
       "5  Retentie (Lidmaatschap)            OV Ledengesprek 2022   \n",
       "\n",
       "                             betreft_id betreft_eindtijd   \n",
       "0  33F751E0-D26B-E111-B43A-00505680000A        18-4-2023  \\\n",
       "2  B9B048FF-A868-E111-B43A-00505680000A       16-10-2020   \n",
       "3  C9D63042-CC9A-EC11-B400-0022488005A7        28-2-2022   \n",
       "4  3E4CE37B-D069-E111-B43A-00505680000A        24-6-2022   \n",
       "5  622D5DC9-416B-E111-B43A-00505680000A        21-4-2022   \n",
       "\n",
       "                                  betreft_keyphrases  \n",
       "0  [NAME] [NAME] [NAME] , grootste visverwerkende...  \n",
       "2  china en india , india en china , verschillend...  \n",
       "3  interesse , ervaringen , ondernemers , investe...  \n",
       "4  verwerkende fabriek , nodeloze oproepingen , g...  \n",
       "5  aal arbeider vti waregem , [NAME] [NAME] [NAME...  "
      ]
     },
     "execution_count": 73,
     "metadata": {},
     "output_type": "execute_result"
    }
   ],
   "source": [
    "data_afspraak_account_cleaned = pd.read_csv('../data/Afspraak betreft account_cleaned.csv', sep=',')\n",
    "data_afspraak_account_cleaned.rename(\n",
    "    columns={\n",
    "             'crm_Afspraak_BETREFT_ACCOUNT_Afspraak': 'betreft_afspraak',\n",
    "             'crm_Afspraak_BETREFT_ACCOUNT_Thema': 'betreft_thema',\n",
    "             'crm_Afspraak_BETREFT_ACCOUNT_Subthema': 'betreft_subthema',\n",
    "             'crm_Afspraak_BETREFT_ACCOUNT_Onderwerp': 'betreft_onderwerp',\n",
    "             'crm_Afspraak_BETREFT_ACCOUNT_Betreft_id': 'betreft_id',\n",
    "             'crm_Afspraak_BETREFT_ACCOUNT_Eindtijd': 'betreft_eindtijd',\n",
    "             'crm_Afspraak_BETREFT_ACCOUNT_KeyPhrases': 'betreft_keyphrases',\n",
    "             }, inplace=True)\n",
    "data_afspraak_account_cleaned.drop_duplicates(inplace=True)\n",
    "data_afspraak_account_cleaned.head()"
   ]
  },
  {
   "cell_type": "code",
   "execution_count": 74,
   "metadata": {},
   "outputs": [
    {
     "name": "stdout",
     "output_type": "stream",
     "text": [
      "<class 'pandas.core.frame.DataFrame'>\n",
      "Index: 8435 entries, 0 to 8594\n",
      "Data columns (total 7 columns):\n",
      " #   Column              Non-Null Count  Dtype \n",
      "---  ------              --------------  ----- \n",
      " 0   betreft_afspraak    8435 non-null   object\n",
      " 1   betreft_thema       8432 non-null   object\n",
      " 2   betreft_subthema    8432 non-null   object\n",
      " 3   betreft_onderwerp   8399 non-null   object\n",
      " 4   betreft_id          8435 non-null   object\n",
      " 5   betreft_eindtijd    8435 non-null   object\n",
      " 6   betreft_keyphrases  7672 non-null   object\n",
      "dtypes: object(7)\n",
      "memory usage: 527.2+ KB\n"
     ]
    }
   ],
   "source": [
    "data_afspraak_account_cleaned.info()"
   ]
  },
  {
   "cell_type": "markdown",
   "metadata": {},
   "source": [
    "### Afspraak betreft contact_cleaned.csv"
   ]
  },
  {
   "cell_type": "code",
   "execution_count": 75,
   "metadata": {},
   "outputs": [
    {
     "data": {
      "text/html": [
       "<div>\n",
       "<style scoped>\n",
       "    .dataframe tbody tr th:only-of-type {\n",
       "        vertical-align: middle;\n",
       "    }\n",
       "\n",
       "    .dataframe tbody tr th {\n",
       "        vertical-align: top;\n",
       "    }\n",
       "\n",
       "    .dataframe thead th {\n",
       "        text-align: right;\n",
       "    }\n",
       "</style>\n",
       "<table border=\"1\" class=\"dataframe\">\n",
       "  <thead>\n",
       "    <tr style=\"text-align: right;\">\n",
       "      <th></th>\n",
       "      <th>betreft_afspraak</th>\n",
       "      <th>betreft_thema</th>\n",
       "      <th>betreft_subthema</th>\n",
       "      <th>betreft_onderwerp</th>\n",
       "      <th>betreft_id</th>\n",
       "      <th>betreft_eindtijd</th>\n",
       "      <th>betreft_keyphrases</th>\n",
       "    </tr>\n",
       "  </thead>\n",
       "  <tbody>\n",
       "    <tr>\n",
       "      <th>0</th>\n",
       "      <td>00082DAA-24BF-ED11-83FF-6045BD8952CE</td>\n",
       "      <td>Lidmaatschap</td>\n",
       "      <td>Retentie (Lidmaatschap)</td>\n",
       "      <td>ov-ledenbezoek-2023</td>\n",
       "      <td>33F751E0-D26B-E111-B43A-00505680000A</td>\n",
       "      <td>18-4-2023</td>\n",
       "      <td>[NAME] [NAME] [NAME] , grootste visverwerkende...</td>\n",
       "    </tr>\n",
       "    <tr>\n",
       "      <th>2</th>\n",
       "      <td>00109C77-4D09-EB11-8114-001DD8B72B61</td>\n",
       "      <td>Lidmaatschap</td>\n",
       "      <td>Retentie (Lidmaatschap)</td>\n",
       "      <td>ov-ledenbezoek-2020</td>\n",
       "      <td>B9B048FF-A868-E111-B43A-00505680000A</td>\n",
       "      <td>16-10-2020</td>\n",
       "      <td>china en india , india en china , verschillend...</td>\n",
       "    </tr>\n",
       "    <tr>\n",
       "      <th>3</th>\n",
       "      <td>0011A5D9-CC9A-EC11-B400-0022488005A7</td>\n",
       "      <td>Financieel</td>\n",
       "      <td>Financiering</td>\n",
       "      <td>OV-Kennismaking inzake funding</td>\n",
       "      <td>C9D63042-CC9A-EC11-B400-0022488005A7</td>\n",
       "      <td>28-2-2022</td>\n",
       "      <td>interesse , ervaringen , ondernemers , investe...</td>\n",
       "    </tr>\n",
       "    <tr>\n",
       "      <th>4</th>\n",
       "      <td>0016532E-14E3-EC11-BB3C-000D3ABCA38B</td>\n",
       "      <td>Lidmaatschap</td>\n",
       "      <td>Retentie (Lidmaatschap)</td>\n",
       "      <td>ov-ledenbezoek-2022</td>\n",
       "      <td>3E4CE37B-D069-E111-B43A-00505680000A</td>\n",
       "      <td>24-6-2022</td>\n",
       "      <td>verwerkende fabriek , nodeloze oproepingen , g...</td>\n",
       "    </tr>\n",
       "    <tr>\n",
       "      <th>5</th>\n",
       "      <td>003760C1-13B4-EC11-983F-00224883C880</td>\n",
       "      <td>Lidmaatschap</td>\n",
       "      <td>Retentie (Lidmaatschap)</td>\n",
       "      <td>OV Ledengesprek 2022</td>\n",
       "      <td>622D5DC9-416B-E111-B43A-00505680000A</td>\n",
       "      <td>21-4-2022</td>\n",
       "      <td>aal arbeider vti waregem , [NAME] [NAME] [NAME...</td>\n",
       "    </tr>\n",
       "  </tbody>\n",
       "</table>\n",
       "</div>"
      ],
      "text/plain": [
       "                       betreft_afspraak betreft_thema   \n",
       "0  00082DAA-24BF-ED11-83FF-6045BD8952CE  Lidmaatschap  \\\n",
       "2  00109C77-4D09-EB11-8114-001DD8B72B61  Lidmaatschap   \n",
       "3  0011A5D9-CC9A-EC11-B400-0022488005A7    Financieel   \n",
       "4  0016532E-14E3-EC11-BB3C-000D3ABCA38B  Lidmaatschap   \n",
       "5  003760C1-13B4-EC11-983F-00224883C880  Lidmaatschap   \n",
       "\n",
       "          betreft_subthema               betreft_onderwerp   \n",
       "0  Retentie (Lidmaatschap)             ov-ledenbezoek-2023  \\\n",
       "2  Retentie (Lidmaatschap)             ov-ledenbezoek-2020   \n",
       "3             Financiering  OV-Kennismaking inzake funding   \n",
       "4  Retentie (Lidmaatschap)             ov-ledenbezoek-2022   \n",
       "5  Retentie (Lidmaatschap)            OV Ledengesprek 2022   \n",
       "\n",
       "                             betreft_id betreft_eindtijd   \n",
       "0  33F751E0-D26B-E111-B43A-00505680000A        18-4-2023  \\\n",
       "2  B9B048FF-A868-E111-B43A-00505680000A       16-10-2020   \n",
       "3  C9D63042-CC9A-EC11-B400-0022488005A7        28-2-2022   \n",
       "4  3E4CE37B-D069-E111-B43A-00505680000A        24-6-2022   \n",
       "5  622D5DC9-416B-E111-B43A-00505680000A        21-4-2022   \n",
       "\n",
       "                                  betreft_keyphrases  \n",
       "0  [NAME] [NAME] [NAME] , grootste visverwerkende...  \n",
       "2  china en india , india en china , verschillend...  \n",
       "3  interesse , ervaringen , ondernemers , investe...  \n",
       "4  verwerkende fabriek , nodeloze oproepingen , g...  \n",
       "5  aal arbeider vti waregem , [NAME] [NAME] [NAME...  "
      ]
     },
     "execution_count": 75,
     "metadata": {},
     "output_type": "execute_result"
    }
   ],
   "source": [
    "data_afspraak_contact_cleaned = pd.read_csv('../data/Afspraak betreft contact_cleaned.csv', sep=',')\n",
    "data_afspraak_contact_cleaned.rename(\n",
    "    columns={\n",
    "        'crm_Afspraak_BETREFT_CONTACTFICHE_Afspraak': 'betreft_afspraak',\n",
    "        'crm_Afspraak_BETREFT_CONTACTFICHE_Thema': 'betreft_thema',\n",
    "        'crm_Afspraak_BETREFT_CONTACTFICHE_Subthema': 'betreft_subthema',\n",
    "        'crm_Afspraak_BETREFT_CONTACTFICHE_Onderwerp': 'betreft_onderwerp',\n",
    "        'crm_Afspraak_BETREFT_CONTACTFICHE_Betreft_id': 'betreft_id',\n",
    "        'crm_Afspraak_BETREFT_CONTACTFICHE_Eindtijd': 'betreft_eindtijd',\n",
    "        'crm_Afspraak_BETREFT_CONTACTFICHE_KeyPhrases': 'betreft_keyphrases',\n",
    "        }, inplace=True)\n",
    "data_afspraak_contact_cleaned.drop_duplicates(inplace=True)\n",
    "data_afspraak_contact_cleaned.head()"
   ]
  },
  {
   "cell_type": "code",
   "execution_count": 76,
   "metadata": {},
   "outputs": [
    {
     "name": "stdout",
     "output_type": "stream",
     "text": [
      "<class 'pandas.core.frame.DataFrame'>\n",
      "Index: 8435 entries, 0 to 8594\n",
      "Data columns (total 7 columns):\n",
      " #   Column              Non-Null Count  Dtype \n",
      "---  ------              --------------  ----- \n",
      " 0   betreft_afspraak    8435 non-null   object\n",
      " 1   betreft_thema       8432 non-null   object\n",
      " 2   betreft_subthema    8432 non-null   object\n",
      " 3   betreft_onderwerp   8399 non-null   object\n",
      " 4   betreft_id          8435 non-null   object\n",
      " 5   betreft_eindtijd    8435 non-null   object\n",
      " 6   betreft_keyphrases  7672 non-null   object\n",
      "dtypes: object(7)\n",
      "memory usage: 527.2+ KB\n"
     ]
    }
   ],
   "source": [
    "data_afspraak_contact_cleaned.info()"
   ]
  },
  {
   "cell_type": "markdown",
   "metadata": {},
   "source": [
    "### Afspraak account_gelinkt_cleaned.csv"
   ]
  },
  {
   "cell_type": "code",
   "execution_count": 77,
   "metadata": {},
   "outputs": [
    {
     "data": {
      "text/html": [
       "<div>\n",
       "<style scoped>\n",
       "    .dataframe tbody tr th:only-of-type {\n",
       "        vertical-align: middle;\n",
       "    }\n",
       "\n",
       "    .dataframe tbody tr th {\n",
       "        vertical-align: top;\n",
       "    }\n",
       "\n",
       "    .dataframe thead th {\n",
       "        text-align: right;\n",
       "    }\n",
       "</style>\n",
       "<table border=\"1\" class=\"dataframe\">\n",
       "  <thead>\n",
       "    <tr style=\"text-align: right;\">\n",
       "      <th></th>\n",
       "      <th>betreft_afspraak</th>\n",
       "      <th>betreft_thema</th>\n",
       "      <th>betreft_subthema</th>\n",
       "      <th>betreft_onderwerp</th>\n",
       "      <th>gelinkt_account_id</th>\n",
       "      <th>betreft_eindtijd</th>\n",
       "      <th>betreft_keyphrases</th>\n",
       "    </tr>\n",
       "  </thead>\n",
       "  <tbody>\n",
       "    <tr>\n",
       "      <th>0</th>\n",
       "      <td>00082DAA-24BF-ED11-83FF-6045BD8952CE</td>\n",
       "      <td>Lidmaatschap</td>\n",
       "      <td>Retentie (Lidmaatschap)</td>\n",
       "      <td>ov-ledenbezoek-2023</td>\n",
       "      <td>513DC17D-A968-E111-B43A-00505680000A</td>\n",
       "      <td>18-4-2023</td>\n",
       "      <td>[NAME] [NAME] [NAME] , grootste visverwerkende...</td>\n",
       "    </tr>\n",
       "    <tr>\n",
       "      <th>2</th>\n",
       "      <td>0011A5D9-CC9A-EC11-B400-0022488005A7</td>\n",
       "      <td>Financieel</td>\n",
       "      <td>Financiering</td>\n",
       "      <td>OV-Kennismaking inzake funding</td>\n",
       "      <td>C63C4F8E-CF12-EB11-8114-001DD8B72B61</td>\n",
       "      <td>28-2-2022</td>\n",
       "      <td>interesse , ervaringen , ondernemers , investe...</td>\n",
       "    </tr>\n",
       "    <tr>\n",
       "      <th>3</th>\n",
       "      <td>0016532E-14E3-EC11-BB3C-000D3ABCA38B</td>\n",
       "      <td>Lidmaatschap</td>\n",
       "      <td>Retentie (Lidmaatschap)</td>\n",
       "      <td>ov-ledenbezoek-2022</td>\n",
       "      <td>2BA29C15-9368-E111-B43A-00505680000A</td>\n",
       "      <td>24-6-2022</td>\n",
       "      <td>verwerkende fabriek , nodeloze oproepingen , g...</td>\n",
       "    </tr>\n",
       "    <tr>\n",
       "      <th>4</th>\n",
       "      <td>003760C1-13B4-EC11-983F-00224883C880</td>\n",
       "      <td>Lidmaatschap</td>\n",
       "      <td>Retentie (Lidmaatschap)</td>\n",
       "      <td>OV Ledengesprek 2022</td>\n",
       "      <td>A06B2F59-C368-E111-B43A-00505680000A</td>\n",
       "      <td>21-4-2022</td>\n",
       "      <td>aal arbeider vti waregem , [NAME] [NAME] [NAME...</td>\n",
       "    </tr>\n",
       "    <tr>\n",
       "      <th>5</th>\n",
       "      <td>0040699E-FBA9-EC11-983F-002248848547</td>\n",
       "      <td>Lidmaatschap</td>\n",
       "      <td>Retentie (Lidmaatschap)</td>\n",
       "      <td>OV-Ledengesprek-2022</td>\n",
       "      <td>93F2AC34-C068-E111-B43A-00505680000A</td>\n",
       "      <td>15-4-2022</td>\n",
       "      <td>[NAME] [NAME] [NAME] , plato develop , korte r...</td>\n",
       "    </tr>\n",
       "  </tbody>\n",
       "</table>\n",
       "</div>"
      ],
      "text/plain": [
       "                       betreft_afspraak betreft_thema   \n",
       "0  00082DAA-24BF-ED11-83FF-6045BD8952CE  Lidmaatschap  \\\n",
       "2  0011A5D9-CC9A-EC11-B400-0022488005A7    Financieel   \n",
       "3  0016532E-14E3-EC11-BB3C-000D3ABCA38B  Lidmaatschap   \n",
       "4  003760C1-13B4-EC11-983F-00224883C880  Lidmaatschap   \n",
       "5  0040699E-FBA9-EC11-983F-002248848547  Lidmaatschap   \n",
       "\n",
       "          betreft_subthema               betreft_onderwerp   \n",
       "0  Retentie (Lidmaatschap)             ov-ledenbezoek-2023  \\\n",
       "2             Financiering  OV-Kennismaking inzake funding   \n",
       "3  Retentie (Lidmaatschap)             ov-ledenbezoek-2022   \n",
       "4  Retentie (Lidmaatschap)            OV Ledengesprek 2022   \n",
       "5  Retentie (Lidmaatschap)            OV-Ledengesprek-2022   \n",
       "\n",
       "                     gelinkt_account_id betreft_eindtijd   \n",
       "0  513DC17D-A968-E111-B43A-00505680000A        18-4-2023  \\\n",
       "2  C63C4F8E-CF12-EB11-8114-001DD8B72B61        28-2-2022   \n",
       "3  2BA29C15-9368-E111-B43A-00505680000A        24-6-2022   \n",
       "4  A06B2F59-C368-E111-B43A-00505680000A        21-4-2022   \n",
       "5  93F2AC34-C068-E111-B43A-00505680000A        15-4-2022   \n",
       "\n",
       "                                  betreft_keyphrases  \n",
       "0  [NAME] [NAME] [NAME] , grootste visverwerkende...  \n",
       "2  interesse , ervaringen , ondernemers , investe...  \n",
       "3  verwerkende fabriek , nodeloze oproepingen , g...  \n",
       "4  aal arbeider vti waregem , [NAME] [NAME] [NAME...  \n",
       "5  [NAME] [NAME] [NAME] , plato develop , korte r...  "
      ]
     },
     "execution_count": 77,
     "metadata": {},
     "output_type": "execute_result"
    }
   ],
   "source": [
    "data_afspraak_account_gelinkt_cleaned = pd.read_csv('../data/Afspraak_account_gelinkt_cleaned.csv', sep=',')\n",
    "\n",
    "# switch crm_Afspraak_ACCOUNT_GELINKT_Account and crm_Afspraak_ACCOUNT_GELINKT_Eindtijd from place\n",
    "cols = list(data_afspraak_account_gelinkt_cleaned.columns)\n",
    "cols[4], cols[5] = cols[5], cols[4]\n",
    "data_afspraak_account_gelinkt_cleaned = data_afspraak_account_gelinkt_cleaned[cols]\n",
    "\n",
    "data_afspraak_account_gelinkt_cleaned.rename(\n",
    "    columns={\n",
    "        'crm_Afspraak_ACCOUNT_GELINKT_Afspraak': 'betreft_afspraak',\n",
    "        'crm_Afspraak_ACCOUNT_GELINKT_Thema': 'betreft_thema',\n",
    "        'crm_Afspraak_ACCOUNT_GELINKT_Subthema': 'betreft_subthema',\n",
    "        'crm_Afspraak_ACCOUNT_GELINKT_Onderwerp': 'betreft_onderwerp',\n",
    "        'crm_Afspraak_ACCOUNT_GELINKT_Account': 'gelinkt_account_id',\n",
    "        'crm_Afspraak_ACCOUNT_GELINKT_Eindtijd': 'betreft_eindtijd',\n",
    "        'crm_Afspraak_ACCOUNT_GELINKT_KeyPhrases': 'betreft_keyphrases',\n",
    "        }, inplace=True)\n",
    "\n",
    "data_afspraak_account_gelinkt_cleaned.drop_duplicates(inplace=True)\n",
    "data_afspraak_account_gelinkt_cleaned.head()"
   ]
  },
  {
   "cell_type": "code",
   "execution_count": 78,
   "metadata": {},
   "outputs": [
    {
     "name": "stdout",
     "output_type": "stream",
     "text": [
      "<class 'pandas.core.frame.DataFrame'>\n",
      "Index: 3156 entries, 0 to 3311\n",
      "Data columns (total 7 columns):\n",
      " #   Column              Non-Null Count  Dtype \n",
      "---  ------              --------------  ----- \n",
      " 0   betreft_afspraak    3156 non-null   object\n",
      " 1   betreft_thema       3156 non-null   object\n",
      " 2   betreft_subthema    3156 non-null   object\n",
      " 3   betreft_onderwerp   3122 non-null   object\n",
      " 4   gelinkt_account_id  3156 non-null   object\n",
      " 5   betreft_eindtijd    3156 non-null   object\n",
      " 6   betreft_keyphrases  2935 non-null   object\n",
      "dtypes: object(7)\n",
      "memory usage: 197.2+ KB\n"
     ]
    }
   ],
   "source": [
    "data_afspraak_account_gelinkt_cleaned.info()"
   ]
  },
  {
   "cell_type": "markdown",
   "metadata": {},
   "source": [
    "### Columns vergelijken"
   ]
  },
  {
   "cell_type": "code",
   "execution_count": 79,
   "metadata": {},
   "outputs": [
    {
     "data": {
      "text/plain": [
       "Index(['betreft_afspraak', 'betreft_thema', 'betreft_subthema',\n",
       "       'betreft_onderwerp', 'betreft_id', 'betreft_eindtijd',\n",
       "       'betreft_keyphrases'],\n",
       "      dtype='object')"
      ]
     },
     "execution_count": 79,
     "metadata": {},
     "output_type": "execute_result"
    }
   ],
   "source": [
    "data_afspraak_account_cleaned.columns"
   ]
  },
  {
   "cell_type": "code",
   "execution_count": 80,
   "metadata": {},
   "outputs": [
    {
     "data": {
      "text/plain": [
       "Index(['betreft_afspraak', 'betreft_thema', 'betreft_subthema',\n",
       "       'betreft_onderwerp', 'betreft_id', 'betreft_eindtijd',\n",
       "       'betreft_keyphrases'],\n",
       "      dtype='object')"
      ]
     },
     "execution_count": 80,
     "metadata": {},
     "output_type": "execute_result"
    }
   ],
   "source": [
    "data_afspraak_contact_cleaned.columns"
   ]
  },
  {
   "cell_type": "code",
   "execution_count": 81,
   "metadata": {},
   "outputs": [
    {
     "data": {
      "text/html": [
       "<div>\n",
       "<style scoped>\n",
       "    .dataframe tbody tr th:only-of-type {\n",
       "        vertical-align: middle;\n",
       "    }\n",
       "\n",
       "    .dataframe tbody tr th {\n",
       "        vertical-align: top;\n",
       "    }\n",
       "\n",
       "    .dataframe thead th {\n",
       "        text-align: right;\n",
       "    }\n",
       "</style>\n",
       "<table border=\"1\" class=\"dataframe\">\n",
       "  <thead>\n",
       "    <tr style=\"text-align: right;\">\n",
       "      <th></th>\n",
       "      <th>betreft_afspraak</th>\n",
       "      <th>betreft_thema</th>\n",
       "      <th>betreft_subthema</th>\n",
       "      <th>betreft_onderwerp</th>\n",
       "      <th>betreft_id</th>\n",
       "      <th>betreft_eindtijd</th>\n",
       "      <th>betreft_keyphrases</th>\n",
       "    </tr>\n",
       "  </thead>\n",
       "  <tbody>\n",
       "    <tr>\n",
       "      <th>0</th>\n",
       "      <td>True</td>\n",
       "      <td>True</td>\n",
       "      <td>True</td>\n",
       "      <td>True</td>\n",
       "      <td>True</td>\n",
       "      <td>True</td>\n",
       "      <td>True</td>\n",
       "    </tr>\n",
       "    <tr>\n",
       "      <th>2</th>\n",
       "      <td>True</td>\n",
       "      <td>True</td>\n",
       "      <td>True</td>\n",
       "      <td>True</td>\n",
       "      <td>True</td>\n",
       "      <td>True</td>\n",
       "      <td>True</td>\n",
       "    </tr>\n",
       "    <tr>\n",
       "      <th>3</th>\n",
       "      <td>True</td>\n",
       "      <td>True</td>\n",
       "      <td>True</td>\n",
       "      <td>True</td>\n",
       "      <td>True</td>\n",
       "      <td>True</td>\n",
       "      <td>True</td>\n",
       "    </tr>\n",
       "    <tr>\n",
       "      <th>4</th>\n",
       "      <td>True</td>\n",
       "      <td>True</td>\n",
       "      <td>True</td>\n",
       "      <td>True</td>\n",
       "      <td>True</td>\n",
       "      <td>True</td>\n",
       "      <td>True</td>\n",
       "    </tr>\n",
       "    <tr>\n",
       "      <th>5</th>\n",
       "      <td>True</td>\n",
       "      <td>True</td>\n",
       "      <td>True</td>\n",
       "      <td>True</td>\n",
       "      <td>True</td>\n",
       "      <td>True</td>\n",
       "      <td>True</td>\n",
       "    </tr>\n",
       "    <tr>\n",
       "      <th>...</th>\n",
       "      <td>...</td>\n",
       "      <td>...</td>\n",
       "      <td>...</td>\n",
       "      <td>...</td>\n",
       "      <td>...</td>\n",
       "      <td>...</td>\n",
       "      <td>...</td>\n",
       "    </tr>\n",
       "    <tr>\n",
       "      <th>8590</th>\n",
       "      <td>True</td>\n",
       "      <td>True</td>\n",
       "      <td>True</td>\n",
       "      <td>True</td>\n",
       "      <td>True</td>\n",
       "      <td>True</td>\n",
       "      <td>True</td>\n",
       "    </tr>\n",
       "    <tr>\n",
       "      <th>8591</th>\n",
       "      <td>True</td>\n",
       "      <td>True</td>\n",
       "      <td>True</td>\n",
       "      <td>True</td>\n",
       "      <td>True</td>\n",
       "      <td>True</td>\n",
       "      <td>True</td>\n",
       "    </tr>\n",
       "    <tr>\n",
       "      <th>8592</th>\n",
       "      <td>True</td>\n",
       "      <td>True</td>\n",
       "      <td>True</td>\n",
       "      <td>True</td>\n",
       "      <td>True</td>\n",
       "      <td>True</td>\n",
       "      <td>True</td>\n",
       "    </tr>\n",
       "    <tr>\n",
       "      <th>8593</th>\n",
       "      <td>True</td>\n",
       "      <td>True</td>\n",
       "      <td>True</td>\n",
       "      <td>True</td>\n",
       "      <td>True</td>\n",
       "      <td>True</td>\n",
       "      <td>True</td>\n",
       "    </tr>\n",
       "    <tr>\n",
       "      <th>8594</th>\n",
       "      <td>True</td>\n",
       "      <td>True</td>\n",
       "      <td>True</td>\n",
       "      <td>True</td>\n",
       "      <td>True</td>\n",
       "      <td>True</td>\n",
       "      <td>True</td>\n",
       "    </tr>\n",
       "  </tbody>\n",
       "</table>\n",
       "<p>8435 rows × 7 columns</p>\n",
       "</div>"
      ],
      "text/plain": [
       "      betreft_afspraak  betreft_thema  betreft_subthema  betreft_onderwerp   \n",
       "0                 True           True              True               True  \\\n",
       "2                 True           True              True               True   \n",
       "3                 True           True              True               True   \n",
       "4                 True           True              True               True   \n",
       "5                 True           True              True               True   \n",
       "...                ...            ...               ...                ...   \n",
       "8590              True           True              True               True   \n",
       "8591              True           True              True               True   \n",
       "8592              True           True              True               True   \n",
       "8593              True           True              True               True   \n",
       "8594              True           True              True               True   \n",
       "\n",
       "      betreft_id  betreft_eindtijd  betreft_keyphrases  \n",
       "0           True              True                True  \n",
       "2           True              True                True  \n",
       "3           True              True                True  \n",
       "4           True              True                True  \n",
       "5           True              True                True  \n",
       "...          ...               ...                 ...  \n",
       "8590        True              True                True  \n",
       "8591        True              True                True  \n",
       "8592        True              True                True  \n",
       "8593        True              True                True  \n",
       "8594        True              True                True  \n",
       "\n",
       "[8435 rows x 7 columns]"
      ]
     },
     "execution_count": 81,
     "metadata": {},
     "output_type": "execute_result"
    }
   ],
   "source": [
    "data_afspraak_contact_cleaned == data_afspraak_account_cleaned"
   ]
  },
  {
   "cell_type": "code",
   "execution_count": 82,
   "metadata": {},
   "outputs": [
    {
     "data": {
      "text/plain": [
       "[]"
      ]
     },
     "execution_count": 82,
     "metadata": {},
     "output_type": "execute_result"
    }
   ],
   "source": [
    "mismatched_elements = [element for element in data_afspraak_contact_cleaned if element not in data_afspraak_account_cleaned]\n",
    "mismatched_elements"
   ]
  },
  {
   "cell_type": "code",
   "execution_count": 83,
   "metadata": {},
   "outputs": [
    {
     "data": {
      "text/plain": [
       "Index(['betreft_afspraak', 'betreft_thema', 'betreft_subthema',\n",
       "       'betreft_onderwerp', 'gelinkt_account_id', 'betreft_eindtijd',\n",
       "       'betreft_keyphrases'],\n",
       "      dtype='object')"
      ]
     },
     "execution_count": 83,
     "metadata": {},
     "output_type": "execute_result"
    }
   ],
   "source": [
    "data_afspraak_account_gelinkt_cleaned.columns"
   ]
  },
  {
   "cell_type": "markdown",
   "metadata": {},
   "source": [
    "### Conclusie"
   ]
  },
  {
   "cell_type": "markdown",
   "metadata": {},
   "source": [
    "data_afspraak_account_cleaned en data_afspraak_contact_cleaned zijn gelijk aan elkaar. data_afspraak_account_gelinkt_cleaned heeft een andere identifier."
   ]
  }
 ],
 "metadata": {
  "kernelspec": {
   "display_name": "Python 3",
   "language": "python",
   "name": "python3"
  },
  "language_info": {
   "codemirror_mode": {
    "name": "ipython",
    "version": 3
   },
   "file_extension": ".py",
   "mimetype": "text/x-python",
   "name": "python",
   "nbconvert_exporter": "python",
   "pygments_lexer": "ipython3",
   "version": "3.11.3"
  }
 },
 "nbformat": 4,
 "nbformat_minor": 2
}
