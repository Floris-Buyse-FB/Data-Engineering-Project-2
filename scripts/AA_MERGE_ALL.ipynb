{
 "cells": [
  {
   "cell_type": "code",
   "execution_count": 4,
   "metadata": {},
   "outputs": [],
   "source": [
    "import pandas as pd\n",
    "import numpy as np\n",
    "import os"
   ]
  },
  {
   "cell_type": "markdown",
   "metadata": {},
   "source": [
    "### Eerst gaan we alle datafiles die we nodig hebben mergen tot 1 dataframe"
   ]
  },
  {
   "cell_type": "markdown",
   "metadata": {},
   "source": [
    "#### 1. Alles van Account mergen"
   ]
  },
  {
   "cell_type": "markdown",
   "metadata": {},
   "source": [
    "##### Account mergen met activiteit tabellen"
   ]
  },
  {
   "cell_type": "code",
   "execution_count": 5,
   "metadata": {},
   "outputs": [],
   "source": [
    "data_acc = pd.read_csv('../data_clean/Account_fixed.csv', sep=',')\n",
    "data_acti = pd.read_csv('../data_clean/Activiteitscode_fixed.csv', sep=\",\")\n",
    "data_acc_acti = pd.read_csv('../data_clean/Account_activiteitscode_fixed.csv', sep=\",\")\n",
    "\n",
    "# merge account_activiteitscode with activiteitscode\n",
    "merged_relation = data_acc_acti.merge(data_acti, left_on='account_activiteitscode_activiteitscode', right_on='activiteitscode_activiteitscode_id', how='inner')\n",
    "# merge account with the merged relation from above\n",
    "merged_accounts = data_acc.merge(merged_relation, left_on='account_account_id', right_on='account_activiteitscode_account', how='inner')"
   ]
  },
  {
   "cell_type": "code",
   "execution_count": 6,
   "metadata": {},
   "outputs": [],
   "source": [
    "# RAM vrijmaken\n",
    "try:\n",
    "    del data_acc\n",
    "    del data_acti\n",
    "    del data_acc_acti\n",
    "    del merged_relation\n",
    "except:\n",
    "    print(\"Data is niet meer beschikbaar / is al verwijderd\")"
   ]
  },
  {
   "cell_type": "code",
   "execution_count": 7,
   "metadata": {},
   "outputs": [
    {
     "data": {
      "text/plain": [
       "(14673, 22)"
      ]
     },
     "execution_count": 7,
     "metadata": {},
     "output_type": "execute_result"
    }
   ],
   "source": [
    "merged_accounts.shape"
   ]
  },
  {
   "cell_type": "markdown",
   "metadata": {},
   "source": [
    "##### Accounts mergen met financiële data"
   ]
  },
  {
   "cell_type": "code",
   "execution_count": 8,
   "metadata": {},
   "outputs": [
    {
     "data": {
      "text/plain": [
       "(2030180, 6)"
      ]
     },
     "execution_count": 8,
     "metadata": {},
     "output_type": "execute_result"
    }
   ],
   "source": [
    "financiele_data = pd.read_csv('../data_clean/Account_financiële_data_fixed.csv', sep=',')\n",
    "financiele_data.shape"
   ]
  },
  {
   "cell_type": "code",
   "execution_count": 9,
   "metadata": {},
   "outputs": [
    {
     "data": {
      "text/plain": [
       "(181428, 28)"
      ]
     },
     "execution_count": 9,
     "metadata": {},
     "output_type": "execute_result"
    }
   ],
   "source": [
    "merged_accounts = merged_accounts.merge(financiele_data, left_on='account_account_id', right_on='financieledata_ondernemingid', how='inner')\n",
    "merged_accounts.shape"
   ]
  },
  {
   "cell_type": "code",
   "execution_count": 10,
   "metadata": {},
   "outputs": [],
   "source": [
    "try:\n",
    "    del financiele_data\n",
    "except:\n",
    "    print(\"Data is niet meer beschikbaar / is al verwijderd\")"
   ]
  },
  {
   "cell_type": "markdown",
   "metadata": {},
   "source": [
    "##### Accounts merge met Contactfiches"
   ]
  },
  {
   "cell_type": "code",
   "execution_count": 11,
   "metadata": {},
   "outputs": [
    {
     "data": {
      "text/plain": [
       "(1169683, 6)"
      ]
     },
     "execution_count": 11,
     "metadata": {},
     "output_type": "execute_result"
    }
   ],
   "source": [
    "contactfiches = pd.read_csv('../data_clean/Contact_fixed.csv', sep=',')\n",
    "contactfiches.shape"
   ]
  },
  {
   "cell_type": "code",
   "execution_count": 12,
   "metadata": {},
   "outputs": [
    {
     "data": {
      "text/plain": [
       "(3748445, 34)"
      ]
     },
     "execution_count": 12,
     "metadata": {},
     "output_type": "execute_result"
    }
   ],
   "source": [
    "merged_accounts = merged_accounts.merge(contactfiches, left_on='account_account_id', right_on='contact_account', how='inner')\n",
    "merged_accounts.shape"
   ]
  },
  {
   "cell_type": "code",
   "execution_count": 13,
   "metadata": {},
   "outputs": [],
   "source": [
    "try:\n",
    "    del contactfiches\n",
    "except:\n",
    "    print(\"Data is niet meer beschikbaar / is al verwijderd\")"
   ]
  },
  {
   "cell_type": "markdown",
   "metadata": {},
   "source": [
    "##### Accounts mergen met Functie"
   ]
  },
  {
   "cell_type": "code",
   "execution_count": 14,
   "metadata": {},
   "outputs": [
    {
     "data": {
      "text/plain": [
       "((589129, 2), (71, 2))"
      ]
     },
     "execution_count": 14,
     "metadata": {},
     "output_type": "execute_result"
    }
   ],
   "source": [
    "contactfiches_functies = pd.read_csv('../data_clean/Contact_functie_fixed.csv', sep=',')\n",
    "functies = pd.read_csv('../data_clean/Functie_fixed.csv', sep=',')\n",
    "contactfiches_functies.shape, functies.shape"
   ]
  },
  {
   "cell_type": "code",
   "execution_count": 15,
   "metadata": {},
   "outputs": [
    {
     "data": {
      "text/plain": [
       "Index(['contactfunctie_contactpersoon', 'contactfunctie_functie'], dtype='object')"
      ]
     },
     "execution_count": 15,
     "metadata": {},
     "output_type": "execute_result"
    }
   ],
   "source": [
    "contactfiches_functies.columns"
   ]
  },
  {
   "cell_type": "code",
   "execution_count": 16,
   "metadata": {},
   "outputs": [],
   "source": [
    "merged_accounts = merged_accounts.merge(contactfiches_functies, left_on='contact_contactpersoon_id', right_on='contactfunctie_contactpersoon', how='inner')"
   ]
  },
  {
   "cell_type": "code",
   "execution_count": 17,
   "metadata": {},
   "outputs": [],
   "source": [
    "# list(merged_accounts.columns)"
   ]
  },
  {
   "cell_type": "code",
   "execution_count": 18,
   "metadata": {},
   "outputs": [],
   "source": [
    "merged_accounts = merged_accounts.merge(functies, left_on='contactfunctie_functie', right_on='functie_functie_id', how='inner')"
   ]
  },
  {
   "cell_type": "code",
   "execution_count": 19,
   "metadata": {},
   "outputs": [
    {
     "data": {
      "text/plain": [
       "(1771670, 38)"
      ]
     },
     "execution_count": 19,
     "metadata": {},
     "output_type": "execute_result"
    }
   ],
   "source": [
    "merged_accounts.shape"
   ]
  },
  {
   "cell_type": "code",
   "execution_count": 20,
   "metadata": {},
   "outputs": [],
   "source": [
    "try:\n",
    "    del contactfiches_functies\n",
    "    del functies\n",
    "except:\n",
    "    print(\"Data is niet meer beschikbaar / is al verwijderd\")"
   ]
  },
  {
   "cell_type": "markdown",
   "metadata": {},
   "source": [
    "##### Accounts merge met Personen"
   ]
  },
  {
   "cell_type": "code",
   "execution_count": 21,
   "metadata": {},
   "outputs": [
    {
     "data": {
      "text/plain": [
       "(580981, 29)"
      ]
     },
     "execution_count": 21,
     "metadata": {},
     "output_type": "execute_result"
    }
   ],
   "source": [
    "personen = pd.read_csv('../data_clean/Persoon_fixed.csv', sep=',')\n",
    "personen.shape"
   ]
  },
  {
   "cell_type": "code",
   "execution_count": 22,
   "metadata": {},
   "outputs": [
    {
     "data": {
      "text/plain": [
       "(1771670, 67)"
      ]
     },
     "execution_count": 22,
     "metadata": {},
     "output_type": "execute_result"
    }
   ],
   "source": [
    "merged_accounts = merged_accounts.merge(personen, left_on='contact_persoon_id', right_on='persoon_persoon_id', how='inner')\n",
    "merged_accounts.shape"
   ]
  },
  {
   "cell_type": "code",
   "execution_count": 23,
   "metadata": {},
   "outputs": [],
   "source": [
    "try:\n",
    "    del personen\n",
    "except:\n",
    "    print(\"Data is niet meer beschikbaar / is al verwijderd\")"
   ]
  },
  {
   "cell_type": "markdown",
   "metadata": {},
   "source": [
    "##### Accounts merged tijdelijk opslaan"
   ]
  },
  {
   "cell_type": "code",
   "execution_count": 24,
   "metadata": {},
   "outputs": [],
   "source": [
    "if not os.path.exists('../data_merged'):\n",
    "    os.makedirs('../data_merged')\n",
    "\n",
    "if not os.path.exists('../data_merged/merged_accounts.csv'):\n",
    "    merged_accounts.to_csv('../data_merged/merged_accounts.csv', sep=',', index=False)\n",
    "else:\n",
    "    # remove file\n",
    "    os.remove('../data_merged/merged_accounts.csv')\n",
    "    # save file\n",
    "    merged_accounts.to_csv('../data_merged/merged_accounts.csv', sep=',', index=False)"
   ]
  },
  {
   "cell_type": "code",
   "execution_count": 25,
   "metadata": {},
   "outputs": [],
   "source": [
    "try:\n",
    "    del merged_accounts\n",
    "except:\n",
    "    print(\"Data is niet meer beschikbaar / is al verwijderd\")"
   ]
  },
  {
   "cell_type": "markdown",
   "metadata": {},
   "source": [
    "#### 2. Alles van Afspraken mergen"
   ]
  },
  {
   "cell_type": "code",
   "execution_count": 26,
   "metadata": {},
   "outputs": [],
   "source": [
    "afspraak_betreft_account_cleaned = pd.read_csv('../data_clean/Afspraak_betreft_account_cleaned_fixed.csv', sep=',')\n",
    "afspraak_account_gelinkt_cleaned = pd.read_csv('../data_clean/Afspraak_account_gelinkt_cleaned_fixed.csv', sep=',')\n",
    "afspraak_betreft_contact_cleaned = pd.read_csv('../data_clean/Afspraak_betreft_contact_cleaned_fixed.csv', sep=',')"
   ]
  },
  {
   "cell_type": "code",
   "execution_count": 27,
   "metadata": {},
   "outputs": [
    {
     "data": {
      "text/plain": [
       "((4876, 7), (2934, 7), (2552, 7))"
      ]
     },
     "execution_count": 27,
     "metadata": {},
     "output_type": "execute_result"
    }
   ],
   "source": [
    "afspraak_betreft_account_cleaned.shape, afspraak_account_gelinkt_cleaned.shape, afspraak_betreft_contact_cleaned.shape"
   ]
  },
  {
   "cell_type": "code",
   "execution_count": 28,
   "metadata": {},
   "outputs": [],
   "source": [
    "afspraak_betreft_account_cleaned = afspraak_betreft_account_cleaned.drop(['afspraak_betreft_account_betreft_id'], axis=1)\n",
    "afspraak_account_gelinkt_cleaned = afspraak_account_gelinkt_cleaned.drop(['afspraak_account_gelinkt_account'], axis=1)\n",
    "afspraak_betreft_contact_cleaned = afspraak_betreft_contact_cleaned.drop(['afspraak_betreft_contactfiche_betreft_id'], axis=1)"
   ]
  },
  {
   "cell_type": "code",
   "execution_count": 29,
   "metadata": {},
   "outputs": [],
   "source": [
    "# list(afspraak_betreft_account_cleaned.columns)"
   ]
  },
  {
   "cell_type": "code",
   "execution_count": 30,
   "metadata": {},
   "outputs": [],
   "source": [
    "# list(afspraak_account_gelinkt_cleaned.columns)"
   ]
  },
  {
   "cell_type": "code",
   "execution_count": 31,
   "metadata": {},
   "outputs": [],
   "source": [
    "# list(afspraak_betreft_contact_cleaned.columns)"
   ]
  },
  {
   "cell_type": "code",
   "execution_count": 32,
   "metadata": {},
   "outputs": [],
   "source": [
    "afspraak_betreft_account_cleaned.columns = ['afspraak_afspraak_id', 'afspraak_thema', 'afspraak_subthema', 'afspraak_onderwerp', 'afspraak_eindtijd', 'afspraak_keyphrases']\n",
    "afspraak_account_gelinkt_cleaned.columns = ['afspraak_afspraak_id', 'afspraak_thema', 'afspraak_subthema', 'afspraak_onderwerp', 'afspraak_eindtijd', 'afspraak_keyphrases']\n",
    "afspraak_betreft_contact_cleaned.columns = ['afspraak_afspraak_id', 'afspraak_thema', 'afspraak_subthema', 'afspraak_onderwerp', 'afspraak_eindtijd', 'afspraak_keyphrases']"
   ]
  },
  {
   "cell_type": "code",
   "execution_count": 33,
   "metadata": {},
   "outputs": [],
   "source": [
    "afspraak_betreft_account_cleaned[\"afspraak_betreft\"] = \"account\"\n",
    "afspraak_account_gelinkt_cleaned[\"afspraak_betreft\"] = \"account\"\n",
    "afspraak_betreft_contact_cleaned[\"afspraak_betreft\"] = \"contact\""
   ]
  },
  {
   "cell_type": "code",
   "execution_count": 34,
   "metadata": {},
   "outputs": [],
   "source": [
    "afspraken_merged = pd.concat([afspraak_betreft_account_cleaned, afspraak_account_gelinkt_cleaned, afspraak_betreft_contact_cleaned])"
   ]
  },
  {
   "cell_type": "code",
   "execution_count": 35,
   "metadata": {},
   "outputs": [
    {
     "data": {
      "text/html": [
       "<div>\n",
       "<style scoped>\n",
       "    .dataframe tbody tr th:only-of-type {\n",
       "        vertical-align: middle;\n",
       "    }\n",
       "\n",
       "    .dataframe tbody tr th {\n",
       "        vertical-align: top;\n",
       "    }\n",
       "\n",
       "    .dataframe thead th {\n",
       "        text-align: right;\n",
       "    }\n",
       "</style>\n",
       "<table border=\"1\" class=\"dataframe\">\n",
       "  <thead>\n",
       "    <tr style=\"text-align: right;\">\n",
       "      <th></th>\n",
       "      <th>afspraak_afspraak_id</th>\n",
       "    </tr>\n",
       "  </thead>\n",
       "  <tbody>\n",
       "    <tr>\n",
       "      <th>0</th>\n",
       "      <td>00082DAA-24BF-ED11-83FF-6045BD8952CE</td>\n",
       "    </tr>\n",
       "    <tr>\n",
       "      <th>1</th>\n",
       "      <td>00109C77-4D09-EB11-8114-001DD8B72B61</td>\n",
       "    </tr>\n",
       "    <tr>\n",
       "      <th>2</th>\n",
       "      <td>0011A5D9-CC9A-EC11-B400-0022488005A7</td>\n",
       "    </tr>\n",
       "    <tr>\n",
       "      <th>3</th>\n",
       "      <td>0016532E-14E3-EC11-BB3C-000D3ABCA38B</td>\n",
       "    </tr>\n",
       "    <tr>\n",
       "      <th>4</th>\n",
       "      <td>003760C1-13B4-EC11-983F-00224883C880</td>\n",
       "    </tr>\n",
       "  </tbody>\n",
       "</table>\n",
       "</div>"
      ],
      "text/plain": [
       "                   afspraak_afspraak_id\n",
       "0  00082DAA-24BF-ED11-83FF-6045BD8952CE\n",
       "1  00109C77-4D09-EB11-8114-001DD8B72B61\n",
       "2  0011A5D9-CC9A-EC11-B400-0022488005A7\n",
       "3  0016532E-14E3-EC11-BB3C-000D3ABCA38B\n",
       "4  003760C1-13B4-EC11-983F-00224883C880"
      ]
     },
     "execution_count": 35,
     "metadata": {},
     "output_type": "execute_result"
    }
   ],
   "source": [
    "afspraken = pd.read_csv('../data_clean/Afspraak_alle_fixed.csv', sep=',')\n",
    "afspraken.columns = ['afspraak_afspraak_id']\n",
    "afspraken.head()"
   ]
  },
  {
   "cell_type": "code",
   "execution_count": 36,
   "metadata": {},
   "outputs": [],
   "source": [
    "afspraken_merged = pd.merge(afspraken, afspraken_merged, on='afspraak_afspraak_id', how='right')\n",
    "afspraken_merged.reset_index(drop=True, inplace=True)"
   ]
  },
  {
   "cell_type": "code",
   "execution_count": 37,
   "metadata": {},
   "outputs": [
    {
     "name": "stdout",
     "output_type": "stream",
     "text": [
      "<class 'pandas.core.frame.DataFrame'>\n",
      "RangeIndex: 10362 entries, 0 to 10361\n",
      "Data columns (total 7 columns):\n",
      " #   Column                Non-Null Count  Dtype \n",
      "---  ------                --------------  ----- \n",
      " 0   afspraak_afspraak_id  10362 non-null  object\n",
      " 1   afspraak_thema        10362 non-null  object\n",
      " 2   afspraak_subthema     10362 non-null  object\n",
      " 3   afspraak_onderwerp    10362 non-null  object\n",
      " 4   afspraak_eindtijd     10362 non-null  object\n",
      " 5   afspraak_keyphrases   10362 non-null  object\n",
      " 6   afspraak_betreft      10362 non-null  object\n",
      "dtypes: object(7)\n",
      "memory usage: 566.8+ KB\n"
     ]
    }
   ],
   "source": [
    "afspraken_merged.info()"
   ]
  },
  {
   "cell_type": "code",
   "execution_count": 38,
   "metadata": {},
   "outputs": [],
   "source": [
    "# RAM vrijmaken\n",
    "try:\n",
    "    del afspraak_betreft_account_cleaned\n",
    "    del afspraak_account_gelinkt_cleaned\n",
    "    del afspraak_betreft_contact_cleaned\n",
    "    del afspraken\n",
    "except:\n",
    "    print(\"Data is niet meer beschikbaar / is al verwijderd\")"
   ]
  },
  {
   "cell_type": "code",
   "execution_count": 39,
   "metadata": {},
   "outputs": [
    {
     "name": "stdout",
     "output_type": "stream",
     "text": [
      "<class 'pandas.core.frame.DataFrame'>\n",
      "Index: 7624 entries, 0 to 10357\n",
      "Data columns (total 7 columns):\n",
      " #   Column                Non-Null Count  Dtype \n",
      "---  ------                --------------  ----- \n",
      " 0   afspraak_afspraak_id  7624 non-null   object\n",
      " 1   afspraak_thema        7624 non-null   object\n",
      " 2   afspraak_subthema     7624 non-null   object\n",
      " 3   afspraak_onderwerp    7624 non-null   object\n",
      " 4   afspraak_eindtijd     7624 non-null   object\n",
      " 5   afspraak_keyphrases   7624 non-null   object\n",
      " 6   afspraak_betreft      7624 non-null   object\n",
      "dtypes: object(7)\n",
      "memory usage: 476.5+ KB\n"
     ]
    }
   ],
   "source": [
    "afspraken_merged = afspraken_merged.drop_duplicates(subset=['afspraak_afspraak_id'], keep='first')\n",
    "afspraken_merged.info()"
   ]
  },
  {
   "cell_type": "code",
   "execution_count": 40,
   "metadata": {},
   "outputs": [
    {
     "data": {
      "text/plain": [
       "(4635, 2)"
      ]
     },
     "execution_count": 40,
     "metadata": {},
     "output_type": "execute_result"
    }
   ],
   "source": [
    "activiteit_vereist_contact = pd.read_csv('../data_clean/Activiteit_vereist_contact_fixed.csv', sep=',')\n",
    "activiteit_vereist_contact.shape"
   ]
  },
  {
   "cell_type": "code",
   "execution_count": 41,
   "metadata": {},
   "outputs": [
    {
     "name": "stdout",
     "output_type": "stream",
     "text": [
      "<class 'pandas.core.frame.DataFrame'>\n",
      "RangeIndex: 7754 entries, 0 to 7753\n",
      "Data columns (total 9 columns):\n",
      " #   Column                                  Non-Null Count  Dtype \n",
      "---  ------                                  --------------  ----- \n",
      " 0   afspraak_afspraak_id                    7754 non-null   object\n",
      " 1   afspraak_thema                          7754 non-null   object\n",
      " 2   afspraak_subthema                       7754 non-null   object\n",
      " 3   afspraak_onderwerp                      7754 non-null   object\n",
      " 4   afspraak_eindtijd                       7754 non-null   object\n",
      " 5   afspraak_keyphrases                     7754 non-null   object\n",
      " 6   afspraak_betreft                        7754 non-null   object\n",
      " 7   activiteitvereistcontact_activityid_id  4545 non-null   object\n",
      " 8   activiteitvereistcontact_reqattendee    4545 non-null   object\n",
      "dtypes: object(9)\n",
      "memory usage: 545.3+ KB\n"
     ]
    }
   ],
   "source": [
    "afspraken_merged = afspraken_merged.merge(activiteit_vereist_contact, left_on='afspraak_afspraak_id', right_on='activiteitvereistcontact_activityid_id', how='left')\n",
    "afspraken_merged.info()"
   ]
  },
  {
   "cell_type": "code",
   "execution_count": 42,
   "metadata": {},
   "outputs": [],
   "source": [
    "try:\n",
    "    del activiteit_vereist_contact\n",
    "except:\n",
    "    print(\"Data is niet meer beschikbaar / is al verwijderd\")"
   ]
  },
  {
   "cell_type": "markdown",
   "metadata": {},
   "source": [
    "##### Afspraken tijdelijk opslaan"
   ]
  },
  {
   "cell_type": "code",
   "execution_count": 43,
   "metadata": {},
   "outputs": [],
   "source": [
    "if not os.path.exists('../data_merged/merged_afspraken.csv'):\n",
    "    afspraken_merged.to_csv('../data_merged/merged_afspraken.csv', sep=',', index=False)\n",
    "else:\n",
    "    # remove file\n",
    "    os.remove('../data_merged/merged_afspraken.csv')\n",
    "    # save file\n",
    "    afspraken_merged.to_csv('../data_merged/merged_afspraken.csv', sep=',', index=False)"
   ]
  },
  {
   "cell_type": "code",
   "execution_count": 44,
   "metadata": {},
   "outputs": [],
   "source": [
    "try:\n",
    "    del afspraken_merged\n",
    "except:\n",
    "    print(\"Data is niet meer beschikbaar / is al verwijderd\")"
   ]
  },
  {
   "cell_type": "markdown",
   "metadata": {},
   "source": [
    "#### 3. Alles van Campagnes mergen --> ook CDI_Pageview en CDI_Visits"
   ]
  },
  {
   "cell_type": "markdown",
   "metadata": {},
   "source": [
    "##### Campagne mergen met Sessie"
   ]
  },
  {
   "cell_type": "code",
   "execution_count": 45,
   "metadata": {},
   "outputs": [
    {
     "data": {
      "text/plain": [
       "(4092, 11)"
      ]
     },
     "execution_count": 45,
     "metadata": {},
     "output_type": "execute_result"
    }
   ],
   "source": [
    "campagne = pd.read_csv('../data_clean/Campagne_fixed.csv', sep=',')\n",
    "campagne.shape"
   ]
  },
  {
   "cell_type": "code",
   "execution_count": 46,
   "metadata": {},
   "outputs": [
    {
     "data": {
      "text/plain": [
       "(9403, 8)"
      ]
     },
     "execution_count": 46,
     "metadata": {},
     "output_type": "execute_result"
    }
   ],
   "source": [
    "sessie = pd.read_csv('../data_clean/Sessie_fixed.csv', sep=',')\n",
    "sessie.shape"
   ]
  },
  {
   "cell_type": "code",
   "execution_count": 47,
   "metadata": {},
   "outputs": [
    {
     "data": {
      "text/plain": [
       "(9403, 19)"
      ]
     },
     "execution_count": 47,
     "metadata": {},
     "output_type": "execute_result"
    }
   ],
   "source": [
    "campagnes_merged = campagne.merge(sessie, left_on='campagne_campagne_id', right_on='sessie_campagne', how='inner')\n",
    "campagnes_merged.shape"
   ]
  },
  {
   "cell_type": "code",
   "execution_count": 48,
   "metadata": {},
   "outputs": [],
   "source": [
    "try:\n",
    "    del campagne\n",
    "    del sessie\n",
    "except:\n",
    "    print(\"Data is niet meer beschikbaar / is al verwijderd\")"
   ]
  },
  {
   "cell_type": "markdown",
   "metadata": {},
   "source": [
    "##### Campagne mergen met Inschrijving"
   ]
  },
  {
   "cell_type": "code",
   "execution_count": 49,
   "metadata": {},
   "outputs": [
    {
     "data": {
      "text/plain": [
       "(49175, 8)"
      ]
     },
     "execution_count": 49,
     "metadata": {},
     "output_type": "execute_result"
    }
   ],
   "source": [
    "inschrijving = pd.read_csv('../data_clean/Inschrijving_fixed.csv', sep=',')\n",
    "inschrijving.shape"
   ]
  },
  {
   "cell_type": "code",
   "execution_count": 50,
   "metadata": {},
   "outputs": [
    {
     "data": {
      "text/plain": [
       "(112742, 27)"
      ]
     },
     "execution_count": 50,
     "metadata": {},
     "output_type": "execute_result"
    }
   ],
   "source": [
    "campagnes_merged = campagnes_merged.merge(inschrijving, left_on='campagne_campagne_id', right_on='inschrijving_campagne', how='inner')\n",
    "campagnes_merged.shape"
   ]
  },
  {
   "cell_type": "code",
   "execution_count": 51,
   "metadata": {},
   "outputs": [],
   "source": [
    "try:\n",
    "    del inschrijving\n",
    "except:\n",
    "    print(\"Data is niet meer beschikbaar / is al verwijderd\")"
   ]
  },
  {
   "cell_type": "markdown",
   "metadata": {},
   "source": [
    "##### Campagnes mergen met Sessie inschrijving"
   ]
  },
  {
   "cell_type": "code",
   "execution_count": 52,
   "metadata": {},
   "outputs": [
    {
     "data": {
      "text/plain": [
       "(88309, 3)"
      ]
     },
     "execution_count": 52,
     "metadata": {},
     "output_type": "execute_result"
    }
   ],
   "source": [
    "sessie_inschrijving = pd.read_csv('../data_clean/Sessie_inschrijving_fixed.csv', sep=',')\n",
    "sessie_inschrijving.shape"
   ]
  },
  {
   "cell_type": "code",
   "execution_count": 53,
   "metadata": {},
   "outputs": [
    {
     "data": {
      "text/plain": [
       "(8139508, 30)"
      ]
     },
     "execution_count": 53,
     "metadata": {},
     "output_type": "execute_result"
    }
   ],
   "source": [
    "campagnes_merged = campagnes_merged.merge(sessie_inschrijving, left_on='sessie_sessie_id', right_on='sessieinschrijving_sessie', how='inner')\n",
    "campagnes_merged.shape"
   ]
  },
  {
   "cell_type": "code",
   "execution_count": 54,
   "metadata": {},
   "outputs": [],
   "source": [
    "try:\n",
    "    del sessie_inschrijving\n",
    "except:\n",
    "    print(\"Data is niet meer beschikbaar / is al verwijderd\")"
   ]
  },
  {
   "cell_type": "code",
   "execution_count": 55,
   "metadata": {},
   "outputs": [],
   "source": [
    "# campagnes_merged.columns # campagne_campagne_id"
   ]
  },
  {
   "cell_type": "code",
   "execution_count": 56,
   "metadata": {},
   "outputs": [],
   "source": [
    "try:\n",
    "    campagnes_merged.drop(['inschrijving_campagne', 'inschrijving_campagne_naam_', 'sessie_campagne', 'sessieinschrijving_sessie', 'sessieinschrijving_inschrijving', 'sessieinschrijving_sessieinschrijving_id'], axis=1, inplace=True)\n",
    "    campagnes_merged.drop_duplicates(inplace=True)\n",
    "    campagnes_merged.shape\n",
    "except:\n",
    "    print(\"Kolommen zijn al gedropped\")"
   ]
  },
  {
   "cell_type": "code",
   "execution_count": 57,
   "metadata": {},
   "outputs": [
    {
     "data": {
      "text/plain": [
       "(111863, 24)"
      ]
     },
     "execution_count": 57,
     "metadata": {},
     "output_type": "execute_result"
    }
   ],
   "source": [
    "campagnes_merged.shape"
   ]
  },
  {
   "cell_type": "markdown",
   "metadata": {},
   "source": [
    "##### Hier campagne merged tijdelijk opslaan -- duurt +- 1 minuut"
   ]
  },
  {
   "cell_type": "code",
   "execution_count": 58,
   "metadata": {},
   "outputs": [],
   "source": [
    "if not os.path.exists('../data_merged/merged_campagnes.csv'):\n",
    "    campagnes_merged.to_csv('../data_merged/merged_campagnes.csv', sep=',', index=False)\n",
    "else:\n",
    "    # remove file\n",
    "    os.remove('../data_merged/merged_campagnes.csv')\n",
    "    # save file\n",
    "    campagnes_merged.to_csv('../data_merged/merged_campagnes.csv', sep=',', index=False)"
   ]
  },
  {
   "cell_type": "code",
   "execution_count": 59,
   "metadata": {},
   "outputs": [],
   "source": [
    "try:\n",
    "    del campagnes_merged\n",
    "except:\n",
    "    print(\"Data is niet meer beschikbaar / is al verwijderd\")"
   ]
  },
  {
   "cell_type": "markdown",
   "metadata": {},
   "source": [
    "##### Pageviews and Visits mergen om daarna met campagne_merged te mergen"
   ]
  },
  {
   "cell_type": "code",
   "execution_count": 60,
   "metadata": {},
   "outputs": [
    {
     "data": {
      "text/plain": [
       "(1651, 20)"
      ]
     },
     "execution_count": 60,
     "metadata": {},
     "output_type": "execute_result"
    }
   ],
   "source": [
    "pageview = pd.read_csv('../data_clean/CDI_pageviews_fixed.csv', sep=',')\n",
    "pageview.shape"
   ]
  },
  {
   "cell_type": "code",
   "execution_count": 61,
   "metadata": {},
   "outputs": [],
   "source": [
    "# list(pageview.columns) # visit"
   ]
  },
  {
   "cell_type": "code",
   "execution_count": 62,
   "metadata": {},
   "outputs": [
    {
     "data": {
      "text/plain": [
       "(24444, 34)"
      ]
     },
     "execution_count": 62,
     "metadata": {},
     "output_type": "execute_result"
    }
   ],
   "source": [
    "visits = pd.read_csv('../data_clean/CDI_visits_fixed.csv', sep=',')\n",
    "visits.drop(['visit_campagne_code'], axis=1, inplace=True)\n",
    "visits.shape"
   ]
  },
  {
   "cell_type": "code",
   "execution_count": 63,
   "metadata": {},
   "outputs": [],
   "source": [
    "# list(visits.columns) # visit_visit_id"
   ]
  },
  {
   "cell_type": "code",
   "execution_count": 64,
   "metadata": {},
   "outputs": [
    {
     "data": {
      "text/plain": [
       "(25187, 54)"
      ]
     },
     "execution_count": 64,
     "metadata": {},
     "output_type": "execute_result"
    }
   ],
   "source": [
    "visits_pageviews_merged = visits.merge(pageview, left_on='visit_visit_id', right_on='visit', how='left')\n",
    "visits_pageviews_merged.drop_duplicates(inplace=True)\n",
    "visits_pageviews_merged.shape"
   ]
  },
  {
   "cell_type": "code",
   "execution_count": 65,
   "metadata": {},
   "outputs": [],
   "source": [
    "try:\n",
    "    del pageview\n",
    "    del visits\n",
    "except:\n",
    "    print(\"Data is niet meer beschikbaar / is al verwijderd\")"
   ]
  },
  {
   "cell_type": "code",
   "execution_count": 66,
   "metadata": {},
   "outputs": [],
   "source": [
    "visits_pageviews_merged.drop(['visit', 'visit_campaign', 'visit_contact'], axis=1, inplace=True)"
   ]
  },
  {
   "cell_type": "code",
   "execution_count": 67,
   "metadata": {},
   "outputs": [],
   "source": [
    "# visits_pageviews_merged.columns"
   ]
  },
  {
   "cell_type": "markdown",
   "metadata": {},
   "source": [
    "##### Campagne_merged mergen met visits_pageviews_merged"
   ]
  },
  {
   "cell_type": "code",
   "execution_count": 68,
   "metadata": {},
   "outputs": [],
   "source": [
    "campagnes_merged = pd.read_csv('../data_merged/merged_campagnes.csv', sep=',')"
   ]
  },
  {
   "cell_type": "code",
   "execution_count": 69,
   "metadata": {},
   "outputs": [
    {
     "data": {
      "text/plain": [
       "(532797, 75)"
      ]
     },
     "execution_count": 69,
     "metadata": {},
     "output_type": "execute_result"
    }
   ],
   "source": [
    "campagnes_merged = campagnes_merged.merge(visits_pageviews_merged, left_on='campagne_campagne_id', right_on='campaign', how='inner')\n",
    "campagnes_merged.shape"
   ]
  },
  {
   "cell_type": "markdown",
   "metadata": {},
   "source": [
    "##### Campagnes_merged opslaan"
   ]
  },
  {
   "cell_type": "code",
   "execution_count": 70,
   "metadata": {},
   "outputs": [],
   "source": [
    "if not os.path.exists('../data_merged/merged_campagnes.csv'):\n",
    "    campagnes_merged.to_csv('../data_merged/merged_campagnes.csv', sep=',', index=False)\n",
    "else:\n",
    "    # remove file\n",
    "    os.remove('../data_merged/merged_campagnes.csv')\n",
    "    # save file\n",
    "    campagnes_merged.to_csv('../data_merged/merged_campagnes.csv', sep=',', index=False)"
   ]
  },
  {
   "cell_type": "code",
   "execution_count": 71,
   "metadata": {},
   "outputs": [],
   "source": [
    "try:\n",
    "    del campagnes_merged\n",
    "except:\n",
    "    print(\"Data is niet meer beschikbaar / is al verwijderd\")"
   ]
  },
  {
   "cell_type": "markdown",
   "metadata": {},
   "source": [
    "#### 4. Alles mergen tot 1 dataframe"
   ]
  },
  {
   "cell_type": "code",
   "execution_count": 72,
   "metadata": {},
   "outputs": [
    {
     "name": "stderr",
     "output_type": "stream",
     "text": [
      "C:\\Users\\buyse\\AppData\\Local\\Temp\\ipykernel_1176\\391083502.py:1: DtypeWarning: Columns (4) have mixed types. Specify dtype option on import or set low_memory=False.\n",
      "  accounts_merged = pd.read_csv('../data_merged/merged_accounts.csv', sep=',')\n"
     ]
    },
    {
     "data": {
      "text/plain": [
       "(1771670, 67)"
      ]
     },
     "execution_count": 72,
     "metadata": {},
     "output_type": "execute_result"
    }
   ],
   "source": [
    "accounts_merged = pd.read_csv('../data_merged/merged_accounts.csv', sep=',')\n",
    "accounts_merged.shape"
   ]
  },
  {
   "cell_type": "code",
   "execution_count": 73,
   "metadata": {},
   "outputs": [],
   "source": [
    "# accounts_merged.columns # contact_contactpersoon_id"
   ]
  },
  {
   "cell_type": "code",
   "execution_count": 74,
   "metadata": {},
   "outputs": [
    {
     "name": "stderr",
     "output_type": "stream",
     "text": [
      "C:\\Users\\buyse\\AppData\\Local\\Temp\\ipykernel_1176\\550076179.py:1: DtypeWarning: Columns (23,44) have mixed types. Specify dtype option on import or set low_memory=False.\n",
      "  campagnes_merged = pd.read_csv('../data_merged/merged_campagnes.csv', sep=',')\n"
     ]
    },
    {
     "data": {
      "text/plain": [
       "(532797, 75)"
      ]
     },
     "execution_count": 74,
     "metadata": {},
     "output_type": "execute_result"
    }
   ],
   "source": [
    "campagnes_merged = pd.read_csv('../data_merged/merged_campagnes.csv', sep=',')\n",
    "campagnes_merged.shape"
   ]
  },
  {
   "cell_type": "code",
   "execution_count": 75,
   "metadata": {},
   "outputs": [],
   "source": [
    "# campagnes_merged.columns # inschrijving_contactfiche"
   ]
  },
  {
   "cell_type": "markdown",
   "metadata": {},
   "source": [
    "##### Merge account_merged en campagnes_merged"
   ]
  },
  {
   "cell_type": "code",
   "execution_count": 76,
   "metadata": {},
   "outputs": [
    {
     "data": {
      "text/plain": [
       "(3980921, 142)"
      ]
     },
     "execution_count": 76,
     "metadata": {},
     "output_type": "execute_result"
    }
   ],
   "source": [
    "acc_camp_merged = accounts_merged.merge(campagnes_merged, left_on='contact_contactpersoon_id', right_on='inschrijving_contactfiche', how='inner')\n",
    "acc_camp_merged.shape"
   ]
  },
  {
   "cell_type": "code",
   "execution_count": 81,
   "metadata": {},
   "outputs": [],
   "source": [
    "acc_camp_merged.drop(['inschrijving_contactfiche', 'financieledata_ondernemingid', 'contact_account', 'contact_persoon_id', 'contactfunctie_functie', 'campaign', 'contact'], axis=1, inplace=True)"
   ]
  },
  {
   "cell_type": "markdown",
   "metadata": {},
   "source": [
    "##### Merge acc_camp_merged met afspraken_merged"
   ]
  },
  {
   "cell_type": "code",
   "execution_count": 83,
   "metadata": {},
   "outputs": [
    {
     "data": {
      "text/plain": [
       "(7754, 9)"
      ]
     },
     "execution_count": 83,
     "metadata": {},
     "output_type": "execute_result"
    }
   ],
   "source": [
    "afspraken_merged = pd.read_csv('../data_merged/merged_afspraken.csv', sep=',')\n",
    "afspraken_merged.shape"
   ]
  },
  {
   "cell_type": "code",
   "execution_count": 84,
   "metadata": {},
   "outputs": [
    {
     "data": {
      "text/plain": [
       "Index(['afspraak_afspraak_id', 'afspraak_thema', 'afspraak_subthema',\n",
       "       'afspraak_onderwerp', 'afspraak_eindtijd', 'afspraak_keyphrases',\n",
       "       'afspraak_betreft', 'activiteitvereistcontact_activityid_id',\n",
       "       'activiteitvereistcontact_reqattendee'],\n",
       "      dtype='object')"
      ]
     },
     "execution_count": 84,
     "metadata": {},
     "output_type": "execute_result"
    }
   ],
   "source": [
    "afspraken_merged.columns"
   ]
  },
  {
   "cell_type": "code",
   "execution_count": 87,
   "metadata": {},
   "outputs": [],
   "source": [
    "merged_total = acc_camp_merged.merge(afspraken_merged, left_on='contact_contactpersoon_id', right_on='activiteitvereistcontact_reqattendee', how='inner')"
   ]
  },
  {
   "cell_type": "code",
   "execution_count": 88,
   "metadata": {},
   "outputs": [
    {
     "data": {
      "text/plain": [
       "(3500992, 144)"
      ]
     },
     "execution_count": 88,
     "metadata": {},
     "output_type": "execute_result"
    }
   ],
   "source": [
    "merged_total.shape"
   ]
  },
  {
   "cell_type": "markdown",
   "metadata": {},
   "source": [
    "##### Merged_total opslaan -- duurt +- 2,5 minuten"
   ]
  },
  {
   "cell_type": "code",
   "execution_count": 90,
   "metadata": {},
   "outputs": [],
   "source": [
    "merged_total.to_csv('../data_merged/merged_total.csv', sep=',', index=False)"
   ]
  },
  {
   "cell_type": "code",
   "execution_count": 95,
   "metadata": {},
   "outputs": [
    {
     "name": "stdout",
     "output_type": "stream",
     "text": [
      "Data is niet meer beschikbaar / is al verwijderd\n"
     ]
    }
   ],
   "source": [
    "try:\n",
    "    del accounts_merged\n",
    "    del campagnes_merged\n",
    "    del acc_camp_merged\n",
    "    del afspraken_merged\n",
    "    \n",
    "except:\n",
    "    print(\"Data is niet meer beschikbaar / is al verwijderd\")"
   ]
  }
 ],
 "metadata": {
  "kernelspec": {
   "display_name": "Python 3",
   "language": "python",
   "name": "python3"
  },
  "language_info": {
   "codemirror_mode": {
    "name": "ipython",
    "version": 3
   },
   "file_extension": ".py",
   "mimetype": "text/x-python",
   "name": "python",
   "nbconvert_exporter": "python",
   "pygments_lexer": "ipython3",
   "version": "3.11.3"
  }
 },
 "nbformat": 4,
 "nbformat_minor": 2
}
