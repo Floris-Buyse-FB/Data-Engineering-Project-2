{
 "cells": [
  {
   "cell_type": "code",
   "execution_count": 1,
   "metadata": {},
   "outputs": [],
   "source": [
    "import pandas as pd\n",
    "import pyarrow as pa\n",
    "import pyarrow.parquet as pq"
   ]
  },
  {
   "cell_type": "markdown",
   "metadata": {},
   "source": [
    "### Eerst gaan we alle datafiles die we nodig hebben mergen tot 1 dataframe"
   ]
  },
  {
   "cell_type": "markdown",
   "metadata": {},
   "source": [
    "#### 1. Alles van Account mergen"
   ]
  },
  {
   "cell_type": "markdown",
   "metadata": {},
   "source": [
    "##### Account mergen met activiteit tabellen"
   ]
  },
  {
   "cell_type": "code",
   "execution_count": 2,
   "metadata": {},
   "outputs": [
    {
     "data": {
      "text/plain": [
       "(42242, 22)"
      ]
     },
     "execution_count": 2,
     "metadata": {},
     "output_type": "execute_result"
    }
   ],
   "source": [
    "data_acc = pd.read_csv('../data_clean/Account_fixed.csv', sep=',')\n",
    "data_acti = pd.read_csv('../data_clean/Activiteitscode_fixed.csv', sep=\",\")\n",
    "data_acc_acti = pd.read_csv('../data_clean/Account_activiteitscode_fixed.csv', sep=\",\")\n",
    "\n",
    "data_acc = data_acc[data_acc['account_reden_van_status'] != 'Inactief']\n",
    "data_acc = data_acc[data_acc['account_reden_van_status'] != 'Stopzetting']\n",
    "data_acc = data_acc[data_acc['account_adres_provincie'] == 'Oost-Vlaanderen']\n",
    "data_acti = data_acti[data_acti['activiteitscode_status'] == 'Actief']\n",
    "\n",
    "# merge account_activiteitscode with activiteitscode\n",
    "merged_relation = data_acc_acti.merge(data_acti, left_on='account_activiteitscode_activiteitscode', right_on='activiteitscode_activiteitscode_id', how='inner')\n",
    "# merge account with the merged relation from above\n",
    "accounts_merged = data_acc.merge(merged_relation, left_on='account_account_id', right_on='account_activiteitscode_account', how='left').fillna('Geen')\n",
    "accounts_merged.shape"
   ]
  },
  {
   "cell_type": "code",
   "execution_count": 3,
   "metadata": {},
   "outputs": [],
   "source": [
    "# RAM vrijmaken\n",
    "try:\n",
    "    del data_acc\n",
    "    del data_acti\n",
    "    del data_acc_acti\n",
    "    del merged_relation\n",
    "except:\n",
    "    print(\"Data is niet meer beschikbaar / is al verwijderd\")"
   ]
  },
  {
   "cell_type": "code",
   "execution_count": 4,
   "metadata": {},
   "outputs": [
    {
     "data": {
      "text/plain": [
       "(42242, 22)"
      ]
     },
     "execution_count": 4,
     "metadata": {},
     "output_type": "execute_result"
    }
   ],
   "source": [
    "accounts_merged.shape"
   ]
  },
  {
   "cell_type": "markdown",
   "metadata": {},
   "source": [
    "##### Accounts mergen met financiële data"
   ]
  },
  {
   "cell_type": "code",
   "execution_count": 5,
   "metadata": {},
   "outputs": [],
   "source": [
    "# financiele_data = pd.read_csv('../data_clean/Account_financiële_data_fixed.csv', sep=',')\n",
    "# financiele_data.shape"
   ]
  },
  {
   "cell_type": "code",
   "execution_count": 6,
   "metadata": {},
   "outputs": [],
   "source": [
    "# accounts_merged = accounts_merged.merge(financiele_data, left_on='account_account_id', right_on='financieledata_ondernemingid', how='inner')\n",
    "# accounts_merged.shape"
   ]
  },
  {
   "cell_type": "markdown",
   "metadata": {},
   "source": [
    "##### Accounts merge met Contactfiches"
   ]
  },
  {
   "cell_type": "code",
   "execution_count": 7,
   "metadata": {},
   "outputs": [
    {
     "data": {
      "text/plain": [
       "(70413, 6)"
      ]
     },
     "execution_count": 7,
     "metadata": {},
     "output_type": "execute_result"
    }
   ],
   "source": [
    "contactfiches = pd.read_csv('../data_clean/Contact_fixed.csv', sep=',')\n",
    "contactfiches = contactfiches[contactfiches['contact_status'] != 'Inactief']\n",
    "contactfiches['contact_functietitel'] = contactfiches['contact_functietitel'].str.lower().str.replace(r'[^\\w\\s]', '', regex=True) \\\n",
    "                                                        .str.replace('  ', ' ').str.strip()\n",
    "contactfiches.shape"
   ]
  },
  {
   "cell_type": "code",
   "execution_count": 8,
   "metadata": {},
   "outputs": [
    {
     "data": {
      "text/plain": [
       "(68720, 28)"
      ]
     },
     "execution_count": 8,
     "metadata": {},
     "output_type": "execute_result"
    }
   ],
   "source": [
    "accounts_merged = accounts_merged.merge(contactfiches, left_on='account_account_id', right_on='contact_account', how='inner')\n",
    "accounts_merged.shape"
   ]
  },
  {
   "cell_type": "markdown",
   "metadata": {},
   "source": [
    "##### Accounts mergen met Functie"
   ]
  },
  {
   "cell_type": "code",
   "execution_count": 9,
   "metadata": {},
   "outputs": [
    {
     "data": {
      "text/plain": [
       "((113815, 2), (71, 2))"
      ]
     },
     "execution_count": 9,
     "metadata": {},
     "output_type": "execute_result"
    }
   ],
   "source": [
    "contactfiches_functies = pd.read_csv('../data_clean/Contact_functie_fixed.csv', sep=',')\n",
    "functies = pd.read_csv('../data_clean/Functie_fixed.csv', sep=',')\n",
    "contactfiches_functies.shape, functies.shape"
   ]
  },
  {
   "cell_type": "code",
   "execution_count": 10,
   "metadata": {},
   "outputs": [
    {
     "data": {
      "text/plain": [
       "Index(['contactfunctie_contactpersoon', 'contactfunctie_functie'], dtype='object')"
      ]
     },
     "execution_count": 10,
     "metadata": {},
     "output_type": "execute_result"
    }
   ],
   "source": [
    "contactfiches_functies.columns"
   ]
  },
  {
   "cell_type": "code",
   "execution_count": 11,
   "metadata": {},
   "outputs": [],
   "source": [
    "accounts_merged = accounts_merged.merge(contactfiches_functies, left_on='contact_contactpersoon_id', right_on='contactfunctie_contactpersoon', how='inner')"
   ]
  },
  {
   "cell_type": "code",
   "execution_count": 12,
   "metadata": {},
   "outputs": [
    {
     "data": {
      "text/plain": [
       "(92826, 32)"
      ]
     },
     "execution_count": 12,
     "metadata": {},
     "output_type": "execute_result"
    }
   ],
   "source": [
    "accounts_merged = accounts_merged.merge(functies, left_on='contactfunctie_functie', right_on='functie_functie_id', how='inner')\n",
    "accounts_merged.shape"
   ]
  },
  {
   "cell_type": "markdown",
   "metadata": {},
   "source": [
    "##### Accounts merge met Personen"
   ]
  },
  {
   "cell_type": "code",
   "execution_count": 13,
   "metadata": {},
   "outputs": [],
   "source": [
    "df_persoon = pd.read_csv('../data_clean/Persoon_fixed.csv')\n",
    "\n",
    "df_persoon = df_persoon[df_persoon['persoon_reden_van_status'] == 'Actief']\n",
    "\n",
    "for col in df_persoon.columns:\n",
    "    if col.__contains__('persoon_mail_regio'):\n",
    "        df_persoon.drop(col, axis=1, inplace=True)\n",
    "\n",
    "##############################################################################################################\n",
    "#### ACCOUNT CONTACT PERSOON MERGE ####\n",
    "##############################################################################################################\n",
    "\n",
    "accounts_merged = accounts_merged.merge(df_persoon, left_on='contact_persoon_id', right_on='persoon_persoon_id', how='left')\n",
    "\n",
    "# NaN waarden opvullen\n",
    "for col in accounts_merged.columns:\n",
    "    if col.__contains__('persoon_mail_type') or col.__contains__('persoon_mail_thema'):\n",
    "        accounts_merged[col] = accounts_merged[col].fillna(0)\n",
    "\n",
    "accounts_merged['persoon_marketingcommunicatie'] = accounts_merged['persoon_marketingcommunicatie'].fillna('-1')\n",
    "accounts_merged['persoon_marketingcommunicatie'] = accounts_merged['persoon_marketingcommunicatie'] \\\n",
    "                                                            .str.replace('Strikt', '0').str.replace('Flexibel', '1') \\\n",
    "                                                            .str.replace('Uitgeschreven', '-1').str.replace('unknown', '-1').astype(int)\n",
    "\n",
    "marketing_pressure_cols = [col for col in accounts_merged.columns if col.__contains__('persoon_mail_type') \n",
    "                           or col.__contains__('persoon_mail_thema') or col.__contains__('persoon_marketingcommunicatie')]\n",
    "\n",
    "marketing_pressure_cols = [col for col in accounts_merged.columns if col.__contains__('persoon_mail_type') \n",
    "                           or col.__contains__('persoon_mail_thema') or col.__contains__('persoon_marketingcommunicatie')]\n",
    "\n",
    "accounts_merged['marketing_pressure'] = accounts_merged[marketing_pressure_cols].sum(axis=1)\n",
    "accounts_merged['marketing_pressure'] = accounts_merged['marketing_pressure'].astype(int)\n",
    "accounts_merged.drop(marketing_pressure_cols, axis=1, inplace=True)"
   ]
  },
  {
   "cell_type": "markdown",
   "metadata": {},
   "source": [
    "#### 2. Alles van Afspraken mergen"
   ]
  },
  {
   "cell_type": "code",
   "execution_count": 14,
   "metadata": {},
   "outputs": [],
   "source": [
    "# RAM vrijmaken\n",
    "try:\n",
    "    # del financiele_data\n",
    "    del contactfiches\n",
    "    del contactfiches_functies\n",
    "    del functies\n",
    "except:\n",
    "    print(\"Data is niet meer beschikbaar / is al verwijderd\")"
   ]
  },
  {
   "cell_type": "code",
   "execution_count": 15,
   "metadata": {},
   "outputs": [],
   "source": [
    "afspraak_betreft_account_cleaned = pd.read_csv('../data_clean/Afspraak_betreft_account_cleaned_fixed.csv', sep=',')\n",
    "afspraak_account_gelinkt_cleaned = pd.read_csv('../data_clean/Afspraak_account_gelinkt_cleaned_fixed.csv', sep=',')\n",
    "afspraak_betreft_contact_cleaned = pd.read_csv('../data_clean/Afspraak_betreft_contact_cleaned_fixed.csv', sep=',')"
   ]
  },
  {
   "cell_type": "code",
   "execution_count": 16,
   "metadata": {},
   "outputs": [
    {
     "data": {
      "text/plain": [
       "((4707, 7), (2820, 7), (2460, 7))"
      ]
     },
     "execution_count": 16,
     "metadata": {},
     "output_type": "execute_result"
    }
   ],
   "source": [
    "afspraak_betreft_account_cleaned.shape, afspraak_account_gelinkt_cleaned.shape, afspraak_betreft_contact_cleaned.shape"
   ]
  },
  {
   "cell_type": "code",
   "execution_count": 17,
   "metadata": {},
   "outputs": [],
   "source": [
    "afspraak_betreft_account_cleaned = afspraak_betreft_account_cleaned.drop(['afspraak_betreft_account_betreft_id'], axis=1)\n",
    "afspraak_account_gelinkt_cleaned = afspraak_account_gelinkt_cleaned.drop(['afspraak_account_gelinkt_account'], axis=1)\n",
    "afspraak_betreft_contact_cleaned = afspraak_betreft_contact_cleaned.drop(['afspraak_betreft_contactfiche_betreft_id'], axis=1)"
   ]
  },
  {
   "cell_type": "code",
   "execution_count": 18,
   "metadata": {},
   "outputs": [],
   "source": [
    "afspraak_betreft_account_cleaned.columns = ['afspraak_afspraak_id', 'afspraak_thema', 'afspraak_subthema', 'afspraak_onderwerp', 'afspraak_eindtijd', 'afspraak_keyphrases']\n",
    "afspraak_account_gelinkt_cleaned.columns = ['afspraak_afspraak_id', 'afspraak_thema', 'afspraak_subthema', 'afspraak_onderwerp', 'afspraak_eindtijd', 'afspraak_keyphrases']\n",
    "afspraak_betreft_contact_cleaned.columns = ['afspraak_afspraak_id', 'afspraak_thema', 'afspraak_subthema', 'afspraak_onderwerp', 'afspraak_eindtijd', 'afspraak_keyphrases']"
   ]
  },
  {
   "cell_type": "code",
   "execution_count": 19,
   "metadata": {},
   "outputs": [],
   "source": [
    "# afspraak_betreft_account_cleaned[\"afspraak_betreft\"] = \"account\"\n",
    "# afspraak_account_gelinkt_cleaned[\"afspraak_betreft\"] = \"account\"\n",
    "# afspraak_betreft_contact_cleaned[\"afspraak_betreft\"] = \"contact\""
   ]
  },
  {
   "cell_type": "code",
   "execution_count": 20,
   "metadata": {},
   "outputs": [],
   "source": [
    "afspraken_merged = pd.concat([afspraak_betreft_account_cleaned, afspraak_account_gelinkt_cleaned, afspraak_betreft_contact_cleaned])"
   ]
  },
  {
   "cell_type": "code",
   "execution_count": 21,
   "metadata": {},
   "outputs": [
    {
     "data": {
      "text/html": [
       "<div>\n",
       "<style scoped>\n",
       "    .dataframe tbody tr th:only-of-type {\n",
       "        vertical-align: middle;\n",
       "    }\n",
       "\n",
       "    .dataframe tbody tr th {\n",
       "        vertical-align: top;\n",
       "    }\n",
       "\n",
       "    .dataframe thead th {\n",
       "        text-align: right;\n",
       "    }\n",
       "</style>\n",
       "<table border=\"1\" class=\"dataframe\">\n",
       "  <thead>\n",
       "    <tr style=\"text-align: right;\">\n",
       "      <th></th>\n",
       "      <th>afspraak_afspraak_id</th>\n",
       "    </tr>\n",
       "  </thead>\n",
       "  <tbody>\n",
       "    <tr>\n",
       "      <th>0</th>\n",
       "      <td>00082DAA-24BF-ED11-83FF-6045BD8952CE</td>\n",
       "    </tr>\n",
       "    <tr>\n",
       "      <th>1</th>\n",
       "      <td>00109C77-4D09-EB11-8114-001DD8B72B61</td>\n",
       "    </tr>\n",
       "    <tr>\n",
       "      <th>2</th>\n",
       "      <td>0011A5D9-CC9A-EC11-B400-0022488005A7</td>\n",
       "    </tr>\n",
       "    <tr>\n",
       "      <th>3</th>\n",
       "      <td>0016532E-14E3-EC11-BB3C-000D3ABCA38B</td>\n",
       "    </tr>\n",
       "    <tr>\n",
       "      <th>4</th>\n",
       "      <td>003760C1-13B4-EC11-983F-00224883C880</td>\n",
       "    </tr>\n",
       "  </tbody>\n",
       "</table>\n",
       "</div>"
      ],
      "text/plain": [
       "                   afspraak_afspraak_id\n",
       "0  00082DAA-24BF-ED11-83FF-6045BD8952CE\n",
       "1  00109C77-4D09-EB11-8114-001DD8B72B61\n",
       "2  0011A5D9-CC9A-EC11-B400-0022488005A7\n",
       "3  0016532E-14E3-EC11-BB3C-000D3ABCA38B\n",
       "4  003760C1-13B4-EC11-983F-00224883C880"
      ]
     },
     "execution_count": 21,
     "metadata": {},
     "output_type": "execute_result"
    }
   ],
   "source": [
    "afspraken = pd.read_csv('../data_clean/Afspraak_alle_fixed.csv', sep=',')\n",
    "afspraken.columns = ['afspraak_afspraak_id']\n",
    "afspraken.head()"
   ]
  },
  {
   "cell_type": "code",
   "execution_count": 22,
   "metadata": {},
   "outputs": [],
   "source": [
    "afspraken_merged = pd.merge(afspraken, afspraken_merged, on='afspraak_afspraak_id', how='inner')\n",
    "afspraken_merged.reset_index(drop=True, inplace=True)"
   ]
  },
  {
   "cell_type": "code",
   "execution_count": 23,
   "metadata": {},
   "outputs": [
    {
     "name": "stdout",
     "output_type": "stream",
     "text": [
      "<class 'pandas.core.frame.DataFrame'>\n",
      "RangeIndex: 9987 entries, 0 to 9986\n",
      "Data columns (total 6 columns):\n",
      " #   Column                Non-Null Count  Dtype \n",
      "---  ------                --------------  ----- \n",
      " 0   afspraak_afspraak_id  9987 non-null   object\n",
      " 1   afspraak_thema        9987 non-null   object\n",
      " 2   afspraak_subthema     9987 non-null   object\n",
      " 3   afspraak_onderwerp    9987 non-null   object\n",
      " 4   afspraak_eindtijd     9987 non-null   object\n",
      " 5   afspraak_keyphrases   9987 non-null   object\n",
      "dtypes: object(6)\n",
      "memory usage: 468.3+ KB\n"
     ]
    }
   ],
   "source": [
    "afspraken_merged.info()"
   ]
  },
  {
   "cell_type": "code",
   "execution_count": 24,
   "metadata": {},
   "outputs": [],
   "source": [
    "# RAM vrijmaken\n",
    "try:\n",
    "    del afspraak_betreft_account_cleaned\n",
    "    del afspraak_account_gelinkt_cleaned\n",
    "    del afspraak_betreft_contact_cleaned\n",
    "    del afspraken\n",
    "except:\n",
    "    print(\"Data is niet meer beschikbaar / is al verwijderd\")"
   ]
  },
  {
   "cell_type": "code",
   "execution_count": 25,
   "metadata": {},
   "outputs": [
    {
     "name": "stdout",
     "output_type": "stream",
     "text": [
      "<class 'pandas.core.frame.DataFrame'>\n",
      "Index: 7362 entries, 0 to 9985\n",
      "Data columns (total 6 columns):\n",
      " #   Column                Non-Null Count  Dtype \n",
      "---  ------                --------------  ----- \n",
      " 0   afspraak_afspraak_id  7362 non-null   object\n",
      " 1   afspraak_thema        7362 non-null   object\n",
      " 2   afspraak_subthema     7362 non-null   object\n",
      " 3   afspraak_onderwerp    7362 non-null   object\n",
      " 4   afspraak_eindtijd     7362 non-null   object\n",
      " 5   afspraak_keyphrases   7362 non-null   object\n",
      "dtypes: object(6)\n",
      "memory usage: 402.6+ KB\n"
     ]
    }
   ],
   "source": [
    "afspraken_merged = afspraken_merged.drop_duplicates(subset=['afspraak_afspraak_id'], keep='first')\n",
    "afspraken_merged.info()"
   ]
  },
  {
   "cell_type": "code",
   "execution_count": 26,
   "metadata": {},
   "outputs": [
    {
     "data": {
      "text/plain": [
       "(4346, 2)"
      ]
     },
     "execution_count": 26,
     "metadata": {},
     "output_type": "execute_result"
    }
   ],
   "source": [
    "activiteit_vereist_contact = pd.read_csv('../data_clean/Activiteit_vereist_contact_fixed.csv', sep=',')\n",
    "activiteit_vereist_contact.shape"
   ]
  },
  {
   "cell_type": "code",
   "execution_count": 27,
   "metadata": {},
   "outputs": [
    {
     "name": "stdout",
     "output_type": "stream",
     "text": [
      "<class 'pandas.core.frame.DataFrame'>\n",
      "RangeIndex: 4254 entries, 0 to 4253\n",
      "Data columns (total 8 columns):\n",
      " #   Column                                  Non-Null Count  Dtype \n",
      "---  ------                                  --------------  ----- \n",
      " 0   afspraak_afspraak_id                    4254 non-null   object\n",
      " 1   afspraak_thema                          4254 non-null   object\n",
      " 2   afspraak_subthema                       4254 non-null   object\n",
      " 3   afspraak_onderwerp                      4254 non-null   object\n",
      " 4   afspraak_eindtijd                       4254 non-null   object\n",
      " 5   afspraak_keyphrases                     4254 non-null   object\n",
      " 6   activiteitvereistcontact_activityid_id  4254 non-null   object\n",
      " 7   activiteitvereistcontact_reqattendee    4254 non-null   object\n",
      "dtypes: object(8)\n",
      "memory usage: 266.0+ KB\n"
     ]
    }
   ],
   "source": [
    "afspraken_merged = afspraken_merged.merge(activiteit_vereist_contact, left_on='afspraak_afspraak_id', right_on='activiteitvereistcontact_activityid_id', how='inner')\n",
    "afspraken_merged.info()"
   ]
  },
  {
   "cell_type": "code",
   "execution_count": 28,
   "metadata": {},
   "outputs": [
    {
     "data": {
      "text/plain": [
       "afspraak_thema\n",
       "Lidmaatschap                                       3246\n",
       "Welt 2.0                                            342\n",
       "Plato                                               296\n",
       "Internationaal Ondernemen                            67\n",
       "Digitalisering, IT & Technologie                     65\n",
       "Welt 2.0-2023                                        53\n",
       "Groeien                                              46\n",
       "Innovatie                                            43\n",
       "Welt                                                 26\n",
       "Duurzaam Ondernemen                                  20\n",
       "Familiebedrijven                                     12\n",
       "Algemeen Management                                   8\n",
       "Arbeidsmarkt                                          7\n",
       "Human Resources                                       7\n",
       "Opvolging en Overname                                 3\n",
       "Mobiliteit                                            3\n",
       "Financieel                                            2\n",
       "Netwerking                                            2\n",
       "Logistiek en Transport                                2\n",
       "Internationaal Ondernemen - voor Info en Advies       1\n",
       "Marketing & Sales                                     1\n",
       "Bestuurlijke organisaties                             1\n",
       "Opleidingen                                           1\n",
       "Name: count, dtype: int64"
      ]
     },
     "execution_count": 28,
     "metadata": {},
     "output_type": "execute_result"
    }
   ],
   "source": [
    "afspraken_merged['afspraak_thema'].value_counts()"
   ]
  },
  {
   "cell_type": "markdown",
   "metadata": {},
   "source": [
    "#### 3. Alles van Campagnes mergen"
   ]
  },
  {
   "cell_type": "markdown",
   "metadata": {},
   "source": [
    "##### Campagne mergen met Sessie"
   ]
  },
  {
   "cell_type": "code",
   "execution_count": 29,
   "metadata": {},
   "outputs": [
    {
     "data": {
      "text/plain": [
       "(468, 11)"
      ]
     },
     "execution_count": 29,
     "metadata": {},
     "output_type": "execute_result"
    }
   ],
   "source": [
    "campagne = pd.read_csv('../data_clean/Campagne_fixed.csv', sep=',')\n",
    "campagne.shape"
   ]
  },
  {
   "cell_type": "code",
   "execution_count": 30,
   "metadata": {},
   "outputs": [
    {
     "data": {
      "text/plain": [
       "(1125, 8)"
      ]
     },
     "execution_count": 30,
     "metadata": {},
     "output_type": "execute_result"
    }
   ],
   "source": [
    "sessie = pd.read_csv('../data_clean/Sessie_fixed.csv', sep=',')\n",
    "sessie.shape"
   ]
  },
  {
   "cell_type": "code",
   "execution_count": 31,
   "metadata": {},
   "outputs": [],
   "source": [
    "sessie_themes_grouped = {\n",
    "  'Bryo': ['Bryo'],\n",
    "  'Algemeen': ['Familiebedrijven','Opvolging en Overname','Algemeen Management','Human Resources','Algemeen Management - Intern','Bestuurlijke organisaties'],\n",
    "  'Onderwijs': ['Opleidingen','Persoonlijke vaardigheden','Onderwijs'],\n",
    "  'Logistiek': ['Logistiek en Transport','Haven','Supply Chain','Retail'],\n",
    "  'Welt': ['Welt', 'Welt 2.0', 'Welt 2.0-2023'],\n",
    "  'Ondernemen': ['Starten', 'Internationaal Ondernemen', 'Jong Voka', 'Groeien', 'Stille Kampioenen', 'Samen doorgaan', 'Strategie'],\n",
    "  'Duurzaamheid': ['Energie', 'Duurzaam Ondernemen', 'Milieu', 'Mobiliteit'],\n",
    "  'Lidmaatschap': ['Lidmaatschap'],\n",
    "  'Innovatie en Technologie': ['Innovatie', 'Digitalisering, IT & Technologie'],\n",
    "  'Netwerking': ['Netwerking'],\n",
    "  'Economie': ['Arbeidsmarkt', 'Economie', 'Fiscaal', 'Financieel', 'Marketing & Sales', 'Jobkanaal'],\n",
    "  'Juridisch': ['Bedrijfsjuridisch', 'Juridisch'],\n",
    "  'Veiligheid en communicatie': ['Communicatie', 'Veiligheid & Preventie', 'Welzijn en gezondheidszorg'],\n",
    "  'Andere': ['Plato', 'Ruimtelijke ordening en Infrastructuur', 'Regeringsvorming', 'Industrie', 'Aankoop', 'Privé&Vrije tijd', 'Aantrekkelijke regio', 'Coronavirus']\n",
    "}\n",
    "\n",
    "def map_thema(thema):\n",
    "    for category, themes in sessie_themes_grouped.items():\n",
    "        if thema in themes:\n",
    "            return category\n",
    "    return thema\n",
    "\n",
    "sessie['sessie_thema_naam_'] = sessie['sessie_thema_naam_'].apply(map_thema)"
   ]
  },
  {
   "cell_type": "code",
   "execution_count": 32,
   "metadata": {},
   "outputs": [
    {
     "data": {
      "text/plain": [
       "sessie_thema_naam_\n",
       "Algemeen                      381\n",
       "Netwerking                    205\n",
       "Ondernemen                    154\n",
       "Economie                      141\n",
       "Innovatie en Technologie      118\n",
       "Duurzaamheid                   49\n",
       "Logistiek                      21\n",
       "Lidmaatschap                   19\n",
       "Welt                           14\n",
       "unknown                        13\n",
       "Bryo                            4\n",
       "Onderwijs                       2\n",
       "Juridisch                       2\n",
       "Andere                          1\n",
       "Veiligheid en communicatie      1\n",
       "Name: count, dtype: int64"
      ]
     },
     "execution_count": 32,
     "metadata": {},
     "output_type": "execute_result"
    }
   ],
   "source": [
    "sessie['sessie_thema_naam_'].value_counts()"
   ]
  },
  {
   "cell_type": "code",
   "execution_count": 33,
   "metadata": {},
   "outputs": [
    {
     "data": {
      "text/html": [
       "<div>\n",
       "<style scoped>\n",
       "    .dataframe tbody tr th:only-of-type {\n",
       "        vertical-align: middle;\n",
       "    }\n",
       "\n",
       "    .dataframe tbody tr th {\n",
       "        vertical-align: top;\n",
       "    }\n",
       "\n",
       "    .dataframe thead th {\n",
       "        text-align: right;\n",
       "    }\n",
       "</style>\n",
       "<table border=\"1\" class=\"dataframe\">\n",
       "  <thead>\n",
       "    <tr style=\"text-align: right;\">\n",
       "      <th></th>\n",
       "      <th>sessie_campagne</th>\n",
       "      <th>sessie_thema_naam_list</th>\n",
       "    </tr>\n",
       "  </thead>\n",
       "  <tbody>\n",
       "    <tr>\n",
       "      <th>257</th>\n",
       "      <td>9D0868DB-952A-EC11-8124-001DD8B72B61</td>\n",
       "      <td>[Ondernemen, Innovatie en Technologie, Economi...</td>\n",
       "    </tr>\n",
       "    <tr>\n",
       "      <th>53</th>\n",
       "      <td>210CE445-B4A3-ED11-AAD1-6045BD895D85</td>\n",
       "      <td>[Ondernemen, Innovatie en Technologie, Economi...</td>\n",
       "    </tr>\n",
       "    <tr>\n",
       "      <th>359</th>\n",
       "      <td>CBEE5437-9928-EB11-8117-001DD8B72B62</td>\n",
       "      <td>[Ondernemen, Duurzaamheid, Economie, Algemeen,...</td>\n",
       "    </tr>\n",
       "    <tr>\n",
       "      <th>369</th>\n",
       "      <td>CFF2BA02-E99C-EB11-811E-001DD8B72B62</td>\n",
       "      <td>[Ondernemen, Innovatie en Technologie, Economi...</td>\n",
       "    </tr>\n",
       "    <tr>\n",
       "      <th>354</th>\n",
       "      <td>C6D72260-E451-EC11-8C62-000D3ABFCF4A</td>\n",
       "      <td>[Ondernemen, Economie, Juridisch, Algemeen, In...</td>\n",
       "    </tr>\n",
       "    <tr>\n",
       "      <th>...</th>\n",
       "      <td>...</td>\n",
       "      <td>...</td>\n",
       "    </tr>\n",
       "    <tr>\n",
       "      <th>147</th>\n",
       "      <td>5C0D6584-89EA-E911-8106-001DD8B72B62</td>\n",
       "      <td>[Innovatie en Technologie]</td>\n",
       "    </tr>\n",
       "    <tr>\n",
       "      <th>146</th>\n",
       "      <td>5BF7B3A4-3A77-EB11-811A-001DD8B72B61</td>\n",
       "      <td>[Innovatie en Technologie]</td>\n",
       "    </tr>\n",
       "    <tr>\n",
       "      <th>145</th>\n",
       "      <td>599BE32D-CF4B-EE11-BE6E-6045BD895D4D</td>\n",
       "      <td>[Netwerking]</td>\n",
       "    </tr>\n",
       "    <tr>\n",
       "      <th>144</th>\n",
       "      <td>58F3F1ED-2A32-EC11-8127-001DD8B72B62</td>\n",
       "      <td>[Veiligheid en communicatie]</td>\n",
       "    </tr>\n",
       "    <tr>\n",
       "      <th>448</th>\n",
       "      <td>FFE56B2D-B848-EE11-BE6E-6045BD895D78</td>\n",
       "      <td>[Bryo]</td>\n",
       "    </tr>\n",
       "  </tbody>\n",
       "</table>\n",
       "<p>449 rows × 2 columns</p>\n",
       "</div>"
      ],
      "text/plain": [
       "                          sessie_campagne  \\\n",
       "257  9D0868DB-952A-EC11-8124-001DD8B72B61   \n",
       "53   210CE445-B4A3-ED11-AAD1-6045BD895D85   \n",
       "359  CBEE5437-9928-EB11-8117-001DD8B72B62   \n",
       "369  CFF2BA02-E99C-EB11-811E-001DD8B72B62   \n",
       "354  C6D72260-E451-EC11-8C62-000D3ABFCF4A   \n",
       "..                                    ...   \n",
       "147  5C0D6584-89EA-E911-8106-001DD8B72B62   \n",
       "146  5BF7B3A4-3A77-EB11-811A-001DD8B72B61   \n",
       "145  599BE32D-CF4B-EE11-BE6E-6045BD895D4D   \n",
       "144  58F3F1ED-2A32-EC11-8127-001DD8B72B62   \n",
       "448  FFE56B2D-B848-EE11-BE6E-6045BD895D78   \n",
       "\n",
       "                                sessie_thema_naam_list  \n",
       "257  [Ondernemen, Innovatie en Technologie, Economi...  \n",
       "53   [Ondernemen, Innovatie en Technologie, Economi...  \n",
       "359  [Ondernemen, Duurzaamheid, Economie, Algemeen,...  \n",
       "369  [Ondernemen, Innovatie en Technologie, Economi...  \n",
       "354  [Ondernemen, Economie, Juridisch, Algemeen, In...  \n",
       "..                                                 ...  \n",
       "147                         [Innovatie en Technologie]  \n",
       "146                         [Innovatie en Technologie]  \n",
       "145                                       [Netwerking]  \n",
       "144                       [Veiligheid en communicatie]  \n",
       "448                                             [Bryo]  \n",
       "\n",
       "[449 rows x 2 columns]"
      ]
     },
     "execution_count": 33,
     "metadata": {},
     "output_type": "execute_result"
    }
   ],
   "source": [
    "result = (sessie.assign(sessie_thema_naam_list=sessie['sessie_thema_naam_'].str.split(', '))\n",
    "               .explode('sessie_thema_naam_list')\n",
    "               .drop_duplicates()\n",
    "               .groupby('sessie_campagne')['sessie_thema_naam_list']\n",
    "               .agg(lambda x: list(set(x)))\n",
    "               .reset_index()\n",
    "               .sort_values(by='sessie_thema_naam_list', key=lambda x: x.str.len(), ascending=False))\n",
    "result"
   ]
  },
  {
   "cell_type": "code",
   "execution_count": 34,
   "metadata": {},
   "outputs": [],
   "source": [
    "unique_categories = set(category for row in result['sessie_thema_naam_list'] for category in row)\n",
    "\n",
    "for category in unique_categories:\n",
    "    result[category] = result['sessie_thema_naam_list'].apply(lambda x: int(category in x))\n",
    "\n",
    "result.drop('sessie_thema_naam_list', axis=1, inplace=True)"
   ]
  },
  {
   "cell_type": "code",
   "execution_count": 35,
   "metadata": {},
   "outputs": [
    {
     "name": "stdout",
     "output_type": "stream",
     "text": [
      "<class 'pandas.core.frame.DataFrame'>\n",
      "Index: 449 entries, 257 to 448\n",
      "Data columns (total 16 columns):\n",
      " #   Column                      Non-Null Count  Dtype \n",
      "---  ------                      --------------  ----- \n",
      " 0   sessie_campagne             449 non-null    object\n",
      " 1   Ondernemen                  449 non-null    int64 \n",
      " 2   Netwerking                  449 non-null    int64 \n",
      " 3   unknown                     449 non-null    int64 \n",
      " 4   Veiligheid en communicatie  449 non-null    int64 \n",
      " 5   Bryo                        449 non-null    int64 \n",
      " 6   Welt                        449 non-null    int64 \n",
      " 7   Duurzaamheid                449 non-null    int64 \n",
      " 8   Logistiek                   449 non-null    int64 \n",
      " 9   Onderwijs                   449 non-null    int64 \n",
      " 10  Economie                    449 non-null    int64 \n",
      " 11  Juridisch                   449 non-null    int64 \n",
      " 12  Lidmaatschap                449 non-null    int64 \n",
      " 13  Algemeen                    449 non-null    int64 \n",
      " 14  Andere                      449 non-null    int64 \n",
      " 15  Innovatie en Technologie    449 non-null    int64 \n",
      "dtypes: int64(15), object(1)\n",
      "memory usage: 59.6+ KB\n"
     ]
    }
   ],
   "source": [
    "result.info()"
   ]
  },
  {
   "cell_type": "code",
   "execution_count": 36,
   "metadata": {},
   "outputs": [
    {
     "data": {
      "text/plain": [
       "campagne_type_campagne\n",
       "Netwerkevenement    277\n",
       "Opleiding            90\n",
       "Project              68\n",
       "Infosessie           31\n",
       "Campagne              2\n",
       "Name: count, dtype: int64"
      ]
     },
     "execution_count": 36,
     "metadata": {},
     "output_type": "execute_result"
    }
   ],
   "source": [
    "campagne[\"campagne_type_campagne\"].value_counts()"
   ]
  },
  {
   "cell_type": "code",
   "execution_count": 37,
   "metadata": {},
   "outputs": [
    {
     "data": {
      "text/plain": [
       "(449, 27)"
      ]
     },
     "execution_count": 37,
     "metadata": {},
     "output_type": "execute_result"
    }
   ],
   "source": [
    "campagnes_merged = campagne.merge(result, left_on='campagne_campagne_id', right_on='sessie_campagne', how='inner')\n",
    "campagnes_merged.shape"
   ]
  },
  {
   "cell_type": "markdown",
   "metadata": {},
   "source": [
    "#### CDI"
   ]
  },
  {
   "cell_type": "code",
   "execution_count": 38,
   "metadata": {},
   "outputs": [
    {
     "data": {
      "text/plain": [
       "(92826, 37)"
      ]
     },
     "execution_count": 38,
     "metadata": {},
     "output_type": "execute_result"
    }
   ],
   "source": [
    "accounts_merged.shape"
   ]
  },
  {
   "cell_type": "code",
   "execution_count": 39,
   "metadata": {},
   "outputs": [],
   "source": [
    "df_visit = pd.read_csv('../data_clean/CDI_visits_fixed.csv', sep=',')\n",
    "\n",
    "df_visit.drop(\n",
    "    ['visit_ip_postcode', 'visit_aangemaakt_op', 'visit_adobe_reader',\n",
    "    'visit_contact_naam_', 'visit_containssocialprofile', 'visit_ended_on', 'visit_ip_address',\n",
    "    'visit_ip_organization', 'visit_keywords', 'visit_ip_longitude', 'visit_ip_latitude', 'visit_referrer', \n",
    "    'visit_score', 'visit_started_on', 'visit_ip_status', 'visit_visit_id', 'visit_gewijzigd_op',\n",
    "    'visit_entry_page', 'visit_exit_page', 'visit_ip_company', 'visit_referring_host', 'visit_referrer_type', \n",
    "    'visit_bounce', 'visit_duration', 'visit_browser', 'visit_ip_stad', 'visit_ip_land', 'visit_operating_system',\n",
    "   ], axis=1, inplace=True)\n",
    "\n",
    "df_visit.drop_duplicates(inplace=True)\n",
    "\n",
    "df_visit['visit_first_visit'] = df_visit['visit_first_visit'] \\\n",
    "      .str.replace('Ja', '1').str.replace('Nee', '0') \\\n",
    "      .str.replace('unknown', '-1').astype(int)\n",
    "\n",
    "df_visit['visit_total_pages'] = df_visit['visit_total_pages']\\\n",
    "      .replace('unknown', '-1.0').astype(float)\n",
    "\n",
    "##############################################################################################################\n",
    "\n",
    "# Csv files inlezen\n",
    "df_mailing = pd.read_csv('../data_clean/CDI_mailing_fixed.csv', sep=',')\n",
    "df_mailing.drop(['mailing_sent_on'], axis=1, inplace=True)\n",
    "df_mailing.drop_duplicates(inplace=True)\n",
    "df_click = pd.read_csv('../data_clean/CDI_sent_email_clicks_fixed.csv', sep=',')\n",
    "df_click.drop(['sentemail_kliks_contact', 'sentemail_kliks_sent_email_id'], axis=1, inplace=True)\n",
    "df_click.drop_duplicates(inplace=True)\n",
    "\n",
    "# Merge en drop kolommen\n",
    "df_mailing_merged = df_mailing.merge(df_click, left_on='mailing_mailing_id', right_on='sentemail_kliks_e_mail_versturen', how='inner')\n",
    "df_mailing_merged.drop(['sentemail_kliks_e_mail_versturen'], axis=1, inplace=True)\n",
    "\n",
    "# Voeg een nieuwe kolom toe voor het aantal mails per groep\n",
    "df_mailing_merged['aantal_mails'] = df_mailing_merged.groupby(\n",
    "    ['mailing_mailing_id'])['mailing_mailing_id'].transform('count')\n",
    "\n",
    "# Sentmail_kliks_clicks optellen per mailing\n",
    "df_mailing_merged = df_mailing_merged.groupby(['mailing_mailing_id', 'mailing_name', 'mailing_onderwerp'], \n",
    "                          as_index=False).agg({'sentemail_kliks_clicks': 'sum', \n",
    "                                                **{col: 'first' for col in df_mailing_merged.columns if col not in ['sentemail_kliks_clicks']}})\n",
    "\n",
    "##############################################################################################################\n",
    "\n",
    "df_visit_mailing = df_visit.merge(df_mailing_merged, left_on='visit_email_send', right_on='mailing_mailing_id', how='left')\n",
    "df_visit_mailing.drop(['visit_email_send', 'mailing_mailing_id', 'visit_campaign'], axis=1, inplace=True)\n",
    "\n",
    "# String kolommen cleanen\n",
    "df_visit_mailing['mailing_name'] = df_visit_mailing['mailing_name'].str.replace('OV-', '') \\\n",
    "                                            .str.replace('OV ', '').str.replace('OV -', '') \\\n",
    "                                            .str.replace('-', ' ').str.replace(r'[^\\w\\s]', ' ', regex=True) \\\n",
    "                                            .str.replace('  ', ' ').str.strip().str.lower().str.replace('  ', ' ')\n",
    "\n",
    "df_visit_mailing['mailing_onderwerp'] = df_visit_mailing['mailing_onderwerp'] \\\n",
    "                                            .str.replace('-', ' ').str.replace(r'[^\\w\\s]', ' ', regex=True) \\\n",
    "                                            .str.replace('  ', ' ').str.strip().str.lower().str.replace('  ', ' ')\n",
    "\n",
    "df_visit_mailing['sentemail_kliks_clicks'] \\\n",
    "    = df_visit_mailing['sentemail_kliks_clicks'].replace('unknown', '0').astype(int)"
   ]
  },
  {
   "cell_type": "code",
   "execution_count": 40,
   "metadata": {},
   "outputs": [],
   "source": [
    "accounts_merged = accounts_merged.merge(df_visit_mailing, left_on='contact_contactpersoon_id', right_on='visit_contact', how='left')\n",
    "# Numeric en categorical kolommen selecteren\n",
    "num_cols = accounts_merged.select_dtypes(include=['float64', 'int64']).columns\n",
    "cat_cols = accounts_merged.select_dtypes(include=['object']).columns\n",
    "\n",
    "# fill NaN values with -1 for numeric columns\n",
    "accounts_merged[num_cols] = accounts_merged[num_cols].fillna(-1)\n",
    "# fill NaN values with 'unknown' for categorical columns\n",
    "accounts_merged[cat_cols] = accounts_merged[cat_cols].fillna('unknown')\n",
    "\n",
    "# verander alle int64 en int32 naar int8\n",
    "int_cols = accounts_merged.select_dtypes(include=['int64', 'int32']).columns\n",
    "accounts_merged[int_cols] = accounts_merged[int_cols].astype('int8')"
   ]
  },
  {
   "cell_type": "code",
   "execution_count": 42,
   "metadata": {},
   "outputs": [
    {
     "ename": "KeyError",
     "evalue": "'aantal_mails'",
     "output_type": "error",
     "traceback": [
      "\u001b[1;31m---------------------------------------------------------------------------\u001b[0m",
      "\u001b[1;31mKeyError\u001b[0m                                  Traceback (most recent call last)",
      "File \u001b[1;32mc:\\Users\\marlo\\OneDrive\\Documents\\HOGent\\23-24\\Semester-1\\DEP2\\Data-Engineering-Project-2\\.venv\\Lib\\site-packages\\pandas\\core\\indexes\\base.py:3790\u001b[0m, in \u001b[0;36mIndex.get_loc\u001b[1;34m(self, key)\u001b[0m\n\u001b[0;32m   3789\u001b[0m \u001b[39mtry\u001b[39;00m:\n\u001b[1;32m-> 3790\u001b[0m     \u001b[39mreturn\u001b[39;00m \u001b[39mself\u001b[39;49m\u001b[39m.\u001b[39;49m_engine\u001b[39m.\u001b[39;49mget_loc(casted_key)\n\u001b[0;32m   3791\u001b[0m \u001b[39mexcept\u001b[39;00m \u001b[39mKeyError\u001b[39;00m \u001b[39mas\u001b[39;00m err:\n",
      "File \u001b[1;32mindex.pyx:152\u001b[0m, in \u001b[0;36mpandas._libs.index.IndexEngine.get_loc\u001b[1;34m()\u001b[0m\n",
      "File \u001b[1;32mindex.pyx:181\u001b[0m, in \u001b[0;36mpandas._libs.index.IndexEngine.get_loc\u001b[1;34m()\u001b[0m\n",
      "File \u001b[1;32mpandas\\_libs\\hashtable_class_helper.pxi:7080\u001b[0m, in \u001b[0;36mpandas._libs.hashtable.PyObjectHashTable.get_item\u001b[1;34m()\u001b[0m\n",
      "File \u001b[1;32mpandas\\_libs\\hashtable_class_helper.pxi:7088\u001b[0m, in \u001b[0;36mpandas._libs.hashtable.PyObjectHashTable.get_item\u001b[1;34m()\u001b[0m\n",
      "\u001b[1;31mKeyError\u001b[0m: 'aantal_mails'",
      "\nThe above exception was the direct cause of the following exception:\n",
      "\u001b[1;31mKeyError\u001b[0m                                  Traceback (most recent call last)",
      "\u001b[1;32mc:\\Users\\marlo\\OneDrive\\Documents\\HOGent\\23-24\\Semester-1\\DEP2\\Data-Engineering-Project-2\\scripts\\clean_supervised.ipynb Cell 52\u001b[0m line \u001b[0;36m2\n\u001b[0;32m      <a href='vscode-notebook-cell:/c%3A/Users/marlo/OneDrive/Documents/HOGent/23-24/Semester-1/DEP2/Data-Engineering-Project-2/scripts/clean_supervised.ipynb#Y102sZmlsZQ%3D%3D?line=0'>1</a>\u001b[0m \u001b[39m# mail_click_freq berekenen\u001b[39;00m\n\u001b[1;32m----> <a href='vscode-notebook-cell:/c%3A/Users/marlo/OneDrive/Documents/HOGent/23-24/Semester-1/DEP2/Data-Engineering-Project-2/scripts/clean_supervised.ipynb#Y102sZmlsZQ%3D%3D?line=1'>2</a>\u001b[0m accounts_merged[\u001b[39m'\u001b[39m\u001b[39mmail_click_freq\u001b[39m\u001b[39m'\u001b[39m] \u001b[39m=\u001b[39m accounts_merged\u001b[39m.\u001b[39;49mapply(\n\u001b[0;32m      <a href='vscode-notebook-cell:/c%3A/Users/marlo/OneDrive/Documents/HOGent/23-24/Semester-1/DEP2/Data-Engineering-Project-2/scripts/clean_supervised.ipynb#Y102sZmlsZQ%3D%3D?line=2'>3</a>\u001b[0m     \u001b[39mlambda\u001b[39;49;00m row: \u001b[39m0\u001b[39;49m \u001b[39mif\u001b[39;49;00m row[\u001b[39m'\u001b[39;49m\u001b[39maantal_mails\u001b[39;49m\u001b[39m'\u001b[39;49m] \u001b[39m==\u001b[39;49m \u001b[39m-\u001b[39;49m\u001b[39m1\u001b[39;49m \u001b[39melse\u001b[39;49;00m \u001b[39mround\u001b[39;49m(row[\u001b[39m'\u001b[39;49m\u001b[39msentemail_kliks_clicks\u001b[39;49m\u001b[39m'\u001b[39;49m] \u001b[39m/\u001b[39;49m row[\u001b[39m'\u001b[39;49m\u001b[39maantal_mails\u001b[39;49m\u001b[39m'\u001b[39;49m]), axis\u001b[39m=\u001b[39;49m\u001b[39m1\u001b[39;49m)\n\u001b[0;32m      <a href='vscode-notebook-cell:/c%3A/Users/marlo/OneDrive/Documents/HOGent/23-24/Semester-1/DEP2/Data-Engineering-Project-2/scripts/clean_supervised.ipynb#Y102sZmlsZQ%3D%3D?line=3'>4</a>\u001b[0m accounts_merged\u001b[39m.\u001b[39mdrop([\u001b[39m'\u001b[39m\u001b[39msentemail_kliks_clicks\u001b[39m\u001b[39m'\u001b[39m, \u001b[39m'\u001b[39m\u001b[39maantal_mails\u001b[39m\u001b[39m'\u001b[39m], axis\u001b[39m=\u001b[39m\u001b[39m1\u001b[39m, inplace\u001b[39m=\u001b[39m\u001b[39mTrue\u001b[39;00m)\n\u001b[0;32m      <a href='vscode-notebook-cell:/c%3A/Users/marlo/OneDrive/Documents/HOGent/23-24/Semester-1/DEP2/Data-Engineering-Project-2/scripts/clean_supervised.ipynb#Y102sZmlsZQ%3D%3D?line=5'>6</a>\u001b[0m \u001b[39m# marketing_pressure berekenen\u001b[39;00m\n",
      "File \u001b[1;32mc:\\Users\\marlo\\OneDrive\\Documents\\HOGent\\23-24\\Semester-1\\DEP2\\Data-Engineering-Project-2\\.venv\\Lib\\site-packages\\pandas\\core\\frame.py:10037\u001b[0m, in \u001b[0;36mDataFrame.apply\u001b[1;34m(self, func, axis, raw, result_type, args, by_row, **kwargs)\u001b[0m\n\u001b[0;32m  10025\u001b[0m \u001b[39mfrom\u001b[39;00m \u001b[39mpandas\u001b[39;00m\u001b[39m.\u001b[39;00m\u001b[39mcore\u001b[39;00m\u001b[39m.\u001b[39;00m\u001b[39mapply\u001b[39;00m \u001b[39mimport\u001b[39;00m frame_apply\n\u001b[0;32m  10027\u001b[0m op \u001b[39m=\u001b[39m frame_apply(\n\u001b[0;32m  10028\u001b[0m     \u001b[39mself\u001b[39m,\n\u001b[0;32m  10029\u001b[0m     func\u001b[39m=\u001b[39mfunc,\n\u001b[1;32m   (...)\u001b[0m\n\u001b[0;32m  10035\u001b[0m     kwargs\u001b[39m=\u001b[39mkwargs,\n\u001b[0;32m  10036\u001b[0m )\n\u001b[1;32m> 10037\u001b[0m \u001b[39mreturn\u001b[39;00m op\u001b[39m.\u001b[39;49mapply()\u001b[39m.\u001b[39m__finalize__(\u001b[39mself\u001b[39m, method\u001b[39m=\u001b[39m\u001b[39m\"\u001b[39m\u001b[39mapply\u001b[39m\u001b[39m\"\u001b[39m)\n",
      "File \u001b[1;32mc:\\Users\\marlo\\OneDrive\\Documents\\HOGent\\23-24\\Semester-1\\DEP2\\Data-Engineering-Project-2\\.venv\\Lib\\site-packages\\pandas\\core\\apply.py:837\u001b[0m, in \u001b[0;36mFrameApply.apply\u001b[1;34m(self)\u001b[0m\n\u001b[0;32m    834\u001b[0m \u001b[39melif\u001b[39;00m \u001b[39mself\u001b[39m\u001b[39m.\u001b[39mraw:\n\u001b[0;32m    835\u001b[0m     \u001b[39mreturn\u001b[39;00m \u001b[39mself\u001b[39m\u001b[39m.\u001b[39mapply_raw()\n\u001b[1;32m--> 837\u001b[0m \u001b[39mreturn\u001b[39;00m \u001b[39mself\u001b[39;49m\u001b[39m.\u001b[39;49mapply_standard()\n",
      "File \u001b[1;32mc:\\Users\\marlo\\OneDrive\\Documents\\HOGent\\23-24\\Semester-1\\DEP2\\Data-Engineering-Project-2\\.venv\\Lib\\site-packages\\pandas\\core\\apply.py:963\u001b[0m, in \u001b[0;36mFrameApply.apply_standard\u001b[1;34m(self)\u001b[0m\n\u001b[0;32m    962\u001b[0m \u001b[39mdef\u001b[39;00m \u001b[39mapply_standard\u001b[39m(\u001b[39mself\u001b[39m):\n\u001b[1;32m--> 963\u001b[0m     results, res_index \u001b[39m=\u001b[39m \u001b[39mself\u001b[39;49m\u001b[39m.\u001b[39;49mapply_series_generator()\n\u001b[0;32m    965\u001b[0m     \u001b[39m# wrap results\u001b[39;00m\n\u001b[0;32m    966\u001b[0m     \u001b[39mreturn\u001b[39;00m \u001b[39mself\u001b[39m\u001b[39m.\u001b[39mwrap_results(results, res_index)\n",
      "File \u001b[1;32mc:\\Users\\marlo\\OneDrive\\Documents\\HOGent\\23-24\\Semester-1\\DEP2\\Data-Engineering-Project-2\\.venv\\Lib\\site-packages\\pandas\\core\\apply.py:979\u001b[0m, in \u001b[0;36mFrameApply.apply_series_generator\u001b[1;34m(self)\u001b[0m\n\u001b[0;32m    976\u001b[0m \u001b[39mwith\u001b[39;00m option_context(\u001b[39m\"\u001b[39m\u001b[39mmode.chained_assignment\u001b[39m\u001b[39m\"\u001b[39m, \u001b[39mNone\u001b[39;00m):\n\u001b[0;32m    977\u001b[0m     \u001b[39mfor\u001b[39;00m i, v \u001b[39min\u001b[39;00m \u001b[39menumerate\u001b[39m(series_gen):\n\u001b[0;32m    978\u001b[0m         \u001b[39m# ignore SettingWithCopy here in case the user mutates\u001b[39;00m\n\u001b[1;32m--> 979\u001b[0m         results[i] \u001b[39m=\u001b[39m \u001b[39mself\u001b[39;49m\u001b[39m.\u001b[39;49mfunc(v, \u001b[39m*\u001b[39;49m\u001b[39mself\u001b[39;49m\u001b[39m.\u001b[39;49margs, \u001b[39m*\u001b[39;49m\u001b[39m*\u001b[39;49m\u001b[39mself\u001b[39;49m\u001b[39m.\u001b[39;49mkwargs)\n\u001b[0;32m    980\u001b[0m         \u001b[39mif\u001b[39;00m \u001b[39misinstance\u001b[39m(results[i], ABCSeries):\n\u001b[0;32m    981\u001b[0m             \u001b[39m# If we have a view on v, we need to make a copy because\u001b[39;00m\n\u001b[0;32m    982\u001b[0m             \u001b[39m#  series_generator will swap out the underlying data\u001b[39;00m\n\u001b[0;32m    983\u001b[0m             results[i] \u001b[39m=\u001b[39m results[i]\u001b[39m.\u001b[39mcopy(deep\u001b[39m=\u001b[39m\u001b[39mFalse\u001b[39;00m)\n",
      "\u001b[1;32mc:\\Users\\marlo\\OneDrive\\Documents\\HOGent\\23-24\\Semester-1\\DEP2\\Data-Engineering-Project-2\\scripts\\clean_supervised.ipynb Cell 52\u001b[0m line \u001b[0;36m3\n\u001b[0;32m      <a href='vscode-notebook-cell:/c%3A/Users/marlo/OneDrive/Documents/HOGent/23-24/Semester-1/DEP2/Data-Engineering-Project-2/scripts/clean_supervised.ipynb#Y102sZmlsZQ%3D%3D?line=0'>1</a>\u001b[0m \u001b[39m# mail_click_freq berekenen\u001b[39;00m\n\u001b[0;32m      <a href='vscode-notebook-cell:/c%3A/Users/marlo/OneDrive/Documents/HOGent/23-24/Semester-1/DEP2/Data-Engineering-Project-2/scripts/clean_supervised.ipynb#Y102sZmlsZQ%3D%3D?line=1'>2</a>\u001b[0m accounts_merged[\u001b[39m'\u001b[39m\u001b[39mmail_click_freq\u001b[39m\u001b[39m'\u001b[39m] \u001b[39m=\u001b[39m accounts_merged\u001b[39m.\u001b[39mapply(\n\u001b[1;32m----> <a href='vscode-notebook-cell:/c%3A/Users/marlo/OneDrive/Documents/HOGent/23-24/Semester-1/DEP2/Data-Engineering-Project-2/scripts/clean_supervised.ipynb#Y102sZmlsZQ%3D%3D?line=2'>3</a>\u001b[0m     \u001b[39mlambda\u001b[39;00m row: \u001b[39m0\u001b[39m \u001b[39mif\u001b[39;00m row[\u001b[39m'\u001b[39;49m\u001b[39maantal_mails\u001b[39;49m\u001b[39m'\u001b[39;49m] \u001b[39m==\u001b[39m \u001b[39m-\u001b[39m\u001b[39m1\u001b[39m \u001b[39melse\u001b[39;00m \u001b[39mround\u001b[39m(row[\u001b[39m'\u001b[39m\u001b[39msentemail_kliks_clicks\u001b[39m\u001b[39m'\u001b[39m] \u001b[39m/\u001b[39m row[\u001b[39m'\u001b[39m\u001b[39maantal_mails\u001b[39m\u001b[39m'\u001b[39m]), axis\u001b[39m=\u001b[39m\u001b[39m1\u001b[39m)\n\u001b[0;32m      <a href='vscode-notebook-cell:/c%3A/Users/marlo/OneDrive/Documents/HOGent/23-24/Semester-1/DEP2/Data-Engineering-Project-2/scripts/clean_supervised.ipynb#Y102sZmlsZQ%3D%3D?line=3'>4</a>\u001b[0m accounts_merged\u001b[39m.\u001b[39mdrop([\u001b[39m'\u001b[39m\u001b[39msentemail_kliks_clicks\u001b[39m\u001b[39m'\u001b[39m, \u001b[39m'\u001b[39m\u001b[39maantal_mails\u001b[39m\u001b[39m'\u001b[39m], axis\u001b[39m=\u001b[39m\u001b[39m1\u001b[39m, inplace\u001b[39m=\u001b[39m\u001b[39mTrue\u001b[39;00m)\n\u001b[0;32m      <a href='vscode-notebook-cell:/c%3A/Users/marlo/OneDrive/Documents/HOGent/23-24/Semester-1/DEP2/Data-Engineering-Project-2/scripts/clean_supervised.ipynb#Y102sZmlsZQ%3D%3D?line=5'>6</a>\u001b[0m \u001b[39m# marketing_pressure berekenen\u001b[39;00m\n",
      "File \u001b[1;32mc:\\Users\\marlo\\OneDrive\\Documents\\HOGent\\23-24\\Semester-1\\DEP2\\Data-Engineering-Project-2\\.venv\\Lib\\site-packages\\pandas\\core\\series.py:1040\u001b[0m, in \u001b[0;36mSeries.__getitem__\u001b[1;34m(self, key)\u001b[0m\n\u001b[0;32m   1037\u001b[0m     \u001b[39mreturn\u001b[39;00m \u001b[39mself\u001b[39m\u001b[39m.\u001b[39m_values[key]\n\u001b[0;32m   1039\u001b[0m \u001b[39melif\u001b[39;00m key_is_scalar:\n\u001b[1;32m-> 1040\u001b[0m     \u001b[39mreturn\u001b[39;00m \u001b[39mself\u001b[39;49m\u001b[39m.\u001b[39;49m_get_value(key)\n\u001b[0;32m   1042\u001b[0m \u001b[39m# Convert generator to list before going through hashable part\u001b[39;00m\n\u001b[0;32m   1043\u001b[0m \u001b[39m# (We will iterate through the generator there to check for slices)\u001b[39;00m\n\u001b[0;32m   1044\u001b[0m \u001b[39mif\u001b[39;00m is_iterator(key):\n",
      "File \u001b[1;32mc:\\Users\\marlo\\OneDrive\\Documents\\HOGent\\23-24\\Semester-1\\DEP2\\Data-Engineering-Project-2\\.venv\\Lib\\site-packages\\pandas\\core\\series.py:1156\u001b[0m, in \u001b[0;36mSeries._get_value\u001b[1;34m(self, label, takeable)\u001b[0m\n\u001b[0;32m   1153\u001b[0m     \u001b[39mreturn\u001b[39;00m \u001b[39mself\u001b[39m\u001b[39m.\u001b[39m_values[label]\n\u001b[0;32m   1155\u001b[0m \u001b[39m# Similar to Index.get_value, but we do not fall back to positional\u001b[39;00m\n\u001b[1;32m-> 1156\u001b[0m loc \u001b[39m=\u001b[39m \u001b[39mself\u001b[39;49m\u001b[39m.\u001b[39;49mindex\u001b[39m.\u001b[39;49mget_loc(label)\n\u001b[0;32m   1158\u001b[0m \u001b[39mif\u001b[39;00m is_integer(loc):\n\u001b[0;32m   1159\u001b[0m     \u001b[39mreturn\u001b[39;00m \u001b[39mself\u001b[39m\u001b[39m.\u001b[39m_values[loc]\n",
      "File \u001b[1;32mc:\\Users\\marlo\\OneDrive\\Documents\\HOGent\\23-24\\Semester-1\\DEP2\\Data-Engineering-Project-2\\.venv\\Lib\\site-packages\\pandas\\core\\indexes\\base.py:3797\u001b[0m, in \u001b[0;36mIndex.get_loc\u001b[1;34m(self, key)\u001b[0m\n\u001b[0;32m   3792\u001b[0m     \u001b[39mif\u001b[39;00m \u001b[39misinstance\u001b[39m(casted_key, \u001b[39mslice\u001b[39m) \u001b[39mor\u001b[39;00m (\n\u001b[0;32m   3793\u001b[0m         \u001b[39misinstance\u001b[39m(casted_key, abc\u001b[39m.\u001b[39mIterable)\n\u001b[0;32m   3794\u001b[0m         \u001b[39mand\u001b[39;00m \u001b[39many\u001b[39m(\u001b[39misinstance\u001b[39m(x, \u001b[39mslice\u001b[39m) \u001b[39mfor\u001b[39;00m x \u001b[39min\u001b[39;00m casted_key)\n\u001b[0;32m   3795\u001b[0m     ):\n\u001b[0;32m   3796\u001b[0m         \u001b[39mraise\u001b[39;00m InvalidIndexError(key)\n\u001b[1;32m-> 3797\u001b[0m     \u001b[39mraise\u001b[39;00m \u001b[39mKeyError\u001b[39;00m(key) \u001b[39mfrom\u001b[39;00m \u001b[39merr\u001b[39;00m\n\u001b[0;32m   3798\u001b[0m \u001b[39mexcept\u001b[39;00m \u001b[39mTypeError\u001b[39;00m:\n\u001b[0;32m   3799\u001b[0m     \u001b[39m# If we have a listlike key, _check_indexing_error will raise\u001b[39;00m\n\u001b[0;32m   3800\u001b[0m     \u001b[39m#  InvalidIndexError. Otherwise we fall through and re-raise\u001b[39;00m\n\u001b[0;32m   3801\u001b[0m     \u001b[39m#  the TypeError.\u001b[39;00m\n\u001b[0;32m   3802\u001b[0m     \u001b[39mself\u001b[39m\u001b[39m.\u001b[39m_check_indexing_error(key)\n",
      "\u001b[1;31mKeyError\u001b[0m: 'aantal_mails'"
     ]
    }
   ],
   "source": [
    "# mail_click_freq berekenen\n",
    "accounts_merged['mail_click_freq'] = accounts_merged.apply(\n",
    "    lambda row: 0 if row['aantal_mails'] == -1 else round(row['sentemail_kliks_clicks'] / row['aantal_mails']), axis=1)\n",
    "accounts_merged.drop(['sentemail_kliks_clicks', 'aantal_mails'], axis=1, inplace=True)\n",
    "\n",
    "# marketing_pressure berekenen\n",
    "accounts_merged['marketing_pressure'] = accounts_merged['marketing_pressure'] + accounts_merged['mail_click_freq'] \n",
    "+ accounts_merged['visit_total_pages'] + accounts_merged['visit_first_visit']\n",
    "\n",
    "accounts_merged.drop(['mail_click_freq', 'visit_total_pages', 'visit_first_visit', 'visit_campaign', 'visit_contact', 'mailing_name', 'mailing_onderwerp'], axis=1, inplace=True)\n",
    "accounts_merged.shape"
   ]
  },
  {
   "cell_type": "code",
   "execution_count": null,
   "metadata": {},
   "outputs": [
    {
     "name": "stdout",
     "output_type": "stream",
     "text": [
      "<class 'pandas.core.frame.DataFrame'>\n",
      "RangeIndex: 115974 entries, 0 to 115973\n",
      "Data columns (total 37 columns):\n",
      " #   Column                                                     Non-Null Count   Dtype  \n",
      "---  ------                                                     --------------   -----  \n",
      " 0   account_account_id                                         115974 non-null  object \n",
      " 1   account_adres_geografische_regio                           115974 non-null  object \n",
      " 2   account_adres_geografische_subregio                        115974 non-null  object \n",
      " 3   account_adres_plaats                                       115974 non-null  object \n",
      " 4   account_adres_postcode                                     115974 non-null  object \n",
      " 5   account_adres_provincie                                    115974 non-null  object \n",
      " 6   account_industriezone_naam_                                115974 non-null  object \n",
      " 7   account_is_voka_entiteit                                   115974 non-null  int8   \n",
      " 8   account_ondernemingsaard                                   115974 non-null  object \n",
      " 9   account_ondernemingstype                                   115974 non-null  object \n",
      " 10  account_oprichtingsdatum                                   115974 non-null  object \n",
      " 11  account_primaire_activiteit                                115974 non-null  object \n",
      " 12  account_reden_van_status                                   115974 non-null  object \n",
      " 13  account_status                                             115974 non-null  int8   \n",
      " 14  account_voka_nr_                                           115974 non-null  int8   \n",
      " 15  account_adres_land                                         115974 non-null  object \n",
      " 16  account_activiteitscode_account                            115974 non-null  object \n",
      " 17  account_activiteitscode_activiteitscode                    115974 non-null  object \n",
      " 18  account_activiteitscode_inf_account_inf_activiteitscodeid  115974 non-null  object \n",
      " 19  activiteitscode_naam                                       115974 non-null  object \n",
      " 20  activiteitscode_activiteitscode_id                         115974 non-null  object \n",
      " 21  activiteitscode_status                                     115974 non-null  object \n",
      " 22  contact_contactpersoon_id                                  115974 non-null  object \n",
      " 23  contact_account                                            115974 non-null  object \n",
      " 24  contact_functietitel                                       115974 non-null  object \n",
      " 25  contact_persoon_id                                         115974 non-null  object \n",
      " 26  contact_status                                             115974 non-null  object \n",
      " 27  contact_voka_medewerker                                    115974 non-null  int8   \n",
      " 28  contactfunctie_contactpersoon                              115974 non-null  object \n",
      " 29  contactfunctie_functie                                     115974 non-null  object \n",
      " 30  functie_functie_id                                         115974 non-null  object \n",
      " 31  functie_naam                                               115974 non-null  object \n",
      " 32  persoon_persoon_id                                         115974 non-null  object \n",
      " 33  persoon_persoonsnr_                                        115974 non-null  float64\n",
      " 34  persoon_reden_van_status                                   115974 non-null  object \n",
      " 35  persoon_web_login                                          115974 non-null  object \n",
      " 36  marketing_pressure                                         115974 non-null  int64  \n",
      "dtypes: float64(1), int64(1), int8(4), object(31)\n",
      "memory usage: 29.6+ MB\n"
     ]
    }
   ],
   "source": [
    "accounts_merged.info()"
   ]
  },
  {
   "cell_type": "markdown",
   "metadata": {},
   "source": [
    "#### 4. Accounts mergen met Afspraken"
   ]
  },
  {
   "cell_type": "code",
   "execution_count": null,
   "metadata": {},
   "outputs": [],
   "source": [
    "onnodige_kolommen_accounts = [\n",
    " 'account_account_id',\n",
    " 'account_adres_postcode',\n",
    " 'account_industriezone_naam_',\n",
    " 'account_oprichtingsdatum',\n",
    " 'account_adres_plaats',\n",
    " 'account_voka_nr_',\n",
    " 'activiteitscode_naam',\n",
    " 'account_is_voka_entiteit',\n",
    " 'account_status',\n",
    " 'account_adres_geografische_regio',\n",
    " 'account_adres_provincie',\n",
    " 'account_reden_van_status',\n",
    " 'account_adres_land',\n",
    " 'account_activiteitscode_account',\n",
    " 'account_activiteitscode_activiteitscode',\n",
    " 'account_activiteitscode_inf_account_inf_activiteitscodeid',\n",
    " 'activiteitscode_activiteitscode_id',\n",
    " 'contact_account',\n",
    " 'contact_functietitel',\n",
    " 'contact_persoon_id',\n",
    " 'contact_voka_medewerker',\n",
    " 'contact_status',\n",
    " 'contactfunctie_contactpersoon',\n",
    " 'contactfunctie_functie',\n",
    " 'functie_functie_id',\n",
    " 'activiteitscode_status',\n",
    " 'persoon_persoonsnr_',\n",
    " 'persoon_web_login',\n",
    " 'persoon_reden_van_status',\n",
    " 'persoon_persoon_id',\n",
    "]\n",
    "\n",
    "accounts_merged = accounts_merged.drop(onnodige_kolommen_accounts, axis=1)"
   ]
  },
  {
   "cell_type": "code",
   "execution_count": null,
   "metadata": {},
   "outputs": [],
   "source": [
    "grouping_categories = {\n",
    "    'Lidmaatschap': ['Lidmaatschap'],\n",
    "    'Welt': ['Welt', 'Welt 2.0', 'Welt 2.0-2023'],\n",
    "    'Plato': ['Plato'],\n",
    "    'Internationaal Ondernemen': ['Internationaal Ondernemen', 'Internationaal Ondernemen - voor Info en Advies'],\n",
    "    'Technologie en Innovatie': ['Digitalisering, IT & Technologie', 'Innovatie'],\n",
    "    'Groeien en Netwerking': ['Groeien', 'Netwerking'],\n",
    "    'Duurzaamheid': ['Duurzaam Ondernemen', 'Mobiliteit'],\n",
    "    'Familiebedrijfsmanagement': ['Familiebedrijven', 'Opvolging en Overname'],\n",
    "    'Arbeidsmarkt': ['Arbeidsmarkt', 'Opleidingen'],\n",
    "    'Bedrijfsbeheer': ['Algemeen Management', 'Bestuurlijke organisaties', 'Human Resources'],\n",
    "    'Financieel': ['Financieel', 'Marketing & Sales'],\n",
    "    'Logistiek en Transport': ['Logistiek en Transport', 'Haven']\n",
    "}\n",
    "\n",
    "def map_thema(thema):\n",
    "    for category, themes in grouping_categories.items():\n",
    "        if thema in themes:\n",
    "            return category\n",
    "    return thema\n",
    "\n",
    "afspraken_merged['afspraak_thema_grouped'] = afspraken_merged['afspraak_thema'].apply(map_thema)\n",
    "afspraken_merged = afspraken_merged.drop(['afspraak_thema', 'afspraak_subthema'], axis=1)"
   ]
  },
  {
   "cell_type": "code",
   "execution_count": null,
   "metadata": {},
   "outputs": [
    {
     "name": "stdout",
     "output_type": "stream",
     "text": [
      "<class 'pandas.core.frame.DataFrame'>\n",
      "RangeIndex: 4545 entries, 0 to 4544\n",
      "Data columns (total 2 columns):\n",
      " #   Column                                Non-Null Count  Dtype \n",
      "---  ------                                --------------  ----- \n",
      " 0   activiteitvereistcontact_reqattendee  4545 non-null   object\n",
      " 1   afspraak_thema_grouped                4545 non-null   object\n",
      "dtypes: object(2)\n",
      "memory usage: 71.1+ KB\n"
     ]
    }
   ],
   "source": [
    "afspraken_merged = afspraken_merged.drop(['afspraak_afspraak_id', 'afspraak_onderwerp', 'afspraak_eindtijd', 'activiteitvereistcontact_activityid_id', 'afspraak_keyphrases'], axis=1)\n",
    "afspraken_merged.info()"
   ]
  },
  {
   "cell_type": "code",
   "execution_count": null,
   "metadata": {},
   "outputs": [
    {
     "data": {
      "text/html": [
       "<div>\n",
       "<style scoped>\n",
       "    .dataframe tbody tr th:only-of-type {\n",
       "        vertical-align: middle;\n",
       "    }\n",
       "\n",
       "    .dataframe tbody tr th {\n",
       "        vertical-align: top;\n",
       "    }\n",
       "\n",
       "    .dataframe thead th {\n",
       "        text-align: right;\n",
       "    }\n",
       "</style>\n",
       "<table border=\"1\" class=\"dataframe\">\n",
       "  <thead>\n",
       "    <tr style=\"text-align: right;\">\n",
       "      <th></th>\n",
       "      <th>account_adres_geografische_subregio</th>\n",
       "      <th>account_ondernemingsaard</th>\n",
       "      <th>account_ondernemingstype</th>\n",
       "      <th>account_primaire_activiteit</th>\n",
       "      <th>contact_contactpersoon_id</th>\n",
       "      <th>functie_naam</th>\n",
       "      <th>marketing_pressure</th>\n",
       "      <th>Arbeidsmarkt</th>\n",
       "      <th>Bedrijfsbeheer</th>\n",
       "      <th>Duurzaamheid</th>\n",
       "      <th>Familiebedrijfsmanagement</th>\n",
       "      <th>Financieel</th>\n",
       "      <th>Groeien en Netwerking</th>\n",
       "      <th>Internationaal Ondernemen</th>\n",
       "      <th>Lidmaatschap</th>\n",
       "      <th>Logistiek en Transport</th>\n",
       "      <th>Plato</th>\n",
       "      <th>Technologie en Innovatie</th>\n",
       "      <th>Welt</th>\n",
       "    </tr>\n",
       "  </thead>\n",
       "  <tbody>\n",
       "    <tr>\n",
       "      <th>0</th>\n",
       "      <td>Oudenaarde</td>\n",
       "      <td>Diensten</td>\n",
       "      <td>Bedrijf</td>\n",
       "      <td>Overige industrie &amp; diensten</td>\n",
       "      <td>0A9D6946-EB72-E111-B43A-00505680000A</td>\n",
       "      <td>Contact Lidmaatschap</td>\n",
       "      <td>-1</td>\n",
       "      <td>0.0</td>\n",
       "      <td>0.0</td>\n",
       "      <td>0.0</td>\n",
       "      <td>0.0</td>\n",
       "      <td>0.0</td>\n",
       "      <td>0.0</td>\n",
       "      <td>0.0</td>\n",
       "      <td>0.0</td>\n",
       "      <td>0.0</td>\n",
       "      <td>0.0</td>\n",
       "      <td>0.0</td>\n",
       "      <td>0.0</td>\n",
       "    </tr>\n",
       "    <tr>\n",
       "      <th>1</th>\n",
       "      <td>Gent</td>\n",
       "      <td>Diensten</td>\n",
       "      <td>Familiebedrijf</td>\n",
       "      <td>Vastgoed</td>\n",
       "      <td>FF015050-8D55-EB11-8117-001DD8B72B61</td>\n",
       "      <td>Contact Lidmaatschap</td>\n",
       "      <td>3</td>\n",
       "      <td>0.0</td>\n",
       "      <td>0.0</td>\n",
       "      <td>0.0</td>\n",
       "      <td>0.0</td>\n",
       "      <td>0.0</td>\n",
       "      <td>0.0</td>\n",
       "      <td>0.0</td>\n",
       "      <td>0.0</td>\n",
       "      <td>0.0</td>\n",
       "      <td>0.0</td>\n",
       "      <td>0.0</td>\n",
       "      <td>0.0</td>\n",
       "    </tr>\n",
       "    <tr>\n",
       "      <th>2</th>\n",
       "      <td>Gent</td>\n",
       "      <td>Diensten</td>\n",
       "      <td>Familiebedrijf</td>\n",
       "      <td>Vastgoed</td>\n",
       "      <td>FF015050-8D55-EB11-8117-001DD8B72B61</td>\n",
       "      <td>Contact Lidmaatschap</td>\n",
       "      <td>9</td>\n",
       "      <td>0.0</td>\n",
       "      <td>0.0</td>\n",
       "      <td>0.0</td>\n",
       "      <td>0.0</td>\n",
       "      <td>0.0</td>\n",
       "      <td>0.0</td>\n",
       "      <td>0.0</td>\n",
       "      <td>0.0</td>\n",
       "      <td>0.0</td>\n",
       "      <td>0.0</td>\n",
       "      <td>0.0</td>\n",
       "      <td>0.0</td>\n",
       "    </tr>\n",
       "    <tr>\n",
       "      <th>3</th>\n",
       "      <td>Gent</td>\n",
       "      <td>Diensten</td>\n",
       "      <td>Familiebedrijf</td>\n",
       "      <td>Vastgoed</td>\n",
       "      <td>FF015050-8D55-EB11-8117-001DD8B72B61</td>\n",
       "      <td>Contact Lidmaatschap</td>\n",
       "      <td>9</td>\n",
       "      <td>0.0</td>\n",
       "      <td>0.0</td>\n",
       "      <td>0.0</td>\n",
       "      <td>0.0</td>\n",
       "      <td>0.0</td>\n",
       "      <td>0.0</td>\n",
       "      <td>0.0</td>\n",
       "      <td>0.0</td>\n",
       "      <td>0.0</td>\n",
       "      <td>0.0</td>\n",
       "      <td>0.0</td>\n",
       "      <td>0.0</td>\n",
       "    </tr>\n",
       "    <tr>\n",
       "      <th>4</th>\n",
       "      <td>Oudenaarde</td>\n",
       "      <td>Diensten</td>\n",
       "      <td>Bedrijf</td>\n",
       "      <td>Bouw</td>\n",
       "      <td>FF0A3AF6-0D42-E611-80D6-005056B06EC4</td>\n",
       "      <td>Contact Lidmaatschap</td>\n",
       "      <td>1</td>\n",
       "      <td>0.0</td>\n",
       "      <td>0.0</td>\n",
       "      <td>0.0</td>\n",
       "      <td>0.0</td>\n",
       "      <td>0.0</td>\n",
       "      <td>0.0</td>\n",
       "      <td>0.0</td>\n",
       "      <td>0.0</td>\n",
       "      <td>0.0</td>\n",
       "      <td>0.0</td>\n",
       "      <td>0.0</td>\n",
       "      <td>0.0</td>\n",
       "    </tr>\n",
       "  </tbody>\n",
       "</table>\n",
       "</div>"
      ],
      "text/plain": [
       "  account_adres_geografische_subregio account_ondernemingsaard  \\\n",
       "0                          Oudenaarde                 Diensten   \n",
       "1                                Gent                 Diensten   \n",
       "2                                Gent                 Diensten   \n",
       "3                                Gent                 Diensten   \n",
       "4                          Oudenaarde                 Diensten   \n",
       "\n",
       "  account_ondernemingstype   account_primaire_activiteit  \\\n",
       "0                  Bedrijf  Overige industrie & diensten   \n",
       "1           Familiebedrijf                      Vastgoed   \n",
       "2           Familiebedrijf                      Vastgoed   \n",
       "3           Familiebedrijf                      Vastgoed   \n",
       "4                  Bedrijf                          Bouw   \n",
       "\n",
       "              contact_contactpersoon_id          functie_naam  \\\n",
       "0  0A9D6946-EB72-E111-B43A-00505680000A  Contact Lidmaatschap   \n",
       "1  FF015050-8D55-EB11-8117-001DD8B72B61  Contact Lidmaatschap   \n",
       "2  FF015050-8D55-EB11-8117-001DD8B72B61  Contact Lidmaatschap   \n",
       "3  FF015050-8D55-EB11-8117-001DD8B72B61  Contact Lidmaatschap   \n",
       "4  FF0A3AF6-0D42-E611-80D6-005056B06EC4  Contact Lidmaatschap   \n",
       "\n",
       "   marketing_pressure  Arbeidsmarkt  Bedrijfsbeheer  Duurzaamheid  \\\n",
       "0                  -1           0.0             0.0           0.0   \n",
       "1                   3           0.0             0.0           0.0   \n",
       "2                   9           0.0             0.0           0.0   \n",
       "3                   9           0.0             0.0           0.0   \n",
       "4                   1           0.0             0.0           0.0   \n",
       "\n",
       "   Familiebedrijfsmanagement  Financieel  Groeien en Netwerking  \\\n",
       "0                        0.0         0.0                    0.0   \n",
       "1                        0.0         0.0                    0.0   \n",
       "2                        0.0         0.0                    0.0   \n",
       "3                        0.0         0.0                    0.0   \n",
       "4                        0.0         0.0                    0.0   \n",
       "\n",
       "   Internationaal Ondernemen  Lidmaatschap  Logistiek en Transport  Plato  \\\n",
       "0                        0.0           0.0                     0.0    0.0   \n",
       "1                        0.0           0.0                     0.0    0.0   \n",
       "2                        0.0           0.0                     0.0    0.0   \n",
       "3                        0.0           0.0                     0.0    0.0   \n",
       "4                        0.0           0.0                     0.0    0.0   \n",
       "\n",
       "   Technologie en Innovatie  Welt  \n",
       "0                       0.0   0.0  \n",
       "1                       0.0   0.0  \n",
       "2                       0.0   0.0  \n",
       "3                       0.0   0.0  \n",
       "4                       0.0   0.0  "
      ]
     },
     "execution_count": 334,
     "metadata": {},
     "output_type": "execute_result"
    }
   ],
   "source": [
    "afspraakthema_counts = afspraken_merged.groupby('activiteitvereistcontact_reqattendee')['afspraak_thema_grouped'].value_counts().unstack(fill_value=0)\n",
    "accounts_merged = accounts_merged.merge(afspraakthema_counts, left_on='contact_contactpersoon_id', right_index=True, how='left').fillna(0)\n",
    "accounts_merged.head()"
   ]
  },
  {
   "cell_type": "code",
   "execution_count": null,
   "metadata": {},
   "outputs": [],
   "source": [
    "# RAM vrijmaken\n",
    "try:\n",
    "    del afspraken_merged\n",
    "    del activiteit_vereist_contact\n",
    "    del result\n",
    "except:\n",
    "    print(\"Data is niet meer beschikbaar / is al verwijderd\")"
   ]
  },
  {
   "cell_type": "markdown",
   "metadata": {},
   "source": [
    "#### 5. Cleaning voor de grote merge"
   ]
  },
  {
   "cell_type": "code",
   "execution_count": null,
   "metadata": {},
   "outputs": [],
   "source": [
    "onnodige_kolommen_campagnes = [\n",
    " 'campagne_campagne_nr',\n",
    " 'campagne_einddatum',\n",
    " 'campagne_naam',\n",
    " 'campagne_reden_van_status',\n",
    " 'campagne_naam_in_email',\n",
    " 'campagne_startdatum',\n",
    " 'campagne_url_voka_be',\n",
    " 'campagne_status',\n",
    " 'sessie_campagne',\n",
    "]\n",
    "\n",
    "campagnes_merged = campagnes_merged.drop(onnodige_kolommen_campagnes, axis=1)"
   ]
  },
  {
   "cell_type": "code",
   "execution_count": null,
   "metadata": {},
   "outputs": [],
   "source": [
    "# Drop duplicates\n",
    "accounts_merged = accounts_merged.drop_duplicates(keep='first')\n",
    "campagnes_merged = campagnes_merged.drop_duplicates(keep='first')"
   ]
  },
  {
   "cell_type": "code",
   "execution_count": null,
   "metadata": {},
   "outputs": [
    {
     "name": "stdout",
     "output_type": "stream",
     "text": [
      "<class 'pandas.core.frame.DataFrame'>\n",
      "Index: 104564 entries, 0 to 115973\n",
      "Data columns (total 19 columns):\n",
      " #   Column                               Non-Null Count   Dtype  \n",
      "---  ------                               --------------   -----  \n",
      " 0   account_adres_geografische_subregio  104564 non-null  object \n",
      " 1   account_ondernemingsaard             104564 non-null  object \n",
      " 2   account_ondernemingstype             104564 non-null  object \n",
      " 3   account_primaire_activiteit          104564 non-null  object \n",
      " 4   contact_contactpersoon_id            104564 non-null  object \n",
      " 5   functie_naam                         104564 non-null  object \n",
      " 6   marketing_pressure                   104564 non-null  int64  \n",
      " 7   Arbeidsmarkt                         104564 non-null  float64\n",
      " 8   Bedrijfsbeheer                       104564 non-null  float64\n",
      " 9   Duurzaamheid                         104564 non-null  float64\n",
      " 10  Familiebedrijfsmanagement            104564 non-null  float64\n",
      " 11  Financieel                           104564 non-null  float64\n",
      " 12  Groeien en Netwerking                104564 non-null  float64\n",
      " 13  Internationaal Ondernemen            104564 non-null  float64\n",
      " 14  Lidmaatschap                         104564 non-null  float64\n",
      " 15  Logistiek en Transport               104564 non-null  float64\n",
      " 16  Plato                                104564 non-null  float64\n",
      " 17  Technologie en Innovatie             104564 non-null  float64\n",
      " 18  Welt                                 104564 non-null  float64\n",
      "dtypes: float64(12), int64(1), object(6)\n",
      "memory usage: 16.0+ MB\n"
     ]
    }
   ],
   "source": [
    "accounts_merged.info()"
   ]
  },
  {
   "cell_type": "code",
   "execution_count": null,
   "metadata": {},
   "outputs": [
    {
     "name": "stdout",
     "output_type": "stream",
     "text": [
      "<class 'pandas.core.frame.DataFrame'>\n",
      "RangeIndex: 3951 entries, 0 to 3950\n",
      "Data columns (total 18 columns):\n",
      " #   Column                      Non-Null Count  Dtype \n",
      "---  ------                      --------------  ----- \n",
      " 0   campagne_campagne_id        3951 non-null   object\n",
      " 1   campagne_type_campagne      3951 non-null   object\n",
      " 2   campagne_soort_campagne     3951 non-null   object\n",
      " 3   Juridisch                   3951 non-null   int64 \n",
      " 4   Netwerking                  3951 non-null   int64 \n",
      " 5   Lidmaatschap                3951 non-null   int64 \n",
      " 6   Logistiek                   3951 non-null   int64 \n",
      " 7   Innovatie en Technologie    3951 non-null   int64 \n",
      " 8   Ondernemen                  3951 non-null   int64 \n",
      " 9   Onderwijs                   3951 non-null   int64 \n",
      " 10  Duurzaamheid                3951 non-null   int64 \n",
      " 11  Andere                      3951 non-null   int64 \n",
      " 12  Economie                    3951 non-null   int64 \n",
      " 13  Welt                        3951 non-null   int64 \n",
      " 14  Bryo                        3951 non-null   int64 \n",
      " 15  Algemeen                    3951 non-null   int64 \n",
      " 16  Veiligheid en communicatie  3951 non-null   int64 \n",
      " 17  unknown                     3951 non-null   int64 \n",
      "dtypes: int64(15), object(3)\n",
      "memory usage: 555.7+ KB\n"
     ]
    }
   ],
   "source": [
    "campagnes_merged.info()"
   ]
  },
  {
   "cell_type": "markdown",
   "metadata": {},
   "source": [
    "#### 6. Alles mergen"
   ]
  },
  {
   "cell_type": "code",
   "execution_count": null,
   "metadata": {},
   "outputs": [
    {
     "data": {
      "text/plain": [
       "(49175, 8)"
      ]
     },
     "execution_count": 340,
     "metadata": {},
     "output_type": "execute_result"
    }
   ],
   "source": [
    "import pandas as pd\n",
    "inschrijving = pd.read_csv('../data_clean/Inschrijving_fixed.csv', sep=',')\n",
    "inschrijving.shape"
   ]
  },
  {
   "cell_type": "code",
   "execution_count": null,
   "metadata": {},
   "outputs": [],
   "source": [
    "pq.write_table(pa.Table.from_pandas(accounts_merged), 'account_merged.parquet')\n",
    "pq.write_table(pa.Table.from_pandas(campagnes_merged), 'campagnes_merged.parquet')\n",
    "\n",
    "# Read DataFrames back from Parquet files\n",
    "account_merged_parquet = pd.read_parquet('account_merged.parquet')\n",
    "campagnes_merged_parquet = pd.read_parquet('campagnes_merged.parquet')"
   ]
  },
  {
   "cell_type": "code",
   "execution_count": null,
   "metadata": {},
   "outputs": [],
   "source": [
    "merged_total = pd.merge(account_merged_parquet.assign(key=1), campagnes_merged_parquet.assign(key=1), on='key').drop('key', axis=1)\n",
    "merged_total.shape"
   ]
  },
  {
   "cell_type": "code",
   "execution_count": null,
   "metadata": {},
   "outputs": [],
   "source": [
    "# RAM vrijmaken\n",
    "try:\n",
    "    del accounts_merged\n",
    "    del campagnes_merged\n",
    "    del account_merged_parquet\n",
    "    del campagnes_merged_parquet\n",
    "except:\n",
    "    print(\"Data is niet meer beschikbaar / is al verwijderd\")"
   ]
  },
  {
   "cell_type": "code",
   "execution_count": null,
   "metadata": {},
   "outputs": [
    {
     "data": {
      "text/plain": [
       "ingeschreven\n",
       "0    19754\n",
       "1        1\n",
       "Name: count, dtype: int64"
      ]
     },
     "execution_count": 165,
     "metadata": {},
     "output_type": "execute_result"
    }
   ],
   "source": [
    "merged_total[\"ingeschreven\"] = 0\n",
    "\n",
    "for index, row in merged_total.iterrows():\n",
    "    if ((inschrijving['inschrijving_contactfiche'] == row['contact_contactpersoon_id']) & (inschrijving['inschrijving_campagne'] == row['campagne_campagne_id'])).any():\n",
    "        merged_total.at[index, 'ingeschreven'] = 1"
   ]
  },
  {
   "cell_type": "code",
   "execution_count": null,
   "metadata": {},
   "outputs": [],
   "source": [
    "merged_total = merged_total.drop(['contact_contactpersoon_id', 'campagne_campagne_id'], axis=1)"
   ]
  },
  {
   "cell_type": "markdown",
   "metadata": {},
   "source": [
    "#### 7. Alle samples nemen met inschrijving == 1 en 200k samples nemen met inschrijving == 0"
   ]
  },
  {
   "cell_type": "code",
   "execution_count": null,
   "metadata": {},
   "outputs": [],
   "source": [
    "df_ingeschreven = merged_total[merged_total['ingeschreven'] == 1]\n",
    "df_niet_ingeschreven = merged_total[merged_total['ingeschreven'] == 0].sample(n=200000, random_state=42)\n",
    "\n",
    "merged_total = pd.concat([df_ingeschreven, df_niet_ingeschreven])\n",
    "merged_total['ingeschreven'].value_counts()"
   ]
  },
  {
   "cell_type": "markdown",
   "metadata": {},
   "source": [
    "#### 8. Verdere data cleaning en One/Multi hot encoding"
   ]
  },
  {
   "cell_type": "code",
   "execution_count": null,
   "metadata": {},
   "outputs": [],
   "source": [
    "from sklearn.preprocessing import OneHotEncoder\n",
    "import category_encoders as ce\n",
    "\n",
    "oneHot = OneHotEncoder(sparse=False)"
   ]
  },
  {
   "cell_type": "code",
   "execution_count": null,
   "metadata": {},
   "outputs": [
    {
     "name": "stderr",
     "output_type": "stream",
     "text": [
      "C:\\Users\\marlo\\AppData\\Local\\Packages\\PythonSoftwareFoundation.Python.3.11_qbz5n2kfra8p0\\LocalCache\\local-packages\\Python311\\site-packages\\sklearn\\preprocessing\\_encoders.py:975: FutureWarning: `sparse` was renamed to `sparse_output` in version 1.2 and will be removed in 1.4. `sparse_output` is ignored unless you leave `sparse` to its default value.\n",
      "  warnings.warn(\n"
     ]
    }
   ],
   "source": [
    "# Subregio\n",
    "subregio_1hot = oneHot.fit_transform(merged_total[['account_adres_geografische_subregio']])"
   ]
  },
  {
   "cell_type": "code",
   "execution_count": null,
   "metadata": {},
   "outputs": [],
   "source": [
    "# Ondernemingstype\n",
    "be_ondernemingstype = ce.BinaryEncoder(cols=['account_ondernemingstype'])\n",
    "encoded_ondernemingstype = be_ondernemingstype.fit_transform(merged_total['account_ondernemingstype'])\n",
    "merged_total = merged_total.join(encoded_ondernemingstype, rsuffix='_ondernemingstype')"
   ]
  },
  {
   "cell_type": "code",
   "execution_count": null,
   "metadata": {},
   "outputs": [],
   "source": [
    "# Primaire activiteit\n",
    "be_primaire_activiteit = ce.BinaryEncoder(cols=['account_primaire_activiteit'])\n",
    "encoded_primaire_activiteit = be_primaire_activiteit.fit_transform(merged_total['account_primaire_activiteit'])\n",
    "merged_total = merged_total.join(encoded_primaire_activiteit, rsuffix='_primaire_activiteit')"
   ]
  },
  {
   "cell_type": "code",
   "execution_count": null,
   "metadata": {},
   "outputs": [],
   "source": [
    "# Ondernemingsaard\n",
    "diensten_column = []\n",
    "productie_column = []\n",
    "\n",
    "for label in merged_total[\"account_ondernemingsaard\"]:\n",
    "    if label == \"Diensten\":\n",
    "        diensten_column.append(1)\n",
    "        productie_column.append(0)\n",
    "    elif label == \"Productie\":\n",
    "        diensten_column.append(0)\n",
    "        productie_column.append(1)\n",
    "    elif label == \"Productie & Diensten\":\n",
    "        diensten_column.append(1)\n",
    "        productie_column.append(1)\n",
    "    elif label == \"unknown\":\n",
    "        diensten_column.append(0)\n",
    "        productie_column.append(0)\n",
    "\n",
    "ondernemingsaard_multihot = pd.DataFrame({\"Diensten\": diensten_column, \"Productie\": productie_column})\n",
    "merged_total = merged_total.join(ondernemingsaard_multihot, rsuffix='_ondernemingsaard')"
   ]
  },
  {
   "cell_type": "code",
   "execution_count": null,
   "metadata": {},
   "outputs": [
    {
     "name": "stderr",
     "output_type": "stream",
     "text": [
      "C:\\Users\\marlo\\AppData\\Local\\Packages\\PythonSoftwareFoundation.Python.3.11_qbz5n2kfra8p0\\LocalCache\\local-packages\\Python311\\site-packages\\sklearn\\preprocessing\\_encoders.py:975: FutureWarning: `sparse` was renamed to `sparse_output` in version 1.2 and will be removed in 1.4. `sparse_output` is ignored unless you leave `sparse` to its default value.\n",
      "  warnings.warn(\n"
     ]
    }
   ],
   "source": [
    "# Functie_naam\n",
    "def transform_role(role):\n",
    "    if \"Verantwoordelijke\" in role:\n",
    "        return \"Verantwoordelijke\"\n",
    "    elif \"Medewerker\" in role:\n",
    "        return \"Medewerker\"\n",
    "    else:\n",
    "        return role\n",
    "\n",
    "merged_total['functie_naam'] = merged_total['functie_naam'].apply(transform_role)\n",
    "functie_1hot = oneHot.fit_transform(merged_total[['functie_naam']])"
   ]
  },
  {
   "cell_type": "code",
   "execution_count": null,
   "metadata": {},
   "outputs": [],
   "source": [
    "# Campagne soort\n",
    "online_column = []\n",
    "offline_column = []\n",
    "\n",
    "for label in merged_total[\"campagne_soort_campagne\"]:\n",
    "    if label == \"Offline\":\n",
    "        online_column.append(0)\n",
    "        offline_column.append(1)\n",
    "    elif label == \"Online\":\n",
    "        online_column.append(1)\n",
    "        offline_column.append(0)\n",
    "    elif label == \"On en Offline\":\n",
    "        online_column.append(1)\n",
    "        offline_column.append(1)\n",
    "    else:\n",
    "        online_column.append(0)\n",
    "        offline_column.append(0)\n",
    "\n",
    "campagne_soort_multihot = pd.DataFrame({\"Online\": online_column, \"Offline\": offline_column})\n",
    "merged_total = merged_total.join(campagne_soort_multihot, rsuffix='_campagne_soort')"
   ]
  },
  {
   "cell_type": "code",
   "execution_count": null,
   "metadata": {},
   "outputs": [
    {
     "name": "stderr",
     "output_type": "stream",
     "text": [
      "C:\\Users\\marlo\\AppData\\Local\\Packages\\PythonSoftwareFoundation.Python.3.11_qbz5n2kfra8p0\\LocalCache\\local-packages\\Python311\\site-packages\\sklearn\\preprocessing\\_encoders.py:975: FutureWarning: `sparse` was renamed to `sparse_output` in version 1.2 and will be removed in 1.4. `sparse_output` is ignored unless you leave `sparse` to its default value.\n",
      "  warnings.warn(\n"
     ]
    }
   ],
   "source": [
    "# Campagne type\n",
    "campagne_type_1hot = oneHot.fit_transform(merged_total[['campagne_type_campagne']])"
   ]
  },
  {
   "cell_type": "code",
   "execution_count": null,
   "metadata": {},
   "outputs": [],
   "source": [
    "merged_total = merged_total.drop(['account_adres_geografische_subregio', 'account_ondernemingstype', 'account_primaire_activiteit', 'account_ondernemingsaard', 'functie_naam'], axis=1)\n",
    "merged_total = merged_total.drop(['campagne_soort_campagne', 'campagne_type_campagne'], axis=1)"
   ]
  },
  {
   "cell_type": "code",
   "execution_count": null,
   "metadata": {},
   "outputs": [],
   "source": [
    "# Al de one hot encodings samenvoegen\n",
    "merged_total = merged_total.join(pd.DataFrame(subregio_1hot), rsuffix='_subregio')\n",
    "merged_total = merged_total.join(pd.DataFrame(functie_1hot), rsuffix='_functie')\n",
    "merged_total = merged_total.join(pd.DataFrame(campagne_type_1hot), rsuffix='_campagne_type')"
   ]
  },
  {
   "cell_type": "code",
   "execution_count": null,
   "metadata": {},
   "outputs": [],
   "source": [
    "# convert all columns to int8\n",
    "merged_total = merged_total.astype('int8', errors='ignore')\n",
    "merged_total = merged_total.astype('int8', errors='ignore')"
   ]
  },
  {
   "cell_type": "code",
   "execution_count": null,
   "metadata": {},
   "outputs": [],
   "source": [
    "merged_total = merged_total.fillna(0)\n",
    "merged_total = merged_total.fillna(0)"
   ]
  },
  {
   "cell_type": "code",
   "execution_count": null,
   "metadata": {},
   "outputs": [],
   "source": [
    "# RAM vrijmaken\n",
    "try:\n",
    "    del ondernemingsaard_multihot\n",
    "    del functie_1hot\n",
    "    del campagne_soort_multihot\n",
    "    del campagne_type_1hot\n",
    "except:\n",
    "    print(\"Data is niet meer beschikbaar / is al verwijderd\")\n"
   ]
  },
  {
   "cell_type": "markdown",
   "metadata": {},
   "source": [
    "#### 9. Dataset opslaan"
   ]
  },
  {
   "cell_type": "code",
   "execution_count": null,
   "metadata": {},
   "outputs": [],
   "source": [
    "# Save to csv\n",
    "merged_total.to_csv('../data_clean/AA_Supervised_dataset.csv', index=False)"
   ]
  }
 ],
 "metadata": {
  "kernelspec": {
   "display_name": "Python 3",
   "language": "python",
   "name": "python3"
  },
  "language_info": {
   "codemirror_mode": {
    "name": "ipython",
    "version": 3
   },
   "file_extension": ".py",
   "mimetype": "text/x-python",
   "name": "python",
   "nbconvert_exporter": "python",
   "pygments_lexer": "ipython3",
   "version": "3.11.6"
  }
 },
 "nbformat": 4,
 "nbformat_minor": 2
}
