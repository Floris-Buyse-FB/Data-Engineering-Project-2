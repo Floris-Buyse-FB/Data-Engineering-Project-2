{
 "cells": [
  {
   "cell_type": "code",
   "execution_count": 847,
   "metadata": {},
   "outputs": [],
   "source": [
    "import pandas as pd\n",
    "import numpy as np\n",
    "import matplotlib.pyplot as plt\n",
    "import seaborn as sns\n",
    "import os"
   ]
  },
  {
   "cell_type": "markdown",
   "metadata": {},
   "source": [
    "### Account cleanen"
   ]
  },
  {
   "cell_type": "code",
   "execution_count": 848,
   "metadata": {},
   "outputs": [
    {
     "data": {
      "text/plain": [
       "(41859, 3)"
      ]
     },
     "execution_count": 848,
     "metadata": {},
     "output_type": "execute_result"
    }
   ],
   "source": [
    "df_account = pd.read_csv('../data_clean/Account_fixed.csv')\n",
    "\n",
    "# alleen de actieve accounts\n",
    "df_account = df_account[df_account['account_reden_van_status'] != 'Inactief']\n",
    "df_account = df_account[df_account['account_reden_van_status'] != 'Stopzetting']\n",
    "\n",
    "# onnodige kolommen verwijderen\n",
    "df_account.drop(['account_industriezone_naam_',\n",
    "           'account_oprichtingsdatum',\n",
    "           'account_reden_van_status',\n",
    "           'account_status',\n",
    "           'account_voka_nr_',\n",
    "           'account_is_voka_entiteit',\n",
    "], axis=1, inplace=True)\n",
    "\n",
    "# alleen de accounts uit Oost-Vlaanderen\n",
    "df_account = df_account[df_account['account_adres_provincie'] == 'Oost-Vlaanderen']\n",
    "\n",
    "# account adres samenvoegen\n",
    "plaats = df_account['account_adres_plaats'].str.lower().str.capitalize()\n",
    "postcode = df_account['account_adres_postcode'].astype(str)\n",
    "subregio = df_account['account_adres_geografische_subregio'].str.lower().str.capitalize()\n",
    "provincie = df_account['account_adres_provincie'].str.lower().str.capitalize()\n",
    "land = df_account['account_adres_land'].str.lower().str.capitalize()\n",
    "\n",
    "df_account['account_adres'] = plaats + ' ' + postcode + ' ' + subregio + ' ' + provincie + ' ' + land\n",
    "\n",
    "df_account.drop(['account_adres_geografische_regio', \n",
    "           'account_adres_geografische_subregio', \n",
    "           'account_adres_plaats', 'account_adres_postcode', \n",
    "           'account_adres_provincie', 'account_adres_land'], axis=1, inplace=True)\n",
    "\n",
    "# account ondernemingstype samenvoegen\n",
    "df_account['account_onderneming'] = df_account['account_ondernemingstype'] + ', ' \\\n",
    "                            + df_account['account_ondernemingsaard'] + ', ' \\\n",
    "                            + df_account['account_primaire_activiteit'] + ' ' \\\n",
    "\n",
    "df_account.drop(['account_ondernemingstype', \n",
    "           'account_ondernemingsaard', \n",
    "           'account_primaire_activiteit'], axis=1, inplace=True)\n",
    "\n",
    "# account ondernemingstype strings opschonen\n",
    "df_account['account_onderneming'] = df_account['account_onderneming'].str.replace('unknown', '')\n",
    "df_account['account_onderneming'] = df_account['account_onderneming'].str.strip()\n",
    "df_account['account_onderneming'] = df_account['account_onderneming'].str.lower().str.capitalize()\n",
    "\n",
    "df_account.shape"
   ]
  },
  {
   "cell_type": "markdown",
   "metadata": {},
   "source": [
    "### Contact cleanen"
   ]
  },
  {
   "cell_type": "code",
   "execution_count": 849,
   "metadata": {},
   "outputs": [
    {
     "data": {
      "text/plain": [
       "(393514, 4)"
      ]
     },
     "execution_count": 849,
     "metadata": {},
     "output_type": "execute_result"
    }
   ],
   "source": [
    "df_contact = pd.read_csv('../data_clean/Contact_fixed.csv')\n",
    "\n",
    "df_contact = df_contact[df_contact['contact_status'] != 'Inactief']\n",
    "df_contact.drop(['contact_status', 'contact_voka_medewerker'], axis=1, inplace=True)\n",
    "\n",
    "df_contact.shape"
   ]
  },
  {
   "cell_type": "markdown",
   "metadata": {},
   "source": [
    "### Mergen van Account en Contact zodat alleen de contacten van Oost-Vlaanderen overblijven"
   ]
  },
  {
   "cell_type": "markdown",
   "metadata": {},
   "source": [
    "Inner join, anders 11000 accounts zonder contactpersoon"
   ]
  },
  {
   "cell_type": "code",
   "execution_count": 850,
   "metadata": {},
   "outputs": [
    {
     "data": {
      "text/plain": [
       "(67299, 6)"
      ]
     },
     "execution_count": 850,
     "metadata": {},
     "output_type": "execute_result"
    }
   ],
   "source": [
    "df_account_contact = df_account.merge(df_contact, left_on='account_account_id', right_on='contact_account', how='inner')\n",
    "df_account_contact.drop(['contact_account'], axis=1, inplace=True)\n",
    "df_account_contact.shape"
   ]
  },
  {
   "cell_type": "markdown",
   "metadata": {},
   "source": [
    "##### Persoon cleanen"
   ]
  },
  {
   "cell_type": "code",
   "execution_count": 851,
   "metadata": {},
   "outputs": [],
   "source": [
    "# df_persoon = pd.read_csv('../data_clean/Persoon_fixed.csv')\n",
    "\n",
    "# df_persoon = df_persoon[df_persoon['persoon_mail_regio_oost_vlaanderen'] == 1]\n",
    "# df_persoon = df_persoon[df_persoon['persoon_reden_van_status'] == 'Actief']\n",
    "\n",
    "# for col in df_persoon.columns:\n",
    "#     if col.__contains__('persoon_mail_regio'):\n",
    "#         df_persoon.drop(col, axis=1, inplace=True)\n",
    "\n",
    "# df_persoon.drop(['persoon_persoonsnr_', 'persoon_web_login', 'persoon_reden_van_status'], axis=1, inplace=True)\n",
    "\n",
    "# df_persoon.shape"
   ]
  },
  {
   "cell_type": "markdown",
   "metadata": {},
   "source": [
    "### Account_contact mergen met persoon"
   ]
  },
  {
   "cell_type": "code",
   "execution_count": 852,
   "metadata": {},
   "outputs": [],
   "source": [
    "# df_account_contact_persoon = df_account_contact.merge(df_persoon, left_on='contact_persoon_id', right_on='persoon_persoon_id', how='left')\n",
    "# df_account_contact_persoon.drop(['contact_persoon_id'], axis=1, inplace=True)\n",
    "# df_account_contact_persoon.shape"
   ]
  },
  {
   "cell_type": "code",
   "execution_count": 853,
   "metadata": {},
   "outputs": [],
   "source": [
    "# df_account_contact_persoon.info()"
   ]
  },
  {
   "cell_type": "markdown",
   "metadata": {},
   "source": [
    "##### Persoon niet meer gebruiken -> maar 4374 non-null"
   ]
  },
  {
   "cell_type": "code",
   "execution_count": 854,
   "metadata": {},
   "outputs": [],
   "source": [
    "df_account_contact.drop(['contact_persoon_id'], axis=1, inplace=True)"
   ]
  },
  {
   "cell_type": "markdown",
   "metadata": {},
   "source": [
    "### Account_contact mergen met contactfunctie en functie"
   ]
  },
  {
   "cell_type": "code",
   "execution_count": 855,
   "metadata": {},
   "outputs": [
    {
     "data": {
      "text/plain": [
       "Index(['contactfunctie_contactpersoon', 'contactfunctie_functie'], dtype='object')"
      ]
     },
     "execution_count": 855,
     "metadata": {},
     "output_type": "execute_result"
    }
   ],
   "source": [
    "df_contact_functie = pd.read_csv('../data_clean/Contact_functie_fixed.csv')\n",
    "df_contact_functie.columns"
   ]
  },
  {
   "cell_type": "code",
   "execution_count": 856,
   "metadata": {},
   "outputs": [
    {
     "data": {
      "text/plain": [
       "Index(['functie_functie_id', 'functie_naam'], dtype='object')"
      ]
     },
     "execution_count": 856,
     "metadata": {},
     "output_type": "execute_result"
    }
   ],
   "source": [
    "df_functie = pd.read_csv('../data_clean/Functie_fixed.csv')\n",
    "df_functie.columns"
   ]
  },
  {
   "cell_type": "markdown",
   "metadata": {},
   "source": [
    "Merge contact functie"
   ]
  },
  {
   "cell_type": "code",
   "execution_count": 857,
   "metadata": {},
   "outputs": [
    {
     "data": {
      "text/plain": [
       "(90938, 6)"
      ]
     },
     "execution_count": 857,
     "metadata": {},
     "output_type": "execute_result"
    }
   ],
   "source": [
    "df_account_contact = df_account_contact.merge(df_contact_functie, left_on='contact_contactpersoon_id', right_on='contactfunctie_contactpersoon', how='inner')\n",
    "df_account_contact.drop(['contactfunctie_contactpersoon'], axis=1, inplace=True)\n",
    "df_account_contact.shape"
   ]
  },
  {
   "cell_type": "markdown",
   "metadata": {},
   "source": [
    "Merge met functie"
   ]
  },
  {
   "cell_type": "code",
   "execution_count": 858,
   "metadata": {},
   "outputs": [
    {
     "data": {
      "text/plain": [
       "(90938, 6)"
      ]
     },
     "execution_count": 858,
     "metadata": {},
     "output_type": "execute_result"
    }
   ],
   "source": [
    "df_account_contact = df_account_contact.merge(df_functie, left_on='contactfunctie_functie', right_on='functie_functie_id', how='inner')\n",
    "df_account_contact.drop(['contactfunctie_functie', 'functie_functie_id'], axis=1, inplace=True)\n",
    "df_account_contact.shape"
   ]
  },
  {
   "cell_type": "markdown",
   "metadata": {},
   "source": [
    "##### Functie naam kan verschillend zijn voor hetzelfde contact, dus die mergen we"
   ]
  },
  {
   "cell_type": "code",
   "execution_count": 859,
   "metadata": {},
   "outputs": [
    {
     "data": {
      "text/plain": [
       "(67225, 6)"
      ]
     },
     "execution_count": 859,
     "metadata": {},
     "output_type": "execute_result"
    }
   ],
   "source": [
    "# Define a custom aggregation function to merge 'functie_naam'\n",
    "def merge_functie_naam(series):\n",
    "    return ', '.join(series)\n",
    "\n",
    "# Group by 'account_account_id' and 'contact_contactpersoon_id' and merge 'functie_naam'\n",
    "df_account_contact = df_account_contact.groupby(\n",
    "    ['account_account_id', 'contact_contactpersoon_id'], \n",
    "    as_index=False).agg({'functie_naam': merge_functie_naam, \n",
    "                         **{col: 'first' for col in df_account_contact.columns if col != 'functie_naam'}})\n",
    "\n",
    "df_account_contact.shape"
   ]
  },
  {
   "cell_type": "markdown",
   "metadata": {},
   "source": [
    "### Account_contact mergen met account_activiteitscode en activiteitscode"
   ]
  },
  {
   "cell_type": "code",
   "execution_count": 860,
   "metadata": {},
   "outputs": [
    {
     "name": "stdout",
     "output_type": "stream",
     "text": [
      "(14673, 3)\n"
     ]
    },
    {
     "data": {
      "text/plain": [
       "Index(['account_activiteitscode_account',\n",
       "       'account_activiteitscode_activiteitscode',\n",
       "       'account_activiteitscode_inf_account_inf_activiteitscodeid'],\n",
       "      dtype='object')"
      ]
     },
     "execution_count": 860,
     "metadata": {},
     "output_type": "execute_result"
    }
   ],
   "source": [
    "df_account_activiteitscode = pd.read_csv('../data_clean/Account_activiteitscode_fixed.csv')\n",
    "print(df_account_activiteitscode.shape)\n",
    "df_account_activiteitscode.columns"
   ]
  },
  {
   "cell_type": "code",
   "execution_count": 861,
   "metadata": {},
   "outputs": [
    {
     "name": "stdout",
     "output_type": "stream",
     "text": [
      "(40, 3)\n"
     ]
    },
    {
     "data": {
      "text/plain": [
       "Index(['activiteitscode_naam', 'activiteitscode_activiteitscode_id',\n",
       "       'activiteitscode_status'],\n",
       "      dtype='object')"
      ]
     },
     "execution_count": 861,
     "metadata": {},
     "output_type": "execute_result"
    }
   ],
   "source": [
    "df_activiteitscode = pd.read_csv('../data_clean/Activiteitscode_fixed.csv')\n",
    "print(df_activiteitscode.shape)\n",
    "df_activiteitscode.columns"
   ]
  },
  {
   "cell_type": "markdown",
   "metadata": {},
   "source": [
    "account_activiteitscode mergen met activiteitscode"
   ]
  },
  {
   "cell_type": "code",
   "execution_count": 862,
   "metadata": {},
   "outputs": [
    {
     "data": {
      "text/plain": [
       "(14665, 2)"
      ]
     },
     "execution_count": 862,
     "metadata": {},
     "output_type": "execute_result"
    }
   ],
   "source": [
    "df_activiteit = df_account_activiteitscode.merge(df_activiteitscode, left_on='account_activiteitscode_activiteitscode', right_on='activiteitscode_activiteitscode_id', how='inner')\n",
    "df_activiteit = df_activiteit[df_activiteit['activiteitscode_status'] == 'Actief']\n",
    "df_activiteit.drop(['account_activiteitscode_activiteitscode', 'activiteitscode_activiteitscode_id', 'activiteitscode_status', 'account_activiteitscode_inf_account_inf_activiteitscodeid'], axis=1, inplace=True)\n",
    "df_activiteit.shape"
   ]
  },
  {
   "cell_type": "markdown",
   "metadata": {},
   "source": [
    "activiteitscode naam combineren waar account niet uniek is"
   ]
  },
  {
   "cell_type": "code",
   "execution_count": 863,
   "metadata": {},
   "outputs": [
    {
     "name": "stdout",
     "output_type": "stream",
     "text": [
      "(13408, 2)\n"
     ]
    },
    {
     "data": {
      "text/html": [
       "<div>\n",
       "<style scoped>\n",
       "    .dataframe tbody tr th:only-of-type {\n",
       "        vertical-align: middle;\n",
       "    }\n",
       "\n",
       "    .dataframe tbody tr th {\n",
       "        vertical-align: top;\n",
       "    }\n",
       "\n",
       "    .dataframe thead th {\n",
       "        text-align: right;\n",
       "    }\n",
       "</style>\n",
       "<table border=\"1\" class=\"dataframe\">\n",
       "  <thead>\n",
       "    <tr style=\"text-align: right;\">\n",
       "      <th></th>\n",
       "      <th>activiteitscode_naam</th>\n",
       "      <th>account_activiteitscode_account</th>\n",
       "    </tr>\n",
       "  </thead>\n",
       "  <tbody>\n",
       "    <tr>\n",
       "      <th>0</th>\n",
       "      <td>Overige industrie &amp; diensten</td>\n",
       "      <td>00002DAC-0A69-E111-B43A-00505680000A</td>\n",
       "    </tr>\n",
       "    <tr>\n",
       "      <th>1</th>\n",
       "      <td>Consultancy</td>\n",
       "      <td>00068436-F919-E211-9DAA-005056B06EB4</td>\n",
       "    </tr>\n",
       "    <tr>\n",
       "      <th>2</th>\n",
       "      <td>Technologische industrie &amp; diensten</td>\n",
       "      <td>0009A6E6-2369-E111-B43A-00505680000A</td>\n",
       "    </tr>\n",
       "    <tr>\n",
       "      <th>3</th>\n",
       "      <td>Voeding</td>\n",
       "      <td>000D39CF-BE68-E111-B43A-00505680000A</td>\n",
       "    </tr>\n",
       "    <tr>\n",
       "      <th>4</th>\n",
       "      <td>Overige industrie &amp; diensten</td>\n",
       "      <td>0016CAE8-BD68-E111-B43A-00505680000A</td>\n",
       "    </tr>\n",
       "  </tbody>\n",
       "</table>\n",
       "</div>"
      ],
      "text/plain": [
       "                  activiteitscode_naam       account_activiteitscode_account\n",
       "0         Overige industrie & diensten  00002DAC-0A69-E111-B43A-00505680000A\n",
       "1                          Consultancy  00068436-F919-E211-9DAA-005056B06EB4\n",
       "2  Technologische industrie & diensten  0009A6E6-2369-E111-B43A-00505680000A\n",
       "3                              Voeding  000D39CF-BE68-E111-B43A-00505680000A\n",
       "4         Overige industrie & diensten  0016CAE8-BD68-E111-B43A-00505680000A"
      ]
     },
     "execution_count": 863,
     "metadata": {},
     "output_type": "execute_result"
    }
   ],
   "source": [
    "# where account_activiteitscode_account is not unique, combine the activiteitscode_naam\n",
    "def merge_activiteitscode_naam(series):\n",
    "    return ', '.join(series)\n",
    "\n",
    "df_activiteit = df_activiteit.groupby(\n",
    "    ['account_activiteitscode_account'], \n",
    "    as_index=False).agg({'activiteitscode_naam': merge_activiteitscode_naam, \n",
    "                         **{col: 'first' for col in df_activiteit.columns if col != 'activiteitscode_naam'}})\n",
    "\n",
    "print(df_activiteit.shape)\n",
    "\n",
    "df_activiteit.head()"
   ]
  },
  {
   "cell_type": "markdown",
   "metadata": {},
   "source": [
    "mergen met account_contact"
   ]
  },
  {
   "cell_type": "code",
   "execution_count": 864,
   "metadata": {},
   "outputs": [
    {
     "data": {
      "text/plain": [
       "(67225, 7)"
      ]
     },
     "execution_count": 864,
     "metadata": {},
     "output_type": "execute_result"
    }
   ],
   "source": [
    "df_account_contact = df_account_contact.merge(df_activiteit, left_on='account_account_id', right_on='account_activiteitscode_account', how='left')\n",
    "df_account_contact.drop(['account_activiteitscode_account'], axis=1, inplace=True)\n",
    "df_account_contact.shape"
   ]
  },
  {
   "cell_type": "markdown",
   "metadata": {},
   "source": [
    "#####  Maar 16160 vd 67225 activiteitscodes zijn non-null"
   ]
  },
  {
   "cell_type": "code",
   "execution_count": 865,
   "metadata": {},
   "outputs": [
    {
     "name": "stdout",
     "output_type": "stream",
     "text": [
      "<class 'pandas.core.frame.DataFrame'>\n",
      "RangeIndex: 67225 entries, 0 to 67224\n",
      "Data columns (total 7 columns):\n",
      " #   Column                     Non-Null Count  Dtype \n",
      "---  ------                     --------------  ----- \n",
      " 0   functie_naam               67225 non-null  object\n",
      " 1   account_account_id         67225 non-null  object\n",
      " 2   account_adres              67225 non-null  object\n",
      " 3   account_onderneming        67225 non-null  object\n",
      " 4   contact_contactpersoon_id  67225 non-null  object\n",
      " 5   contact_functietitel       67225 non-null  object\n",
      " 6   activiteitscode_naam       16160 non-null  object\n",
      "dtypes: object(7)\n",
      "memory usage: 3.6+ MB\n"
     ]
    }
   ],
   "source": [
    "df_account_contact.info()"
   ]
  },
  {
   "cell_type": "markdown",
   "metadata": {},
   "source": [
    "### Account financiele data mergen met account_contact"
   ]
  },
  {
   "cell_type": "code",
   "execution_count": 866,
   "metadata": {},
   "outputs": [
    {
     "name": "stdout",
     "output_type": "stream",
     "text": [
      "(2030180, 3)\n"
     ]
    },
    {
     "data": {
      "text/plain": [
       "Index(['financieledata_ondernemingid', 'financieledata_boekjaar',\n",
       "       'financieledata_toegevoegde_waarde'],\n",
       "      dtype='object')"
      ]
     },
     "execution_count": 866,
     "metadata": {},
     "output_type": "execute_result"
    }
   ],
   "source": [
    "df_account_financieel = pd.read_csv('../data_clean/Account_financiële_data_fixed.csv', sep=',')\n",
    "df_account_financieel.drop(['financieledata_gewijzigd_op', 'financieledata_fte', 'financieledata_aantal_maanden'], axis=1, inplace=True)\n",
    "df_account_financieel['financieledata_toegevoegde_waarde'] = df_account_financieel['financieledata_toegevoegde_waarde'].astype(str)\n",
    "\n",
    "print(df_account_financieel.shape)\n",
    "df_account_financieel.columns"
   ]
  },
  {
   "cell_type": "code",
   "execution_count": 867,
   "metadata": {},
   "outputs": [
    {
     "data": {
      "text/html": [
       "<div>\n",
       "<style scoped>\n",
       "    .dataframe tbody tr th:only-of-type {\n",
       "        vertical-align: middle;\n",
       "    }\n",
       "\n",
       "    .dataframe tbody tr th {\n",
       "        vertical-align: top;\n",
       "    }\n",
       "\n",
       "    .dataframe thead th {\n",
       "        text-align: right;\n",
       "    }\n",
       "</style>\n",
       "<table border=\"1\" class=\"dataframe\">\n",
       "  <thead>\n",
       "    <tr style=\"text-align: right;\">\n",
       "      <th></th>\n",
       "      <th>financieledata_ondernemingid</th>\n",
       "      <th>financieledata_boekjaar</th>\n",
       "      <th>financieledata_toegevoegde_waarde</th>\n",
       "    </tr>\n",
       "  </thead>\n",
       "  <tbody>\n",
       "    <tr>\n",
       "      <th>0</th>\n",
       "      <td>00002DAC-0A69-E111-B43A-00505680000A</td>\n",
       "      <td>2007</td>\n",
       "      <td>unknown</td>\n",
       "    </tr>\n",
       "    <tr>\n",
       "      <th>1</th>\n",
       "      <td>00002DAC-0A69-E111-B43A-00505680000A</td>\n",
       "      <td>2008</td>\n",
       "      <td>unknown</td>\n",
       "    </tr>\n",
       "    <tr>\n",
       "      <th>2</th>\n",
       "      <td>00002DAC-0A69-E111-B43A-00505680000A</td>\n",
       "      <td>2009</td>\n",
       "      <td>unknown</td>\n",
       "    </tr>\n",
       "    <tr>\n",
       "      <th>3</th>\n",
       "      <td>00002DAC-0A69-E111-B43A-00505680000A</td>\n",
       "      <td>2010</td>\n",
       "      <td>unknown</td>\n",
       "    </tr>\n",
       "    <tr>\n",
       "      <th>4</th>\n",
       "      <td>00002DAC-0A69-E111-B43A-00505680000A</td>\n",
       "      <td>2011</td>\n",
       "      <td>unknown</td>\n",
       "    </tr>\n",
       "    <tr>\n",
       "      <th>5</th>\n",
       "      <td>00002DAC-0A69-E111-B43A-00505680000A</td>\n",
       "      <td>2012</td>\n",
       "      <td>unknown</td>\n",
       "    </tr>\n",
       "    <tr>\n",
       "      <th>6</th>\n",
       "      <td>00002DAC-0A69-E111-B43A-00505680000A</td>\n",
       "      <td>2013</td>\n",
       "      <td>69164</td>\n",
       "    </tr>\n",
       "    <tr>\n",
       "      <th>7</th>\n",
       "      <td>00002DAC-0A69-E111-B43A-00505680000A</td>\n",
       "      <td>2014</td>\n",
       "      <td>46718</td>\n",
       "    </tr>\n",
       "    <tr>\n",
       "      <th>8</th>\n",
       "      <td>00002DAC-0A69-E111-B43A-00505680000A</td>\n",
       "      <td>2015</td>\n",
       "      <td>23551</td>\n",
       "    </tr>\n",
       "    <tr>\n",
       "      <th>9</th>\n",
       "      <td>00002DAC-0A69-E111-B43A-00505680000A</td>\n",
       "      <td>2016</td>\n",
       "      <td>65481</td>\n",
       "    </tr>\n",
       "  </tbody>\n",
       "</table>\n",
       "</div>"
      ],
      "text/plain": [
       "           financieledata_ondernemingid  financieledata_boekjaar   \n",
       "0  00002DAC-0A69-E111-B43A-00505680000A                     2007  \\\n",
       "1  00002DAC-0A69-E111-B43A-00505680000A                     2008   \n",
       "2  00002DAC-0A69-E111-B43A-00505680000A                     2009   \n",
       "3  00002DAC-0A69-E111-B43A-00505680000A                     2010   \n",
       "4  00002DAC-0A69-E111-B43A-00505680000A                     2011   \n",
       "5  00002DAC-0A69-E111-B43A-00505680000A                     2012   \n",
       "6  00002DAC-0A69-E111-B43A-00505680000A                     2013   \n",
       "7  00002DAC-0A69-E111-B43A-00505680000A                     2014   \n",
       "8  00002DAC-0A69-E111-B43A-00505680000A                     2015   \n",
       "9  00002DAC-0A69-E111-B43A-00505680000A                     2016   \n",
       "\n",
       "  financieledata_toegevoegde_waarde  \n",
       "0                           unknown  \n",
       "1                           unknown  \n",
       "2                           unknown  \n",
       "3                           unknown  \n",
       "4                           unknown  \n",
       "5                           unknown  \n",
       "6                             69164  \n",
       "7                             46718  \n",
       "8                             23551  \n",
       "9                             65481  "
      ]
     },
     "execution_count": 867,
     "metadata": {},
     "output_type": "execute_result"
    }
   ],
   "source": [
    "df_account_financieel.head(10)"
   ]
  },
  {
   "cell_type": "code",
   "execution_count": 868,
   "metadata": {},
   "outputs": [
    {
     "data": {
      "text/plain": [
       "(687078, 9)"
      ]
     },
     "execution_count": 868,
     "metadata": {},
     "output_type": "execute_result"
    }
   ],
   "source": [
    "df_account_contact_finance = df_account_contact.merge(df_account_financieel, left_on='account_account_id', right_on='financieledata_ondernemingid', how='left')\n",
    "df_account_contact_finance.drop(['financieledata_ondernemingid'], axis=1, inplace=True)\n",
    "df_account_contact_finance.shape"
   ]
  },
  {
   "cell_type": "code",
   "execution_count": 869,
   "metadata": {},
   "outputs": [
    {
     "name": "stdout",
     "output_type": "stream",
     "text": [
      "<class 'pandas.core.frame.DataFrame'>\n",
      "RangeIndex: 687078 entries, 0 to 687077\n",
      "Data columns (total 9 columns):\n",
      " #   Column                             Non-Null Count   Dtype  \n",
      "---  ------                             --------------   -----  \n",
      " 0   functie_naam                       687078 non-null  object \n",
      " 1   account_account_id                 687078 non-null  object \n",
      " 2   account_adres                      687078 non-null  object \n",
      " 3   account_onderneming                687078 non-null  object \n",
      " 4   contact_contactpersoon_id          687078 non-null  object \n",
      " 5   contact_functietitel               687078 non-null  object \n",
      " 6   activiteitscode_naam               237628 non-null  object \n",
      " 7   financieledata_boekjaar            670924 non-null  float64\n",
      " 8   financieledata_toegevoegde_waarde  670924 non-null  object \n",
      "dtypes: float64(1), object(8)\n",
      "memory usage: 47.2+ MB\n"
     ]
    }
   ],
   "source": [
    "df_account_contact_finance.info()"
   ]
  },
  {
   "cell_type": "code",
   "execution_count": 870,
   "metadata": {},
   "outputs": [],
   "source": [
    "# turn financieledata_toegevoegde_waarde into a numeric value\n",
    "df_account_contact_finance['financieledata_toegevoegde_waarde'] = df_account_contact_finance['financieledata_toegevoegde_waarde'].str.replace(',', '.')\n",
    "df_account_contact_finance['financieledata_toegevoegde_waarde'] = df_account_contact_finance['financieledata_toegevoegde_waarde'].str.replace('unknown', '0')\n",
    "df_account_contact_finance['financieledata_toegevoegde_waarde'] = df_account_contact_finance['financieledata_toegevoegde_waarde'].astype(float)"
   ]
  },
  {
   "cell_type": "markdown",
   "metadata": {},
   "source": [
    "##### De financieel toegevoegde waarde optellen per account en de boekjaren hun range gebruiken (vb 2007 - 2022 => 15 jaar)"
   ]
  },
  {
   "cell_type": "code",
   "execution_count": 871,
   "metadata": {},
   "outputs": [],
   "source": [
    "# group by 'account_account_id' and 'contact_contactpersoon_id' and merge 'financieledata_toegevoegde_waarde' by sum and 'financieledata_boekjaar' by max - min\n",
    "df_account_contact_finance = df_account_contact_finance.groupby(\n",
    "    ['account_account_id', 'contact_contactpersoon_id'], \n",
    "    as_index=False).agg({'financieledata_toegevoegde_waarde': 'sum', \n",
    "                         'financieledata_boekjaar': lambda x: x.max() - x.min(), \n",
    "                         **{col: 'first' for col in df_account_contact_finance.columns if col not in ['financieledata_toegevoegde_waarde', 'financieledata_boekjaar']}})\n",
    "\n",
    "df_account_contact_finance.rename(columns={'financieledata_boekjaar': 'financieledata_boekjaar_range'}, inplace=True)"
   ]
  },
  {
   "cell_type": "code",
   "execution_count": 872,
   "metadata": {},
   "outputs": [
    {
     "data": {
      "text/plain": [
       "(67225, 9)"
      ]
     },
     "execution_count": 872,
     "metadata": {},
     "output_type": "execute_result"
    }
   ],
   "source": [
    "df_account_contact_finance.shape"
   ]
  },
  {
   "cell_type": "markdown",
   "metadata": {},
   "source": [
    "##### Alle niet meer benodigde dataframes verwijderen"
   ]
  },
  {
   "cell_type": "code",
   "execution_count": 873,
   "metadata": {},
   "outputs": [],
   "source": [
    "try:\n",
    "    del df_account\n",
    "    del df_contact\n",
    "    del df_contact_functie\n",
    "    del df_functie\n",
    "    del df_account_financieel\n",
    "    del df_account_contact\n",
    "except:\n",
    "    print('already deleted or non-existent')"
   ]
  },
  {
   "cell_type": "markdown",
   "metadata": {},
   "source": [
    "### Afspraken cleanen en mergen"
   ]
  },
  {
   "cell_type": "code",
   "execution_count": 874,
   "metadata": {},
   "outputs": [
    {
     "name": "stdout",
     "output_type": "stream",
     "text": [
      "(2934, 7)\n",
      "['afspraak_account_gelinkt_afspraak_id', 'afspraak_account_gelinkt_thema', 'afspraak_account_gelinkt_subthema', 'afspraak_account_gelinkt_onderwerp', 'afspraak_account_gelinkt_eindtijd', 'afspraak_account_gelinkt_account', 'afspraak_account_gelinkt_keyphrases']\n"
     ]
    }
   ],
   "source": [
    "df_afspraak_acc_gelinkt = pd.read_csv('../data_clean/Afspraak_account_gelinkt_cleaned_fixed.csv', sep=',')\n",
    "print(df_afspraak_acc_gelinkt.shape)\n",
    "print(list(df_afspraak_acc_gelinkt.columns))\n",
    "df_afspraak_acc_gelinkt.drop(['afspraak_account_gelinkt_account'], axis=1, inplace=True) "
   ]
  },
  {
   "cell_type": "code",
   "execution_count": 875,
   "metadata": {},
   "outputs": [
    {
     "name": "stdout",
     "output_type": "stream",
     "text": [
      "(4876, 7)\n",
      "['afspraak_betreft_account_afspraak_id', 'afspraak_betreft_account_thema', 'afspraak_betreft_account_subthema', 'afspraak_betreft_account_onderwerp', 'afspraak_betreft_account_betreft_id', 'afspraak_betreft_account_eindtijd', 'afspraak_betreft_account_keyphrases']\n"
     ]
    }
   ],
   "source": [
    "df_afspraak_betreft_acc = pd.read_csv('../data_clean/Afspraak_betreft_account_cleaned_fixed.csv', sep=',')\n",
    "print(df_afspraak_betreft_acc.shape)\n",
    "print(list(df_afspraak_betreft_acc.columns))\n",
    "df_afspraak_betreft_acc.drop(['afspraak_betreft_account_betreft_id'], axis=1, inplace=True)"
   ]
  },
  {
   "cell_type": "code",
   "execution_count": 876,
   "metadata": {},
   "outputs": [
    {
     "name": "stdout",
     "output_type": "stream",
     "text": [
      "(2552, 7)\n",
      "['afspraak_betreft_contactfiche_afspraak_id', 'afspraak_betreft_contactfiche_thema', 'afspraak_betreft_contactfiche_subthema', 'afspraak_betreft_contactfiche_onderwerp', 'afspraak_betreft_contactfiche_betreft_id', 'afspraak_betreft_contactfiche_eindtijd', 'afspraak_betreft_contactfiche_keyphrases']\n"
     ]
    }
   ],
   "source": [
    "df_afspraak_betreft_contact = pd.read_csv('../data_clean/Afspraak_betreft_contact_cleaned_fixed.csv', sep=',')\n",
    "print(df_afspraak_betreft_contact.shape)\n",
    "print(list(df_afspraak_betreft_contact.columns))\n",
    "df_afspraak_betreft_contact.drop(['afspraak_betreft_contactfiche_betreft_id'], axis=1, inplace=True)"
   ]
  },
  {
   "cell_type": "markdown",
   "metadata": {},
   "source": [
    "##### Kolomnamen hernoemen en afspraakt_betreft toevoegen (betreft account = 1, betreft contact = 0)"
   ]
  },
  {
   "cell_type": "code",
   "execution_count": 877,
   "metadata": {},
   "outputs": [],
   "source": [
    "df_afspraak_acc_gelinkt.columns = ['afspraak_afspraak_id', 'afspraak_thema', 'afspraak_subthema', 'afspraak_onderwerp', 'afspraak_eindtijd', 'afspraak_keyphrases']\n",
    "df_afspraak_betreft_acc.columns = ['afspraak_afspraak_id', 'afspraak_thema', 'afspraak_subthema', 'afspraak_onderwerp', 'afspraak_eindtijd', 'afspraak_keyphrases']\n",
    "df_afspraak_betreft_contact.columns = ['afspraak_afspraak_id', 'afspraak_thema', 'afspraak_subthema', 'afspraak_onderwerp', 'afspraak_eindtijd', 'afspraak_keyphrases']\n",
    "\n",
    "df_afspraak_betreft_acc[\"afspraak_betreft\"] = 1\n",
    "df_afspraak_acc_gelinkt[\"afspraak_betreft\"] = 1\n",
    "df_afspraak_betreft_contact[\"afspraak_betreft\"] = 0"
   ]
  },
  {
   "cell_type": "code",
   "execution_count": 878,
   "metadata": {},
   "outputs": [
    {
     "data": {
      "text/plain": [
       "(2934,)"
      ]
     },
     "execution_count": 878,
     "metadata": {},
     "output_type": "execute_result"
    }
   ],
   "source": [
    "acc_gelinkt_id_list = df_afspraak_acc_gelinkt['afspraak_afspraak_id'].unique()\n",
    "acc_gelinkt_id_list.shape"
   ]
  },
  {
   "cell_type": "markdown",
   "metadata": {},
   "source": [
    "##### Afspraken mergen en al cleanen"
   ]
  },
  {
   "cell_type": "code",
   "execution_count": 879,
   "metadata": {},
   "outputs": [
    {
     "name": "stdout",
     "output_type": "stream",
     "text": [
      "(9685, 7)\n",
      "['afspraak_afspraak_id', 'afspraak_thema', 'afspraak_subthema', 'afspraak_onderwerp', 'afspraak_eindtijd', 'afspraak_keyphrases', 'afspraak_betreft']\n"
     ]
    }
   ],
   "source": [
    "df_afspraken = pd.concat([df_afspraak_betreft_acc, df_afspraak_acc_gelinkt, df_afspraak_betreft_contact], ignore_index=True)\n",
    "df_afspraken.drop_duplicates(inplace=True)\n",
    "print(df_afspraken.shape)\n",
    "print(list(df_afspraken.columns))"
   ]
  },
  {
   "cell_type": "code",
   "execution_count": 880,
   "metadata": {},
   "outputs": [
    {
     "name": "stdout",
     "output_type": "stream",
     "text": [
      "(8265, 1)\n",
      "['afspraak_alle_afspraak_id']\n"
     ]
    },
    {
     "data": {
      "text/plain": [
       "8265"
      ]
     },
     "execution_count": 880,
     "metadata": {},
     "output_type": "execute_result"
    }
   ],
   "source": [
    "df_afspraak_alle = pd.read_csv('../data_clean/Afspraak_alle_fixed.csv', sep=',')\n",
    "print(df_afspraak_alle.shape)\n",
    "print(list(df_afspraak_alle.columns))\n",
    "df_afspraak_alle['afspraak_alle_afspraak_id'].nunique()"
   ]
  },
  {
   "cell_type": "code",
   "execution_count": 881,
   "metadata": {},
   "outputs": [
    {
     "name": "stdout",
     "output_type": "stream",
     "text": [
      "(9678, 5)\n",
      "Index(['afspraak_afspraak_id', 'afspraak_thema', 'afspraak_onderwerp',\n",
      "       'afspraak_keyphrases', 'afspraak_betreft'],\n",
      "      dtype='object')\n"
     ]
    }
   ],
   "source": [
    "df_afspraken = df_afspraken.merge(df_afspraak_alle, left_on='afspraak_afspraak_id', right_on='afspraak_alle_afspraak_id', how='inner')\n",
    "\n",
    "df_afspraken['afspraak_thema'] = df_afspraken['afspraak_subthema'].str.replace('\\(', '', regex=True)\n",
    "df_afspraken['afspraak_thema'] = df_afspraken['afspraak_thema'].str.replace('\\)', '', regex=True)\n",
    "\n",
    "df_afspraken['afspraak_onderwerp'] = df_afspraken['afspraak_onderwerp'].str.lower().str.capitalize()\n",
    "df_afspraken['afspraak_onderwerp'] = df_afspraken['afspraak_onderwerp'].str.replace(' ', '-')\n",
    "df_afspraken['afspraak_onderwerp'] = df_afspraken['afspraak_onderwerp'].astype(str)\n",
    "\n",
    "df_afspraken.drop(['afspraak_alle_afspraak_id', 'afspraak_eindtijd', 'afspraak_subthema'], axis=1, inplace=True)\n",
    "\n",
    "df_afspraken.drop_duplicates(inplace=True)\n",
    "\n",
    "print(df_afspraken.shape)\n",
    "print(df_afspraken.columns)"
   ]
  },
  {
   "cell_type": "code",
   "execution_count": 882,
   "metadata": {},
   "outputs": [
    {
     "data": {
      "text/plain": [
       "7624"
      ]
     },
     "execution_count": 882,
     "metadata": {},
     "output_type": "execute_result"
    }
   ],
   "source": [
    "df_afspraken['afspraak_afspraak_id'].nunique()"
   ]
  },
  {
   "cell_type": "markdown",
   "metadata": {},
   "source": [
    "##### Waar afspraak_betreft 0 en 1 is maken we er 2 van"
   ]
  },
  {
   "cell_type": "code",
   "execution_count": 883,
   "metadata": {},
   "outputs": [
    {
     "data": {
      "text/plain": [
       "(7624, 5)"
      ]
     },
     "execution_count": 883,
     "metadata": {},
     "output_type": "execute_result"
    }
   ],
   "source": [
    "# show rows where afspraak_afspraak_id is not unique\n",
    "list_to_change_afspraak_betreft_to_2 = df_afspraken[df_afspraken['afspraak_afspraak_id'].duplicated(keep=False)]['afspraak_afspraak_id'].unique()\n",
    "\n",
    "# for every afspraak_afspraak_id that is not unique, change afspraak_betreft to 2\n",
    "for afspraak_id in list_to_change_afspraak_betreft_to_2:\n",
    "    df_afspraken.loc[df_afspraken['afspraak_afspraak_id'] == afspraak_id, 'afspraak_betreft'] = 2\n",
    "\n",
    "df_afspraken.drop_duplicates(inplace=True)\n",
    "df_afspraken.shape"
   ]
  },
  {
   "cell_type": "markdown",
   "metadata": {},
   "source": [
    "##### Acc_gelinkt = 1 anders 0 -> adhv acc_gelinkt_id_list"
   ]
  },
  {
   "cell_type": "code",
   "execution_count": 884,
   "metadata": {},
   "outputs": [],
   "source": [
    "for afspraak_id in acc_gelinkt_id_list:\n",
    "    df_afspraken.loc[df_afspraken['afspraak_afspraak_id'] == afspraak_id, 'afspraak_account_gelinkt'] = 1\n",
    "\n",
    "df_afspraken['afspraak_account_gelinkt'].fillna(0, inplace=True)"
   ]
  },
  {
   "cell_type": "code",
   "execution_count": 885,
   "metadata": {},
   "outputs": [
    {
     "name": "stdout",
     "output_type": "stream",
     "text": [
      "<class 'pandas.core.frame.DataFrame'>\n",
      "Index: 7624 entries, 0 to 9684\n",
      "Data columns (total 6 columns):\n",
      " #   Column                    Non-Null Count  Dtype  \n",
      "---  ------                    --------------  -----  \n",
      " 0   afspraak_afspraak_id      7624 non-null   object \n",
      " 1   afspraak_thema            7624 non-null   object \n",
      " 2   afspraak_onderwerp        7624 non-null   object \n",
      " 3   afspraak_keyphrases       7624 non-null   object \n",
      " 4   afspraak_betreft          7624 non-null   int64  \n",
      " 5   afspraak_account_gelinkt  7624 non-null   float64\n",
      "dtypes: float64(1), int64(1), object(4)\n",
      "memory usage: 416.9+ KB\n"
     ]
    }
   ],
   "source": [
    "df_afspraken.info()"
   ]
  },
  {
   "cell_type": "markdown",
   "metadata": {},
   "source": [
    "##### Nu nog mergen met activiteit_vereist_contact"
   ]
  },
  {
   "cell_type": "code",
   "execution_count": 886,
   "metadata": {},
   "outputs": [
    {
     "name": "stdout",
     "output_type": "stream",
     "text": [
      "(4635, 2)\n",
      "['activiteitvereistcontact_activityid_id', 'activiteitvereistcontact_reqattendee']\n"
     ]
    },
    {
     "data": {
      "text/plain": [
       "3042"
      ]
     },
     "execution_count": 886,
     "metadata": {},
     "output_type": "execute_result"
    }
   ],
   "source": [
    "df_activiteit_vereist_contact = pd.read_csv('../data_clean/Activiteit_vereist_contact_fixed.csv', sep=',')\n",
    "print(df_activiteit_vereist_contact.shape)\n",
    "print(list(df_activiteit_vereist_contact.columns))\n",
    "df_activiteit_vereist_contact['activiteitvereistcontact_reqattendee'].nunique()"
   ]
  },
  {
   "cell_type": "code",
   "execution_count": 887,
   "metadata": {},
   "outputs": [
    {
     "data": {
      "text/plain": [
       "(4545, 6)"
      ]
     },
     "execution_count": 887,
     "metadata": {},
     "output_type": "execute_result"
    }
   ],
   "source": [
    "df_afspraken_total = df_afspraken.merge(df_activiteit_vereist_contact, left_on='afspraak_afspraak_id', right_on='activiteitvereistcontact_activityid_id', how='inner')\n",
    "df_afspraken_total.drop(['activiteitvereistcontact_activityid_id', 'afspraak_afspraak_id'], axis=1, inplace=True)\n",
    "df_afspraken_total.shape"
   ]
  },
  {
   "cell_type": "code",
   "execution_count": 888,
   "metadata": {},
   "outputs": [
    {
     "data": {
      "text/plain": [
       "afspraak_thema                          0\n",
       "afspraak_onderwerp                      0\n",
       "afspraak_keyphrases                     0\n",
       "afspraak_betreft                        0\n",
       "afspraak_account_gelinkt                0\n",
       "activiteitvereistcontact_reqattendee    0\n",
       "dtype: int64"
      ]
     },
     "execution_count": 888,
     "metadata": {},
     "output_type": "execute_result"
    }
   ],
   "source": [
    "df_afspraken_total.isna().sum()"
   ]
  },
  {
   "cell_type": "code",
   "execution_count": 889,
   "metadata": {},
   "outputs": [
    {
     "data": {
      "text/html": [
       "<div>\n",
       "<style scoped>\n",
       "    .dataframe tbody tr th:only-of-type {\n",
       "        vertical-align: middle;\n",
       "    }\n",
       "\n",
       "    .dataframe tbody tr th {\n",
       "        vertical-align: top;\n",
       "    }\n",
       "\n",
       "    .dataframe thead th {\n",
       "        text-align: right;\n",
       "    }\n",
       "</style>\n",
       "<table border=\"1\" class=\"dataframe\">\n",
       "  <thead>\n",
       "    <tr style=\"text-align: right;\">\n",
       "      <th></th>\n",
       "      <th>afspraak_thema</th>\n",
       "      <th>afspraak_onderwerp</th>\n",
       "      <th>afspraak_keyphrases</th>\n",
       "      <th>afspraak_betreft</th>\n",
       "      <th>afspraak_account_gelinkt</th>\n",
       "      <th>activiteitvereistcontact_reqattendee</th>\n",
       "    </tr>\n",
       "  </thead>\n",
       "  <tbody>\n",
       "    <tr>\n",
       "      <th>0</th>\n",
       "      <td>Retentie Lidmaatschap</td>\n",
       "      <td>Ov-ledenbezoek-2020</td>\n",
       "      <td>china en india , india en china , verschillend...</td>\n",
       "      <td>1</td>\n",
       "      <td>0.0</td>\n",
       "      <td>8E214B8E-F6B8-E911-8104-001DD8B72B62</td>\n",
       "    </tr>\n",
       "    <tr>\n",
       "      <th>1</th>\n",
       "      <td>Retentie Lidmaatschap</td>\n",
       "      <td>Ov-klantenbezoek-2018</td>\n",
       "      <td>zoek , schap</td>\n",
       "      <td>1</td>\n",
       "      <td>0.0</td>\n",
       "      <td>C3B119F3-8502-E911-80F9-001DD8B72B61</td>\n",
       "    </tr>\n",
       "    <tr>\n",
       "      <th>2</th>\n",
       "      <td>Retentie Lidmaatschap</td>\n",
       "      <td>Ov-ledenbezoek-2020</td>\n",
       "      <td>dominique de waele , essentiële sector , gedee...</td>\n",
       "      <td>1</td>\n",
       "      <td>0.0</td>\n",
       "      <td>0CC2FFFC-C56A-E111-B43A-00505680000A</td>\n",
       "    </tr>\n",
       "    <tr>\n",
       "      <th>3</th>\n",
       "      <td>Retentie Lidmaatschap</td>\n",
       "      <td>Ov-ledenbezoek-2020</td>\n",
       "      <td>andere thema ’s , jan dumont , innovatief bedr...</td>\n",
       "      <td>1</td>\n",
       "      <td>0.0</td>\n",
       "      <td>316D6097-E3A8-E711-80EC-001DD8B72B62</td>\n",
       "    </tr>\n",
       "    <tr>\n",
       "      <th>4</th>\n",
       "      <td>Retentie Lidmaatschap</td>\n",
       "      <td>Ov-telefoon-2020</td>\n",
       "      <td>verschillende industriën , verschillende werkg...</td>\n",
       "      <td>1</td>\n",
       "      <td>0.0</td>\n",
       "      <td>1DCF0AC3-D273-E111-B43A-00505680000A</td>\n",
       "    </tr>\n",
       "  </tbody>\n",
       "</table>\n",
       "</div>"
      ],
      "text/plain": [
       "          afspraak_thema     afspraak_onderwerp   \n",
       "0  Retentie Lidmaatschap    Ov-ledenbezoek-2020  \\\n",
       "1  Retentie Lidmaatschap  Ov-klantenbezoek-2018   \n",
       "2  Retentie Lidmaatschap    Ov-ledenbezoek-2020   \n",
       "3  Retentie Lidmaatschap    Ov-ledenbezoek-2020   \n",
       "4  Retentie Lidmaatschap       Ov-telefoon-2020   \n",
       "\n",
       "                                 afspraak_keyphrases  afspraak_betreft   \n",
       "0  china en india , india en china , verschillend...                 1  \\\n",
       "1                                       zoek , schap                 1   \n",
       "2  dominique de waele , essentiële sector , gedee...                 1   \n",
       "3  andere thema ’s , jan dumont , innovatief bedr...                 1   \n",
       "4  verschillende industriën , verschillende werkg...                 1   \n",
       "\n",
       "   afspraak_account_gelinkt  activiteitvereistcontact_reqattendee  \n",
       "0                       0.0  8E214B8E-F6B8-E911-8104-001DD8B72B62  \n",
       "1                       0.0  C3B119F3-8502-E911-80F9-001DD8B72B61  \n",
       "2                       0.0  0CC2FFFC-C56A-E111-B43A-00505680000A  \n",
       "3                       0.0  316D6097-E3A8-E711-80EC-001DD8B72B62  \n",
       "4                       0.0  1DCF0AC3-D273-E111-B43A-00505680000A  "
      ]
     },
     "execution_count": 889,
     "metadata": {},
     "output_type": "execute_result"
    }
   ],
   "source": [
    "df_afspraken_total.head()"
   ]
  },
  {
   "cell_type": "code",
   "execution_count": 890,
   "metadata": {},
   "outputs": [
    {
     "data": {
      "text/plain": [
       "(4545, 6)"
      ]
     },
     "execution_count": 890,
     "metadata": {},
     "output_type": "execute_result"
    }
   ],
   "source": [
    "df_afspraken_total.shape"
   ]
  },
  {
   "cell_type": "markdown",
   "metadata": {},
   "source": [
    "Alle niet benodigde dataframes verwijderen"
   ]
  },
  {
   "cell_type": "code",
   "execution_count": 891,
   "metadata": {},
   "outputs": [],
   "source": [
    "try:\n",
    "    del df_afspraak_acc_gelinkt\n",
    "    del df_afspraak_betreft_acc\n",
    "    del df_afspraak_betreft_contact\n",
    "    del df_afspraak_alle\n",
    "    del df_afspraken\n",
    "    del df_activiteit_vereist_contact\n",
    "except:\n",
    "    print('already deleted or non-existent')"
   ]
  },
  {
   "cell_type": "markdown",
   "metadata": {},
   "source": [
    "### Account en Afspraken mergen"
   ]
  },
  {
   "cell_type": "code",
   "execution_count": 904,
   "metadata": {},
   "outputs": [
    {
     "data": {
      "text/plain": [
       "(68618, 13)"
      ]
     },
     "execution_count": 904,
     "metadata": {},
     "output_type": "execute_result"
    }
   ],
   "source": [
    "acc_afs_merged = df_account_contact_finance.merge(df_afspraken_total, left_on=['contact_contactpersoon_id'], right_on=['activiteitvereistcontact_reqattendee'], how='left')\n",
    "acc_afs_merged.drop(['activiteitvereistcontact_reqattendee', 'account_account_id'], axis=1, inplace=True)\n",
    "acc_afs_merged.shape"
   ]
  },
  {
   "cell_type": "markdown",
   "metadata": {},
   "source": [
    "NaN opvullen"
   ]
  },
  {
   "cell_type": "code",
   "execution_count": 905,
   "metadata": {},
   "outputs": [],
   "source": [
    "acc_afs_merged['financieledata_boekjaar_range'].fillna(0, inplace=True)\n",
    "acc_afs_merged['afspraak_betreft'].fillna(-1, inplace=True)\n",
    "acc_afs_merged['afspraak_account_gelinkt'].fillna(-1, inplace=True)"
   ]
  },
  {
   "cell_type": "code",
   "execution_count": 906,
   "metadata": {},
   "outputs": [],
   "source": [
    "acc_afs_merged['activiteitscode_naam'].fillna('unknown', inplace=True)\n",
    "acc_afs_merged['afspraak_thema'].fillna('unknown', inplace=True)\n",
    "acc_afs_merged['afspraak_onderwerp'].fillna('unknown', inplace=True)\n",
    "acc_afs_merged['afspraak_keyphrases'].fillna('unknown', inplace=True)"
   ]
  },
  {
   "cell_type": "markdown",
   "metadata": {},
   "source": [
    "Alle string columns van Afspraak samenvoegen"
   ]
  },
  {
   "cell_type": "code",
   "execution_count": 907,
   "metadata": {},
   "outputs": [],
   "source": [
    "# combine 'afspraak_thema', 'afspraak_onderwerp', 'afspraak_keyphrases' into one column\n",
    "acc_afs_merged['afspraak_thema'] = acc_afs_merged['afspraak_thema'].astype(str)\n",
    "acc_afs_merged['afspraak_onderwerp'] = acc_afs_merged['afspraak_onderwerp'].astype(str)\n",
    "acc_afs_merged['afspraak_keyphrases'] = acc_afs_merged['afspraak_keyphrases'].astype(str)\n",
    "\n",
    "replacement_dict = {'\\(': '', '\\)': '', '\\'': '', '\\\"': '', '\\[': '', '\\]': ''}\n",
    "\n",
    "acc_afs_merged['afspraak_keyphrases'] = acc_afs_merged['afspraak_keyphrases'].replace(replacement_dict, regex=True)"
   ]
  },
  {
   "cell_type": "code",
   "execution_count": 908,
   "metadata": {},
   "outputs": [],
   "source": [
    "acc_afs_merged['afspraak_keyphrases'] = acc_afs_merged['afspraak_thema'] + ', ' + acc_afs_merged['afspraak_onderwerp'] + ', ' + acc_afs_merged['afspraak_keyphrases']\n",
    "acc_afs_merged['afspraak_keyphrases'] = acc_afs_merged['afspraak_keyphrases'].str.replace('unknown, ', '')\n",
    "acc_afs_merged['afspraak_keyphrases'] = acc_afs_merged['afspraak_keyphrases'].str.replace(', unknown', '')\n",
    "acc_afs_merged.drop(['afspraak_thema', 'afspraak_onderwerp'], axis=1, inplace=True)"
   ]
  },
  {
   "cell_type": "code",
   "execution_count": 909,
   "metadata": {},
   "outputs": [
    {
     "data": {
      "text/plain": [
       "(68611, 11)"
      ]
     },
     "execution_count": 909,
     "metadata": {},
     "output_type": "execute_result"
    }
   ],
   "source": [
    "acc_afs_merged.drop_duplicates(inplace=True)\n",
    "acc_afs_merged.shape"
   ]
  },
  {
   "cell_type": "markdown",
   "metadata": {},
   "source": [
    "Alle string columns van Account en contact samenvoegen"
   ]
  },
  {
   "cell_type": "code",
   "execution_count": 910,
   "metadata": {},
   "outputs": [],
   "source": [
    "acc_afs_merged['account_onderneming'] = acc_afs_merged['account_onderneming'].astype(str)\n",
    "acc_afs_merged['account_adres'] = acc_afs_merged['account_adres'].astype(str)\n",
    "acc_afs_merged['activiteitscode_naam'] = acc_afs_merged['activiteitscode_naam'].astype(str)\n",
    "acc_afs_merged['contact_functietitel'] = acc_afs_merged['contact_functietitel'].astype(str)\n",
    "acc_afs_merged['functie_naam'] = acc_afs_merged['functie_naam'].astype(str)\n",
    "acc_afs_merged['financieledata_toegevoegde_waarde'] = acc_afs_merged['financieledata_toegevoegde_waarde'].astype(str)\n",
    "acc_afs_merged['financieledata_boekjaar_range'] = acc_afs_merged['financieledata_boekjaar_range'].astype(str)\n",
    "\n",
    "acc_afs_merged['account_keyphrases'] = acc_afs_merged['account_onderneming'] + ', ' + acc_afs_merged['account_adres'] + ', ' \\\n",
    "            + acc_afs_merged['activiteitscode_naam'] + ', ' + acc_afs_merged['contact_functietitel'] + ', ' \\\n",
    "            + acc_afs_merged['functie_naam'] + ', financiel toegevoegde waarde ' + acc_afs_merged['financieledata_toegevoegde_waarde'] + ' over ' \\\n",
    "            + acc_afs_merged['financieledata_boekjaar_range'] + ' jaar'\n",
    "\n",
    "acc_afs_merged['account_keyphrases'] = acc_afs_merged['account_keyphrases'].str.replace('unknown, ', '')\n",
    "acc_afs_merged['account_keyphrases'] = acc_afs_merged['account_keyphrases'].str.replace(', unknown', '')\n",
    "\n",
    "acc_afs_merged.drop(['account_onderneming', 'account_adres', 'activiteitscode_naam', 'contact_functietitel', 'functie_naam'\n",
    "                     , 'financieledata_toegevoegde_waarde', 'financieledata_boekjaar_range'], axis=1, inplace=True)"
   ]
  },
  {
   "cell_type": "code",
   "execution_count": 913,
   "metadata": {},
   "outputs": [
    {
     "data": {
      "text/html": [
       "<div>\n",
       "<style scoped>\n",
       "    .dataframe tbody tr th:only-of-type {\n",
       "        vertical-align: middle;\n",
       "    }\n",
       "\n",
       "    .dataframe tbody tr th {\n",
       "        vertical-align: top;\n",
       "    }\n",
       "\n",
       "    .dataframe thead th {\n",
       "        text-align: right;\n",
       "    }\n",
       "</style>\n",
       "<table border=\"1\" class=\"dataframe\">\n",
       "  <thead>\n",
       "    <tr style=\"text-align: right;\">\n",
       "      <th></th>\n",
       "      <th>contact_contactpersoon_id</th>\n",
       "      <th>afspraak_keyphrases</th>\n",
       "      <th>afspraak_betreft</th>\n",
       "      <th>afspraak_account_gelinkt</th>\n",
       "      <th>account_keyphrases</th>\n",
       "    </tr>\n",
       "  </thead>\n",
       "  <tbody>\n",
       "    <tr>\n",
       "      <th>0</th>\n",
       "      <td>0A9D6946-EB72-E111-B43A-00505680000A</td>\n",
       "      <td>unknown</td>\n",
       "      <td>-1.0</td>\n",
       "      <td>-1.0</td>\n",
       "      <td>Bedrijf, diensten, overige industrie &amp; dienste...</td>\n",
       "    </tr>\n",
       "    <tr>\n",
       "      <th>1</th>\n",
       "      <td>986BE2D1-B113-EB11-8114-001DD8B72B61</td>\n",
       "      <td>unknown</td>\n",
       "      <td>-1.0</td>\n",
       "      <td>-1.0</td>\n",
       "      <td>Bedrijf, ,, Bazel 9150 Waasland Oost-vlaandere...</td>\n",
       "    </tr>\n",
       "    <tr>\n",
       "      <th>2</th>\n",
       "      <td>D9303EA2-57E5-EB11-8121-001DD8B72B61</td>\n",
       "      <td>unknown</td>\n",
       "      <td>-1.0</td>\n",
       "      <td>-1.0</td>\n",
       "      <td>Familiebedrijf, diensten, vastgoed, Melle 9090...</td>\n",
       "    </tr>\n",
       "    <tr>\n",
       "      <th>3</th>\n",
       "      <td>FF015050-8D55-EB11-8117-001DD8B72B61</td>\n",
       "      <td>unknown</td>\n",
       "      <td>-1.0</td>\n",
       "      <td>-1.0</td>\n",
       "      <td>Familiebedrijf, diensten, vastgoed, Melle 9090...</td>\n",
       "    </tr>\n",
       "    <tr>\n",
       "      <th>4</th>\n",
       "      <td>FF0A3AF6-0D42-E611-80D6-005056B06EC4</td>\n",
       "      <td>unknown</td>\n",
       "      <td>-1.0</td>\n",
       "      <td>-1.0</td>\n",
       "      <td>Bedrijf, diensten, bouw, Maarke-kerkem 9680 Ou...</td>\n",
       "    </tr>\n",
       "  </tbody>\n",
       "</table>\n",
       "</div>"
      ],
      "text/plain": [
       "              contact_contactpersoon_id afspraak_keyphrases  afspraak_betreft   \n",
       "0  0A9D6946-EB72-E111-B43A-00505680000A             unknown              -1.0  \\\n",
       "1  986BE2D1-B113-EB11-8114-001DD8B72B61             unknown              -1.0   \n",
       "2  D9303EA2-57E5-EB11-8121-001DD8B72B61             unknown              -1.0   \n",
       "3  FF015050-8D55-EB11-8117-001DD8B72B61             unknown              -1.0   \n",
       "4  FF0A3AF6-0D42-E611-80D6-005056B06EC4             unknown              -1.0   \n",
       "\n",
       "   afspraak_account_gelinkt                                 account_keyphrases  \n",
       "0                      -1.0  Bedrijf, diensten, overige industrie & dienste...  \n",
       "1                      -1.0  Bedrijf, ,, Bazel 9150 Waasland Oost-vlaandere...  \n",
       "2                      -1.0  Familiebedrijf, diensten, vastgoed, Melle 9090...  \n",
       "3                      -1.0  Familiebedrijf, diensten, vastgoed, Melle 9090...  \n",
       "4                      -1.0  Bedrijf, diensten, bouw, Maarke-kerkem 9680 Ou...  "
      ]
     },
     "execution_count": 913,
     "metadata": {},
     "output_type": "execute_result"
    }
   ],
   "source": [
    "acc_afs_merged.head()"
   ]
  },
  {
   "cell_type": "code",
   "execution_count": 914,
   "metadata": {},
   "outputs": [
    {
     "data": {
      "text/plain": [
       "(68611, 5)"
      ]
     },
     "execution_count": 914,
     "metadata": {},
     "output_type": "execute_result"
    }
   ],
   "source": [
    "acc_afs_merged.shape"
   ]
  },
  {
   "cell_type": "markdown",
   "metadata": {},
   "source": [
    "Alle niet benodigde dataframes verwijderen"
   ]
  },
  {
   "cell_type": "code",
   "execution_count": 915,
   "metadata": {},
   "outputs": [],
   "source": [
    "try:\n",
    "    del df_account_contact_finance\n",
    "    del df_afspraken_total\n",
    "except:\n",
    "    print('already deleted or non-existent')"
   ]
  },
  {
   "cell_type": "markdown",
   "metadata": {},
   "source": [
    "### Campagne cleanen en mergen"
   ]
  },
  {
   "cell_type": "code",
   "execution_count": 918,
   "metadata": {},
   "outputs": [
    {
     "name": "stdout",
     "output_type": "stream",
     "text": [
      "(4092, 11)\n",
      "Index(['campagne_campagne_id', 'campagne_campagne_nr', 'campagne_einddatum',\n",
      "       'campagne_naam', 'campagne_naam_in_email', 'campagne_reden_van_status',\n",
      "       'campagne_startdatum', 'campagne_status', 'campagne_type_campagne',\n",
      "       'campagne_url_voka_be', 'campagne_soort_campagne'],\n",
      "      dtype='object')\n"
     ]
    }
   ],
   "source": [
    "df_campagne = pd.read_csv('../data_clean/Campagne_fixed.csv', sep=',')\n",
    "print(df_campagne.shape)\n",
    "print(df_campagne.columns)"
   ]
  }
 ],
 "metadata": {
  "kernelspec": {
   "display_name": "Python 3",
   "language": "python",
   "name": "python3"
  },
  "language_info": {
   "codemirror_mode": {
    "name": "ipython",
    "version": 3
   },
   "file_extension": ".py",
   "mimetype": "text/x-python",
   "name": "python",
   "nbconvert_exporter": "python",
   "pygments_lexer": "ipython3",
   "version": "3.11.3"
  }
 },
 "nbformat": 4,
 "nbformat_minor": 2
}
