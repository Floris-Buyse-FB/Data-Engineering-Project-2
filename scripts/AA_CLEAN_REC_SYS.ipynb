{
 "cells": [
  {
   "cell_type": "code",
   "execution_count": 2,
   "metadata": {},
   "outputs": [],
   "source": [
    "import pandas as pd\n",
    "import numpy as np\n",
    "import matplotlib.pyplot as plt\n",
    "import seaborn as sns\n",
    "import os"
   ]
  },
  {
   "cell_type": "markdown",
   "metadata": {},
   "source": [
    "### Account cleanen"
   ]
  },
  {
   "cell_type": "code",
   "execution_count": 4,
   "metadata": {},
   "outputs": [
    {
     "data": {
      "text/plain": [
       "(41859, 3)"
      ]
     },
     "execution_count": 4,
     "metadata": {},
     "output_type": "execute_result"
    }
   ],
   "source": [
    "df_account = pd.read_csv('../data_clean/Account_fixed.csv')\n",
    "\n",
    "# alleen de actieve accounts\n",
    "df_account = df_account[df_account['account_reden_van_status'] != 'Inactief']\n",
    "df_account = df_account[df_account['account_reden_van_status'] != 'Stopzetting']\n",
    "\n",
    "# onnodige kolommen verwijderen\n",
    "df_account.drop(['account_industriezone_naam_',\n",
    "           'account_oprichtingsdatum',\n",
    "           'account_reden_van_status',\n",
    "           'account_status',\n",
    "           'account_voka_nr_',\n",
    "           'account_is_voka_entiteit',\n",
    "], axis=1, inplace=True)\n",
    "\n",
    "# alleen de accounts uit Oost-Vlaanderen\n",
    "df_account = df_account[df_account['account_adres_provincie'] == 'Oost-Vlaanderen']\n",
    "\n",
    "# account adres samenvoegen\n",
    "plaats = df_account['account_adres_plaats'].str.lower()\n",
    "postcode = df_account['account_adres_postcode'].astype(str)\n",
    "subregio = df_account['account_adres_geografische_subregio'].str.lower()\n",
    "provincie = df_account['account_adres_provincie'].str.lower()\n",
    "land = df_account['account_adres_land'].str.lower()\n",
    "\n",
    "df_account['account_adres'] = plaats + ' ' + postcode + ' ' + subregio + ' ' + provincie + ' ' + land\n",
    "\n",
    "df_account.drop(['account_adres_geografische_regio', \n",
    "           'account_adres_geografische_subregio', \n",
    "           'account_adres_plaats', 'account_adres_postcode', \n",
    "           'account_adres_provincie', 'account_adres_land'], axis=1, inplace=True)\n",
    "\n",
    "# account ondernemingstype samenvoegen\n",
    "df_account['account_onderneming'] = df_account['account_ondernemingstype'] + ', ' \\\n",
    "                            + df_account['account_ondernemingsaard'] + ', ' \\\n",
    "                            + df_account['account_primaire_activiteit'] + ' ' \\\n",
    "\n",
    "df_account.drop(['account_ondernemingstype', \n",
    "           'account_ondernemingsaard', \n",
    "           'account_primaire_activiteit'], axis=1, inplace=True)\n",
    "\n",
    "# account ondernemingstype strings opschonen\n",
    "df_account['account_onderneming'] = df_account['account_onderneming'].str.replace('unknown', '')\n",
    "df_account['account_onderneming'] = df_account['account_onderneming'].str.strip()\n",
    "df_account['account_onderneming'] = df_account['account_onderneming'].str.lower()\n",
    "\n",
    "df_account.shape"
   ]
  },
  {
   "cell_type": "markdown",
   "metadata": {},
   "source": [
    "### Contact cleanen"
   ]
  },
  {
   "cell_type": "code",
   "execution_count": 5,
   "metadata": {},
   "outputs": [
    {
     "data": {
      "text/plain": [
       "(393514, 4)"
      ]
     },
     "execution_count": 5,
     "metadata": {},
     "output_type": "execute_result"
    }
   ],
   "source": [
    "df_contact = pd.read_csv('../data_clean/Contact_fixed.csv')\n",
    "\n",
    "df_contact = df_contact[df_contact['contact_status'] != 'Inactief']\n",
    "df_contact.drop(['contact_status', 'contact_voka_medewerker'], axis=1, inplace=True)\n",
    "\n",
    "df_contact.shape"
   ]
  },
  {
   "cell_type": "markdown",
   "metadata": {},
   "source": [
    "### Mergen van Account en Contact zodat alleen de contacten van Oost-Vlaanderen overblijven"
   ]
  },
  {
   "cell_type": "markdown",
   "metadata": {},
   "source": [
    "Inner join, anders 11000 accounts zonder contactpersoon"
   ]
  },
  {
   "cell_type": "code",
   "execution_count": 6,
   "metadata": {},
   "outputs": [
    {
     "data": {
      "text/plain": [
       "(67299, 6)"
      ]
     },
     "execution_count": 6,
     "metadata": {},
     "output_type": "execute_result"
    }
   ],
   "source": [
    "df_account_contact = df_account.merge(df_contact, left_on='account_account_id', right_on='contact_account', how='inner')\n",
    "df_account_contact.drop(['contact_account'], axis=1, inplace=True)\n",
    "df_account_contact.shape"
   ]
  },
  {
   "cell_type": "code",
   "execution_count": 7,
   "metadata": {},
   "outputs": [],
   "source": [
    "def print_nunique(df, acc_col='account_account_id', cont_col='contact_contactpersoon_id'):\n",
    "    try:\n",
    "        con_un = df[cont_col].nunique()\n",
    "    except:\n",
    "        con_un = 'niet gevonden'\n",
    "    \n",
    "    try:\n",
    "        acc_un = df[acc_col].nunique()\n",
    "    except:\n",
    "        acc_un = 'niet gevonden'\n",
    "\n",
    "    print(f'#account: {acc_un}, #contact: {con_un}')"
   ]
  },
  {
   "cell_type": "code",
   "execution_count": 8,
   "metadata": {},
   "outputs": [
    {
     "name": "stdout",
     "output_type": "stream",
     "text": [
      "#account: 30716, #contact: 67299\n"
     ]
    }
   ],
   "source": [
    "print_nunique(df_account_contact)"
   ]
  },
  {
   "cell_type": "markdown",
   "metadata": {},
   "source": [
    "##### Persoon cleanen"
   ]
  },
  {
   "cell_type": "code",
   "execution_count": 197,
   "metadata": {},
   "outputs": [],
   "source": [
    "# df_persoon = pd.read_csv('../data_clean/Persoon_fixed.csv')\n",
    "\n",
    "# df_persoon = df_persoon[df_persoon['persoon_mail_regio_oost_vlaanderen'] == 1]\n",
    "# df_persoon = df_persoon[df_persoon['persoon_reden_van_status'] == 'Actief']\n",
    "\n",
    "# for col in df_persoon.columns:\n",
    "#     if col.__contains__('persoon_mail_regio'):\n",
    "#         df_persoon.drop(col, axis=1, inplace=True)\n",
    "\n",
    "# df_persoon.drop(['persoon_persoonsnr_', 'persoon_web_login', 'persoon_reden_van_status'], axis=1, inplace=True)\n",
    "\n",
    "# df_persoon.shape"
   ]
  },
  {
   "cell_type": "markdown",
   "metadata": {},
   "source": [
    "### Account_contact mergen met persoon"
   ]
  },
  {
   "cell_type": "code",
   "execution_count": 198,
   "metadata": {},
   "outputs": [],
   "source": [
    "# df_account_contact_persoon = df_account_contact.merge(df_persoon, left_on='contact_persoon_id', right_on='persoon_persoon_id', how='left')\n",
    "# df_account_contact_persoon.drop(['contact_persoon_id'], axis=1, inplace=True)\n",
    "# df_account_contact_persoon.shape"
   ]
  },
  {
   "cell_type": "code",
   "execution_count": 199,
   "metadata": {},
   "outputs": [],
   "source": [
    "# df_account_contact_persoon.info()"
   ]
  },
  {
   "cell_type": "markdown",
   "metadata": {},
   "source": [
    "##### Persoon niet meer gebruiken -> maar 4374 non-null"
   ]
  },
  {
   "cell_type": "code",
   "execution_count": 9,
   "metadata": {},
   "outputs": [],
   "source": [
    "df_account_contact.drop(['contact_persoon_id'], axis=1, inplace=True)"
   ]
  },
  {
   "cell_type": "markdown",
   "metadata": {},
   "source": [
    "### Account_contact mergen met contactfunctie en functie"
   ]
  },
  {
   "cell_type": "code",
   "execution_count": 10,
   "metadata": {},
   "outputs": [
    {
     "data": {
      "text/plain": [
       "Index(['contactfunctie_contactpersoon', 'contactfunctie_functie'], dtype='object')"
      ]
     },
     "execution_count": 10,
     "metadata": {},
     "output_type": "execute_result"
    }
   ],
   "source": [
    "df_contact_functie = pd.read_csv('../data_clean/Contact_functie_fixed.csv')\n",
    "df_contact_functie.columns"
   ]
  },
  {
   "cell_type": "code",
   "execution_count": 11,
   "metadata": {},
   "outputs": [
    {
     "data": {
      "text/plain": [
       "Index(['functie_functie_id', 'functie_naam'], dtype='object')"
      ]
     },
     "execution_count": 11,
     "metadata": {},
     "output_type": "execute_result"
    }
   ],
   "source": [
    "df_functie = pd.read_csv('../data_clean/Functie_fixed.csv')\n",
    "df_functie.columns"
   ]
  },
  {
   "cell_type": "markdown",
   "metadata": {},
   "source": [
    "Merge contact functie"
   ]
  },
  {
   "cell_type": "code",
   "execution_count": 12,
   "metadata": {},
   "outputs": [
    {
     "data": {
      "text/plain": [
       "(90938, 6)"
      ]
     },
     "execution_count": 12,
     "metadata": {},
     "output_type": "execute_result"
    }
   ],
   "source": [
    "df_account_contact = df_account_contact.merge(df_contact_functie, left_on='contact_contactpersoon_id', right_on='contactfunctie_contactpersoon', how='inner')\n",
    "df_account_contact.drop(['contactfunctie_contactpersoon'], axis=1, inplace=True)\n",
    "df_account_contact.shape"
   ]
  },
  {
   "cell_type": "markdown",
   "metadata": {},
   "source": [
    "Merge met functie"
   ]
  },
  {
   "cell_type": "code",
   "execution_count": 13,
   "metadata": {},
   "outputs": [
    {
     "data": {
      "text/plain": [
       "(90938, 6)"
      ]
     },
     "execution_count": 13,
     "metadata": {},
     "output_type": "execute_result"
    }
   ],
   "source": [
    "df_account_contact = df_account_contact.merge(df_functie, left_on='contactfunctie_functie', right_on='functie_functie_id', how='inner')\n",
    "df_account_contact.drop(['contactfunctie_functie', 'functie_functie_id'], axis=1, inplace=True)\n",
    "df_account_contact.shape"
   ]
  },
  {
   "cell_type": "code",
   "execution_count": 14,
   "metadata": {},
   "outputs": [
    {
     "name": "stdout",
     "output_type": "stream",
     "text": [
      "#account: 30707, #contact: 67225\n"
     ]
    }
   ],
   "source": [
    "print_nunique(df_account_contact)"
   ]
  },
  {
   "cell_type": "markdown",
   "metadata": {},
   "source": [
    "##### Functie naam kan verschillend zijn voor hetzelfde contact, dus die mergen we"
   ]
  },
  {
   "cell_type": "code",
   "execution_count": 15,
   "metadata": {},
   "outputs": [
    {
     "data": {
      "text/plain": [
       "(67225, 6)"
      ]
     },
     "execution_count": 15,
     "metadata": {},
     "output_type": "execute_result"
    }
   ],
   "source": [
    "# Define a custom aggregation function to merge 'functie_naam'\n",
    "def merge_functie_naam(series):\n",
    "    return ', '.join(series)\n",
    "\n",
    "# Group by 'account_account_id' and 'contact_contactpersoon_id' and merge 'functie_naam'\n",
    "df_account_contact = df_account_contact.groupby(\n",
    "    ['account_account_id', 'contact_contactpersoon_id'], \n",
    "    as_index=False).agg({'functie_naam': merge_functie_naam, \n",
    "                         **{col: 'first' for col in df_account_contact.columns if col != 'functie_naam'}})\n",
    "\n",
    "df_account_contact.shape"
   ]
  },
  {
   "cell_type": "code",
   "execution_count": 16,
   "metadata": {},
   "outputs": [
    {
     "name": "stdout",
     "output_type": "stream",
     "text": [
      "#account: 30707, #contact: 67225\n"
     ]
    }
   ],
   "source": [
    "print_nunique(df_account_contact)"
   ]
  },
  {
   "cell_type": "markdown",
   "metadata": {},
   "source": [
    "### Account_contact mergen met account_activiteitscode en activiteitscode"
   ]
  },
  {
   "cell_type": "code",
   "execution_count": 17,
   "metadata": {},
   "outputs": [
    {
     "name": "stdout",
     "output_type": "stream",
     "text": [
      "(14673, 3)\n"
     ]
    },
    {
     "data": {
      "text/plain": [
       "Index(['account_activiteitscode_account',\n",
       "       'account_activiteitscode_activiteitscode',\n",
       "       'account_activiteitscode_inf_account_inf_activiteitscodeid'],\n",
       "      dtype='object')"
      ]
     },
     "execution_count": 17,
     "metadata": {},
     "output_type": "execute_result"
    }
   ],
   "source": [
    "df_account_activiteitscode = pd.read_csv('../data_clean/Account_activiteitscode_fixed.csv')\n",
    "print(df_account_activiteitscode.shape)\n",
    "df_account_activiteitscode.columns"
   ]
  },
  {
   "cell_type": "code",
   "execution_count": 18,
   "metadata": {},
   "outputs": [
    {
     "name": "stdout",
     "output_type": "stream",
     "text": [
      "(40, 3)\n"
     ]
    },
    {
     "data": {
      "text/plain": [
       "Index(['activiteitscode_naam', 'activiteitscode_activiteitscode_id',\n",
       "       'activiteitscode_status'],\n",
       "      dtype='object')"
      ]
     },
     "execution_count": 18,
     "metadata": {},
     "output_type": "execute_result"
    }
   ],
   "source": [
    "df_activiteitscode = pd.read_csv('../data_clean/Activiteitscode_fixed.csv')\n",
    "print(df_activiteitscode.shape)\n",
    "df_activiteitscode.columns"
   ]
  },
  {
   "cell_type": "markdown",
   "metadata": {},
   "source": [
    "account_activiteitscode mergen met activiteitscode"
   ]
  },
  {
   "cell_type": "code",
   "execution_count": 19,
   "metadata": {},
   "outputs": [
    {
     "data": {
      "text/plain": [
       "(14665, 2)"
      ]
     },
     "execution_count": 19,
     "metadata": {},
     "output_type": "execute_result"
    }
   ],
   "source": [
    "df_activiteit = df_account_activiteitscode.merge(df_activiteitscode, left_on='account_activiteitscode_activiteitscode', right_on='activiteitscode_activiteitscode_id', how='inner')\n",
    "df_activiteit = df_activiteit[df_activiteit['activiteitscode_status'] == 'Actief']\n",
    "df_activiteit.drop(['account_activiteitscode_activiteitscode', 'activiteitscode_activiteitscode_id'\n",
    "                    , 'activiteitscode_status', 'account_activiteitscode_inf_account_inf_activiteitscodeid'], axis=1, inplace=True)\n",
    "df_activiteit.shape"
   ]
  },
  {
   "cell_type": "markdown",
   "metadata": {},
   "source": [
    "activiteitscode naam combineren waar account niet uniek is"
   ]
  },
  {
   "cell_type": "code",
   "execution_count": 20,
   "metadata": {},
   "outputs": [
    {
     "name": "stdout",
     "output_type": "stream",
     "text": [
      "(13408, 2)\n"
     ]
    },
    {
     "data": {
      "text/html": [
       "<div>\n",
       "<style scoped>\n",
       "    .dataframe tbody tr th:only-of-type {\n",
       "        vertical-align: middle;\n",
       "    }\n",
       "\n",
       "    .dataframe tbody tr th {\n",
       "        vertical-align: top;\n",
       "    }\n",
       "\n",
       "    .dataframe thead th {\n",
       "        text-align: right;\n",
       "    }\n",
       "</style>\n",
       "<table border=\"1\" class=\"dataframe\">\n",
       "  <thead>\n",
       "    <tr style=\"text-align: right;\">\n",
       "      <th></th>\n",
       "      <th>activiteitscode_naam</th>\n",
       "      <th>account_activiteitscode_account</th>\n",
       "    </tr>\n",
       "  </thead>\n",
       "  <tbody>\n",
       "    <tr>\n",
       "      <th>0</th>\n",
       "      <td>Overige industrie &amp; diensten</td>\n",
       "      <td>00002DAC-0A69-E111-B43A-00505680000A</td>\n",
       "    </tr>\n",
       "    <tr>\n",
       "      <th>1</th>\n",
       "      <td>Consultancy</td>\n",
       "      <td>00068436-F919-E211-9DAA-005056B06EB4</td>\n",
       "    </tr>\n",
       "    <tr>\n",
       "      <th>2</th>\n",
       "      <td>Technologische industrie &amp; diensten</td>\n",
       "      <td>0009A6E6-2369-E111-B43A-00505680000A</td>\n",
       "    </tr>\n",
       "    <tr>\n",
       "      <th>3</th>\n",
       "      <td>Voeding</td>\n",
       "      <td>000D39CF-BE68-E111-B43A-00505680000A</td>\n",
       "    </tr>\n",
       "    <tr>\n",
       "      <th>4</th>\n",
       "      <td>Overige industrie &amp; diensten</td>\n",
       "      <td>0016CAE8-BD68-E111-B43A-00505680000A</td>\n",
       "    </tr>\n",
       "  </tbody>\n",
       "</table>\n",
       "</div>"
      ],
      "text/plain": [
       "                  activiteitscode_naam       account_activiteitscode_account\n",
       "0         Overige industrie & diensten  00002DAC-0A69-E111-B43A-00505680000A\n",
       "1                          Consultancy  00068436-F919-E211-9DAA-005056B06EB4\n",
       "2  Technologische industrie & diensten  0009A6E6-2369-E111-B43A-00505680000A\n",
       "3                              Voeding  000D39CF-BE68-E111-B43A-00505680000A\n",
       "4         Overige industrie & diensten  0016CAE8-BD68-E111-B43A-00505680000A"
      ]
     },
     "execution_count": 20,
     "metadata": {},
     "output_type": "execute_result"
    }
   ],
   "source": [
    "# where account_activiteitscode_account is not unique, combine the activiteitscode_naam\n",
    "def merge_activiteitscode_naam(series):\n",
    "    return ', '.join(series)\n",
    "\n",
    "df_activiteit = df_activiteit.groupby(\n",
    "    ['account_activiteitscode_account'], \n",
    "    as_index=False).agg({'activiteitscode_naam': merge_activiteitscode_naam, \n",
    "                         **{col: 'first' for col in df_activiteit.columns if col != 'activiteitscode_naam'}})\n",
    "\n",
    "print(df_activiteit.shape)\n",
    "\n",
    "df_activiteit.head()"
   ]
  },
  {
   "cell_type": "markdown",
   "metadata": {},
   "source": [
    "mergen met account_contact"
   ]
  },
  {
   "cell_type": "code",
   "execution_count": 21,
   "metadata": {},
   "outputs": [
    {
     "data": {
      "text/plain": [
       "(67225, 7)"
      ]
     },
     "execution_count": 21,
     "metadata": {},
     "output_type": "execute_result"
    }
   ],
   "source": [
    "df_account_contact = df_account_contact.merge(df_activiteit, left_on='account_account_id'\n",
    "                                              , right_on='account_activiteitscode_account', how='left')\n",
    "df_account_contact.drop(['account_activiteitscode_account'], axis=1, inplace=True)\n",
    "df_account_contact.shape"
   ]
  },
  {
   "cell_type": "code",
   "execution_count": 22,
   "metadata": {},
   "outputs": [
    {
     "name": "stdout",
     "output_type": "stream",
     "text": [
      "#account: 30707, #contact: 67225\n"
     ]
    }
   ],
   "source": [
    "print_nunique(df_account_contact)"
   ]
  },
  {
   "cell_type": "markdown",
   "metadata": {},
   "source": [
    "#####  Maar 16160 vd 67225 activiteitscodes zijn non-null"
   ]
  },
  {
   "cell_type": "code",
   "execution_count": 23,
   "metadata": {},
   "outputs": [
    {
     "name": "stdout",
     "output_type": "stream",
     "text": [
      "<class 'pandas.core.frame.DataFrame'>\n",
      "RangeIndex: 67225 entries, 0 to 67224\n",
      "Data columns (total 7 columns):\n",
      " #   Column                     Non-Null Count  Dtype \n",
      "---  ------                     --------------  ----- \n",
      " 0   functie_naam               67225 non-null  object\n",
      " 1   account_account_id         67225 non-null  object\n",
      " 2   account_adres              67225 non-null  object\n",
      " 3   account_onderneming        67225 non-null  object\n",
      " 4   contact_contactpersoon_id  67225 non-null  object\n",
      " 5   contact_functietitel       67225 non-null  object\n",
      " 6   activiteitscode_naam       16160 non-null  object\n",
      "dtypes: object(7)\n",
      "memory usage: 3.6+ MB\n"
     ]
    }
   ],
   "source": [
    "df_account_contact.info()"
   ]
  },
  {
   "cell_type": "markdown",
   "metadata": {},
   "source": [
    "### Account financiele data mergen met account_contact"
   ]
  },
  {
   "cell_type": "code",
   "execution_count": 24,
   "metadata": {},
   "outputs": [
    {
     "name": "stdout",
     "output_type": "stream",
     "text": [
      "(2030180, 3)\n"
     ]
    },
    {
     "data": {
      "text/plain": [
       "Index(['financieledata_ondernemingid', 'financieledata_boekjaar',\n",
       "       'financieledata_toegevoegde_waarde'],\n",
       "      dtype='object')"
      ]
     },
     "execution_count": 24,
     "metadata": {},
     "output_type": "execute_result"
    }
   ],
   "source": [
    "df_account_financieel = pd.read_csv('../data_clean/Account_financiële_data_fixed.csv', sep=',')\n",
    "df_account_financieel.drop(['financieledata_gewijzigd_op', 'financieledata_fte', 'financieledata_aantal_maanden'], axis=1, inplace=True)\n",
    "df_account_financieel['financieledata_toegevoegde_waarde'] = df_account_financieel['financieledata_toegevoegde_waarde'].astype(str)\n",
    "\n",
    "print(df_account_financieel.shape)\n",
    "df_account_financieel.columns"
   ]
  },
  {
   "cell_type": "code",
   "execution_count": 26,
   "metadata": {},
   "outputs": [
    {
     "data": {
      "text/plain": [
       "(687078, 9)"
      ]
     },
     "execution_count": 26,
     "metadata": {},
     "output_type": "execute_result"
    }
   ],
   "source": [
    "df_account_contact_finance = df_account_contact.merge(df_account_financieel, left_on='account_account_id', right_on='financieledata_ondernemingid', how='left')\n",
    "df_account_contact_finance.drop(['financieledata_ondernemingid'], axis=1, inplace=True)\n",
    "df_account_contact_finance.shape"
   ]
  },
  {
   "cell_type": "code",
   "execution_count": 27,
   "metadata": {},
   "outputs": [],
   "source": [
    "# turn financieledata_toegevoegde_waarde into a numeric value\n",
    "df_account_contact_finance['financieledata_toegevoegde_waarde'] = df_account_contact_finance['financieledata_toegevoegde_waarde'].str.replace(',', '.')\n",
    "df_account_contact_finance['financieledata_toegevoegde_waarde'] = df_account_contact_finance['financieledata_toegevoegde_waarde'].str.replace('unknown', '0')\n",
    "df_account_contact_finance['financieledata_toegevoegde_waarde'] = df_account_contact_finance['financieledata_toegevoegde_waarde'].astype(float)"
   ]
  },
  {
   "cell_type": "markdown",
   "metadata": {},
   "source": [
    "##### De financieel toegevoegde waarde optellen per account en de boekjaren hun range gebruiken (vb 2007 - 2022 => 15 jaar)"
   ]
  },
  {
   "cell_type": "code",
   "execution_count": 28,
   "metadata": {},
   "outputs": [],
   "source": [
    "# group by 'account_account_id' and 'contact_contactpersoon_id' and merge 'financieledata_toegevoegde_waarde' by sum and 'financieledata_boekjaar' by max - min\n",
    "df_account_contact_finance = df_account_contact_finance.groupby(\n",
    "    ['account_account_id', 'contact_contactpersoon_id'], \n",
    "    as_index=False).agg({'financieledata_toegevoegde_waarde': 'sum', \n",
    "                         'financieledata_boekjaar': lambda x: x.max() - x.min(), \n",
    "                         **{col: 'first' for col in df_account_contact_finance.columns if col not in ['financieledata_toegevoegde_waarde', 'financieledata_boekjaar']}})\n",
    "\n",
    "df_account_contact_finance.rename(columns={'financieledata_boekjaar': 'financieledata_boekjaar_range'}, inplace=True)"
   ]
  },
  {
   "cell_type": "code",
   "execution_count": 29,
   "metadata": {},
   "outputs": [
    {
     "data": {
      "text/plain": [
       "(67225, 9)"
      ]
     },
     "execution_count": 29,
     "metadata": {},
     "output_type": "execute_result"
    }
   ],
   "source": [
    "df_account_contact_finance.shape"
   ]
  },
  {
   "cell_type": "code",
   "execution_count": 30,
   "metadata": {},
   "outputs": [
    {
     "name": "stdout",
     "output_type": "stream",
     "text": [
      "#account: 30707, #contact: 67225\n"
     ]
    }
   ],
   "source": [
    "print_nunique(df_account_contact_finance)"
   ]
  },
  {
   "cell_type": "markdown",
   "metadata": {},
   "source": [
    "##### Alle niet meer benodigde dataframes verwijderen"
   ]
  },
  {
   "cell_type": "code",
   "execution_count": 32,
   "metadata": {},
   "outputs": [
    {
     "name": "stdout",
     "output_type": "stream",
     "text": [
      "already deleted or non-existent\n"
     ]
    }
   ],
   "source": [
    "try:\n",
    "    del df_account\n",
    "    del df_contact\n",
    "    del df_contact_functie\n",
    "    del df_functie\n",
    "    del df_account_financieel\n",
    "    del df_account_contact\n",
    "except:\n",
    "    print('already deleted or non-existent')"
   ]
  },
  {
   "cell_type": "markdown",
   "metadata": {},
   "source": [
    "### Afspraken cleanen en mergen"
   ]
  },
  {
   "cell_type": "code",
   "execution_count": 33,
   "metadata": {},
   "outputs": [
    {
     "name": "stdout",
     "output_type": "stream",
     "text": [
      "(2934, 7)\n",
      "['afspraak_account_gelinkt_afspraak_id', 'afspraak_account_gelinkt_thema', 'afspraak_account_gelinkt_subthema', 'afspraak_account_gelinkt_onderwerp', 'afspraak_account_gelinkt_eindtijd', 'afspraak_account_gelinkt_account', 'afspraak_account_gelinkt_keyphrases']\n"
     ]
    }
   ],
   "source": [
    "df_afspraak_acc_gelinkt = pd.read_csv('../data_clean/Afspraak_account_gelinkt_cleaned_fixed.csv', sep=',')\n",
    "print(df_afspraak_acc_gelinkt.shape)\n",
    "print(list(df_afspraak_acc_gelinkt.columns))\n",
    "df_afspraak_acc_gelinkt.drop(['afspraak_account_gelinkt_account'], axis=1, inplace=True) "
   ]
  },
  {
   "cell_type": "code",
   "execution_count": 34,
   "metadata": {},
   "outputs": [
    {
     "name": "stdout",
     "output_type": "stream",
     "text": [
      "(4876, 7)\n",
      "['afspraak_betreft_account_afspraak_id', 'afspraak_betreft_account_thema', 'afspraak_betreft_account_subthema', 'afspraak_betreft_account_onderwerp', 'afspraak_betreft_account_betreft_id', 'afspraak_betreft_account_eindtijd', 'afspraak_betreft_account_keyphrases']\n"
     ]
    }
   ],
   "source": [
    "df_afspraak_betreft_acc = pd.read_csv('../data_clean/Afspraak_betreft_account_cleaned_fixed.csv', sep=',')\n",
    "print(df_afspraak_betreft_acc.shape)\n",
    "print(list(df_afspraak_betreft_acc.columns))\n",
    "df_afspraak_betreft_acc.drop(['afspraak_betreft_account_betreft_id'], axis=1, inplace=True)"
   ]
  },
  {
   "cell_type": "code",
   "execution_count": 35,
   "metadata": {},
   "outputs": [
    {
     "name": "stdout",
     "output_type": "stream",
     "text": [
      "(2552, 7)\n",
      "['afspraak_betreft_contactfiche_afspraak_id', 'afspraak_betreft_contactfiche_thema', 'afspraak_betreft_contactfiche_subthema', 'afspraak_betreft_contactfiche_onderwerp', 'afspraak_betreft_contactfiche_betreft_id', 'afspraak_betreft_contactfiche_eindtijd', 'afspraak_betreft_contactfiche_keyphrases']\n"
     ]
    }
   ],
   "source": [
    "df_afspraak_betreft_contact = pd.read_csv('../data_clean/Afspraak_betreft_contact_cleaned_fixed.csv', sep=',')\n",
    "print(df_afspraak_betreft_contact.shape)\n",
    "print(list(df_afspraak_betreft_contact.columns))\n",
    "df_afspraak_betreft_contact.drop(['afspraak_betreft_contactfiche_betreft_id'], axis=1, inplace=True)"
   ]
  },
  {
   "cell_type": "markdown",
   "metadata": {},
   "source": [
    "##### Kolomnamen hernoemen en afspraakt_betreft toevoegen (betreft account = 1, betreft contact = 0)"
   ]
  },
  {
   "cell_type": "code",
   "execution_count": 36,
   "metadata": {},
   "outputs": [],
   "source": [
    "df_afspraak_acc_gelinkt.columns = ['afspraak_afspraak_id', 'afspraak_thema', 'afspraak_subthema', 'afspraak_onderwerp', 'afspraak_eindtijd', 'afspraak_keyphrases']\n",
    "df_afspraak_betreft_acc.columns = ['afspraak_afspraak_id', 'afspraak_thema', 'afspraak_subthema', 'afspraak_onderwerp', 'afspraak_eindtijd', 'afspraak_keyphrases']\n",
    "df_afspraak_betreft_contact.columns = ['afspraak_afspraak_id', 'afspraak_thema', 'afspraak_subthema', 'afspraak_onderwerp', 'afspraak_eindtijd', 'afspraak_keyphrases']\n",
    "\n",
    "df_afspraak_betreft_acc[\"afspraak_betreft\"] = 1\n",
    "df_afspraak_acc_gelinkt[\"afspraak_betreft\"] = 1\n",
    "df_afspraak_betreft_contact[\"afspraak_betreft\"] = 0"
   ]
  },
  {
   "cell_type": "code",
   "execution_count": 37,
   "metadata": {},
   "outputs": [
    {
     "data": {
      "text/plain": [
       "(2934,)"
      ]
     },
     "execution_count": 37,
     "metadata": {},
     "output_type": "execute_result"
    }
   ],
   "source": [
    "acc_gelinkt_id_list = df_afspraak_acc_gelinkt['afspraak_afspraak_id'].unique()\n",
    "acc_gelinkt_id_list.shape"
   ]
  },
  {
   "cell_type": "markdown",
   "metadata": {},
   "source": [
    "##### Afspraken mergen en al cleanen"
   ]
  },
  {
   "cell_type": "code",
   "execution_count": 38,
   "metadata": {},
   "outputs": [
    {
     "name": "stdout",
     "output_type": "stream",
     "text": [
      "(9685, 7)\n",
      "['afspraak_afspraak_id', 'afspraak_thema', 'afspraak_subthema', 'afspraak_onderwerp', 'afspraak_eindtijd', 'afspraak_keyphrases', 'afspraak_betreft']\n"
     ]
    }
   ],
   "source": [
    "df_afspraken = pd.concat([df_afspraak_betreft_acc, df_afspraak_acc_gelinkt, df_afspraak_betreft_contact], ignore_index=True)\n",
    "df_afspraken.drop_duplicates(inplace=True)\n",
    "print(df_afspraken.shape)\n",
    "print(list(df_afspraken.columns))"
   ]
  },
  {
   "cell_type": "code",
   "execution_count": 39,
   "metadata": {},
   "outputs": [
    {
     "name": "stdout",
     "output_type": "stream",
     "text": [
      "(8265, 1)\n",
      "['afspraak_alle_afspraak_id']\n"
     ]
    },
    {
     "data": {
      "text/plain": [
       "8265"
      ]
     },
     "execution_count": 39,
     "metadata": {},
     "output_type": "execute_result"
    }
   ],
   "source": [
    "df_afspraak_alle = pd.read_csv('../data_clean/Afspraak_alle_fixed.csv', sep=',')\n",
    "print(df_afspraak_alle.shape)\n",
    "print(list(df_afspraak_alle.columns))\n",
    "df_afspraak_alle['afspraak_alle_afspraak_id'].nunique()"
   ]
  },
  {
   "cell_type": "code",
   "execution_count": 40,
   "metadata": {},
   "outputs": [
    {
     "name": "stdout",
     "output_type": "stream",
     "text": [
      "(9678, 5)\n",
      "Index(['afspraak_afspraak_id', 'afspraak_thema', 'afspraak_onderwerp',\n",
      "       'afspraak_keyphrases', 'afspraak_betreft'],\n",
      "      dtype='object')\n"
     ]
    }
   ],
   "source": [
    "df_afspraken = df_afspraken.merge(df_afspraak_alle, left_on='afspraak_afspraak_id', right_on='afspraak_alle_afspraak_id', how='inner')\n",
    "\n",
    "df_afspraken['afspraak_thema'] = df_afspraken['afspraak_subthema'].str.replace('\\(', '', regex=True)\n",
    "df_afspraken['afspraak_thema'] = df_afspraken['afspraak_thema'].str.replace('\\)', '', regex=True)\n",
    "\n",
    "df_afspraken['afspraak_onderwerp'] = df_afspraken['afspraak_onderwerp'].str.lower().str.capitalize()\n",
    "df_afspraken['afspraak_onderwerp'] = df_afspraken['afspraak_onderwerp'].str.replace(' ', '-')\n",
    "df_afspraken['afspraak_onderwerp'] = df_afspraken['afspraak_onderwerp'].astype(str)\n",
    "\n",
    "df_afspraken.drop(['afspraak_alle_afspraak_id', 'afspraak_eindtijd', 'afspraak_subthema'], axis=1, inplace=True)\n",
    "\n",
    "df_afspraken.drop_duplicates(inplace=True)\n",
    "\n",
    "print(df_afspraken.shape)\n",
    "print(df_afspraken.columns)"
   ]
  },
  {
   "cell_type": "code",
   "execution_count": 41,
   "metadata": {},
   "outputs": [
    {
     "data": {
      "text/plain": [
       "7624"
      ]
     },
     "execution_count": 41,
     "metadata": {},
     "output_type": "execute_result"
    }
   ],
   "source": [
    "df_afspraken['afspraak_afspraak_id'].nunique()"
   ]
  },
  {
   "cell_type": "markdown",
   "metadata": {},
   "source": [
    "##### Waar afspraak_betreft 0 en 1 is maken we er 2 van"
   ]
  },
  {
   "cell_type": "code",
   "execution_count": 42,
   "metadata": {},
   "outputs": [
    {
     "data": {
      "text/plain": [
       "(7624, 5)"
      ]
     },
     "execution_count": 42,
     "metadata": {},
     "output_type": "execute_result"
    }
   ],
   "source": [
    "# show rows where afspraak_afspraak_id is not unique\n",
    "list_to_change_afspraak_betreft_to_2 = df_afspraken[df_afspraken['afspraak_afspraak_id'].duplicated(keep=False)]['afspraak_afspraak_id'].unique()\n",
    "\n",
    "# for every afspraak_afspraak_id that is not unique, change afspraak_betreft to 2\n",
    "for afspraak_id in list_to_change_afspraak_betreft_to_2:\n",
    "    df_afspraken.loc[df_afspraken['afspraak_afspraak_id'] == afspraak_id, 'afspraak_betreft'] = 2\n",
    "\n",
    "df_afspraken.drop_duplicates(inplace=True)\n",
    "df_afspraken.shape"
   ]
  },
  {
   "cell_type": "markdown",
   "metadata": {},
   "source": [
    "##### Acc_gelinkt = 1 anders 0 -> adhv acc_gelinkt_id_list"
   ]
  },
  {
   "cell_type": "code",
   "execution_count": 43,
   "metadata": {},
   "outputs": [],
   "source": [
    "for afspraak_id in acc_gelinkt_id_list:\n",
    "    df_afspraken.loc[df_afspraken['afspraak_afspraak_id'] == afspraak_id, 'afspraak_account_gelinkt'] = 1\n",
    "\n",
    "df_afspraken['afspraak_account_gelinkt'].fillna(0, inplace=True)"
   ]
  },
  {
   "cell_type": "markdown",
   "metadata": {},
   "source": [
    "##### Nu nog mergen met activiteit_vereist_contact"
   ]
  },
  {
   "cell_type": "code",
   "execution_count": 44,
   "metadata": {},
   "outputs": [
    {
     "name": "stdout",
     "output_type": "stream",
     "text": [
      "(4635, 2)\n",
      "['activiteitvereistcontact_activityid_id', 'activiteitvereistcontact_reqattendee']\n"
     ]
    },
    {
     "data": {
      "text/plain": [
       "3042"
      ]
     },
     "execution_count": 44,
     "metadata": {},
     "output_type": "execute_result"
    }
   ],
   "source": [
    "df_activiteit_vereist_contact = pd.read_csv('../data_clean/Activiteit_vereist_contact_fixed.csv', sep=',')\n",
    "print(df_activiteit_vereist_contact.shape)\n",
    "print(list(df_activiteit_vereist_contact.columns))\n",
    "df_activiteit_vereist_contact['activiteitvereistcontact_reqattendee'].nunique()"
   ]
  },
  {
   "cell_type": "code",
   "execution_count": 45,
   "metadata": {},
   "outputs": [
    {
     "data": {
      "text/plain": [
       "(4545, 6)"
      ]
     },
     "execution_count": 45,
     "metadata": {},
     "output_type": "execute_result"
    }
   ],
   "source": [
    "df_afspraken_total = df_afspraken.merge(df_activiteit_vereist_contact, left_on='afspraak_afspraak_id', right_on='activiteitvereistcontact_activityid_id', how='inner')\n",
    "df_afspraken_total.drop(['activiteitvereistcontact_activityid_id', 'afspraak_afspraak_id'], axis=1, inplace=True)\n",
    "df_afspraken_total.shape"
   ]
  },
  {
   "cell_type": "code",
   "execution_count": 46,
   "metadata": {},
   "outputs": [
    {
     "data": {
      "text/plain": [
       "(4545, 6)"
      ]
     },
     "execution_count": 46,
     "metadata": {},
     "output_type": "execute_result"
    }
   ],
   "source": [
    "df_afspraken_total.shape"
   ]
  },
  {
   "cell_type": "markdown",
   "metadata": {},
   "source": [
    "Alle niet benodigde dataframes verwijderen"
   ]
  },
  {
   "cell_type": "code",
   "execution_count": 47,
   "metadata": {},
   "outputs": [],
   "source": [
    "try:\n",
    "    del df_afspraak_acc_gelinkt\n",
    "    del df_afspraak_betreft_acc\n",
    "    del df_afspraak_betreft_contact\n",
    "    del df_afspraak_alle\n",
    "    del df_afspraken\n",
    "    del df_activiteit_vereist_contact\n",
    "except:\n",
    "    print('already deleted or non-existent')"
   ]
  },
  {
   "cell_type": "markdown",
   "metadata": {},
   "source": [
    "### Account en Afspraken mergen"
   ]
  },
  {
   "cell_type": "code",
   "execution_count": 48,
   "metadata": {},
   "outputs": [
    {
     "data": {
      "text/plain": [
       "(68618, 14)"
      ]
     },
     "execution_count": 48,
     "metadata": {},
     "output_type": "execute_result"
    }
   ],
   "source": [
    "acc_afs_merged = df_account_contact_finance.merge(df_afspraken_total, left_on=['contact_contactpersoon_id'], right_on=['activiteitvereistcontact_reqattendee'], how='left')\n",
    "acc_afs_merged.drop(['activiteitvereistcontact_reqattendee'], axis=1, inplace=True)\n",
    "acc_afs_merged.shape"
   ]
  },
  {
   "cell_type": "code",
   "execution_count": 49,
   "metadata": {},
   "outputs": [
    {
     "name": "stdout",
     "output_type": "stream",
     "text": [
      "#account: 30707, #contact: 67225\n"
     ]
    }
   ],
   "source": [
    "print_nunique(acc_afs_merged)"
   ]
  },
  {
   "cell_type": "markdown",
   "metadata": {},
   "source": [
    "NaN opvullen"
   ]
  },
  {
   "cell_type": "code",
   "execution_count": 50,
   "metadata": {},
   "outputs": [],
   "source": [
    "acc_afs_merged['financieledata_boekjaar_range'].fillna(0, inplace=True)\n",
    "acc_afs_merged['afspraak_betreft'].fillna(-1, inplace=True)\n",
    "acc_afs_merged['afspraak_account_gelinkt'].fillna(-1, inplace=True)\n",
    "\n",
    "acc_afs_merged['activiteitscode_naam'].fillna('unknown', inplace=True)\n",
    "acc_afs_merged['afspraak_thema'].fillna('unknown', inplace=True)\n",
    "acc_afs_merged['afspraak_onderwerp'].fillna('unknown', inplace=True)\n",
    "acc_afs_merged['afspraak_keyphrases'].fillna('unknown', inplace=True)"
   ]
  },
  {
   "cell_type": "markdown",
   "metadata": {},
   "source": [
    "##### Strings cleanen"
   ]
  },
  {
   "cell_type": "code",
   "execution_count": 51,
   "metadata": {},
   "outputs": [],
   "source": [
    "acc_afs_merged['afspraak_onderwerp'] = acc_afs_merged['afspraak_onderwerp'].str.replace('Ov-', '')\n",
    "acc_afs_merged['afspraak_onderwerp'] = acc_afs_merged['afspraak_onderwerp'].str.lower().str.replace('-', ' ')\n",
    "acc_afs_merged['afspraak_onderwerp'] = acc_afs_merged['afspraak_onderwerp'].str.replace('   ', ' ')\n",
    "acc_afs_merged['afspraak_onderwerp'] = acc_afs_merged['afspraak_onderwerp'].str.replace('&', '')\n",
    "acc_afs_merged['afspraak_onderwerp'] = acc_afs_merged['afspraak_onderwerp'].str.strip()\n",
    "\n",
    "acc_afs_merged['afspraak_thema'] = acc_afs_merged['afspraak_thema'].str.lower()"
   ]
  },
  {
   "cell_type": "markdown",
   "metadata": {},
   "source": [
    "Alle string columns van Afspraak samenvoegen"
   ]
  },
  {
   "cell_type": "code",
   "execution_count": 52,
   "metadata": {},
   "outputs": [
    {
     "data": {
      "text/plain": [
       "(68610, 12)"
      ]
     },
     "execution_count": 52,
     "metadata": {},
     "output_type": "execute_result"
    }
   ],
   "source": [
    "# combine 'afspraak_thema', 'afspraak_onderwerp', 'afspraak_keyphrases' into one column\n",
    "acc_afs_merged['afspraak_thema'] = acc_afs_merged['afspraak_thema'].astype(str)\n",
    "acc_afs_merged['afspraak_onderwerp'] = acc_afs_merged['afspraak_onderwerp'].astype(str)\n",
    "acc_afs_merged['afspraak_keyphrases'] = acc_afs_merged['afspraak_keyphrases'].astype(str)\n",
    "\n",
    "replacement_dict = {'\\(': '', '\\)': '', '\\'': '', '\\\"': '', '\\[': '', '\\]': ''}\n",
    "\n",
    "acc_afs_merged['afspraak_keyphrases'] = acc_afs_merged['afspraak_keyphrases'].replace(replacement_dict, regex=True)\n",
    "\n",
    "acc_afs_merged['afspraak_keyphrases'] = acc_afs_merged['afspraak_thema'] + ', ' + acc_afs_merged['afspraak_onderwerp'] + ', ' + acc_afs_merged['afspraak_keyphrases']\n",
    "acc_afs_merged['afspraak_keyphrases'] = acc_afs_merged['afspraak_keyphrases'].str.replace('unknown, ', '')\n",
    "acc_afs_merged['afspraak_keyphrases'] = acc_afs_merged['afspraak_keyphrases'].str.replace(', unknown', '')\n",
    "acc_afs_merged.drop(['afspraak_thema', 'afspraak_onderwerp'], axis=1, inplace=True)\n",
    "\n",
    "acc_afs_merged.drop_duplicates(inplace=True)\n",
    "acc_afs_merged.shape"
   ]
  },
  {
   "cell_type": "markdown",
   "metadata": {},
   "source": [
    "Alle string columns van Account en contact samenvoegen"
   ]
  },
  {
   "cell_type": "code",
   "execution_count": null,
   "metadata": {},
   "outputs": [],
   "source": [
    "columns_to_process = ['account_onderneming', 'account_adres', 'activiteitscode_naam', 'contact_functietitel', 'functie_naam']\n",
    "\n",
    "for column in columns_to_process:\n",
    "    acc_afs_merged[column] = acc_afs_merged[column].astype(str)\n",
    "\n",
    "acc_afs_merged['account_keyphrases'] = acc_afs_merged[columns_to_process].apply(lambda x: ', '.join(x), axis=1)\n",
    "acc_afs_merged['account_keyphrases'] = acc_afs_merged['account_keyphrases'].str.replace('unknown, |, unknown|unknown|   |  |/', ' ').str.lower().str.strip()\n",
    "acc_afs_merged.drop(columns_to_process, axis=1, inplace=True)\n",
    "\n",
    "acc_afs_merged.shape\n",
    "\n",
    "print_nunique(acc_afs_merged)"
   ]
  },
  {
   "cell_type": "markdown",
   "metadata": {},
   "source": [
    "Alle niet benodigde dataframes verwijderen"
   ]
  },
  {
   "cell_type": "code",
   "execution_count": 63,
   "metadata": {},
   "outputs": [],
   "source": [
    "try:\n",
    "    del df_account_contact_finance\n",
    "    del df_afspraken_total\n",
    "except:\n",
    "    print('already deleted or non-existent')"
   ]
  },
  {
   "cell_type": "markdown",
   "metadata": {},
   "source": [
    "### Campagne cleanen en mergen"
   ]
  },
  {
   "cell_type": "code",
   "execution_count": 70,
   "metadata": {},
   "outputs": [
    {
     "name": "stdout",
     "output_type": "stream",
     "text": [
      "(4092, 2)\n",
      "Index(['campagne_campagne_id', 'campagne_keyphrases'], dtype='object')\n"
     ]
    }
   ],
   "source": [
    "df_campagne = pd.read_csv('../data_clean/Campagne_fixed.csv', sep=',')\n",
    "df_campagne.drop(['campagne_einddatum', 'campagne_startdatum', 'campagne_campagne_nr', \n",
    "                  'campagne_naam_in_email', 'campagne_reden_van_status', 'campagne_status',\n",
    "                  'campagne_url_voka_be'], axis=1, inplace=True)\n",
    "\n",
    "df_campagne['campagne_keyphrases'] = df_campagne['campagne_soort_campagne'] + ', ' + df_campagne['campagne_type_campagne'] + ', ' \\\n",
    "            + df_campagne['campagne_naam']\n",
    "\n",
    "df_campagne['campagne_keyphrases'] = df_campagne['campagne_keyphrases'].str.replace('unknown, ', '')\n",
    "df_campagne['campagne_keyphrases'] = df_campagne['campagne_keyphrases'].str.replace(', unknown', '')\n",
    "\n",
    "df_campagne.drop(['campagne_soort_campagne', 'campagne_type_campagne', 'campagne_naam'], axis=1, inplace=True)\n",
    "\n",
    "df_campagne['campagne_keyphrases'] = df_campagne['campagne_keyphrases'].str.lower().str.replace('OV-', '')\n",
    "df_campagne['campagne_keyphrases'] = df_campagne['campagne_keyphrases'].str.replace('OV-NW-', '')\n",
    "df_campagne['campagne_keyphrases'] = df_campagne['campagne_keyphrases'].str.replace('OV-IO-', '')\n",
    "df_campagne['campagne_keyphrases'] = df_campagne['campagne_keyphrases'].str.replace('ov-io-', '')\n",
    "df_campagne['campagne_keyphrases'] = df_campagne['campagne_keyphrases'].str.replace('ov-nw-', '')\n",
    "df_campagne['campagne_keyphrases'] = df_campagne['campagne_keyphrases'].str.replace('ov-', '')\n",
    "\n",
    "print(df_campagne.shape)\n",
    "print(df_campagne.columns)"
   ]
  },
  {
   "cell_type": "markdown",
   "metadata": {},
   "source": [
    "### Sessie cleanen"
   ]
  },
  {
   "cell_type": "code",
   "execution_count": 255,
   "metadata": {},
   "outputs": [
    {
     "name": "stdout",
     "output_type": "stream",
     "text": [
      "(9403, 5)\n",
      "Index(['sessie_activiteitstype', 'sessie_campagne', 'sessie_product',\n",
      "       'sessie_sessie_id', 'sessie_thema_naam_'],\n",
      "      dtype='object')\n"
     ]
    }
   ],
   "source": [
    "df_sessie = pd.read_csv('../data_clean/Sessie_fixed.csv', sep=',')\n",
    "df_sessie.drop(['sessie_eind_datum_tijd', 'sessie_sessie_nr_', 'sessie_start_datum_tijd'], axis=1, inplace=True)\n",
    "print(df_sessie.shape)\n",
    "print(df_sessie.columns)"
   ]
  },
  {
   "cell_type": "markdown",
   "metadata": {},
   "source": [
    "### Inschrijving cleanen"
   ]
  },
  {
   "cell_type": "code",
   "execution_count": 256,
   "metadata": {},
   "outputs": [
    {
     "name": "stdout",
     "output_type": "stream",
     "text": [
      "(49175, 6)\n",
      "Index(['inschrijving_aanwezig_afwezig', 'inschrijving_bron',\n",
      "       'inschrijving_contactfiche', 'inschrijving_inschrijving_id',\n",
      "       'inschrijving_facturatie_bedrag', 'inschrijving_campagne'],\n",
      "      dtype='object')\n"
     ]
    }
   ],
   "source": [
    "df_inschrijving = pd.read_csv('../data_clean/Inschrijving_fixed.csv', sep=',')\n",
    "df_inschrijving.drop(['inschrijving_datum_inschrijving', 'inschrijving_campagne_naam_'], axis=1, inplace=True)\n",
    "print(df_inschrijving.shape)\n",
    "print(df_inschrijving.columns)"
   ]
  },
  {
   "cell_type": "code",
   "execution_count": 257,
   "metadata": {},
   "outputs": [
    {
     "name": "stdout",
     "output_type": "stream",
     "text": [
      "#account: niet gevonden, #contact: 18222\n"
     ]
    }
   ],
   "source": [
    "print_nunique(df_inschrijving, cont_col='inschrijving_contactfiche')"
   ]
  },
  {
   "cell_type": "markdown",
   "metadata": {},
   "source": [
    "### Sessie_inschrijving cleanen"
   ]
  },
  {
   "cell_type": "code",
   "execution_count": 258,
   "metadata": {},
   "outputs": [
    {
     "name": "stdout",
     "output_type": "stream",
     "text": [
      "(88309, 3)\n",
      "Index(['sessieinschrijving_sessieinschrijving_id', 'sessieinschrijving_sessie',\n",
      "       'sessieinschrijving_inschrijving'],\n",
      "      dtype='object')\n"
     ]
    }
   ],
   "source": [
    "df_sessie_inschrijving = pd.read_csv('../data_clean/Sessie_inschrijving_fixed.csv', sep=',')\n",
    "print(df_sessie_inschrijving.shape)\n",
    "print(df_sessie_inschrijving.columns)"
   ]
  },
  {
   "cell_type": "code",
   "execution_count": 259,
   "metadata": {},
   "outputs": [
    {
     "data": {
      "text/plain": [
       "47312"
      ]
     },
     "execution_count": 259,
     "metadata": {},
     "output_type": "execute_result"
    }
   ],
   "source": [
    "df_sessie_inschrijving['sessieinschrijving_inschrijving'].nunique()"
   ]
  },
  {
   "cell_type": "markdown",
   "metadata": {},
   "source": [
    "### Sessie, Sessie_inschrijving en Inschrijving mergen"
   ]
  },
  {
   "cell_type": "code",
   "execution_count": 260,
   "metadata": {},
   "outputs": [
    {
     "name": "stdout",
     "output_type": "stream",
     "text": [
      "(88309, 7)\n"
     ]
    }
   ],
   "source": [
    "df_sessie_inschrijving_merge = df_sessie_inschrijving.merge(df_sessie, left_on='sessieinschrijving_sessie', right_on='sessie_sessie_id', how='inner')\n",
    "df_sessie_inschrijving_merge.drop(['sessieinschrijving_sessie'], axis=1, inplace=True)\n",
    "print(df_sessie_inschrijving_merge.shape)"
   ]
  },
  {
   "cell_type": "code",
   "execution_count": 261,
   "metadata": {},
   "outputs": [
    {
     "name": "stdout",
     "output_type": "stream",
     "text": [
      "(53222, 9)\n",
      "Index(['sessie_activiteitstype', 'sessie_campagne', 'sessie_product',\n",
      "       'sessie_thema_naam_', 'inschrijving_aanwezig_afwezig',\n",
      "       'inschrijving_bron', 'inschrijving_contactfiche',\n",
      "       'inschrijving_facturatie_bedrag', 'inschrijving_campagne'],\n",
      "      dtype='object')\n"
     ]
    }
   ],
   "source": [
    "df_sessie_inschrijving_merge = df_sessie_inschrijving_merge.merge(df_inschrijving, left_on='sessieinschrijving_inschrijving', right_on='inschrijving_inschrijving_id', how='inner')\n",
    "df_sessie_inschrijving_merge.drop(['sessieinschrijving_inschrijving', 'inschrijving_inschrijving_id', 'sessie_sessie_id', 'sessieinschrijving_sessieinschrijving_id'], axis=1, inplace=True)\n",
    "df_sessie_inschrijving_merge.drop_duplicates(inplace=True)\n",
    "print(df_sessie_inschrijving_merge.shape)\n",
    "print(df_sessie_inschrijving_merge.columns)"
   ]
  },
  {
   "cell_type": "markdown",
   "metadata": {},
   "source": [
    "### Campagne, Sessie, Sessie_inschrijving en Inschrijving mergen"
   ]
  },
  {
   "cell_type": "code",
   "execution_count": 262,
   "metadata": {},
   "outputs": [
    {
     "name": "stdout",
     "output_type": "stream",
     "text": [
      "(53222, 10)\n",
      "Index(['sessie_activiteitstype', 'sessie_campagne', 'sessie_product',\n",
      "       'sessie_thema_naam_', 'inschrijving_aanwezig_afwezig',\n",
      "       'inschrijving_bron', 'inschrijving_contactfiche',\n",
      "       'inschrijving_facturatie_bedrag', 'campagne_campagne_id',\n",
      "       'campagne_keyphrases'],\n",
      "      dtype='object')\n"
     ]
    }
   ],
   "source": [
    "df_camp_inschrijving_merge = df_sessie_inschrijving_merge.merge(df_campagne, left_on='inschrijving_campagne', right_on='campagne_campagne_id', how='inner')\n",
    "df_camp_inschrijving_merge.drop(['inschrijving_campagne'], axis=1, inplace=True)\n",
    "df_camp_inschrijving_merge.drop_duplicates(inplace=True)\n",
    "print(df_camp_inschrijving_merge.shape)\n",
    "print(df_camp_inschrijving_merge.columns)"
   ]
  },
  {
   "cell_type": "code",
   "execution_count": 263,
   "metadata": {},
   "outputs": [
    {
     "data": {
      "text/html": [
       "<div>\n",
       "<style scoped>\n",
       "    .dataframe tbody tr th:only-of-type {\n",
       "        vertical-align: middle;\n",
       "    }\n",
       "\n",
       "    .dataframe tbody tr th {\n",
       "        vertical-align: top;\n",
       "    }\n",
       "\n",
       "    .dataframe thead th {\n",
       "        text-align: right;\n",
       "    }\n",
       "</style>\n",
       "<table border=\"1\" class=\"dataframe\">\n",
       "  <thead>\n",
       "    <tr style=\"text-align: right;\">\n",
       "      <th></th>\n",
       "      <th>sessie_activiteitstype</th>\n",
       "      <th>sessie_campagne</th>\n",
       "      <th>sessie_product</th>\n",
       "      <th>sessie_thema_naam_</th>\n",
       "      <th>inschrijving_aanwezig_afwezig</th>\n",
       "      <th>inschrijving_bron</th>\n",
       "      <th>inschrijving_contactfiche</th>\n",
       "      <th>inschrijving_facturatie_bedrag</th>\n",
       "      <th>campagne_campagne_id</th>\n",
       "      <th>campagne_keyphrases</th>\n",
       "    </tr>\n",
       "  </thead>\n",
       "  <tbody>\n",
       "    <tr>\n",
       "      <th>0</th>\n",
       "      <td>Voka Politica</td>\n",
       "      <td>A57DE97C-460B-E811-80EF-001DD8B72B61</td>\n",
       "      <td>OV-Netwerkactiviteit-Regionaal</td>\n",
       "      <td>Netwerking</td>\n",
       "      <td>Aanwezig</td>\n",
       "      <td>Email</td>\n",
       "      <td>D41C3FC7-A96D-E111-B43A-00505680000A</td>\n",
       "      <td>0</td>\n",
       "      <td>A57DE97C-460B-E811-80EF-001DD8B72B61</td>\n",
       "      <td>offline, netwerkevenement, ov - voka politica ...</td>\n",
       "    </tr>\n",
       "    <tr>\n",
       "      <th>1</th>\n",
       "      <td>Voka Politica</td>\n",
       "      <td>A57DE97C-460B-E811-80EF-001DD8B72B61</td>\n",
       "      <td>OV-Netwerkactiviteit-Regionaal</td>\n",
       "      <td>Netwerking</td>\n",
       "      <td>Aanwezig</td>\n",
       "      <td>Email</td>\n",
       "      <td>83502ED6-C567-E711-80E8-001DD8B72B61</td>\n",
       "      <td>0</td>\n",
       "      <td>A57DE97C-460B-E811-80EF-001DD8B72B61</td>\n",
       "      <td>offline, netwerkevenement, ov - voka politica ...</td>\n",
       "    </tr>\n",
       "    <tr>\n",
       "      <th>2</th>\n",
       "      <td>Voka Politica</td>\n",
       "      <td>A57DE97C-460B-E811-80EF-001DD8B72B61</td>\n",
       "      <td>OV-Netwerkactiviteit-Regionaal</td>\n",
       "      <td>Netwerking</td>\n",
       "      <td>Aanwezig</td>\n",
       "      <td>Email</td>\n",
       "      <td>E2628A18-3836-E711-80E6-001DD8B72B61</td>\n",
       "      <td>0</td>\n",
       "      <td>A57DE97C-460B-E811-80EF-001DD8B72B61</td>\n",
       "      <td>offline, netwerkevenement, ov - voka politica ...</td>\n",
       "    </tr>\n",
       "    <tr>\n",
       "      <th>3</th>\n",
       "      <td>Voka Politica</td>\n",
       "      <td>A57DE97C-460B-E811-80EF-001DD8B72B61</td>\n",
       "      <td>OV-Netwerkactiviteit-Regionaal</td>\n",
       "      <td>Netwerking</td>\n",
       "      <td>Aanwezig</td>\n",
       "      <td>Email</td>\n",
       "      <td>07C159CA-428F-E211-A980-005056B06EB4</td>\n",
       "      <td>0</td>\n",
       "      <td>A57DE97C-460B-E811-80EF-001DD8B72B61</td>\n",
       "      <td>offline, netwerkevenement, ov - voka politica ...</td>\n",
       "    </tr>\n",
       "    <tr>\n",
       "      <th>4</th>\n",
       "      <td>Voka Politica</td>\n",
       "      <td>A57DE97C-460B-E811-80EF-001DD8B72B61</td>\n",
       "      <td>OV-Netwerkactiviteit-Regionaal</td>\n",
       "      <td>Netwerking</td>\n",
       "      <td>Aanwezig</td>\n",
       "      <td>Email</td>\n",
       "      <td>F71D6860-428F-E211-A980-005056B06EB4</td>\n",
       "      <td>0</td>\n",
       "      <td>A57DE97C-460B-E811-80EF-001DD8B72B61</td>\n",
       "      <td>offline, netwerkevenement, ov - voka politica ...</td>\n",
       "    </tr>\n",
       "  </tbody>\n",
       "</table>\n",
       "</div>"
      ],
      "text/plain": [
       "  sessie_activiteitstype                       sessie_campagne   \n",
       "0          Voka Politica  A57DE97C-460B-E811-80EF-001DD8B72B61  \\\n",
       "1          Voka Politica  A57DE97C-460B-E811-80EF-001DD8B72B61   \n",
       "2          Voka Politica  A57DE97C-460B-E811-80EF-001DD8B72B61   \n",
       "3          Voka Politica  A57DE97C-460B-E811-80EF-001DD8B72B61   \n",
       "4          Voka Politica  A57DE97C-460B-E811-80EF-001DD8B72B61   \n",
       "\n",
       "                   sessie_product sessie_thema_naam_   \n",
       "0  OV-Netwerkactiviteit-Regionaal         Netwerking  \\\n",
       "1  OV-Netwerkactiviteit-Regionaal         Netwerking   \n",
       "2  OV-Netwerkactiviteit-Regionaal         Netwerking   \n",
       "3  OV-Netwerkactiviteit-Regionaal         Netwerking   \n",
       "4  OV-Netwerkactiviteit-Regionaal         Netwerking   \n",
       "\n",
       "  inschrijving_aanwezig_afwezig inschrijving_bron   \n",
       "0                      Aanwezig             Email  \\\n",
       "1                      Aanwezig             Email   \n",
       "2                      Aanwezig             Email   \n",
       "3                      Aanwezig             Email   \n",
       "4                      Aanwezig             Email   \n",
       "\n",
       "              inschrijving_contactfiche inschrijving_facturatie_bedrag   \n",
       "0  D41C3FC7-A96D-E111-B43A-00505680000A                              0  \\\n",
       "1  83502ED6-C567-E711-80E8-001DD8B72B61                              0   \n",
       "2  E2628A18-3836-E711-80E6-001DD8B72B61                              0   \n",
       "3  07C159CA-428F-E211-A980-005056B06EB4                              0   \n",
       "4  F71D6860-428F-E211-A980-005056B06EB4                              0   \n",
       "\n",
       "                   campagne_campagne_id   \n",
       "0  A57DE97C-460B-E811-80EF-001DD8B72B61  \\\n",
       "1  A57DE97C-460B-E811-80EF-001DD8B72B61   \n",
       "2  A57DE97C-460B-E811-80EF-001DD8B72B61   \n",
       "3  A57DE97C-460B-E811-80EF-001DD8B72B61   \n",
       "4  A57DE97C-460B-E811-80EF-001DD8B72B61   \n",
       "\n",
       "                                 campagne_keyphrases  \n",
       "0  offline, netwerkevenement, ov - voka politica ...  \n",
       "1  offline, netwerkevenement, ov - voka politica ...  \n",
       "2  offline, netwerkevenement, ov - voka politica ...  \n",
       "3  offline, netwerkevenement, ov - voka politica ...  \n",
       "4  offline, netwerkevenement, ov - voka politica ...  "
      ]
     },
     "execution_count": 263,
     "metadata": {},
     "output_type": "execute_result"
    }
   ],
   "source": [
    "df_camp_inschrijving_merge.head()"
   ]
  },
  {
   "cell_type": "code",
   "execution_count": 264,
   "metadata": {},
   "outputs": [
    {
     "data": {
      "text/plain": [
       "17881"
      ]
     },
     "execution_count": 264,
     "metadata": {},
     "output_type": "execute_result"
    }
   ],
   "source": [
    "df_camp_inschrijving_merge['inschrijving_contactfiche'].nunique()"
   ]
  },
  {
   "cell_type": "markdown",
   "metadata": {},
   "source": [
    "### Account, Afspraak en Campagne mergen \n",
    "--> kunnen kiezen om alleen accounts en contacten te houden waarbij campagne aanwezig is of we kunnen kiezen om dit te droppen\n",
    "--> dit gebeurt hieronder bij # drop rows where campagne_id is null ..."
   ]
  },
  {
   "cell_type": "code",
   "execution_count": 265,
   "metadata": {},
   "outputs": [
    {
     "name": "stdout",
     "output_type": "stream",
     "text": [
      "(53943, 14)\n",
      "Index(['financieledata_toegevoegde_waarde', 'financieledata_boekjaar_range',\n",
      "       'account_account_id', 'contact_contactpersoon_id',\n",
      "       'afspraak_keyphrases', 'afspraak_betreft', 'afspraak_account_gelinkt',\n",
      "       'account_keyphrases', 'inschrijving_aanwezig_afwezig',\n",
      "       'inschrijving_bron', 'inschrijving_facturatie_bedrag',\n",
      "       'campagne_campagne_id', 'campagne_keyphrases', 'sessie_keyphrases'],\n",
      "      dtype='object')\n"
     ]
    }
   ],
   "source": [
    "df_acc_afs_camp_merge = acc_afs_merged.merge(df_camp_inschrijving_merge, left_on='contact_contactpersoon_id'\n",
    "                                             , right_on='inschrijving_contactfiche', how='left')\n",
    "\n",
    "df_acc_afs_camp_merge.drop(['inschrijving_contactfiche', 'sessie_campagne'], axis=1, inplace=True)\n",
    "\n",
    "# drop rows where campagne_campagne_id is NaN\n",
    "df_acc_afs_camp_merge.dropna(subset=['campagne_campagne_id'], inplace=True)\n",
    "\n",
    "# num_cols = df_acc_afs_camp_merge.select_dtypes(include=['float64', 'int64']).columns\n",
    "# cat_cols = df_acc_afs_camp_merge.select_dtypes(include=['object']).columns\n",
    "# # fill NaN values with -1 for numeric columns\n",
    "# df_acc_afs_camp_merge[num_cols] = df_acc_afs_camp_merge[num_cols].fillna(-1)\n",
    "# # fill NaN values with 'unknown' for categorical columns\n",
    "# df_acc_afs_camp_merge[cat_cols] = df_acc_afs_camp_merge[cat_cols].fillna('unknown')\n",
    "\n",
    "# rows samenvoegen\n",
    "df_acc_afs_camp_merge['inschrijving_aanwezig_afwezig'] = df_acc_afs_camp_merge['inschrijving_aanwezig_afwezig'].astype(str)\n",
    "df_acc_afs_camp_merge['inschrijving_aanwezig_afwezig'] = df_acc_afs_camp_merge['inschrijving_aanwezig_afwezig'].str.replace('Aanwezig', '1')\n",
    "df_acc_afs_camp_merge['inschrijving_aanwezig_afwezig'] = df_acc_afs_camp_merge['inschrijving_aanwezig_afwezig'].str.replace('Afwezig', '0')\n",
    "df_acc_afs_camp_merge['inschrijving_aanwezig_afwezig'] = df_acc_afs_camp_merge['inschrijving_aanwezig_afwezig'].str.replace('unknown', '-1')\n",
    "df_acc_afs_camp_merge['inschrijving_aanwezig_afwezig'] = df_acc_afs_camp_merge['inschrijving_aanwezig_afwezig'].astype(int)\n",
    "\n",
    "df_acc_afs_camp_merge['inschrijving_facturatie_bedrag'] = df_acc_afs_camp_merge['inschrijving_facturatie_bedrag'].astype(str)\n",
    "df_acc_afs_camp_merge['inschrijving_facturatie_bedrag'] = df_acc_afs_camp_merge['inschrijving_facturatie_bedrag'].str.replace(',', '.')\n",
    "df_acc_afs_camp_merge['inschrijving_facturatie_bedrag'] = df_acc_afs_camp_merge['inschrijving_facturatie_bedrag'].str.replace('unknown', '-1')\n",
    "df_acc_afs_camp_merge['inschrijving_facturatie_bedrag'] = df_acc_afs_camp_merge['inschrijving_facturatie_bedrag'].astype(float)\n",
    "\n",
    "df_acc_afs_camp_merge['inschrijving_bron'] = df_acc_afs_camp_merge['inschrijving_bron'].astype(str)\n",
    "df_acc_afs_camp_merge['inschrijving_bron'] = df_acc_afs_camp_merge['inschrijving_bron'].str.replace('unknown', '-1')\n",
    "df_acc_afs_camp_merge['inschrijving_bron'] = df_acc_afs_camp_merge['inschrijving_bron'].str.replace('Website', '1')\n",
    "df_acc_afs_camp_merge['inschrijving_bron'] = df_acc_afs_camp_merge['inschrijving_bron'].str.replace('Email', '0')\n",
    "df_acc_afs_camp_merge['inschrijving_bron'] = df_acc_afs_camp_merge['inschrijving_bron'].astype(int)\n",
    "\n",
    "df_acc_afs_camp_merge['sessie_keyphrases'] = df_acc_afs_camp_merge['sessie_activiteitstype'] + ', ' \\\n",
    "            + df_acc_afs_camp_merge['sessie_thema_naam_'] + ', ' \\\n",
    "            + df_acc_afs_camp_merge['sessie_product']\n",
    "df_acc_afs_camp_merge['sessie_keyphrases'] = df_acc_afs_camp_merge['sessie_keyphrases'].str.replace('unknown, ', '')\n",
    "df_acc_afs_camp_merge['sessie_keyphrases'] = df_acc_afs_camp_merge['sessie_keyphrases'].str.replace(', unknown', '')\n",
    "\n",
    "df_acc_afs_camp_merge.drop(['sessie_activiteitstype', 'sessie_thema_naam_', 'sessie_product'], axis=1, inplace=True)\n",
    "\n",
    "df_acc_afs_camp_merge['sessie_keyphrases'] = df_acc_afs_camp_merge['sessie_keyphrases'].str.lower().str.replace('OV-', '')\n",
    "df_acc_afs_camp_merge['sessie_keyphrases'] = df_acc_afs_camp_merge['sessie_keyphrases'].str.replace('ov-', '').str.strip()\n",
    "\n",
    "print(df_acc_afs_camp_merge.shape)\n",
    "print(df_acc_afs_camp_merge.columns)"
   ]
  },
  {
   "cell_type": "code",
   "execution_count": 266,
   "metadata": {},
   "outputs": [
    {
     "name": "stdout",
     "output_type": "stream",
     "text": [
      "#account: 5035, #contact: 11767\n"
     ]
    }
   ],
   "source": [
    "print_nunique(df_acc_afs_camp_merge)"
   ]
  },
  {
   "cell_type": "markdown",
   "metadata": {},
   "source": [
    "verwijder onnodige dataframes"
   ]
  },
  {
   "cell_type": "code",
   "execution_count": 267,
   "metadata": {},
   "outputs": [],
   "source": [
    "try:\n",
    "    del acc_afs_merged\n",
    "    del df_campagne\n",
    "    del df_sessie\n",
    "    del df_inschrijving\n",
    "    del df_sessie_inschrijving\n",
    "    del df_sessie_inschrijving_merge\n",
    "    del df_camp_inschrijving_merge\n",
    "except:\n",
    "    print('already deleted or non-existent')"
   ]
  },
  {
   "cell_type": "markdown",
   "metadata": {},
   "source": [
    "### CDI Pageview, CDI Visit, CDI Mailing en CDI Sentemailclick cleanen en mergen"
   ]
  },
  {
   "cell_type": "code",
   "execution_count": 268,
   "metadata": {},
   "outputs": [
    {
     "name": "stdout",
     "output_type": "stream",
     "text": [
      "(1651, 20)\n",
      "Index(['browser', 'campaign', 'contact', 'duration', 'operatingsystem',\n",
      "       'pageview_id', 'referrertype', 'time', 'pagetitle', 'type', 'url',\n",
      "       'viewedon', 'visit', 'visitorkey', 'webcontent', 'aangemaaktop',\n",
      "       'gewijzigddoor', 'gewijzigdop', 'status', 'redenvanstatus'],\n",
      "      dtype='object')\n"
     ]
    }
   ],
   "source": [
    "df_pageview = pd.read_csv('../data_clean/CDI_pageviews_fixed.csv', sep=',')\n",
    "print(df_pageview.shape)\n",
    "print(df_pageview.columns)"
   ]
  },
  {
   "cell_type": "code",
   "execution_count": 269,
   "metadata": {},
   "outputs": [
    {
     "name": "stdout",
     "output_type": "stream",
     "text": [
      "(24444, 35)\n",
      "['visit_aangemaakt_op', 'visit_adobe_reader', 'visit_bounce', 'visit_browser', 'visit_campagne_code', 'visit_campaign', 'visit_contact', 'visit_contact_naam_', 'visit_containssocialprofile', 'visit_duration', 'visit_email_send', 'visit_ended_on', 'visit_entry_page', 'visit_exit_page', 'visit_first_visit', 'visit_gewijzigd_op', 'visit_ip_address', 'visit_ip_company', 'visit_ip_land', 'visit_ip_latitude', 'visit_ip_longitude', 'visit_ip_organization', 'visit_ip_postcode', 'visit_ip_stad', 'visit_ip_status', 'visit_keywords', 'visit_operating_system', 'visit_referrer', 'visit_referrer_type', 'visit_referring_host', 'visit_score', 'visit_started_on', 'visit_time', 'visit_total_pages', 'visit_visit_id']\n"
     ]
    }
   ],
   "source": [
    "df_visit = pd.read_csv('../data_clean/CDI_visits_fixed.csv', sep=',')\n",
    "print(df_visit.shape)\n",
    "print(sorted(list(df_visit.columns)))"
   ]
  },
  {
   "cell_type": "markdown",
   "metadata": {},
   "source": [
    "##### Visit en Pageview mergen"
   ]
  },
  {
   "cell_type": "code",
   "execution_count": 270,
   "metadata": {},
   "outputs": [
    {
     "name": "stdout",
     "output_type": "stream",
     "text": [
      "(23654, 9)\n",
      "Index(['visit_bounce', 'visit_campaign', 'visit_contact', 'visit_duration',\n",
      "       'visit_email_send', 'visit_first_visit', 'visit_total_pages',\n",
      "       'visit_keyphrases', 'visit_bouce'],\n",
      "      dtype='object')\n"
     ]
    }
   ],
   "source": [
    "df_visit_pageview = df_visit.merge(df_pageview, left_on='visit_visit_id', right_on='visit', how='left')\n",
    "df_visit_pageview.drop(['visit', 'visit_ip_postcode', 'visit_aangemaakt_op', 'visit_adobe_reader', 'visit_campagne_code',\n",
    "                        'visit_contact_naam_', 'visit_containssocialprofile', 'visit_ended_on', 'visit_ip_address',\n",
    "                        'visit_ip_organization', 'visit_keywords', 'visit_ip_longitude', 'visit_ip_latitude', 'visit_referrer', \n",
    "                        'visit_score', 'visit_started_on', 'visit_ip_status', 'visit_time', 'visit_visit_id', 'visit_gewijzigd_op',\n",
    "                        'browser', 'campaign', 'contact', 'duration', 'operatingsystem',\n",
    "                        'pageview_id', 'referrertype', 'time', 'pagetitle', 'type', 'url',\n",
    "                        'viewedon', 'visitorkey', 'webcontent', 'aangemaaktop', 'gewijzigddoor',\n",
    "                        'gewijzigdop', 'status', 'redenvanstatus'], axis=1, inplace=True)\n",
    "\n",
    "df_visit_pageview.drop_duplicates(inplace=True)\n",
    "\n",
    "# from visit_entry_page and visit_exit_page, extract the page name until the ?\n",
    "df_visit_pageview['visit_entry_page'] = df_visit_pageview['visit_entry_page'].str.split('?').str[0]\n",
    "df_visit_pageview['visit_exit_page'] = df_visit_pageview['visit_exit_page'].str.split('?').str[0]\n",
    "\n",
    "df_visit_pageview['visit_keyphrases'] = df_visit_pageview['visit_browser'].str.lower() + ', ' \\\n",
    "            + df_visit_pageview['visit_operating_system'].str.lower() + ', ' \\\n",
    "            + df_visit_pageview['visit_ip_stad'] + ', ' \\\n",
    "            + df_visit_pageview['visit_ip_land'] + ', ' + df_visit_pageview['visit_ip_company'] + ', ' \\\n",
    "            + df_visit_pageview['visit_entry_page'] + ', ' \\\n",
    "            + df_visit_pageview['visit_exit_page'] + ', '  \\\n",
    "            + df_visit_pageview['visit_referring_host'].astype(str) \\\n",
    "            + ', ' + df_visit_pageview['visit_referrer_type'].astype(str)\n",
    "\n",
    "df_visit_pageview.drop(['visit_browser', 'visit_operating_system', 'visit_ip_stad', 'visit_ip_land', 'visit_ip_company', \n",
    "                        'visit_entry_page', 'visit_exit_page', 'visit_referring_host', 'visit_referrer_type'], axis=1, inplace=True)\n",
    "\n",
    "df_visit_pageview['visit_keyphrases'] = df_visit_pageview['visit_keyphrases'].str.replace('unknown, ', '')\n",
    "df_visit_pageview['visit_keyphrases'] = df_visit_pageview['visit_keyphrases'].str.replace(', unknown', '')\n",
    "df_visit_pageview['visit_keyphrases'] = df_visit_pageview['visit_keyphrases'].str.replace('unknown', '')\n",
    "df_visit_pageview['visit_keyphrases'] = df_visit_pageview['visit_keyphrases'].str.lower()\n",
    "df_visit_pageview['visit_keyphrases'] = df_visit_pageview['visit_keyphrases'].str.replace(r'https://www\\.([^/]+)/', r'\\1/', regex=True)\n",
    "df_visit_pageview['visit_keyphrases'] = df_visit_pageview['visit_keyphrases'].str.replace(r'https://www\\.[^/]+/([^/]+)/', r'\\1/', regex=True)\n",
    "df_visit_pageview['visit_keyphrases'] = df_visit_pageview['visit_keyphrases'].str.replace(r'https://www\\.[^/]+/[^/]+/([^/]+)', r'\\1', regex=True)\n",
    "df_visit_pageview['visit_keyphrases'] = df_visit_pageview['visit_keyphrases'].str.replace('.be/', ' ')\n",
    "df_visit_pageview['visit_keyphrases'] = df_visit_pageview['visit_keyphrases'].str.replace('/', ' ')\n",
    "df_visit_pageview['visit_keyphrases'] = df_visit_pageview['visit_keyphrases'].str.replace('-', ' ')\n",
    "df_visit_pageview['visit_keyphrases'] = df_visit_pageview['visit_keyphrases'].str.replace('e mail', 'mail')\n",
    "\n",
    "df_visit_pageview['visit_bouce'] = df_visit_pageview['visit_bounce'].astype(str)\n",
    "df_visit_pageview['visit_bounce'] = df_visit_pageview['visit_bounce'].str.replace('Ja', '1')\n",
    "df_visit_pageview['visit_bounce'] = df_visit_pageview['visit_bounce'].str.replace('Nee', '0')\n",
    "df_visit_pageview['visit_bouce'] = df_visit_pageview['visit_bounce'].str.replace('unknown', '-1')\n",
    "df_visit_pageview['visit_bouce'] = df_visit_pageview['visit_bounce'].astype(int)\n",
    "\n",
    "df_visit_pageview['visit_duration'] = df_visit_pageview['visit_duration'].astype(int)\n",
    "\n",
    "df_visit_pageview['visit_first_visit'] = df_visit_pageview['visit_first_visit'].str.replace('Ja', '1')\n",
    "df_visit_pageview['visit_first_visit'] = df_visit_pageview['visit_first_visit'].str.replace('Nee', '0')\n",
    "df_visit_pageview['visit_first_visit'] = df_visit_pageview['visit_first_visit'].str.replace('unknown', '-1')\n",
    "df_visit_pageview['visit_first_visit'] = df_visit_pageview['visit_first_visit'].astype(int)\n",
    "\n",
    "df_visit_pageview['visit_total_pages'] = df_visit_pageview['visit_total_pages'].replace('unknown', '-1.0')\n",
    "df_visit_pageview['visit_total_pages'] = df_visit_pageview['visit_total_pages'].astype(float)\n",
    "\n",
    "print(df_visit_pageview.shape)\n",
    "print(df_visit_pageview.columns)"
   ]
  },
  {
   "cell_type": "code",
   "execution_count": 271,
   "metadata": {},
   "outputs": [
    {
     "data": {
      "text/plain": [
       "array(['firefox, windows, gentbrugge, belgium, belgacom sa, voka activiteiten de wissel inspiratiesessies rond bedrijfsoverdracht en overname, voka activiteiten de wissel inspiratiesessies rond bedrijfsoverdracht en overname, mail',\n",
       "       'safari, mac, brecht, belgium, telenet, voka activiteiten voka netwerkfeest met viering voka legende, voka activiteiten voka netwerkfeest met viering voka legende, mail',\n",
       "       'safari, mac, hove, belgium, telenet, voka bigrefresh, voka bigrefresh, mail',\n",
       "       ...,\n",
       "       'safari, mac, hoboken, belgium, telenet, voka activiteiten infosessie insidertrip marokko met daniel termont, voka activiteiten insidertrip marokko, mail',\n",
       "       'safari, mac, wervik, belgium, belgacom sa, voka activiteiten infosessie insidertrip marokko met daniel termont, voka activiteiten insidertrip marokko, mail',\n",
       "       'safari, mac, ghent, belgium, telenet, voka activiteiten week internationaal ondernemen zwitserland, voka wio, mail'],\n",
       "      dtype=object)"
      ]
     },
     "execution_count": 271,
     "metadata": {},
     "output_type": "execute_result"
    }
   ],
   "source": [
    "df_visit_pageview['visit_keyphrases'].unique()"
   ]
  },
  {
   "cell_type": "markdown",
   "metadata": {},
   "source": [
    "##### Mailing en sentemailclick mergen"
   ]
  },
  {
   "cell_type": "code",
   "execution_count": 272,
   "metadata": {},
   "outputs": [
    {
     "name": "stdout",
     "output_type": "stream",
     "text": [
      "(860, 3)\n",
      "Index(['mailing_mailing_id', 'mailing_name', 'mailing_onderwerp'], dtype='object')\n"
     ]
    }
   ],
   "source": [
    "df_mailing = pd.read_csv('../data_clean/CDI_mailing_fixed.csv', sep=',')\n",
    "df_mailing.drop(['mailing_sent_on'], axis=1, inplace=True)\n",
    "df_mailing.drop_duplicates(inplace=True)\n",
    "print(df_mailing.shape)\n",
    "print(df_mailing.columns)"
   ]
  },
  {
   "cell_type": "code",
   "execution_count": 273,
   "metadata": {},
   "outputs": [
    {
     "name": "stdout",
     "output_type": "stream",
     "text": [
      "(4807, 2)\n",
      "Index(['sentemail_kliks_clicks', 'sentemail_kliks_e_mail_versturen'], dtype='object')\n"
     ]
    }
   ],
   "source": [
    "df_click = pd.read_csv('../data_clean/CDI_sent_email_clicks_fixed.csv', sep=',')\n",
    "df_click.drop(['sentemail_kliks_contact', 'sentemail_kliks_sent_email_id'], axis=1, inplace=True)\n",
    "df_click.drop_duplicates(inplace=True)\n",
    "print(df_click.shape)\n",
    "print(df_click.columns)"
   ]
  },
  {
   "cell_type": "code",
   "execution_count": 274,
   "metadata": {},
   "outputs": [
    {
     "name": "stdout",
     "output_type": "stream",
     "text": [
      "(4807, 4)\n",
      "Index(['mailing_mailing_id', 'mailing_name', 'mailing_onderwerp',\n",
      "       'sentemail_kliks_clicks'],\n",
      "      dtype='object')\n"
     ]
    }
   ],
   "source": [
    "df_mailing_merged = df_mailing.merge(df_click, left_on='mailing_mailing_id', right_on='sentemail_kliks_e_mail_versturen', how='inner')\n",
    "df_mailing_merged.drop(['sentemail_kliks_e_mail_versturen'], axis=1, inplace=True)\n",
    "print(df_mailing_merged.shape)\n",
    "print(df_mailing_merged.columns)"
   ]
  },
  {
   "cell_type": "code",
   "execution_count": 275,
   "metadata": {},
   "outputs": [],
   "source": [
    "df_mailing_merged = df_mailing_merged.groupby(['mailing_mailing_id', 'mailing_name', 'mailing_onderwerp'], \n",
    "                          as_index=False).agg({'sentemail_kliks_clicks': 'sum', \n",
    "                                                **{col: 'first' for col in df_mailing_merged.columns if col not in ['sentemail_kliks_clicks']}})"
   ]
  },
  {
   "cell_type": "code",
   "execution_count": 276,
   "metadata": {},
   "outputs": [
    {
     "data": {
      "text/plain": [
       "(762, 4)"
      ]
     },
     "execution_count": 276,
     "metadata": {},
     "output_type": "execute_result"
    }
   ],
   "source": [
    "df_mailing_merged.shape"
   ]
  },
  {
   "cell_type": "markdown",
   "metadata": {},
   "source": [
    "##### pageview_visit en mailing sentemailclick mergen"
   ]
  },
  {
   "cell_type": "code",
   "execution_count": 277,
   "metadata": {},
   "outputs": [
    {
     "name": "stdout",
     "output_type": "stream",
     "text": [
      "(23654, 9)\n",
      "Index(['visit_bounce', 'visit_contact', 'visit_duration', 'visit_first_visit',\n",
      "       'visit_total_pages', 'visit_keyphrases', 'visit_bouce',\n",
      "       'sentemail_kliks_clicks', 'mailing_keyphrases'],\n",
      "      dtype='object')\n"
     ]
    }
   ],
   "source": [
    "df_pageview_visit_mailing = df_visit_pageview.merge(df_mailing_merged, left_on='visit_email_send', right_on='mailing_mailing_id', how='left')\n",
    "df_pageview_visit_mailing.drop(['visit_email_send', 'mailing_mailing_id', 'visit_campaign'], axis=1, inplace=True)\n",
    "\n",
    "df_pageview_visit_mailing['mailing_keyphrases'] = df_pageview_visit_mailing['mailing_name'] + ', ' + df_pageview_visit_mailing['mailing_onderwerp']\n",
    "df_pageview_visit_mailing['mailing_keyphrases'] = df_pageview_visit_mailing['mailing_keyphrases'].str.replace('unknown, ', '')\n",
    "df_pageview_visit_mailing['mailing_keyphrases'] = df_pageview_visit_mailing['mailing_keyphrases'].str.replace(', unknown', '')\n",
    "df_pageview_visit_mailing['mailing_keyphrases'] = df_pageview_visit_mailing['mailing_keyphrases'].str.replace('unknown', '')\n",
    "df_pageview_visit_mailing['mailing_keyphrases'] = df_pageview_visit_mailing['mailing_keyphrases'].str.replace('OV-', '')\n",
    "df_pageview_visit_mailing['mailing_keyphrases'] = df_pageview_visit_mailing['mailing_keyphrases'].str.replace('ov-', '')\n",
    "df_pageview_visit_mailing['mailing_keyphrases'] = df_pageview_visit_mailing['mailing_keyphrases'].str.replace('OV -', '')\n",
    "df_pageview_visit_mailing['mailing_keyphrases'] = df_pageview_visit_mailing['mailing_keyphrases'].str.replace('ov -', '')\n",
    "df_pageview_visit_mailing['mailing_keyphrases'] = df_pageview_visit_mailing['mailing_keyphrases'].str.replace('OV ', '')\n",
    "df_pageview_visit_mailing['mailing_keyphrases'] = df_pageview_visit_mailing['mailing_keyphrases'].str.replace('\\xa0', '')\n",
    "\n",
    "teams_dict = {\n",
    "'JO': 'jong ondernemen ',\n",
    "'DO': 'duurzaam ondernemen ',\n",
    "'IN': 'innovatie digitalisering ',\n",
    "'IO': 'internationaal ondernemen ',\n",
    "'AO': 'arbeidsmarkt ',\n",
    "'EX': 'expert ',\n",
    "'GR': 'Groei ',\n",
    "'BB': 'Belangenbehartiging ',\n",
    "'CO': 'communicatie ',\n",
    "'NW': 'netwerking ',\n",
    "'HA': 'Haven ',\n",
    "'MA': 'match '\n",
    "}\n",
    "\n",
    "df_pageview_visit_mailing['mailing_keyphrases'] = df_pageview_visit_mailing['mailing_keyphrases'].str.replace(r'([A-Z]+)-', lambda x: teams_dict.get(x.group(1), x.group(1)), regex=True)\n",
    "df_pageview_visit_mailing['mailing_keyphrases'] = df_pageview_visit_mailing['mailing_keyphrases'].str.replace('|', '')\n",
    "df_pageview_visit_mailing['mailing_keyphrases'] = df_pageview_visit_mailing['mailing_keyphrases'].str.replace(':', '')\n",
    "df_pageview_visit_mailing['mailing_keyphrases'] = df_pageview_visit_mailing['mailing_keyphrases'].str.replace(r'\\d{6,8}|\\d+\\s\\d+\\s\\d+', '', regex=True)\n",
    "df_pageview_visit_mailing['mailing_keyphrases'] = df_pageview_visit_mailing['mailing_keyphrases'].str.replace(r'\\'s', '', regex=True)\n",
    "df_pageview_visit_mailing['mailing_keyphrases'] = df_pageview_visit_mailing['mailing_keyphrases'].str.replace('  ', ' ')\n",
    "df_pageview_visit_mailing['mailing_keyphrases'] = df_pageview_visit_mailing['mailing_keyphrases'].str.replace('-', ' ').str.strip()\n",
    "df_pageview_visit_mailing['mailing_keyphrases'] = df_pageview_visit_mailing['mailing_keyphrases'].str.lower().str.strip()\n",
    "\n",
    "df_pageview_visit_mailing['sentemail_kliks_clicks'] = df_pageview_visit_mailing['sentemail_kliks_clicks'].replace('unknown', '0')\n",
    "df_pageview_visit_mailing['sentemail_kliks_clicks'] = df_pageview_visit_mailing['sentemail_kliks_clicks'].astype(int)\n",
    "\n",
    "df_pageview_visit_mailing.drop(['mailing_name', 'mailing_onderwerp'], axis=1, inplace=True)\n",
    "\n",
    "print(df_pageview_visit_mailing.shape)\n",
    "print(df_pageview_visit_mailing.columns)"
   ]
  },
  {
   "cell_type": "code",
   "execution_count": 278,
   "metadata": {},
   "outputs": [
    {
     "data": {
      "text/html": [
       "<div>\n",
       "<style scoped>\n",
       "    .dataframe tbody tr th:only-of-type {\n",
       "        vertical-align: middle;\n",
       "    }\n",
       "\n",
       "    .dataframe tbody tr th {\n",
       "        vertical-align: top;\n",
       "    }\n",
       "\n",
       "    .dataframe thead th {\n",
       "        text-align: right;\n",
       "    }\n",
       "</style>\n",
       "<table border=\"1\" class=\"dataframe\">\n",
       "  <thead>\n",
       "    <tr style=\"text-align: right;\">\n",
       "      <th></th>\n",
       "      <th>visit_bounce</th>\n",
       "      <th>visit_contact</th>\n",
       "      <th>visit_duration</th>\n",
       "      <th>visit_first_visit</th>\n",
       "      <th>visit_total_pages</th>\n",
       "      <th>visit_keyphrases</th>\n",
       "      <th>visit_bouce</th>\n",
       "      <th>sentemail_kliks_clicks</th>\n",
       "      <th>mailing_keyphrases</th>\n",
       "    </tr>\n",
       "  </thead>\n",
       "  <tbody>\n",
       "    <tr>\n",
       "      <th>0</th>\n",
       "      <td>1</td>\n",
       "      <td>7DCF89E7-D469-E111-B43A-00505680000A</td>\n",
       "      <td>0</td>\n",
       "      <td>0</td>\n",
       "      <td>1.0</td>\n",
       "      <td>firefox, windows, gentbrugge, belgium, belgaco...</td>\n",
       "      <td>1</td>\n",
       "      <td>6</td>\n",
       "      <td>groei overdracht en overname, vragen rond over...</td>\n",
       "    </tr>\n",
       "    <tr>\n",
       "      <th>1</th>\n",
       "      <td>1</td>\n",
       "      <td>6913126E-B56A-E111-B43A-00505680000A</td>\n",
       "      <td>0</td>\n",
       "      <td>0</td>\n",
       "      <td>1.0</td>\n",
       "      <td>safari, mac, brecht, belgium, telenet, voka ac...</td>\n",
       "      <td>1</td>\n",
       "      <td>1254</td>\n",
       "      <td>nieuwsbrief , nieuws uit je regio, rechtstreek...</td>\n",
       "    </tr>\n",
       "    <tr>\n",
       "      <th>2</th>\n",
       "      <td>1</td>\n",
       "      <td>E14E454F-3B6F-E111-B43A-00505680000A</td>\n",
       "      <td>0</td>\n",
       "      <td>0</td>\n",
       "      <td>1.0</td>\n",
       "      <td>safari, mac, hove, belgium, telenet, voka bigr...</td>\n",
       "      <td>1</td>\n",
       "      <td>15</td>\n",
       "      <td>nieuwsbrief, bedrijfsnieuws uit je regio, rech...</td>\n",
       "    </tr>\n",
       "    <tr>\n",
       "      <th>3</th>\n",
       "      <td>0</td>\n",
       "      <td>7DCF89E7-D469-E111-B43A-00505680000A</td>\n",
       "      <td>103</td>\n",
       "      <td>0</td>\n",
       "      <td>2.0</td>\n",
       "      <td>firefox, windows, gentbrugge, belgium, belgaco...</td>\n",
       "      <td>0</td>\n",
       "      <td>67</td>\n",
       "      <td>netwerking nieuws uit aalst_openingsweek voka ...</td>\n",
       "    </tr>\n",
       "    <tr>\n",
       "      <th>4</th>\n",
       "      <td>1</td>\n",
       "      <td>D4E2762D-8E10-EC11-8123-001DD8B72B61</td>\n",
       "      <td>0</td>\n",
       "      <td>1</td>\n",
       "      <td>1.0</td>\n",
       "      <td>android, linux, amay, belgium, telenet operati...</td>\n",
       "      <td>1</td>\n",
       "      <td>54</td>\n",
       "      <td>nieuwsbrief , nieuws uit je regio, rechtstreek...</td>\n",
       "    </tr>\n",
       "  </tbody>\n",
       "</table>\n",
       "</div>"
      ],
      "text/plain": [
       "  visit_bounce                         visit_contact  visit_duration   \n",
       "0            1  7DCF89E7-D469-E111-B43A-00505680000A               0  \\\n",
       "1            1  6913126E-B56A-E111-B43A-00505680000A               0   \n",
       "2            1  E14E454F-3B6F-E111-B43A-00505680000A               0   \n",
       "3            0  7DCF89E7-D469-E111-B43A-00505680000A             103   \n",
       "4            1  D4E2762D-8E10-EC11-8123-001DD8B72B61               0   \n",
       "\n",
       "   visit_first_visit  visit_total_pages   \n",
       "0                  0                1.0  \\\n",
       "1                  0                1.0   \n",
       "2                  0                1.0   \n",
       "3                  0                2.0   \n",
       "4                  1                1.0   \n",
       "\n",
       "                                    visit_keyphrases  visit_bouce   \n",
       "0  firefox, windows, gentbrugge, belgium, belgaco...            1  \\\n",
       "1  safari, mac, brecht, belgium, telenet, voka ac...            1   \n",
       "2  safari, mac, hove, belgium, telenet, voka bigr...            1   \n",
       "3  firefox, windows, gentbrugge, belgium, belgaco...            0   \n",
       "4  android, linux, amay, belgium, telenet operati...            1   \n",
       "\n",
       "   sentemail_kliks_clicks                                 mailing_keyphrases  \n",
       "0                       6  groei overdracht en overname, vragen rond over...  \n",
       "1                    1254  nieuwsbrief , nieuws uit je regio, rechtstreek...  \n",
       "2                      15  nieuwsbrief, bedrijfsnieuws uit je regio, rech...  \n",
       "3                      67  netwerking nieuws uit aalst_openingsweek voka ...  \n",
       "4                      54  nieuwsbrief , nieuws uit je regio, rechtstreek...  "
      ]
     },
     "execution_count": 278,
     "metadata": {},
     "output_type": "execute_result"
    }
   ],
   "source": [
    "df_pageview_visit_mailing.head()"
   ]
  },
  {
   "cell_type": "markdown",
   "metadata": {},
   "source": [
    "### Total merge"
   ]
  },
  {
   "cell_type": "code",
   "execution_count": 279,
   "metadata": {},
   "outputs": [
    {
     "data": {
      "text/plain": [
       "(250666, 21)"
      ]
     },
     "execution_count": 279,
     "metadata": {},
     "output_type": "execute_result"
    }
   ],
   "source": [
    "df_merged_total = df_acc_afs_camp_merge.merge(df_pageview_visit_mailing, left_on='contact_contactpersoon_id', right_on='visit_contact', how='left')\n",
    "df_merged_total.drop(['visit_contact', 'campagne_campagne_id'], axis=1, inplace=True)\n",
    "\n",
    "num_cols = df_merged_total.select_dtypes(include=['float64', 'int64']).columns\n",
    "cat_cols = df_merged_total.select_dtypes(include=['object']).columns\n",
    "\n",
    "# fill NaN values with -1 for numeric columns\n",
    "df_merged_total[num_cols] = df_merged_total[num_cols].fillna(-1)\n",
    "# fill NaN values with 'unknown' for categorical columns\n",
    "df_merged_total[cat_cols] = df_merged_total[cat_cols].fillna('unknown')\n",
    "\n",
    "# visit_bounce blijft object voor een of ander manier dus hier veranderen\n",
    "df_merged_total['visit_bouce'] = df_merged_total['visit_bouce'].replace('unknown', -1)\n",
    "df_merged_total['visit_bouce'] = df_merged_total['visit_bouce'].astype(int)\n",
    "\n",
    "# verander alle int64 en int32 naar int8\n",
    "int_cols = df_merged_total.select_dtypes(include=['int64', 'int32']).columns\n",
    "df_merged_total[int_cols] = df_merged_total[int_cols].astype('int8')\n",
    "\n",
    "df_merged_total.shape"
   ]
  },
  {
   "cell_type": "code",
   "execution_count": 280,
   "metadata": {},
   "outputs": [
    {
     "name": "stdout",
     "output_type": "stream",
     "text": [
      "#account: 5035, #contact: 11767\n"
     ]
    }
   ],
   "source": [
    "print_nunique(df_merged_total)\n",
    "df_merged_total.drop(['contact_contactpersoon_id', 'account_account_id'], axis=1, inplace=True)"
   ]
  },
  {
   "cell_type": "code",
   "execution_count": 281,
   "metadata": {},
   "outputs": [
    {
     "data": {
      "text/html": [
       "<div>\n",
       "<style scoped>\n",
       "    .dataframe tbody tr th:only-of-type {\n",
       "        vertical-align: middle;\n",
       "    }\n",
       "\n",
       "    .dataframe tbody tr th {\n",
       "        vertical-align: top;\n",
       "    }\n",
       "\n",
       "    .dataframe thead th {\n",
       "        text-align: right;\n",
       "    }\n",
       "</style>\n",
       "<table border=\"1\" class=\"dataframe\">\n",
       "  <thead>\n",
       "    <tr style=\"text-align: right;\">\n",
       "      <th></th>\n",
       "      <th>financieledata_toegevoegde_waarde</th>\n",
       "      <th>financieledata_boekjaar_range</th>\n",
       "      <th>afspraak_keyphrases</th>\n",
       "      <th>afspraak_betreft</th>\n",
       "      <th>afspraak_account_gelinkt</th>\n",
       "      <th>account_keyphrases</th>\n",
       "      <th>inschrijving_aanwezig_afwezig</th>\n",
       "      <th>inschrijving_bron</th>\n",
       "      <th>inschrijving_facturatie_bedrag</th>\n",
       "      <th>campagne_keyphrases</th>\n",
       "      <th>sessie_keyphrases</th>\n",
       "      <th>visit_bounce</th>\n",
       "      <th>visit_duration</th>\n",
       "      <th>visit_first_visit</th>\n",
       "      <th>visit_total_pages</th>\n",
       "      <th>visit_keyphrases</th>\n",
       "      <th>visit_bouce</th>\n",
       "      <th>sentemail_kliks_clicks</th>\n",
       "      <th>mailing_keyphrases</th>\n",
       "    </tr>\n",
       "  </thead>\n",
       "  <tbody>\n",
       "    <tr>\n",
       "      <th>0</th>\n",
       "      <td>413465.00</td>\n",
       "      <td>5.0</td>\n",
       "      <td>unknown</td>\n",
       "      <td>-1.0</td>\n",
       "      <td>-1.0</td>\n",
       "      <td>familiebedrijf, diensten, vastgoed, melle 9090...</td>\n",
       "      <td>1</td>\n",
       "      <td>1</td>\n",
       "      <td>50.0</td>\n",
       "      <td>offline, netwerkevenement, ov - kick-off commu...</td>\n",
       "      <td>ma events, netwerking, netwerkactiviteit-project</td>\n",
       "      <td>unknown</td>\n",
       "      <td>-1.0</td>\n",
       "      <td>-1.0</td>\n",
       "      <td>-1.0</td>\n",
       "      <td>unknown</td>\n",
       "      <td>-1</td>\n",
       "      <td>-1.0</td>\n",
       "      <td>unknown</td>\n",
       "    </tr>\n",
       "    <tr>\n",
       "      <th>1</th>\n",
       "      <td>494107.00</td>\n",
       "      <td>9.0</td>\n",
       "      <td>unknown</td>\n",
       "      <td>-1.0</td>\n",
       "      <td>-1.0</td>\n",
       "      <td>bedrijf, diensten, consultancy, geraardsbergen...</td>\n",
       "      <td>1</td>\n",
       "      <td>1</td>\n",
       "      <td>0.0</td>\n",
       "      <td>offline, opleiding, corona round tables - sales</td>\n",
       "      <td>gr werking, marketing &amp; sales, opleidingen-llt</td>\n",
       "      <td>unknown</td>\n",
       "      <td>-1.0</td>\n",
       "      <td>-1.0</td>\n",
       "      <td>-1.0</td>\n",
       "      <td>unknown</td>\n",
       "      <td>-1</td>\n",
       "      <td>-1.0</td>\n",
       "      <td>unknown</td>\n",
       "    </tr>\n",
       "    <tr>\n",
       "      <th>2</th>\n",
       "      <td>1687010.57</td>\n",
       "      <td>3.0</td>\n",
       "      <td>retentie lidmaatschap, ledenbezoek 2023,  indu...</td>\n",
       "      <td>2.0</td>\n",
       "      <td>1.0</td>\n",
       "      <td>bedrijf, diensten, milieu, meilegem 9630 ouden...</td>\n",
       "      <td>1</td>\n",
       "      <td>1</td>\n",
       "      <td>0.0</td>\n",
       "      <td>offline, netwerkevenement, nieuwjaarsreceptie ...</td>\n",
       "      <td>nw voka connect gent, netwerking, netwerkactiv...</td>\n",
       "      <td>1</td>\n",
       "      <td>0.0</td>\n",
       "      <td>0.0</td>\n",
       "      <td>1.0</td>\n",
       "      <td>chrome, windows, ghent, belgium, pro, voka nod...</td>\n",
       "      <td>1</td>\n",
       "      <td>52.0</td>\n",
       "      <td>jong ondernemen stamgasten 2023, uitnodiging s...</td>\n",
       "    </tr>\n",
       "    <tr>\n",
       "      <th>3</th>\n",
       "      <td>1687010.57</td>\n",
       "      <td>3.0</td>\n",
       "      <td>retentie lidmaatschap, ledenbezoek 2023,  indu...</td>\n",
       "      <td>2.0</td>\n",
       "      <td>1.0</td>\n",
       "      <td>bedrijf, diensten, milieu, meilegem 9630 ouden...</td>\n",
       "      <td>1</td>\n",
       "      <td>1</td>\n",
       "      <td>0.0</td>\n",
       "      <td>offline, netwerkevenement, nieuwjaarsreceptie ...</td>\n",
       "      <td>nw voka connect gent, netwerking, netwerkactiv...</td>\n",
       "      <td>1</td>\n",
       "      <td>0.0</td>\n",
       "      <td>0.0</td>\n",
       "      <td>1.0</td>\n",
       "      <td>chrome, windows, ghent, belgium, telenet, voka...</td>\n",
       "      <td>1</td>\n",
       "      <td>18.0</td>\n",
       "      <td>netwerking nieuwjaarsreceptie vlaamse ardennen...</td>\n",
       "    </tr>\n",
       "    <tr>\n",
       "      <th>4</th>\n",
       "      <td>1687010.57</td>\n",
       "      <td>3.0</td>\n",
       "      <td>retentie lidmaatschap, ledenbezoek 2023,  indu...</td>\n",
       "      <td>2.0</td>\n",
       "      <td>1.0</td>\n",
       "      <td>bedrijf, diensten, milieu, meilegem 9630 ouden...</td>\n",
       "      <td>1</td>\n",
       "      <td>1</td>\n",
       "      <td>0.0</td>\n",
       "      <td>offline, netwerkevenement, nieuwjaarsreceptie ...</td>\n",
       "      <td>nw voka connect gent, netwerking, netwerkactiv...</td>\n",
       "      <td>1</td>\n",
       "      <td>0.0</td>\n",
       "      <td>0.0</td>\n",
       "      <td>1.0</td>\n",
       "      <td>chrome, windows, ghent, belgium, pro, voka act...</td>\n",
       "      <td>1</td>\n",
       "      <td>136.0</td>\n",
       "      <td>nieuwsbrief , nieuws van voka oost vlaanderen,...</td>\n",
       "    </tr>\n",
       "  </tbody>\n",
       "</table>\n",
       "</div>"
      ],
      "text/plain": [
       "   financieledata_toegevoegde_waarde  financieledata_boekjaar_range   \n",
       "0                          413465.00                            5.0  \\\n",
       "1                          494107.00                            9.0   \n",
       "2                         1687010.57                            3.0   \n",
       "3                         1687010.57                            3.0   \n",
       "4                         1687010.57                            3.0   \n",
       "\n",
       "                                 afspraak_keyphrases  afspraak_betreft   \n",
       "0                                            unknown              -1.0  \\\n",
       "1                                            unknown              -1.0   \n",
       "2  retentie lidmaatschap, ledenbezoek 2023,  indu...               2.0   \n",
       "3  retentie lidmaatschap, ledenbezoek 2023,  indu...               2.0   \n",
       "4  retentie lidmaatschap, ledenbezoek 2023,  indu...               2.0   \n",
       "\n",
       "   afspraak_account_gelinkt   \n",
       "0                      -1.0  \\\n",
       "1                      -1.0   \n",
       "2                       1.0   \n",
       "3                       1.0   \n",
       "4                       1.0   \n",
       "\n",
       "                                  account_keyphrases   \n",
       "0  familiebedrijf, diensten, vastgoed, melle 9090...  \\\n",
       "1  bedrijf, diensten, consultancy, geraardsbergen...   \n",
       "2  bedrijf, diensten, milieu, meilegem 9630 ouden...   \n",
       "3  bedrijf, diensten, milieu, meilegem 9630 ouden...   \n",
       "4  bedrijf, diensten, milieu, meilegem 9630 ouden...   \n",
       "\n",
       "   inschrijving_aanwezig_afwezig  inschrijving_bron   \n",
       "0                              1                  1  \\\n",
       "1                              1                  1   \n",
       "2                              1                  1   \n",
       "3                              1                  1   \n",
       "4                              1                  1   \n",
       "\n",
       "   inschrijving_facturatie_bedrag   \n",
       "0                            50.0  \\\n",
       "1                             0.0   \n",
       "2                             0.0   \n",
       "3                             0.0   \n",
       "4                             0.0   \n",
       "\n",
       "                                 campagne_keyphrases   \n",
       "0  offline, netwerkevenement, ov - kick-off commu...  \\\n",
       "1    offline, opleiding, corona round tables - sales   \n",
       "2  offline, netwerkevenement, nieuwjaarsreceptie ...   \n",
       "3  offline, netwerkevenement, nieuwjaarsreceptie ...   \n",
       "4  offline, netwerkevenement, nieuwjaarsreceptie ...   \n",
       "\n",
       "                                   sessie_keyphrases visit_bounce   \n",
       "0   ma events, netwerking, netwerkactiviteit-project      unknown  \\\n",
       "1     gr werking, marketing & sales, opleidingen-llt      unknown   \n",
       "2  nw voka connect gent, netwerking, netwerkactiv...            1   \n",
       "3  nw voka connect gent, netwerking, netwerkactiv...            1   \n",
       "4  nw voka connect gent, netwerking, netwerkactiv...            1   \n",
       "\n",
       "   visit_duration  visit_first_visit  visit_total_pages   \n",
       "0            -1.0               -1.0               -1.0  \\\n",
       "1            -1.0               -1.0               -1.0   \n",
       "2             0.0                0.0                1.0   \n",
       "3             0.0                0.0                1.0   \n",
       "4             0.0                0.0                1.0   \n",
       "\n",
       "                                    visit_keyphrases  visit_bouce   \n",
       "0                                            unknown           -1  \\\n",
       "1                                            unknown           -1   \n",
       "2  chrome, windows, ghent, belgium, pro, voka nod...            1   \n",
       "3  chrome, windows, ghent, belgium, telenet, voka...            1   \n",
       "4  chrome, windows, ghent, belgium, pro, voka act...            1   \n",
       "\n",
       "   sentemail_kliks_clicks                                 mailing_keyphrases  \n",
       "0                    -1.0                                            unknown  \n",
       "1                    -1.0                                            unknown  \n",
       "2                    52.0  jong ondernemen stamgasten 2023, uitnodiging s...  \n",
       "3                    18.0  netwerking nieuwjaarsreceptie vlaamse ardennen...  \n",
       "4                   136.0  nieuwsbrief , nieuws van voka oost vlaanderen,...  "
      ]
     },
     "execution_count": 281,
     "metadata": {},
     "output_type": "execute_result"
    }
   ],
   "source": [
    "df_merged_total.head()"
   ]
  },
  {
   "cell_type": "code",
   "execution_count": 282,
   "metadata": {},
   "outputs": [
    {
     "name": "stdout",
     "output_type": "stream",
     "text": [
      "<class 'pandas.core.frame.DataFrame'>\n",
      "RangeIndex: 250666 entries, 0 to 250665\n",
      "Data columns (total 19 columns):\n",
      " #   Column                             Non-Null Count   Dtype  \n",
      "---  ------                             --------------   -----  \n",
      " 0   financieledata_toegevoegde_waarde  250666 non-null  float64\n",
      " 1   financieledata_boekjaar_range      250666 non-null  float64\n",
      " 2   afspraak_keyphrases                250666 non-null  object \n",
      " 3   afspraak_betreft                   250666 non-null  float64\n",
      " 4   afspraak_account_gelinkt           250666 non-null  float64\n",
      " 5   account_keyphrases                 250666 non-null  object \n",
      " 6   inschrijving_aanwezig_afwezig      250666 non-null  int8   \n",
      " 7   inschrijving_bron                  250666 non-null  int8   \n",
      " 8   inschrijving_facturatie_bedrag     250666 non-null  float64\n",
      " 9   campagne_keyphrases                250666 non-null  object \n",
      " 10  sessie_keyphrases                  250666 non-null  object \n",
      " 11  visit_bounce                       250666 non-null  object \n",
      " 12  visit_duration                     250666 non-null  float64\n",
      " 13  visit_first_visit                  250666 non-null  float64\n",
      " 14  visit_total_pages                  250666 non-null  float64\n",
      " 15  visit_keyphrases                   250666 non-null  object \n",
      " 16  visit_bouce                        250666 non-null  int8   \n",
      " 17  sentemail_kliks_clicks             250666 non-null  float64\n",
      " 18  mailing_keyphrases                 250666 non-null  object \n",
      "dtypes: float64(9), int8(3), object(7)\n",
      "memory usage: 31.3+ MB\n"
     ]
    }
   ],
   "source": [
    "df_merged_total.info()"
   ]
  },
  {
   "cell_type": "code",
   "execution_count": 283,
   "metadata": {},
   "outputs": [],
   "source": [
    "if os.path.exists('../data_clean/merged_total.csv'):\n",
    "    os.remove('../data_clean/merged_total.csv')\n",
    "df_merged_total.to_csv('../data_clean/merged_total.csv', index=False)"
   ]
  }
 ],
 "metadata": {
  "kernelspec": {
   "display_name": "Python 3",
   "language": "python",
   "name": "python3"
  },
  "language_info": {
   "codemirror_mode": {
    "name": "ipython",
    "version": 3
   },
   "file_extension": ".py",
   "mimetype": "text/x-python",
   "name": "python",
   "nbconvert_exporter": "python",
   "pygments_lexer": "ipython3",
   "version": "3.11.3"
  }
 },
 "nbformat": 4,
 "nbformat_minor": 2
}
