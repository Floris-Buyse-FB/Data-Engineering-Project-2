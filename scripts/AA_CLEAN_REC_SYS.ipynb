{
 "cells": [
  {
   "cell_type": "code",
   "execution_count": 69,
   "metadata": {},
   "outputs": [],
   "source": [
    "import pandas as pd\n",
    "import numpy as np\n",
    "import matplotlib.pyplot as plt\n",
    "import seaborn as sns\n",
    "import os\n",
    "import re"
   ]
  },
  {
   "cell_type": "markdown",
   "metadata": {},
   "source": [
    "### Account cleanen"
   ]
  },
  {
   "cell_type": "code",
   "execution_count": 70,
   "metadata": {},
   "outputs": [],
   "source": [
    "df_account = pd.read_csv('../data_clean/Account_fixed.csv')\n",
    "\n",
    "# alleen de actieve accounts\n",
    "df_account = df_account[df_account['account_reden_van_status'] != 'Inactief']\n",
    "df_account = df_account[df_account['account_reden_van_status'] != 'Stopzetting']\n",
    "\n",
    "# alleen de accounts uit Oost-Vlaanderen\n",
    "df_account = df_account[df_account['account_adres_provincie'] == 'Oost-Vlaanderen']\n",
    "\n",
    "# account adres samenvoegen\n",
    "df_account['account_adres'] = df_account['account_adres_plaats'].str.lower() + ' ' \\\n",
    "            + df_account['account_adres_geografische_subregio'].str.lower()\n",
    "df_account['account_adres'] = df_account['account_adres'].str.replace(r'\\([a-z.-]+\\)', '', regex=True).str.replace('  ', ' ')\\\n",
    "\n",
    "# account ondernemingstype samenvoegen\n",
    "df_account['account_onderneming'] = df_account['account_ondernemingstype'] + ', ' \\\n",
    "                            + df_account['account_ondernemingsaard'] + ', ' \\\n",
    "                            + df_account['account_primaire_activiteit'] + ' ' \\\n",
    "\n",
    "df_account['account_onderneming'] = df_account['account_onderneming'].str.replace('unknown', '').str.replace(', , ', '') \\\n",
    "                                                            .str.strip().str.lower() \\\n",
    "                                                            .str.replace(r',$|^,', '', regex=True) \\\n",
    "                                                            .str.replace('&', '').str.replace('-', '') \\\n",
    "\n",
    "# drop kolommen\n",
    "df_account.drop(['account_industriezone_naam_', 'account_oprichtingsdatum', 'account_reden_van_status',\n",
    "           'account_status', 'account_voka_nr_', 'account_is_voka_entiteit','account_adres_geografische_regio', \n",
    "           'account_adres_geografische_subregio', 'account_adres_plaats', 'account_adres_postcode', \n",
    "           'account_adres_provincie', 'account_adres_land', 'account_ondernemingstype', \n",
    "           'account_ondernemingsaard', 'account_primaire_activiteit'], axis=1, inplace=True)"
   ]
  },
  {
   "cell_type": "markdown",
   "metadata": {},
   "source": [
    "### Contact cleanen"
   ]
  },
  {
   "cell_type": "code",
   "execution_count": 71,
   "metadata": {},
   "outputs": [],
   "source": [
    "df_contact = pd.read_csv('../data_clean/Contact_fixed.csv')\n",
    "df_contact = df_contact[df_contact['contact_status'] != 'Inactief']\n",
    "df_contact['contact_functietitel'] = df_contact['contact_functietitel'].str.lower().str.replace(r'[^\\w\\s]', '', regex=True) \\\n",
    "                                                        .str.replace('  ', ' ').str.strip()\n",
    "df_contact.drop(['contact_status', 'contact_voka_medewerker'], axis=1, inplace=True)"
   ]
  },
  {
   "cell_type": "markdown",
   "metadata": {},
   "source": [
    "### Mergen van Account en Contact zodat alleen de contacten van Oost-Vlaanderen overblijven"
   ]
  },
  {
   "cell_type": "markdown",
   "metadata": {},
   "source": [
    "Inner join, anders 11000 accounts zonder contactpersoon"
   ]
  },
  {
   "cell_type": "code",
   "execution_count": 72,
   "metadata": {},
   "outputs": [],
   "source": [
    "df_account_contact = df_account.merge(df_contact, left_on='account_account_id', right_on='contact_account', how='inner')\n",
    "df_account_contact.drop(['contact_account'], axis=1, inplace=True)"
   ]
  },
  {
   "cell_type": "code",
   "execution_count": 73,
   "metadata": {},
   "outputs": [],
   "source": [
    "def print_nunique(df, acc_col='account_account_id', cont_col='contact_contactpersoon_id'):\n",
    "    try:\n",
    "        con_un = df[cont_col].nunique()\n",
    "    except:\n",
    "        con_un = 'niet gevonden'\n",
    "    \n",
    "    try:\n",
    "        acc_un = df[acc_col].nunique()\n",
    "    except:\n",
    "        acc_un = 'niet gevonden'\n",
    "\n",
    "    print(f'#account: {acc_un}, #contact: {con_un}')"
   ]
  },
  {
   "cell_type": "code",
   "execution_count": 74,
   "metadata": {},
   "outputs": [
    {
     "name": "stdout",
     "output_type": "stream",
     "text": [
      "#account: 30716, #contact: 67299\n"
     ]
    }
   ],
   "source": [
    "print_nunique(df_account_contact)"
   ]
  },
  {
   "cell_type": "markdown",
   "metadata": {},
   "source": [
    "##### Persoon cleanen"
   ]
  },
  {
   "cell_type": "code",
   "execution_count": 75,
   "metadata": {},
   "outputs": [],
   "source": [
    "# df_persoon = pd.read_csv('../data_clean/Persoon_fixed.csv')\n",
    "\n",
    "# df_persoon = df_persoon[df_persoon['persoon_mail_regio_oost_vlaanderen'] == 1]\n",
    "# df_persoon = df_persoon[df_persoon['persoon_reden_van_status'] == 'Actief']\n",
    "\n",
    "# for col in df_persoon.columns:\n",
    "#     if col.__contains__('persoon_mail_regio'):\n",
    "#         df_persoon.drop(col, axis=1, inplace=True)\n",
    "\n",
    "# df_persoon.drop(['persoon_persoonsnr_', 'persoon_web_login', 'persoon_reden_van_status'], axis=1, inplace=True)\n",
    "\n",
    "# df_persoon.shape"
   ]
  },
  {
   "cell_type": "markdown",
   "metadata": {},
   "source": [
    "### Account_contact mergen met persoon"
   ]
  },
  {
   "cell_type": "markdown",
   "metadata": {},
   "source": [
    "Persoon niet meer gebruiken -> maar 4374 non-null"
   ]
  },
  {
   "cell_type": "code",
   "execution_count": 76,
   "metadata": {},
   "outputs": [],
   "source": [
    "# df_account_contact_persoon = df_account_contact.merge(df_persoon, left_on='contact_persoon_id', right_on='persoon_persoon_id', how='left')\n",
    "# df_account_contact_persoon.drop(['contact_persoon_id'], axis=1, inplace=True)\n",
    "# print(df_account_contact_persoon.shape)\n",
    "# df_account_contact_persoon.info()\n",
    "df_account_contact.drop(['contact_persoon_id'], axis=1, inplace=True)"
   ]
  },
  {
   "cell_type": "markdown",
   "metadata": {},
   "source": [
    "### Account_contact mergen met contactfunctie en functie"
   ]
  },
  {
   "cell_type": "code",
   "execution_count": 77,
   "metadata": {},
   "outputs": [],
   "source": [
    "# read in csv files\n",
    "df_contact_functie = pd.read_csv('../data_clean/Contact_functie_fixed.csv')\n",
    "df_functie = pd.read_csv('../data_clean/Functie_fixed.csv')\n",
    "\n",
    "# merge\n",
    "df_account_contact = df_account_contact.merge(df_contact_functie, left_on='contact_contactpersoon_id'\n",
    "                                              , right_on='contactfunctie_contactpersoon', how='inner')\n",
    "df_account_contact.drop(['contactfunctie_contactpersoon'], axis=1, inplace=True)"
   ]
  },
  {
   "cell_type": "markdown",
   "metadata": {},
   "source": [
    "Merge met functie"
   ]
  },
  {
   "cell_type": "code",
   "execution_count": 78,
   "metadata": {},
   "outputs": [
    {
     "data": {
      "text/plain": [
       "(90938, 6)"
      ]
     },
     "execution_count": 78,
     "metadata": {},
     "output_type": "execute_result"
    }
   ],
   "source": [
    "df_account_contact = df_account_contact.merge(df_functie, left_on='contactfunctie_functie', right_on='functie_functie_id', how='inner')\n",
    "df_account_contact.drop(['contactfunctie_functie', 'functie_functie_id'], axis=1, inplace=True)\n",
    "df_account_contact.shape"
   ]
  },
  {
   "cell_type": "code",
   "execution_count": 79,
   "metadata": {},
   "outputs": [
    {
     "name": "stdout",
     "output_type": "stream",
     "text": [
      "#account: 30707, #contact: 67225\n"
     ]
    }
   ],
   "source": [
    "print_nunique(df_account_contact)"
   ]
  },
  {
   "cell_type": "markdown",
   "metadata": {},
   "source": [
    "##### Functie naam kan verschillend zijn voor hetzelfde contact, dus die mergen we"
   ]
  },
  {
   "cell_type": "code",
   "execution_count": 80,
   "metadata": {},
   "outputs": [
    {
     "data": {
      "text/plain": [
       "(67225, 6)"
      ]
     },
     "execution_count": 80,
     "metadata": {},
     "output_type": "execute_result"
    }
   ],
   "source": [
    "# Define a custom aggregation function to merge 'functie_naam'\n",
    "def merge_functie_naam(series):\n",
    "    return ', '.join(series)\n",
    "\n",
    "# Group by 'account_account_id' and 'contact_contactpersoon_id' and merge 'functie_naam'\n",
    "df_account_contact = df_account_contact.groupby(\n",
    "    ['account_account_id', 'contact_contactpersoon_id'], \n",
    "    as_index=False).agg({'functie_naam': merge_functie_naam, \n",
    "                         **{col: 'first' for col in df_account_contact.columns if col != 'functie_naam'}})\n",
    "\n",
    "df_account_contact['functie_naam'] = df_account_contact['functie_naam'].str.lower() \\\n",
    "        .str.replace(r'[^\\w\\s]', '', regex=True).str.replace('  ', ' ').str.strip()\n",
    "\n",
    "df_account_contact.shape"
   ]
  },
  {
   "cell_type": "code",
   "execution_count": 81,
   "metadata": {},
   "outputs": [
    {
     "name": "stdout",
     "output_type": "stream",
     "text": [
      "#account: 30707, #contact: 67225\n"
     ]
    }
   ],
   "source": [
    "print_nunique(df_account_contact)"
   ]
  },
  {
   "cell_type": "markdown",
   "metadata": {},
   "source": [
    "### Account_contact mergen met account_activiteitscode en activiteitscode"
   ]
  },
  {
   "cell_type": "code",
   "execution_count": 82,
   "metadata": {},
   "outputs": [],
   "source": [
    "# csv files inlezen\n",
    "df_account_activiteitscode = pd.read_csv('../data_clean/Account_activiteitscode_fixed.csv')\n",
    "df_activiteitscode = pd.read_csv('../data_clean/Activiteitscode_fixed.csv')\n",
    "\n",
    "# merge\n",
    "df_activiteit = df_account_activiteitscode.merge(df_activiteitscode, left_on='account_activiteitscode_activiteitscode', right_on='activiteitscode_activiteitscode_id', how='inner')\n",
    "\n",
    "# alleen de actieve activiteiten\n",
    "df_activiteit = df_activiteit[df_activiteit['activiteitscode_status'] == 'Actief']\n",
    "\n",
    "# drop kolommen\n",
    "df_activiteit.drop(['account_activiteitscode_activiteitscode', 'activiteitscode_activiteitscode_id'\n",
    "                    , 'activiteitscode_status', 'account_activiteitscode_inf_account_inf_activiteitscodeid'], axis=1, inplace=True)"
   ]
  },
  {
   "cell_type": "markdown",
   "metadata": {},
   "source": [
    "activiteitscode naam combineren waar account niet uniek is"
   ]
  },
  {
   "cell_type": "code",
   "execution_count": 83,
   "metadata": {},
   "outputs": [
    {
     "name": "stdout",
     "output_type": "stream",
     "text": [
      "(13408, 2)\n"
     ]
    }
   ],
   "source": [
    "# where account_activiteitscode_account is not unique, combine the activiteitscode_naam\n",
    "def merge_activiteitscode_naam(series):\n",
    "    return ', '.join(series)\n",
    "\n",
    "df_activiteit = df_activiteit.groupby(\n",
    "    ['account_activiteitscode_account'], \n",
    "    as_index=False).agg({'activiteitscode_naam': merge_activiteitscode_naam, \n",
    "                         **{col: 'first' for col in df_activiteit.columns if col != 'activiteitscode_naam'}})\n",
    "\n",
    "df_activiteit['activiteitscode_naam'] = df_activiteit['activiteitscode_naam'].str.replace(' en ', ' ').str.replace(' & ', ' ') \\\n",
    "                                                            .str.replace('-', '').str.replace('  ', ' ').str.lower().str.strip() \\\n",
    "\n",
    "print(df_activiteit.shape)"
   ]
  },
  {
   "cell_type": "markdown",
   "metadata": {},
   "source": [
    "mergen met account_contact"
   ]
  },
  {
   "cell_type": "code",
   "execution_count": 84,
   "metadata": {},
   "outputs": [
    {
     "data": {
      "text/plain": [
       "(67225, 7)"
      ]
     },
     "execution_count": 84,
     "metadata": {},
     "output_type": "execute_result"
    }
   ],
   "source": [
    "df_account_contact = df_account_contact.merge(df_activiteit, left_on='account_account_id'\n",
    "                                              , right_on='account_activiteitscode_account', how='left')\n",
    "df_account_contact.drop(['account_activiteitscode_account'], axis=1, inplace=True)\n",
    "df_account_contact.shape"
   ]
  },
  {
   "cell_type": "code",
   "execution_count": 85,
   "metadata": {},
   "outputs": [
    {
     "name": "stdout",
     "output_type": "stream",
     "text": [
      "#account: 30707, #contact: 67225\n"
     ]
    }
   ],
   "source": [
    "print_nunique(df_account_contact)"
   ]
  },
  {
   "cell_type": "markdown",
   "metadata": {},
   "source": [
    "#####  Maar 16160 vd 67225 activiteitscodes zijn non-null"
   ]
  },
  {
   "cell_type": "code",
   "execution_count": 86,
   "metadata": {},
   "outputs": [
    {
     "name": "stdout",
     "output_type": "stream",
     "text": [
      "<class 'pandas.core.frame.DataFrame'>\n",
      "RangeIndex: 67225 entries, 0 to 67224\n",
      "Data columns (total 7 columns):\n",
      " #   Column                     Non-Null Count  Dtype \n",
      "---  ------                     --------------  ----- \n",
      " 0   functie_naam               67225 non-null  object\n",
      " 1   account_account_id         67225 non-null  object\n",
      " 2   account_adres              67225 non-null  object\n",
      " 3   account_onderneming        67225 non-null  object\n",
      " 4   contact_contactpersoon_id  67225 non-null  object\n",
      " 5   contact_functietitel       67225 non-null  object\n",
      " 6   activiteitscode_naam       16160 non-null  object\n",
      "dtypes: object(7)\n",
      "memory usage: 3.6+ MB\n"
     ]
    }
   ],
   "source": [
    "df_account_contact.info()"
   ]
  },
  {
   "cell_type": "markdown",
   "metadata": {},
   "source": [
    "### Account financiele data mergen met account_contact"
   ]
  },
  {
   "cell_type": "code",
   "execution_count": 87,
   "metadata": {},
   "outputs": [],
   "source": [
    "df_account_financieel = pd.read_csv('../data_clean/Account_financiële_data_fixed.csv', sep=',')\n",
    "df_account_financieel.drop(['financieledata_gewijzigd_op', 'financieledata_fte', 'financieledata_aantal_maanden'], axis=1, inplace=True)\n",
    "df_account_financieel['financieledata_toegevoegde_waarde'] = df_account_financieel['financieledata_toegevoegde_waarde'].astype(str)\n",
    "\n",
    "df_account_contact_finance = df_account_contact.merge(df_account_financieel, left_on='account_account_id', right_on='financieledata_ondernemingid', how='left')\n",
    "df_account_contact_finance.drop(['financieledata_ondernemingid'], axis=1, inplace=True)\n",
    "\n",
    "# turn financieledata_toegevoegde_waarde into a numeric value\n",
    "df_account_contact_finance['financieledata_toegevoegde_waarde'] = df_account_contact_finance['financieledata_toegevoegde_waarde'] \\\n",
    "                                                                    .str.replace(',', '.') \\\n",
    "                                                                    .str.replace('unknown', '0') \\\n",
    "                                                                    .astype(float)\n",
    "\n",
    "# De financieel toegevoegde waarde optellen per account en de boekjaren hun range gebruiken (vb 2007 - 2022 => 15 jaar)\n",
    "df_account_contact_finance = df_account_contact_finance.groupby(\n",
    "    ['account_account_id', 'contact_contactpersoon_id'], \n",
    "    as_index=False).agg({'financieledata_toegevoegde_waarde': 'sum', \n",
    "                         'financieledata_boekjaar': lambda x: x.max() - x.min(), \n",
    "                         **{col: 'first' for col in df_account_contact_finance.columns if col not in ['financieledata_toegevoegde_waarde', 'financieledata_boekjaar']}})\n",
    "\n",
    "df_account_contact_finance.rename(columns={'financieledata_boekjaar': 'financieledata_boekjaar_range'}, inplace=True)"
   ]
  },
  {
   "cell_type": "markdown",
   "metadata": {},
   "source": [
    "##### Alle niet meer benodigde dataframes verwijderen"
   ]
  },
  {
   "cell_type": "code",
   "execution_count": 88,
   "metadata": {},
   "outputs": [],
   "source": [
    "try:\n",
    "    del df_account\n",
    "    del df_contact\n",
    "    del df_contact_functie\n",
    "    del df_functie\n",
    "    del df_account_financieel\n",
    "    del df_account_contact\n",
    "except:\n",
    "    print('already deleted or non-existent')"
   ]
  },
  {
   "cell_type": "markdown",
   "metadata": {},
   "source": [
    "### Afspraken cleanen en mergen"
   ]
  },
  {
   "cell_type": "code",
   "execution_count": 89,
   "metadata": {},
   "outputs": [],
   "source": [
    "# Csv files inlezen\n",
    "df_afspraak_acc_gelinkt = pd.read_csv('../data_clean/Afspraak_account_gelinkt_cleaned_fixed.csv', sep=',')\n",
    "df_afspraak_acc_gelinkt.drop(['afspraak_account_gelinkt_account'], axis=1, inplace=True)\n",
    "\n",
    "df_afspraak_betreft_acc = pd.read_csv('../data_clean/Afspraak_betreft_account_cleaned_fixed.csv', sep=',')\n",
    "df_afspraak_betreft_acc.drop(['afspraak_betreft_account_betreft_id'], axis=1, inplace=True)\n",
    "\n",
    "df_afspraak_betreft_contact = pd.read_csv('../data_clean/Afspraak_betreft_contact_cleaned_fixed.csv', sep=',')\n",
    "df_afspraak_betreft_contact.drop(['afspraak_betreft_contactfiche_betreft_id'], axis=1, inplace=True)\n",
    "\n",
    "df_afspraak_alle = pd.read_csv('../data_clean/Afspraak_alle_fixed.csv', sep=',')\n",
    "\n",
    "# Kolomnamen hernoemen en afspraakt_betreft toevoegen (betreft account = 1, betreft contact = 0)\n",
    "df_afspraak_acc_gelinkt.columns = ['afspraak_afspraak_id', 'afspraak_thema', 'afspraak_subthema', 'afspraak_onderwerp', 'afspraak_eindtijd', 'afspraak_keyphrases']\n",
    "df_afspraak_betreft_acc.columns = ['afspraak_afspraak_id', 'afspraak_thema', 'afspraak_subthema', 'afspraak_onderwerp', 'afspraak_eindtijd', 'afspraak_keyphrases']\n",
    "df_afspraak_betreft_contact.columns = ['afspraak_afspraak_id', 'afspraak_thema', 'afspraak_subthema', 'afspraak_onderwerp', 'afspraak_eindtijd', 'afspraak_keyphrases']\n",
    "\n",
    "df_afspraak_betreft_acc[\"afspraak_betreft\"] = 1\n",
    "df_afspraak_acc_gelinkt[\"afspraak_betreft\"] = 1\n",
    "df_afspraak_betreft_contact[\"afspraak_betreft\"] = 0\n",
    "\n",
    "# Get the unique afspraak_afspraak_id's from afspraak_acc_gelinkt\n",
    "acc_gelinkt_id_list = df_afspraak_acc_gelinkt['afspraak_afspraak_id'].unique()\n",
    "\n",
    "# Concatenate the dataframes\n",
    "df_afspraken = pd.concat([df_afspraak_betreft_acc, df_afspraak_acc_gelinkt, df_afspraak_betreft_contact], ignore_index=True)\n",
    "df_afspraken.drop_duplicates(inplace=True)\n",
    "\n",
    "# Mergen met Afspraak_alle\n",
    "df_afspraken = df_afspraken.merge(df_afspraak_alle, left_on='afspraak_afspraak_id', right_on='afspraak_alle_afspraak_id', how='inner')\n",
    "\n",
    "# String cleanup\n",
    "df_afspraken['afspraak_thema'] = df_afspraken['afspraak_subthema'].str.replace('\\(', '', regex=True)\n",
    "df_afspraken['afspraak_thema'] = df_afspraken['afspraak_thema'].str.replace('\\)', '', regex=True)\n",
    "df_afspraken['afspraak_onderwerp'] = df_afspraken['afspraak_onderwerp'].str.lower().astype(str)\n",
    "\n",
    "# Drop kolommen\n",
    "df_afspraken.drop(['afspraak_alle_afspraak_id', 'afspraak_eindtijd', 'afspraak_subthema'], axis=1, inplace=True)\n",
    "df_afspraken.drop_duplicates(inplace=True)\n",
    "\n",
    "# show rows where afspraak_afspraak_id is not unique\n",
    "list_to_change_afspraak_betreft_to_2 = df_afspraken[df_afspraken['afspraak_afspraak_id'].duplicated(keep=False)]['afspraak_afspraak_id'].unique()\n",
    "\n",
    "# for every afspraak_afspraak_id that is not unique, change afspraak_betreft to 2\n",
    "for afspraak_id in list_to_change_afspraak_betreft_to_2:\n",
    "    df_afspraken.loc[df_afspraken['afspraak_afspraak_id'] == afspraak_id, 'afspraak_betreft'] = 2\n",
    "\n",
    "df_afspraken.drop_duplicates(inplace=True)\n",
    "\n",
    "# Acc_gelinkt = 1 anders 0 => adhv acc_gelinkt_id_list (ctrl+f) staat hierboven in zelfde cell\n",
    "for afspraak_id in acc_gelinkt_id_list:\n",
    "    df_afspraken.loc[df_afspraken['afspraak_afspraak_id'] == afspraak_id, 'afspraak_account_gelinkt'] = 1\n",
    "\n",
    "df_afspraken['afspraak_account_gelinkt'].fillna(0, inplace=True)\n",
    "\n",
    "# Mergen met Activiteit_vereist_contact\n",
    "df_activiteit_vereist_contact = pd.read_csv('../data_clean/Activiteit_vereist_contact_fixed.csv', sep=',')\n",
    "df_afspraken_total = df_afspraken.merge(df_activiteit_vereist_contact, left_on='afspraak_afspraak_id', right_on='activiteitvereistcontact_activityid_id', how='inner')\n",
    "df_afspraken_total.drop(['activiteitvereistcontact_activityid_id', 'afspraak_afspraak_id'], axis=1, inplace=True)"
   ]
  },
  {
   "cell_type": "markdown",
   "metadata": {},
   "source": [
    "Alle niet benodigde dataframes verwijderen"
   ]
  },
  {
   "cell_type": "code",
   "execution_count": 90,
   "metadata": {},
   "outputs": [],
   "source": [
    "try:\n",
    "    del df_afspraak_acc_gelinkt\n",
    "    del df_afspraak_betreft_acc\n",
    "    del df_afspraak_betreft_contact\n",
    "    del df_afspraak_alle\n",
    "    del df_afspraken\n",
    "    del df_activiteit_vereist_contact\n",
    "except:\n",
    "    print('already deleted or non-existent')"
   ]
  },
  {
   "cell_type": "markdown",
   "metadata": {},
   "source": [
    "### Account en Afspraken mergen"
   ]
  },
  {
   "cell_type": "code",
   "execution_count": 91,
   "metadata": {},
   "outputs": [
    {
     "name": "stdout",
     "output_type": "stream",
     "text": [
      "#account: 30707, #contact: 67225\n"
     ]
    }
   ],
   "source": [
    "acc_afs_merged = df_account_contact_finance.merge(df_afspraken_total, left_on=['contact_contactpersoon_id'], right_on=['activiteitvereistcontact_reqattendee'], how='left')\n",
    "acc_afs_merged.drop(['activiteitvereistcontact_reqattendee'], axis=1, inplace=True)\n",
    "\n",
    "# NaN values vervangen\n",
    "acc_afs_merged['financieledata_boekjaar_range'].fillna(0, inplace=True)\n",
    "acc_afs_merged['afspraak_betreft'].fillna(-1, inplace=True)\n",
    "acc_afs_merged['afspraak_account_gelinkt'].fillna(-1, inplace=True)\n",
    "\n",
    "acc_afs_merged['activiteitscode_naam'].fillna('unknown', inplace=True)\n",
    "acc_afs_merged['afspraak_thema'].fillna('unknown', inplace=True)\n",
    "acc_afs_merged['afspraak_onderwerp'].fillna('unknown', inplace=True)\n",
    "acc_afs_merged['afspraak_keyphrases'].fillna('unknown', inplace=True)\n",
    "\n",
    "# Strings cleanen\n",
    "acc_afs_merged['afspraak_thema'] = acc_afs_merged['afspraak_thema'].str.lower() \\\n",
    "        .str.replace(r'[^\\w\\s]', '', regex=True).str.replace('  ', ' ').str.strip()\n",
    "\n",
    "acc_afs_merged['afspraak_onderwerp'] = acc_afs_merged['afspraak_onderwerp'].str.replace('ov-', '').str.replace('ov -', '') \\\n",
    "        .str.replace('ov ', '').str.replace('-', ' ').str.replace(r'[^\\w\\s]', '', regex=True).str.replace('  ', ' ').str.strip()\n",
    "\n",
    "acc_afs_merged['afspraak_keyphrases'] = acc_afs_merged['afspraak_keyphrases'].str.lower().str.replace(r'[^\\w\\s]', '', regex=True) \\\n",
    "                                                                            .str.replace('  ', ' ').str.strip()\n",
    "\n",
    "# combine 'afspraak_thema', 'afspraak_onderwerp', 'afspraak_keyphrases' into one column\n",
    "acc_afs_merged['afspraak_keyphrases'] = acc_afs_merged['afspraak_thema'].astype(str).str.lower() + ', ' \\\n",
    "                            + acc_afs_merged['afspraak_onderwerp'].astype(str) + ', ' \\\n",
    "                            + acc_afs_merged['afspraak_keyphrases'].astype(str)\n",
    "\n",
    "acc_afs_merged.drop(['afspraak_thema', 'afspraak_onderwerp'], axis=1, inplace=True)\n",
    "acc_afs_merged.drop_duplicates(inplace=True)\n",
    "\n",
    "# Alle string kolommen van Account en Contact samenvoegen\n",
    "columns_to_process = ['account_onderneming', 'account_adres', 'activiteitscode_naam', 'contact_functietitel', 'functie_naam']\n",
    "\n",
    "for column in columns_to_process:\n",
    "    acc_afs_merged[column] = acc_afs_merged[column].astype(str)\n",
    "\n",
    "acc_afs_merged['account_keyphrases'] = acc_afs_merged[columns_to_process].apply(lambda x: ', '.join(x), axis=1)\n",
    "\n",
    "acc_afs_merged.drop(columns_to_process, axis=1, inplace=True)\n",
    "\n",
    "print_nunique(acc_afs_merged)"
   ]
  },
  {
   "cell_type": "markdown",
   "metadata": {},
   "source": [
    "Alle niet benodigde dataframes verwijderen"
   ]
  },
  {
   "cell_type": "code",
   "execution_count": 92,
   "metadata": {},
   "outputs": [],
   "source": [
    "try:\n",
    "    del df_account_contact_finance\n",
    "    del df_afspraken_total\n",
    "except:\n",
    "    print('already deleted or non-existent')"
   ]
  },
  {
   "cell_type": "markdown",
   "metadata": {},
   "source": [
    "### Campagne cleanen"
   ]
  },
  {
   "cell_type": "code",
   "execution_count": 93,
   "metadata": {},
   "outputs": [],
   "source": [
    "df_campagne = pd.read_csv('../data_clean/Campagne_fixed.csv', sep=',')\n",
    "\n",
    "# campagne naam cleanen\n",
    "df_campagne['campagne_naam'] = df_campagne['campagne_naam'].str.replace('OV-', '').str.replace('ov-', '') \\\n",
    "                                                            .str.replace('-', ' ').str.replace(r'[^\\w\\s]', '', regex=True) \\\n",
    "                                                            .str.replace('  ', ' ').str.strip().str.lower().str.replace('  ', ' ')\n",
    "\n",
    "# String kolommen samenvoegen\n",
    "df_campagne['campagne_keyphrases'] = df_campagne['campagne_soort_campagne'].str.lower() + ', ' \\\n",
    "            + df_campagne['campagne_type_campagne'].str.lower() + ', ' \\\n",
    "            + df_campagne['campagne_naam']\n",
    "\n",
    "# Drop kolommen\n",
    "df_campagne.drop(['campagne_einddatum', 'campagne_startdatum', 'campagne_campagne_nr', \n",
    "                  'campagne_naam_in_email', 'campagne_reden_van_status', 'campagne_status',\n",
    "                  'campagne_url_voka_be', 'campagne_soort_campagne', 'campagne_type_campagne', \n",
    "                  'campagne_naam'], axis=1, inplace=True)"
   ]
  },
  {
   "cell_type": "markdown",
   "metadata": {},
   "source": [
    "### Campagne, Sessie, Sessie_inschrijving en Inschrijving mergen"
   ]
  },
  {
   "cell_type": "code",
   "execution_count": 94,
   "metadata": {},
   "outputs": [],
   "source": [
    "# Csv files inlezen\n",
    "df_sessie = pd.read_csv('../data_clean/Sessie_fixed.csv', sep=',')\n",
    "df_sessie.drop(['sessie_eind_datum_tijd', 'sessie_sessie_nr_', 'sessie_start_datum_tijd'], axis=1, inplace=True)\n",
    "df_inschrijving = pd.read_csv('../data_clean/Inschrijving_fixed.csv', sep=',')\n",
    "df_inschrijving.drop(['inschrijving_datum_inschrijving', 'inschrijving_campagne_naam_'], axis=1, inplace=True)\n",
    "df_sessie_inschrijving = pd.read_csv('../data_clean/Sessie_inschrijving_fixed.csv', sep=',')\n",
    "\n",
    "# Sessie, Sessie_inschrijving en Inschrijving mergen\n",
    "df_sessie_inschrijving_merge = df_sessie_inschrijving.merge(df_sessie, left_on='sessieinschrijving_sessie', right_on='sessie_sessie_id', how='inner')\n",
    "df_sessie_inschrijving_merge.drop(['sessieinschrijving_sessie'], axis=1, inplace=True)\n",
    "df_sessie_inschrijving_merge = df_sessie_inschrijving_merge.merge(df_inschrijving, left_on='sessieinschrijving_inschrijving', right_on='inschrijving_inschrijving_id', how='inner')\n",
    "df_sessie_inschrijving_merge.drop(['sessieinschrijving_inschrijving', 'inschrijving_inschrijving_id', 'sessie_sessie_id', 'sessieinschrijving_sessieinschrijving_id'], axis=1, inplace=True)\n",
    "df_sessie_inschrijving_merge.drop_duplicates(inplace=True)\n",
    "\n",
    "# De hierboven gemergde dataframes en Campagne mergen\n",
    "df_camp_inschrijving_merge = df_sessie_inschrijving_merge.merge(df_campagne, left_on='inschrijving_campagne', right_on='campagne_campagne_id', how='inner')\n",
    "df_camp_inschrijving_merge.drop(['inschrijving_campagne'], axis=1, inplace=True)\n",
    "df_camp_inschrijving_merge.drop_duplicates(inplace=True)\n",
    "\n",
    "# String kolommen cleanen\n",
    "df_camp_inschrijving_merge['sessie_activiteitstype'] = df_camp_inschrijving_merge['sessie_activiteitstype'].str.lower() \\\n",
    "                    .str.replace('-', ' ').str.replace(r'[^\\w\\s]', '', regex=True).str.replace('  ', ' ').str.strip()\n",
    "\n",
    "df_camp_inschrijving_merge['sessie_thema_naam_'] = df_camp_inschrijving_merge['sessie_thema_naam_'].str.lower() \\\n",
    "                    .str.replace('-', ' ').str.replace(r'[^\\w\\s]', '', regex=True).str.replace('  ', ' ').str.strip()\n",
    "\n",
    "df_camp_inschrijving_merge['sessie_product'] = df_camp_inschrijving_merge['sessie_product'].str.replace('OV-', '').str.replace('-LLT', '') \\\n",
    "                    .str.lower().str.replace('-', ' ').str.replace(r'[^\\w\\s]', '', regex=True).str.replace('  ', ' ').str.strip()"
   ]
  },
  {
   "cell_type": "markdown",
   "metadata": {},
   "source": [
    "### Account, Afspraak en Campagne mergen "
   ]
  },
  {
   "cell_type": "markdown",
   "metadata": {},
   "source": [
    "--> kunnen kiezen om alleen accounts en contacten te houden waarbij campagne aanwezig is of we kunnen kiezen om dit te droppen\n",
    "\n",
    "--> dit gebeurt hieronder bij # drop rows where campagne_id is null ...\n",
    "\n",
    "--> Als we kiezen voor niet te droppen, dan moeten we de num_cols en cat_cols uit commentaar halen"
   ]
  },
  {
   "cell_type": "code",
   "execution_count": 95,
   "metadata": {},
   "outputs": [
    {
     "name": "stdout",
     "output_type": "stream",
     "text": [
      "#account: 5035, #contact: 11767\n"
     ]
    }
   ],
   "source": [
    "df_acc_afs_camp_merge = acc_afs_merged.merge(df_camp_inschrijving_merge, left_on='contact_contactpersoon_id'\n",
    "                                             , right_on='inschrijving_contactfiche', how='left')\n",
    "\n",
    "df_acc_afs_camp_merge.drop(['inschrijving_contactfiche', 'sessie_campagne'], axis=1, inplace=True)\n",
    "\n",
    "# drop rows where campagne_campagne_id is NaN\n",
    "df_acc_afs_camp_merge.dropna(subset=['campagne_campagne_id'], inplace=True)\n",
    "\n",
    "# num_cols = df_acc_afs_camp_merge.select_dtypes(include=['float64', 'int64']).columns\n",
    "# cat_cols = df_acc_afs_camp_merge.select_dtypes(include=['object']).columns\n",
    "# # fill NaN values with -1 for numeric columns\n",
    "# df_acc_afs_camp_merge[num_cols] = df_acc_afs_camp_merge[num_cols].fillna(-1)\n",
    "# # fill NaN values with 'unknown' for categorical columns\n",
    "# df_acc_afs_camp_merge[cat_cols] = df_acc_afs_camp_merge[cat_cols].fillna('unknown')\n",
    "\n",
    "# rows samenvoegen\n",
    "df_acc_afs_camp_merge['inschrijving_aanwezig_afwezig'] \\\n",
    "    = df_acc_afs_camp_merge['inschrijving_aanwezig_afwezig'].astype(str) \\\n",
    "                                                            .str.replace('Aanwezig', '1') \\\n",
    "                                                            .str.replace('Afwezig', '0') \\\n",
    "                                                            .str.replace('unknown', '-1') \\\n",
    "                                                            .astype(int)\n",
    "\n",
    "df_acc_afs_camp_merge['inschrijving_facturatie_bedrag'] \\\n",
    "      = df_acc_afs_camp_merge['inschrijving_facturatie_bedrag'].astype(str) \\\n",
    "                                                               .str.replace(',', '.') \\\n",
    "                                                               .str.replace('unknown', '-1') \\\n",
    "                                                               .astype(float)\n",
    "\n",
    "df_acc_afs_camp_merge['inschrijving_bron'] \\\n",
    "    = df_acc_afs_camp_merge['inschrijving_bron'].astype(str) \\\n",
    "                                                .str.replace('unknown', '-1') \\\n",
    "                                                .str.replace('Website', '1') \\\n",
    "                                                .str.replace('Email', '0') \\\n",
    "                                                .astype(int)\n",
    "\n",
    "df_acc_afs_camp_merge['sessie_keyphrases'] = df_acc_afs_camp_merge['sessie_activiteitstype'] + ', ' \\\n",
    "            + df_acc_afs_camp_merge['sessie_thema_naam_'] + ', ' \\\n",
    "            + df_acc_afs_camp_merge['sessie_product']\n",
    "\n",
    "# droppen van kolommen\n",
    "df_acc_afs_camp_merge.drop(['sessie_activiteitstype', 'sessie_thema_naam_', 'sessie_product'], axis=1, inplace=True)\n",
    "\n",
    "print_nunique(df_acc_afs_camp_merge)"
   ]
  },
  {
   "cell_type": "markdown",
   "metadata": {},
   "source": [
    "verwijder onnodige dataframes"
   ]
  },
  {
   "cell_type": "code",
   "execution_count": 96,
   "metadata": {},
   "outputs": [],
   "source": [
    "try:\n",
    "    del acc_afs_merged\n",
    "    del df_campagne\n",
    "    del df_sessie\n",
    "    del df_inschrijving\n",
    "    del df_sessie_inschrijving\n",
    "    del df_sessie_inschrijving_merge\n",
    "    del df_camp_inschrijving_merge\n",
    "except:\n",
    "    print('already deleted or non-existent')"
   ]
  },
  {
   "cell_type": "markdown",
   "metadata": {},
   "source": [
    "### CDI Pageview, CDI Visit, CDI Mailing en CDI Sentemailclick cleanen en mergen"
   ]
  },
  {
   "cell_type": "markdown",
   "metadata": {},
   "source": [
    "##### Visit en Pageview mergen"
   ]
  },
  {
   "cell_type": "code",
   "execution_count": 97,
   "metadata": {},
   "outputs": [],
   "source": [
    "df_pageview = pd.read_csv('../data_clean/CDI_pageviews_fixed.csv', sep=',')\n",
    "df_visit = pd.read_csv('../data_clean/CDI_visits_fixed.csv', sep=',')\n",
    "\n",
    "# Merge en drop kolommen\n",
    "df_visit_pageview = df_visit.merge(df_pageview, left_on='visit_visit_id', right_on='visit', how='left')\n",
    "df_visit_pageview.drop(\n",
    "    ['visit', 'visit_ip_postcode', 'visit_aangemaakt_op', 'visit_adobe_reader', 'visit_campagne_code',\n",
    "    'visit_contact_naam_', 'visit_containssocialprofile', 'visit_ended_on', 'visit_ip_address',\n",
    "    'visit_ip_organization', 'visit_keywords', 'visit_ip_longitude', 'visit_ip_latitude', 'visit_referrer', \n",
    "    'visit_score', 'visit_started_on', 'visit_ip_status', 'visit_time', 'visit_visit_id', 'visit_gewijzigd_op',\n",
    "    'browser', 'campaign', 'contact', 'duration', 'operatingsystem',\n",
    "    'pageview_id', 'referrertype', 'time', 'pagetitle', 'type', 'url',\n",
    "    'viewedon', 'visitorkey', 'webcontent', 'aangemaaktop', 'gewijzigddoor',\n",
    "    'gewijzigdop', 'status', 'redenvanstatus'\n",
    "    ], axis=1, inplace=True)\n",
    "\n",
    "df_visit_pageview.drop_duplicates(inplace=True)\n",
    "\n",
    "# from visit_entry_page and visit_exit_page, extract the page name until the ?\n",
    "df_visit_pageview['visit_entry_page'] = df_visit_pageview['visit_entry_page'].str.split('?').str[0]\n",
    "df_visit_pageview['visit_exit_page'] = df_visit_pageview['visit_exit_page'].str.split('?').str[0]\n",
    "\n",
    "df_visit_pageview['visit_ip_company'] = df_visit_pageview['visit_ip_company'].str.lower() \\\n",
    "            .str.replace(r'[^\\w\\s]', '', regex=True) \\\n",
    "            .str.replace('  ', ' ').str.strip()\n",
    "\n",
    "df_visit_pageview['visit_entry_page'] = df_visit_pageview['visit_entry_page'].str.replace(r'https:\\/\\/www.voka.be\\/', '', regex=True) \\\n",
    "            .str.replace('/', ' ').str.replace('-', ' ').str.replace(r'[^\\w\\s]', '', regex=True) \\\n",
    "            .str.replace('  ', ' ').str.strip()\n",
    "\n",
    "df_visit_pageview['visit_exit_page'] = df_visit_pageview['visit_exit_page'].str.replace(r'https:\\/\\/www.voka.be\\/', '', regex=True) \\\n",
    "            .str.replace('/', ' ').str.replace('-', ' ').str.replace(r'[^\\w\\s]', '', regex=True) \\\n",
    "            .str.replace('  ', ' ').str.strip()\n",
    "\n",
    "df_visit_pageview['visit_referring_host'] = df_visit_pageview['visit_referring_host'].str.replace('www.', '') \\\n",
    "            .str.replace('.com', '').str.replace('.be', '').str.replace('.net', '') \\\n",
    "            .str.replace(r'[^\\w\\s]', ' ', regex=True).str.replace('  ', ' ').str.strip()\n",
    "\n",
    "df_visit_pageview['visit_referrer_type'] = df_visit_pageview['visit_referrer_type'].str.replace('E-', '') \\\n",
    "            .str.lower()\n",
    "\n",
    "# String kolommen samenvoegen\n",
    "df_visit_pageview['visit_keyphrases'] = df_visit_pageview['visit_browser'].str.lower() + ', ' \\\n",
    "            + df_visit_pageview['visit_operating_system'].str.lower() + ', ' \\\n",
    "            + df_visit_pageview['visit_ip_stad'].str.lower() + ', ' \\\n",
    "            + df_visit_pageview['visit_ip_land'].str.lower() + ', ' \\\n",
    "            + df_visit_pageview['visit_ip_company'] + ', ' \\\n",
    "            + df_visit_pageview['visit_entry_page'] + ', ' \\\n",
    "            + df_visit_pageview['visit_exit_page'] + ', '  \\\n",
    "            + df_visit_pageview['visit_referring_host'] + ', ' \\\n",
    "            + df_visit_pageview['visit_referrer_type']\n",
    "\n",
    "# Drop kolommen\n",
    "df_visit_pageview.drop(['visit_browser', 'visit_operating_system', 'visit_ip_stad', 'visit_ip_land', 'visit_ip_company', \n",
    "                        'visit_entry_page', 'visit_exit_page', 'visit_referring_host', 'visit_referrer_type'], axis=1, inplace=True)\n",
    "\n",
    "# Dtypes aanpassen + one hot encoden\n",
    "df_visit_pageview['visit_bouce'] \\\n",
    "   = df_visit_pageview['visit_bounce'] \\\n",
    "      .astype(str).str.replace('Ja', '1').str.replace('Nee', '0') \\\n",
    "      .str.replace('unknown', '-1').astype(int)\n",
    "\n",
    "df_visit_pageview['visit_duration'] = df_visit_pageview['visit_duration'].astype(int)\n",
    "\n",
    "df_visit_pageview['visit_first_visit'] \\\n",
    "   = df_visit_pageview['visit_first_visit'] \\\n",
    "      .str.replace('Ja', '1').str.replace('Nee', '0') \\\n",
    "      .str.replace('unknown', '-1').astype(int)\n",
    "\n",
    "df_visit_pageview['visit_total_pages'] \\\n",
    "   = df_visit_pageview['visit_total_pages']\\\n",
    "      .replace('unknown', '-1.0').astype(float)"
   ]
  },
  {
   "cell_type": "markdown",
   "metadata": {},
   "source": [
    "##### Mailing en sentemailclick mergen"
   ]
  },
  {
   "cell_type": "code",
   "execution_count": 98,
   "metadata": {},
   "outputs": [],
   "source": [
    "# Csv files inlezen\n",
    "df_mailing = pd.read_csv('../data_clean/CDI_mailing_fixed.csv', sep=',')\n",
    "df_mailing.drop(['mailing_sent_on'], axis=1, inplace=True)\n",
    "df_mailing.drop_duplicates(inplace=True)\n",
    "df_click = pd.read_csv('../data_clean/CDI_sent_email_clicks_fixed.csv', sep=',')\n",
    "df_click.drop(['sentemail_kliks_contact', 'sentemail_kliks_sent_email_id'], axis=1, inplace=True)\n",
    "df_click.drop_duplicates(inplace=True)\n",
    "\n",
    "# Merge en drop kolommen\n",
    "df_mailing_merged = df_mailing.merge(df_click, left_on='mailing_mailing_id', right_on='sentemail_kliks_e_mail_versturen', how='inner')\n",
    "df_mailing_merged.drop(['sentemail_kliks_e_mail_versturen'], axis=1, inplace=True)\n",
    "\n",
    "# Sentmail_kliks_clicks optellen per mailing\n",
    "df_mailing_merged = df_mailing_merged.groupby(['mailing_mailing_id', 'mailing_name', 'mailing_onderwerp'], \n",
    "                          as_index=False).agg({'sentemail_kliks_clicks': 'sum', \n",
    "                                                **{col: 'first' for col in df_mailing_merged.columns if col not in ['sentemail_kliks_clicks']}})"
   ]
  },
  {
   "cell_type": "markdown",
   "metadata": {},
   "source": [
    "##### pageview_visit en mailing sentemailclick mergen"
   ]
  },
  {
   "cell_type": "code",
   "execution_count": 99,
   "metadata": {},
   "outputs": [],
   "source": [
    "# Merge\n",
    "df_pageview_visit_mailing = df_visit_pageview.merge(df_mailing_merged, left_on='visit_email_send', right_on='mailing_mailing_id', how='left')\n",
    "df_pageview_visit_mailing.drop(['visit_email_send', 'mailing_mailing_id', 'visit_campaign'], axis=1, inplace=True)\n",
    "\n",
    "# String kolommen cleanen\n",
    "df_pageview_visit_mailing['mailing_name'] = df_pageview_visit_mailing['mailing_name'].str.replace('OV-', '') \\\n",
    "                                            .str.replace('OV ', '').str.replace('OV -', '') \\\n",
    "                                            .str.replace('-', ' ').str.replace(r'[^\\w\\s]', ' ', regex=True) \\\n",
    "                                            .str.replace('  ', ' ').str.strip().str.lower().str.replace('  ', ' ')\n",
    "\n",
    "df_pageview_visit_mailing['mailing_onderwerp'] = df_pageview_visit_mailing['mailing_onderwerp'] \\\n",
    "                                            .str.replace('-', ' ').str.replace(r'[^\\w\\s]', ' ', regex=True) \\\n",
    "                                            .str.replace('  ', ' ').str.strip().str.lower().str.replace('  ', ' ')\n",
    "\n",
    "# String kolommen samenvoegen\n",
    "df_pageview_visit_mailing['mailing_keyphrases'] \\\n",
    "    = df_pageview_visit_mailing['mailing_name'] + ', ' \\\n",
    "        + df_pageview_visit_mailing['mailing_onderwerp']\n",
    "\n",
    "df_pageview_visit_mailing['sentemail_kliks_clicks'] \\\n",
    "    = df_pageview_visit_mailing['sentemail_kliks_clicks'].replace('unknown', '0').astype(int)\n",
    "\n",
    "# drop kolommen\n",
    "df_pageview_visit_mailing.drop(['mailing_name', 'mailing_onderwerp'], axis=1, inplace=True)"
   ]
  },
  {
   "cell_type": "markdown",
   "metadata": {},
   "source": [
    "### Total merge"
   ]
  },
  {
   "cell_type": "code",
   "execution_count": 110,
   "metadata": {},
   "outputs": [
    {
     "name": "stdout",
     "output_type": "stream",
     "text": [
      "#account: 5035, #contact: 11767\n"
     ]
    }
   ],
   "source": [
    "df_merged_total = df_acc_afs_camp_merge.merge(df_pageview_visit_mailing, left_on='contact_contactpersoon_id', right_on='visit_contact', how='left')\n",
    "df_merged_total.drop(['visit_contact', 'campagne_campagne_id'], axis=1, inplace=True)\n",
    "\n",
    "# Numeric en categorical kolommen selecteren\n",
    "num_cols = df_merged_total.select_dtypes(include=['float64', 'int64']).columns\n",
    "cat_cols = df_merged_total.select_dtypes(include=['object']).columns\n",
    "\n",
    "# fill NaN values with -1 for numeric columns\n",
    "df_merged_total[num_cols] = df_merged_total[num_cols].fillna(-1)\n",
    "# fill NaN values with 'unknown' for categorical columns\n",
    "df_merged_total[cat_cols] = df_merged_total[cat_cols].fillna('unknown')\n",
    "\n",
    "# visit_bounce blijft object voor een of ander manier dus hier veranderen\n",
    "df_merged_total['visit_bouce'] = df_merged_total['visit_bouce'].replace('unknown', -1).astype(int)\n",
    "\n",
    "# verander alle int64 en int32 naar int8\n",
    "int_cols = df_merged_total.select_dtypes(include=['int64', 'int32']).columns\n",
    "df_merged_total[int_cols] = df_merged_total[int_cols].astype('int8')\n",
    "\n",
    "# Unique aantal accounts en contacten printen\n",
    "print_nunique(df_merged_total)\n",
    "df_merged_total.drop(['contact_contactpersoon_id', 'account_account_id'], axis=1, inplace=True)\n",
    "\n",
    "# regex to remove emoticons\n",
    "regex_emoticons = r'[\\U0001F600-\\U0001F64F\\U0001F300-\\U0001F5FF\\U0001F680-\\U0001F6FF\\U0001F1E0-\\U0001F1FF]'\n",
    "\n",
    "# Keyphrases cleanen\n",
    "replacement_dict = {\n",
    "    \n",
    "    ', ,': ',',\n",
    "    regex_emoticons: '',\n",
    "}\n",
    "\n",
    "# Apply replacements to all specified columns\n",
    "columns_to_clean = ['afspraak_keyphrases', 'account_keyphrases', 'campagne_keyphrases', 'sessie_keyphrases', 'visit_keyphrases', 'mailing_keyphrases']\n",
    "for column in columns_to_clean:\n",
    "    df_merged_total[column] = df_merged_total[column].str.replace('unknown', '').str.replace(', ,', ',')\\\n",
    "                                                    .str.replace(regex_emoticons, '', regex=True)\n",
    "    df_merged_total[column] = df_merged_total[column].str.lower().str.strip()\n",
    "\n",
    "df_merged_total['visit_keyphrases'] = df_merged_total['visit_keyphrases'].str.replace(r'node [0-9]+', '', regex=True) \\\n",
    "                                    .str.replace('  ', ' ').str.strip()\n",
    "\n",
    "# Opslaan naar csv\n",
    "if os.path.exists('../data_clean/merged_total.csv'):\n",
    "    os.remove('../data_clean/merged_total.csv')\n",
    "df_merged_total.to_csv('../data_clean/merged_total.csv', index=False)"
   ]
  }
 ],
 "metadata": {
  "kernelspec": {
   "display_name": "Python 3",
   "language": "python",
   "name": "python3"
  },
  "language_info": {
   "codemirror_mode": {
    "name": "ipython",
    "version": 3
   },
   "file_extension": ".py",
   "mimetype": "text/x-python",
   "name": "python",
   "nbconvert_exporter": "python",
   "pygments_lexer": "ipython3",
   "version": "3.11.3"
  }
 },
 "nbformat": 4,
 "nbformat_minor": 2
}
