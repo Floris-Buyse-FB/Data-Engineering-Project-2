{
 "cells": [
  {
   "cell_type": "code",
   "execution_count": 2,
   "metadata": {},
   "outputs": [],
   "source": [
    "import pandas as pd\n",
    "import numpy as np\n",
    "import matplotlib.pyplot as plt\n",
    "import seaborn as sns\n",
    "import os"
   ]
  },
  {
   "cell_type": "markdown",
   "metadata": {},
   "source": [
    "### Account cleanen"
   ]
  },
  {
   "cell_type": "code",
   "execution_count": 3,
   "metadata": {},
   "outputs": [
    {
     "data": {
      "text/plain": [
       "(41859, 3)"
      ]
     },
     "execution_count": 3,
     "metadata": {},
     "output_type": "execute_result"
    }
   ],
   "source": [
    "df_account = pd.read_csv('../data_clean/Account_fixed.csv')\n",
    "\n",
    "# alleen de actieve accounts\n",
    "df_account = df_account[df_account['account_reden_van_status'] != 'Inactief']\n",
    "df_account = df_account[df_account['account_reden_van_status'] != 'Stopzetting']\n",
    "\n",
    "# onnodige kolommen verwijderen\n",
    "df_account.drop(['account_industriezone_naam_',\n",
    "           'account_oprichtingsdatum',\n",
    "           'account_reden_van_status',\n",
    "           'account_status',\n",
    "           'account_voka_nr_',\n",
    "           'account_is_voka_entiteit',\n",
    "], axis=1, inplace=True)\n",
    "\n",
    "# alleen de accounts uit Oost-Vlaanderen\n",
    "df_account = df_account[df_account['account_adres_provincie'] == 'Oost-Vlaanderen']\n",
    "\n",
    "# account adres samenvoegen\n",
    "plaats = df_account['account_adres_plaats'].str.lower().str.capitalize()\n",
    "postcode = df_account['account_adres_postcode'].astype(str)\n",
    "subregio = df_account['account_adres_geografische_subregio'].str.lower().str.capitalize()\n",
    "provincie = df_account['account_adres_provincie'].str.lower().str.capitalize()\n",
    "land = df_account['account_adres_land'].str.lower().str.capitalize()\n",
    "\n",
    "df_account['account_adres'] = plaats + ' ' + postcode + ' ' + subregio + ' ' + provincie + ' ' + land\n",
    "\n",
    "df_account.drop(['account_adres_geografische_regio', \n",
    "           'account_adres_geografische_subregio', \n",
    "           'account_adres_plaats', 'account_adres_postcode', \n",
    "           'account_adres_provincie', 'account_adres_land'], axis=1, inplace=True)\n",
    "\n",
    "# account ondernemingstype samenvoegen\n",
    "df_account['account_onderneming'] = df_account['account_ondernemingstype'] + ', ' \\\n",
    "                            + df_account['account_ondernemingsaard'] + ', ' \\\n",
    "                            + df_account['account_primaire_activiteit'] + ' ' \\\n",
    "\n",
    "df_account.drop(['account_ondernemingstype', \n",
    "           'account_ondernemingsaard', \n",
    "           'account_primaire_activiteit'], axis=1, inplace=True)\n",
    "\n",
    "# account ondernemingstype strings opschonen\n",
    "df_account['account_onderneming'] = df_account['account_onderneming'].str.replace('unknown', '')\n",
    "df_account['account_onderneming'] = df_account['account_onderneming'].str.strip()\n",
    "df_account['account_onderneming'] = df_account['account_onderneming'].str.lower().str.capitalize()\n",
    "\n",
    "df_account.shape"
   ]
  },
  {
   "cell_type": "markdown",
   "metadata": {},
   "source": [
    "### Contact cleanen"
   ]
  },
  {
   "cell_type": "code",
   "execution_count": 4,
   "metadata": {},
   "outputs": [
    {
     "data": {
      "text/plain": [
       "(393514, 4)"
      ]
     },
     "execution_count": 4,
     "metadata": {},
     "output_type": "execute_result"
    }
   ],
   "source": [
    "df_contact = pd.read_csv('../data_clean/Contact_fixed.csv')\n",
    "\n",
    "df_contact = df_contact[df_contact['contact_status'] != 'Inactief']\n",
    "df_contact.drop(['contact_status', 'contact_voka_medewerker'], axis=1, inplace=True)\n",
    "\n",
    "df_contact.shape"
   ]
  },
  {
   "cell_type": "markdown",
   "metadata": {},
   "source": [
    "### Mergen van Account en Contact zodat alleen de contacten van Oost-Vlaanderen overblijven"
   ]
  },
  {
   "cell_type": "markdown",
   "metadata": {},
   "source": [
    "Inner join, anders 11000 accounts zonder contactpersoon"
   ]
  },
  {
   "cell_type": "code",
   "execution_count": 5,
   "metadata": {},
   "outputs": [
    {
     "data": {
      "text/plain": [
       "(67299, 6)"
      ]
     },
     "execution_count": 5,
     "metadata": {},
     "output_type": "execute_result"
    }
   ],
   "source": [
    "df_account_contact = df_account.merge(df_contact, left_on='account_account_id', right_on='contact_account', how='inner')\n",
    "df_account_contact.drop(['contact_account'], axis=1, inplace=True)\n",
    "df_account_contact.shape"
   ]
  },
  {
   "cell_type": "markdown",
   "metadata": {},
   "source": [
    "##### Persoon cleanen"
   ]
  },
  {
   "cell_type": "code",
   "execution_count": 6,
   "metadata": {},
   "outputs": [],
   "source": [
    "# df_persoon = pd.read_csv('../data_clean/Persoon_fixed.csv')\n",
    "\n",
    "# df_persoon = df_persoon[df_persoon['persoon_mail_regio_oost_vlaanderen'] == 1]\n",
    "# df_persoon = df_persoon[df_persoon['persoon_reden_van_status'] == 'Actief']\n",
    "\n",
    "# for col in df_persoon.columns:\n",
    "#     if col.__contains__('persoon_mail_regio'):\n",
    "#         df_persoon.drop(col, axis=1, inplace=True)\n",
    "\n",
    "# df_persoon.drop(['persoon_persoonsnr_', 'persoon_web_login', 'persoon_reden_van_status'], axis=1, inplace=True)\n",
    "\n",
    "# df_persoon.shape"
   ]
  },
  {
   "cell_type": "markdown",
   "metadata": {},
   "source": [
    "### Account_contact mergen met persoon"
   ]
  },
  {
   "cell_type": "code",
   "execution_count": 7,
   "metadata": {},
   "outputs": [],
   "source": [
    "# df_account_contact_persoon = df_account_contact.merge(df_persoon, left_on='contact_persoon_id', right_on='persoon_persoon_id', how='left')\n",
    "# df_account_contact_persoon.drop(['contact_persoon_id'], axis=1, inplace=True)\n",
    "# df_account_contact_persoon.shape"
   ]
  },
  {
   "cell_type": "code",
   "execution_count": 8,
   "metadata": {},
   "outputs": [],
   "source": [
    "# df_account_contact_persoon.info()"
   ]
  },
  {
   "cell_type": "markdown",
   "metadata": {},
   "source": [
    "##### Persoon niet meer gebruiken -> maar 4374 non-null"
   ]
  },
  {
   "cell_type": "code",
   "execution_count": 9,
   "metadata": {},
   "outputs": [],
   "source": [
    "df_account_contact.drop(['contact_persoon_id'], axis=1, inplace=True)"
   ]
  },
  {
   "cell_type": "markdown",
   "metadata": {},
   "source": [
    "### Account_contact mergen met contactfunctie en functie"
   ]
  },
  {
   "cell_type": "code",
   "execution_count": 10,
   "metadata": {},
   "outputs": [
    {
     "data": {
      "text/plain": [
       "Index(['contactfunctie_contactpersoon', 'contactfunctie_functie'], dtype='object')"
      ]
     },
     "execution_count": 10,
     "metadata": {},
     "output_type": "execute_result"
    }
   ],
   "source": [
    "df_contact_functie = pd.read_csv('../data_clean/Contact_functie_fixed.csv')\n",
    "df_contact_functie.columns"
   ]
  },
  {
   "cell_type": "code",
   "execution_count": 11,
   "metadata": {},
   "outputs": [
    {
     "data": {
      "text/plain": [
       "Index(['functie_functie_id', 'functie_naam'], dtype='object')"
      ]
     },
     "execution_count": 11,
     "metadata": {},
     "output_type": "execute_result"
    }
   ],
   "source": [
    "df_functie = pd.read_csv('../data_clean/Functie_fixed.csv')\n",
    "df_functie.columns"
   ]
  },
  {
   "cell_type": "markdown",
   "metadata": {},
   "source": [
    "Merge contact functie"
   ]
  },
  {
   "cell_type": "code",
   "execution_count": 12,
   "metadata": {},
   "outputs": [
    {
     "data": {
      "text/plain": [
       "(90938, 6)"
      ]
     },
     "execution_count": 12,
     "metadata": {},
     "output_type": "execute_result"
    }
   ],
   "source": [
    "df_account_contact = df_account_contact.merge(df_contact_functie, left_on='contact_contactpersoon_id', right_on='contactfunctie_contactpersoon', how='inner')\n",
    "df_account_contact.drop(['contactfunctie_contactpersoon'], axis=1, inplace=True)\n",
    "df_account_contact.shape"
   ]
  },
  {
   "cell_type": "markdown",
   "metadata": {},
   "source": [
    "Merge met functie"
   ]
  },
  {
   "cell_type": "code",
   "execution_count": 13,
   "metadata": {},
   "outputs": [
    {
     "data": {
      "text/plain": [
       "(90938, 6)"
      ]
     },
     "execution_count": 13,
     "metadata": {},
     "output_type": "execute_result"
    }
   ],
   "source": [
    "df_account_contact = df_account_contact.merge(df_functie, left_on='contactfunctie_functie', right_on='functie_functie_id', how='inner')\n",
    "df_account_contact.drop(['contactfunctie_functie', 'functie_functie_id'], axis=1, inplace=True)\n",
    "df_account_contact.shape"
   ]
  },
  {
   "cell_type": "markdown",
   "metadata": {},
   "source": [
    "##### Functie naam kan verschillend zijn voor hetzelfde contact, dus die mergen we"
   ]
  },
  {
   "cell_type": "code",
   "execution_count": 14,
   "metadata": {},
   "outputs": [
    {
     "data": {
      "text/plain": [
       "(67225, 6)"
      ]
     },
     "execution_count": 14,
     "metadata": {},
     "output_type": "execute_result"
    }
   ],
   "source": [
    "# Define a custom aggregation function to merge 'functie_naam'\n",
    "def merge_functie_naam(series):\n",
    "    return ', '.join(series)\n",
    "\n",
    "# Group by 'account_account_id' and 'contact_contactpersoon_id' and merge 'functie_naam'\n",
    "df_account_contact = df_account_contact.groupby(\n",
    "    ['account_account_id', 'contact_contactpersoon_id'], \n",
    "    as_index=False).agg({'functie_naam': merge_functie_naam, \n",
    "                         **{col: 'first' for col in df_account_contact.columns if col != 'functie_naam'}})\n",
    "\n",
    "df_account_contact.shape"
   ]
  },
  {
   "cell_type": "markdown",
   "metadata": {},
   "source": [
    "### Account_contact mergen met account_activiteitscode en activiteitscode"
   ]
  },
  {
   "cell_type": "code",
   "execution_count": 15,
   "metadata": {},
   "outputs": [
    {
     "name": "stdout",
     "output_type": "stream",
     "text": [
      "(14673, 3)\n"
     ]
    },
    {
     "data": {
      "text/plain": [
       "Index(['account_activiteitscode_account',\n",
       "       'account_activiteitscode_activiteitscode',\n",
       "       'account_activiteitscode_inf_account_inf_activiteitscodeid'],\n",
       "      dtype='object')"
      ]
     },
     "execution_count": 15,
     "metadata": {},
     "output_type": "execute_result"
    }
   ],
   "source": [
    "df_account_activiteitscode = pd.read_csv('../data_clean/Account_activiteitscode_fixed.csv')\n",
    "print(df_account_activiteitscode.shape)\n",
    "df_account_activiteitscode.columns"
   ]
  },
  {
   "cell_type": "code",
   "execution_count": 16,
   "metadata": {},
   "outputs": [
    {
     "name": "stdout",
     "output_type": "stream",
     "text": [
      "(40, 3)\n"
     ]
    },
    {
     "data": {
      "text/plain": [
       "Index(['activiteitscode_naam', 'activiteitscode_activiteitscode_id',\n",
       "       'activiteitscode_status'],\n",
       "      dtype='object')"
      ]
     },
     "execution_count": 16,
     "metadata": {},
     "output_type": "execute_result"
    }
   ],
   "source": [
    "df_activiteitscode = pd.read_csv('../data_clean/Activiteitscode_fixed.csv')\n",
    "print(df_activiteitscode.shape)\n",
    "df_activiteitscode.columns"
   ]
  },
  {
   "cell_type": "markdown",
   "metadata": {},
   "source": [
    "account_activiteitscode mergen met activiteitscode"
   ]
  },
  {
   "cell_type": "code",
   "execution_count": 17,
   "metadata": {},
   "outputs": [
    {
     "data": {
      "text/plain": [
       "(14665, 2)"
      ]
     },
     "execution_count": 17,
     "metadata": {},
     "output_type": "execute_result"
    }
   ],
   "source": [
    "df_activiteit = df_account_activiteitscode.merge(df_activiteitscode, left_on='account_activiteitscode_activiteitscode', right_on='activiteitscode_activiteitscode_id', how='inner')\n",
    "df_activiteit = df_activiteit[df_activiteit['activiteitscode_status'] == 'Actief']\n",
    "df_activiteit.drop(['account_activiteitscode_activiteitscode', 'activiteitscode_activiteitscode_id', 'activiteitscode_status', 'account_activiteitscode_inf_account_inf_activiteitscodeid'], axis=1, inplace=True)\n",
    "df_activiteit.shape"
   ]
  },
  {
   "cell_type": "markdown",
   "metadata": {},
   "source": [
    "activiteitscode naam combineren waar account niet uniek is"
   ]
  },
  {
   "cell_type": "code",
   "execution_count": 18,
   "metadata": {},
   "outputs": [
    {
     "name": "stdout",
     "output_type": "stream",
     "text": [
      "(13408, 2)\n"
     ]
    },
    {
     "data": {
      "text/html": [
       "<div>\n",
       "<style scoped>\n",
       "    .dataframe tbody tr th:only-of-type {\n",
       "        vertical-align: middle;\n",
       "    }\n",
       "\n",
       "    .dataframe tbody tr th {\n",
       "        vertical-align: top;\n",
       "    }\n",
       "\n",
       "    .dataframe thead th {\n",
       "        text-align: right;\n",
       "    }\n",
       "</style>\n",
       "<table border=\"1\" class=\"dataframe\">\n",
       "  <thead>\n",
       "    <tr style=\"text-align: right;\">\n",
       "      <th></th>\n",
       "      <th>activiteitscode_naam</th>\n",
       "      <th>account_activiteitscode_account</th>\n",
       "    </tr>\n",
       "  </thead>\n",
       "  <tbody>\n",
       "    <tr>\n",
       "      <th>0</th>\n",
       "      <td>Overige industrie &amp; diensten</td>\n",
       "      <td>00002DAC-0A69-E111-B43A-00505680000A</td>\n",
       "    </tr>\n",
       "    <tr>\n",
       "      <th>1</th>\n",
       "      <td>Consultancy</td>\n",
       "      <td>00068436-F919-E211-9DAA-005056B06EB4</td>\n",
       "    </tr>\n",
       "    <tr>\n",
       "      <th>2</th>\n",
       "      <td>Technologische industrie &amp; diensten</td>\n",
       "      <td>0009A6E6-2369-E111-B43A-00505680000A</td>\n",
       "    </tr>\n",
       "    <tr>\n",
       "      <th>3</th>\n",
       "      <td>Voeding</td>\n",
       "      <td>000D39CF-BE68-E111-B43A-00505680000A</td>\n",
       "    </tr>\n",
       "    <tr>\n",
       "      <th>4</th>\n",
       "      <td>Overige industrie &amp; diensten</td>\n",
       "      <td>0016CAE8-BD68-E111-B43A-00505680000A</td>\n",
       "    </tr>\n",
       "  </tbody>\n",
       "</table>\n",
       "</div>"
      ],
      "text/plain": [
       "                  activiteitscode_naam       account_activiteitscode_account\n",
       "0         Overige industrie & diensten  00002DAC-0A69-E111-B43A-00505680000A\n",
       "1                          Consultancy  00068436-F919-E211-9DAA-005056B06EB4\n",
       "2  Technologische industrie & diensten  0009A6E6-2369-E111-B43A-00505680000A\n",
       "3                              Voeding  000D39CF-BE68-E111-B43A-00505680000A\n",
       "4         Overige industrie & diensten  0016CAE8-BD68-E111-B43A-00505680000A"
      ]
     },
     "execution_count": 18,
     "metadata": {},
     "output_type": "execute_result"
    }
   ],
   "source": [
    "# where account_activiteitscode_account is not unique, combine the activiteitscode_naam\n",
    "def merge_activiteitscode_naam(series):\n",
    "    return ', '.join(series)\n",
    "\n",
    "df_activiteit = df_activiteit.groupby(\n",
    "    ['account_activiteitscode_account'], \n",
    "    as_index=False).agg({'activiteitscode_naam': merge_activiteitscode_naam, \n",
    "                         **{col: 'first' for col in df_activiteit.columns if col != 'activiteitscode_naam'}})\n",
    "\n",
    "print(df_activiteit.shape)\n",
    "\n",
    "df_activiteit.head()"
   ]
  },
  {
   "cell_type": "markdown",
   "metadata": {},
   "source": [
    "mergen met account_contact"
   ]
  },
  {
   "cell_type": "code",
   "execution_count": 19,
   "metadata": {},
   "outputs": [
    {
     "data": {
      "text/plain": [
       "(67225, 7)"
      ]
     },
     "execution_count": 19,
     "metadata": {},
     "output_type": "execute_result"
    }
   ],
   "source": [
    "df_account_contact = df_account_contact.merge(df_activiteit, left_on='account_account_id', right_on='account_activiteitscode_account', how='left')\n",
    "df_account_contact.drop(['account_activiteitscode_account'], axis=1, inplace=True)\n",
    "df_account_contact.shape"
   ]
  },
  {
   "cell_type": "markdown",
   "metadata": {},
   "source": [
    "#####  Maar 16160 vd 67225 activiteitscodes zijn non-null"
   ]
  },
  {
   "cell_type": "code",
   "execution_count": 20,
   "metadata": {},
   "outputs": [
    {
     "name": "stdout",
     "output_type": "stream",
     "text": [
      "<class 'pandas.core.frame.DataFrame'>\n",
      "RangeIndex: 67225 entries, 0 to 67224\n",
      "Data columns (total 7 columns):\n",
      " #   Column                     Non-Null Count  Dtype \n",
      "---  ------                     --------------  ----- \n",
      " 0   functie_naam               67225 non-null  object\n",
      " 1   account_account_id         67225 non-null  object\n",
      " 2   account_adres              67225 non-null  object\n",
      " 3   account_onderneming        67225 non-null  object\n",
      " 4   contact_contactpersoon_id  67225 non-null  object\n",
      " 5   contact_functietitel       67225 non-null  object\n",
      " 6   activiteitscode_naam       16160 non-null  object\n",
      "dtypes: object(7)\n",
      "memory usage: 3.6+ MB\n"
     ]
    }
   ],
   "source": [
    "df_account_contact.info()"
   ]
  },
  {
   "cell_type": "markdown",
   "metadata": {},
   "source": [
    "### Account financiele data mergen met account_contact"
   ]
  },
  {
   "cell_type": "code",
   "execution_count": 21,
   "metadata": {},
   "outputs": [
    {
     "name": "stdout",
     "output_type": "stream",
     "text": [
      "(2030180, 3)\n"
     ]
    },
    {
     "data": {
      "text/plain": [
       "Index(['financieledata_ondernemingid', 'financieledata_boekjaar',\n",
       "       'financieledata_toegevoegde_waarde'],\n",
       "      dtype='object')"
      ]
     },
     "execution_count": 21,
     "metadata": {},
     "output_type": "execute_result"
    }
   ],
   "source": [
    "df_account_financieel = pd.read_csv('../data_clean/Account_financiële_data_fixed.csv', sep=',')\n",
    "df_account_financieel.drop(['financieledata_gewijzigd_op', 'financieledata_fte', 'financieledata_aantal_maanden'], axis=1, inplace=True)\n",
    "df_account_financieel['financieledata_toegevoegde_waarde'] = df_account_financieel['financieledata_toegevoegde_waarde'].astype(str)\n",
    "\n",
    "print(df_account_financieel.shape)\n",
    "df_account_financieel.columns"
   ]
  },
  {
   "cell_type": "code",
   "execution_count": 22,
   "metadata": {},
   "outputs": [
    {
     "data": {
      "text/html": [
       "<div>\n",
       "<style scoped>\n",
       "    .dataframe tbody tr th:only-of-type {\n",
       "        vertical-align: middle;\n",
       "    }\n",
       "\n",
       "    .dataframe tbody tr th {\n",
       "        vertical-align: top;\n",
       "    }\n",
       "\n",
       "    .dataframe thead th {\n",
       "        text-align: right;\n",
       "    }\n",
       "</style>\n",
       "<table border=\"1\" class=\"dataframe\">\n",
       "  <thead>\n",
       "    <tr style=\"text-align: right;\">\n",
       "      <th></th>\n",
       "      <th>financieledata_ondernemingid</th>\n",
       "      <th>financieledata_boekjaar</th>\n",
       "      <th>financieledata_toegevoegde_waarde</th>\n",
       "    </tr>\n",
       "  </thead>\n",
       "  <tbody>\n",
       "    <tr>\n",
       "      <th>0</th>\n",
       "      <td>00002DAC-0A69-E111-B43A-00505680000A</td>\n",
       "      <td>2007</td>\n",
       "      <td>unknown</td>\n",
       "    </tr>\n",
       "    <tr>\n",
       "      <th>1</th>\n",
       "      <td>00002DAC-0A69-E111-B43A-00505680000A</td>\n",
       "      <td>2008</td>\n",
       "      <td>unknown</td>\n",
       "    </tr>\n",
       "    <tr>\n",
       "      <th>2</th>\n",
       "      <td>00002DAC-0A69-E111-B43A-00505680000A</td>\n",
       "      <td>2009</td>\n",
       "      <td>unknown</td>\n",
       "    </tr>\n",
       "    <tr>\n",
       "      <th>3</th>\n",
       "      <td>00002DAC-0A69-E111-B43A-00505680000A</td>\n",
       "      <td>2010</td>\n",
       "      <td>unknown</td>\n",
       "    </tr>\n",
       "    <tr>\n",
       "      <th>4</th>\n",
       "      <td>00002DAC-0A69-E111-B43A-00505680000A</td>\n",
       "      <td>2011</td>\n",
       "      <td>unknown</td>\n",
       "    </tr>\n",
       "    <tr>\n",
       "      <th>5</th>\n",
       "      <td>00002DAC-0A69-E111-B43A-00505680000A</td>\n",
       "      <td>2012</td>\n",
       "      <td>unknown</td>\n",
       "    </tr>\n",
       "    <tr>\n",
       "      <th>6</th>\n",
       "      <td>00002DAC-0A69-E111-B43A-00505680000A</td>\n",
       "      <td>2013</td>\n",
       "      <td>69164</td>\n",
       "    </tr>\n",
       "    <tr>\n",
       "      <th>7</th>\n",
       "      <td>00002DAC-0A69-E111-B43A-00505680000A</td>\n",
       "      <td>2014</td>\n",
       "      <td>46718</td>\n",
       "    </tr>\n",
       "    <tr>\n",
       "      <th>8</th>\n",
       "      <td>00002DAC-0A69-E111-B43A-00505680000A</td>\n",
       "      <td>2015</td>\n",
       "      <td>23551</td>\n",
       "    </tr>\n",
       "    <tr>\n",
       "      <th>9</th>\n",
       "      <td>00002DAC-0A69-E111-B43A-00505680000A</td>\n",
       "      <td>2016</td>\n",
       "      <td>65481</td>\n",
       "    </tr>\n",
       "  </tbody>\n",
       "</table>\n",
       "</div>"
      ],
      "text/plain": [
       "           financieledata_ondernemingid  financieledata_boekjaar   \n",
       "0  00002DAC-0A69-E111-B43A-00505680000A                     2007  \\\n",
       "1  00002DAC-0A69-E111-B43A-00505680000A                     2008   \n",
       "2  00002DAC-0A69-E111-B43A-00505680000A                     2009   \n",
       "3  00002DAC-0A69-E111-B43A-00505680000A                     2010   \n",
       "4  00002DAC-0A69-E111-B43A-00505680000A                     2011   \n",
       "5  00002DAC-0A69-E111-B43A-00505680000A                     2012   \n",
       "6  00002DAC-0A69-E111-B43A-00505680000A                     2013   \n",
       "7  00002DAC-0A69-E111-B43A-00505680000A                     2014   \n",
       "8  00002DAC-0A69-E111-B43A-00505680000A                     2015   \n",
       "9  00002DAC-0A69-E111-B43A-00505680000A                     2016   \n",
       "\n",
       "  financieledata_toegevoegde_waarde  \n",
       "0                           unknown  \n",
       "1                           unknown  \n",
       "2                           unknown  \n",
       "3                           unknown  \n",
       "4                           unknown  \n",
       "5                           unknown  \n",
       "6                             69164  \n",
       "7                             46718  \n",
       "8                             23551  \n",
       "9                             65481  "
      ]
     },
     "execution_count": 22,
     "metadata": {},
     "output_type": "execute_result"
    }
   ],
   "source": [
    "df_account_financieel.head(10)"
   ]
  },
  {
   "cell_type": "code",
   "execution_count": 23,
   "metadata": {},
   "outputs": [
    {
     "data": {
      "text/plain": [
       "(687078, 9)"
      ]
     },
     "execution_count": 23,
     "metadata": {},
     "output_type": "execute_result"
    }
   ],
   "source": [
    "df_account_contact_finance = df_account_contact.merge(df_account_financieel, left_on='account_account_id', right_on='financieledata_ondernemingid', how='left')\n",
    "df_account_contact_finance.drop(['financieledata_ondernemingid'], axis=1, inplace=True)\n",
    "df_account_contact_finance.shape"
   ]
  },
  {
   "cell_type": "code",
   "execution_count": 24,
   "metadata": {},
   "outputs": [
    {
     "name": "stdout",
     "output_type": "stream",
     "text": [
      "<class 'pandas.core.frame.DataFrame'>\n",
      "RangeIndex: 687078 entries, 0 to 687077\n",
      "Data columns (total 9 columns):\n",
      " #   Column                             Non-Null Count   Dtype  \n",
      "---  ------                             --------------   -----  \n",
      " 0   functie_naam                       687078 non-null  object \n",
      " 1   account_account_id                 687078 non-null  object \n",
      " 2   account_adres                      687078 non-null  object \n",
      " 3   account_onderneming                687078 non-null  object \n",
      " 4   contact_contactpersoon_id          687078 non-null  object \n",
      " 5   contact_functietitel               687078 non-null  object \n",
      " 6   activiteitscode_naam               237628 non-null  object \n",
      " 7   financieledata_boekjaar            670924 non-null  float64\n",
      " 8   financieledata_toegevoegde_waarde  670924 non-null  object \n",
      "dtypes: float64(1), object(8)\n",
      "memory usage: 47.2+ MB\n"
     ]
    }
   ],
   "source": [
    "df_account_contact_finance.info()"
   ]
  },
  {
   "cell_type": "code",
   "execution_count": 25,
   "metadata": {},
   "outputs": [],
   "source": [
    "# turn financieledata_toegevoegde_waarde into a numeric value\n",
    "df_account_contact_finance['financieledata_toegevoegde_waarde'] = df_account_contact_finance['financieledata_toegevoegde_waarde'].str.replace(',', '.')\n",
    "df_account_contact_finance['financieledata_toegevoegde_waarde'] = df_account_contact_finance['financieledata_toegevoegde_waarde'].str.replace('unknown', '0')\n",
    "df_account_contact_finance['financieledata_toegevoegde_waarde'] = df_account_contact_finance['financieledata_toegevoegde_waarde'].astype(float)"
   ]
  },
  {
   "cell_type": "markdown",
   "metadata": {},
   "source": [
    "##### De financieel toegevoegde waarde optellen per account en de boekjaren hun range gebruiken (vb 2007 - 2022 => 15 jaar)"
   ]
  },
  {
   "cell_type": "code",
   "execution_count": 26,
   "metadata": {},
   "outputs": [],
   "source": [
    "# group by 'account_account_id' and 'contact_contactpersoon_id' and merge 'financieledata_toegevoegde_waarde' by sum and 'financieledata_boekjaar' by max - min\n",
    "df_account_contact_finance = df_account_contact_finance.groupby(\n",
    "    ['account_account_id', 'contact_contactpersoon_id'], \n",
    "    as_index=False).agg({'financieledata_toegevoegde_waarde': 'sum', \n",
    "                         'financieledata_boekjaar': lambda x: x.max() - x.min(), \n",
    "                         **{col: 'first' for col in df_account_contact_finance.columns if col not in ['financieledata_toegevoegde_waarde', 'financieledata_boekjaar']}})\n",
    "\n",
    "df_account_contact_finance.rename(columns={'financieledata_boekjaar': 'financieledata_boekjaar_range'}, inplace=True)"
   ]
  },
  {
   "cell_type": "code",
   "execution_count": 27,
   "metadata": {},
   "outputs": [
    {
     "data": {
      "text/plain": [
       "(67225, 9)"
      ]
     },
     "execution_count": 27,
     "metadata": {},
     "output_type": "execute_result"
    }
   ],
   "source": [
    "df_account_contact_finance.shape"
   ]
  },
  {
   "cell_type": "markdown",
   "metadata": {},
   "source": [
    "##### Alle niet meer benodigde dataframes verwijderen"
   ]
  },
  {
   "cell_type": "code",
   "execution_count": 28,
   "metadata": {},
   "outputs": [],
   "source": [
    "try:\n",
    "    del df_account\n",
    "    del df_contact\n",
    "    del df_contact_functie\n",
    "    del df_functie\n",
    "    del df_account_financieel\n",
    "    del df_account_contact\n",
    "except:\n",
    "    print('already deleted or non-existent')"
   ]
  },
  {
   "cell_type": "markdown",
   "metadata": {},
   "source": [
    "### Afspraken cleanen en mergen"
   ]
  },
  {
   "cell_type": "code",
   "execution_count": 29,
   "metadata": {},
   "outputs": [
    {
     "name": "stdout",
     "output_type": "stream",
     "text": [
      "(2934, 7)\n",
      "['afspraak_account_gelinkt_afspraak_id', 'afspraak_account_gelinkt_thema', 'afspraak_account_gelinkt_subthema', 'afspraak_account_gelinkt_onderwerp', 'afspraak_account_gelinkt_eindtijd', 'afspraak_account_gelinkt_account', 'afspraak_account_gelinkt_keyphrases']\n"
     ]
    }
   ],
   "source": [
    "df_afspraak_acc_gelinkt = pd.read_csv('../data_clean/Afspraak_account_gelinkt_cleaned_fixed.csv', sep=',')\n",
    "print(df_afspraak_acc_gelinkt.shape)\n",
    "print(list(df_afspraak_acc_gelinkt.columns))\n",
    "df_afspraak_acc_gelinkt.drop(['afspraak_account_gelinkt_account'], axis=1, inplace=True) "
   ]
  },
  {
   "cell_type": "code",
   "execution_count": 30,
   "metadata": {},
   "outputs": [
    {
     "name": "stdout",
     "output_type": "stream",
     "text": [
      "(4876, 7)\n",
      "['afspraak_betreft_account_afspraak_id', 'afspraak_betreft_account_thema', 'afspraak_betreft_account_subthema', 'afspraak_betreft_account_onderwerp', 'afspraak_betreft_account_betreft_id', 'afspraak_betreft_account_eindtijd', 'afspraak_betreft_account_keyphrases']\n"
     ]
    }
   ],
   "source": [
    "df_afspraak_betreft_acc = pd.read_csv('../data_clean/Afspraak_betreft_account_cleaned_fixed.csv', sep=',')\n",
    "print(df_afspraak_betreft_acc.shape)\n",
    "print(list(df_afspraak_betreft_acc.columns))\n",
    "df_afspraak_betreft_acc.drop(['afspraak_betreft_account_betreft_id'], axis=1, inplace=True)"
   ]
  },
  {
   "cell_type": "code",
   "execution_count": 31,
   "metadata": {},
   "outputs": [
    {
     "name": "stdout",
     "output_type": "stream",
     "text": [
      "(2552, 7)\n",
      "['afspraak_betreft_contactfiche_afspraak_id', 'afspraak_betreft_contactfiche_thema', 'afspraak_betreft_contactfiche_subthema', 'afspraak_betreft_contactfiche_onderwerp', 'afspraak_betreft_contactfiche_betreft_id', 'afspraak_betreft_contactfiche_eindtijd', 'afspraak_betreft_contactfiche_keyphrases']\n"
     ]
    }
   ],
   "source": [
    "df_afspraak_betreft_contact = pd.read_csv('../data_clean/Afspraak_betreft_contact_cleaned_fixed.csv', sep=',')\n",
    "print(df_afspraak_betreft_contact.shape)\n",
    "print(list(df_afspraak_betreft_contact.columns))\n",
    "df_afspraak_betreft_contact.drop(['afspraak_betreft_contactfiche_betreft_id'], axis=1, inplace=True)"
   ]
  },
  {
   "cell_type": "markdown",
   "metadata": {},
   "source": [
    "##### Kolomnamen hernoemen en afspraakt_betreft toevoegen (betreft account = 1, betreft contact = 0)"
   ]
  },
  {
   "cell_type": "code",
   "execution_count": 32,
   "metadata": {},
   "outputs": [],
   "source": [
    "df_afspraak_acc_gelinkt.columns = ['afspraak_afspraak_id', 'afspraak_thema', 'afspraak_subthema', 'afspraak_onderwerp', 'afspraak_eindtijd', 'afspraak_keyphrases']\n",
    "df_afspraak_betreft_acc.columns = ['afspraak_afspraak_id', 'afspraak_thema', 'afspraak_subthema', 'afspraak_onderwerp', 'afspraak_eindtijd', 'afspraak_keyphrases']\n",
    "df_afspraak_betreft_contact.columns = ['afspraak_afspraak_id', 'afspraak_thema', 'afspraak_subthema', 'afspraak_onderwerp', 'afspraak_eindtijd', 'afspraak_keyphrases']\n",
    "\n",
    "df_afspraak_betreft_acc[\"afspraak_betreft\"] = 1\n",
    "df_afspraak_acc_gelinkt[\"afspraak_betreft\"] = 1\n",
    "df_afspraak_betreft_contact[\"afspraak_betreft\"] = 0"
   ]
  },
  {
   "cell_type": "code",
   "execution_count": 33,
   "metadata": {},
   "outputs": [
    {
     "data": {
      "text/plain": [
       "(2934,)"
      ]
     },
     "execution_count": 33,
     "metadata": {},
     "output_type": "execute_result"
    }
   ],
   "source": [
    "acc_gelinkt_id_list = df_afspraak_acc_gelinkt['afspraak_afspraak_id'].unique()\n",
    "acc_gelinkt_id_list.shape"
   ]
  },
  {
   "cell_type": "markdown",
   "metadata": {},
   "source": [
    "##### Afspraken mergen en al cleanen"
   ]
  },
  {
   "cell_type": "code",
   "execution_count": 34,
   "metadata": {},
   "outputs": [
    {
     "name": "stdout",
     "output_type": "stream",
     "text": [
      "(9685, 7)\n",
      "['afspraak_afspraak_id', 'afspraak_thema', 'afspraak_subthema', 'afspraak_onderwerp', 'afspraak_eindtijd', 'afspraak_keyphrases', 'afspraak_betreft']\n"
     ]
    }
   ],
   "source": [
    "df_afspraken = pd.concat([df_afspraak_betreft_acc, df_afspraak_acc_gelinkt, df_afspraak_betreft_contact], ignore_index=True)\n",
    "df_afspraken.drop_duplicates(inplace=True)\n",
    "print(df_afspraken.shape)\n",
    "print(list(df_afspraken.columns))"
   ]
  },
  {
   "cell_type": "code",
   "execution_count": 35,
   "metadata": {},
   "outputs": [
    {
     "name": "stdout",
     "output_type": "stream",
     "text": [
      "(8265, 1)\n",
      "['afspraak_alle_afspraak_id']\n"
     ]
    },
    {
     "data": {
      "text/plain": [
       "8265"
      ]
     },
     "execution_count": 35,
     "metadata": {},
     "output_type": "execute_result"
    }
   ],
   "source": [
    "df_afspraak_alle = pd.read_csv('../data_clean/Afspraak_alle_fixed.csv', sep=',')\n",
    "print(df_afspraak_alle.shape)\n",
    "print(list(df_afspraak_alle.columns))\n",
    "df_afspraak_alle['afspraak_alle_afspraak_id'].nunique()"
   ]
  },
  {
   "cell_type": "code",
   "execution_count": 36,
   "metadata": {},
   "outputs": [
    {
     "name": "stdout",
     "output_type": "stream",
     "text": [
      "(9678, 5)\n",
      "Index(['afspraak_afspraak_id', 'afspraak_thema', 'afspraak_onderwerp',\n",
      "       'afspraak_keyphrases', 'afspraak_betreft'],\n",
      "      dtype='object')\n"
     ]
    }
   ],
   "source": [
    "df_afspraken = df_afspraken.merge(df_afspraak_alle, left_on='afspraak_afspraak_id', right_on='afspraak_alle_afspraak_id', how='inner')\n",
    "\n",
    "df_afspraken['afspraak_thema'] = df_afspraken['afspraak_subthema'].str.replace('\\(', '', regex=True)\n",
    "df_afspraken['afspraak_thema'] = df_afspraken['afspraak_thema'].str.replace('\\)', '', regex=True)\n",
    "\n",
    "df_afspraken['afspraak_onderwerp'] = df_afspraken['afspraak_onderwerp'].str.lower().str.capitalize()\n",
    "df_afspraken['afspraak_onderwerp'] = df_afspraken['afspraak_onderwerp'].str.replace(' ', '-')\n",
    "df_afspraken['afspraak_onderwerp'] = df_afspraken['afspraak_onderwerp'].astype(str)\n",
    "\n",
    "df_afspraken.drop(['afspraak_alle_afspraak_id', 'afspraak_eindtijd', 'afspraak_subthema'], axis=1, inplace=True)\n",
    "\n",
    "df_afspraken.drop_duplicates(inplace=True)\n",
    "\n",
    "print(df_afspraken.shape)\n",
    "print(df_afspraken.columns)"
   ]
  },
  {
   "cell_type": "code",
   "execution_count": 37,
   "metadata": {},
   "outputs": [
    {
     "data": {
      "text/plain": [
       "7624"
      ]
     },
     "execution_count": 37,
     "metadata": {},
     "output_type": "execute_result"
    }
   ],
   "source": [
    "df_afspraken['afspraak_afspraak_id'].nunique()"
   ]
  },
  {
   "cell_type": "markdown",
   "metadata": {},
   "source": [
    "##### Waar afspraak_betreft 0 en 1 is maken we er 2 van"
   ]
  },
  {
   "cell_type": "code",
   "execution_count": 38,
   "metadata": {},
   "outputs": [
    {
     "data": {
      "text/plain": [
       "(7624, 5)"
      ]
     },
     "execution_count": 38,
     "metadata": {},
     "output_type": "execute_result"
    }
   ],
   "source": [
    "# show rows where afspraak_afspraak_id is not unique\n",
    "list_to_change_afspraak_betreft_to_2 = df_afspraken[df_afspraken['afspraak_afspraak_id'].duplicated(keep=False)]['afspraak_afspraak_id'].unique()\n",
    "\n",
    "# for every afspraak_afspraak_id that is not unique, change afspraak_betreft to 2\n",
    "for afspraak_id in list_to_change_afspraak_betreft_to_2:\n",
    "    df_afspraken.loc[df_afspraken['afspraak_afspraak_id'] == afspraak_id, 'afspraak_betreft'] = 2\n",
    "\n",
    "df_afspraken.drop_duplicates(inplace=True)\n",
    "df_afspraken.shape"
   ]
  },
  {
   "cell_type": "markdown",
   "metadata": {},
   "source": [
    "##### Acc_gelinkt = 1 anders 0 -> adhv acc_gelinkt_id_list"
   ]
  },
  {
   "cell_type": "code",
   "execution_count": 39,
   "metadata": {},
   "outputs": [],
   "source": [
    "for afspraak_id in acc_gelinkt_id_list:\n",
    "    df_afspraken.loc[df_afspraken['afspraak_afspraak_id'] == afspraak_id, 'afspraak_account_gelinkt'] = 1\n",
    "\n",
    "df_afspraken['afspraak_account_gelinkt'].fillna(0, inplace=True)"
   ]
  },
  {
   "cell_type": "code",
   "execution_count": 40,
   "metadata": {},
   "outputs": [
    {
     "name": "stdout",
     "output_type": "stream",
     "text": [
      "<class 'pandas.core.frame.DataFrame'>\n",
      "Index: 7624 entries, 0 to 9684\n",
      "Data columns (total 6 columns):\n",
      " #   Column                    Non-Null Count  Dtype  \n",
      "---  ------                    --------------  -----  \n",
      " 0   afspraak_afspraak_id      7624 non-null   object \n",
      " 1   afspraak_thema            7624 non-null   object \n",
      " 2   afspraak_onderwerp        7624 non-null   object \n",
      " 3   afspraak_keyphrases       7624 non-null   object \n",
      " 4   afspraak_betreft          7624 non-null   int64  \n",
      " 5   afspraak_account_gelinkt  7624 non-null   float64\n",
      "dtypes: float64(1), int64(1), object(4)\n",
      "memory usage: 416.9+ KB\n"
     ]
    }
   ],
   "source": [
    "df_afspraken.info()"
   ]
  },
  {
   "cell_type": "markdown",
   "metadata": {},
   "source": [
    "##### Nu nog mergen met activiteit_vereist_contact"
   ]
  },
  {
   "cell_type": "code",
   "execution_count": 41,
   "metadata": {},
   "outputs": [
    {
     "name": "stdout",
     "output_type": "stream",
     "text": [
      "(4635, 2)\n",
      "['activiteitvereistcontact_activityid_id', 'activiteitvereistcontact_reqattendee']\n"
     ]
    },
    {
     "data": {
      "text/plain": [
       "3042"
      ]
     },
     "execution_count": 41,
     "metadata": {},
     "output_type": "execute_result"
    }
   ],
   "source": [
    "df_activiteit_vereist_contact = pd.read_csv('../data_clean/Activiteit_vereist_contact_fixed.csv', sep=',')\n",
    "print(df_activiteit_vereist_contact.shape)\n",
    "print(list(df_activiteit_vereist_contact.columns))\n",
    "df_activiteit_vereist_contact['activiteitvereistcontact_reqattendee'].nunique()"
   ]
  },
  {
   "cell_type": "code",
   "execution_count": 42,
   "metadata": {},
   "outputs": [
    {
     "data": {
      "text/plain": [
       "(4545, 6)"
      ]
     },
     "execution_count": 42,
     "metadata": {},
     "output_type": "execute_result"
    }
   ],
   "source": [
    "df_afspraken_total = df_afspraken.merge(df_activiteit_vereist_contact, left_on='afspraak_afspraak_id', right_on='activiteitvereistcontact_activityid_id', how='inner')\n",
    "df_afspraken_total.drop(['activiteitvereistcontact_activityid_id', 'afspraak_afspraak_id'], axis=1, inplace=True)\n",
    "df_afspraken_total.shape"
   ]
  },
  {
   "cell_type": "code",
   "execution_count": 43,
   "metadata": {},
   "outputs": [
    {
     "data": {
      "text/plain": [
       "afspraak_thema                          0\n",
       "afspraak_onderwerp                      0\n",
       "afspraak_keyphrases                     0\n",
       "afspraak_betreft                        0\n",
       "afspraak_account_gelinkt                0\n",
       "activiteitvereistcontact_reqattendee    0\n",
       "dtype: int64"
      ]
     },
     "execution_count": 43,
     "metadata": {},
     "output_type": "execute_result"
    }
   ],
   "source": [
    "df_afspraken_total.isna().sum()"
   ]
  },
  {
   "cell_type": "code",
   "execution_count": 44,
   "metadata": {},
   "outputs": [
    {
     "data": {
      "text/html": [
       "<div>\n",
       "<style scoped>\n",
       "    .dataframe tbody tr th:only-of-type {\n",
       "        vertical-align: middle;\n",
       "    }\n",
       "\n",
       "    .dataframe tbody tr th {\n",
       "        vertical-align: top;\n",
       "    }\n",
       "\n",
       "    .dataframe thead th {\n",
       "        text-align: right;\n",
       "    }\n",
       "</style>\n",
       "<table border=\"1\" class=\"dataframe\">\n",
       "  <thead>\n",
       "    <tr style=\"text-align: right;\">\n",
       "      <th></th>\n",
       "      <th>afspraak_thema</th>\n",
       "      <th>afspraak_onderwerp</th>\n",
       "      <th>afspraak_keyphrases</th>\n",
       "      <th>afspraak_betreft</th>\n",
       "      <th>afspraak_account_gelinkt</th>\n",
       "      <th>activiteitvereistcontact_reqattendee</th>\n",
       "    </tr>\n",
       "  </thead>\n",
       "  <tbody>\n",
       "    <tr>\n",
       "      <th>0</th>\n",
       "      <td>Retentie Lidmaatschap</td>\n",
       "      <td>Ov-ledenbezoek-2020</td>\n",
       "      <td>china en india , india en china , verschillend...</td>\n",
       "      <td>1</td>\n",
       "      <td>0.0</td>\n",
       "      <td>8E214B8E-F6B8-E911-8104-001DD8B72B62</td>\n",
       "    </tr>\n",
       "    <tr>\n",
       "      <th>1</th>\n",
       "      <td>Retentie Lidmaatschap</td>\n",
       "      <td>Ov-klantenbezoek-2018</td>\n",
       "      <td>zoek , schap</td>\n",
       "      <td>1</td>\n",
       "      <td>0.0</td>\n",
       "      <td>C3B119F3-8502-E911-80F9-001DD8B72B61</td>\n",
       "    </tr>\n",
       "    <tr>\n",
       "      <th>2</th>\n",
       "      <td>Retentie Lidmaatschap</td>\n",
       "      <td>Ov-ledenbezoek-2020</td>\n",
       "      <td>dominique de waele , essentiële sector , gedee...</td>\n",
       "      <td>1</td>\n",
       "      <td>0.0</td>\n",
       "      <td>0CC2FFFC-C56A-E111-B43A-00505680000A</td>\n",
       "    </tr>\n",
       "    <tr>\n",
       "      <th>3</th>\n",
       "      <td>Retentie Lidmaatschap</td>\n",
       "      <td>Ov-ledenbezoek-2020</td>\n",
       "      <td>andere thema ’s , jan dumont , innovatief bedr...</td>\n",
       "      <td>1</td>\n",
       "      <td>0.0</td>\n",
       "      <td>316D6097-E3A8-E711-80EC-001DD8B72B62</td>\n",
       "    </tr>\n",
       "    <tr>\n",
       "      <th>4</th>\n",
       "      <td>Retentie Lidmaatschap</td>\n",
       "      <td>Ov-telefoon-2020</td>\n",
       "      <td>verschillende industriën , verschillende werkg...</td>\n",
       "      <td>1</td>\n",
       "      <td>0.0</td>\n",
       "      <td>1DCF0AC3-D273-E111-B43A-00505680000A</td>\n",
       "    </tr>\n",
       "  </tbody>\n",
       "</table>\n",
       "</div>"
      ],
      "text/plain": [
       "          afspraak_thema     afspraak_onderwerp   \n",
       "0  Retentie Lidmaatschap    Ov-ledenbezoek-2020  \\\n",
       "1  Retentie Lidmaatschap  Ov-klantenbezoek-2018   \n",
       "2  Retentie Lidmaatschap    Ov-ledenbezoek-2020   \n",
       "3  Retentie Lidmaatschap    Ov-ledenbezoek-2020   \n",
       "4  Retentie Lidmaatschap       Ov-telefoon-2020   \n",
       "\n",
       "                                 afspraak_keyphrases  afspraak_betreft   \n",
       "0  china en india , india en china , verschillend...                 1  \\\n",
       "1                                       zoek , schap                 1   \n",
       "2  dominique de waele , essentiële sector , gedee...                 1   \n",
       "3  andere thema ’s , jan dumont , innovatief bedr...                 1   \n",
       "4  verschillende industriën , verschillende werkg...                 1   \n",
       "\n",
       "   afspraak_account_gelinkt  activiteitvereistcontact_reqattendee  \n",
       "0                       0.0  8E214B8E-F6B8-E911-8104-001DD8B72B62  \n",
       "1                       0.0  C3B119F3-8502-E911-80F9-001DD8B72B61  \n",
       "2                       0.0  0CC2FFFC-C56A-E111-B43A-00505680000A  \n",
       "3                       0.0  316D6097-E3A8-E711-80EC-001DD8B72B62  \n",
       "4                       0.0  1DCF0AC3-D273-E111-B43A-00505680000A  "
      ]
     },
     "execution_count": 44,
     "metadata": {},
     "output_type": "execute_result"
    }
   ],
   "source": [
    "df_afspraken_total.head()"
   ]
  },
  {
   "cell_type": "code",
   "execution_count": 45,
   "metadata": {},
   "outputs": [
    {
     "data": {
      "text/plain": [
       "(4545, 6)"
      ]
     },
     "execution_count": 45,
     "metadata": {},
     "output_type": "execute_result"
    }
   ],
   "source": [
    "df_afspraken_total.shape"
   ]
  },
  {
   "cell_type": "markdown",
   "metadata": {},
   "source": [
    "Alle niet benodigde dataframes verwijderen"
   ]
  },
  {
   "cell_type": "code",
   "execution_count": 46,
   "metadata": {},
   "outputs": [],
   "source": [
    "try:\n",
    "    del df_afspraak_acc_gelinkt\n",
    "    del df_afspraak_betreft_acc\n",
    "    del df_afspraak_betreft_contact\n",
    "    del df_afspraak_alle\n",
    "    del df_afspraken\n",
    "    del df_activiteit_vereist_contact\n",
    "except:\n",
    "    print('already deleted or non-existent')"
   ]
  },
  {
   "cell_type": "markdown",
   "metadata": {},
   "source": [
    "### Account en Afspraken mergen"
   ]
  },
  {
   "cell_type": "code",
   "execution_count": 47,
   "metadata": {},
   "outputs": [
    {
     "data": {
      "text/plain": [
       "(68618, 13)"
      ]
     },
     "execution_count": 47,
     "metadata": {},
     "output_type": "execute_result"
    }
   ],
   "source": [
    "acc_afs_merged = df_account_contact_finance.merge(df_afspraken_total, left_on=['contact_contactpersoon_id'], right_on=['activiteitvereistcontact_reqattendee'], how='left')\n",
    "acc_afs_merged.drop(['activiteitvereistcontact_reqattendee', 'account_account_id'], axis=1, inplace=True)\n",
    "acc_afs_merged.shape"
   ]
  },
  {
   "cell_type": "markdown",
   "metadata": {},
   "source": [
    "NaN opvullen"
   ]
  },
  {
   "cell_type": "code",
   "execution_count": 48,
   "metadata": {},
   "outputs": [],
   "source": [
    "acc_afs_merged['financieledata_boekjaar_range'].fillna(0, inplace=True)\n",
    "acc_afs_merged['afspraak_betreft'].fillna(-1, inplace=True)\n",
    "acc_afs_merged['afspraak_account_gelinkt'].fillna(-1, inplace=True)"
   ]
  },
  {
   "cell_type": "code",
   "execution_count": 49,
   "metadata": {},
   "outputs": [],
   "source": [
    "acc_afs_merged['activiteitscode_naam'].fillna('unknown', inplace=True)\n",
    "acc_afs_merged['afspraak_thema'].fillna('unknown', inplace=True)\n",
    "acc_afs_merged['afspraak_onderwerp'].fillna('unknown', inplace=True)\n",
    "acc_afs_merged['afspraak_keyphrases'].fillna('unknown', inplace=True)"
   ]
  },
  {
   "cell_type": "markdown",
   "metadata": {},
   "source": [
    "Alle string columns van Afspraak samenvoegen"
   ]
  },
  {
   "cell_type": "code",
   "execution_count": 50,
   "metadata": {},
   "outputs": [],
   "source": [
    "# combine 'afspraak_thema', 'afspraak_onderwerp', 'afspraak_keyphrases' into one column\n",
    "acc_afs_merged['afspraak_thema'] = acc_afs_merged['afspraak_thema'].astype(str)\n",
    "acc_afs_merged['afspraak_onderwerp'] = acc_afs_merged['afspraak_onderwerp'].astype(str)\n",
    "acc_afs_merged['afspraak_keyphrases'] = acc_afs_merged['afspraak_keyphrases'].astype(str)\n",
    "\n",
    "replacement_dict = {'\\(': '', '\\)': '', '\\'': '', '\\\"': '', '\\[': '', '\\]': ''}\n",
    "\n",
    "acc_afs_merged['afspraak_keyphrases'] = acc_afs_merged['afspraak_keyphrases'].replace(replacement_dict, regex=True)"
   ]
  },
  {
   "cell_type": "code",
   "execution_count": 51,
   "metadata": {},
   "outputs": [],
   "source": [
    "acc_afs_merged['afspraak_keyphrases'] = acc_afs_merged['afspraak_thema'] + ', ' + acc_afs_merged['afspraak_onderwerp'] + ', ' + acc_afs_merged['afspraak_keyphrases']\n",
    "acc_afs_merged['afspraak_keyphrases'] = acc_afs_merged['afspraak_keyphrases'].str.replace('unknown, ', '')\n",
    "acc_afs_merged['afspraak_keyphrases'] = acc_afs_merged['afspraak_keyphrases'].str.replace(', unknown', '')\n",
    "acc_afs_merged.drop(['afspraak_thema', 'afspraak_onderwerp'], axis=1, inplace=True)"
   ]
  },
  {
   "cell_type": "code",
   "execution_count": 52,
   "metadata": {},
   "outputs": [
    {
     "data": {
      "text/plain": [
       "(68611, 11)"
      ]
     },
     "execution_count": 52,
     "metadata": {},
     "output_type": "execute_result"
    }
   ],
   "source": [
    "acc_afs_merged.drop_duplicates(inplace=True)\n",
    "acc_afs_merged.shape"
   ]
  },
  {
   "cell_type": "markdown",
   "metadata": {},
   "source": [
    "Alle string columns van Account en contact samenvoegen"
   ]
  },
  {
   "cell_type": "code",
   "execution_count": 53,
   "metadata": {},
   "outputs": [],
   "source": [
    "acc_afs_merged['account_onderneming'] = acc_afs_merged['account_onderneming'].astype(str)\n",
    "acc_afs_merged['account_adres'] = acc_afs_merged['account_adres'].astype(str)\n",
    "acc_afs_merged['activiteitscode_naam'] = acc_afs_merged['activiteitscode_naam'].astype(str)\n",
    "acc_afs_merged['contact_functietitel'] = acc_afs_merged['contact_functietitel'].astype(str)\n",
    "acc_afs_merged['functie_naam'] = acc_afs_merged['functie_naam'].astype(str)\n",
    "acc_afs_merged['financieledata_toegevoegde_waarde'] = acc_afs_merged['financieledata_toegevoegde_waarde'].astype(str)\n",
    "acc_afs_merged['financieledata_boekjaar_range'] = acc_afs_merged['financieledata_boekjaar_range'].astype(str)\n",
    "\n",
    "acc_afs_merged['account_keyphrases'] = acc_afs_merged['account_onderneming'] + ', ' + acc_afs_merged['account_adres'] + ', ' \\\n",
    "            + acc_afs_merged['activiteitscode_naam'] + ', ' + acc_afs_merged['contact_functietitel'] + ', ' \\\n",
    "            + acc_afs_merged['functie_naam'] + ', financiel toegevoegde waarde ' + acc_afs_merged['financieledata_toegevoegde_waarde'] + ' over ' \\\n",
    "            + acc_afs_merged['financieledata_boekjaar_range'] + ' jaar'\n",
    "\n",
    "acc_afs_merged['account_keyphrases'] = acc_afs_merged['account_keyphrases'].str.replace('unknown, ', '')\n",
    "acc_afs_merged['account_keyphrases'] = acc_afs_merged['account_keyphrases'].str.replace(', unknown', '')\n",
    "\n",
    "acc_afs_merged.drop(['account_onderneming', 'account_adres', 'activiteitscode_naam', 'contact_functietitel', 'functie_naam'\n",
    "                     , 'financieledata_toegevoegde_waarde', 'financieledata_boekjaar_range'], axis=1, inplace=True)"
   ]
  },
  {
   "cell_type": "code",
   "execution_count": 54,
   "metadata": {},
   "outputs": [
    {
     "data": {
      "text/html": [
       "<div>\n",
       "<style scoped>\n",
       "    .dataframe tbody tr th:only-of-type {\n",
       "        vertical-align: middle;\n",
       "    }\n",
       "\n",
       "    .dataframe tbody tr th {\n",
       "        vertical-align: top;\n",
       "    }\n",
       "\n",
       "    .dataframe thead th {\n",
       "        text-align: right;\n",
       "    }\n",
       "</style>\n",
       "<table border=\"1\" class=\"dataframe\">\n",
       "  <thead>\n",
       "    <tr style=\"text-align: right;\">\n",
       "      <th></th>\n",
       "      <th>contact_contactpersoon_id</th>\n",
       "      <th>afspraak_keyphrases</th>\n",
       "      <th>afspraak_betreft</th>\n",
       "      <th>afspraak_account_gelinkt</th>\n",
       "      <th>account_keyphrases</th>\n",
       "    </tr>\n",
       "  </thead>\n",
       "  <tbody>\n",
       "    <tr>\n",
       "      <th>0</th>\n",
       "      <td>0A9D6946-EB72-E111-B43A-00505680000A</td>\n",
       "      <td>unknown</td>\n",
       "      <td>-1.0</td>\n",
       "      <td>-1.0</td>\n",
       "      <td>Bedrijf, diensten, overige industrie &amp; dienste...</td>\n",
       "    </tr>\n",
       "    <tr>\n",
       "      <th>1</th>\n",
       "      <td>986BE2D1-B113-EB11-8114-001DD8B72B61</td>\n",
       "      <td>unknown</td>\n",
       "      <td>-1.0</td>\n",
       "      <td>-1.0</td>\n",
       "      <td>Bedrijf, ,, Bazel 9150 Waasland Oost-vlaandere...</td>\n",
       "    </tr>\n",
       "    <tr>\n",
       "      <th>2</th>\n",
       "      <td>D9303EA2-57E5-EB11-8121-001DD8B72B61</td>\n",
       "      <td>unknown</td>\n",
       "      <td>-1.0</td>\n",
       "      <td>-1.0</td>\n",
       "      <td>Familiebedrijf, diensten, vastgoed, Melle 9090...</td>\n",
       "    </tr>\n",
       "    <tr>\n",
       "      <th>3</th>\n",
       "      <td>FF015050-8D55-EB11-8117-001DD8B72B61</td>\n",
       "      <td>unknown</td>\n",
       "      <td>-1.0</td>\n",
       "      <td>-1.0</td>\n",
       "      <td>Familiebedrijf, diensten, vastgoed, Melle 9090...</td>\n",
       "    </tr>\n",
       "    <tr>\n",
       "      <th>4</th>\n",
       "      <td>FF0A3AF6-0D42-E611-80D6-005056B06EC4</td>\n",
       "      <td>unknown</td>\n",
       "      <td>-1.0</td>\n",
       "      <td>-1.0</td>\n",
       "      <td>Bedrijf, diensten, bouw, Maarke-kerkem 9680 Ou...</td>\n",
       "    </tr>\n",
       "  </tbody>\n",
       "</table>\n",
       "</div>"
      ],
      "text/plain": [
       "              contact_contactpersoon_id afspraak_keyphrases  afspraak_betreft   \n",
       "0  0A9D6946-EB72-E111-B43A-00505680000A             unknown              -1.0  \\\n",
       "1  986BE2D1-B113-EB11-8114-001DD8B72B61             unknown              -1.0   \n",
       "2  D9303EA2-57E5-EB11-8121-001DD8B72B61             unknown              -1.0   \n",
       "3  FF015050-8D55-EB11-8117-001DD8B72B61             unknown              -1.0   \n",
       "4  FF0A3AF6-0D42-E611-80D6-005056B06EC4             unknown              -1.0   \n",
       "\n",
       "   afspraak_account_gelinkt                                 account_keyphrases  \n",
       "0                      -1.0  Bedrijf, diensten, overige industrie & dienste...  \n",
       "1                      -1.0  Bedrijf, ,, Bazel 9150 Waasland Oost-vlaandere...  \n",
       "2                      -1.0  Familiebedrijf, diensten, vastgoed, Melle 9090...  \n",
       "3                      -1.0  Familiebedrijf, diensten, vastgoed, Melle 9090...  \n",
       "4                      -1.0  Bedrijf, diensten, bouw, Maarke-kerkem 9680 Ou...  "
      ]
     },
     "execution_count": 54,
     "metadata": {},
     "output_type": "execute_result"
    }
   ],
   "source": [
    "acc_afs_merged.head()"
   ]
  },
  {
   "cell_type": "code",
   "execution_count": 55,
   "metadata": {},
   "outputs": [
    {
     "data": {
      "text/plain": [
       "(68611, 5)"
      ]
     },
     "execution_count": 55,
     "metadata": {},
     "output_type": "execute_result"
    }
   ],
   "source": [
    "acc_afs_merged.shape"
   ]
  },
  {
   "cell_type": "markdown",
   "metadata": {},
   "source": [
    "Alle niet benodigde dataframes verwijderen"
   ]
  },
  {
   "cell_type": "code",
   "execution_count": 56,
   "metadata": {},
   "outputs": [],
   "source": [
    "try:\n",
    "    del df_account_contact_finance\n",
    "    del df_afspraken_total\n",
    "except:\n",
    "    print('already deleted or non-existent')"
   ]
  },
  {
   "cell_type": "markdown",
   "metadata": {},
   "source": [
    "### Campagne cleanen en mergen"
   ]
  },
  {
   "cell_type": "code",
   "execution_count": 87,
   "metadata": {},
   "outputs": [
    {
     "name": "stdout",
     "output_type": "stream",
     "text": [
      "(4092, 2)\n",
      "Index(['campagne_campagne_id', 'campagne_keyphrases'], dtype='object')\n"
     ]
    }
   ],
   "source": [
    "df_campagne = pd.read_csv('../data_clean/Campagne_fixed.csv', sep=',')\n",
    "df_campagne.drop(['campagne_einddatum', 'campagne_startdatum', 'campagne_campagne_nr', \n",
    "                  'campagne_naam_in_email', 'campagne_reden_van_status', 'campagne_status',\n",
    "                  'campagne_url_voka_be'], axis=1, inplace=True)\n",
    "\n",
    "df_campagne['campagne_keyphrases'] = df_campagne['campagne_soort_campagne'] + ', ' + df_campagne['campagne_type_campagne'] + ', ' \\\n",
    "            + df_campagne['campagne_naam']\n",
    "\n",
    "df_campagne['campagne_keyphrases'] = df_campagne['campagne_keyphrases'].str.replace('unknown, ', '')\n",
    "df_campagne['campagne_keyphrases'] = df_campagne['campagne_keyphrases'].str.replace(', unknown', '')\n",
    "\n",
    "df_campagne.drop(['campagne_soort_campagne', 'campagne_type_campagne', 'campagne_naam'], axis=1, inplace=True)\n",
    "\n",
    "print(df_campagne.shape)\n",
    "print(df_campagne.columns)"
   ]
  },
  {
   "cell_type": "code",
   "execution_count": 100,
   "metadata": {},
   "outputs": [
    {
     "data": {
      "text/html": [
       "<div>\n",
       "<style scoped>\n",
       "    .dataframe tbody tr th:only-of-type {\n",
       "        vertical-align: middle;\n",
       "    }\n",
       "\n",
       "    .dataframe tbody tr th {\n",
       "        vertical-align: top;\n",
       "    }\n",
       "\n",
       "    .dataframe thead th {\n",
       "        text-align: right;\n",
       "    }\n",
       "</style>\n",
       "<table border=\"1\" class=\"dataframe\">\n",
       "  <thead>\n",
       "    <tr style=\"text-align: right;\">\n",
       "      <th></th>\n",
       "      <th>campagne_campagne_id</th>\n",
       "      <th>campagne_keyphrases</th>\n",
       "    </tr>\n",
       "  </thead>\n",
       "  <tbody>\n",
       "    <tr>\n",
       "      <th>0</th>\n",
       "      <td>0012F1CF-7E18-E811-80EF-001DD8B72B61</td>\n",
       "      <td>Offline, Opleiding, OV-Vind het juiste talent ...</td>\n",
       "    </tr>\n",
       "    <tr>\n",
       "      <th>1</th>\n",
       "      <td>00175112-65FE-E111-8D2C-984BE17C47FB</td>\n",
       "      <td>Offline, Netwerkevenement, OV-NW- Voka Vista D...</td>\n",
       "    </tr>\n",
       "    <tr>\n",
       "      <th>2</th>\n",
       "      <td>001B42E8-76F8-E411-ABE8-005056B06EB4</td>\n",
       "      <td>Offline, Netwerkevenement, OV-IO-Economische m...</td>\n",
       "    </tr>\n",
       "    <tr>\n",
       "      <th>3</th>\n",
       "      <td>002B50B9-36D9-E911-8105-001DD8B72B61</td>\n",
       "      <td>Offline, Netwerkevenement, OV-NW-Voka Update-A...</td>\n",
       "    </tr>\n",
       "    <tr>\n",
       "      <th>4</th>\n",
       "      <td>00372A75-CEF1-E511-8668-005056B06EC4</td>\n",
       "      <td>Offline, Netwerkevenement, OV-Regioraad Gent e...</td>\n",
       "    </tr>\n",
       "  </tbody>\n",
       "</table>\n",
       "</div>"
      ],
      "text/plain": [
       "                   campagne_campagne_id   \n",
       "0  0012F1CF-7E18-E811-80EF-001DD8B72B61  \\\n",
       "1  00175112-65FE-E111-8D2C-984BE17C47FB   \n",
       "2  001B42E8-76F8-E411-ABE8-005056B06EB4   \n",
       "3  002B50B9-36D9-E911-8105-001DD8B72B61   \n",
       "4  00372A75-CEF1-E511-8668-005056B06EC4   \n",
       "\n",
       "                                 campagne_keyphrases  \n",
       "0  Offline, Opleiding, OV-Vind het juiste talent ...  \n",
       "1  Offline, Netwerkevenement, OV-NW- Voka Vista D...  \n",
       "2  Offline, Netwerkevenement, OV-IO-Economische m...  \n",
       "3  Offline, Netwerkevenement, OV-NW-Voka Update-A...  \n",
       "4  Offline, Netwerkevenement, OV-Regioraad Gent e...  "
      ]
     },
     "execution_count": 100,
     "metadata": {},
     "output_type": "execute_result"
    }
   ],
   "source": [
    "df_campagne.head()"
   ]
  },
  {
   "cell_type": "markdown",
   "metadata": {},
   "source": [
    "### Sessie cleanen"
   ]
  },
  {
   "cell_type": "code",
   "execution_count": 110,
   "metadata": {},
   "outputs": [
    {
     "name": "stdout",
     "output_type": "stream",
     "text": [
      "(9403, 5)\n",
      "Index(['sessie_activiteitstype', 'sessie_campagne', 'sessie_product',\n",
      "       'sessie_sessie_id', 'sessie_thema_naam_'],\n",
      "      dtype='object')\n"
     ]
    }
   ],
   "source": [
    "df_sessie = pd.read_csv('../data_clean/Sessie_fixed.csv', sep=',')\n",
    "df_sessie.drop(['sessie_eind_datum_tijd', 'sessie_sessie_nr_', 'sessie_start_datum_tijd'], axis=1, inplace=True)\n",
    "print(df_sessie.shape)\n",
    "print(df_sessie.columns)"
   ]
  },
  {
   "cell_type": "markdown",
   "metadata": {},
   "source": [
    "### Inschrijving cleanen"
   ]
  },
  {
   "cell_type": "code",
   "execution_count": 111,
   "metadata": {},
   "outputs": [
    {
     "name": "stdout",
     "output_type": "stream",
     "text": [
      "(49175, 6)\n",
      "Index(['inschrijving_aanwezig_afwezig', 'inschrijving_bron',\n",
      "       'inschrijving_contactfiche', 'inschrijving_inschrijving_id',\n",
      "       'inschrijving_facturatie_bedrag', 'inschrijving_campagne'],\n",
      "      dtype='object')\n"
     ]
    }
   ],
   "source": [
    "df_inschrijving = pd.read_csv('../data_clean/Inschrijving_fixed.csv', sep=',')\n",
    "df_inschrijving.drop(['inschrijving_datum_inschrijving', 'inschrijving_campagne_naam_'], axis=1, inplace=True)\n",
    "print(df_inschrijving.shape)\n",
    "print(df_inschrijving.columns)"
   ]
  },
  {
   "cell_type": "markdown",
   "metadata": {},
   "source": [
    "### Sessie_inschrijving cleanen"
   ]
  },
  {
   "cell_type": "code",
   "execution_count": 112,
   "metadata": {},
   "outputs": [
    {
     "name": "stdout",
     "output_type": "stream",
     "text": [
      "(88309, 3)\n",
      "Index(['sessieinschrijving_sessieinschrijving_id', 'sessieinschrijving_sessie',\n",
      "       'sessieinschrijving_inschrijving'],\n",
      "      dtype='object')\n"
     ]
    }
   ],
   "source": [
    "df_sessie_inschrijving = pd.read_csv('../data_clean/Sessie_inschrijving_fixed.csv', sep=',')\n",
    "print(df_sessie_inschrijving.shape)\n",
    "print(df_sessie_inschrijving.columns)"
   ]
  },
  {
   "cell_type": "markdown",
   "metadata": {},
   "source": [
    "### Sessie, Sessie_inschrijving en Inschrijving mergen"
   ]
  },
  {
   "cell_type": "code",
   "execution_count": 120,
   "metadata": {},
   "outputs": [
    {
     "name": "stdout",
     "output_type": "stream",
     "text": [
      "(88309, 7)\n"
     ]
    }
   ],
   "source": [
    "df_sessie_inschrijving_merge = df_sessie_inschrijving.merge(df_sessie, left_on='sessieinschrijving_sessie', right_on='sessie_sessie_id', how='inner')\n",
    "df_sessie_inschrijving_merge.drop(['sessieinschrijving_sessie'], axis=1, inplace=True)\n",
    "print(df_sessie_inschrijving_merge.shape)"
   ]
  },
  {
   "cell_type": "code",
   "execution_count": 121,
   "metadata": {},
   "outputs": [
    {
     "name": "stdout",
     "output_type": "stream",
     "text": [
      "(53222, 9)\n",
      "Index(['sessie_activiteitstype', 'sessie_campagne', 'sessie_product',\n",
      "       'sessie_thema_naam_', 'inschrijving_aanwezig_afwezig',\n",
      "       'inschrijving_bron', 'inschrijving_contactfiche',\n",
      "       'inschrijving_facturatie_bedrag', 'inschrijving_campagne'],\n",
      "      dtype='object')\n"
     ]
    }
   ],
   "source": [
    "df_sessie_inschrijving_merge = df_sessie_inschrijving_merge.merge(df_inschrijving, left_on='sessieinschrijving_inschrijving', right_on='inschrijving_inschrijving_id', how='inner')\n",
    "df_sessie_inschrijving_merge.drop(['sessieinschrijving_inschrijving', 'inschrijving_inschrijving_id', 'sessie_sessie_id', 'sessieinschrijving_sessieinschrijving_id'], axis=1, inplace=True)\n",
    "df_sessie_inschrijving_merge.drop_duplicates(inplace=True)\n",
    "print(df_sessie_inschrijving_merge.shape)\n",
    "print(df_sessie_inschrijving_merge.columns)"
   ]
  },
  {
   "cell_type": "markdown",
   "metadata": {},
   "source": [
    "### Campagne, Sessie, Sessie_inschrijving en Inschrijving mergen"
   ]
  },
  {
   "cell_type": "code",
   "execution_count": 127,
   "metadata": {},
   "outputs": [
    {
     "name": "stdout",
     "output_type": "stream",
     "text": [
      "(53222, 10)\n",
      "Index(['sessie_activiteitstype', 'sessie_campagne', 'sessie_product',\n",
      "       'sessie_thema_naam_', 'inschrijving_aanwezig_afwezig',\n",
      "       'inschrijving_bron', 'inschrijving_contactfiche',\n",
      "       'inschrijving_facturatie_bedrag', 'campagne_campagne_id',\n",
      "       'campagne_keyphrases'],\n",
      "      dtype='object')\n"
     ]
    }
   ],
   "source": [
    "df_camp_inschrijving_merge = df_sessie_inschrijving_merge.merge(df_campagne, left_on='inschrijving_campagne', right_on='campagne_campagne_id', how='inner')\n",
    "df_camp_inschrijving_merge.drop(['inschrijving_campagne'], axis=1, inplace=True)\n",
    "df_camp_inschrijving_merge.drop_duplicates(inplace=True)\n",
    "print(df_camp_inschrijving_merge.shape)\n",
    "print(df_camp_inschrijving_merge.columns)"
   ]
  },
  {
   "cell_type": "code",
   "execution_count": 134,
   "metadata": {},
   "outputs": [
    {
     "data": {
      "text/html": [
       "<div>\n",
       "<style scoped>\n",
       "    .dataframe tbody tr th:only-of-type {\n",
       "        vertical-align: middle;\n",
       "    }\n",
       "\n",
       "    .dataframe tbody tr th {\n",
       "        vertical-align: top;\n",
       "    }\n",
       "\n",
       "    .dataframe thead th {\n",
       "        text-align: right;\n",
       "    }\n",
       "</style>\n",
       "<table border=\"1\" class=\"dataframe\">\n",
       "  <thead>\n",
       "    <tr style=\"text-align: right;\">\n",
       "      <th></th>\n",
       "      <th>sessie_activiteitstype</th>\n",
       "      <th>sessie_campagne</th>\n",
       "      <th>sessie_product</th>\n",
       "      <th>sessie_thema_naam_</th>\n",
       "      <th>inschrijving_aanwezig_afwezig</th>\n",
       "      <th>inschrijving_bron</th>\n",
       "      <th>inschrijving_contactfiche</th>\n",
       "      <th>inschrijving_facturatie_bedrag</th>\n",
       "      <th>campagne_campagne_id</th>\n",
       "      <th>campagne_keyphrases</th>\n",
       "    </tr>\n",
       "  </thead>\n",
       "  <tbody>\n",
       "    <tr>\n",
       "      <th>0</th>\n",
       "      <td>Voka Politica</td>\n",
       "      <td>A57DE97C-460B-E811-80EF-001DD8B72B61</td>\n",
       "      <td>OV-Netwerkactiviteit-Regionaal</td>\n",
       "      <td>Netwerking</td>\n",
       "      <td>Aanwezig</td>\n",
       "      <td>Email</td>\n",
       "      <td>D41C3FC7-A96D-E111-B43A-00505680000A</td>\n",
       "      <td>0</td>\n",
       "      <td>A57DE97C-460B-E811-80EF-001DD8B72B61</td>\n",
       "      <td>Offline, Netwerkevenement, OV - Voka politica ...</td>\n",
       "    </tr>\n",
       "    <tr>\n",
       "      <th>1</th>\n",
       "      <td>Voka Politica</td>\n",
       "      <td>A57DE97C-460B-E811-80EF-001DD8B72B61</td>\n",
       "      <td>OV-Netwerkactiviteit-Regionaal</td>\n",
       "      <td>Netwerking</td>\n",
       "      <td>Aanwezig</td>\n",
       "      <td>Email</td>\n",
       "      <td>83502ED6-C567-E711-80E8-001DD8B72B61</td>\n",
       "      <td>0</td>\n",
       "      <td>A57DE97C-460B-E811-80EF-001DD8B72B61</td>\n",
       "      <td>Offline, Netwerkevenement, OV - Voka politica ...</td>\n",
       "    </tr>\n",
       "    <tr>\n",
       "      <th>2</th>\n",
       "      <td>Voka Politica</td>\n",
       "      <td>A57DE97C-460B-E811-80EF-001DD8B72B61</td>\n",
       "      <td>OV-Netwerkactiviteit-Regionaal</td>\n",
       "      <td>Netwerking</td>\n",
       "      <td>Aanwezig</td>\n",
       "      <td>Email</td>\n",
       "      <td>E2628A18-3836-E711-80E6-001DD8B72B61</td>\n",
       "      <td>0</td>\n",
       "      <td>A57DE97C-460B-E811-80EF-001DD8B72B61</td>\n",
       "      <td>Offline, Netwerkevenement, OV - Voka politica ...</td>\n",
       "    </tr>\n",
       "    <tr>\n",
       "      <th>3</th>\n",
       "      <td>Voka Politica</td>\n",
       "      <td>A57DE97C-460B-E811-80EF-001DD8B72B61</td>\n",
       "      <td>OV-Netwerkactiviteit-Regionaal</td>\n",
       "      <td>Netwerking</td>\n",
       "      <td>Aanwezig</td>\n",
       "      <td>Email</td>\n",
       "      <td>07C159CA-428F-E211-A980-005056B06EB4</td>\n",
       "      <td>0</td>\n",
       "      <td>A57DE97C-460B-E811-80EF-001DD8B72B61</td>\n",
       "      <td>Offline, Netwerkevenement, OV - Voka politica ...</td>\n",
       "    </tr>\n",
       "    <tr>\n",
       "      <th>4</th>\n",
       "      <td>Voka Politica</td>\n",
       "      <td>A57DE97C-460B-E811-80EF-001DD8B72B61</td>\n",
       "      <td>OV-Netwerkactiviteit-Regionaal</td>\n",
       "      <td>Netwerking</td>\n",
       "      <td>Aanwezig</td>\n",
       "      <td>Email</td>\n",
       "      <td>F71D6860-428F-E211-A980-005056B06EB4</td>\n",
       "      <td>0</td>\n",
       "      <td>A57DE97C-460B-E811-80EF-001DD8B72B61</td>\n",
       "      <td>Offline, Netwerkevenement, OV - Voka politica ...</td>\n",
       "    </tr>\n",
       "  </tbody>\n",
       "</table>\n",
       "</div>"
      ],
      "text/plain": [
       "  sessie_activiteitstype                       sessie_campagne   \n",
       "0          Voka Politica  A57DE97C-460B-E811-80EF-001DD8B72B61  \\\n",
       "1          Voka Politica  A57DE97C-460B-E811-80EF-001DD8B72B61   \n",
       "2          Voka Politica  A57DE97C-460B-E811-80EF-001DD8B72B61   \n",
       "3          Voka Politica  A57DE97C-460B-E811-80EF-001DD8B72B61   \n",
       "4          Voka Politica  A57DE97C-460B-E811-80EF-001DD8B72B61   \n",
       "\n",
       "                   sessie_product sessie_thema_naam_   \n",
       "0  OV-Netwerkactiviteit-Regionaal         Netwerking  \\\n",
       "1  OV-Netwerkactiviteit-Regionaal         Netwerking   \n",
       "2  OV-Netwerkactiviteit-Regionaal         Netwerking   \n",
       "3  OV-Netwerkactiviteit-Regionaal         Netwerking   \n",
       "4  OV-Netwerkactiviteit-Regionaal         Netwerking   \n",
       "\n",
       "  inschrijving_aanwezig_afwezig inschrijving_bron   \n",
       "0                      Aanwezig             Email  \\\n",
       "1                      Aanwezig             Email   \n",
       "2                      Aanwezig             Email   \n",
       "3                      Aanwezig             Email   \n",
       "4                      Aanwezig             Email   \n",
       "\n",
       "              inschrijving_contactfiche inschrijving_facturatie_bedrag   \n",
       "0  D41C3FC7-A96D-E111-B43A-00505680000A                              0  \\\n",
       "1  83502ED6-C567-E711-80E8-001DD8B72B61                              0   \n",
       "2  E2628A18-3836-E711-80E6-001DD8B72B61                              0   \n",
       "3  07C159CA-428F-E211-A980-005056B06EB4                              0   \n",
       "4  F71D6860-428F-E211-A980-005056B06EB4                              0   \n",
       "\n",
       "                   campagne_campagne_id   \n",
       "0  A57DE97C-460B-E811-80EF-001DD8B72B61  \\\n",
       "1  A57DE97C-460B-E811-80EF-001DD8B72B61   \n",
       "2  A57DE97C-460B-E811-80EF-001DD8B72B61   \n",
       "3  A57DE97C-460B-E811-80EF-001DD8B72B61   \n",
       "4  A57DE97C-460B-E811-80EF-001DD8B72B61   \n",
       "\n",
       "                                 campagne_keyphrases  \n",
       "0  Offline, Netwerkevenement, OV - Voka politica ...  \n",
       "1  Offline, Netwerkevenement, OV - Voka politica ...  \n",
       "2  Offline, Netwerkevenement, OV - Voka politica ...  \n",
       "3  Offline, Netwerkevenement, OV - Voka politica ...  \n",
       "4  Offline, Netwerkevenement, OV - Voka politica ...  "
      ]
     },
     "execution_count": 134,
     "metadata": {},
     "output_type": "execute_result"
    }
   ],
   "source": [
    "df_camp_inschrijving_merge.head()"
   ]
  },
  {
   "cell_type": "code",
   "execution_count": 133,
   "metadata": {},
   "outputs": [
    {
     "data": {
      "text/plain": [
       "17881"
      ]
     },
     "execution_count": 133,
     "metadata": {},
     "output_type": "execute_result"
    }
   ],
   "source": [
    "df_camp_inschrijving_merge['inschrijving_contactfiche'].nunique()"
   ]
  },
  {
   "cell_type": "markdown",
   "metadata": {},
   "source": [
    "### Account, Afspraak en Campagne mergen"
   ]
  },
  {
   "cell_type": "code",
   "execution_count": 178,
   "metadata": {},
   "outputs": [
    {
     "name": "stdout",
     "output_type": "stream",
     "text": [
      "(53945, 11)\n",
      "Index(['contact_contactpersoon_id', 'afspraak_keyphrases', 'afspraak_betreft',\n",
      "       'afspraak_account_gelinkt', 'account_keyphrases',\n",
      "       'inschrijving_aanwezig_afwezig', 'inschrijving_bron',\n",
      "       'inschrijving_facturatie_bedrag', 'campagne_campagne_id',\n",
      "       'campagne_keyphrases', 'sessie_keyphrases'],\n",
      "      dtype='object')\n"
     ]
    }
   ],
   "source": [
    "df_acc_afs_camp_merge = acc_afs_merged.merge(df_camp_inschrijving_merge, left_on='contact_contactpersoon_id'\n",
    "                                             , right_on='inschrijving_contactfiche', how='left')\n",
    "\n",
    "df_acc_afs_camp_merge.drop(['inschrijving_contactfiche', 'sessie_campagne'], axis=1, inplace=True)\n",
    "\n",
    "# drop rows where campagne_campagne_id is NaN\n",
    "df_acc_afs_camp_merge.dropna(subset=['campagne_campagne_id'], inplace=True)\n",
    "\n",
    "# rows samenvoegen\n",
    "df_acc_afs_camp_merge['inschrijving_aanwezig_afwezig'] = df_acc_afs_camp_merge['inschrijving_aanwezig_afwezig'].astype(str)\n",
    "df_acc_afs_camp_merge['inschrijving_aanwezig_afwezig'] = df_acc_afs_camp_merge['inschrijving_aanwezig_afwezig'].str.replace('Aanwezig', '1')\n",
    "df_acc_afs_camp_merge['inschrijving_aanwezig_afwezig'] = df_acc_afs_camp_merge['inschrijving_aanwezig_afwezig'].str.replace('Afwezig', '0')\n",
    "df_acc_afs_camp_merge['inschrijving_aanwezig_afwezig'] = df_acc_afs_camp_merge['inschrijving_aanwezig_afwezig'].astype(int)\n",
    "\n",
    "df_acc_afs_camp_merge['inschrijving_facturatie_bedrag'] = df_acc_afs_camp_merge['inschrijving_facturatie_bedrag'].astype(str)\n",
    "df_acc_afs_camp_merge['inschrijving_facturatie_bedrag'] = df_acc_afs_camp_merge['inschrijving_facturatie_bedrag'].str.replace(',', '.')\n",
    "df_acc_afs_camp_merge['inschrijving_facturatie_bedrag'] = df_acc_afs_camp_merge['inschrijving_facturatie_bedrag'].astype(float)\n",
    "\n",
    "df_acc_afs_camp_merge['inschrijving_bron'] = df_acc_afs_camp_merge['inschrijving_bron'].astype(str)\n",
    "df_acc_afs_camp_merge['inschrijving_bron'] = df_acc_afs_camp_merge['inschrijving_bron'].str.replace('unknown', '-1')\n",
    "df_acc_afs_camp_merge['inschrijving_bron'] = df_acc_afs_camp_merge['inschrijving_bron'].str.replace('Website', '1')\n",
    "df_acc_afs_camp_merge['inschrijving_bron'] = df_acc_afs_camp_merge['inschrijving_bron'].str.replace('Email', '0')\n",
    "\n",
    "df_acc_afs_camp_merge['sessie_keyphrases'] = df_acc_afs_camp_merge['sessie_activiteitstype'] + ', ' \\\n",
    "            + df_acc_afs_camp_merge['sessie_thema_naam_'] + ', ' \\\n",
    "            + df_acc_afs_camp_merge['sessie_product']\n",
    "df_acc_afs_camp_merge['sessie_keyphrases'] = df_acc_afs_camp_merge['sessie_keyphrases'].str.replace('unknown, ', '')\n",
    "df_acc_afs_camp_merge['sessie_keyphrases'] = df_acc_afs_camp_merge['sessie_keyphrases'].str.replace(', unknown', '')\n",
    "\n",
    "df_acc_afs_camp_merge.drop(['sessie_activiteitstype', 'sessie_thema_naam_', 'sessie_product'], axis=1, inplace=True)\n",
    "\n",
    "print(df_acc_afs_camp_merge.shape)\n",
    "print(df_acc_afs_camp_merge.columns)"
   ]
  },
  {
   "cell_type": "code",
   "execution_count": 179,
   "metadata": {},
   "outputs": [
    {
     "data": {
      "text/html": [
       "<div>\n",
       "<style scoped>\n",
       "    .dataframe tbody tr th:only-of-type {\n",
       "        vertical-align: middle;\n",
       "    }\n",
       "\n",
       "    .dataframe tbody tr th {\n",
       "        vertical-align: top;\n",
       "    }\n",
       "\n",
       "    .dataframe thead th {\n",
       "        text-align: right;\n",
       "    }\n",
       "</style>\n",
       "<table border=\"1\" class=\"dataframe\">\n",
       "  <thead>\n",
       "    <tr style=\"text-align: right;\">\n",
       "      <th></th>\n",
       "      <th>contact_contactpersoon_id</th>\n",
       "      <th>afspraak_keyphrases</th>\n",
       "      <th>afspraak_betreft</th>\n",
       "      <th>afspraak_account_gelinkt</th>\n",
       "      <th>account_keyphrases</th>\n",
       "      <th>inschrijving_aanwezig_afwezig</th>\n",
       "      <th>inschrijving_bron</th>\n",
       "      <th>inschrijving_facturatie_bedrag</th>\n",
       "      <th>campagne_campagne_id</th>\n",
       "      <th>campagne_keyphrases</th>\n",
       "      <th>sessie_keyphrases</th>\n",
       "    </tr>\n",
       "  </thead>\n",
       "  <tbody>\n",
       "    <tr>\n",
       "      <th>2</th>\n",
       "      <td>D9303EA2-57E5-EB11-8121-001DD8B72B61</td>\n",
       "      <td>unknown</td>\n",
       "      <td>-1.0</td>\n",
       "      <td>-1.0</td>\n",
       "      <td>Familiebedrijf, diensten, vastgoed, Melle 9090...</td>\n",
       "      <td>1</td>\n",
       "      <td>1</td>\n",
       "      <td>50.0</td>\n",
       "      <td>F090DEF9-2A5A-EB11-811A-001DD8B72B62</td>\n",
       "      <td>Offline, Netwerkevenement, OV - Kick-Off Commu...</td>\n",
       "      <td>MA Events, Netwerking, OV-Netwerkactiviteit-pr...</td>\n",
       "    </tr>\n",
       "    <tr>\n",
       "      <th>9</th>\n",
       "      <td>451DF235-4B73-E111-B43A-00505680000A</td>\n",
       "      <td>unknown</td>\n",
       "      <td>-1.0</td>\n",
       "      <td>-1.0</td>\n",
       "      <td>Bedrijf, diensten, consultancy, Geraardsbergen...</td>\n",
       "      <td>1</td>\n",
       "      <td>1</td>\n",
       "      <td>0.0</td>\n",
       "      <td>ED956944-5F6F-EA11-8110-001DD8B72B62</td>\n",
       "      <td>Offline, Opleiding, OV-Corona Round Tables - S...</td>\n",
       "      <td>GR Werking, Marketing &amp; Sales, OV-Opleidingen-LLT</td>\n",
       "    </tr>\n",
       "    <tr>\n",
       "      <th>15</th>\n",
       "      <td>10446D11-F363-ED11-9561-6045BD895B5A</td>\n",
       "      <td>Retentie Lidmaatschap, Ov-ledenbezoek-2023,  i...</td>\n",
       "      <td>2.0</td>\n",
       "      <td>1.0</td>\n",
       "      <td>Bedrijf, diensten, milieu, Meilegem 9630 Ouden...</td>\n",
       "      <td>1</td>\n",
       "      <td>1</td>\n",
       "      <td>0.0</td>\n",
       "      <td>317CD023-2B1E-ED11-B83D-000D3AAD783A</td>\n",
       "      <td>Offline, Netwerkevenement, OV-NW-Nieuwjaarsrec...</td>\n",
       "      <td>NW Voka Connect Gent, Netwerking, OV-Netwerkac...</td>\n",
       "    </tr>\n",
       "    <tr>\n",
       "      <th>16</th>\n",
       "      <td>10446D11-F363-ED11-9561-6045BD895B5A</td>\n",
       "      <td>Retentie Lidmaatschap, Ov-ledenbezoek-2023,  i...</td>\n",
       "      <td>2.0</td>\n",
       "      <td>1.0</td>\n",
       "      <td>Bedrijf, diensten, milieu, Meilegem 9630 Ouden...</td>\n",
       "      <td>1</td>\n",
       "      <td>1</td>\n",
       "      <td>0.0</td>\n",
       "      <td>317CD023-2B1E-ED11-B83D-000D3AAD783A</td>\n",
       "      <td>Offline, Netwerkevenement, OV-NW-Nieuwjaarsrec...</td>\n",
       "      <td>JO Events, Jong Voka, OV-Seminarie</td>\n",
       "    </tr>\n",
       "    <tr>\n",
       "      <th>17</th>\n",
       "      <td>10446D11-F363-ED11-9561-6045BD895B5A</td>\n",
       "      <td>Retentie Lidmaatschap, Ov-ledenbezoek-2023,  i...</td>\n",
       "      <td>2.0</td>\n",
       "      <td>1.0</td>\n",
       "      <td>Bedrijf, diensten, milieu, Meilegem 9630 Ouden...</td>\n",
       "      <td>1</td>\n",
       "      <td>0</td>\n",
       "      <td>0.0</td>\n",
       "      <td>604B37A4-C064-ED11-9561-6045BD895B5A</td>\n",
       "      <td>Offline, Netwerkevenement, OV-MATCH-Welkom@Vok...</td>\n",
       "      <td>MA Ledenwerking, Netwerking, OV-Netwerkactivit...</td>\n",
       "    </tr>\n",
       "  </tbody>\n",
       "</table>\n",
       "</div>"
      ],
      "text/plain": [
       "               contact_contactpersoon_id   \n",
       "2   D9303EA2-57E5-EB11-8121-001DD8B72B61  \\\n",
       "9   451DF235-4B73-E111-B43A-00505680000A   \n",
       "15  10446D11-F363-ED11-9561-6045BD895B5A   \n",
       "16  10446D11-F363-ED11-9561-6045BD895B5A   \n",
       "17  10446D11-F363-ED11-9561-6045BD895B5A   \n",
       "\n",
       "                                  afspraak_keyphrases  afspraak_betreft   \n",
       "2                                             unknown              -1.0  \\\n",
       "9                                             unknown              -1.0   \n",
       "15  Retentie Lidmaatschap, Ov-ledenbezoek-2023,  i...               2.0   \n",
       "16  Retentie Lidmaatschap, Ov-ledenbezoek-2023,  i...               2.0   \n",
       "17  Retentie Lidmaatschap, Ov-ledenbezoek-2023,  i...               2.0   \n",
       "\n",
       "    afspraak_account_gelinkt   \n",
       "2                       -1.0  \\\n",
       "9                       -1.0   \n",
       "15                       1.0   \n",
       "16                       1.0   \n",
       "17                       1.0   \n",
       "\n",
       "                                   account_keyphrases   \n",
       "2   Familiebedrijf, diensten, vastgoed, Melle 9090...  \\\n",
       "9   Bedrijf, diensten, consultancy, Geraardsbergen...   \n",
       "15  Bedrijf, diensten, milieu, Meilegem 9630 Ouden...   \n",
       "16  Bedrijf, diensten, milieu, Meilegem 9630 Ouden...   \n",
       "17  Bedrijf, diensten, milieu, Meilegem 9630 Ouden...   \n",
       "\n",
       "    inschrijving_aanwezig_afwezig inschrijving_bron   \n",
       "2                               1                 1  \\\n",
       "9                               1                 1   \n",
       "15                              1                 1   \n",
       "16                              1                 1   \n",
       "17                              1                 0   \n",
       "\n",
       "    inschrijving_facturatie_bedrag                  campagne_campagne_id   \n",
       "2                             50.0  F090DEF9-2A5A-EB11-811A-001DD8B72B62  \\\n",
       "9                              0.0  ED956944-5F6F-EA11-8110-001DD8B72B62   \n",
       "15                             0.0  317CD023-2B1E-ED11-B83D-000D3AAD783A   \n",
       "16                             0.0  317CD023-2B1E-ED11-B83D-000D3AAD783A   \n",
       "17                             0.0  604B37A4-C064-ED11-9561-6045BD895B5A   \n",
       "\n",
       "                                  campagne_keyphrases   \n",
       "2   Offline, Netwerkevenement, OV - Kick-Off Commu...  \\\n",
       "9   Offline, Opleiding, OV-Corona Round Tables - S...   \n",
       "15  Offline, Netwerkevenement, OV-NW-Nieuwjaarsrec...   \n",
       "16  Offline, Netwerkevenement, OV-NW-Nieuwjaarsrec...   \n",
       "17  Offline, Netwerkevenement, OV-MATCH-Welkom@Vok...   \n",
       "\n",
       "                                    sessie_keyphrases  \n",
       "2   MA Events, Netwerking, OV-Netwerkactiviteit-pr...  \n",
       "9   GR Werking, Marketing & Sales, OV-Opleidingen-LLT  \n",
       "15  NW Voka Connect Gent, Netwerking, OV-Netwerkac...  \n",
       "16                 JO Events, Jong Voka, OV-Seminarie  \n",
       "17  MA Ledenwerking, Netwerking, OV-Netwerkactivit...  "
      ]
     },
     "execution_count": 179,
     "metadata": {},
     "output_type": "execute_result"
    }
   ],
   "source": [
    "df_acc_afs_camp_merge.head()"
   ]
  },
  {
   "cell_type": "markdown",
   "metadata": {},
   "source": [
    "verwijder onnodige dataframes"
   ]
  },
  {
   "cell_type": "code",
   "execution_count": 180,
   "metadata": {},
   "outputs": [],
   "source": [
    "try:\n",
    "    del acc_afs_merged\n",
    "    del df_campagne\n",
    "    del df_sessie\n",
    "    del df_inschrijving\n",
    "    del df_sessie_inschrijving\n",
    "    del df_sessie_inschrijving_merge\n",
    "    del df_camp_inschrijving_merge\n",
    "except:\n",
    "    print('already deleted or non-existent')"
   ]
  },
  {
   "cell_type": "markdown",
   "metadata": {},
   "source": [
    "### CDI Pageview, CDI Visit, CDI Mailing en CDI Sentemailclick cleanen en mergen"
   ]
  },
  {
   "cell_type": "code",
   "execution_count": 262,
   "metadata": {},
   "outputs": [
    {
     "name": "stdout",
     "output_type": "stream",
     "text": [
      "(1651, 20)\n",
      "Index(['browser', 'campaign', 'contact', 'duration', 'operatingsystem',\n",
      "       'pageview_id', 'referrertype', 'time', 'pagetitle', 'type', 'url',\n",
      "       'viewedon', 'visit', 'visitorkey', 'webcontent', 'aangemaaktop',\n",
      "       'gewijzigddoor', 'gewijzigdop', 'status', 'redenvanstatus'],\n",
      "      dtype='object')\n"
     ]
    }
   ],
   "source": [
    "df_pageview = pd.read_csv('../data_clean/CDI_pageviews_fixed.csv', sep=',')\n",
    "print(df_pageview.shape)\n",
    "print(df_pageview.columns)"
   ]
  },
  {
   "cell_type": "code",
   "execution_count": 263,
   "metadata": {},
   "outputs": [
    {
     "name": "stdout",
     "output_type": "stream",
     "text": [
      "(24444, 35)\n",
      "['visit_aangemaakt_op', 'visit_adobe_reader', 'visit_bounce', 'visit_browser', 'visit_campagne_code', 'visit_campaign', 'visit_contact', 'visit_contact_naam_', 'visit_containssocialprofile', 'visit_duration', 'visit_email_send', 'visit_ended_on', 'visit_entry_page', 'visit_exit_page', 'visit_first_visit', 'visit_gewijzigd_op', 'visit_ip_address', 'visit_ip_company', 'visit_ip_land', 'visit_ip_latitude', 'visit_ip_longitude', 'visit_ip_organization', 'visit_ip_postcode', 'visit_ip_stad', 'visit_ip_status', 'visit_keywords', 'visit_operating_system', 'visit_referrer', 'visit_referrer_type', 'visit_referring_host', 'visit_score', 'visit_started_on', 'visit_time', 'visit_total_pages', 'visit_visit_id']\n"
     ]
    }
   ],
   "source": [
    "df_visit = pd.read_csv('../data_clean/CDI_visits_fixed.csv', sep=',')\n",
    "print(df_visit.shape)\n",
    "print(sorted(list(df_visit.columns)))"
   ]
  },
  {
   "cell_type": "markdown",
   "metadata": {},
   "source": [
    "##### Visit en Pageview mergen"
   ]
  },
  {
   "cell_type": "code",
   "execution_count": 299,
   "metadata": {},
   "outputs": [
    {
     "name": "stdout",
     "output_type": "stream",
     "text": [
      "(23654, 4)\n",
      "Index(['visit_campaign', 'visit_contact', 'visit_email_send',\n",
      "       'visit_keyphrases'],\n",
      "      dtype='object')\n"
     ]
    }
   ],
   "source": [
    "df_visit_pageview = df_visit.merge(df_pageview, left_on='visit_visit_id', right_on='visit', how='left')\n",
    "df_visit_pageview.drop(['visit', 'visit_ip_postcode', 'visit_aangemaakt_op', 'visit_adobe_reader', 'visit_campagne_code',\n",
    "                        'visit_contact_naam_', 'visit_containssocialprofile', 'visit_ended_on', 'visit_ip_address',\n",
    "                        'visit_ip_organization', 'visit_keywords', 'visit_ip_longitude', 'visit_ip_latitude', 'visit_referrer', \n",
    "                        'visit_score', 'visit_started_on', 'visit_ip_status', 'visit_time', 'visit_visit_id', 'visit_gewijzigd_op',\n",
    "                        'browser', 'campaign', 'contact', 'duration', 'operatingsystem',\n",
    "                        'pageview_id', 'referrertype', 'time', 'pagetitle', 'type', 'url',\n",
    "                        'viewedon', 'visitorkey', 'webcontent', 'aangemaaktop', 'gewijzigddoor',\n",
    "                        'gewijzigdop', 'status', 'redenvanstatus'], axis=1, inplace=True)\n",
    "\n",
    "df_visit_pageview.drop_duplicates(inplace=True)\n",
    "\n",
    "# from visit_entry_page and visit_exit_page, extract the page name until the ?\n",
    "df_visit_pageview['visit_entry_page'] = df_visit_pageview['visit_entry_page'].str.split('?').str[0]\n",
    "df_visit_pageview['visit_exit_page'] = df_visit_pageview['visit_exit_page'].str.split('?').str[0]\n",
    "\n",
    "df_visit_pageview['visit_keyphrases'] = df_visit_pageview['visit_browser'].str.lower() + ', ' + df_visit_pageview['visit_operating_system'].str.lower() + ', ' \\\n",
    "            + df_visit_pageview['visit_ip_stad'] + ', ' \\\n",
    "            + df_visit_pageview['visit_ip_land'] + ', ' + df_visit_pageview['visit_ip_company'] + ', ' \\\n",
    "            + df_visit_pageview['visit_duration'].astype(str) + ', ' + df_visit_pageview['visit_entry_page'] + ', ' \\\n",
    "            + df_visit_pageview['visit_exit_page'] + ', eerste visit ' + df_visit_pageview['visit_first_visit'] \\\n",
    "            + ', aantal pagina\\'s ' \\\n",
    "            + df_visit_pageview['visit_total_pages'].astype(str) + ', referrer host '  \\\n",
    "            + df_visit_pageview['visit_referring_host'].astype(str) + ', ' \\\n",
    "            + 'referrer type ' + df_visit_pageview['visit_referrer_type'].astype(str) + ', visit bounce ' \\\n",
    "            + df_visit_pageview['visit_bounce'].astype(str)\n",
    "\n",
    "df_visit_pageview.drop(['visit_browser', 'visit_operating_system', 'visit_ip_stad', 'visit_ip_land', 'visit_ip_company', 'visit_duration', \n",
    "                        'visit_entry_page', 'visit_exit_page', 'visit_first_visit', 'visit_total_pages', 'visit_referring_host', \n",
    "                        'visit_referrer_type', 'visit_bounce'], axis=1, inplace=True)\n",
    "\n",
    "print(df_visit_pageview.shape)\n",
    "print(df_visit_pageview.columns)"
   ]
  },
  {
   "cell_type": "markdown",
   "metadata": {},
   "source": [
    "##### Mailing en sentemailclick mergen"
   ]
  },
  {
   "cell_type": "code",
   "execution_count": 300,
   "metadata": {},
   "outputs": [
    {
     "name": "stdout",
     "output_type": "stream",
     "text": [
      "(860, 3)\n",
      "Index(['mailing_mailing_id', 'mailing_name', 'mailing_onderwerp'], dtype='object')\n"
     ]
    }
   ],
   "source": [
    "df_mailing = pd.read_csv('../data_clean/CDI_mailing_fixed.csv', sep=',')\n",
    "df_mailing.drop(['mailing_sent_on'], axis=1, inplace=True)\n",
    "df_mailing.drop_duplicates(inplace=True)\n",
    "print(df_mailing.shape)\n",
    "print(df_mailing.columns)"
   ]
  },
  {
   "cell_type": "code",
   "execution_count": 301,
   "metadata": {},
   "outputs": [
    {
     "name": "stdout",
     "output_type": "stream",
     "text": [
      "(4807, 2)\n",
      "Index(['sentemail_kliks_clicks', 'sentemail_kliks_e_mail_versturen'], dtype='object')\n"
     ]
    }
   ],
   "source": [
    "df_click = pd.read_csv('../data_clean/CDI_sent_email_clicks_fixed.csv', sep=',')\n",
    "df_click.drop(['sentemail_kliks_contact', 'sentemail_kliks_sent_email_id'], axis=1, inplace=True)\n",
    "df_click.drop_duplicates(inplace=True)\n",
    "print(df_click.shape)\n",
    "print(df_click.columns)"
   ]
  },
  {
   "cell_type": "code",
   "execution_count": 302,
   "metadata": {},
   "outputs": [
    {
     "name": "stdout",
     "output_type": "stream",
     "text": [
      "(4807, 4)\n",
      "Index(['mailing_mailing_id', 'mailing_name', 'mailing_onderwerp',\n",
      "       'sentemail_kliks_clicks'],\n",
      "      dtype='object')\n"
     ]
    }
   ],
   "source": [
    "df_mailing_merged = df_mailing.merge(df_click, left_on='mailing_mailing_id', right_on='sentemail_kliks_e_mail_versturen', how='inner')\n",
    "df_mailing_merged.drop(['sentemail_kliks_e_mail_versturen'], axis=1, inplace=True)\n",
    "print(df_mailing_merged.shape)\n",
    "print(df_mailing_merged.columns)"
   ]
  },
  {
   "cell_type": "code",
   "execution_count": 303,
   "metadata": {},
   "outputs": [],
   "source": [
    "df_mailing_merged = df_mailing_merged.groupby(['mailing_mailing_id', 'mailing_name', 'mailing_onderwerp'], \n",
    "                          as_index=False).agg({'sentemail_kliks_clicks': 'sum', \n",
    "                                                **{col: 'first' for col in df_mailing_merged.columns if col not in ['sentemail_kliks_clicks']}})"
   ]
  },
  {
   "cell_type": "code",
   "execution_count": 304,
   "metadata": {},
   "outputs": [
    {
     "data": {
      "text/plain": [
       "(762, 4)"
      ]
     },
     "execution_count": 304,
     "metadata": {},
     "output_type": "execute_result"
    }
   ],
   "source": [
    "df_mailing_merged.shape"
   ]
  },
  {
   "cell_type": "markdown",
   "metadata": {},
   "source": [
    "##### pageview_visit en mailing sentemailclick mergen"
   ]
  },
  {
   "cell_type": "code",
   "execution_count": 307,
   "metadata": {},
   "outputs": [
    {
     "name": "stdout",
     "output_type": "stream",
     "text": [
      "(23654, 3)\n",
      "Index(['visit_contact', 'visit_keyphrases', 'mailing_keyphrases'], dtype='object')\n"
     ]
    }
   ],
   "source": [
    "df_pageview_visit_mailing = df_visit_pageview.merge(df_mailing_merged, left_on='visit_email_send', right_on='mailing_mailing_id', how='left')\n",
    "df_pageview_visit_mailing.drop(['visit_email_send', 'mailing_mailing_id', 'visit_campaign'], axis=1, inplace=True)\n",
    "\n",
    "df_pageview_visit_mailing['mailing_keyphrases'] = df_pageview_visit_mailing['mailing_name'] + ', ' + df_pageview_visit_mailing['mailing_onderwerp'] \\\n",
    "            + ', aantal email clicks ' + df_pageview_visit_mailing['sentemail_kliks_clicks'].astype(str)\n",
    "\n",
    "df_pageview_visit_mailing.drop(['mailing_name', 'mailing_onderwerp', 'sentemail_kliks_clicks'], axis=1, inplace=True)\n",
    "\n",
    "print(df_pageview_visit_mailing.shape)\n",
    "print(df_pageview_visit_mailing.columns)"
   ]
  },
  {
   "cell_type": "code",
   "execution_count": 308,
   "metadata": {},
   "outputs": [
    {
     "data": {
      "text/html": [
       "<div>\n",
       "<style scoped>\n",
       "    .dataframe tbody tr th:only-of-type {\n",
       "        vertical-align: middle;\n",
       "    }\n",
       "\n",
       "    .dataframe tbody tr th {\n",
       "        vertical-align: top;\n",
       "    }\n",
       "\n",
       "    .dataframe thead th {\n",
       "        text-align: right;\n",
       "    }\n",
       "</style>\n",
       "<table border=\"1\" class=\"dataframe\">\n",
       "  <thead>\n",
       "    <tr style=\"text-align: right;\">\n",
       "      <th></th>\n",
       "      <th>visit_contact</th>\n",
       "      <th>visit_keyphrases</th>\n",
       "      <th>mailing_keyphrases</th>\n",
       "    </tr>\n",
       "  </thead>\n",
       "  <tbody>\n",
       "    <tr>\n",
       "      <th>0</th>\n",
       "      <td>7DCF89E7-D469-E111-B43A-00505680000A</td>\n",
       "      <td>firefox, windows, Gentbrugge, Belgium, Belgaco...</td>\n",
       "      <td>OV-GR-Overdracht en overname, Vragen rond over...</td>\n",
       "    </tr>\n",
       "    <tr>\n",
       "      <th>1</th>\n",
       "      <td>6913126E-B56A-E111-B43A-00505680000A</td>\n",
       "      <td>safari, mac, Brecht, Belgium, Telenet, 0.0, ht...</td>\n",
       "      <td>OV-nieuwsbrief-160222, Nieuws uit je regio, re...</td>\n",
       "    </tr>\n",
       "    <tr>\n",
       "      <th>2</th>\n",
       "      <td>E14E454F-3B6F-E111-B43A-00505680000A</td>\n",
       "      <td>safari, mac, Hove, Belgium, Telenet, 0.0, http...</td>\n",
       "      <td>OV-20210903-Nieuwsbrief, Bedrijfsnieuws uit je...</td>\n",
       "    </tr>\n",
       "    <tr>\n",
       "      <th>3</th>\n",
       "      <td>7DCF89E7-D469-E111-B43A-00505680000A</td>\n",
       "      <td>firefox, windows, Gentbrugge, Belgium, Belgaco...</td>\n",
       "      <td>OV-NW-Nieuws uit Aalst_Openingsweek Voka Vaart...</td>\n",
       "    </tr>\n",
       "    <tr>\n",
       "      <th>4</th>\n",
       "      <td>D4E2762D-8E10-EC11-8123-001DD8B72B61</td>\n",
       "      <td>android, linux, Amay, Belgium, Telenet Operati...</td>\n",
       "      <td>OV-nieuwsbrief-181022, Nieuws uit je regio, re...</td>\n",
       "    </tr>\n",
       "  </tbody>\n",
       "</table>\n",
       "</div>"
      ],
      "text/plain": [
       "                          visit_contact   \n",
       "0  7DCF89E7-D469-E111-B43A-00505680000A  \\\n",
       "1  6913126E-B56A-E111-B43A-00505680000A   \n",
       "2  E14E454F-3B6F-E111-B43A-00505680000A   \n",
       "3  7DCF89E7-D469-E111-B43A-00505680000A   \n",
       "4  D4E2762D-8E10-EC11-8123-001DD8B72B61   \n",
       "\n",
       "                                    visit_keyphrases   \n",
       "0  firefox, windows, Gentbrugge, Belgium, Belgaco...  \\\n",
       "1  safari, mac, Brecht, Belgium, Telenet, 0.0, ht...   \n",
       "2  safari, mac, Hove, Belgium, Telenet, 0.0, http...   \n",
       "3  firefox, windows, Gentbrugge, Belgium, Belgaco...   \n",
       "4  android, linux, Amay, Belgium, Telenet Operati...   \n",
       "\n",
       "                                  mailing_keyphrases  \n",
       "0  OV-GR-Overdracht en overname, Vragen rond over...  \n",
       "1  OV-nieuwsbrief-160222, Nieuws uit je regio, re...  \n",
       "2  OV-20210903-Nieuwsbrief, Bedrijfsnieuws uit je...  \n",
       "3  OV-NW-Nieuws uit Aalst_Openingsweek Voka Vaart...  \n",
       "4  OV-nieuwsbrief-181022, Nieuws uit je regio, re...  "
      ]
     },
     "execution_count": 308,
     "metadata": {},
     "output_type": "execute_result"
    }
   ],
   "source": [
    "df_pageview_visit_mailing.head()"
   ]
  },
  {
   "cell_type": "markdown",
   "metadata": {},
   "source": [
    "### Total merge"
   ]
  },
  {
   "cell_type": "code",
   "execution_count": 317,
   "metadata": {},
   "outputs": [
    {
     "data": {
      "text/plain": [
       "(250668, 11)"
      ]
     },
     "execution_count": 317,
     "metadata": {},
     "output_type": "execute_result"
    }
   ],
   "source": [
    "df_merged_total = df_acc_afs_camp_merge.merge(df_pageview_visit_mailing, left_on='contact_contactpersoon_id', right_on='visit_contact', how='left')\n",
    "df_merged_total.drop(['visit_contact', 'contact_contactpersoon_id', 'campagne_campagne_id'], axis=1, inplace=True)\n",
    "df_merged_total.fillna('unknown', inplace=True)\n",
    "df_merged_total.shape"
   ]
  },
  {
   "cell_type": "code",
   "execution_count": 318,
   "metadata": {},
   "outputs": [
    {
     "data": {
      "text/html": [
       "<div>\n",
       "<style scoped>\n",
       "    .dataframe tbody tr th:only-of-type {\n",
       "        vertical-align: middle;\n",
       "    }\n",
       "\n",
       "    .dataframe tbody tr th {\n",
       "        vertical-align: top;\n",
       "    }\n",
       "\n",
       "    .dataframe thead th {\n",
       "        text-align: right;\n",
       "    }\n",
       "</style>\n",
       "<table border=\"1\" class=\"dataframe\">\n",
       "  <thead>\n",
       "    <tr style=\"text-align: right;\">\n",
       "      <th></th>\n",
       "      <th>afspraak_keyphrases</th>\n",
       "      <th>afspraak_betreft</th>\n",
       "      <th>afspraak_account_gelinkt</th>\n",
       "      <th>account_keyphrases</th>\n",
       "      <th>inschrijving_aanwezig_afwezig</th>\n",
       "      <th>inschrijving_bron</th>\n",
       "      <th>inschrijving_facturatie_bedrag</th>\n",
       "      <th>campagne_keyphrases</th>\n",
       "      <th>sessie_keyphrases</th>\n",
       "      <th>visit_keyphrases</th>\n",
       "      <th>mailing_keyphrases</th>\n",
       "    </tr>\n",
       "  </thead>\n",
       "  <tbody>\n",
       "    <tr>\n",
       "      <th>0</th>\n",
       "      <td>unknown</td>\n",
       "      <td>-1.0</td>\n",
       "      <td>-1.0</td>\n",
       "      <td>Familiebedrijf, diensten, vastgoed, Melle 9090...</td>\n",
       "      <td>1</td>\n",
       "      <td>1</td>\n",
       "      <td>50.0</td>\n",
       "      <td>Offline, Netwerkevenement, OV - Kick-Off Commu...</td>\n",
       "      <td>MA Events, Netwerking, OV-Netwerkactiviteit-pr...</td>\n",
       "      <td>unknown</td>\n",
       "      <td>unknown</td>\n",
       "    </tr>\n",
       "    <tr>\n",
       "      <th>1</th>\n",
       "      <td>unknown</td>\n",
       "      <td>-1.0</td>\n",
       "      <td>-1.0</td>\n",
       "      <td>Bedrijf, diensten, consultancy, Geraardsbergen...</td>\n",
       "      <td>1</td>\n",
       "      <td>1</td>\n",
       "      <td>0.0</td>\n",
       "      <td>Offline, Opleiding, OV-Corona Round Tables - S...</td>\n",
       "      <td>GR Werking, Marketing &amp; Sales, OV-Opleidingen-LLT</td>\n",
       "      <td>unknown</td>\n",
       "      <td>unknown</td>\n",
       "    </tr>\n",
       "    <tr>\n",
       "      <th>2</th>\n",
       "      <td>Retentie Lidmaatschap, Ov-ledenbezoek-2023,  i...</td>\n",
       "      <td>2.0</td>\n",
       "      <td>1.0</td>\n",
       "      <td>Bedrijf, diensten, milieu, Meilegem 9630 Ouden...</td>\n",
       "      <td>1</td>\n",
       "      <td>1</td>\n",
       "      <td>0.0</td>\n",
       "      <td>Offline, Netwerkevenement, OV-NW-Nieuwjaarsrec...</td>\n",
       "      <td>NW Voka Connect Gent, Netwerking, OV-Netwerkac...</td>\n",
       "      <td>chrome, windows, Ghent, Belgium, PRO, 0.0, htt...</td>\n",
       "      <td>OV-JO-Stamgasten 2023, Uitnodiging Stamgasten ...</td>\n",
       "    </tr>\n",
       "    <tr>\n",
       "      <th>3</th>\n",
       "      <td>Retentie Lidmaatschap, Ov-ledenbezoek-2023,  i...</td>\n",
       "      <td>2.0</td>\n",
       "      <td>1.0</td>\n",
       "      <td>Bedrijf, diensten, milieu, Meilegem 9630 Ouden...</td>\n",
       "      <td>1</td>\n",
       "      <td>1</td>\n",
       "      <td>0.0</td>\n",
       "      <td>Offline, Netwerkevenement, OV-NW-Nieuwjaarsrec...</td>\n",
       "      <td>NW Voka Connect Gent, Netwerking, OV-Netwerkac...</td>\n",
       "      <td>chrome, windows, Ghent, Belgium, Telenet, 0.0,...</td>\n",
       "      <td>OV-NW-Nieuwjaarsreceptie Vlaamse Ardennen - Le...</td>\n",
       "    </tr>\n",
       "    <tr>\n",
       "      <th>4</th>\n",
       "      <td>Retentie Lidmaatschap, Ov-ledenbezoek-2023,  i...</td>\n",
       "      <td>2.0</td>\n",
       "      <td>1.0</td>\n",
       "      <td>Bedrijf, diensten, milieu, Meilegem 9630 Ouden...</td>\n",
       "      <td>1</td>\n",
       "      <td>1</td>\n",
       "      <td>0.0</td>\n",
       "      <td>Offline, Netwerkevenement, OV-NW-Nieuwjaarsrec...</td>\n",
       "      <td>NW Voka Connect Gent, Netwerking, OV-Netwerkac...</td>\n",
       "      <td>chrome, windows, Ghent, Belgium, PRO, 0.0, htt...</td>\n",
       "      <td>OV-nieuwsbrief-09052023, Nieuws van Voka Oost-...</td>\n",
       "    </tr>\n",
       "  </tbody>\n",
       "</table>\n",
       "</div>"
      ],
      "text/plain": [
       "                                 afspraak_keyphrases  afspraak_betreft   \n",
       "0                                            unknown              -1.0  \\\n",
       "1                                            unknown              -1.0   \n",
       "2  Retentie Lidmaatschap, Ov-ledenbezoek-2023,  i...               2.0   \n",
       "3  Retentie Lidmaatschap, Ov-ledenbezoek-2023,  i...               2.0   \n",
       "4  Retentie Lidmaatschap, Ov-ledenbezoek-2023,  i...               2.0   \n",
       "\n",
       "   afspraak_account_gelinkt   \n",
       "0                      -1.0  \\\n",
       "1                      -1.0   \n",
       "2                       1.0   \n",
       "3                       1.0   \n",
       "4                       1.0   \n",
       "\n",
       "                                  account_keyphrases   \n",
       "0  Familiebedrijf, diensten, vastgoed, Melle 9090...  \\\n",
       "1  Bedrijf, diensten, consultancy, Geraardsbergen...   \n",
       "2  Bedrijf, diensten, milieu, Meilegem 9630 Ouden...   \n",
       "3  Bedrijf, diensten, milieu, Meilegem 9630 Ouden...   \n",
       "4  Bedrijf, diensten, milieu, Meilegem 9630 Ouden...   \n",
       "\n",
       "   inschrijving_aanwezig_afwezig inschrijving_bron   \n",
       "0                              1                 1  \\\n",
       "1                              1                 1   \n",
       "2                              1                 1   \n",
       "3                              1                 1   \n",
       "4                              1                 1   \n",
       "\n",
       "   inschrijving_facturatie_bedrag   \n",
       "0                            50.0  \\\n",
       "1                             0.0   \n",
       "2                             0.0   \n",
       "3                             0.0   \n",
       "4                             0.0   \n",
       "\n",
       "                                 campagne_keyphrases   \n",
       "0  Offline, Netwerkevenement, OV - Kick-Off Commu...  \\\n",
       "1  Offline, Opleiding, OV-Corona Round Tables - S...   \n",
       "2  Offline, Netwerkevenement, OV-NW-Nieuwjaarsrec...   \n",
       "3  Offline, Netwerkevenement, OV-NW-Nieuwjaarsrec...   \n",
       "4  Offline, Netwerkevenement, OV-NW-Nieuwjaarsrec...   \n",
       "\n",
       "                                   sessie_keyphrases   \n",
       "0  MA Events, Netwerking, OV-Netwerkactiviteit-pr...  \\\n",
       "1  GR Werking, Marketing & Sales, OV-Opleidingen-LLT   \n",
       "2  NW Voka Connect Gent, Netwerking, OV-Netwerkac...   \n",
       "3  NW Voka Connect Gent, Netwerking, OV-Netwerkac...   \n",
       "4  NW Voka Connect Gent, Netwerking, OV-Netwerkac...   \n",
       "\n",
       "                                    visit_keyphrases   \n",
       "0                                            unknown  \\\n",
       "1                                            unknown   \n",
       "2  chrome, windows, Ghent, Belgium, PRO, 0.0, htt...   \n",
       "3  chrome, windows, Ghent, Belgium, Telenet, 0.0,...   \n",
       "4  chrome, windows, Ghent, Belgium, PRO, 0.0, htt...   \n",
       "\n",
       "                                  mailing_keyphrases  \n",
       "0                                            unknown  \n",
       "1                                            unknown  \n",
       "2  OV-JO-Stamgasten 2023, Uitnodiging Stamgasten ...  \n",
       "3  OV-NW-Nieuwjaarsreceptie Vlaamse Ardennen - Le...  \n",
       "4  OV-nieuwsbrief-09052023, Nieuws van Voka Oost-...  "
      ]
     },
     "execution_count": 318,
     "metadata": {},
     "output_type": "execute_result"
    }
   ],
   "source": [
    "df_merged_total.head()"
   ]
  },
  {
   "cell_type": "code",
   "execution_count": 319,
   "metadata": {},
   "outputs": [],
   "source": [
    "df_merged_total.to_csv('../data_clean/merged_total.csv', index=False)"
   ]
  }
 ],
 "metadata": {
  "kernelspec": {
   "display_name": "Python 3",
   "language": "python",
   "name": "python3"
  },
  "language_info": {
   "codemirror_mode": {
    "name": "ipython",
    "version": 3
   },
   "file_extension": ".py",
   "mimetype": "text/x-python",
   "name": "python",
   "nbconvert_exporter": "python",
   "pygments_lexer": "ipython3",
   "version": "3.11.3"
  }
 },
 "nbformat": 4,
 "nbformat_minor": 2
}
