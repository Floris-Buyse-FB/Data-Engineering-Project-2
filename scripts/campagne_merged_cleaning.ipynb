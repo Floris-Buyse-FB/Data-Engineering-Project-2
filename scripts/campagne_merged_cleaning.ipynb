{
 "cells": [
  {
   "cell_type": "code",
   "execution_count": 1,
   "metadata": {},
   "outputs": [],
   "source": [
    "import pandas as pd\n",
    "import numpy as np\n",
    "import os"
   ]
  },
  {
   "cell_type": "code",
   "execution_count": 2,
   "metadata": {},
   "outputs": [],
   "source": [
    "DATA_DIR = '../data_merged/'\n",
    "FILE_NAME = 'merged_campagnes'\n",
    "URL = os.path.join(DATA_DIR, FILE_NAME + '.csv')"
   ]
  },
  {
   "cell_type": "code",
   "execution_count": 3,
   "metadata": {},
   "outputs": [
    {
     "name": "stderr",
     "output_type": "stream",
     "text": [
      "C:\\Users\\buyse\\AppData\\Local\\Temp\\ipykernel_11096\\676708795.py:1: DtypeWarning: Columns (14,21) have mixed types. Specify dtype option on import or set low_memory=False.\n",
      "  data = pd.read_csv(URL)\n"
     ]
    }
   ],
   "source": [
    "data = pd.read_csv(URL)"
   ]
  },
  {
   "cell_type": "code",
   "execution_count": 4,
   "metadata": {},
   "outputs": [
    {
     "data": {
      "text/plain": [
       "(7343170, 36)"
      ]
     },
     "execution_count": 4,
     "metadata": {},
     "output_type": "execute_result"
    }
   ],
   "source": [
    "data.shape"
   ]
  },
  {
   "cell_type": "markdown",
   "metadata": {},
   "source": [
    "#### Onnodige kolommen al verwijderen"
   ]
  },
  {
   "cell_type": "code",
   "execution_count": 5,
   "metadata": {},
   "outputs": [],
   "source": [
    "data.drop([\n",
    "    'campagne_naam_in_email',\n",
    "    'campagne_reden_van_status',\n",
    "    'campagne_status',\n",
    "    'campagne_url_voka_be',\n",
    "    'sessie_eind_datum_tijd',\n",
    "    'time', 'type', 'url',\n",
    "    'redenvanstatus', 'status',\n",
    "    'browser', 'operatingsystem',\n",
    "    'duration', 'sentemail_kliks_clicks'\n",
    "], axis=1, inplace=True)"
   ]
  },
  {
   "cell_type": "markdown",
   "metadata": {},
   "source": [
    "#### Veel duplicate data behalve de sentemailclicks --> laatste waarde nemen"
   ]
  },
  {
   "cell_type": "code",
   "execution_count": 6,
   "metadata": {},
   "outputs": [],
   "source": [
    "data.drop_duplicates(inplace=True)"
   ]
  },
  {
   "cell_type": "code",
   "execution_count": 7,
   "metadata": {},
   "outputs": [
    {
     "data": {
      "text/plain": [
       "(226866, 22)"
      ]
     },
     "execution_count": 7,
     "metadata": {},
     "output_type": "execute_result"
    }
   ],
   "source": [
    "data.shape"
   ]
  },
  {
   "cell_type": "code",
   "execution_count": 8,
   "metadata": {},
   "outputs": [
    {
     "data": {
      "text/html": [
       "<div>\n",
       "<style scoped>\n",
       "    .dataframe tbody tr th:only-of-type {\n",
       "        vertical-align: middle;\n",
       "    }\n",
       "\n",
       "    .dataframe tbody tr th {\n",
       "        vertical-align: top;\n",
       "    }\n",
       "\n",
       "    .dataframe thead th {\n",
       "        text-align: right;\n",
       "    }\n",
       "</style>\n",
       "<table border=\"1\" class=\"dataframe\">\n",
       "  <thead>\n",
       "    <tr style=\"text-align: right;\">\n",
       "      <th></th>\n",
       "      <th>campagne_naam</th>\n",
       "      <th>campagne_type_campagne</th>\n",
       "      <th>campagne_soort_campagne</th>\n",
       "      <th>sessie_activiteitstype</th>\n",
       "      <th>sessie_product</th>\n",
       "      <th>sessie_thema_naam_</th>\n",
       "      <th>inschrijving_aanwezig_afwezig</th>\n",
       "      <th>inschrijving_bron</th>\n",
       "      <th>inschrijving_contactfiche</th>\n",
       "      <th>inschrijving_facturatie_bedrag</th>\n",
       "      <th>...</th>\n",
       "      <th>visit_ip_company</th>\n",
       "      <th>visit_ip_land</th>\n",
       "      <th>visit_duration</th>\n",
       "      <th>visit_first_visit</th>\n",
       "      <th>visit_ip_postcode</th>\n",
       "      <th>visit_referring_host</th>\n",
       "      <th>referrertype</th>\n",
       "      <th>pagetitle</th>\n",
       "      <th>mailing_name</th>\n",
       "      <th>mailing_onderwerp</th>\n",
       "    </tr>\n",
       "  </thead>\n",
       "  <tbody>\n",
       "    <tr>\n",
       "      <th>0</th>\n",
       "      <td>OV-Internationale tewerkstelling 2022</td>\n",
       "      <td>Opleiding</td>\n",
       "      <td>Offline</td>\n",
       "      <td>AO Werking</td>\n",
       "      <td>OV-Seminarie</td>\n",
       "      <td>Human Resources</td>\n",
       "      <td>Aanwezig</td>\n",
       "      <td>Email</td>\n",
       "      <td>324A17DB-26B2-EB11-811F-001DD8B72B62</td>\n",
       "      <td>0</td>\n",
       "      <td>...</td>\n",
       "      <td>Telenet Operaties N.V.</td>\n",
       "      <td>Belgium</td>\n",
       "      <td>0.0</td>\n",
       "      <td>Ja</td>\n",
       "      <td>4540</td>\n",
       "      <td>unknown</td>\n",
       "      <td>Email</td>\n",
       "      <td>Internationale tewerkstelling | Voka</td>\n",
       "      <td>OV-nieuwsbrief-181022</td>\n",
       "      <td>Nieuws uit je regio, rechtstreeks in je inbox</td>\n",
       "    </tr>\n",
       "    <tr>\n",
       "      <th>9</th>\n",
       "      <td>OV-Internationale tewerkstelling 2022</td>\n",
       "      <td>Opleiding</td>\n",
       "      <td>Offline</td>\n",
       "      <td>AO Werking</td>\n",
       "      <td>OV-Seminarie</td>\n",
       "      <td>Human Resources</td>\n",
       "      <td>Aanwezig</td>\n",
       "      <td>Email</td>\n",
       "      <td>324A17DB-26B2-EB11-811F-001DD8B72B62</td>\n",
       "      <td>0</td>\n",
       "      <td>...</td>\n",
       "      <td>Belgacom SA</td>\n",
       "      <td>Belgium</td>\n",
       "      <td>0.0</td>\n",
       "      <td>Ja</td>\n",
       "      <td>2930</td>\n",
       "      <td>unknown</td>\n",
       "      <td>Email</td>\n",
       "      <td>Internationale tewerkstelling | Voka</td>\n",
       "      <td>OV-nieuwsbrief-181022</td>\n",
       "      <td>Nieuws uit je regio, rechtstreeks in je inbox</td>\n",
       "    </tr>\n",
       "    <tr>\n",
       "      <th>18</th>\n",
       "      <td>OV-Internationale tewerkstelling 2022</td>\n",
       "      <td>Opleiding</td>\n",
       "      <td>Offline</td>\n",
       "      <td>AO Werking</td>\n",
       "      <td>OV-Seminarie</td>\n",
       "      <td>Human Resources</td>\n",
       "      <td>Aanwezig</td>\n",
       "      <td>Email</td>\n",
       "      <td>324A17DB-26B2-EB11-811F-001DD8B72B62</td>\n",
       "      <td>0</td>\n",
       "      <td>...</td>\n",
       "      <td>Belgacom SA</td>\n",
       "      <td>Belgium</td>\n",
       "      <td>0.0</td>\n",
       "      <td>Ja</td>\n",
       "      <td>2610</td>\n",
       "      <td>unknown</td>\n",
       "      <td>Email</td>\n",
       "      <td>Internationale tewerkstelling | Voka</td>\n",
       "      <td>OV-nieuwsbrief-181022</td>\n",
       "      <td>Nieuws uit je regio, rechtstreeks in je inbox</td>\n",
       "    </tr>\n",
       "    <tr>\n",
       "      <th>27</th>\n",
       "      <td>OV-Internationale tewerkstelling 2022</td>\n",
       "      <td>Opleiding</td>\n",
       "      <td>Offline</td>\n",
       "      <td>AO Werking</td>\n",
       "      <td>OV-Seminarie</td>\n",
       "      <td>Human Resources</td>\n",
       "      <td>Aanwezig</td>\n",
       "      <td>Email</td>\n",
       "      <td>324A17DB-26B2-EB11-811F-001DD8B72B62</td>\n",
       "      <td>0</td>\n",
       "      <td>...</td>\n",
       "      <td>Coditel Brabant SPRL/BVBA</td>\n",
       "      <td>Belgium</td>\n",
       "      <td>0.0</td>\n",
       "      <td>Ja</td>\n",
       "      <td>3520</td>\n",
       "      <td>unknown</td>\n",
       "      <td>Email</td>\n",
       "      <td>Internationale tewerkstelling | Voka</td>\n",
       "      <td>OV-nieuwsbrief-181022</td>\n",
       "      <td>Nieuws uit je regio, rechtstreeks in je inbox</td>\n",
       "    </tr>\n",
       "    <tr>\n",
       "      <th>36</th>\n",
       "      <td>OV-Internationale tewerkstelling 2022</td>\n",
       "      <td>Opleiding</td>\n",
       "      <td>Offline</td>\n",
       "      <td>AO Werking</td>\n",
       "      <td>OV-Seminarie</td>\n",
       "      <td>Human Resources</td>\n",
       "      <td>Aanwezig</td>\n",
       "      <td>Email</td>\n",
       "      <td>324A17DB-26B2-EB11-811F-001DD8B72B62</td>\n",
       "      <td>0</td>\n",
       "      <td>...</td>\n",
       "      <td>Telenet</td>\n",
       "      <td>Belgium</td>\n",
       "      <td>186.0</td>\n",
       "      <td>Nee</td>\n",
       "      <td>9000</td>\n",
       "      <td>www.voka.be</td>\n",
       "      <td>Email</td>\n",
       "      <td>Internationale tewerkstelling | Voka</td>\n",
       "      <td>OV-nieuwsbrief-181022</td>\n",
       "      <td>Nieuws uit je regio, rechtstreeks in je inbox</td>\n",
       "    </tr>\n",
       "  </tbody>\n",
       "</table>\n",
       "<p>5 rows × 22 columns</p>\n",
       "</div>"
      ],
      "text/plain": [
       "                            campagne_naam campagne_type_campagne   \n",
       "0   OV-Internationale tewerkstelling 2022              Opleiding  \\\n",
       "9   OV-Internationale tewerkstelling 2022              Opleiding   \n",
       "18  OV-Internationale tewerkstelling 2022              Opleiding   \n",
       "27  OV-Internationale tewerkstelling 2022              Opleiding   \n",
       "36  OV-Internationale tewerkstelling 2022              Opleiding   \n",
       "\n",
       "   campagne_soort_campagne sessie_activiteitstype sessie_product   \n",
       "0                  Offline             AO Werking   OV-Seminarie  \\\n",
       "9                  Offline             AO Werking   OV-Seminarie   \n",
       "18                 Offline             AO Werking   OV-Seminarie   \n",
       "27                 Offline             AO Werking   OV-Seminarie   \n",
       "36                 Offline             AO Werking   OV-Seminarie   \n",
       "\n",
       "   sessie_thema_naam_ inschrijving_aanwezig_afwezig inschrijving_bron   \n",
       "0     Human Resources                      Aanwezig             Email  \\\n",
       "9     Human Resources                      Aanwezig             Email   \n",
       "18    Human Resources                      Aanwezig             Email   \n",
       "27    Human Resources                      Aanwezig             Email   \n",
       "36    Human Resources                      Aanwezig             Email   \n",
       "\n",
       "               inschrijving_contactfiche inschrijving_facturatie_bedrag  ...   \n",
       "0   324A17DB-26B2-EB11-811F-001DD8B72B62                              0  ...  \\\n",
       "9   324A17DB-26B2-EB11-811F-001DD8B72B62                              0  ...   \n",
       "18  324A17DB-26B2-EB11-811F-001DD8B72B62                              0  ...   \n",
       "27  324A17DB-26B2-EB11-811F-001DD8B72B62                              0  ...   \n",
       "36  324A17DB-26B2-EB11-811F-001DD8B72B62                              0  ...   \n",
       "\n",
       "             visit_ip_company visit_ip_land visit_duration visit_first_visit   \n",
       "0      Telenet Operaties N.V.       Belgium            0.0                Ja  \\\n",
       "9                 Belgacom SA       Belgium            0.0                Ja   \n",
       "18                Belgacom SA       Belgium            0.0                Ja   \n",
       "27  Coditel Brabant SPRL/BVBA       Belgium            0.0                Ja   \n",
       "36                    Telenet       Belgium          186.0               Nee   \n",
       "\n",
       "    visit_ip_postcode visit_referring_host referrertype   \n",
       "0                4540              unknown        Email  \\\n",
       "9                2930              unknown        Email   \n",
       "18               2610              unknown        Email   \n",
       "27               3520              unknown        Email   \n",
       "36               9000          www.voka.be        Email   \n",
       "\n",
       "                               pagetitle           mailing_name   \n",
       "0   Internationale tewerkstelling | Voka  OV-nieuwsbrief-181022  \\\n",
       "9   Internationale tewerkstelling | Voka  OV-nieuwsbrief-181022   \n",
       "18  Internationale tewerkstelling | Voka  OV-nieuwsbrief-181022   \n",
       "27  Internationale tewerkstelling | Voka  OV-nieuwsbrief-181022   \n",
       "36  Internationale tewerkstelling | Voka  OV-nieuwsbrief-181022   \n",
       "\n",
       "                                mailing_onderwerp  \n",
       "0   Nieuws uit je regio, rechtstreeks in je inbox  \n",
       "9   Nieuws uit je regio, rechtstreeks in je inbox  \n",
       "18  Nieuws uit je regio, rechtstreeks in je inbox  \n",
       "27  Nieuws uit je regio, rechtstreeks in je inbox  \n",
       "36  Nieuws uit je regio, rechtstreeks in je inbox  \n",
       "\n",
       "[5 rows x 22 columns]"
      ]
     },
     "execution_count": 8,
     "metadata": {},
     "output_type": "execute_result"
    }
   ],
   "source": [
    "data.head()"
   ]
  },
  {
   "cell_type": "markdown",
   "metadata": {},
   "source": [
    "#### Placeholder"
   ]
  },
  {
   "cell_type": "markdown",
   "metadata": {},
   "source": [
    "#### Data saven naar csv"
   ]
  },
  {
   "cell_type": "code",
   "execution_count": 9,
   "metadata": {},
   "outputs": [],
   "source": [
    "data.to_csv('../data_merged/merged_campagnes_cleaned.csv', index=False)"
   ]
  }
 ],
 "metadata": {
  "kernelspec": {
   "display_name": "Python 3",
   "language": "python",
   "name": "python3"
  },
  "language_info": {
   "codemirror_mode": {
    "name": "ipython",
    "version": 3
   },
   "file_extension": ".py",
   "mimetype": "text/x-python",
   "name": "python",
   "nbconvert_exporter": "python",
   "pygments_lexer": "ipython3",
   "version": "3.11.3"
  }
 },
 "nbformat": 4,
 "nbformat_minor": 2
}
