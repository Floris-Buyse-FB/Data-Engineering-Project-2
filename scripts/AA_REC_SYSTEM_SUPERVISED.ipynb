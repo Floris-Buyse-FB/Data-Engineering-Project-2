{
 "cells": [
  {
   "cell_type": "code",
   "execution_count": 1,
   "metadata": {},
   "outputs": [],
   "source": [
    "import pandas as pd"
   ]
  },
  {
   "cell_type": "markdown",
   "metadata": {},
   "source": [
    "### Eerst gaan we alle datafiles die we nodig hebben mergen tot 1 dataframe"
   ]
  },
  {
   "cell_type": "markdown",
   "metadata": {},
   "source": [
    "#### 1. Alles van Account mergen"
   ]
  },
  {
   "cell_type": "markdown",
   "metadata": {},
   "source": [
    "##### Account mergen met activiteit tabellen"
   ]
  },
  {
   "cell_type": "code",
   "execution_count": 2,
   "metadata": {},
   "outputs": [],
   "source": [
    "data_acc = pd.read_csv('../data_clean/Account_fixed.csv', sep=',')\n",
    "data_acti = pd.read_csv('../data_clean/Activiteitscode_fixed.csv', sep=\",\")\n",
    "data_acc_acti = pd.read_csv('../data_clean/Account_activiteitscode_fixed.csv', sep=\",\")\n",
    "\n",
    "data_acc = data_acc[data_acc['account_reden_van_status'] != 'Inactief']\n",
    "data_acc = data_acc[data_acc['account_reden_van_status'] != 'Stopzetting']\n",
    "data_acc = data_acc[data_acc['account_adres_provincie'] == 'Oost-Vlaanderen']\n",
    "\n",
    "# merge account_activiteitscode with activiteitscode\n",
    "merged_relation = data_acc_acti.merge(data_acti, left_on='account_activiteitscode_activiteitscode', right_on='activiteitscode_activiteitscode_id', how='inner')\n",
    "# merge account with the merged relation from above\n",
    "accounts_merged = data_acc.merge(merged_relation, left_on='account_account_id', right_on='account_activiteitscode_account', how='inner')\n",
    "\n",
    "accounts_merged = accounts_merged[accounts_merged['activiteitscode_status'] == 'Actief']"
   ]
  },
  {
   "cell_type": "code",
   "execution_count": 3,
   "metadata": {},
   "outputs": [],
   "source": [
    "# RAM vrijmaken\n",
    "try:\n",
    "    del data_acc\n",
    "    del data_acti\n",
    "    del data_acc_acti\n",
    "    del merged_relation\n",
    "except:\n",
    "    print(\"Data is niet meer beschikbaar / is al verwijderd\")"
   ]
  },
  {
   "cell_type": "code",
   "execution_count": 4,
   "metadata": {},
   "outputs": [
    {
     "data": {
      "text/plain": [
       "(3192, 22)"
      ]
     },
     "execution_count": 4,
     "metadata": {},
     "output_type": "execute_result"
    }
   ],
   "source": [
    "accounts_merged.shape"
   ]
  },
  {
   "cell_type": "markdown",
   "metadata": {},
   "source": [
    "##### Accounts mergen met financiële data"
   ]
  },
  {
   "cell_type": "code",
   "execution_count": 5,
   "metadata": {},
   "outputs": [
    {
     "data": {
      "text/plain": [
       "(2030180, 6)"
      ]
     },
     "execution_count": 5,
     "metadata": {},
     "output_type": "execute_result"
    }
   ],
   "source": [
    "financiele_data = pd.read_csv('../data_clean/Account_financiële_data_fixed.csv', sep=',')\n",
    "financiele_data.shape"
   ]
  },
  {
   "cell_type": "code",
   "execution_count": 6,
   "metadata": {},
   "outputs": [
    {
     "data": {
      "text/plain": [
       "(44590, 28)"
      ]
     },
     "execution_count": 6,
     "metadata": {},
     "output_type": "execute_result"
    }
   ],
   "source": [
    "accounts_merged = accounts_merged.merge(financiele_data, left_on='account_account_id', right_on='financieledata_ondernemingid', how='inner')\n",
    "accounts_merged.shape"
   ]
  },
  {
   "cell_type": "markdown",
   "metadata": {},
   "source": [
    "##### Accounts merge met Contactfiches"
   ]
  },
  {
   "cell_type": "code",
   "execution_count": 7,
   "metadata": {},
   "outputs": [
    {
     "data": {
      "text/plain": [
       "(393514, 6)"
      ]
     },
     "execution_count": 7,
     "metadata": {},
     "output_type": "execute_result"
    }
   ],
   "source": [
    "contactfiches = pd.read_csv('../data_clean/Contact_fixed.csv', sep=',')\n",
    "contactfiches = contactfiches[contactfiches['contact_status'] != 'Inactief']\n",
    "contactfiches['contact_functietitel'] = contactfiches['contact_functietitel'].str.lower().str.replace(r'[^\\w\\s]', '', regex=True) \\\n",
    "                                                        .str.replace('  ', ' ').str.strip()\n",
    "contactfiches.shape"
   ]
  },
  {
   "cell_type": "code",
   "execution_count": 8,
   "metadata": {},
   "outputs": [
    {
     "data": {
      "text/plain": [
       "(244928, 34)"
      ]
     },
     "execution_count": 8,
     "metadata": {},
     "output_type": "execute_result"
    }
   ],
   "source": [
    "accounts_merged = accounts_merged.merge(contactfiches, left_on='account_account_id', right_on='contact_account', how='inner')\n",
    "accounts_merged.shape"
   ]
  },
  {
   "cell_type": "markdown",
   "metadata": {},
   "source": [
    "##### Accounts mergen met Functie"
   ]
  },
  {
   "cell_type": "code",
   "execution_count": 9,
   "metadata": {},
   "outputs": [
    {
     "data": {
      "text/plain": [
       "((589129, 2), (71, 2))"
      ]
     },
     "execution_count": 9,
     "metadata": {},
     "output_type": "execute_result"
    }
   ],
   "source": [
    "contactfiches_functies = pd.read_csv('../data_clean/Contact_functie_fixed.csv', sep=',')\n",
    "functies = pd.read_csv('../data_clean/Functie_fixed.csv', sep=',')\n",
    "contactfiches_functies.shape, functies.shape"
   ]
  },
  {
   "cell_type": "code",
   "execution_count": 10,
   "metadata": {},
   "outputs": [
    {
     "data": {
      "text/plain": [
       "Index(['contactfunctie_contactpersoon', 'contactfunctie_functie'], dtype='object')"
      ]
     },
     "execution_count": 10,
     "metadata": {},
     "output_type": "execute_result"
    }
   ],
   "source": [
    "contactfiches_functies.columns"
   ]
  },
  {
   "cell_type": "code",
   "execution_count": 11,
   "metadata": {},
   "outputs": [],
   "source": [
    "accounts_merged = accounts_merged.merge(contactfiches_functies, left_on='contact_contactpersoon_id', right_on='contactfunctie_contactpersoon', how='inner')"
   ]
  },
  {
   "cell_type": "code",
   "execution_count": 12,
   "metadata": {},
   "outputs": [
    {
     "data": {
      "text/plain": [
       "['account_account_id',\n",
       " 'account_adres_geografische_regio',\n",
       " 'account_adres_geografische_subregio',\n",
       " 'account_adres_plaats',\n",
       " 'account_adres_postcode',\n",
       " 'account_adres_provincie',\n",
       " 'account_industriezone_naam_',\n",
       " 'account_is_voka_entiteit',\n",
       " 'account_ondernemingsaard',\n",
       " 'account_ondernemingstype',\n",
       " 'account_oprichtingsdatum',\n",
       " 'account_primaire_activiteit',\n",
       " 'account_reden_van_status',\n",
       " 'account_status',\n",
       " 'account_voka_nr_',\n",
       " 'account_adres_land',\n",
       " 'account_activiteitscode_account',\n",
       " 'account_activiteitscode_activiteitscode',\n",
       " 'account_activiteitscode_inf_account_inf_activiteitscodeid',\n",
       " 'activiteitscode_naam',\n",
       " 'activiteitscode_activiteitscode_id',\n",
       " 'activiteitscode_status',\n",
       " 'financieledata_ondernemingid',\n",
       " 'financieledata_boekjaar',\n",
       " 'financieledata_aantal_maanden',\n",
       " 'financieledata_toegevoegde_waarde',\n",
       " 'financieledata_fte',\n",
       " 'financieledata_gewijzigd_op',\n",
       " 'contact_contactpersoon_id',\n",
       " 'contact_account',\n",
       " 'contact_functietitel',\n",
       " 'contact_persoon_id',\n",
       " 'contact_status',\n",
       " 'contact_voka_medewerker',\n",
       " 'contactfunctie_contactpersoon',\n",
       " 'contactfunctie_functie']"
      ]
     },
     "execution_count": 12,
     "metadata": {},
     "output_type": "execute_result"
    }
   ],
   "source": [
    "list(accounts_merged.columns)"
   ]
  },
  {
   "cell_type": "code",
   "execution_count": 13,
   "metadata": {},
   "outputs": [],
   "source": [
    "accounts_merged = accounts_merged.merge(functies, left_on='contactfunctie_functie', right_on='functie_functie_id', how='inner')"
   ]
  },
  {
   "cell_type": "markdown",
   "metadata": {},
   "source": [
    "##### Accounts merge met Personen"
   ]
  },
  {
   "cell_type": "code",
   "execution_count": 14,
   "metadata": {},
   "outputs": [],
   "source": [
    "# personen = pd.read_csv('../data_clean/Persoon_fixed.csv', sep=',')\n",
    "# personen.shape"
   ]
  },
  {
   "cell_type": "code",
   "execution_count": 15,
   "metadata": {},
   "outputs": [],
   "source": [
    "# merged_accounts = merged_accounts.merge(personen, left_on='contact_persoon_id', right_on='persoon_persoon_id', how='inner')\n",
    "# merged_accounts.shape"
   ]
  },
  {
   "cell_type": "markdown",
   "metadata": {},
   "source": [
    "#### 2. Alles van Afspraken mergen"
   ]
  },
  {
   "cell_type": "code",
   "execution_count": 16,
   "metadata": {},
   "outputs": [],
   "source": [
    "# RAM vrijmaken\n",
    "try:\n",
    "    del financiele_data\n",
    "    del contactfiches\n",
    "    del contactfiches_functies\n",
    "    del functies\n",
    "except:\n",
    "    print(\"Data is niet meer beschikbaar / is al verwijderd\")"
   ]
  },
  {
   "cell_type": "code",
   "execution_count": 17,
   "metadata": {},
   "outputs": [],
   "source": [
    "afspraak_betreft_account_cleaned = pd.read_csv('../data_clean/Afspraak_betreft_account_cleaned_fixed.csv', sep=',')\n",
    "afspraak_account_gelinkt_cleaned = pd.read_csv('../data_clean/Afspraak_account_gelinkt_cleaned_fixed.csv', sep=',')\n",
    "afspraak_betreft_contact_cleaned = pd.read_csv('../data_clean/Afspraak_betreft_contact_cleaned_fixed.csv', sep=',')"
   ]
  },
  {
   "cell_type": "code",
   "execution_count": 18,
   "metadata": {},
   "outputs": [
    {
     "data": {
      "text/plain": [
       "((4876, 7), (2934, 7), (2552, 7))"
      ]
     },
     "execution_count": 18,
     "metadata": {},
     "output_type": "execute_result"
    }
   ],
   "source": [
    "afspraak_betreft_account_cleaned.shape, afspraak_account_gelinkt_cleaned.shape, afspraak_betreft_contact_cleaned.shape"
   ]
  },
  {
   "cell_type": "code",
   "execution_count": 19,
   "metadata": {},
   "outputs": [],
   "source": [
    "afspraak_betreft_account_cleaned = afspraak_betreft_account_cleaned.drop(['afspraak_betreft_account_betreft_id'], axis=1)\n",
    "afspraak_account_gelinkt_cleaned = afspraak_account_gelinkt_cleaned.drop(['afspraak_account_gelinkt_account'], axis=1)\n",
    "afspraak_betreft_contact_cleaned = afspraak_betreft_contact_cleaned.drop(['afspraak_betreft_contactfiche_betreft_id'], axis=1)"
   ]
  },
  {
   "cell_type": "code",
   "execution_count": 20,
   "metadata": {},
   "outputs": [],
   "source": [
    "afspraak_betreft_account_cleaned.columns = ['afspraak_afspraak_id', 'afspraak_thema', 'afspraak_subthema', 'afspraak_onderwerp', 'afspraak_eindtijd', 'afspraak_keyphrases']\n",
    "afspraak_account_gelinkt_cleaned.columns = ['afspraak_afspraak_id', 'afspraak_thema', 'afspraak_subthema', 'afspraak_onderwerp', 'afspraak_eindtijd', 'afspraak_keyphrases']\n",
    "afspraak_betreft_contact_cleaned.columns = ['afspraak_afspraak_id', 'afspraak_thema', 'afspraak_subthema', 'afspraak_onderwerp', 'afspraak_eindtijd', 'afspraak_keyphrases']"
   ]
  },
  {
   "cell_type": "code",
   "execution_count": 21,
   "metadata": {},
   "outputs": [],
   "source": [
    "afspraak_betreft_account_cleaned[\"afspraak_betreft\"] = \"account\"\n",
    "afspraak_account_gelinkt_cleaned[\"afspraak_betreft\"] = \"account\"\n",
    "afspraak_betreft_contact_cleaned[\"afspraak_betreft\"] = \"contact\""
   ]
  },
  {
   "cell_type": "code",
   "execution_count": 22,
   "metadata": {},
   "outputs": [],
   "source": [
    "afspraken_merged = pd.concat([afspraak_betreft_account_cleaned, afspraak_account_gelinkt_cleaned, afspraak_betreft_contact_cleaned])"
   ]
  },
  {
   "cell_type": "code",
   "execution_count": 23,
   "metadata": {},
   "outputs": [
    {
     "data": {
      "text/html": [
       "<div>\n",
       "<style scoped>\n",
       "    .dataframe tbody tr th:only-of-type {\n",
       "        vertical-align: middle;\n",
       "    }\n",
       "\n",
       "    .dataframe tbody tr th {\n",
       "        vertical-align: top;\n",
       "    }\n",
       "\n",
       "    .dataframe thead th {\n",
       "        text-align: right;\n",
       "    }\n",
       "</style>\n",
       "<table border=\"1\" class=\"dataframe\">\n",
       "  <thead>\n",
       "    <tr style=\"text-align: right;\">\n",
       "      <th></th>\n",
       "      <th>afspraak_afspraak_id</th>\n",
       "    </tr>\n",
       "  </thead>\n",
       "  <tbody>\n",
       "    <tr>\n",
       "      <th>0</th>\n",
       "      <td>00082DAA-24BF-ED11-83FF-6045BD8952CE</td>\n",
       "    </tr>\n",
       "    <tr>\n",
       "      <th>1</th>\n",
       "      <td>00109C77-4D09-EB11-8114-001DD8B72B61</td>\n",
       "    </tr>\n",
       "    <tr>\n",
       "      <th>2</th>\n",
       "      <td>0011A5D9-CC9A-EC11-B400-0022488005A7</td>\n",
       "    </tr>\n",
       "    <tr>\n",
       "      <th>3</th>\n",
       "      <td>0016532E-14E3-EC11-BB3C-000D3ABCA38B</td>\n",
       "    </tr>\n",
       "    <tr>\n",
       "      <th>4</th>\n",
       "      <td>003760C1-13B4-EC11-983F-00224883C880</td>\n",
       "    </tr>\n",
       "  </tbody>\n",
       "</table>\n",
       "</div>"
      ],
      "text/plain": [
       "                   afspraak_afspraak_id\n",
       "0  00082DAA-24BF-ED11-83FF-6045BD8952CE\n",
       "1  00109C77-4D09-EB11-8114-001DD8B72B61\n",
       "2  0011A5D9-CC9A-EC11-B400-0022488005A7\n",
       "3  0016532E-14E3-EC11-BB3C-000D3ABCA38B\n",
       "4  003760C1-13B4-EC11-983F-00224883C880"
      ]
     },
     "execution_count": 23,
     "metadata": {},
     "output_type": "execute_result"
    }
   ],
   "source": [
    "afspraken = pd.read_csv('../data_clean/Afspraak_alle_fixed.csv', sep=',')\n",
    "afspraken.columns = ['afspraak_afspraak_id']\n",
    "afspraken.head()"
   ]
  },
  {
   "cell_type": "code",
   "execution_count": 24,
   "metadata": {},
   "outputs": [],
   "source": [
    "afspraken_merged = pd.merge(afspraken, afspraken_merged, on='afspraak_afspraak_id', how='inner')\n",
    "afspraken_merged.reset_index(drop=True, inplace=True)"
   ]
  },
  {
   "cell_type": "code",
   "execution_count": 25,
   "metadata": {},
   "outputs": [
    {
     "name": "stdout",
     "output_type": "stream",
     "text": [
      "<class 'pandas.core.frame.DataFrame'>\n",
      "RangeIndex: 10362 entries, 0 to 10361\n",
      "Data columns (total 7 columns):\n",
      " #   Column                Non-Null Count  Dtype \n",
      "---  ------                --------------  ----- \n",
      " 0   afspraak_afspraak_id  10362 non-null  object\n",
      " 1   afspraak_thema        10362 non-null  object\n",
      " 2   afspraak_subthema     10362 non-null  object\n",
      " 3   afspraak_onderwerp    10362 non-null  object\n",
      " 4   afspraak_eindtijd     10362 non-null  object\n",
      " 5   afspraak_keyphrases   10362 non-null  object\n",
      " 6   afspraak_betreft      10362 non-null  object\n",
      "dtypes: object(7)\n",
      "memory usage: 566.8+ KB\n"
     ]
    }
   ],
   "source": [
    "afspraken_merged.info()"
   ]
  },
  {
   "cell_type": "code",
   "execution_count": 26,
   "metadata": {},
   "outputs": [],
   "source": [
    "# RAM vrijmaken\n",
    "try:\n",
    "    del afspraak_betreft_account_cleaned\n",
    "    del afspraak_account_gelinkt_cleaned\n",
    "    del afspraak_betreft_contact_cleaned\n",
    "    del afspraken\n",
    "except:\n",
    "    print(\"Data is niet meer beschikbaar / is al verwijderd\")"
   ]
  },
  {
   "cell_type": "code",
   "execution_count": 27,
   "metadata": {},
   "outputs": [
    {
     "name": "stdout",
     "output_type": "stream",
     "text": [
      "<class 'pandas.core.frame.DataFrame'>\n",
      "Index: 7624 entries, 0 to 10360\n",
      "Data columns (total 7 columns):\n",
      " #   Column                Non-Null Count  Dtype \n",
      "---  ------                --------------  ----- \n",
      " 0   afspraak_afspraak_id  7624 non-null   object\n",
      " 1   afspraak_thema        7624 non-null   object\n",
      " 2   afspraak_subthema     7624 non-null   object\n",
      " 3   afspraak_onderwerp    7624 non-null   object\n",
      " 4   afspraak_eindtijd     7624 non-null   object\n",
      " 5   afspraak_keyphrases   7624 non-null   object\n",
      " 6   afspraak_betreft      7624 non-null   object\n",
      "dtypes: object(7)\n",
      "memory usage: 476.5+ KB\n"
     ]
    }
   ],
   "source": [
    "afspraken_merged = afspraken_merged.drop_duplicates(subset=['afspraak_afspraak_id'], keep='first')\n",
    "afspraken_merged.info()"
   ]
  },
  {
   "cell_type": "code",
   "execution_count": 28,
   "metadata": {},
   "outputs": [
    {
     "data": {
      "text/plain": [
       "(4635, 2)"
      ]
     },
     "execution_count": 28,
     "metadata": {},
     "output_type": "execute_result"
    }
   ],
   "source": [
    "activiteit_vereist_contact = pd.read_csv('../data_clean/Activiteit_vereist_contact_fixed.csv', sep=',')\n",
    "activiteit_vereist_contact.shape"
   ]
  },
  {
   "cell_type": "code",
   "execution_count": 29,
   "metadata": {},
   "outputs": [
    {
     "name": "stdout",
     "output_type": "stream",
     "text": [
      "<class 'pandas.core.frame.DataFrame'>\n",
      "RangeIndex: 7754 entries, 0 to 7753\n",
      "Data columns (total 9 columns):\n",
      " #   Column                                  Non-Null Count  Dtype \n",
      "---  ------                                  --------------  ----- \n",
      " 0   afspraak_afspraak_id                    7754 non-null   object\n",
      " 1   afspraak_thema                          7754 non-null   object\n",
      " 2   afspraak_subthema                       7754 non-null   object\n",
      " 3   afspraak_onderwerp                      7754 non-null   object\n",
      " 4   afspraak_eindtijd                       7754 non-null   object\n",
      " 5   afspraak_keyphrases                     7754 non-null   object\n",
      " 6   afspraak_betreft                        7754 non-null   object\n",
      " 7   activiteitvereistcontact_activityid_id  4545 non-null   object\n",
      " 8   activiteitvereistcontact_reqattendee    4545 non-null   object\n",
      "dtypes: object(9)\n",
      "memory usage: 545.3+ KB\n"
     ]
    }
   ],
   "source": [
    "afspraken_merged = afspraken_merged.merge(activiteit_vereist_contact, left_on='afspraak_afspraak_id', right_on='activiteitvereistcontact_activityid_id', how='left')\n",
    "afspraken_merged.info()"
   ]
  },
  {
   "cell_type": "markdown",
   "metadata": {},
   "source": [
    "#### 3. Alles van Campagnes mergen"
   ]
  },
  {
   "cell_type": "markdown",
   "metadata": {},
   "source": [
    "##### Campagne mergen met Sessie"
   ]
  },
  {
   "cell_type": "code",
   "execution_count": 30,
   "metadata": {},
   "outputs": [
    {
     "data": {
      "text/plain": [
       "(4092, 11)"
      ]
     },
     "execution_count": 30,
     "metadata": {},
     "output_type": "execute_result"
    }
   ],
   "source": [
    "campagne = pd.read_csv('../data_clean/Campagne_fixed.csv', sep=',')\n",
    "campagne.shape"
   ]
  },
  {
   "cell_type": "code",
   "execution_count": 31,
   "metadata": {},
   "outputs": [
    {
     "data": {
      "text/plain": [
       "(9403, 8)"
      ]
     },
     "execution_count": 31,
     "metadata": {},
     "output_type": "execute_result"
    }
   ],
   "source": [
    "sessie = pd.read_csv('../data_clean/Sessie_fixed.csv', sep=',')\n",
    "sessie.shape"
   ]
  },
  {
   "cell_type": "code",
   "execution_count": 32,
   "metadata": {},
   "outputs": [
    {
     "data": {
      "text/html": [
       "<div>\n",
       "<style scoped>\n",
       "    .dataframe tbody tr th:only-of-type {\n",
       "        vertical-align: middle;\n",
       "    }\n",
       "\n",
       "    .dataframe tbody tr th {\n",
       "        vertical-align: top;\n",
       "    }\n",
       "\n",
       "    .dataframe thead th {\n",
       "        text-align: right;\n",
       "    }\n",
       "</style>\n",
       "<table border=\"1\" class=\"dataframe\">\n",
       "  <thead>\n",
       "    <tr style=\"text-align: right;\">\n",
       "      <th></th>\n",
       "      <th>sessie_campagne</th>\n",
       "      <th>sessie_thema_naam_list</th>\n",
       "    </tr>\n",
       "  </thead>\n",
       "  <tbody>\n",
       "    <tr>\n",
       "      <th>3153</th>\n",
       "      <td>CBEE5437-9928-EB11-8117-001DD8B72B62</td>\n",
       "      <td>[Marketing &amp; Sales, IT &amp; Technologie, Opvolgin...</td>\n",
       "    </tr>\n",
       "    <tr>\n",
       "      <th>976</th>\n",
       "      <td>416A235F-F209-E911-80FA-001DD8B72B62</td>\n",
       "      <td>[IT &amp; Technologie, Strategie, Human Resources,...</td>\n",
       "    </tr>\n",
       "    <tr>\n",
       "      <th>487</th>\n",
       "      <td>210CE445-B4A3-ED11-AAD1-6045BD895D85</td>\n",
       "      <td>[IT &amp; Technologie, Duurzaam Ondernemen, Human ...</td>\n",
       "    </tr>\n",
       "    <tr>\n",
       "      <th>420</th>\n",
       "      <td>1CA4BA0E-6DA7-EB11-811B-001DD8B72B61</td>\n",
       "      <td>[Marketing &amp; Sales, IT &amp; Technologie, Strategi...</td>\n",
       "    </tr>\n",
       "    <tr>\n",
       "      <th>3738</th>\n",
       "      <td>F244649C-50BC-EA11-8113-001DD8B72B62</td>\n",
       "      <td>[Marketing &amp; Sales, Strategie, Duurzaam Ondern...</td>\n",
       "    </tr>\n",
       "    <tr>\n",
       "      <th>...</th>\n",
       "      <td>...</td>\n",
       "      <td>...</td>\n",
       "    </tr>\n",
       "    <tr>\n",
       "      <th>1350</th>\n",
       "      <td>58F3F1ED-2A32-EC11-8127-001DD8B72B62</td>\n",
       "      <td>[Communicatie]</td>\n",
       "    </tr>\n",
       "    <tr>\n",
       "      <th>1351</th>\n",
       "      <td>58F9E91D-F350-E211-9B51-005056B06EC4</td>\n",
       "      <td>[unknown]</td>\n",
       "    </tr>\n",
       "    <tr>\n",
       "      <th>1352</th>\n",
       "      <td>58FA767E-ABB8-E111-A45C-00505680000A</td>\n",
       "      <td>[unknown]</td>\n",
       "    </tr>\n",
       "    <tr>\n",
       "      <th>1353</th>\n",
       "      <td>59337839-771C-E411-956D-005056B06EB4</td>\n",
       "      <td>[Internationaal Ondernemen]</td>\n",
       "    </tr>\n",
       "    <tr>\n",
       "      <th>3950</th>\n",
       "      <td>FFF4DF54-9DBB-EA11-8113-001DD8B72B62</td>\n",
       "      <td>[Starten]</td>\n",
       "    </tr>\n",
       "  </tbody>\n",
       "</table>\n",
       "<p>3951 rows × 2 columns</p>\n",
       "</div>"
      ],
      "text/plain": [
       "                           sessie_campagne  \\\n",
       "3153  CBEE5437-9928-EB11-8117-001DD8B72B62   \n",
       "976   416A235F-F209-E911-80FA-001DD8B72B62   \n",
       "487   210CE445-B4A3-ED11-AAD1-6045BD895D85   \n",
       "420   1CA4BA0E-6DA7-EB11-811B-001DD8B72B61   \n",
       "3738  F244649C-50BC-EA11-8113-001DD8B72B62   \n",
       "...                                    ...   \n",
       "1350  58F3F1ED-2A32-EC11-8127-001DD8B72B62   \n",
       "1351  58F9E91D-F350-E211-9B51-005056B06EC4   \n",
       "1352  58FA767E-ABB8-E111-A45C-00505680000A   \n",
       "1353  59337839-771C-E411-956D-005056B06EB4   \n",
       "3950  FFF4DF54-9DBB-EA11-8113-001DD8B72B62   \n",
       "\n",
       "                                 sessie_thema_naam_list  \n",
       "3153  [Marketing & Sales, IT & Technologie, Opvolgin...  \n",
       "976   [IT & Technologie, Strategie, Human Resources,...  \n",
       "487   [IT & Technologie, Duurzaam Ondernemen, Human ...  \n",
       "420   [Marketing & Sales, IT & Technologie, Strategi...  \n",
       "3738  [Marketing & Sales, Strategie, Duurzaam Ondern...  \n",
       "...                                                 ...  \n",
       "1350                                     [Communicatie]  \n",
       "1351                                          [unknown]  \n",
       "1352                                          [unknown]  \n",
       "1353                        [Internationaal Ondernemen]  \n",
       "3950                                          [Starten]  \n",
       "\n",
       "[3951 rows x 2 columns]"
      ]
     },
     "execution_count": 32,
     "metadata": {},
     "output_type": "execute_result"
    }
   ],
   "source": [
    "result = (sessie.assign(sessie_thema_naam_list=sessie['sessie_thema_naam_'].str.split(', '))\n",
    "               .explode('sessie_thema_naam_list')\n",
    "               .drop_duplicates()\n",
    "               .groupby('sessie_campagne')['sessie_thema_naam_list']\n",
    "               .agg(lambda x: list(set(x)))\n",
    "               .reset_index()\n",
    "               .sort_values(by='sessie_thema_naam_list', key=lambda x: x.str.len(), ascending=False))\n",
    "result"
   ]
  },
  {
   "cell_type": "markdown",
   "metadata": {},
   "source": [
    "Er zijn meerdere thema's in sessie per campagne, we gaan een nieuwe kolom maken in campagne die een lijst bevat van alle voorkomende thema's per campagne. Later gaan we deze multi hot encoden."
   ]
  },
  {
   "cell_type": "code",
   "execution_count": 33,
   "metadata": {},
   "outputs": [
    {
     "data": {
      "text/plain": [
       "(3951, 13)"
      ]
     },
     "execution_count": 33,
     "metadata": {},
     "output_type": "execute_result"
    }
   ],
   "source": [
    "campagnes_merged = campagne.merge(result, left_on='campagne_campagne_id', right_on='sessie_campagne', how='inner')\n",
    "campagnes_merged.shape"
   ]
  },
  {
   "cell_type": "markdown",
   "metadata": {},
   "source": [
    "#### 4. Accounts mergen met Afspraken"
   ]
  },
  {
   "cell_type": "code",
   "execution_count": 34,
   "metadata": {},
   "outputs": [
    {
     "data": {
      "text/plain": [
       "(57157, 47)"
      ]
     },
     "execution_count": 34,
     "metadata": {},
     "output_type": "execute_result"
    }
   ],
   "source": [
    "accounts_merged = accounts_merged.merge(afspraken_merged, left_on='contact_contactpersoon_id', right_on='activiteitvereistcontact_reqattendee', how='inner')\n",
    "accounts_merged.shape"
   ]
  },
  {
   "cell_type": "code",
   "execution_count": 35,
   "metadata": {},
   "outputs": [],
   "source": [
    "# RAM vrijmaken\n",
    "try:\n",
    "    del afspraken_merged\n",
    "    del activiteit_vereist_contact\n",
    "    del result\n",
    "except:\n",
    "    print(\"Data is niet meer beschikbaar / is al verwijderd\")"
   ]
  },
  {
   "cell_type": "markdown",
   "metadata": {},
   "source": [
    "#### 5. Cleaning voor de grote merge"
   ]
  },
  {
   "cell_type": "code",
   "execution_count": 36,
   "metadata": {},
   "outputs": [],
   "source": [
    "onnodige_kolommen_accounts = [\n",
    " 'account_account_id',\n",
    " 'account_adres_postcode',\n",
    " 'account_industriezone_naam_',\n",
    " 'account_oprichtingsdatum',\n",
    " 'account_adres_plaats',\n",
    " 'account_voka_nr_',\n",
    " 'account_is_voka_entiteit',\n",
    " 'account_status',\n",
    " 'account_adres_geografische_regio',\n",
    " 'account_adres_provincie',\n",
    " 'account_reden_van_status',\n",
    " 'account_adres_land',\n",
    " 'account_activiteitscode_account',\n",
    " 'account_activiteitscode_activiteitscode',\n",
    " 'account_activiteitscode_inf_account_inf_activiteitscodeid',\n",
    " 'activiteitscode_activiteitscode_id',\n",
    " 'contact_account',\n",
    " 'contact_functietitel',\n",
    " 'contact_persoon_id',\n",
    " 'contact_voka_medewerker',\n",
    " 'contact_status',\n",
    " 'afspraak_afspraak_id', \n",
    " 'afspraak_onderwerp',\n",
    " 'afspraak_eindtijd',\n",
    " 'financieledata_ondernemingid',\n",
    " 'financieledata_gewijzigd_op',\n",
    " 'activiteitvereistcontact_activityid_id',\n",
    " 'activiteitvereistcontact_reqattendee',\n",
    " 'contactfunctie_contactpersoon',\n",
    " 'contactfunctie_functie',\n",
    " 'functie_functie_id',\n",
    " 'activiteitscode_status'\n",
    "]\n",
    "\n",
    "onnodige_kolommen_campagnes = [\n",
    " 'campagne_campagne_nr',\n",
    " 'campagne_einddatum',\n",
    " 'campagne_naam',\n",
    " 'campagne_reden_van_status',\n",
    " 'campagne_naam_in_email',\n",
    " 'campagne_startdatum',\n",
    " 'campagne_url_voka_be',\n",
    " 'campagne_status',\n",
    " 'sessie_campagne',\n",
    "]"
   ]
  },
  {
   "cell_type": "code",
   "execution_count": 37,
   "metadata": {},
   "outputs": [],
   "source": [
    "accounts_merged = accounts_merged.drop(onnodige_kolommen_accounts, axis=1)\n",
    "campagnes_merged = campagnes_merged.drop(onnodige_kolommen_campagnes, axis=1)"
   ]
  },
  {
   "cell_type": "code",
   "execution_count": 38,
   "metadata": {},
   "outputs": [
    {
     "data": {
      "text/plain": [
       "['account_adres_geografische_subregio',\n",
       " 'account_is_voka_entiteit',\n",
       " 'account_ondernemingsaard',\n",
       " 'account_ondernemingstype',\n",
       " 'account_primaire_activiteit',\n",
       " 'activiteitscode_naam',\n",
       " 'financieledata_boekjaar',\n",
       " 'financieledata_aantal_maanden',\n",
       " 'financieledata_toegevoegde_waarde',\n",
       " 'financieledata_fte',\n",
       " 'contact_contactpersoon_id',\n",
       " 'functie_naam',\n",
       " 'afspraak_thema',\n",
       " 'afspraak_subthema',\n",
       " 'afspraak_keyphrases',\n",
       " 'afspraak_betreft']"
      ]
     },
     "execution_count": 38,
     "metadata": {},
     "output_type": "execute_result"
    }
   ],
   "source": [
    "list(accounts_merged.columns)"
   ]
  },
  {
   "cell_type": "code",
   "execution_count": 39,
   "metadata": {},
   "outputs": [
    {
     "data": {
      "text/plain": [
       "['campagne_campagne_id',\n",
       " 'campagne_type_campagne',\n",
       " 'campagne_soort_campagne',\n",
       " 'sessie_thema_naam_list']"
      ]
     },
     "execution_count": 39,
     "metadata": {},
     "output_type": "execute_result"
    }
   ],
   "source": [
    "list(campagnes_merged.columns)"
   ]
  },
  {
   "cell_type": "markdown",
   "metadata": {},
   "source": [
    "#### 6. Alles mergen tot 1 dataframe met een cross join"
   ]
  },
  {
   "cell_type": "code",
   "execution_count": 40,
   "metadata": {},
   "outputs": [],
   "source": [
    "# campagnes_merged['cross_join_key'] = 1\n",
    "# accounts_merged['cross_join_key'] = 1"
   ]
  },
  {
   "cell_type": "code",
   "execution_count": 41,
   "metadata": {},
   "outputs": [],
   "source": [
    "# merged_total = accounts_merged.merge(campagnes_merged, on='cross_join_key', how='outer').drop('cross_join_key', axis=1)"
   ]
  },
  {
   "cell_type": "code",
   "execution_count": 42,
   "metadata": {},
   "outputs": [],
   "source": [
    "# # RAM vrijmaken\n",
    "# try:\n",
    "#     del accounts_merged\n",
    "#     del campagnes_merged\n",
    "# except:\n",
    "#     print(\"Data is niet meer beschikbaar / is al verwijderd\")"
   ]
  },
  {
   "cell_type": "markdown",
   "metadata": {},
   "source": [
    "#### 7. Target label genereren"
   ]
  },
  {
   "cell_type": "code",
   "execution_count": 43,
   "metadata": {},
   "outputs": [
    {
     "data": {
      "text/plain": [
       "(49175, 8)"
      ]
     },
     "execution_count": 43,
     "metadata": {},
     "output_type": "execute_result"
    }
   ],
   "source": [
    "import pandas as pd\n",
    "inschrijving = pd.read_csv('../data_clean/Inschrijving_fixed.csv', sep=',')\n",
    "inschrijving.shape"
   ]
  },
  {
   "cell_type": "code",
   "execution_count": 44,
   "metadata": {},
   "outputs": [],
   "source": [
    "merged_total[\"ingeschreven\"] = 0\n",
    "\n",
    "for index, row in merged_total.iterrows():\n",
    "    if ((inschrijving['inschrijving_contactfiche'] == row['contact_contactpersoon_id']) & (inschrijving['inschrijving_campagne'] == row['campagne_campagne_id'])).any():\n",
    "        merged_total.at[index, 'ingeschreven'] = 1"
   ]
  },
  {
   "cell_type": "code",
   "execution_count": 45,
   "metadata": {},
   "outputs": [],
   "source": [
    "# merged_total[\"ingeschreven\"].value_counts()"
   ]
  },
  {
   "cell_type": "markdown",
   "metadata": {},
   "source": [
    "#### 8. Verdere data cleaning en One/Multi hot encoding"
   ]
  },
  {
   "cell_type": "code",
   "execution_count": 46,
   "metadata": {},
   "outputs": [],
   "source": [
    "# merged_total = merged_total.drop(['contact_contactpersoon_id', 'campagne_campagne_id'], axis=1)"
   ]
  },
  {
   "cell_type": "code",
   "execution_count": 47,
   "metadata": {},
   "outputs": [],
   "source": [
    "from sklearn.compose import make_column_transformer\n",
    "from sklearn.preprocessing import OneHotEncoder, MultiLabelBinarizer\n",
    "\n",
    "oneHot = OneHotEncoder(sparse=False)\n",
    "multiHot = MultiLabelBinarizer()"
   ]
  },
  {
   "cell_type": "code",
   "execution_count": 51,
   "metadata": {},
   "outputs": [
    {
     "name": "stderr",
     "output_type": "stream",
     "text": [
      "C:\\Users\\marlo\\AppData\\Local\\Packages\\PythonSoftwareFoundation.Python.3.11_qbz5n2kfra8p0\\LocalCache\\local-packages\\Python311\\site-packages\\sklearn\\preprocessing\\_encoders.py:975: FutureWarning: `sparse` was renamed to `sparse_output` in version 1.2 and will be removed in 1.4. `sparse_output` is ignored unless you leave `sparse` to its default value.\n",
      "  warnings.warn(\n"
     ]
    },
    {
     "ename": "AttributeError",
     "evalue": "'numpy.ndarray' object has no attribute 'toarray'",
     "output_type": "error",
     "traceback": [
      "\u001b[1;31m---------------------------------------------------------------------------\u001b[0m",
      "\u001b[1;31mAttributeError\u001b[0m                            Traceback (most recent call last)",
      "\u001b[1;32mc:\\Users\\marlo\\Documents\\HOGENT\\23-24\\Semester 1\\Data Engineering Project 2\\Data-Engineering-Project-2\\scripts\\AA_REC_SYSTEM.ipynb Cell 64\u001b[0m line \u001b[0;36m2\n\u001b[0;32m      <a href='vscode-notebook-cell:/c%3A/Users/marlo/Documents/HOGENT/23-24/Semester%201/Data%20Engineering%20Project%202/Data-Engineering-Project-2/scripts/AA_REC_SYSTEM.ipynb#Y120sZmlsZQ%3D%3D?line=0'>1</a>\u001b[0m subregio_1hot \u001b[39m=\u001b[39m oneHot\u001b[39m.\u001b[39mfit_transform(accounts_merged[[\u001b[39m'\u001b[39m\u001b[39maccount_adres_geografische_subregio\u001b[39m\u001b[39m'\u001b[39m]])\n\u001b[1;32m----> <a href='vscode-notebook-cell:/c%3A/Users/marlo/Documents/HOGENT/23-24/Semester%201/Data%20Engineering%20Project%202/Data-Engineering-Project-2/scripts/AA_REC_SYSTEM.ipynb#Y120sZmlsZQ%3D%3D?line=1'>2</a>\u001b[0m subregio_1hot\u001b[39m.\u001b[39;49mtoarray()\n",
      "\u001b[1;31mAttributeError\u001b[0m: 'numpy.ndarray' object has no attribute 'toarray'"
     ]
    }
   ],
   "source": [
    "subregio_1hot = oneHot.fit_transform(accounts_merged[['account_adres_geografische_subregio']])"
   ]
  },
  {
   "cell_type": "code",
   "execution_count": 58,
   "metadata": {},
   "outputs": [],
   "source": [
    "def transform_role(role):\n",
    "    if \"Verantwoordelijke\" in role:\n",
    "        return \"Verantwoordelijke\"\n",
    "    elif \"Medewerker\" in role:\n",
    "        return \"Medewerker\"\n",
    "    else:\n",
    "        return role\n",
    "\n",
    "accounts_merged['functie_naam'] = accounts_merged['functie_naam'].apply(transform_role)"
   ]
  },
  {
   "cell_type": "code",
   "execution_count": null,
   "metadata": {},
   "outputs": [],
   "source": [
    "functie_1hot = oneHot.fit_transform(accounts_merged[['functie_naam']])"
   ]
  },
  {
   "cell_type": "code",
   "execution_count": 63,
   "metadata": {},
   "outputs": [],
   "source": [
    "diensten_column = []\n",
    "productie_column = []\n",
    "\n",
    "for label in accounts_merged[\"account_ondernemingsaard\"]:\n",
    "    if label == \"Diensten\":\n",
    "        diensten_column.append(1)\n",
    "        productie_column.append(0)\n",
    "    elif label == \"Productie\":\n",
    "        diensten_column.append(0)\n",
    "        productie_column.append(1)\n",
    "    elif label == \"Productie & Diensten\":\n",
    "        diensten_column.append(1)\n",
    "        productie_column.append(1)\n",
    "    elif label == \"unknown\":\n",
    "        diensten_column.append(0)\n",
    "        productie_column.append(0)\n",
    "\n",
    "ondernemingsaard_multihot = pd.DataFrame({\"Diensten\": diensten_column, \"Productie\": productie_column})"
   ]
  },
  {
   "cell_type": "code",
   "execution_count": null,
   "metadata": {},
   "outputs": [],
   "source": [
    "ondernemingstype_1hot = oneHot.fit_transform(accounts_merged[['account_ondernemingstype']])"
   ]
  },
  {
   "cell_type": "code",
   "execution_count": null,
   "metadata": {},
   "outputs": [],
   "source": []
  },
  {
   "cell_type": "code",
   "execution_count": 71,
   "metadata": {},
   "outputs": [
    {
     "data": {
      "text/plain": [
       "afspraak_betreft\n",
       "account    52095\n",
       "contact     5062\n",
       "Name: count, dtype: int64"
      ]
     },
     "execution_count": 71,
     "metadata": {},
     "output_type": "execute_result"
    }
   ],
   "source": [
    "accounts_merged[\"afspraak_betreft\"].value_counts()"
   ]
  },
  {
   "cell_type": "code",
   "execution_count": null,
   "metadata": {},
   "outputs": [],
   "source": [
    "afspraak_betreft = oneHot.fit_transform(accounts_merged[['afspraak_betreft']])"
   ]
  }
 ],
 "metadata": {
  "kernelspec": {
   "display_name": "Python 3",
   "language": "python",
   "name": "python3"
  },
  "language_info": {
   "codemirror_mode": {
    "name": "ipython",
    "version": 3
   },
   "file_extension": ".py",
   "mimetype": "text/x-python",
   "name": "python",
   "nbconvert_exporter": "python",
   "pygments_lexer": "ipython3",
   "version": "3.11.6"
  }
 },
 "nbformat": 4,
 "nbformat_minor": 2
}
