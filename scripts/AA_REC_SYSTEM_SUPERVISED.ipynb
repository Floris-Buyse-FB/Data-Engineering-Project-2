{
 "cells": [
  {
   "cell_type": "code",
   "execution_count": 2,
   "metadata": {},
   "outputs": [
    {
     "ename": "ImportError",
     "evalue": "cannot import name hashtable",
     "output_type": "error",
     "traceback": [
      "\u001b[1;31m---------------------------------------------------------------------------\u001b[0m",
      "\u001b[1;31mImportError\u001b[0m                               Traceback (most recent call last)",
      "\u001b[1;32mc:\\Users\\marlo\\Documents\\HOGENT\\23-24\\Semester 1\\Data Engineering Project 2\\Data-Engineering-Project-2\\scripts\\AA_REC_SYSTEM_SUPERVISED.ipynb Cell 1\u001b[0m line \u001b[0;36m1\n\u001b[1;32m----> <a href='vscode-notebook-cell:/c%3A/Users/marlo/Documents/HOGENT/23-24/Semester%201/Data%20Engineering%20Project%202/Data-Engineering-Project-2/scripts/AA_REC_SYSTEM_SUPERVISED.ipynb#W0sZmlsZQ%3D%3D?line=0'>1</a>\u001b[0m \u001b[39mimport\u001b[39;00m \u001b[39mpandas\u001b[39;00m \u001b[39mas\u001b[39;00m \u001b[39mpd\u001b[39;00m\n",
      "File \u001b[1;32m~\\AppData\\Local\\Packages\\PythonSoftwareFoundation.Python.3.11_qbz5n2kfra8p0\\LocalCache\\local-packages\\Python311\\site-packages\\pandas\\__init__.py:59\u001b[0m\n\u001b[0;32m     56\u001b[0m \u001b[39m# let init-time option registration happen\u001b[39;00m\n\u001b[0;32m     57\u001b[0m \u001b[39mimport\u001b[39;00m \u001b[39mpandas\u001b[39;00m\u001b[39m.\u001b[39;00m\u001b[39mcore\u001b[39;00m\u001b[39m.\u001b[39;00m\u001b[39mconfig_init\u001b[39;00m  \u001b[39m# pyright: ignore[reportUnusedImport] # noqa: F401\u001b[39;00m\n\u001b[1;32m---> 59\u001b[0m \u001b[39mfrom\u001b[39;00m \u001b[39mpandas\u001b[39;00m\u001b[39m.\u001b[39;00m\u001b[39mcore\u001b[39;00m\u001b[39m.\u001b[39;00m\u001b[39mapi\u001b[39;00m \u001b[39mimport\u001b[39;00m (\n\u001b[0;32m     60\u001b[0m     \u001b[39m# dtype\u001b[39;00m\n\u001b[0;32m     61\u001b[0m     ArrowDtype,\n\u001b[0;32m     62\u001b[0m     Int8Dtype,\n\u001b[0;32m     63\u001b[0m     Int16Dtype,\n\u001b[0;32m     64\u001b[0m     Int32Dtype,\n\u001b[0;32m     65\u001b[0m     Int64Dtype,\n\u001b[0;32m     66\u001b[0m     UInt8Dtype,\n\u001b[0;32m     67\u001b[0m     UInt16Dtype,\n\u001b[0;32m     68\u001b[0m     UInt32Dtype,\n\u001b[0;32m     69\u001b[0m     UInt64Dtype,\n\u001b[0;32m     70\u001b[0m     Float32Dtype,\n\u001b[0;32m     71\u001b[0m     Float64Dtype,\n\u001b[0;32m     72\u001b[0m     CategoricalDtype,\n\u001b[0;32m     73\u001b[0m     PeriodDtype,\n\u001b[0;32m     74\u001b[0m     IntervalDtype,\n\u001b[0;32m     75\u001b[0m     DatetimeTZDtype,\n\u001b[0;32m     76\u001b[0m     StringDtype,\n\u001b[0;32m     77\u001b[0m     BooleanDtype,\n\u001b[0;32m     78\u001b[0m     \u001b[39m# missing\u001b[39;00m\n\u001b[0;32m     79\u001b[0m     NA,\n\u001b[0;32m     80\u001b[0m     isna,\n\u001b[0;32m     81\u001b[0m     isnull,\n\u001b[0;32m     82\u001b[0m     notna,\n\u001b[0;32m     83\u001b[0m     notnull,\n\u001b[0;32m     84\u001b[0m     \u001b[39m# indexes\u001b[39;00m\n\u001b[0;32m     85\u001b[0m     Index,\n\u001b[0;32m     86\u001b[0m     CategoricalIndex,\n\u001b[0;32m     87\u001b[0m     RangeIndex,\n\u001b[0;32m     88\u001b[0m     MultiIndex,\n\u001b[0;32m     89\u001b[0m     IntervalIndex,\n\u001b[0;32m     90\u001b[0m     TimedeltaIndex,\n\u001b[0;32m     91\u001b[0m     DatetimeIndex,\n\u001b[0;32m     92\u001b[0m     PeriodIndex,\n\u001b[0;32m     93\u001b[0m     IndexSlice,\n\u001b[0;32m     94\u001b[0m     \u001b[39m# tseries\u001b[39;00m\n\u001b[0;32m     95\u001b[0m     NaT,\n\u001b[0;32m     96\u001b[0m     Period,\n\u001b[0;32m     97\u001b[0m     period_range,\n\u001b[0;32m     98\u001b[0m     Timedelta,\n\u001b[0;32m     99\u001b[0m     timedelta_range,\n\u001b[0;32m    100\u001b[0m     Timestamp,\n\u001b[0;32m    101\u001b[0m     date_range,\n\u001b[0;32m    102\u001b[0m     bdate_range,\n\u001b[0;32m    103\u001b[0m     Interval,\n\u001b[0;32m    104\u001b[0m     interval_range,\n\u001b[0;32m    105\u001b[0m     DateOffset,\n\u001b[0;32m    106\u001b[0m     \u001b[39m# conversion\u001b[39;00m\n\u001b[0;32m    107\u001b[0m     to_numeric,\n\u001b[0;32m    108\u001b[0m     to_datetime,\n\u001b[0;32m    109\u001b[0m     to_timedelta,\n\u001b[0;32m    110\u001b[0m     \u001b[39m# misc\u001b[39;00m\n\u001b[0;32m    111\u001b[0m     Flags,\n\u001b[0;32m    112\u001b[0m     Grouper,\n\u001b[0;32m    113\u001b[0m     factorize,\n\u001b[0;32m    114\u001b[0m     unique,\n\u001b[0;32m    115\u001b[0m     value_counts,\n\u001b[0;32m    116\u001b[0m     NamedAgg,\n\u001b[0;32m    117\u001b[0m     array,\n\u001b[0;32m    118\u001b[0m     Categorical,\n\u001b[0;32m    119\u001b[0m     set_eng_float_format,\n\u001b[0;32m    120\u001b[0m     Series,\n\u001b[0;32m    121\u001b[0m     DataFrame,\n\u001b[0;32m    122\u001b[0m )\n\u001b[0;32m    124\u001b[0m \u001b[39mfrom\u001b[39;00m \u001b[39mpandas\u001b[39;00m\u001b[39m.\u001b[39;00m\u001b[39mcore\u001b[39;00m\u001b[39m.\u001b[39;00m\u001b[39mdtypes\u001b[39;00m\u001b[39m.\u001b[39;00m\u001b[39mdtypes\u001b[39;00m \u001b[39mimport\u001b[39;00m SparseDtype\n\u001b[0;32m    126\u001b[0m \u001b[39mfrom\u001b[39;00m \u001b[39mpandas\u001b[39;00m\u001b[39m.\u001b[39;00m\u001b[39mtseries\u001b[39;00m\u001b[39m.\u001b[39;00m\u001b[39mapi\u001b[39;00m \u001b[39mimport\u001b[39;00m infer_freq\n",
      "File \u001b[1;32m~\\AppData\\Local\\Packages\\PythonSoftwareFoundation.Python.3.11_qbz5n2kfra8p0\\LocalCache\\local-packages\\Python311\\site-packages\\pandas\\core\\api.py:47\u001b[0m\n\u001b[0;32m     45\u001b[0m \u001b[39mfrom\u001b[39;00m \u001b[39mpandas\u001b[39;00m\u001b[39m.\u001b[39;00m\u001b[39mcore\u001b[39;00m\u001b[39m.\u001b[39;00m\u001b[39mconstruction\u001b[39;00m \u001b[39mimport\u001b[39;00m array\n\u001b[0;32m     46\u001b[0m \u001b[39mfrom\u001b[39;00m \u001b[39mpandas\u001b[39;00m\u001b[39m.\u001b[39;00m\u001b[39mcore\u001b[39;00m\u001b[39m.\u001b[39;00m\u001b[39mflags\u001b[39;00m \u001b[39mimport\u001b[39;00m Flags\n\u001b[1;32m---> 47\u001b[0m \u001b[39mfrom\u001b[39;00m \u001b[39mpandas\u001b[39;00m\u001b[39m.\u001b[39;00m\u001b[39mcore\u001b[39;00m\u001b[39m.\u001b[39;00m\u001b[39mgroupby\u001b[39;00m \u001b[39mimport\u001b[39;00m (\n\u001b[0;32m     48\u001b[0m     Grouper,\n\u001b[0;32m     49\u001b[0m     NamedAgg,\n\u001b[0;32m     50\u001b[0m )\n\u001b[0;32m     51\u001b[0m \u001b[39mfrom\u001b[39;00m \u001b[39mpandas\u001b[39;00m\u001b[39m.\u001b[39;00m\u001b[39mcore\u001b[39;00m\u001b[39m.\u001b[39;00m\u001b[39mindexes\u001b[39;00m\u001b[39m.\u001b[39;00m\u001b[39mapi\u001b[39;00m \u001b[39mimport\u001b[39;00m (\n\u001b[0;32m     52\u001b[0m     CategoricalIndex,\n\u001b[0;32m     53\u001b[0m     DatetimeIndex,\n\u001b[1;32m   (...)\u001b[0m\n\u001b[0;32m     59\u001b[0m     TimedeltaIndex,\n\u001b[0;32m     60\u001b[0m )\n\u001b[0;32m     61\u001b[0m \u001b[39mfrom\u001b[39;00m \u001b[39mpandas\u001b[39;00m\u001b[39m.\u001b[39;00m\u001b[39mcore\u001b[39;00m\u001b[39m.\u001b[39;00m\u001b[39mindexes\u001b[39;00m\u001b[39m.\u001b[39;00m\u001b[39mdatetimes\u001b[39;00m \u001b[39mimport\u001b[39;00m (\n\u001b[0;32m     62\u001b[0m     bdate_range,\n\u001b[0;32m     63\u001b[0m     date_range,\n\u001b[0;32m     64\u001b[0m )\n",
      "File \u001b[1;32m~\\AppData\\Local\\Packages\\PythonSoftwareFoundation.Python.3.11_qbz5n2kfra8p0\\LocalCache\\local-packages\\Python311\\site-packages\\pandas\\core\\groupby\\__init__.py:1\u001b[0m\n\u001b[1;32m----> 1\u001b[0m \u001b[39mfrom\u001b[39;00m \u001b[39mpandas\u001b[39;00m\u001b[39m.\u001b[39;00m\u001b[39mcore\u001b[39;00m\u001b[39m.\u001b[39;00m\u001b[39mgroupby\u001b[39;00m\u001b[39m.\u001b[39;00m\u001b[39mgeneric\u001b[39;00m \u001b[39mimport\u001b[39;00m (\n\u001b[0;32m      2\u001b[0m     DataFrameGroupBy,\n\u001b[0;32m      3\u001b[0m     NamedAgg,\n\u001b[0;32m      4\u001b[0m     SeriesGroupBy,\n\u001b[0;32m      5\u001b[0m )\n\u001b[0;32m      6\u001b[0m \u001b[39mfrom\u001b[39;00m \u001b[39mpandas\u001b[39;00m\u001b[39m.\u001b[39;00m\u001b[39mcore\u001b[39;00m\u001b[39m.\u001b[39;00m\u001b[39mgroupby\u001b[39;00m\u001b[39m.\u001b[39;00m\u001b[39mgroupby\u001b[39;00m \u001b[39mimport\u001b[39;00m GroupBy\n\u001b[0;32m      7\u001b[0m \u001b[39mfrom\u001b[39;00m \u001b[39mpandas\u001b[39;00m\u001b[39m.\u001b[39;00m\u001b[39mcore\u001b[39;00m\u001b[39m.\u001b[39;00m\u001b[39mgroupby\u001b[39;00m\u001b[39m.\u001b[39;00m\u001b[39mgrouper\u001b[39;00m \u001b[39mimport\u001b[39;00m Grouper\n",
      "File \u001b[1;32m~\\AppData\\Local\\Packages\\PythonSoftwareFoundation.Python.3.11_qbz5n2kfra8p0\\LocalCache\\local-packages\\Python311\\site-packages\\pandas\\core\\groupby\\generic.py:67\u001b[0m\n\u001b[0;32m     59\u001b[0m \u001b[39mfrom\u001b[39;00m \u001b[39mpandas\u001b[39;00m\u001b[39m.\u001b[39;00m\u001b[39mcore\u001b[39;00m\u001b[39m.\u001b[39;00m\u001b[39mapply\u001b[39;00m \u001b[39mimport\u001b[39;00m (\n\u001b[0;32m     60\u001b[0m     GroupByApply,\n\u001b[0;32m     61\u001b[0m     maybe_mangle_lambdas,\n\u001b[1;32m   (...)\u001b[0m\n\u001b[0;32m     64\u001b[0m     warn_alias_replacement,\n\u001b[0;32m     65\u001b[0m )\n\u001b[0;32m     66\u001b[0m \u001b[39mimport\u001b[39;00m \u001b[39mpandas\u001b[39;00m\u001b[39m.\u001b[39;00m\u001b[39mcore\u001b[39;00m\u001b[39m.\u001b[39;00m\u001b[39mcommon\u001b[39;00m \u001b[39mas\u001b[39;00m \u001b[39mcom\u001b[39;00m\n\u001b[1;32m---> 67\u001b[0m \u001b[39mfrom\u001b[39;00m \u001b[39mpandas\u001b[39;00m\u001b[39m.\u001b[39;00m\u001b[39mcore\u001b[39;00m\u001b[39m.\u001b[39;00m\u001b[39mframe\u001b[39;00m \u001b[39mimport\u001b[39;00m DataFrame\n\u001b[0;32m     68\u001b[0m \u001b[39mfrom\u001b[39;00m \u001b[39mpandas\u001b[39;00m\u001b[39m.\u001b[39;00m\u001b[39mcore\u001b[39;00m\u001b[39m.\u001b[39;00m\u001b[39mgroupby\u001b[39;00m \u001b[39mimport\u001b[39;00m (\n\u001b[0;32m     69\u001b[0m     base,\n\u001b[0;32m     70\u001b[0m     ops,\n\u001b[0;32m     71\u001b[0m )\n\u001b[0;32m     72\u001b[0m \u001b[39mfrom\u001b[39;00m \u001b[39mpandas\u001b[39;00m\u001b[39m.\u001b[39;00m\u001b[39mcore\u001b[39;00m\u001b[39m.\u001b[39;00m\u001b[39mgroupby\u001b[39;00m\u001b[39m.\u001b[39;00m\u001b[39mgroupby\u001b[39;00m \u001b[39mimport\u001b[39;00m (\n\u001b[0;32m     73\u001b[0m     GroupBy,\n\u001b[0;32m     74\u001b[0m     GroupByPlot,\n\u001b[1;32m   (...)\u001b[0m\n\u001b[0;32m     78\u001b[0m     _transform_template,\n\u001b[0;32m     79\u001b[0m )\n",
      "File \u001b[1;32m~\\AppData\\Local\\Packages\\PythonSoftwareFoundation.Python.3.11_qbz5n2kfra8p0\\LocalCache\\local-packages\\Python311\\site-packages\\pandas\\core\\frame.py:142\u001b[0m\n\u001b[0;32m    135\u001b[0m \u001b[39mfrom\u001b[39;00m \u001b[39mpandas\u001b[39;00m\u001b[39m.\u001b[39;00m\u001b[39mcore\u001b[39;00m\u001b[39m.\u001b[39;00m\u001b[39marrays\u001b[39;00m\u001b[39m.\u001b[39;00m\u001b[39msparse\u001b[39;00m \u001b[39mimport\u001b[39;00m SparseFrameAccessor\n\u001b[0;32m    136\u001b[0m \u001b[39mfrom\u001b[39;00m \u001b[39mpandas\u001b[39;00m\u001b[39m.\u001b[39;00m\u001b[39mcore\u001b[39;00m\u001b[39m.\u001b[39;00m\u001b[39mconstruction\u001b[39;00m \u001b[39mimport\u001b[39;00m (\n\u001b[0;32m    137\u001b[0m     ensure_wrapped_if_datetimelike,\n\u001b[0;32m    138\u001b[0m     extract_array,\n\u001b[0;32m    139\u001b[0m     sanitize_array,\n\u001b[0;32m    140\u001b[0m     sanitize_masked_array,\n\u001b[0;32m    141\u001b[0m )\n\u001b[1;32m--> 142\u001b[0m \u001b[39mfrom\u001b[39;00m \u001b[39mpandas\u001b[39;00m\u001b[39m.\u001b[39;00m\u001b[39mcore\u001b[39;00m\u001b[39m.\u001b[39;00m\u001b[39mgeneric\u001b[39;00m \u001b[39mimport\u001b[39;00m (\n\u001b[0;32m    143\u001b[0m     NDFrame,\n\u001b[0;32m    144\u001b[0m     make_doc,\n\u001b[0;32m    145\u001b[0m )\n\u001b[0;32m    146\u001b[0m \u001b[39mfrom\u001b[39;00m \u001b[39mpandas\u001b[39;00m\u001b[39m.\u001b[39;00m\u001b[39mcore\u001b[39;00m\u001b[39m.\u001b[39;00m\u001b[39mindexers\u001b[39;00m \u001b[39mimport\u001b[39;00m check_key_length\n\u001b[0;32m    147\u001b[0m \u001b[39mfrom\u001b[39;00m \u001b[39mpandas\u001b[39;00m\u001b[39m.\u001b[39;00m\u001b[39mcore\u001b[39;00m\u001b[39m.\u001b[39;00m\u001b[39mindexes\u001b[39;00m\u001b[39m.\u001b[39;00m\u001b[39mapi\u001b[39;00m \u001b[39mimport\u001b[39;00m (\n\u001b[0;32m    148\u001b[0m     DatetimeIndex,\n\u001b[0;32m    149\u001b[0m     Index,\n\u001b[1;32m   (...)\u001b[0m\n\u001b[0;32m    153\u001b[0m     ensure_index_from_sequences,\n\u001b[0;32m    154\u001b[0m )\n",
      "File \u001b[1;32m~\\AppData\\Local\\Packages\\PythonSoftwareFoundation.Python.3.11_qbz5n2kfra8p0\\LocalCache\\local-packages\\Python311\\site-packages\\pandas\\core\\generic.py:146\u001b[0m\n\u001b[0;32m    137\u001b[0m \u001b[39mfrom\u001b[39;00m \u001b[39mpandas\u001b[39;00m\u001b[39m.\u001b[39;00m\u001b[39mcore\u001b[39;00m\u001b[39m.\u001b[39;00m\u001b[39mdtypes\u001b[39;00m\u001b[39m.\u001b[39;00m\u001b[39minference\u001b[39;00m \u001b[39mimport\u001b[39;00m (\n\u001b[0;32m    138\u001b[0m     is_hashable,\n\u001b[0;32m    139\u001b[0m     is_nested_list_like,\n\u001b[0;32m    140\u001b[0m )\n\u001b[0;32m    141\u001b[0m \u001b[39mfrom\u001b[39;00m \u001b[39mpandas\u001b[39;00m\u001b[39m.\u001b[39;00m\u001b[39mcore\u001b[39;00m\u001b[39m.\u001b[39;00m\u001b[39mdtypes\u001b[39;00m\u001b[39m.\u001b[39;00m\u001b[39mmissing\u001b[39;00m \u001b[39mimport\u001b[39;00m (\n\u001b[0;32m    142\u001b[0m     isna,\n\u001b[0;32m    143\u001b[0m     notna,\n\u001b[0;32m    144\u001b[0m )\n\u001b[1;32m--> 146\u001b[0m \u001b[39mfrom\u001b[39;00m \u001b[39mpandas\u001b[39;00m\u001b[39m.\u001b[39;00m\u001b[39mcore\u001b[39;00m \u001b[39mimport\u001b[39;00m (\n\u001b[0;32m    147\u001b[0m     algorithms \u001b[39mas\u001b[39;00m algos,\n\u001b[0;32m    148\u001b[0m     arraylike,\n\u001b[0;32m    149\u001b[0m     common,\n\u001b[0;32m    150\u001b[0m     indexing,\n\u001b[0;32m    151\u001b[0m     missing,\n\u001b[0;32m    152\u001b[0m     nanops,\n\u001b[0;32m    153\u001b[0m     sample,\n\u001b[0;32m    154\u001b[0m )\n\u001b[0;32m    155\u001b[0m \u001b[39mfrom\u001b[39;00m \u001b[39mpandas\u001b[39;00m\u001b[39m.\u001b[39;00m\u001b[39mcore\u001b[39;00m\u001b[39m.\u001b[39;00m\u001b[39marray_algos\u001b[39;00m\u001b[39m.\u001b[39;00m\u001b[39mreplace\u001b[39;00m \u001b[39mimport\u001b[39;00m should_use_regex\n\u001b[0;32m    156\u001b[0m \u001b[39mfrom\u001b[39;00m \u001b[39mpandas\u001b[39;00m\u001b[39m.\u001b[39;00m\u001b[39mcore\u001b[39;00m\u001b[39m.\u001b[39;00m\u001b[39marrays\u001b[39;00m \u001b[39mimport\u001b[39;00m ExtensionArray\n",
      "File \u001b[1;32m~\\AppData\\Local\\Packages\\PythonSoftwareFoundation.Python.3.11_qbz5n2kfra8p0\\LocalCache\\local-packages\\Python311\\site-packages\\pandas\\core\\indexing.py:70\u001b[0m\n\u001b[0;32m     60\u001b[0m \u001b[39mfrom\u001b[39;00m \u001b[39mpandas\u001b[39;00m\u001b[39m.\u001b[39;00m\u001b[39mcore\u001b[39;00m\u001b[39m.\u001b[39;00m\u001b[39mconstruction\u001b[39;00m \u001b[39mimport\u001b[39;00m (\n\u001b[0;32m     61\u001b[0m     array \u001b[39mas\u001b[39;00m pd_array,\n\u001b[0;32m     62\u001b[0m     extract_array,\n\u001b[0;32m     63\u001b[0m )\n\u001b[0;32m     64\u001b[0m \u001b[39mfrom\u001b[39;00m \u001b[39mpandas\u001b[39;00m\u001b[39m.\u001b[39;00m\u001b[39mcore\u001b[39;00m\u001b[39m.\u001b[39;00m\u001b[39mindexers\u001b[39;00m \u001b[39mimport\u001b[39;00m (\n\u001b[0;32m     65\u001b[0m     check_array_indexer,\n\u001b[0;32m     66\u001b[0m     is_list_like_indexer,\n\u001b[0;32m     67\u001b[0m     is_scalar_indexer,\n\u001b[0;32m     68\u001b[0m     length_of_indexer,\n\u001b[0;32m     69\u001b[0m )\n\u001b[1;32m---> 70\u001b[0m \u001b[39mfrom\u001b[39;00m \u001b[39mpandas\u001b[39;00m\u001b[39m.\u001b[39;00m\u001b[39mcore\u001b[39;00m\u001b[39m.\u001b[39;00m\u001b[39mindexes\u001b[39;00m\u001b[39m.\u001b[39;00m\u001b[39mapi\u001b[39;00m \u001b[39mimport\u001b[39;00m (\n\u001b[0;32m     71\u001b[0m     Index,\n\u001b[0;32m     72\u001b[0m     MultiIndex,\n\u001b[0;32m     73\u001b[0m )\n\u001b[0;32m     75\u001b[0m \u001b[39mif\u001b[39;00m TYPE_CHECKING:\n\u001b[0;32m     76\u001b[0m     \u001b[39mfrom\u001b[39;00m \u001b[39mcollections\u001b[39;00m\u001b[39m.\u001b[39;00m\u001b[39mabc\u001b[39;00m \u001b[39mimport\u001b[39;00m (\n\u001b[0;32m     77\u001b[0m         Hashable,\n\u001b[0;32m     78\u001b[0m         Sequence,\n\u001b[0;32m     79\u001b[0m     )\n",
      "File \u001b[1;32m~\\AppData\\Local\\Packages\\PythonSoftwareFoundation.Python.3.11_qbz5n2kfra8p0\\LocalCache\\local-packages\\Python311\\site-packages\\pandas\\core\\indexes\\api.py:20\u001b[0m\n\u001b[0;32m     17\u001b[0m \u001b[39mfrom\u001b[39;00m \u001b[39mpandas\u001b[39;00m\u001b[39m.\u001b[39;00m\u001b[39mcore\u001b[39;00m\u001b[39m.\u001b[39;00m\u001b[39mdtypes\u001b[39;00m\u001b[39m.\u001b[39;00m\u001b[39mcast\u001b[39;00m \u001b[39mimport\u001b[39;00m find_common_type\n\u001b[0;32m     19\u001b[0m \u001b[39mfrom\u001b[39;00m \u001b[39mpandas\u001b[39;00m\u001b[39m.\u001b[39;00m\u001b[39mcore\u001b[39;00m\u001b[39m.\u001b[39;00m\u001b[39malgorithms\u001b[39;00m \u001b[39mimport\u001b[39;00m safe_sort\n\u001b[1;32m---> 20\u001b[0m \u001b[39mfrom\u001b[39;00m \u001b[39mpandas\u001b[39;00m\u001b[39m.\u001b[39;00m\u001b[39mcore\u001b[39;00m\u001b[39m.\u001b[39;00m\u001b[39mindexes\u001b[39;00m\u001b[39m.\u001b[39;00m\u001b[39mbase\u001b[39;00m \u001b[39mimport\u001b[39;00m (\n\u001b[0;32m     21\u001b[0m     Index,\n\u001b[0;32m     22\u001b[0m     _new_Index,\n\u001b[0;32m     23\u001b[0m     ensure_index,\n\u001b[0;32m     24\u001b[0m     ensure_index_from_sequences,\n\u001b[0;32m     25\u001b[0m     get_unanimous_names,\n\u001b[0;32m     26\u001b[0m )\n\u001b[0;32m     27\u001b[0m \u001b[39mfrom\u001b[39;00m \u001b[39mpandas\u001b[39;00m\u001b[39m.\u001b[39;00m\u001b[39mcore\u001b[39;00m\u001b[39m.\u001b[39;00m\u001b[39mindexes\u001b[39;00m\u001b[39m.\u001b[39;00m\u001b[39mcategory\u001b[39;00m \u001b[39mimport\u001b[39;00m CategoricalIndex\n\u001b[0;32m     28\u001b[0m \u001b[39mfrom\u001b[39;00m \u001b[39mpandas\u001b[39;00m\u001b[39m.\u001b[39;00m\u001b[39mcore\u001b[39;00m\u001b[39m.\u001b[39;00m\u001b[39mindexes\u001b[39;00m\u001b[39m.\u001b[39;00m\u001b[39mdatetimes\u001b[39;00m \u001b[39mimport\u001b[39;00m DatetimeIndex\n",
      "File \u001b[1;32m~\\AppData\\Local\\Packages\\PythonSoftwareFoundation.Python.3.11_qbz5n2kfra8p0\\LocalCache\\local-packages\\Python311\\site-packages\\pandas\\core\\indexes\\base.py:28\u001b[0m\n\u001b[0;32m     21\u001b[0m \u001b[39mimport\u001b[39;00m \u001b[39mnumpy\u001b[39;00m \u001b[39mas\u001b[39;00m \u001b[39mnp\u001b[39;00m\n\u001b[0;32m     23\u001b[0m \u001b[39mfrom\u001b[39;00m \u001b[39mpandas\u001b[39;00m\u001b[39m.\u001b[39;00m\u001b[39m_config\u001b[39;00m \u001b[39mimport\u001b[39;00m (\n\u001b[0;32m     24\u001b[0m     get_option,\n\u001b[0;32m     25\u001b[0m     using_copy_on_write,\n\u001b[0;32m     26\u001b[0m )\n\u001b[1;32m---> 28\u001b[0m \u001b[39mfrom\u001b[39;00m \u001b[39mpandas\u001b[39;00m\u001b[39m.\u001b[39;00m\u001b[39m_libs\u001b[39;00m \u001b[39mimport\u001b[39;00m (\n\u001b[0;32m     29\u001b[0m     NaT,\n\u001b[0;32m     30\u001b[0m     algos \u001b[39mas\u001b[39;00m libalgos,\n\u001b[0;32m     31\u001b[0m     index \u001b[39mas\u001b[39;00m libindex,\n\u001b[0;32m     32\u001b[0m     lib,\n\u001b[0;32m     33\u001b[0m )\n\u001b[0;32m     34\u001b[0m \u001b[39mfrom\u001b[39;00m \u001b[39mpandas\u001b[39;00m\u001b[39m.\u001b[39;00m\u001b[39m_libs\u001b[39;00m\u001b[39m.\u001b[39;00m\u001b[39minternals\u001b[39;00m \u001b[39mimport\u001b[39;00m BlockValuesRefs\n\u001b[0;32m     35\u001b[0m \u001b[39mimport\u001b[39;00m \u001b[39mpandas\u001b[39;00m\u001b[39m.\u001b[39;00m\u001b[39m_libs\u001b[39;00m\u001b[39m.\u001b[39;00m\u001b[39mjoin\u001b[39;00m \u001b[39mas\u001b[39;00m \u001b[39mlibjoin\u001b[39;00m\n",
      "File \u001b[1;32mindex.pyx:33\u001b[0m, in \u001b[0;36minit pandas._libs.index\u001b[1;34m()\u001b[0m\n",
      "\u001b[1;31mImportError\u001b[0m: cannot import name hashtable"
     ]
    }
   ],
   "source": [
    "import pandas as pd"
   ]
  },
  {
   "cell_type": "markdown",
   "metadata": {},
   "source": [
    "### Eerst gaan we alle datafiles die we nodig hebben mergen tot 1 dataframe"
   ]
  },
  {
   "cell_type": "markdown",
   "metadata": {},
   "source": [
    "#### 1. Alles van Account mergen"
   ]
  },
  {
   "cell_type": "markdown",
   "metadata": {},
   "source": [
    "##### Account mergen met activiteit tabellen"
   ]
  },
  {
   "cell_type": "code",
   "execution_count": null,
   "metadata": {},
   "outputs": [],
   "source": [
    "data_acc = pd.read_csv('../data_clean/Account_fixed.csv', sep=',')\n",
    "data_acti = pd.read_csv('../data_clean/Activiteitscode_fixed.csv', sep=\",\")\n",
    "data_acc_acti = pd.read_csv('../data_clean/Account_activiteitscode_fixed.csv', sep=\",\")\n",
    "\n",
    "data_acc = data_acc[data_acc['account_reden_van_status'] != 'Inactief']\n",
    "data_acc = data_acc[data_acc['account_reden_van_status'] != 'Stopzetting']\n",
    "data_acc = data_acc[data_acc['account_adres_provincie'] == 'Oost-Vlaanderen']\n",
    "\n",
    "# merge account_activiteitscode with activiteitscode\n",
    "merged_relation = data_acc_acti.merge(data_acti, left_on='account_activiteitscode_activiteitscode', right_on='activiteitscode_activiteitscode_id', how='inner')\n",
    "# merge account with the merged relation from above\n",
    "accounts_merged = data_acc.merge(merged_relation, left_on='account_account_id', right_on='account_activiteitscode_account', how='inner')\n",
    "\n",
    "accounts_merged = accounts_merged[accounts_merged['activiteitscode_status'] == 'Actief']"
   ]
  },
  {
   "cell_type": "code",
   "execution_count": null,
   "metadata": {},
   "outputs": [],
   "source": [
    "# RAM vrijmaken\n",
    "try:\n",
    "    del data_acc\n",
    "    del data_acti\n",
    "    del data_acc_acti\n",
    "    del merged_relation\n",
    "except:\n",
    "    print(\"Data is niet meer beschikbaar / is al verwijderd\")"
   ]
  },
  {
   "cell_type": "code",
   "execution_count": null,
   "metadata": {},
   "outputs": [
    {
     "data": {
      "text/plain": [
       "(3192, 22)"
      ]
     },
     "execution_count": 576,
     "metadata": {},
     "output_type": "execute_result"
    }
   ],
   "source": [
    "accounts_merged.shape"
   ]
  },
  {
   "cell_type": "markdown",
   "metadata": {},
   "source": [
    "##### Accounts mergen met financiële data"
   ]
  },
  {
   "cell_type": "code",
   "execution_count": null,
   "metadata": {},
   "outputs": [],
   "source": [
    "# financiele_data = pd.read_csv('../data_clean/Account_financiële_data_fixed.csv', sep=',')\n",
    "# financiele_data.shape"
   ]
  },
  {
   "cell_type": "code",
   "execution_count": null,
   "metadata": {},
   "outputs": [],
   "source": [
    "# accounts_merged = accounts_merged.merge(financiele_data, left_on='account_account_id', right_on='financieledata_ondernemingid', how='inner')\n",
    "# accounts_merged.shape"
   ]
  },
  {
   "cell_type": "markdown",
   "metadata": {},
   "source": [
    "##### Accounts merge met Contactfiches"
   ]
  },
  {
   "cell_type": "code",
   "execution_count": null,
   "metadata": {},
   "outputs": [
    {
     "data": {
      "text/plain": [
       "(393514, 6)"
      ]
     },
     "execution_count": 579,
     "metadata": {},
     "output_type": "execute_result"
    }
   ],
   "source": [
    "contactfiches = pd.read_csv('../data_clean/Contact_fixed.csv', sep=',')\n",
    "contactfiches = contactfiches[contactfiches['contact_status'] != 'Inactief']\n",
    "contactfiches['contact_functietitel'] = contactfiches['contact_functietitel'].str.lower().str.replace(r'[^\\w\\s]', '', regex=True) \\\n",
    "                                                        .str.replace('  ', ' ').str.strip()\n",
    "contactfiches.shape"
   ]
  },
  {
   "cell_type": "code",
   "execution_count": null,
   "metadata": {},
   "outputs": [
    {
     "data": {
      "text/plain": [
       "(16836, 28)"
      ]
     },
     "execution_count": 580,
     "metadata": {},
     "output_type": "execute_result"
    }
   ],
   "source": [
    "accounts_merged = accounts_merged.merge(contactfiches, left_on='account_account_id', right_on='contact_account', how='inner')\n",
    "accounts_merged.shape"
   ]
  },
  {
   "cell_type": "markdown",
   "metadata": {},
   "source": [
    "##### Accounts mergen met Functie"
   ]
  },
  {
   "cell_type": "code",
   "execution_count": null,
   "metadata": {},
   "outputs": [
    {
     "data": {
      "text/plain": [
       "((589129, 2), (71, 2))"
      ]
     },
     "execution_count": 581,
     "metadata": {},
     "output_type": "execute_result"
    }
   ],
   "source": [
    "contactfiches_functies = pd.read_csv('../data_clean/Contact_functie_fixed.csv', sep=',')\n",
    "functies = pd.read_csv('../data_clean/Functie_fixed.csv', sep=',')\n",
    "contactfiches_functies.shape, functies.shape"
   ]
  },
  {
   "cell_type": "code",
   "execution_count": null,
   "metadata": {},
   "outputs": [
    {
     "data": {
      "text/plain": [
       "Index(['contactfunctie_contactpersoon', 'contactfunctie_functie'], dtype='object')"
      ]
     },
     "execution_count": 582,
     "metadata": {},
     "output_type": "execute_result"
    }
   ],
   "source": [
    "contactfiches_functies.columns"
   ]
  },
  {
   "cell_type": "code",
   "execution_count": null,
   "metadata": {},
   "outputs": [],
   "source": [
    "accounts_merged = accounts_merged.merge(contactfiches_functies, left_on='contact_contactpersoon_id', right_on='contactfunctie_contactpersoon', how='inner')"
   ]
  },
  {
   "cell_type": "code",
   "execution_count": null,
   "metadata": {},
   "outputs": [
    {
     "data": {
      "text/plain": [
       "(21277, 32)"
      ]
     },
     "execution_count": 584,
     "metadata": {},
     "output_type": "execute_result"
    }
   ],
   "source": [
    "accounts_merged = accounts_merged.merge(functies, left_on='contactfunctie_functie', right_on='functie_functie_id', how='inner')\n",
    "accounts_merged.shape"
   ]
  },
  {
   "cell_type": "markdown",
   "metadata": {},
   "source": [
    "##### Accounts merge met Personen"
   ]
  },
  {
   "cell_type": "code",
   "execution_count": null,
   "metadata": {},
   "outputs": [],
   "source": [
    "df_persoon = pd.read_csv('../data_clean/Persoon_fixed.csv')\n",
    "\n",
    "df_persoon = df_persoon[df_persoon['persoon_reden_van_status'] == 'Actief']\n",
    "\n",
    "for col in df_persoon.columns:\n",
    "    if col.__contains__('persoon_mail_regio'):\n",
    "        df_persoon.drop(col, axis=1, inplace=True)\n",
    "\n",
    "df_persoon.drop(['persoon_persoonsnr_', 'persoon_web_login', 'persoon_reden_van_status'], axis=1, inplace=True)\n",
    "\n",
    "##############################################################################################################\n",
    "#### ACCOUNT CONTACT PERSOON MERGE ####\n",
    "##############################################################################################################\n",
    "\n",
    "accounts_merged = accounts_merged.merge(df_persoon, left_on='contact_persoon_id', right_on='persoon_persoon_id', how='left')\n",
    "\n",
    "# NaN waarden opvullen\n",
    "for col in accounts_merged.columns:\n",
    "    if col.__contains__('persoon_mail_type') or col.__contains__('persoon_mail_thema'):\n",
    "        accounts_merged[col] = accounts_merged[col].fillna(0)\n",
    "\n",
    "accounts_merged['persoon_marketingcommunicatie'] = accounts_merged['persoon_marketingcommunicatie'].fillna('-1')\n",
    "accounts_merged['persoon_marketingcommunicatie'] = accounts_merged['persoon_marketingcommunicatie'] \\\n",
    "                                                            .str.replace('Strikt', '0').str.replace('Flexibel', '1') \\\n",
    "                                                            .str.replace('Uitgeschreven', '-1').str.replace('unknown', '-1').astype(int)\n",
    "\n",
    "marketing_pressure_cols = [col for col in accounts_merged.columns if col.__contains__('persoon_mail_type') \n",
    "                           or col.__contains__('persoon_mail_thema') or col.__contains__('persoon_marketingcommunicatie')]\n",
    "\n",
    "marketing_pressure_cols = [col for col in accounts_merged.columns if col.__contains__('persoon_mail_type') \n",
    "                           or col.__contains__('persoon_mail_thema') or col.__contains__('persoon_marketingcommunicatie')]\n",
    "\n",
    "accounts_merged['marketing_pressure'] = accounts_merged[marketing_pressure_cols].sum(axis=1)\n",
    "accounts_merged['marketing_pressure'] = accounts_merged['marketing_pressure'].astype(int)\n",
    "accounts_merged.drop(marketing_pressure_cols, axis=1, inplace=True)"
   ]
  },
  {
   "cell_type": "markdown",
   "metadata": {},
   "source": [
    "#### 2. Alles van Afspraken mergen"
   ]
  },
  {
   "cell_type": "code",
   "execution_count": null,
   "metadata": {},
   "outputs": [],
   "source": [
    "# RAM vrijmaken\n",
    "try:\n",
    "    # del financiele_data\n",
    "    del contactfiches\n",
    "    del contactfiches_functies\n",
    "    del functies\n",
    "except:\n",
    "    print(\"Data is niet meer beschikbaar / is al verwijderd\")"
   ]
  },
  {
   "cell_type": "code",
   "execution_count": null,
   "metadata": {},
   "outputs": [],
   "source": [
    "afspraak_betreft_account_cleaned = pd.read_csv('../data_clean/Afspraak_betreft_account_cleaned_fixed.csv', sep=',')\n",
    "afspraak_account_gelinkt_cleaned = pd.read_csv('../data_clean/Afspraak_account_gelinkt_cleaned_fixed.csv', sep=',')\n",
    "afspraak_betreft_contact_cleaned = pd.read_csv('../data_clean/Afspraak_betreft_contact_cleaned_fixed.csv', sep=',')"
   ]
  },
  {
   "cell_type": "code",
   "execution_count": null,
   "metadata": {},
   "outputs": [
    {
     "data": {
      "text/plain": [
       "((4876, 7), (2934, 7), (2552, 7))"
      ]
     },
     "execution_count": 588,
     "metadata": {},
     "output_type": "execute_result"
    }
   ],
   "source": [
    "afspraak_betreft_account_cleaned.shape, afspraak_account_gelinkt_cleaned.shape, afspraak_betreft_contact_cleaned.shape"
   ]
  },
  {
   "cell_type": "code",
   "execution_count": null,
   "metadata": {},
   "outputs": [],
   "source": [
    "afspraak_betreft_account_cleaned = afspraak_betreft_account_cleaned.drop(['afspraak_betreft_account_betreft_id'], axis=1)\n",
    "afspraak_account_gelinkt_cleaned = afspraak_account_gelinkt_cleaned.drop(['afspraak_account_gelinkt_account'], axis=1)\n",
    "afspraak_betreft_contact_cleaned = afspraak_betreft_contact_cleaned.drop(['afspraak_betreft_contactfiche_betreft_id'], axis=1)"
   ]
  },
  {
   "cell_type": "code",
   "execution_count": null,
   "metadata": {},
   "outputs": [],
   "source": [
    "afspraak_betreft_account_cleaned.columns = ['afspraak_afspraak_id', 'afspraak_thema', 'afspraak_subthema', 'afspraak_onderwerp', 'afspraak_eindtijd', 'afspraak_keyphrases']\n",
    "afspraak_account_gelinkt_cleaned.columns = ['afspraak_afspraak_id', 'afspraak_thema', 'afspraak_subthema', 'afspraak_onderwerp', 'afspraak_eindtijd', 'afspraak_keyphrases']\n",
    "afspraak_betreft_contact_cleaned.columns = ['afspraak_afspraak_id', 'afspraak_thema', 'afspraak_subthema', 'afspraak_onderwerp', 'afspraak_eindtijd', 'afspraak_keyphrases']"
   ]
  },
  {
   "cell_type": "code",
   "execution_count": null,
   "metadata": {},
   "outputs": [],
   "source": [
    "# afspraak_betreft_account_cleaned[\"afspraak_betreft\"] = \"account\"\n",
    "# afspraak_account_gelinkt_cleaned[\"afspraak_betreft\"] = \"account\"\n",
    "# afspraak_betreft_contact_cleaned[\"afspraak_betreft\"] = \"contact\""
   ]
  },
  {
   "cell_type": "code",
   "execution_count": null,
   "metadata": {},
   "outputs": [],
   "source": [
    "afspraken_merged = pd.concat([afspraak_betreft_account_cleaned, afspraak_account_gelinkt_cleaned, afspraak_betreft_contact_cleaned])"
   ]
  },
  {
   "cell_type": "code",
   "execution_count": null,
   "metadata": {},
   "outputs": [
    {
     "data": {
      "text/html": [
       "<div>\n",
       "<style scoped>\n",
       "    .dataframe tbody tr th:only-of-type {\n",
       "        vertical-align: middle;\n",
       "    }\n",
       "\n",
       "    .dataframe tbody tr th {\n",
       "        vertical-align: top;\n",
       "    }\n",
       "\n",
       "    .dataframe thead th {\n",
       "        text-align: right;\n",
       "    }\n",
       "</style>\n",
       "<table border=\"1\" class=\"dataframe\">\n",
       "  <thead>\n",
       "    <tr style=\"text-align: right;\">\n",
       "      <th></th>\n",
       "      <th>afspraak_afspraak_id</th>\n",
       "    </tr>\n",
       "  </thead>\n",
       "  <tbody>\n",
       "    <tr>\n",
       "      <th>0</th>\n",
       "      <td>00082DAA-24BF-ED11-83FF-6045BD8952CE</td>\n",
       "    </tr>\n",
       "    <tr>\n",
       "      <th>1</th>\n",
       "      <td>00109C77-4D09-EB11-8114-001DD8B72B61</td>\n",
       "    </tr>\n",
       "    <tr>\n",
       "      <th>2</th>\n",
       "      <td>0011A5D9-CC9A-EC11-B400-0022488005A7</td>\n",
       "    </tr>\n",
       "    <tr>\n",
       "      <th>3</th>\n",
       "      <td>0016532E-14E3-EC11-BB3C-000D3ABCA38B</td>\n",
       "    </tr>\n",
       "    <tr>\n",
       "      <th>4</th>\n",
       "      <td>003760C1-13B4-EC11-983F-00224883C880</td>\n",
       "    </tr>\n",
       "  </tbody>\n",
       "</table>\n",
       "</div>"
      ],
      "text/plain": [
       "                   afspraak_afspraak_id\n",
       "0  00082DAA-24BF-ED11-83FF-6045BD8952CE\n",
       "1  00109C77-4D09-EB11-8114-001DD8B72B61\n",
       "2  0011A5D9-CC9A-EC11-B400-0022488005A7\n",
       "3  0016532E-14E3-EC11-BB3C-000D3ABCA38B\n",
       "4  003760C1-13B4-EC11-983F-00224883C880"
      ]
     },
     "execution_count": 593,
     "metadata": {},
     "output_type": "execute_result"
    }
   ],
   "source": [
    "afspraken = pd.read_csv('../data_clean/Afspraak_alle_fixed.csv', sep=',')\n",
    "afspraken.columns = ['afspraak_afspraak_id']\n",
    "afspraken.head()"
   ]
  },
  {
   "cell_type": "code",
   "execution_count": null,
   "metadata": {},
   "outputs": [],
   "source": [
    "afspraken_merged = pd.merge(afspraken, afspraken_merged, on='afspraak_afspraak_id', how='inner')\n",
    "afspraken_merged.reset_index(drop=True, inplace=True)"
   ]
  },
  {
   "cell_type": "code",
   "execution_count": null,
   "metadata": {},
   "outputs": [
    {
     "name": "stdout",
     "output_type": "stream",
     "text": [
      "<class 'pandas.core.frame.DataFrame'>\n",
      "RangeIndex: 10362 entries, 0 to 10361\n",
      "Data columns (total 6 columns):\n",
      " #   Column                Non-Null Count  Dtype \n",
      "---  ------                --------------  ----- \n",
      " 0   afspraak_afspraak_id  10362 non-null  object\n",
      " 1   afspraak_thema        10362 non-null  object\n",
      " 2   afspraak_subthema     10362 non-null  object\n",
      " 3   afspraak_onderwerp    10362 non-null  object\n",
      " 4   afspraak_eindtijd     10362 non-null  object\n",
      " 5   afspraak_keyphrases   10362 non-null  object\n",
      "dtypes: object(6)\n",
      "memory usage: 485.8+ KB\n"
     ]
    }
   ],
   "source": [
    "afspraken_merged.info()"
   ]
  },
  {
   "cell_type": "code",
   "execution_count": null,
   "metadata": {},
   "outputs": [],
   "source": [
    "# RAM vrijmaken\n",
    "try:\n",
    "    del afspraak_betreft_account_cleaned\n",
    "    del afspraak_account_gelinkt_cleaned\n",
    "    del afspraak_betreft_contact_cleaned\n",
    "    del afspraken\n",
    "except:\n",
    "    print(\"Data is niet meer beschikbaar / is al verwijderd\")"
   ]
  },
  {
   "cell_type": "code",
   "execution_count": null,
   "metadata": {},
   "outputs": [
    {
     "name": "stdout",
     "output_type": "stream",
     "text": [
      "<class 'pandas.core.frame.DataFrame'>\n",
      "Index: 7624 entries, 0 to 10360\n",
      "Data columns (total 6 columns):\n",
      " #   Column                Non-Null Count  Dtype \n",
      "---  ------                --------------  ----- \n",
      " 0   afspraak_afspraak_id  7624 non-null   object\n",
      " 1   afspraak_thema        7624 non-null   object\n",
      " 2   afspraak_subthema     7624 non-null   object\n",
      " 3   afspraak_onderwerp    7624 non-null   object\n",
      " 4   afspraak_eindtijd     7624 non-null   object\n",
      " 5   afspraak_keyphrases   7624 non-null   object\n",
      "dtypes: object(6)\n",
      "memory usage: 416.9+ KB\n"
     ]
    }
   ],
   "source": [
    "afspraken_merged = afspraken_merged.drop_duplicates(subset=['afspraak_afspraak_id'], keep='first')\n",
    "afspraken_merged.info()"
   ]
  },
  {
   "cell_type": "code",
   "execution_count": null,
   "metadata": {},
   "outputs": [
    {
     "data": {
      "text/plain": [
       "(4635, 2)"
      ]
     },
     "execution_count": 598,
     "metadata": {},
     "output_type": "execute_result"
    }
   ],
   "source": [
    "activiteit_vereist_contact = pd.read_csv('../data_clean/Activiteit_vereist_contact_fixed.csv', sep=',')\n",
    "activiteit_vereist_contact.shape"
   ]
  },
  {
   "cell_type": "code",
   "execution_count": null,
   "metadata": {},
   "outputs": [
    {
     "name": "stdout",
     "output_type": "stream",
     "text": [
      "<class 'pandas.core.frame.DataFrame'>\n",
      "RangeIndex: 4545 entries, 0 to 4544\n",
      "Data columns (total 8 columns):\n",
      " #   Column                                  Non-Null Count  Dtype \n",
      "---  ------                                  --------------  ----- \n",
      " 0   afspraak_afspraak_id                    4545 non-null   object\n",
      " 1   afspraak_thema                          4545 non-null   object\n",
      " 2   afspraak_subthema                       4545 non-null   object\n",
      " 3   afspraak_onderwerp                      4545 non-null   object\n",
      " 4   afspraak_eindtijd                       4545 non-null   object\n",
      " 5   afspraak_keyphrases                     4545 non-null   object\n",
      " 6   activiteitvereistcontact_activityid_id  4545 non-null   object\n",
      " 7   activiteitvereistcontact_reqattendee    4545 non-null   object\n",
      "dtypes: object(8)\n",
      "memory usage: 284.2+ KB\n"
     ]
    }
   ],
   "source": [
    "afspraken_merged = afspraken_merged.merge(activiteit_vereist_contact, left_on='afspraak_afspraak_id', right_on='activiteitvereistcontact_activityid_id', how='inner')\n",
    "afspraken_merged.info()"
   ]
  },
  {
   "cell_type": "code",
   "execution_count": null,
   "metadata": {},
   "outputs": [
    {
     "data": {
      "text/plain": [
       "afspraak_thema\n",
       "Lidmaatschap                                       3446\n",
       "Welt 2.0                                            371\n",
       "Plato                                               313\n",
       "Internationaal Ondernemen                            74\n",
       "Digitalisering, IT & Technologie                     71\n",
       "Innovatie                                            56\n",
       "Welt 2.0-2023                                        53\n",
       "Groeien                                              50\n",
       "Welt                                                 29\n",
       "Duurzaam Ondernemen                                  22\n",
       "Familiebedrijven                                     12\n",
       "Arbeidsmarkt                                         10\n",
       "Algemeen Management                                   9\n",
       "Human Resources                                       8\n",
       "Opvolging en Overname                                 4\n",
       "Financieel                                            3\n",
       "Netwerking                                            3\n",
       "Mobiliteit                                            3\n",
       "Opleidingen                                           2\n",
       "Logistiek en Transport                                2\n",
       "Internationaal Ondernemen - voor Info en Advies       1\n",
       "Marketing & Sales                                     1\n",
       "Haven                                                 1\n",
       "Bestuurlijke organisaties                             1\n",
       "Name: count, dtype: int64"
      ]
     },
     "execution_count": 600,
     "metadata": {},
     "output_type": "execute_result"
    }
   ],
   "source": [
    "afspraken_merged['afspraak_thema'].value_counts()"
   ]
  },
  {
   "cell_type": "markdown",
   "metadata": {},
   "source": [
    "#### 3. Alles van Campagnes mergen"
   ]
  },
  {
   "cell_type": "markdown",
   "metadata": {},
   "source": [
    "##### Campagne mergen met Sessie"
   ]
  },
  {
   "cell_type": "code",
   "execution_count": null,
   "metadata": {},
   "outputs": [
    {
     "data": {
      "text/plain": [
       "(4092, 11)"
      ]
     },
     "execution_count": 601,
     "metadata": {},
     "output_type": "execute_result"
    }
   ],
   "source": [
    "campagne = pd.read_csv('../data_clean/Campagne_fixed.csv', sep=',')\n",
    "campagne.shape"
   ]
  },
  {
   "cell_type": "code",
   "execution_count": null,
   "metadata": {},
   "outputs": [
    {
     "data": {
      "text/plain": [
       "(9403, 8)"
      ]
     },
     "execution_count": 602,
     "metadata": {},
     "output_type": "execute_result"
    }
   ],
   "source": [
    "sessie = pd.read_csv('../data_clean/Sessie_fixed.csv', sep=',')\n",
    "sessie.shape"
   ]
  },
  {
   "cell_type": "code",
   "execution_count": null,
   "metadata": {},
   "outputs": [],
   "source": [
    "sessie_themes_grouped = {\n",
    "  'Bryo': ['Bryo'],\n",
    "  'Algemeen': ['Familiebedrijven','Opvolging en Overname','Algemeen Management','Human Resources','Algemeen Management - Intern','Bestuurlijke organisaties'],\n",
    "  'Onderwijs': ['Opleidingen','Persoonlijke vaardigheden','Onderwijs'],\n",
    "  'Logistiek': ['Logistiek en Transport','Haven','Supply Chain','Retail'],\n",
    "  'Welt': ['Welt', 'Welt 2.0', 'Welt 2.0-2023'],\n",
    "  'Ondernemen': ['Starten', 'Internationaal Ondernemen', 'Jong Voka', 'Groeien', 'Stille Kampioenen', 'Samen doorgaan', 'Strategie'],\n",
    "  'Duurzaamheid': ['Energie', 'Duurzaam Ondernemen', 'Milieu', 'Mobiliteit'],\n",
    "  'Lidmaatschap': ['Lidmaatschap'],\n",
    "  'Innovatie en Technologie': ['Innovatie', 'Digitalisering, IT & Technologie'],\n",
    "  'Netwerking': ['Netwerking'],\n",
    "  'Economie': ['Arbeidsmarkt', 'Economie', 'Fiscaal', 'Financieel', 'Marketing & Sales', 'Jobkanaal'],\n",
    "  'Juridisch': ['Bedrijfsjuridisch', 'Juridisch'],\n",
    "  'Veiligheid en communicatie': ['Communicatie', 'Veiligheid & Preventie', 'Welzijn en gezondheidszorg'],\n",
    "  'Andere': ['Plato', 'Ruimtelijke ordening en Infrastructuur', 'Regeringsvorming', 'Industrie', 'Aankoop', 'Privé&Vrije tijd', 'Aantrekkelijke regio', 'Coronavirus']\n",
    "}\n",
    "\n",
    "def map_thema(thema):\n",
    "    for category, themes in sessie_themes_grouped.items():\n",
    "        if thema in themes:\n",
    "            return category\n",
    "    return thema\n",
    "\n",
    "sessie['sessie_thema_naam_'] = sessie['sessie_thema_naam_'].apply(map_thema)"
   ]
  },
  {
   "cell_type": "code",
   "execution_count": null,
   "metadata": {},
   "outputs": [
    {
     "data": {
      "text/plain": [
       "sessie_thema_naam_\n",
       "Algemeen                      2914\n",
       "Ondernemen                    1185\n",
       "Economie                      1083\n",
       "Netwerking                     993\n",
       "Onderwijs                      886\n",
       "Innovatie en Technologie       571\n",
       "Bryo                           533\n",
       "unknown                        403\n",
       "Duurzaamheid                   242\n",
       "Welt                           211\n",
       "Veiligheid en communicatie     170\n",
       "Logistiek                      108\n",
       "Lidmaatschap                    41\n",
       "Andere                          37\n",
       "Juridisch                       26\n",
       "Name: count, dtype: int64"
      ]
     },
     "execution_count": 604,
     "metadata": {},
     "output_type": "execute_result"
    }
   ],
   "source": [
    "sessie['sessie_thema_naam_'].value_counts()"
   ]
  },
  {
   "cell_type": "code",
   "execution_count": null,
   "metadata": {},
   "outputs": [
    {
     "data": {
      "text/html": [
       "<div>\n",
       "<style scoped>\n",
       "    .dataframe tbody tr th:only-of-type {\n",
       "        vertical-align: middle;\n",
       "    }\n",
       "\n",
       "    .dataframe tbody tr th {\n",
       "        vertical-align: top;\n",
       "    }\n",
       "\n",
       "    .dataframe thead th {\n",
       "        text-align: right;\n",
       "    }\n",
       "</style>\n",
       "<table border=\"1\" class=\"dataframe\">\n",
       "  <thead>\n",
       "    <tr style=\"text-align: right;\">\n",
       "      <th></th>\n",
       "      <th>sessie_campagne</th>\n",
       "      <th>sessie_thema_naam_list</th>\n",
       "    </tr>\n",
       "  </thead>\n",
       "  <tbody>\n",
       "    <tr>\n",
       "      <th>1492</th>\n",
       "      <td>61FE6D67-F088-E811-80F3-001DD8B72B61</td>\n",
       "      <td>[Juridisch, Duurzaamheid, Algemeen, Innovatie ...</td>\n",
       "    </tr>\n",
       "    <tr>\n",
       "      <th>3209</th>\n",
       "      <td>CFF2BA02-E99C-EB11-811E-001DD8B72B62</td>\n",
       "      <td>[Duurzaamheid, Economie, Algemeen, Innovatie e...</td>\n",
       "    </tr>\n",
       "    <tr>\n",
       "      <th>3066</th>\n",
       "      <td>C6D72260-E451-EC11-8C62-000D3ABFCF4A</td>\n",
       "      <td>[Juridisch, Economie, Algemeen, Innovatie en T...</td>\n",
       "    </tr>\n",
       "    <tr>\n",
       "      <th>2414</th>\n",
       "      <td>9D0868DB-952A-EC11-8124-001DD8B72B61</td>\n",
       "      <td>[Juridisch, Duurzaamheid, Economie, Innovatie ...</td>\n",
       "    </tr>\n",
       "    <tr>\n",
       "      <th>976</th>\n",
       "      <td>416A235F-F209-E911-80FA-001DD8B72B62</td>\n",
       "      <td>[Duurzaamheid, Economie, Algemeen, Innovatie e...</td>\n",
       "    </tr>\n",
       "    <tr>\n",
       "      <th>...</th>\n",
       "      <td>...</td>\n",
       "      <td>...</td>\n",
       "    </tr>\n",
       "    <tr>\n",
       "      <th>1340</th>\n",
       "      <td>5865C940-3455-E511-8718-005056B06EC4</td>\n",
       "      <td>[Onderwijs]</td>\n",
       "    </tr>\n",
       "    <tr>\n",
       "      <th>1341</th>\n",
       "      <td>58665379-0E28-E211-B2FD-005056B06EB4</td>\n",
       "      <td>[unknown]</td>\n",
       "    </tr>\n",
       "    <tr>\n",
       "      <th>1342</th>\n",
       "      <td>587BE6F8-A255-E711-80E7-001DD8B72B61</td>\n",
       "      <td>[Welt]</td>\n",
       "    </tr>\n",
       "    <tr>\n",
       "      <th>1343</th>\n",
       "      <td>588A47E4-6B68-E711-80E8-001DD8B72B61</td>\n",
       "      <td>[Ondernemen]</td>\n",
       "    </tr>\n",
       "    <tr>\n",
       "      <th>3950</th>\n",
       "      <td>FFF4DF54-9DBB-EA11-8113-001DD8B72B62</td>\n",
       "      <td>[Ondernemen]</td>\n",
       "    </tr>\n",
       "  </tbody>\n",
       "</table>\n",
       "<p>3951 rows × 2 columns</p>\n",
       "</div>"
      ],
      "text/plain": [
       "                           sessie_campagne  \\\n",
       "1492  61FE6D67-F088-E811-80F3-001DD8B72B61   \n",
       "3209  CFF2BA02-E99C-EB11-811E-001DD8B72B62   \n",
       "3066  C6D72260-E451-EC11-8C62-000D3ABFCF4A   \n",
       "2414  9D0868DB-952A-EC11-8124-001DD8B72B61   \n",
       "976   416A235F-F209-E911-80FA-001DD8B72B62   \n",
       "...                                    ...   \n",
       "1340  5865C940-3455-E511-8718-005056B06EC4   \n",
       "1341  58665379-0E28-E211-B2FD-005056B06EB4   \n",
       "1342  587BE6F8-A255-E711-80E7-001DD8B72B61   \n",
       "1343  588A47E4-6B68-E711-80E8-001DD8B72B61   \n",
       "3950  FFF4DF54-9DBB-EA11-8113-001DD8B72B62   \n",
       "\n",
       "                                 sessie_thema_naam_list  \n",
       "1492  [Juridisch, Duurzaamheid, Algemeen, Innovatie ...  \n",
       "3209  [Duurzaamheid, Economie, Algemeen, Innovatie e...  \n",
       "3066  [Juridisch, Economie, Algemeen, Innovatie en T...  \n",
       "2414  [Juridisch, Duurzaamheid, Economie, Innovatie ...  \n",
       "976   [Duurzaamheid, Economie, Algemeen, Innovatie e...  \n",
       "...                                                 ...  \n",
       "1340                                        [Onderwijs]  \n",
       "1341                                          [unknown]  \n",
       "1342                                             [Welt]  \n",
       "1343                                       [Ondernemen]  \n",
       "3950                                       [Ondernemen]  \n",
       "\n",
       "[3951 rows x 2 columns]"
      ]
     },
     "execution_count": 605,
     "metadata": {},
     "output_type": "execute_result"
    }
   ],
   "source": [
    "result = (sessie.assign(sessie_thema_naam_list=sessie['sessie_thema_naam_'].str.split(', '))\n",
    "               .explode('sessie_thema_naam_list')\n",
    "               .drop_duplicates()\n",
    "               .groupby('sessie_campagne')['sessie_thema_naam_list']\n",
    "               .agg(lambda x: list(set(x)))\n",
    "               .reset_index()\n",
    "               .sort_values(by='sessie_thema_naam_list', key=lambda x: x.str.len(), ascending=False))\n",
    "result"
   ]
  },
  {
   "cell_type": "code",
   "execution_count": null,
   "metadata": {},
   "outputs": [],
   "source": [
    "unique_categories = set(category for row in result['sessie_thema_naam_list'] for category in row)\n",
    "\n",
    "for category in unique_categories:\n",
    "    result[category] = result['sessie_thema_naam_list'].apply(lambda x: int(category in x))\n",
    "\n",
    "result.drop('sessie_thema_naam_list', axis=1, inplace=True)"
   ]
  },
  {
   "cell_type": "code",
   "execution_count": null,
   "metadata": {},
   "outputs": [
    {
     "name": "stdout",
     "output_type": "stream",
     "text": [
      "<class 'pandas.core.frame.DataFrame'>\n",
      "Index: 3951 entries, 1492 to 3950\n",
      "Data columns (total 16 columns):\n",
      " #   Column                      Non-Null Count  Dtype \n",
      "---  ------                      --------------  ----- \n",
      " 0   sessie_campagne             3951 non-null   object\n",
      " 1   Juridisch                   3951 non-null   int64 \n",
      " 2   Lidmaatschap                3951 non-null   int64 \n",
      " 3   Duurzaamheid                3951 non-null   int64 \n",
      " 4   Economie                    3951 non-null   int64 \n",
      " 5   Veiligheid en communicatie  3951 non-null   int64 \n",
      " 6   Bryo                        3951 non-null   int64 \n",
      " 7   Algemeen                    3951 non-null   int64 \n",
      " 8   Netwerking                  3951 non-null   int64 \n",
      " 9   Onderwijs                   3951 non-null   int64 \n",
      " 10  Logistiek                   3951 non-null   int64 \n",
      " 11  unknown                     3951 non-null   int64 \n",
      " 12  Innovatie en Technologie    3951 non-null   int64 \n",
      " 13  Andere                      3951 non-null   int64 \n",
      " 14  Ondernemen                  3951 non-null   int64 \n",
      " 15  Welt                        3951 non-null   int64 \n",
      "dtypes: int64(15), object(1)\n",
      "memory usage: 524.7+ KB\n"
     ]
    }
   ],
   "source": [
    "result.info()"
   ]
  },
  {
   "cell_type": "code",
   "execution_count": null,
   "metadata": {},
   "outputs": [
    {
     "data": {
      "text/plain": [
       "campagne_type_campagne\n",
       "Netwerkevenement    1751\n",
       "Opleiding           1268\n",
       "Project              565\n",
       "Infosessie           394\n",
       "Projectgebonden       99\n",
       "Campagne              15\n",
       "Name: count, dtype: int64"
      ]
     },
     "execution_count": 608,
     "metadata": {},
     "output_type": "execute_result"
    }
   ],
   "source": [
    "campagne[\"campagne_type_campagne\"].value_counts()"
   ]
  },
  {
   "cell_type": "code",
   "execution_count": null,
   "metadata": {},
   "outputs": [
    {
     "data": {
      "text/plain": [
       "(3951, 27)"
      ]
     },
     "execution_count": 609,
     "metadata": {},
     "output_type": "execute_result"
    }
   ],
   "source": [
    "campagnes_merged = campagne.merge(result, left_on='campagne_campagne_id', right_on='sessie_campagne', how='inner')\n",
    "campagnes_merged.shape"
   ]
  },
  {
   "cell_type": "markdown",
   "metadata": {},
   "source": [
    "#### CDI"
   ]
  },
  {
   "cell_type": "code",
   "execution_count": null,
   "metadata": {},
   "outputs": [
    {
     "data": {
      "text/plain": [
       "(21277, 32)"
      ]
     },
     "execution_count": 610,
     "metadata": {},
     "output_type": "execute_result"
    }
   ],
   "source": [
    "accounts_merged.shape"
   ]
  },
  {
   "cell_type": "code",
   "execution_count": null,
   "metadata": {},
   "outputs": [],
   "source": [
    "df_visit = pd.read_csv('../data_clean/CDI_visits_fixed.csv', sep=',')\n",
    "\n",
    "df_visit.drop(\n",
    "    ['visit_ip_postcode', 'visit_aangemaakt_op', 'visit_adobe_reader',\n",
    "    'visit_contact_naam_', 'visit_containssocialprofile', 'visit_ended_on', 'visit_ip_address',\n",
    "    'visit_ip_organization', 'visit_keywords', 'visit_ip_longitude', 'visit_ip_latitude', 'visit_referrer', \n",
    "    'visit_score', 'visit_started_on', 'visit_ip_status', 'visit_visit_id', 'visit_gewijzigd_op',\n",
    "    'visit_entry_page', 'visit_exit_page', 'visit_ip_company', 'visit_referring_host', 'visit_referrer_type', \n",
    "    'visit_bounce', 'visit_duration', 'visit_browser', 'visit_ip_stad', 'visit_ip_land', 'visit_operating_system',\n",
    "   ], axis=1, inplace=True)\n",
    "\n",
    "df_visit.drop_duplicates(inplace=True)\n",
    "\n",
    "df_visit['visit_first_visit'] = df_visit['visit_first_visit'] \\\n",
    "      .str.replace('Ja', '1').str.replace('Nee', '0') \\\n",
    "      .str.replace('unknown', '-1').astype(int)\n",
    "\n",
    "df_visit['visit_total_pages'] = df_visit['visit_total_pages']\\\n",
    "      .replace('unknown', '-1.0').astype(float)\n",
    "\n",
    "##############################################################################################################\n",
    "\n",
    "# Csv files inlezen\n",
    "df_mailing = pd.read_csv('../data_clean/CDI_mailing_fixed.csv', sep=',')\n",
    "df_mailing.drop(['mailing_sent_on'], axis=1, inplace=True)\n",
    "df_mailing.drop_duplicates(inplace=True)\n",
    "df_click = pd.read_csv('../data_clean/CDI_sent_email_clicks_fixed.csv', sep=',')\n",
    "df_click.drop(['sentemail_kliks_contact', 'sentemail_kliks_sent_email_id'], axis=1, inplace=True)\n",
    "df_click.drop_duplicates(inplace=True)\n",
    "\n",
    "# Merge en drop kolommen\n",
    "df_mailing_merged = df_mailing.merge(df_click, left_on='mailing_mailing_id', right_on='sentemail_kliks_e_mail_versturen', how='inner')\n",
    "df_mailing_merged.drop(['sentemail_kliks_e_mail_versturen'], axis=1, inplace=True)\n",
    "\n",
    "# Voeg een nieuwe kolom toe voor het aantal mails per groep\n",
    "df_mailing_merged['aantal_mails'] = df_mailing_merged.groupby(\n",
    "    ['mailing_mailing_id'])['mailing_mailing_id'].transform('count')\n",
    "\n",
    "# Sentmail_kliks_clicks optellen per mailing\n",
    "df_mailing_merged = df_mailing_merged.groupby(['mailing_mailing_id', 'mailing_name', 'mailing_onderwerp'], \n",
    "                          as_index=False).agg({'sentemail_kliks_clicks': 'sum', \n",
    "                                                **{col: 'first' for col in df_mailing_merged.columns if col not in ['sentemail_kliks_clicks']}})\n",
    "\n",
    "##############################################################################################################\n",
    "\n",
    "df_visit_mailing = df_visit.merge(df_mailing_merged, left_on='visit_email_send', right_on='mailing_mailing_id', how='left')\n",
    "df_visit_mailing.drop(['visit_email_send', 'mailing_mailing_id', 'visit_campaign'], axis=1, inplace=True)\n",
    "\n",
    "# String kolommen cleanen\n",
    "df_visit_mailing['mailing_name'] = df_visit_mailing['mailing_name'].str.replace('OV-', '') \\\n",
    "                                            .str.replace('OV ', '').str.replace('OV -', '') \\\n",
    "                                            .str.replace('-', ' ').str.replace(r'[^\\w\\s]', ' ', regex=True) \\\n",
    "                                            .str.replace('  ', ' ').str.strip().str.lower().str.replace('  ', ' ')\n",
    "\n",
    "df_visit_mailing['mailing_onderwerp'] = df_visit_mailing['mailing_onderwerp'] \\\n",
    "                                            .str.replace('-', ' ').str.replace(r'[^\\w\\s]', ' ', regex=True) \\\n",
    "                                            .str.replace('  ', ' ').str.strip().str.lower().str.replace('  ', ' ')\n",
    "\n",
    "df_visit_mailing['sentemail_kliks_clicks'] \\\n",
    "    = df_visit_mailing['sentemail_kliks_clicks'].replace('unknown', '0').astype(int)"
   ]
  },
  {
   "cell_type": "code",
   "execution_count": null,
   "metadata": {},
   "outputs": [],
   "source": [
    "accounts_merged = accounts_merged.merge(df_visit_mailing, left_on='contact_contactpersoon_id', right_on='visit_contact', how='left')\n",
    "# Numeric en categorical kolommen selecteren\n",
    "num_cols = accounts_merged.select_dtypes(include=['float64', 'int64']).columns\n",
    "cat_cols = accounts_merged.select_dtypes(include=['object']).columns\n",
    "\n",
    "# fill NaN values with -1 for numeric columns\n",
    "accounts_merged[num_cols] = accounts_merged[num_cols].fillna(-1)\n",
    "# fill NaN values with 'unknown' for categorical columns\n",
    "accounts_merged[cat_cols] = accounts_merged[cat_cols].fillna('unknown')\n",
    "\n",
    "# verander alle int64 en int32 naar int8\n",
    "int_cols = accounts_merged.select_dtypes(include=['int64', 'int32']).columns\n",
    "accounts_merged[int_cols] = accounts_merged[int_cols].astype('int8')"
   ]
  },
  {
   "cell_type": "code",
   "execution_count": null,
   "metadata": {},
   "outputs": [
    {
     "data": {
      "text/plain": [
       "(31287, 32)"
      ]
     },
     "execution_count": 613,
     "metadata": {},
     "output_type": "execute_result"
    }
   ],
   "source": [
    "# mail_click_freq berekenen\n",
    "accounts_merged['mail_click_freq'] = accounts_merged.apply(\n",
    "    lambda row: 0 if row['aantal_mails'] == -1 else round(row['sentemail_kliks_clicks'] / row['aantal_mails']), axis=1)\n",
    "accounts_merged.drop(['sentemail_kliks_clicks', 'aantal_mails'], axis=1, inplace=True)\n",
    "\n",
    "# marketing_pressure berekenen\n",
    "accounts_merged['marketing_pressure'] = accounts_merged['marketing_pressure'] + accounts_merged['mail_click_freq'] \n",
    "+ accounts_merged['visit_total_pages'] + accounts_merged['visit_first_visit']\n",
    "\n",
    "accounts_merged.drop(['mail_click_freq', 'visit_total_pages', 'visit_first_visit', 'visit_campagne_code', 'visit_contact', 'visit_time', 'mailing_name', 'mailing_onderwerp'], axis=1, inplace=True)\n",
    "accounts_merged.shape"
   ]
  },
  {
   "cell_type": "code",
   "execution_count": null,
   "metadata": {},
   "outputs": [
    {
     "name": "stdout",
     "output_type": "stream",
     "text": [
      "<class 'pandas.core.frame.DataFrame'>\n",
      "RangeIndex: 31287 entries, 0 to 31286\n",
      "Data columns (total 32 columns):\n",
      " #   Column                                                     Non-Null Count  Dtype \n",
      "---  ------                                                     --------------  ----- \n",
      " 0   account_account_id                                         31287 non-null  object\n",
      " 1   account_adres_geografische_regio                           31287 non-null  object\n",
      " 2   account_adres_geografische_subregio                        31287 non-null  object\n",
      " 3   account_adres_plaats                                       31287 non-null  object\n",
      " 4   account_adres_postcode                                     31287 non-null  object\n",
      " 5   account_adres_provincie                                    31287 non-null  object\n",
      " 6   account_industriezone_naam_                                31287 non-null  object\n",
      " 7   account_is_voka_entiteit                                   31287 non-null  int8  \n",
      " 8   account_ondernemingsaard                                   31287 non-null  object\n",
      " 9   account_ondernemingstype                                   31287 non-null  object\n",
      " 10  account_oprichtingsdatum                                   31287 non-null  object\n",
      " 11  account_primaire_activiteit                                31287 non-null  object\n",
      " 12  account_reden_van_status                                   31287 non-null  object\n",
      " 13  account_status                                             31287 non-null  int8  \n",
      " 14  account_voka_nr_                                           31287 non-null  int8  \n",
      " 15  account_adres_land                                         31287 non-null  object\n",
      " 16  account_activiteitscode_account                            31287 non-null  object\n",
      " 17  account_activiteitscode_activiteitscode                    31287 non-null  object\n",
      " 18  account_activiteitscode_inf_account_inf_activiteitscodeid  31287 non-null  object\n",
      " 19  activiteitscode_naam                                       31287 non-null  object\n",
      " 20  activiteitscode_activiteitscode_id                         31287 non-null  object\n",
      " 21  activiteitscode_status                                     31287 non-null  object\n",
      " 22  contact_contactpersoon_id                                  31287 non-null  object\n",
      " 23  contact_account                                            31287 non-null  object\n",
      " 24  contact_functietitel                                       31287 non-null  object\n",
      " 25  contact_status                                             31287 non-null  object\n",
      " 26  contact_voka_medewerker                                    31287 non-null  int8  \n",
      " 27  contactfunctie_contactpersoon                              31287 non-null  object\n",
      " 28  contactfunctie_functie                                     31287 non-null  object\n",
      " 29  functie_functie_id                                         31287 non-null  object\n",
      " 30  functie_naam                                               31287 non-null  object\n",
      " 31  marketing_pressure                                         31287 non-null  int64 \n",
      "dtypes: int64(1), int8(4), object(27)\n",
      "memory usage: 6.8+ MB\n"
     ]
    }
   ],
   "source": [
    "accounts_merged.info()"
   ]
  },
  {
   "cell_type": "markdown",
   "metadata": {},
   "source": [
    "#### 4. Accounts mergen met Afspraken"
   ]
  },
  {
   "cell_type": "code",
   "execution_count": null,
   "metadata": {},
   "outputs": [
    {
     "ename": "KeyError",
     "evalue": "\"['contact_persoon_id'] not found in axis\"",
     "output_type": "error",
     "traceback": [
      "\u001b[1;31m---------------------------------------------------------------------------\u001b[0m",
      "\u001b[1;31mKeyError\u001b[0m                                  Traceback (most recent call last)",
      "\u001b[1;32mc:\\Users\\marlo\\Documents\\HOGENT\\23-24\\Semester 1\\Data Engineering Project 2\\Data-Engineering-Project-2\\scripts\\AA_REC_SYSTEM_SUPERVISED.ipynb Cell 55\u001b[0m line \u001b[0;36m3\n\u001b[0;32m      <a href='vscode-notebook-cell:/c%3A/Users/marlo/Documents/HOGENT/23-24/Semester%201/Data%20Engineering%20Project%202/Data-Engineering-Project-2/scripts/AA_REC_SYSTEM_SUPERVISED.ipynb#Y100sZmlsZQ%3D%3D?line=0'>1</a>\u001b[0m onnodige_kolommen_accounts \u001b[39m=\u001b[39m [\n\u001b[0;32m      <a href='vscode-notebook-cell:/c%3A/Users/marlo/Documents/HOGENT/23-24/Semester%201/Data%20Engineering%20Project%202/Data-Engineering-Project-2/scripts/AA_REC_SYSTEM_SUPERVISED.ipynb#Y100sZmlsZQ%3D%3D?line=1'>2</a>\u001b[0m \u001b[39m#  'account_account_id',\u001b[39;00m\n\u001b[0;32m      <a href='vscode-notebook-cell:/c%3A/Users/marlo/Documents/HOGENT/23-24/Semester%201/Data%20Engineering%20Project%202/Data-Engineering-Project-2/scripts/AA_REC_SYSTEM_SUPERVISED.ipynb#Y100sZmlsZQ%3D%3D?line=2'>3</a>\u001b[0m  \u001b[39m'\u001b[39m\u001b[39maccount_adres_postcode\u001b[39m\u001b[39m'\u001b[39m,\n\u001b[1;32m   (...)\u001b[0m\n\u001b[0;32m     <a href='vscode-notebook-cell:/c%3A/Users/marlo/Documents/HOGENT/23-24/Semester%201/Data%20Engineering%20Project%202/Data-Engineering-Project-2/scripts/AA_REC_SYSTEM_SUPERVISED.ipynb#Y100sZmlsZQ%3D%3D?line=31'>32</a>\u001b[0m \u001b[39m#  'persoon_reden_van_status',\u001b[39;00m\n\u001b[0;32m     <a href='vscode-notebook-cell:/c%3A/Users/marlo/Documents/HOGENT/23-24/Semester%201/Data%20Engineering%20Project%202/Data-Engineering-Project-2/scripts/AA_REC_SYSTEM_SUPERVISED.ipynb#Y100sZmlsZQ%3D%3D?line=32'>33</a>\u001b[0m ]\n\u001b[1;32m---> <a href='vscode-notebook-cell:/c%3A/Users/marlo/Documents/HOGENT/23-24/Semester%201/Data%20Engineering%20Project%202/Data-Engineering-Project-2/scripts/AA_REC_SYSTEM_SUPERVISED.ipynb#Y100sZmlsZQ%3D%3D?line=34'>35</a>\u001b[0m accounts_merged \u001b[39m=\u001b[39m accounts_merged\u001b[39m.\u001b[39;49mdrop(onnodige_kolommen_accounts, axis\u001b[39m=\u001b[39;49m\u001b[39m1\u001b[39;49m)\n",
      "File \u001b[1;32m~\\AppData\\Local\\Packages\\PythonSoftwareFoundation.Python.3.11_qbz5n2kfra8p0\\LocalCache\\local-packages\\Python311\\site-packages\\pandas\\core\\frame.py:5347\u001b[0m, in \u001b[0;36mDataFrame.drop\u001b[1;34m(self, labels, axis, index, columns, level, inplace, errors)\u001b[0m\n\u001b[0;32m   5199\u001b[0m \u001b[39mdef\u001b[39;00m \u001b[39mdrop\u001b[39m(\n\u001b[0;32m   5200\u001b[0m     \u001b[39mself\u001b[39m,\n\u001b[0;32m   5201\u001b[0m     labels: IndexLabel \u001b[39m|\u001b[39m \u001b[39mNone\u001b[39;00m \u001b[39m=\u001b[39m \u001b[39mNone\u001b[39;00m,\n\u001b[1;32m   (...)\u001b[0m\n\u001b[0;32m   5208\u001b[0m     errors: IgnoreRaise \u001b[39m=\u001b[39m \u001b[39m\"\u001b[39m\u001b[39mraise\u001b[39m\u001b[39m\"\u001b[39m,\n\u001b[0;32m   5209\u001b[0m ) \u001b[39m-\u001b[39m\u001b[39m>\u001b[39m DataFrame \u001b[39m|\u001b[39m \u001b[39mNone\u001b[39;00m:\n\u001b[0;32m   5210\u001b[0m \u001b[39m    \u001b[39m\u001b[39m\"\"\"\u001b[39;00m\n\u001b[0;32m   5211\u001b[0m \u001b[39m    Drop specified labels from rows or columns.\u001b[39;00m\n\u001b[0;32m   5212\u001b[0m \n\u001b[1;32m   (...)\u001b[0m\n\u001b[0;32m   5345\u001b[0m \u001b[39m            weight  1.0     0.8\u001b[39;00m\n\u001b[0;32m   5346\u001b[0m \u001b[39m    \"\"\"\u001b[39;00m\n\u001b[1;32m-> 5347\u001b[0m     \u001b[39mreturn\u001b[39;00m \u001b[39msuper\u001b[39;49m()\u001b[39m.\u001b[39;49mdrop(\n\u001b[0;32m   5348\u001b[0m         labels\u001b[39m=\u001b[39;49mlabels,\n\u001b[0;32m   5349\u001b[0m         axis\u001b[39m=\u001b[39;49maxis,\n\u001b[0;32m   5350\u001b[0m         index\u001b[39m=\u001b[39;49mindex,\n\u001b[0;32m   5351\u001b[0m         columns\u001b[39m=\u001b[39;49mcolumns,\n\u001b[0;32m   5352\u001b[0m         level\u001b[39m=\u001b[39;49mlevel,\n\u001b[0;32m   5353\u001b[0m         inplace\u001b[39m=\u001b[39;49minplace,\n\u001b[0;32m   5354\u001b[0m         errors\u001b[39m=\u001b[39;49merrors,\n\u001b[0;32m   5355\u001b[0m     )\n",
      "File \u001b[1;32m~\\AppData\\Local\\Packages\\PythonSoftwareFoundation.Python.3.11_qbz5n2kfra8p0\\LocalCache\\local-packages\\Python311\\site-packages\\pandas\\core\\generic.py:4711\u001b[0m, in \u001b[0;36mNDFrame.drop\u001b[1;34m(self, labels, axis, index, columns, level, inplace, errors)\u001b[0m\n\u001b[0;32m   4709\u001b[0m \u001b[39mfor\u001b[39;00m axis, labels \u001b[39min\u001b[39;00m axes\u001b[39m.\u001b[39mitems():\n\u001b[0;32m   4710\u001b[0m     \u001b[39mif\u001b[39;00m labels \u001b[39mis\u001b[39;00m \u001b[39mnot\u001b[39;00m \u001b[39mNone\u001b[39;00m:\n\u001b[1;32m-> 4711\u001b[0m         obj \u001b[39m=\u001b[39m obj\u001b[39m.\u001b[39;49m_drop_axis(labels, axis, level\u001b[39m=\u001b[39;49mlevel, errors\u001b[39m=\u001b[39;49merrors)\n\u001b[0;32m   4713\u001b[0m \u001b[39mif\u001b[39;00m inplace:\n\u001b[0;32m   4714\u001b[0m     \u001b[39mself\u001b[39m\u001b[39m.\u001b[39m_update_inplace(obj)\n",
      "File \u001b[1;32m~\\AppData\\Local\\Packages\\PythonSoftwareFoundation.Python.3.11_qbz5n2kfra8p0\\LocalCache\\local-packages\\Python311\\site-packages\\pandas\\core\\generic.py:4753\u001b[0m, in \u001b[0;36mNDFrame._drop_axis\u001b[1;34m(self, labels, axis, level, errors, only_slice)\u001b[0m\n\u001b[0;32m   4751\u001b[0m         new_axis \u001b[39m=\u001b[39m axis\u001b[39m.\u001b[39mdrop(labels, level\u001b[39m=\u001b[39mlevel, errors\u001b[39m=\u001b[39merrors)\n\u001b[0;32m   4752\u001b[0m     \u001b[39melse\u001b[39;00m:\n\u001b[1;32m-> 4753\u001b[0m         new_axis \u001b[39m=\u001b[39m axis\u001b[39m.\u001b[39;49mdrop(labels, errors\u001b[39m=\u001b[39;49merrors)\n\u001b[0;32m   4754\u001b[0m     indexer \u001b[39m=\u001b[39m axis\u001b[39m.\u001b[39mget_indexer(new_axis)\n\u001b[0;32m   4756\u001b[0m \u001b[39m# Case for non-unique axis\u001b[39;00m\n\u001b[0;32m   4757\u001b[0m \u001b[39melse\u001b[39;00m:\n",
      "File \u001b[1;32m~\\AppData\\Local\\Packages\\PythonSoftwareFoundation.Python.3.11_qbz5n2kfra8p0\\LocalCache\\local-packages\\Python311\\site-packages\\pandas\\core\\indexes\\base.py:6992\u001b[0m, in \u001b[0;36mIndex.drop\u001b[1;34m(self, labels, errors)\u001b[0m\n\u001b[0;32m   6990\u001b[0m \u001b[39mif\u001b[39;00m mask\u001b[39m.\u001b[39many():\n\u001b[0;32m   6991\u001b[0m     \u001b[39mif\u001b[39;00m errors \u001b[39m!=\u001b[39m \u001b[39m\"\u001b[39m\u001b[39mignore\u001b[39m\u001b[39m\"\u001b[39m:\n\u001b[1;32m-> 6992\u001b[0m         \u001b[39mraise\u001b[39;00m \u001b[39mKeyError\u001b[39;00m(\u001b[39mf\u001b[39m\u001b[39m\"\u001b[39m\u001b[39m{\u001b[39;00mlabels[mask]\u001b[39m.\u001b[39mtolist()\u001b[39m}\u001b[39;00m\u001b[39m not found in axis\u001b[39m\u001b[39m\"\u001b[39m)\n\u001b[0;32m   6993\u001b[0m     indexer \u001b[39m=\u001b[39m indexer[\u001b[39m~\u001b[39mmask]\n\u001b[0;32m   6994\u001b[0m \u001b[39mreturn\u001b[39;00m \u001b[39mself\u001b[39m\u001b[39m.\u001b[39mdelete(indexer)\n",
      "\u001b[1;31mKeyError\u001b[0m: \"['contact_persoon_id'] not found in axis\""
     ]
    }
   ],
   "source": [
    "onnodige_kolommen_accounts = [\n",
    "#  'account_account_id',\n",
    " 'account_adres_postcode',\n",
    " 'account_industriezone_naam_',\n",
    " 'account_oprichtingsdatum',\n",
    " 'account_adres_plaats',\n",
    " 'account_voka_nr_',\n",
    " 'account_primaire_activiteit',\n",
    " 'account_is_voka_entiteit',\n",
    " 'account_status',\n",
    " 'account_adres_geografische_regio',\n",
    " 'account_adres_provincie',\n",
    " 'account_reden_van_status',\n",
    " 'account_adres_land',\n",
    " 'account_activiteitscode_account',\n",
    " 'account_activiteitscode_activiteitscode',\n",
    " 'account_activiteitscode_inf_account_inf_activiteitscodeid',\n",
    " 'activiteitscode_activiteitscode_id',\n",
    " 'contact_account',\n",
    " 'contact_functietitel',\n",
    " 'contact_persoon_id',\n",
    " 'contact_voka_medewerker',\n",
    " 'contact_status',\n",
    "#  'financieledata_ondernemingid',\n",
    "#  'financieledata_gewijzigd_op',\n",
    " 'contactfunctie_contactpersoon',\n",
    " 'contactfunctie_functie',\n",
    " 'functie_functie_id',\n",
    " 'activiteitscode_status',\n",
    " 'persoon_persoonsnr_',\n",
    " 'persoon_web_login',\n",
    " 'persoon_reden_van_status',\n",
    "]\n",
    "\n",
    "accounts_merged = accounts_merged.drop(onnodige_kolommen_accounts, axis=1)"
   ]
  },
  {
   "cell_type": "code",
   "execution_count": null,
   "metadata": {},
   "outputs": [],
   "source": [
    "grouping_categories = {\n",
    "    'Lidmaatschap': ['Lidmaatschap'],\n",
    "    'Welt': ['Welt', 'Welt 2.0', 'Welt 2.0-2023'],\n",
    "    'Plato': ['Plato'],\n",
    "    'Internationaal Ondernemen': ['Internationaal Ondernemen', 'Internationaal Ondernemen - voor Info en Advies'],\n",
    "    'Technologie en Innovatie': ['Digitalisering, IT & Technologie', 'Innovatie'],\n",
    "    'Groeien en Netwerking': ['Groeien', 'Netwerking'],\n",
    "    'Duurzaamheid': ['Duurzaam Ondernemen', 'Mobiliteit'],\n",
    "    'Familiebedrijfsmanagement': ['Familiebedrijven', 'Opvolging en Overname'],\n",
    "    'Arbeidsmarkt': ['Arbeidsmarkt', 'Opleidingen'],\n",
    "    'Bedrijfsbeheer': ['Algemeen Management', 'Bestuurlijke organisaties', 'Human Resources'],\n",
    "    'Financieel': ['Financieel', 'Marketing & Sales'],\n",
    "    'Logistiek en Transport': ['Logistiek en Transport', 'Haven']\n",
    "}\n",
    "\n",
    "def map_thema(thema):\n",
    "    for category, themes in grouping_categories.items():\n",
    "        if thema in themes:\n",
    "            return category\n",
    "    return thema\n",
    "\n",
    "afspraken_merged['afspraak_thema_grouped'] = afspraken_merged['afspraak_thema'].apply(map_thema)\n",
    "afspraken_merged = afspraken_merged.drop(['afspraak_thema', 'afspraak_subthema'], axis=1)"
   ]
  },
  {
   "cell_type": "code",
   "execution_count": null,
   "metadata": {},
   "outputs": [
    {
     "name": "stdout",
     "output_type": "stream",
     "text": [
      "<class 'pandas.core.frame.DataFrame'>\n",
      "RangeIndex: 4545 entries, 0 to 4544\n",
      "Data columns (total 2 columns):\n",
      " #   Column                                Non-Null Count  Dtype \n",
      "---  ------                                --------------  ----- \n",
      " 0   activiteitvereistcontact_reqattendee  4545 non-null   object\n",
      " 1   afspraak_thema_grouped                4545 non-null   object\n",
      "dtypes: object(2)\n",
      "memory usage: 71.1+ KB\n"
     ]
    }
   ],
   "source": [
    "afspraken_merged = afspraken_merged.drop(['afspraak_afspraak_id', 'afspraak_onderwerp', 'afspraak_eindtijd', 'activiteitvereistcontact_activityid_id', 'afspraak_keyphrases'], axis=1)\n",
    "afspraken_merged.info()"
   ]
  },
  {
   "cell_type": "code",
   "execution_count": null,
   "metadata": {},
   "outputs": [
    {
     "data": {
      "text/html": [
       "<div>\n",
       "<style scoped>\n",
       "    .dataframe tbody tr th:only-of-type {\n",
       "        vertical-align: middle;\n",
       "    }\n",
       "\n",
       "    .dataframe tbody tr th {\n",
       "        vertical-align: top;\n",
       "    }\n",
       "\n",
       "    .dataframe thead th {\n",
       "        text-align: right;\n",
       "    }\n",
       "</style>\n",
       "<table border=\"1\" class=\"dataframe\">\n",
       "  <thead>\n",
       "    <tr style=\"text-align: right;\">\n",
       "      <th></th>\n",
       "      <th>account_account_id</th>\n",
       "      <th>account_adres_geografische_subregio</th>\n",
       "      <th>account_ondernemingsaard</th>\n",
       "      <th>account_ondernemingstype</th>\n",
       "      <th>activiteitscode_naam</th>\n",
       "      <th>contact_contactpersoon_id</th>\n",
       "      <th>functie_naam</th>\n",
       "      <th>Arbeidsmarkt</th>\n",
       "      <th>Bedrijfsbeheer</th>\n",
       "      <th>Duurzaamheid</th>\n",
       "      <th>Familiebedrijfsmanagement</th>\n",
       "      <th>Financieel</th>\n",
       "      <th>Groeien en Netwerking</th>\n",
       "      <th>Internationaal Ondernemen</th>\n",
       "      <th>Lidmaatschap</th>\n",
       "      <th>Logistiek en Transport</th>\n",
       "      <th>Plato</th>\n",
       "      <th>Technologie en Innovatie</th>\n",
       "      <th>Welt</th>\n",
       "    </tr>\n",
       "  </thead>\n",
       "  <tbody>\n",
       "    <tr>\n",
       "      <th>0</th>\n",
       "      <td>00002DAC-0A69-E111-B43A-00505680000A</td>\n",
       "      <td>Oudenaarde</td>\n",
       "      <td>Diensten</td>\n",
       "      <td>Bedrijf</td>\n",
       "      <td>Overige industrie &amp; diensten</td>\n",
       "      <td>0A9D6946-EB72-E111-B43A-00505680000A</td>\n",
       "      <td>Contact Lidmaatschap</td>\n",
       "      <td>0.0</td>\n",
       "      <td>0.0</td>\n",
       "      <td>0.0</td>\n",
       "      <td>0.0</td>\n",
       "      <td>0.0</td>\n",
       "      <td>0.0</td>\n",
       "      <td>0.0</td>\n",
       "      <td>0.0</td>\n",
       "      <td>0.0</td>\n",
       "      <td>0.0</td>\n",
       "      <td>0.0</td>\n",
       "      <td>0.0</td>\n",
       "    </tr>\n",
       "    <tr>\n",
       "      <th>1</th>\n",
       "      <td>0016CAE8-BD68-E111-B43A-00505680000A</td>\n",
       "      <td>Gent</td>\n",
       "      <td>Productie &amp; Diensten</td>\n",
       "      <td>Bedrijf</td>\n",
       "      <td>Overige industrie &amp; diensten</td>\n",
       "      <td>04E88B7A-B56A-E111-B43A-00505680000A</td>\n",
       "      <td>Contact Lidmaatschap</td>\n",
       "      <td>0.0</td>\n",
       "      <td>0.0</td>\n",
       "      <td>0.0</td>\n",
       "      <td>0.0</td>\n",
       "      <td>0.0</td>\n",
       "      <td>0.0</td>\n",
       "      <td>0.0</td>\n",
       "      <td>1.0</td>\n",
       "      <td>0.0</td>\n",
       "      <td>0.0</td>\n",
       "      <td>0.0</td>\n",
       "      <td>0.0</td>\n",
       "    </tr>\n",
       "    <tr>\n",
       "      <th>2</th>\n",
       "      <td>002C0FBC-C268-E111-B43A-00505680000A</td>\n",
       "      <td>Dendermonde</td>\n",
       "      <td>Productie &amp; Diensten</td>\n",
       "      <td>Familiebedrijf</td>\n",
       "      <td>Ijzer en staal</td>\n",
       "      <td>E668A6B1-EEEC-EA11-8115-001DD8B72B62</td>\n",
       "      <td>Contact Lidmaatschap</td>\n",
       "      <td>0.0</td>\n",
       "      <td>0.0</td>\n",
       "      <td>0.0</td>\n",
       "      <td>0.0</td>\n",
       "      <td>0.0</td>\n",
       "      <td>0.0</td>\n",
       "      <td>0.0</td>\n",
       "      <td>3.0</td>\n",
       "      <td>0.0</td>\n",
       "      <td>0.0</td>\n",
       "      <td>0.0</td>\n",
       "      <td>0.0</td>\n",
       "    </tr>\n",
       "    <tr>\n",
       "      <th>3</th>\n",
       "      <td>003B965B-C268-E111-B43A-00505680000A</td>\n",
       "      <td>Gent</td>\n",
       "      <td>Diensten</td>\n",
       "      <td>Bedrijf</td>\n",
       "      <td>Telecom &amp; IT</td>\n",
       "      <td>2C2F82B2-A239-ED11-9DB1-6045BD8952CE</td>\n",
       "      <td>Contact Lidmaatschap</td>\n",
       "      <td>0.0</td>\n",
       "      <td>0.0</td>\n",
       "      <td>0.0</td>\n",
       "      <td>0.0</td>\n",
       "      <td>0.0</td>\n",
       "      <td>0.0</td>\n",
       "      <td>0.0</td>\n",
       "      <td>0.0</td>\n",
       "      <td>0.0</td>\n",
       "      <td>0.0</td>\n",
       "      <td>0.0</td>\n",
       "      <td>0.0</td>\n",
       "    </tr>\n",
       "    <tr>\n",
       "      <th>4</th>\n",
       "      <td>004E24A6-0A69-E111-B43A-00505680000A</td>\n",
       "      <td>Dendermonde</td>\n",
       "      <td>Diensten</td>\n",
       "      <td>Bedrijf</td>\n",
       "      <td>Telecom &amp; IT</td>\n",
       "      <td>41CC555F-0174-E111-B43A-00505680000A</td>\n",
       "      <td>Contact Lidmaatschap</td>\n",
       "      <td>0.0</td>\n",
       "      <td>0.0</td>\n",
       "      <td>0.0</td>\n",
       "      <td>0.0</td>\n",
       "      <td>0.0</td>\n",
       "      <td>0.0</td>\n",
       "      <td>0.0</td>\n",
       "      <td>3.0</td>\n",
       "      <td>0.0</td>\n",
       "      <td>2.0</td>\n",
       "      <td>0.0</td>\n",
       "      <td>0.0</td>\n",
       "    </tr>\n",
       "  </tbody>\n",
       "</table>\n",
       "</div>"
      ],
      "text/plain": [
       "                     account_account_id account_adres_geografische_subregio  \\\n",
       "0  00002DAC-0A69-E111-B43A-00505680000A                          Oudenaarde   \n",
       "1  0016CAE8-BD68-E111-B43A-00505680000A                                Gent   \n",
       "2  002C0FBC-C268-E111-B43A-00505680000A                         Dendermonde   \n",
       "3  003B965B-C268-E111-B43A-00505680000A                                Gent   \n",
       "4  004E24A6-0A69-E111-B43A-00505680000A                         Dendermonde   \n",
       "\n",
       "  account_ondernemingsaard account_ondernemingstype  \\\n",
       "0                 Diensten                  Bedrijf   \n",
       "1     Productie & Diensten                  Bedrijf   \n",
       "2     Productie & Diensten           Familiebedrijf   \n",
       "3                 Diensten                  Bedrijf   \n",
       "4                 Diensten                  Bedrijf   \n",
       "\n",
       "           activiteitscode_naam             contact_contactpersoon_id  \\\n",
       "0  Overige industrie & diensten  0A9D6946-EB72-E111-B43A-00505680000A   \n",
       "1  Overige industrie & diensten  04E88B7A-B56A-E111-B43A-00505680000A   \n",
       "2                Ijzer en staal  E668A6B1-EEEC-EA11-8115-001DD8B72B62   \n",
       "3                  Telecom & IT  2C2F82B2-A239-ED11-9DB1-6045BD8952CE   \n",
       "4                  Telecom & IT  41CC555F-0174-E111-B43A-00505680000A   \n",
       "\n",
       "           functie_naam  Arbeidsmarkt  Bedrijfsbeheer  Duurzaamheid  \\\n",
       "0  Contact Lidmaatschap           0.0             0.0           0.0   \n",
       "1  Contact Lidmaatschap           0.0             0.0           0.0   \n",
       "2  Contact Lidmaatschap           0.0             0.0           0.0   \n",
       "3  Contact Lidmaatschap           0.0             0.0           0.0   \n",
       "4  Contact Lidmaatschap           0.0             0.0           0.0   \n",
       "\n",
       "   Familiebedrijfsmanagement  Financieel  Groeien en Netwerking  \\\n",
       "0                        0.0         0.0                    0.0   \n",
       "1                        0.0         0.0                    0.0   \n",
       "2                        0.0         0.0                    0.0   \n",
       "3                        0.0         0.0                    0.0   \n",
       "4                        0.0         0.0                    0.0   \n",
       "\n",
       "   Internationaal Ondernemen  Lidmaatschap  Logistiek en Transport  Plato  \\\n",
       "0                        0.0           0.0                     0.0    0.0   \n",
       "1                        0.0           1.0                     0.0    0.0   \n",
       "2                        0.0           3.0                     0.0    0.0   \n",
       "3                        0.0           0.0                     0.0    0.0   \n",
       "4                        0.0           3.0                     0.0    2.0   \n",
       "\n",
       "   Technologie en Innovatie  Welt  \n",
       "0                       0.0   0.0  \n",
       "1                       0.0   0.0  \n",
       "2                       0.0   0.0  \n",
       "3                       0.0   0.0  \n",
       "4                       0.0   0.0  "
      ]
     },
     "execution_count": 322,
     "metadata": {},
     "output_type": "execute_result"
    }
   ],
   "source": [
    "afspraakthema_counts = afspraken_merged.groupby('activiteitvereistcontact_reqattendee')['afspraak_thema_grouped'].value_counts().unstack(fill_value=0)\n",
    "accounts_merged = accounts_merged.merge(afspraakthema_counts, left_on='contact_contactpersoon_id', right_index=True, how='left').fillna(0)\n",
    "accounts_merged.head()"
   ]
  },
  {
   "cell_type": "code",
   "execution_count": null,
   "metadata": {},
   "outputs": [],
   "source": [
    "# RAM vrijmaken\n",
    "try:\n",
    "    del afspraken_merged\n",
    "    del activiteit_vereist_contact\n",
    "    del result\n",
    "except:\n",
    "    print(\"Data is niet meer beschikbaar / is al verwijderd\")"
   ]
  },
  {
   "cell_type": "markdown",
   "metadata": {},
   "source": [
    "#### 5. Cleaning voor de grote merge"
   ]
  },
  {
   "cell_type": "code",
   "execution_count": null,
   "metadata": {},
   "outputs": [],
   "source": [
    "onnodige_kolommen_campagnes = [\n",
    " 'campagne_campagne_nr',\n",
    " 'campagne_einddatum',\n",
    " 'campagne_naam',\n",
    " 'campagne_reden_van_status',\n",
    " 'campagne_naam_in_email',\n",
    " 'campagne_startdatum',\n",
    " 'campagne_url_voka_be',\n",
    " 'campagne_status',\n",
    " 'sessie_campagne',\n",
    "]\n",
    "\n",
    "campagnes_merged = campagnes_merged.drop(onnodige_kolommen_campagnes, axis=1)"
   ]
  },
  {
   "cell_type": "code",
   "execution_count": null,
   "metadata": {},
   "outputs": [],
   "source": [
    "# Drop duplicates\n",
    "accounts_merged = accounts_merged.drop_duplicates(keep='first')\n",
    "campagnes_merged = campagnes_merged.drop_duplicates(keep='first')"
   ]
  },
  {
   "cell_type": "code",
   "execution_count": null,
   "metadata": {},
   "outputs": [],
   "source": [
    "accounts_merged.info()"
   ]
  },
  {
   "cell_type": "code",
   "execution_count": null,
   "metadata": {},
   "outputs": [],
   "source": [
    "campagnes_merged.info()"
   ]
  },
  {
   "cell_type": "markdown",
   "metadata": {},
   "source": [
    "#### 6. Alles mergen tot 1 dataframe met een cross join"
   ]
  },
  {
   "cell_type": "code",
   "execution_count": 225,
   "metadata": {},
   "outputs": [],
   "source": [
    "campagnes_merged['cross_join_key'] = 1\n",
    "accounts_merged['cross_join_key'] = 1"
   ]
  },
  {
   "cell_type": "code",
   "execution_count": null,
   "metadata": {},
   "outputs": [],
   "source": [
    "merged_total = accounts_merged.merge(campagnes_merged, on='cross_join_key', how='outer').drop('cross_join_key', axis=1)"
   ]
  },
  {
   "cell_type": "code",
   "execution_count": null,
   "metadata": {},
   "outputs": [],
   "source": [
    "# RAM vrijmaken\n",
    "try:\n",
    "    del accounts_merged\n",
    "    del campagnes_merged\n",
    "except:\n",
    "    print(\"Data is niet meer beschikbaar / is al verwijderd\")"
   ]
  },
  {
   "cell_type": "markdown",
   "metadata": {},
   "source": [
    "#### 7. Target label genereren"
   ]
  },
  {
   "cell_type": "code",
   "execution_count": null,
   "metadata": {},
   "outputs": [
    {
     "data": {
      "text/plain": [
       "(49175, 8)"
      ]
     },
     "execution_count": 43,
     "metadata": {},
     "output_type": "execute_result"
    }
   ],
   "source": [
    "import pandas as pd\n",
    "inschrijving = pd.read_csv('../data_clean/Inschrijving_fixed.csv', sep=',')\n",
    "inschrijving.shape"
   ]
  },
  {
   "cell_type": "code",
   "execution_count": null,
   "metadata": {},
   "outputs": [],
   "source": [
    "merged_total[\"ingeschreven\"] = 0\n",
    "\n",
    "for index, row in merged_total.iterrows():\n",
    "    if ((inschrijving['inschrijving_contactfiche'] == row['contact_contactpersoon_id']) & (inschrijving['inschrijving_campagne'] == row['campagne_campagne_id'])).any():\n",
    "        merged_total.at[index, 'ingeschreven'] = 1\n",
    "merged_total[\"ingeschreven\"].value_counts()"
   ]
  },
  {
   "cell_type": "code",
   "execution_count": null,
   "metadata": {},
   "outputs": [],
   "source": [
    "merged_total = merged_total.drop(['contact_contactpersoon_id', 'campagne_campagne_id'], axis=1)\n",
    "merged_total.info()"
   ]
  },
  {
   "cell_type": "code",
   "execution_count": null,
   "metadata": {},
   "outputs": [],
   "source": [
    "merged_total.shape"
   ]
  },
  {
   "cell_type": "code",
   "execution_count": null,
   "metadata": {},
   "outputs": [],
   "source": [
    "# Save to csv\n",
    "merged_total.to_csv('../data_clean/AA_REC_SYSTEM_SUPERVISED.csv', index=False)"
   ]
  },
  {
   "cell_type": "markdown",
   "metadata": {},
   "source": [
    "#### 7. Verdere data cleaning en One/Multi hot encoding"
   ]
  },
  {
   "cell_type": "code",
   "execution_count": 47,
   "metadata": {},
   "outputs": [],
   "source": [
    "from sklearn.compose import make_column_transformer\n",
    "from sklearn.preprocessing import OneHotEncoder\n",
    "import category_encoders as ce\n",
    "\n",
    "oneHot = OneHotEncoder(sparse=False)"
   ]
  },
  {
   "cell_type": "code",
   "execution_count": null,
   "metadata": {},
   "outputs": [],
   "source": [
    "# Subregio, Ondernemingstype\n",
    "subregio_1hot = oneHot.fit_transform(accounts_merged[['account_adres_geografische_subregio']])"
   ]
  },
  {
   "cell_type": "code",
   "execution_count": null,
   "metadata": {},
   "outputs": [],
   "source": [
    "# Ondernemingstype\n",
    "be_ondernemingstype = ce.BinaryEncoder(cols=['account_ondernemingstype'])\n",
    "encoded_ondernemingstype = be_ondernemingstype.fit_transform(accounts_merged['account_ondernemingstype'])\n",
    "accounts_merged = accounts_merged.join(encoded_ondernemingstype)"
   ]
  },
  {
   "cell_type": "code",
   "execution_count": null,
   "metadata": {},
   "outputs": [],
   "source": [
    "# Ondernemingsaard\n",
    "be_primaire_activiteit = ce.BinaryEncoder(cols=['account_primaire_activiteit'])\n",
    "encoded_primaire_activiteit = be_primaire_activiteit.fit_transform(accounts_merged['account_primaire_activiteit'])\n",
    "accounts_merged = accounts_merged.join(encoded_primaire_activiteit)"
   ]
  },
  {
   "cell_type": "code",
   "execution_count": 63,
   "metadata": {},
   "outputs": [],
   "source": [
    "# Ondernemingsaard\n",
    "diensten_column = []\n",
    "productie_column = []\n",
    "\n",
    "for label in accounts_merged[\"account_ondernemingsaard\"]:\n",
    "    if label == \"Diensten\":\n",
    "        diensten_column.append(1)\n",
    "        productie_column.append(0)\n",
    "    elif label == \"Productie\":\n",
    "        diensten_column.append(0)\n",
    "        productie_column.append(1)\n",
    "    elif label == \"Productie & Diensten\":\n",
    "        diensten_column.append(1)\n",
    "        productie_column.append(1)\n",
    "    elif label == \"unknown\":\n",
    "        diensten_column.append(0)\n",
    "        productie_column.append(0)\n",
    "\n",
    "ondernemingsaard_multihot = pd.DataFrame({\"Diensten\": diensten_column, \"Productie\": productie_column})\n",
    "accounts_merged = accounts_merged.join(ondernemingsaard_multihot)"
   ]
  },
  {
   "cell_type": "code",
   "execution_count": 58,
   "metadata": {},
   "outputs": [],
   "source": [
    "# Functie_naam\n",
    "def transform_role(role):\n",
    "    if \"Verantwoordelijke\" in role:\n",
    "        return \"Verantwoordelijke\"\n",
    "    elif \"Medewerker\" in role:\n",
    "        return \"Medewerker\"\n",
    "    else:\n",
    "        return role\n",
    "\n",
    "accounts_merged['functie_naam'] = accounts_merged['functie_naam'].apply(transform_role)\n",
    "functie_1hot = oneHot.fit_transform(accounts_merged[['functie_naam']])"
   ]
  },
  {
   "cell_type": "code",
   "execution_count": null,
   "metadata": {},
   "outputs": [],
   "source": [
    "# Campagne soort\n",
    "online_column = []\n",
    "offline_column = []\n",
    "\n",
    "for label in campagnes_merged[\"campagne_soort_campagne\"]:\n",
    "    if label == \"Offline\":\n",
    "        online_column.append(0)\n",
    "        offline_column.append(1)\n",
    "    elif label == \"Online\":\n",
    "        online_column.append(1)\n",
    "        offline_column.append(0)\n",
    "    elif label == \"On en Offline\":\n",
    "        online_column.append(1)\n",
    "        offline_column.append(1)\n",
    "    else:\n",
    "        online_column.append(0)\n",
    "        offline_column.append(0)"
   ]
  },
  {
   "cell_type": "code",
   "execution_count": null,
   "metadata": {},
   "outputs": [],
   "source": [
    "# Campagne type\n",
    "campagne_type_1hot = oneHot.fit_transform(campagnes_merged[['campagne_type_campagne']])"
   ]
  },
  {
   "cell_type": "code",
   "execution_count": null,
   "metadata": {},
   "outputs": [],
   "source": [
    "# Al de one hot encodings samenvoegen\n",
    "accounts_merged = accounts_merged.join(ondernemingsaard_multihot)\n",
    "accounts_merged = accounts_merged.join(functie_1hot)\n",
    "accounts_merged = accounts_merged.join(campagne_type_1hot)\n",
    "\n",
    "# Kolommen verwijderen\n",
    "accounts_merged = accounts_merged.drop(['account_adres_geografische_subregio', 'account_ondernemingstype', 'account_primaire_activiteit', 'account_ondernemingsaard', 'functie_naam', 'campagne_soort_campagne', 'campagne_type_campagne'], axis=1)\n",
    "\n",
    "accounts_merged.info()"
   ]
  }
 ],
 "metadata": {
  "kernelspec": {
   "display_name": "Python 3",
   "language": "python",
   "name": "python3"
  },
  "language_info": {
   "codemirror_mode": {
    "name": "ipython",
    "version": 3
   },
   "file_extension": ".py",
   "mimetype": "text/x-python",
   "name": "python",
   "nbconvert_exporter": "python",
   "pygments_lexer": "ipython3",
   "version": "3.11.6"
  }
 },
 "nbformat": 4,
 "nbformat_minor": 2
}
