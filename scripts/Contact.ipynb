{
 "cells": [
  {
   "cell_type": "code",
   "execution_count": 10,
   "metadata": {},
   "outputs": [
    {
     "data": {
      "text/html": [
       "<div>\n",
       "<style scoped>\n",
       "    .dataframe tbody tr th:only-of-type {\n",
       "        vertical-align: middle;\n",
       "    }\n",
       "\n",
       "    .dataframe tbody tr th {\n",
       "        vertical-align: top;\n",
       "    }\n",
       "\n",
       "    .dataframe thead th {\n",
       "        text-align: right;\n",
       "    }\n",
       "</style>\n",
       "<table border=\"1\" class=\"dataframe\">\n",
       "  <thead>\n",
       "    <tr style=\"text-align: right;\">\n",
       "      <th></th>\n",
       "      <th>crm_Gebruikers_CRM_User_ID</th>\n",
       "      <th>crm_Gebruikers_Business_Unit_Naam_</th>\n",
       "    </tr>\n",
       "  </thead>\n",
       "  <tbody>\n",
       "    <tr>\n",
       "      <th>0</th>\n",
       "      <td>0215F6C2-294C-E111-8DCE-18A905732A15</td>\n",
       "      <td>Voka Oost-Vlaanderen</td>\n",
       "    </tr>\n",
       "    <tr>\n",
       "      <th>1</th>\n",
       "      <td>05C3B79C-274C-E111-8DCE-18A905732A15</td>\n",
       "      <td>Voka Oost-Vlaanderen</td>\n",
       "    </tr>\n",
       "    <tr>\n",
       "      <th>2</th>\n",
       "      <td>070833A7-4B65-E711-80E7-001DD8B72B62</td>\n",
       "      <td>Voka Oost-Vlaanderen</td>\n",
       "    </tr>\n",
       "    <tr>\n",
       "      <th>3</th>\n",
       "      <td>0A98518E-9956-ED11-BBA2-6045BD895D85</td>\n",
       "      <td>Voka Oost-Vlaanderen</td>\n",
       "    </tr>\n",
       "    <tr>\n",
       "      <th>4</th>\n",
       "      <td>0ADD70B7-284C-E111-8DCE-18A905732A15</td>\n",
       "      <td>Voka Oost-Vlaanderen</td>\n",
       "    </tr>\n",
       "  </tbody>\n",
       "</table>\n",
       "</div>"
      ],
      "text/plain": [
       "             crm_Gebruikers_CRM_User_ID crm_Gebruikers_Business_Unit_Naam_\n",
       "0  0215F6C2-294C-E111-8DCE-18A905732A15               Voka Oost-Vlaanderen\n",
       "1  05C3B79C-274C-E111-8DCE-18A905732A15               Voka Oost-Vlaanderen\n",
       "2  070833A7-4B65-E711-80E7-001DD8B72B62               Voka Oost-Vlaanderen\n",
       "3  0A98518E-9956-ED11-BBA2-6045BD895D85               Voka Oost-Vlaanderen\n",
       "4  0ADD70B7-284C-E111-8DCE-18A905732A15               Voka Oost-Vlaanderen"
      ]
     },
     "execution_count": 10,
     "metadata": {},
     "output_type": "execute_result"
    }
   ],
   "source": [
    "import pandas as pd\n",
    "data = pd.read_csv('../data/Contact.csv', sep=\",\")\n",
    "data.head()"
   ]
  },
  {
   "cell_type": "code",
   "execution_count": 11,
   "metadata": {},
   "outputs": [
    {
     "name": "stdout",
     "output_type": "stream",
     "text": [
      "<class 'pandas.core.frame.DataFrame'>\n",
      "RangeIndex: 146 entries, 0 to 145\n",
      "Data columns (total 2 columns):\n",
      " #   Column                              Non-Null Count  Dtype \n",
      "---  ------                              --------------  ----- \n",
      " 0   crm_Gebruikers_CRM_User_ID          146 non-null    object\n",
      " 1   crm_Gebruikers_Business_Unit_Naam_  146 non-null    object\n",
      "dtypes: object(2)\n",
      "memory usage: 2.4+ KB\n"
     ]
    }
   ],
   "source": [
    "data.info()"
   ]
  },
  {
   "cell_type": "code",
   "execution_count": null,
   "metadata": {},
   "outputs": [],
   "source": []
  },
  {
   "cell_type": "code",
   "execution_count": null,
   "metadata": {},
   "outputs": [],
   "source": []
  },
  {
   "cell_type": "code",
   "execution_count": null,
   "metadata": {},
   "outputs": [],
   "source": []
  }
 ],
 "metadata": {
  "kernelspec": {
   "display_name": "Python 3",
   "language": "python",
   "name": "python3"
  },
  "language_info": {
   "codemirror_mode": {
    "name": "ipython",
    "version": 3
   },
   "file_extension": ".py",
   "mimetype": "text/x-python",
   "name": "python",
   "nbconvert_exporter": "python",
   "pygments_lexer": "ipython3",
   "version": "3.11.2"
  }
 },
 "nbformat": 4,
 "nbformat_minor": 2
}
