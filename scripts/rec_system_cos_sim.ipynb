{
 "cells": [
  {
   "cell_type": "code",
   "execution_count": 24,
   "metadata": {},
   "outputs": [
    {
     "data": {
      "text/plain": [
       "True"
      ]
     },
     "execution_count": 24,
     "metadata": {},
     "output_type": "execute_result"
    }
   ],
   "source": [
    "import pandas as pd\n",
    "import numpy as np\n",
    "import matplotlib.pyplot as plt\n",
    "import os\n",
    "from sklearn.preprocessing import MinMaxScaler\n",
    "from sklearn.feature_extraction.text import TfidfVectorizer\n",
    "from sklearn.metrics.pairwise import cosine_similarity\n",
    "import nltk\n",
    "from nltk.corpus import stopwords\n",
    "from nltk.tokenize import word_tokenize\n",
    "from nltk.stem.snowball import SnowballStemmer\n",
    "\n",
    "nltk.download('stopwords', quiet=True)\n",
    "nltk.download('punkt', quiet=True)"
   ]
  },
  {
   "cell_type": "code",
   "execution_count": 25,
   "metadata": {},
   "outputs": [
    {
     "data": {
      "text/plain": [
       "(211429, 24)"
      ]
     },
     "execution_count": 25,
     "metadata": {},
     "output_type": "execute_result"
    }
   ],
   "source": [
    "data = pd.read_csv('../data_clean/final_merge_clean.csv')\n",
    "df = data.drop(['avg_waarde_jaar', 'afspraak_account_gelinkt', 'campagne_campagne_id', 'inschrijving_aanwezig_afwezig', 'inschrijving_facturatie_bedrag'], axis=1, inplace=False)\n",
    "df.shape"
   ]
  },
  {
   "cell_type": "code",
   "execution_count": 27,
   "metadata": {},
   "outputs": [],
   "source": [
    "def calc_marketing_pressure(df):\n",
    "    marketing_pressure_cols = [col for col in df.columns if col.__contains__('persoon_mail_type') \n",
    "                           or col.__contains__('persoon_mail_thema') or col.__contains__('persoon_marketingcommunicatie')]\n",
    "\n",
    "    marketing_pressure_cols.append('inschrijving_bron')\n",
    "    marketing_pressure_cols.append('visit_first_visit')\n",
    "    marketing_pressure_cols.append('visit_total_pages')\n",
    "    marketing_pressure_cols.append('mail_click_freq')\n",
    "\n",
    "    df['marketing_pressure'] = df[marketing_pressure_cols].sum(axis=1)\n",
    "    df['marketing_pressure'] = df['marketing_pressure'].astype(int)\n",
    "    df.drop(marketing_pressure_cols, axis=1, inplace=True)\n",
    "\n",
    "    return df\n",
    "\n",
    "df = calc_marketing_pressure(df)"
   ]
  },
  {
   "cell_type": "code",
   "execution_count": 21,
   "metadata": {},
   "outputs": [
    {
     "data": {
      "text/html": [
       "<div>\n",
       "<style scoped>\n",
       "    .dataframe tbody tr th:only-of-type {\n",
       "        vertical-align: middle;\n",
       "    }\n",
       "\n",
       "    .dataframe tbody tr th {\n",
       "        vertical-align: top;\n",
       "    }\n",
       "\n",
       "    .dataframe thead th {\n",
       "        text-align: right;\n",
       "    }\n",
       "</style>\n",
       "<table border=\"1\" class=\"dataframe\">\n",
       "  <thead>\n",
       "    <tr style=\"text-align: right;\">\n",
       "      <th></th>\n",
       "      <th>contact_contactpersoon_id</th>\n",
       "      <th>keyphrases</th>\n",
       "      <th>marketing_pressure</th>\n",
       "    </tr>\n",
       "  </thead>\n",
       "  <tbody>\n",
       "    <tr>\n",
       "      <th>0</th>\n",
       "      <td>D9303EA2-57E5-EB11-8121-001DD8B72B61</td>\n",
       "      <td>medewerker,offlin,mell,dienst,kick,netwerk,bou...</td>\n",
       "      <td>-1</td>\n",
       "    </tr>\n",
       "    <tr>\n",
       "      <th>1</th>\n",
       "      <td>451DF235-4B73-E111-B43A-00505680000A</td>\n",
       "      <td>geraardsberg,consultancy,offlin,lidmaatschap,a...</td>\n",
       "      <td>-3</td>\n",
       "    </tr>\n",
       "    <tr>\n",
       "      <th>2</th>\n",
       "      <td>10446D11-F363-ED11-9561-6045BD895B5A</td>\n",
       "      <td>verwerk,organisaties,dienst,organisch,industri...</td>\n",
       "      <td>32</td>\n",
       "    </tr>\n",
       "    <tr>\n",
       "      <th>3</th>\n",
       "      <td>10446D11-F363-ED11-9561-6045BD895B5A</td>\n",
       "      <td>verwerk,organisaties,dienst,organisch,industri...</td>\n",
       "      <td>22</td>\n",
       "    </tr>\n",
       "    <tr>\n",
       "      <th>4</th>\n",
       "      <td>10446D11-F363-ED11-9561-6045BD895B5A</td>\n",
       "      <td>verwerk,organisaties,dienst,organisch,nieuw,in...</td>\n",
       "      <td>29</td>\n",
       "    </tr>\n",
       "  </tbody>\n",
       "</table>\n",
       "</div>"
      ],
      "text/plain": [
       "              contact_contactpersoon_id  \\\n",
       "0  D9303EA2-57E5-EB11-8121-001DD8B72B61   \n",
       "1  451DF235-4B73-E111-B43A-00505680000A   \n",
       "2  10446D11-F363-ED11-9561-6045BD895B5A   \n",
       "3  10446D11-F363-ED11-9561-6045BD895B5A   \n",
       "4  10446D11-F363-ED11-9561-6045BD895B5A   \n",
       "\n",
       "                                          keyphrases  marketing_pressure  \n",
       "0  medewerker,offlin,mell,dienst,kick,netwerk,bou...                  -1  \n",
       "1  geraardsberg,consultancy,offlin,lidmaatschap,a...                  -3  \n",
       "2  verwerk,organisaties,dienst,organisch,industri...                  32  \n",
       "3  verwerk,organisaties,dienst,organisch,industri...                  22  \n",
       "4  verwerk,organisaties,dienst,organisch,nieuw,in...                  29  "
      ]
     },
     "execution_count": 21,
     "metadata": {},
     "output_type": "execute_result"
    }
   ],
   "source": [
    "df.head()"
   ]
  },
  {
   "cell_type": "code",
   "execution_count": 22,
   "metadata": {},
   "outputs": [
    {
     "data": {
      "text/plain": [
       "(12225, 3)"
      ]
     },
     "execution_count": 22,
     "metadata": {},
     "output_type": "execute_result"
    }
   ],
   "source": [
    "# group by contact_id\n",
    "df = df.groupby('contact_contactpersoon_id').agg(list)\n",
    "df['marketing_pressure'] = df['marketing_pressure'].apply(lambda x: np.mean(x).round(0).astype(int))\n",
    "df['keyphrases'] = df['keyphrases'].apply(lambda x: ','.join(list(set(x))))\n",
    "df.reset_index(inplace=True)\n",
    "df.shape"
   ]
  },
  {
   "cell_type": "code",
   "execution_count": 23,
   "metadata": {},
   "outputs": [
    {
     "data": {
      "text/html": [
       "<div>\n",
       "<style scoped>\n",
       "    .dataframe tbody tr th:only-of-type {\n",
       "        vertical-align: middle;\n",
       "    }\n",
       "\n",
       "    .dataframe tbody tr th {\n",
       "        vertical-align: top;\n",
       "    }\n",
       "\n",
       "    .dataframe thead th {\n",
       "        text-align: right;\n",
       "    }\n",
       "</style>\n",
       "<table border=\"1\" class=\"dataframe\">\n",
       "  <thead>\n",
       "    <tr style=\"text-align: right;\">\n",
       "      <th></th>\n",
       "      <th>contact_contactpersoon_id</th>\n",
       "      <th>keyphrases</th>\n",
       "      <th>marketing_pressure</th>\n",
       "    </tr>\n",
       "  </thead>\n",
       "  <tbody>\n",
       "    <tr>\n",
       "      <th>0</th>\n",
       "      <td>00169619-E322-E911-80FB-001DD8B72B62</td>\n",
       "      <td>zaakvoerder,dienst,waasmunster,jong,lidmaatsch...</td>\n",
       "      <td>12</td>\n",
       "    </tr>\n",
       "    <tr>\n",
       "      <th>1</th>\n",
       "      <td>0017416A-2C6E-E111-B43A-00505680000A</td>\n",
       "      <td>leiestreekmeetjesland,eeklo,dienst,voorjaarsag...</td>\n",
       "      <td>16</td>\n",
       "    </tr>\n",
       "    <tr>\n",
       "      <th>2</th>\n",
       "      <td>00223C8E-467F-E311-BBFD-005056B06EB4</td>\n",
       "      <td>agrarisch,happen,dienst,familiebedrijv,family,...</td>\n",
       "      <td>0</td>\n",
       "    </tr>\n",
       "    <tr>\n",
       "      <th>3</th>\n",
       "      <td>00231824-53EA-ED11-8849-6045BD895420</td>\n",
       "      <td>offlin,oudenaard,bedrijfsleider,zaakvoerder,ne...</td>\n",
       "      <td>-1</td>\n",
       "    </tr>\n",
       "    <tr>\n",
       "      <th>4</th>\n",
       "      <td>0025D44A-C19F-E311-B1AE-005056B06EC4</td>\n",
       "      <td>activiteit,werknemer,opleid,leiestreekmeetjesl...</td>\n",
       "      <td>0</td>\n",
       "    </tr>\n",
       "  </tbody>\n",
       "</table>\n",
       "</div>"
      ],
      "text/plain": [
       "              contact_contactpersoon_id  \\\n",
       "0  00169619-E322-E911-80FB-001DD8B72B62   \n",
       "1  0017416A-2C6E-E111-B43A-00505680000A   \n",
       "2  00223C8E-467F-E311-BBFD-005056B06EB4   \n",
       "3  00231824-53EA-ED11-8849-6045BD895420   \n",
       "4  0025D44A-C19F-E311-B1AE-005056B06EC4   \n",
       "\n",
       "                                          keyphrases  marketing_pressure  \n",
       "0  zaakvoerder,dienst,waasmunster,jong,lidmaatsch...                  12  \n",
       "1  leiestreekmeetjesland,eeklo,dienst,voorjaarsag...                  16  \n",
       "2  agrarisch,happen,dienst,familiebedrijv,family,...                   0  \n",
       "3  offlin,oudenaard,bedrijfsleider,zaakvoerder,ne...                  -1  \n",
       "4  activiteit,werknemer,opleid,leiestreekmeetjesl...                   0  "
      ]
     },
     "execution_count": 23,
     "metadata": {},
     "output_type": "execute_result"
    }
   ],
   "source": [
    "df.head()"
   ]
  },
  {
   "cell_type": "markdown",
   "metadata": {},
   "source": [
    "### Functies om de nieuwe campagne data te cleanen en om te recommenden"
   ]
  },
  {
   "cell_type": "code",
   "execution_count": 6,
   "metadata": {},
   "outputs": [],
   "source": [
    "def remove_stopwords(text):\n",
    "    stop_words_nl = set(stopwords.words('dutch'))\n",
    "    \n",
    "    word_tokens = word_tokenize(text, language='dutch')\n",
    "\n",
    "    result = [x for x in word_tokens if x not in stop_words_nl]\n",
    "\n",
    "    seperator = ', '\n",
    "    return seperator.join(result)\n",
    "\n",
    "\n",
    "def team_name_change(text):\n",
    "    teams_dict = {\n",
    "        'jo': ' jong ondernemen ',\n",
    "        'do': ' duurzaam ondernemen ',\n",
    "        'in': ' innovatie digitalisering ',\n",
    "        'io': ' internationaal ondernemen ',\n",
    "        'ao': ' arbeidsmarkt ',\n",
    "        'ex': ' expert ',\n",
    "        'gr': ' groei ',\n",
    "        'bb': ' belangenbehartiging ',\n",
    "        'co': ' communicatie ',\n",
    "        'nw': ' netwerking ',\n",
    "        'ha': ' haven ',\n",
    "        'ma': ' match '\n",
    "    }\n",
    "    word_tokens = word_tokenize(text, language='dutch')\n",
    "    # apply dict to list\n",
    "    result = [teams_dict.get(word, word) for word in word_tokens]\n",
    "    # join list to string\n",
    "    cleaned_list = ', '.join(result)\n",
    "    # tokenize string\n",
    "    tokenize_list = word_tokenize(cleaned_list, language='dutch')\n",
    "    # remove comma\n",
    "    tokenize_list_no_comma = [x for x in tokenize_list if x != ',']\n",
    "    # join list to string and remove duplicates from list\n",
    "    return ', '.join(list(set(tokenize_list_no_comma)))\n",
    "\n",
    "\n",
    "def stemmer(text):\n",
    "    stemmer = SnowballStemmer(language='dutch')\n",
    "    stem_sentence=[]\n",
    "    for word in text.split(','):\n",
    "        stem_sentence.append(stemmer.stem(word))\n",
    "    stem_sentence= ', '.join(stem_sentence)\n",
    "    return stem_sentence\n",
    "\n",
    "\n",
    "def clean_text(df, col='keyphrase'):\n",
    "\n",
    "    df_copy = df.copy()\n",
    "\n",
    "    for row in range(len(df_copy)):\n",
    "        name_change = team_name_change(df_copy[col][row])\n",
    "        no_stopwords = remove_stopwords(name_change)\n",
    "        tokenize_list = word_tokenize(no_stopwords, language='dutch')\n",
    "        tokenize_list = [x for x in tokenize_list if x != ',']\n",
    "        df_copy.at[row, col] = ', '.join(list(set(tokenize_list)))\n",
    "        stemmer_list= stemmer(df_copy[col][row])\n",
    "        df_copy.at[row, col] = stemmer_list\n",
    "    \n",
    "    df_copy[col] = df_copy[col].str.replace('voka', ' ') \\\n",
    "        .str.replace('ov', '').str.replace('unknown', '').str.replace(r'\\b\\w{1,3}\\b', '', regex=True).str.replace(r'\\d+', '', regex=True) \\\n",
    "        .str.replace(r'(\\s{2},\\s{2}),*+', '', regex=True).str.replace(' ', '').str.replace(r'^,+|,+$', '', regex=True) \\\n",
    "        .str.replace(r',,+', ',', regex=True)\n",
    "\n",
    "    return df_copy\n",
    "\n",
    "\n",
    "def clean_new_campaign_data(df):\n",
    "    df_campagne = df.copy()\n",
    "    # campagne naam cleanen\n",
    "    df_campagne['campagne_naam'] = df_campagne['campagne_naam'].str.replace('OV-', '').str.replace('ov-', '') \\\n",
    "                                                            .str.replace('-', ' ').str.replace(r'[^\\w\\s]', '', regex=True) \\\n",
    "                                                            .str.replace('  ', ' ').str.strip().str.lower().str.replace('  ', ' ')\n",
    "\n",
    "    # Drop kolommen\n",
    "    df_campagne.drop(['campagne_einddatum', 'campagne_startdatum', 'campagne_campagne_nr', \n",
    "                  'campagne_naam_in_email', 'campagne_reden_van_status', 'campagne_status',\n",
    "                  'campagne_url_voka_be'\n",
    "                  ], axis=1, inplace=True)\n",
    "\n",
    "    # Create keyphrase column\n",
    "    cols_for_key = ['campagne_naam', 'campagne_type_campagne', 'campagne_soort_campagne']\n",
    "\n",
    "    for col in cols_for_key:\n",
    "        df_campagne[col] = df_campagne[col].astype(str).str.split().str.join(', ')\n",
    "\n",
    "    df_campagne['keyphrase'] = df_campagne[cols_for_key].apply(lambda x: ', '.join(x), axis=1)\n",
    "\n",
    "    # keyphrases cleanen\n",
    "    df_campagne['keyphrase'] = df_campagne['keyphrase'].str.replace(', ,', ',').str.replace(r'(\\s{2},\\s{2}),*+', '') \\\n",
    "        .str.replace('  ', ' ').str.replace(r'[^\\w\\s]', '', regex=True).str.replace('  ', ' ').str.strip().str.lower()\n",
    "    \n",
    "    final_df = clean_text(df_campagne, 'keyphrase') \n",
    "\n",
    "    return final_df['keyphrase']\n",
    "\n",
    "\n",
    "def recommend(df, new_keyphrase: str, top_n=10):\n",
    "    # preprocessing\n",
    "    scaler = MinMaxScaler()\n",
    "    df['marketing_pressure'] = scaler.fit_transform(df[['marketing_pressure']])\n",
    "    # vectorization\n",
    "    tfidf = TfidfVectorizer()\n",
    "    tfidf_matrix = tfidf.fit_transform(df['keyphrases'])\n",
    "    # vectorize the new keyphrase and calculate similarity\n",
    "    new_keyphrase_tfidf = tfidf.transform([new_keyphrase])\n",
    "    sim_score_new = cosine_similarity(new_keyphrase_tfidf, tfidf_matrix)\n",
    "    # sort the similarity scores\n",
    "    contact_person_similarity = list(enumerate(sim_score_new[0]))\n",
    "    sorted_contact_persons = sorted(contact_person_similarity, key=lambda x: x[1], reverse=True)\n",
    "    # get the top n similar contact persons\n",
    "    top_contact_persons = sorted_contact_persons[:top_n]\n",
    "    # Create a set to keep track of recommended contact IDs\n",
    "    recommended_contact_ids = set()\n",
    "    # Iterate through the sorted contact persons and add unique contact IDs to the set\n",
    "    for index, _ in top_contact_persons:\n",
    "        contact_id = df['contact_contactpersoon_id'][index]\n",
    "        recommended_contact_ids.add(contact_id)\n",
    "    # Convert the set back to a list\n",
    "    recommended_contact_ids = list(recommended_contact_ids)\n",
    "    # This would not remove the duplicates\n",
    "    # recommended_contact_ids = [df['contact_contactpersoon_id'][index] for index, _ in top_contact_persons]\n",
    "    # sort the contact ids by marketing pressure\n",
    "    recommended_contact_ids = sorted(recommended_contact_ids, key=lambda x: df[df['contact_contactpersoon_id'] == x]['marketing_pressure'].values[0], reverse=False)\n",
    "    # result\n",
    "    print(\"Recommended Contact Persons for the New Campaign:\")\n",
    "    for contact_id in recommended_contact_ids:\n",
    "        marketing_pressure = df[df['contact_contactpersoon_id'] == contact_id]['marketing_pressure'].values[0]\n",
    "        print(f\"{contact_id} (marketing_pressure={marketing_pressure:.2f})\")"
   ]
  },
  {
   "cell_type": "markdown",
   "metadata": {},
   "source": [
    "### Testen van de functies hierboven"
   ]
  },
  {
   "cell_type": "code",
   "execution_count": 7,
   "metadata": {},
   "outputs": [
    {
     "data": {
      "text/html": [
       "<div>\n",
       "<style scoped>\n",
       "    .dataframe tbody tr th:only-of-type {\n",
       "        vertical-align: middle;\n",
       "    }\n",
       "\n",
       "    .dataframe tbody tr th {\n",
       "        vertical-align: top;\n",
       "    }\n",
       "\n",
       "    .dataframe thead th {\n",
       "        text-align: right;\n",
       "    }\n",
       "</style>\n",
       "<table border=\"1\" class=\"dataframe\">\n",
       "  <thead>\n",
       "    <tr style=\"text-align: right;\">\n",
       "      <th></th>\n",
       "      <th>campagne_campagne_id</th>\n",
       "      <th>campagne_campagne_nr</th>\n",
       "      <th>campagne_einddatum</th>\n",
       "      <th>campagne_naam</th>\n",
       "      <th>campagne_naam_in_email</th>\n",
       "      <th>campagne_reden_van_status</th>\n",
       "      <th>campagne_startdatum</th>\n",
       "      <th>campagne_status</th>\n",
       "      <th>campagne_type_campagne</th>\n",
       "      <th>campagne_url_voka_be</th>\n",
       "      <th>campagne_soort_campagne</th>\n",
       "    </tr>\n",
       "  </thead>\n",
       "  <tbody>\n",
       "    <tr>\n",
       "      <th>0</th>\n",
       "      <td>001B42E8-76F8-E411-ABE8-005056B06EB4</td>\n",
       "      <td>15-OV-01-0104</td>\n",
       "      <td>2015-06-30</td>\n",
       "      <td>OV-IO-Economische missie wereldexpo Milaan</td>\n",
       "      <td>OV-IO-Economische missie wereldexpo Milaan</td>\n",
       "      <td>Nieuw</td>\n",
       "      <td>2015-06-28</td>\n",
       "      <td>Actief</td>\n",
       "      <td>Netwerkevenement</td>\n",
       "      <td>unknown</td>\n",
       "      <td>Offline</td>\n",
       "    </tr>\n",
       "  </tbody>\n",
       "</table>\n",
       "</div>"
      ],
      "text/plain": [
       "                   campagne_campagne_id campagne_campagne_nr  \\\n",
       "0  001B42E8-76F8-E411-ABE8-005056B06EB4        15-OV-01-0104   \n",
       "\n",
       "  campagne_einddatum                               campagne_naam  \\\n",
       "0         2015-06-30  OV-IO-Economische missie wereldexpo Milaan   \n",
       "\n",
       "                       campagne_naam_in_email campagne_reden_van_status  \\\n",
       "0  OV-IO-Economische missie wereldexpo Milaan                     Nieuw   \n",
       "\n",
       "  campagne_startdatum campagne_status campagne_type_campagne  \\\n",
       "0          2015-06-28          Actief       Netwerkevenement   \n",
       "\n",
       "  campagne_url_voka_be campagne_soort_campagne  \n",
       "0              unknown                 Offline  "
      ]
     },
     "execution_count": 7,
     "metadata": {},
     "output_type": "execute_result"
    }
   ],
   "source": [
    "df_campagne = pd.read_csv('../data_clean/Campagne_fixed.csv')\n",
    "# get the 3rd row of the df\n",
    "new_campaign = df_campagne.iloc[2]\n",
    "df_new_campaign = pd.DataFrame(new_campaign).T\n",
    "df_new_campaign.reset_index(inplace=True, drop=True)\n",
    "df_new_campaign"
   ]
  },
  {
   "cell_type": "code",
   "execution_count": 8,
   "metadata": {},
   "outputs": [
    {
     "data": {
      "text/plain": [
       "['netwerkevenement,offlin,ondernem,wereldexpo,economisch,missie,international,milan']"
      ]
     },
     "execution_count": 8,
     "metadata": {},
     "output_type": "execute_result"
    }
   ],
   "source": [
    "new_campaign_cleaned = clean_new_campaign_data(df_new_campaign)\n",
    "list(new_campaign_cleaned)"
   ]
  },
  {
   "cell_type": "code",
   "execution_count": 18,
   "metadata": {},
   "outputs": [
    {
     "name": "stdout",
     "output_type": "stream",
     "text": [
      "Recommended Contact Persons for the New Campaign:\n",
      "C93F5776-5A47-EA11-810C-001DD8B72B62 (marketing_pressure=0.00)\n",
      "D83D2995-E3E0-EC11-BB3C-000D3ABCA38B (marketing_pressure=0.01)\n",
      "77F1037D-FFCE-E911-8105-001DD8B72B62 (marketing_pressure=0.01)\n",
      "15ABD17B-E3E0-EC11-BB3C-000D3ABCA38B (marketing_pressure=0.01)\n",
      "2CB90A2D-708A-EC11-93B0-6045BD91D12C (marketing_pressure=0.02)\n",
      "3194D173-A56A-E611-80DE-001DD8B72B61 (marketing_pressure=0.02)\n",
      "7AE184A8-6A79-E411-8007-005056B06EB4 (marketing_pressure=0.02)\n",
      "BFC4DC0C-56D0-EC11-A7B5-000D3A480EA6 (marketing_pressure=0.02)\n",
      "104374F4-7400-EA11-8107-001DD8B72B62 (marketing_pressure=0.03)\n",
      "03435871-2C18-E611-BEEF-005056B06EB4 (marketing_pressure=0.07)\n"
     ]
    }
   ],
   "source": [
    "recommend(df, str(new_campaign_cleaned))"
   ]
  }
 ],
 "metadata": {
  "kernelspec": {
   "display_name": "Python 3",
   "language": "python",
   "name": "python3"
  },
  "language_info": {
   "codemirror_mode": {
    "name": "ipython",
    "version": 3
   },
   "file_extension": ".py",
   "mimetype": "text/x-python",
   "name": "python",
   "nbconvert_exporter": "python",
   "pygments_lexer": "ipython3",
   "version": "3.11.3"
  }
 },
 "nbformat": 4,
 "nbformat_minor": 2
}
