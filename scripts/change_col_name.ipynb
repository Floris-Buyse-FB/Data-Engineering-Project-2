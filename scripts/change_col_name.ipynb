{
 "cells": [
  {
   "cell_type": "code",
   "execution_count": 1,
   "metadata": {},
   "outputs": [],
   "source": [
    "import os\n",
    "import re\n",
    "import pandas as pd"
   ]
  },
  {
   "cell_type": "code",
   "execution_count": 2,
   "metadata": {},
   "outputs": [],
   "source": [
    "DATA_DIR = '../data_clean/'"
   ]
  },
  {
   "cell_type": "code",
   "execution_count": 3,
   "metadata": {},
   "outputs": [],
   "source": [
    "pk_dict = {\n",
    "    'Account_activiteitscode_fixed.csv': '',\n",
    "    'Account_financiële_data_fixed.csv': '',\n",
    "    'Account_fixed.csv': 'Account_Account',\n",
    "    'Activiteitscode_fixed.csv': 'ActiviteitsCode_Activiteitscode',\n",
    "    'Activiteit_vereist_contact_fixed.csv': 'ActiviteitVereistContact_ActivityId',\n",
    "    'Afspraak_account_gelinkt_cleaned_fixed.csv': 'Afspraak_ACCOUNT_GELINKT_Afspraak',\n",
    "    'Afspraak_alle_fixed.csv': 'Afspraak_ALLE_Afspraak',\n",
    "    'Afspraak_betreft_account_cleaned_fixed.csv': 'Afspraak_BETREFT_ACCOUNT_Afspraak',\n",
    "    'Afspraak_betreft_contact_cleaned_fixed.csv': 'Afspraak_BETREFT_CONTACTFICHE_Afspraak',\n",
    "    'Campagne_fixed.csv': 'Campagne_Campagne',\n",
    "    'CDI_mailing_fixed.csv': 'Mailing_Mailing',\n",
    "    'cdi_pageviews_fixed.csv': 'Page View',\n",
    "    'CDI_sent_email_clicks_fixed.csv': 'SentEmail_kliks_Sent_Email',\n",
    "    'CDI_visits_fixed.csv': 'Visit_Visit',\n",
    "    'CDI_web_content_fixed.csv': 'WebContent_Web_Content',\n",
    "    'Contact_fixed.csv': 'Contact_Contactpersoon',\n",
    "    'Contact_functie_fixed.csv': '',\n",
    "    'Functie_fixed.csv': 'Functie_Functie',\n",
    "    'Gebruikers_fixed.csv': 'Gebruikers_CRM_User_ID',\n",
    "    'Info_en_klachten_fixed.csv': 'Info_en_Klachten_Aanvraag',\n",
    "    'Inschrijving_fixed.csv': 'Inschrijving_Inschrijving',\n",
    "    'Lidmaatschap_fixed.csv': 'Lidmaatschap_Lidmaatschap',\n",
    "    'Persoon_fixed.csv': 'Persoon_persoon',\n",
    "    'Sessie_fixed.csv': 'Sessie_Sessie',\n",
    "    'Sessie_inschrijving_fixed.csv': 'SessieInschrijving_SessieInschrijving',\n",
    "    'Teams_fixed.csv': '',\n",
    "}"
   ]
  },
  {
   "cell_type": "code",
   "execution_count": 4,
   "metadata": {},
   "outputs": [],
   "source": [
    "FILE_NAME = 'Account_fixed.csv'\n",
    "PRIMARY_KEY = 'Account_Account'"
   ]
  },
  {
   "cell_type": "code",
   "execution_count": 5,
   "metadata": {},
   "outputs": [],
   "source": [
    "URL = os.path.join(DATA_DIR, FILE_NAME)"
   ]
  },
  {
   "cell_type": "code",
   "execution_count": 6,
   "metadata": {},
   "outputs": [],
   "source": [
    "def create_column_names(dataframe):\n",
    "    columns = dataframe.columns\n",
    "    columns = [col + '_id' if col == PRIMARY_KEY else col for col in columns]\n",
    "    columns = [re.sub(r'\\W+', '', col) for col in columns]\n",
    "    columns = [col.lower() for col in columns]\n",
    "    dict_columns = dict(zip(dataframe.columns, columns))\n",
    "    return dict_columns"
   ]
  },
  {
   "cell_type": "code",
   "execution_count": 7,
   "metadata": {},
   "outputs": [],
   "source": [
    "data = pd.read_csv(URL)\n",
    "cols = create_column_names(data)\n",
    "data.rename(columns=cols, inplace=True)\n",
    "data.to_csv(URL, index=False)"
   ]
  },
  {
   "cell_type": "code",
   "execution_count": 8,
   "metadata": {},
   "outputs": [
    {
     "name": "stdout",
     "output_type": "stream",
     "text": [
      "Account_activiteitscode_fixed.csv\n",
      "\n",
      "Index(['Account_ActiviteitsCode_Account',\n",
      "       'Account_ActiviteitsCode_Activiteitscode',\n",
      "       'Account_ActiviteitsCode_inf_account_inf_activiteitscodeId'],\n",
      "      dtype='object')\n",
      "\n",
      "\n",
      "-------------------\n",
      "\n",
      "\n",
      "Account_financiële_data_fixed.csv\n",
      "\n",
      "Index(['FinancieleData_OndernemingID', 'FinancieleData_Boekjaar',\n",
      "       'FinancieleData_Aantal_maanden', 'FinancieleData_Toegevoegde_waarde',\n",
      "       'FinancieleData_FTE', 'FinancieleData_Gewijzigd_op'],\n",
      "      dtype='object')\n",
      "\n",
      "\n",
      "-------------------\n",
      "\n",
      "\n"
     ]
    },
    {
     "ename": "ParserError",
     "evalue": "Error tokenizing data. C error: Calling read(nbytes) on source failed. Try engine='python'.",
     "output_type": "error",
     "traceback": [
      "\u001b[1;31m---------------------------------------------------------------------------\u001b[0m",
      "\u001b[1;31mParserError\u001b[0m                               Traceback (most recent call last)",
      "\u001b[1;32mc:\\Users\\maxit\\Documents\\HOGent\\3e Jaar\\Data Engineering Project II\\Data-Engineering-Project-2\\data_explore_scripts\\test.ipynb Cell 8\u001b[0m line \u001b[0;36m2\n\u001b[0;32m      <a href='vscode-notebook-cell:/c%3A/Users/maxit/Documents/HOGent/3e%20Jaar/Data%20Engineering%20Project%20II/Data-Engineering-Project-2/data_explore_scripts/test.ipynb#X10sZmlsZQ%3D%3D?line=0'>1</a>\u001b[0m \u001b[39mfor\u001b[39;00m filename \u001b[39min\u001b[39;00m os\u001b[39m.\u001b[39mlistdir(\u001b[39m'\u001b[39m\u001b[39m../data_clean\u001b[39m\u001b[39m'\u001b[39m):\n\u001b[1;32m----> <a href='vscode-notebook-cell:/c%3A/Users/maxit/Documents/HOGent/3e%20Jaar/Data%20Engineering%20Project%20II/Data-Engineering-Project-2/data_explore_scripts/test.ipynb#X10sZmlsZQ%3D%3D?line=1'>2</a>\u001b[0m     data \u001b[39m=\u001b[39m pd\u001b[39m.\u001b[39mread_csv(\u001b[39mf\u001b[39m\u001b[39m'\u001b[39m\u001b[39m../data_clean/\u001b[39m\u001b[39m{\u001b[39;00mfilename\u001b[39m}\u001b[39;00m\u001b[39m'\u001b[39m)\n\u001b[0;32m      <a href='vscode-notebook-cell:/c%3A/Users/maxit/Documents/HOGent/3e%20Jaar/Data%20Engineering%20Project%20II/Data-Engineering-Project-2/data_explore_scripts/test.ipynb#X10sZmlsZQ%3D%3D?line=2'>3</a>\u001b[0m     \u001b[39mprint\u001b[39m(filename)\n\u001b[0;32m      <a href='vscode-notebook-cell:/c%3A/Users/maxit/Documents/HOGent/3e%20Jaar/Data%20Engineering%20Project%20II/Data-Engineering-Project-2/data_explore_scripts/test.ipynb#X10sZmlsZQ%3D%3D?line=3'>4</a>\u001b[0m     \u001b[39mprint\u001b[39m()\n",
      "File \u001b[1;32md:\\programs\\envs\\python\\Lib\\site-packages\\pandas\\io\\parsers\\readers.py:912\u001b[0m, in \u001b[0;36mread_csv\u001b[1;34m(filepath_or_buffer, sep, delimiter, header, names, index_col, usecols, dtype, engine, converters, true_values, false_values, skipinitialspace, skiprows, skipfooter, nrows, na_values, keep_default_na, na_filter, verbose, skip_blank_lines, parse_dates, infer_datetime_format, keep_date_col, date_parser, date_format, dayfirst, cache_dates, iterator, chunksize, compression, thousands, decimal, lineterminator, quotechar, quoting, doublequote, escapechar, comment, encoding, encoding_errors, dialect, on_bad_lines, delim_whitespace, low_memory, memory_map, float_precision, storage_options, dtype_backend)\u001b[0m\n\u001b[0;32m    899\u001b[0m kwds_defaults \u001b[39m=\u001b[39m _refine_defaults_read(\n\u001b[0;32m    900\u001b[0m     dialect,\n\u001b[0;32m    901\u001b[0m     delimiter,\n\u001b[1;32m   (...)\u001b[0m\n\u001b[0;32m    908\u001b[0m     dtype_backend\u001b[39m=\u001b[39mdtype_backend,\n\u001b[0;32m    909\u001b[0m )\n\u001b[0;32m    910\u001b[0m kwds\u001b[39m.\u001b[39mupdate(kwds_defaults)\n\u001b[1;32m--> 912\u001b[0m \u001b[39mreturn\u001b[39;00m _read(filepath_or_buffer, kwds)\n",
      "File \u001b[1;32md:\\programs\\envs\\python\\Lib\\site-packages\\pandas\\io\\parsers\\readers.py:583\u001b[0m, in \u001b[0;36m_read\u001b[1;34m(filepath_or_buffer, kwds)\u001b[0m\n\u001b[0;32m    580\u001b[0m     \u001b[39mreturn\u001b[39;00m parser\n\u001b[0;32m    582\u001b[0m \u001b[39mwith\u001b[39;00m parser:\n\u001b[1;32m--> 583\u001b[0m     \u001b[39mreturn\u001b[39;00m parser\u001b[39m.\u001b[39mread(nrows)\n",
      "File \u001b[1;32md:\\programs\\envs\\python\\Lib\\site-packages\\pandas\\io\\parsers\\readers.py:1704\u001b[0m, in \u001b[0;36mTextFileReader.read\u001b[1;34m(self, nrows)\u001b[0m\n\u001b[0;32m   1697\u001b[0m nrows \u001b[39m=\u001b[39m validate_integer(\u001b[39m\"\u001b[39m\u001b[39mnrows\u001b[39m\u001b[39m\"\u001b[39m, nrows)\n\u001b[0;32m   1698\u001b[0m \u001b[39mtry\u001b[39;00m:\n\u001b[0;32m   1699\u001b[0m     \u001b[39m# error: \"ParserBase\" has no attribute \"read\"\u001b[39;00m\n\u001b[0;32m   1700\u001b[0m     (\n\u001b[0;32m   1701\u001b[0m         index,\n\u001b[0;32m   1702\u001b[0m         columns,\n\u001b[0;32m   1703\u001b[0m         col_dict,\n\u001b[1;32m-> 1704\u001b[0m     ) \u001b[39m=\u001b[39m \u001b[39mself\u001b[39m\u001b[39m.\u001b[39m_engine\u001b[39m.\u001b[39mread(  \u001b[39m# type: ignore[attr-defined]\u001b[39;00m\n\u001b[0;32m   1705\u001b[0m         nrows\n\u001b[0;32m   1706\u001b[0m     )\n\u001b[0;32m   1707\u001b[0m \u001b[39mexcept\u001b[39;00m \u001b[39mException\u001b[39;00m:\n\u001b[0;32m   1708\u001b[0m     \u001b[39mself\u001b[39m\u001b[39m.\u001b[39mclose()\n",
      "File \u001b[1;32md:\\programs\\envs\\python\\Lib\\site-packages\\pandas\\io\\parsers\\c_parser_wrapper.py:234\u001b[0m, in \u001b[0;36mCParserWrapper.read\u001b[1;34m(self, nrows)\u001b[0m\n\u001b[0;32m    232\u001b[0m \u001b[39mtry\u001b[39;00m:\n\u001b[0;32m    233\u001b[0m     \u001b[39mif\u001b[39;00m \u001b[39mself\u001b[39m\u001b[39m.\u001b[39mlow_memory:\n\u001b[1;32m--> 234\u001b[0m         chunks \u001b[39m=\u001b[39m \u001b[39mself\u001b[39m\u001b[39m.\u001b[39m_reader\u001b[39m.\u001b[39mread_low_memory(nrows)\n\u001b[0;32m    235\u001b[0m         \u001b[39m# destructive to chunks\u001b[39;00m\n\u001b[0;32m    236\u001b[0m         data \u001b[39m=\u001b[39m _concatenate_chunks(chunks)\n",
      "File \u001b[1;32md:\\programs\\envs\\python\\Lib\\site-packages\\pandas\\_libs\\parsers.pyx:814\u001b[0m, in \u001b[0;36mpandas._libs.parsers.TextReader.read_low_memory\u001b[1;34m()\u001b[0m\n",
      "File \u001b[1;32md:\\programs\\envs\\python\\Lib\\site-packages\\pandas\\_libs\\parsers.pyx:875\u001b[0m, in \u001b[0;36mpandas._libs.parsers.TextReader._read_rows\u001b[1;34m()\u001b[0m\n",
      "File \u001b[1;32md:\\programs\\envs\\python\\Lib\\site-packages\\pandas\\_libs\\parsers.pyx:850\u001b[0m, in \u001b[0;36mpandas._libs.parsers.TextReader._tokenize_rows\u001b[1;34m()\u001b[0m\n",
      "File \u001b[1;32md:\\programs\\envs\\python\\Lib\\site-packages\\pandas\\_libs\\parsers.pyx:861\u001b[0m, in \u001b[0;36mpandas._libs.parsers.TextReader._check_tokenize_status\u001b[1;34m()\u001b[0m\n",
      "File \u001b[1;32md:\\programs\\envs\\python\\Lib\\site-packages\\pandas\\_libs\\parsers.pyx:2029\u001b[0m, in \u001b[0;36mpandas._libs.parsers.raise_parser_error\u001b[1;34m()\u001b[0m\n",
      "\u001b[1;31mParserError\u001b[0m: Error tokenizing data. C error: Calling read(nbytes) on source failed. Try engine='python'."
     ]
    }
   ],
   "source": [
    "for filename in os.listdir('../data_clean'):\n",
    "    data = pd.read_csv(f'../data_clean/{filename}')\n",
    "    print(filename)\n",
    "    print()\n",
    "    print(data.columns)\n",
    "    print(\"\\n\\n-------------------\\n\\n\")"
   ]
  }
 ],
 "metadata": {
  "kernelspec": {
   "display_name": "Python 3",
   "language": "python",
   "name": "python3"
  },
  "language_info": {
   "codemirror_mode": {
    "name": "ipython",
    "version": 3
   },
   "file_extension": ".py",
   "mimetype": "text/x-python",
   "name": "python",
   "nbconvert_exporter": "python",
   "pygments_lexer": "ipython3",
   "version": "3.11.5"
  }
 },
 "nbformat": 4,
 "nbformat_minor": 2
}
