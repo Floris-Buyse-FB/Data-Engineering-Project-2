{
 "cells": [
  {
   "cell_type": "code",
   "execution_count": 22,
   "metadata": {},
   "outputs": [],
   "source": [
    "import pandas as pd\n",
    "import numpy as np"
   ]
  },
  {
   "cell_type": "code",
   "execution_count": 23,
   "metadata": {},
   "outputs": [],
   "source": [
    "web_cont_df = pd.read_csv('../data_clean/CDI web content_fixed.csv')"
   ]
  },
  {
   "cell_type": "code",
   "execution_count": 24,
   "metadata": {},
   "outputs": [],
   "source": [
    "cont_df = pd.read_csv('../data_clean/Contact_fixed.csv')"
   ]
  },
  {
   "cell_type": "code",
   "execution_count": null,
   "metadata": {},
   "outputs": [],
   "source": [
    "# visit_df = pd.read_csv('../data_clean/CDI visits_fixed.csv', dtype=str)"
   ]
  },
  {
   "cell_type": "markdown",
   "metadata": {},
   "source": [
    "### Mergen"
   ]
  },
  {
   "cell_type": "markdown",
   "metadata": {},
   "source": [
    "#### Step 1: Merge CDI Pageview and Campagne data"
   ]
  },
  {
   "cell_type": "code",
   "execution_count": 25,
   "metadata": {},
   "outputs": [],
   "source": [
    "# merge pv_df and camp_df on on Campaign for pv_df and Campagne_Campagne for camp_df\n",
    "# pv_camp_df = pd.merge(pv_df, camp_df, how='left', left_on='Campaign', right_on='Campagne_Campagne')\n",
    "# pv_camp_df.drop_duplicates(inplace=True)\n",
    "# pv_camp_df.to_csv('../data_clean/Pageview_Campagne_Merge.csv', index=False)\n",
    "pv_camp_df = pd.read_csv('../data_clean/Pageview_Campagne_Merge.csv')"
   ]
  },
  {
   "cell_type": "markdown",
   "metadata": {},
   "source": [
    "#### Step 1.1 Clean pv_camp_df and CDI Visit to reduce memory usage"
   ]
  },
  {
   "cell_type": "code",
   "execution_count": 26,
   "metadata": {},
   "outputs": [],
   "source": [
    "pv_camp_df.drop(['Browser', 'Operating System', 'Time', 'Campagne_URL_voka_be', 'Campagne_Naam_in_email', 'Url', 'Campagne_Status', 'Campagne_Reden_van_status', 'Reden van status', 'Status', 'Campagne_Naam', 'Campagne_Startdatum', 'Campagne_Einddatum', 'Aangemaakt op', 'Gewijzigd door', 'Gewijzigd op'], axis=1, inplace=True)\n",
    "pv_camp_df['Duration'] = pv_camp_df['Duration'].astype(np.float32)"
   ]
  },
  {
   "cell_type": "markdown",
   "metadata": {},
   "source": [
    "#### Step 2: Merge Pageview+Campagne and CDI Web Content"
   ]
  },
  {
   "cell_type": "code",
   "execution_count": 29,
   "metadata": {},
   "outputs": [],
   "source": [
    "# merge pv_camp_df and web_cont_df on Web Content for pv_camp_df and CDI_WebContent_Web_Content for web_cont_df\n",
    "# pv_camp_web_df = pd.merge(pv_camp_df, web_cont_df, how='left', left_on='Web Content', right_on='CDI_WebContent_Web_Content')\n",
    "# pv_camp_web_df.drop(['Viewed On', 'CDI_WebContent_Het_bezitten_van_Business_Unit', 'CDI_WebContent_Owner_Name', 'CDI_WebContent_Owner', 'CDI_WebContent_Modified_On', 'CDI_WebContent_Gewijzigd_door_Naam_', 'CDI_WebContent_Created_On', 'CDI_WebContent_Gemaakt_door_Naam_', 'CDI_WebContent_Campaign', 'CDI_WebContent_Web_Content', 'Campagne_Campagne'], axis=1, inplace=True)\n",
    "# pv_camp_web_df.to_csv('../data_clean/Pageview_Campagne_WebContent_Merge.csv', index=False)\n",
    "pv_camp_web_df = pd.read_csv('../data_clean/Pageview_Campagne_WebContent_Merge.csv')"
   ]
  },
  {
   "cell_type": "markdown",
   "metadata": {},
   "source": [
    "#### Step 3: Merge Pageview+Campagne+Web Content and Contact"
   ]
  },
  {
   "cell_type": "code",
   "execution_count": 31,
   "metadata": {},
   "outputs": [],
   "source": [
    "# merge pv_camp_web_df and cont_df on Contact for pv_camp_web_df and Contact_Contactpersoon for cont_df\n",
    "# pv_camp_webcont_contact_df = pd.merge(pv_camp_web_df, cont_df, how='left', left_on='Contact', right_on='Contact_Contactpersoon')\n",
    "# pv_camp_webcont_contact_df.drop(['Contact_Contactpersoon'], axis=1, inplace=True)\n",
    "# pv_camp_webcont_contact_df.replace({\"Contact_Status\": {'Actief': 1, 'Inactief': 0}}, inplace=True)\n",
    "# pv_camp_webcont_contact_df.to_csv('../data_clean/Pageview_Campagne_WebContent_Contact_Merge.csv', index=False)\n",
    "pv_camp_webcont_contact_df = pd.read_csv('../data_clean/Pageview_Campagne_WebContent_Contact_Merge.csv')"
   ]
  },
  {
   "cell_type": "code",
   "execution_count": 32,
   "metadata": {},
   "outputs": [
    {
     "data": {
      "text/plain": [
       "array([ 1., nan,  0.])"
      ]
     },
     "execution_count": 32,
     "metadata": {},
     "output_type": "execute_result"
    }
   ],
   "source": [
    "pv_camp_webcont_contact_df['Contact_Status'].unique()"
   ]
  },
  {
   "cell_type": "markdown",
   "metadata": {},
   "source": [
    "#### Step None: Merge Pageview+Campagne data with CDI Visit data --> Memory Error"
   ]
  },
  {
   "cell_type": "code",
   "execution_count": 10,
   "metadata": {},
   "outputs": [],
   "source": [
    "# # merge pv_camp_df and visit_df on Campaign for pv_camp_df and CDI_Visit_Campaign for visit_df\n",
    "# pv_camp_visit_df = pd.merge(pv_camp_df, visit_df, how='left', left_on='Campaign', right_on='CDI_Visit_Campaign')"
   ]
  }
 ],
 "metadata": {
  "kernelspec": {
   "display_name": "Python 3",
   "language": "python",
   "name": "python3"
  },
  "language_info": {
   "codemirror_mode": {
    "name": "ipython",
    "version": 3
   },
   "file_extension": ".py",
   "mimetype": "text/x-python",
   "name": "python",
   "nbconvert_exporter": "python",
   "pygments_lexer": "ipython3",
   "version": "3.11.3"
  }
 },
 "nbformat": 4,
 "nbformat_minor": 2
}
