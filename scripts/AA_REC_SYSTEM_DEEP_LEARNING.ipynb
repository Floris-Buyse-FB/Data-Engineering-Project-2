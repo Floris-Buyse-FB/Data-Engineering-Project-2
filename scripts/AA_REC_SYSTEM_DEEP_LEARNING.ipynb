{
 "cells": [
  {
   "cell_type": "code",
   "execution_count": 2,
   "metadata": {},
   "outputs": [],
   "source": [
    "import pandas as pd\n",
    "import numpy as np\n",
    "import tensorflow as tf\n",
    "import matplotlib.pyplot as plt\n",
    "from sklearn.model_selection import train_test_split\n",
    "from sklearn.preprocessing import StandardScaler"
   ]
  },
  {
   "cell_type": "code",
   "execution_count": 3,
   "metadata": {},
   "outputs": [
    {
     "data": {
      "text/plain": [
       "(300000, 54)"
      ]
     },
     "execution_count": 3,
     "metadata": {},
     "output_type": "execute_result"
    }
   ],
   "source": [
    "# import the dataset\n",
    "df = pd.read_csv('../data_clean/AA_Supervised_dataset.csv')\n",
    "df.shape"
   ]
  },
  {
   "cell_type": "code",
   "execution_count": 4,
   "metadata": {},
   "outputs": [
    {
     "name": "stdout",
     "output_type": "stream",
     "text": [
      "<class 'pandas.core.frame.DataFrame'>\n",
      "RangeIndex: 300000 entries, 0 to 299999\n",
      "Data columns (total 54 columns):\n",
      " #   Column                              Non-Null Count   Dtype\n",
      "---  ------                              --------------   -----\n",
      " 0   afspraak_Arbeidsmarkt               300000 non-null  int64\n",
      " 1   afspraak_Bedrijfsbeheer             300000 non-null  int64\n",
      " 2   afspraak_Duurzaamheid               300000 non-null  int64\n",
      " 3   afspraak_Familiebedrijfsmanagement  300000 non-null  int64\n",
      " 4   afspraak_Financieel                 300000 non-null  int64\n",
      " 5   afspraak_Groeien en Netwerking      300000 non-null  int64\n",
      " 6   afspraak_Internationaal Ondernemen  300000 non-null  int64\n",
      " 7   afspraak_Lidmaatschap               300000 non-null  int64\n",
      " 8   afspraak_Logistiek en Transport     300000 non-null  int64\n",
      " 9   afspraak_Plato & Bryo               300000 non-null  int64\n",
      " 10  afspraak_Technologie en Innovatie   300000 non-null  int64\n",
      " 11  afspraak_Welt                       300000 non-null  int64\n",
      " 12  sessie_ondernemen                   300000 non-null  int64\n",
      " 13  sessie_logistiek                    300000 non-null  int64\n",
      " 14  sessie_onderwijs                    300000 non-null  int64\n",
      " 15  sessie_duurzaamheid                 300000 non-null  int64\n",
      " 16  sessie_welt                         300000 non-null  int64\n",
      " 17  sessie_lidmaatschap                 300000 non-null  int64\n",
      " 18  sessie_innovatie en Technologie     300000 non-null  int64\n",
      " 19  sessie_netwerking                   300000 non-null  int64\n",
      " 20  sessie_algemeen                     300000 non-null  int64\n",
      " 21  sessie_juridisch                    300000 non-null  int64\n",
      " 22  sessie_bryo                         300000 non-null  int64\n",
      " 23  sessie_economie                     300000 non-null  int64\n",
      " 24  sessie_veiligheid en communicatie   300000 non-null  int64\n",
      " 25  sessie_andere                       300000 non-null  int64\n",
      " 26  ingeschreven                        300000 non-null  int64\n",
      " 27  marketing_pressure                  300000 non-null  int64\n",
      " 28  ondernemingstype_1                  300000 non-null  int64\n",
      " 29  ondernemingstype_2                  300000 non-null  int64\n",
      " 30  ondernemingstype_3                  300000 non-null  int64\n",
      " 31  ondernemingstype_4                  300000 non-null  int64\n",
      " 32  activiteitNaam_1                    300000 non-null  int64\n",
      " 33  activiteitNaam_2                    300000 non-null  int64\n",
      " 34  activiteitNaam_3                    300000 non-null  int64\n",
      " 35  activiteitNaam_4                    300000 non-null  int64\n",
      " 36  activiteitNaam_5                    300000 non-null  int64\n",
      " 37  activiteitNaam_6                    300000 non-null  int64\n",
      " 38  Diensten                            300000 non-null  int64\n",
      " 39  Productie                           300000 non-null  int64\n",
      " 40  0                                   300000 non-null  int64\n",
      " 41  1                                   300000 non-null  int64\n",
      " 42  2                                   300000 non-null  int64\n",
      " 43  3                                   300000 non-null  int64\n",
      " 44  4                                   300000 non-null  int64\n",
      " 45  5                                   300000 non-null  int64\n",
      " 46  0_campagne_type                     300000 non-null  int64\n",
      " 47  1_campagne_type                     300000 non-null  int64\n",
      " 48  2_campagne_type                     300000 non-null  int64\n",
      " 49  3_campagne_type                     300000 non-null  int64\n",
      " 50  4_campagne_type                     300000 non-null  int64\n",
      " 51  5_campagne_type                     300000 non-null  int64\n",
      " 52  Online                              300000 non-null  int64\n",
      " 53  Offline                             300000 non-null  int64\n",
      "dtypes: int64(54)\n",
      "memory usage: 123.6 MB\n"
     ]
    }
   ],
   "source": [
    "df.info()"
   ]
  },
  {
   "cell_type": "code",
   "execution_count": 5,
   "metadata": {},
   "outputs": [],
   "source": [
    "X = df.drop('ingeschreven', axis=1)\n",
    "y = df['ingeschreven']"
   ]
  },
  {
   "cell_type": "code",
   "execution_count": 6,
   "metadata": {},
   "outputs": [],
   "source": [
    "X_train, X_temp, y_train, y_temp = train_test_split(X, y, test_size=0.3, random_state=42)\n",
    "X_val, X_test, y_val, y_test = train_test_split(X_temp, y_temp, test_size=0.5, random_state=42)"
   ]
  },
  {
   "cell_type": "code",
   "execution_count": 7,
   "metadata": {},
   "outputs": [],
   "source": [
    "scaler = StandardScaler()\n",
    "X_train = scaler.fit_transform(X_train)\n",
    "X_val = scaler.transform(X_val)\n",
    "X_test = scaler.transform(X_test)"
   ]
  },
  {
   "cell_type": "code",
   "execution_count": 10,
   "metadata": {},
   "outputs": [],
   "source": [
    "def get_model():\n",
    "  model = tf.keras.Sequential()\n",
    "  model.add(tf.keras.layers.Dense(64, activation='relu', input_shape=(X_train.shape[1],)))\n",
    "  \n",
    "  model.add(tf.keras.layers.Dense(32, activation='relu'))\n",
    "  model.add(tf.keras.layers.Dense(16, activation='relu'))\n",
    "  \n",
    "  model.add(tf.keras.layers.Dense(1, activation='sigmoid'))\n",
    "  \n",
    "  return model"
   ]
  },
  {
   "cell_type": "code",
   "execution_count": 11,
   "metadata": {},
   "outputs": [
    {
     "name": "stdout",
     "output_type": "stream",
     "text": [
      "Model: \"sequential_1\"\n",
      "_________________________________________________________________\n",
      " Layer (type)                Output Shape              Param #   \n",
      "=================================================================\n",
      " dense_3 (Dense)             (None, 64)                3456      \n",
      "                                                                 \n",
      " dense_4 (Dense)             (None, 32)                2080      \n",
      "                                                                 \n",
      " dense_5 (Dense)             (None, 16)                528       \n",
      "                                                                 \n",
      " dense_6 (Dense)             (None, 1)                 17        \n",
      "                                                                 \n",
      "=================================================================\n",
      "Total params: 6081 (23.75 KB)\n",
      "Trainable params: 6081 (23.75 KB)\n",
      "Non-trainable params: 0 (0.00 Byte)\n",
      "_________________________________________________________________\n"
     ]
    }
   ],
   "source": [
    "model = get_model()\n",
    "model.summary()"
   ]
  },
  {
   "cell_type": "code",
   "execution_count": 12,
   "metadata": {},
   "outputs": [
    {
     "name": "stdout",
     "output_type": "stream",
     "text": [
      "WARNING:tensorflow:From c:\\Users\\marlo\\OneDrive\\Documents\\HOGent\\23-24\\Semester-1\\DEP2\\Data-Engineering-Project-2\\.venv\\Lib\\site-packages\\keras\\src\\optimizers\\__init__.py:309: The name tf.train.Optimizer is deprecated. Please use tf.compat.v1.train.Optimizer instead.\n",
      "\n"
     ]
    }
   ],
   "source": [
    "model.compile(\n",
    "  optimizer='adam',\n",
    "  loss='binary_crossentropy',\n",
    "  metrics=['accuracy', tf.keras.metrics.Precision(), tf.keras.metrics.Recall()])"
   ]
  },
  {
   "cell_type": "code",
   "execution_count": 13,
   "metadata": {},
   "outputs": [
    {
     "name": "stdout",
     "output_type": "stream",
     "text": [
      "Epoch 1/20\n",
      "WARNING:tensorflow:From c:\\Users\\marlo\\OneDrive\\Documents\\HOGent\\23-24\\Semester-1\\DEP2\\Data-Engineering-Project-2\\.venv\\Lib\\site-packages\\keras\\src\\utils\\tf_utils.py:492: The name tf.ragged.RaggedTensorValue is deprecated. Please use tf.compat.v1.ragged.RaggedTensorValue instead.\n",
      "\n",
      "WARNING:tensorflow:From c:\\Users\\marlo\\OneDrive\\Documents\\HOGent\\23-24\\Semester-1\\DEP2\\Data-Engineering-Project-2\\.venv\\Lib\\site-packages\\keras\\src\\engine\\base_layer_utils.py:384: The name tf.executing_eagerly_outside_functions is deprecated. Please use tf.compat.v1.executing_eagerly_outside_functions instead.\n",
      "\n",
      "411/411 [==============================] - 1s 2ms/step - loss: 0.2187 - accuracy: 0.9196 - precision: 0.6728 - recall: 0.1446 - val_loss: 0.1878 - val_accuracy: 0.9242 - val_precision: 0.7363 - val_recall: 0.2108\n",
      "Epoch 2/20\n",
      "411/411 [==============================] - 0s 1ms/step - loss: 0.1828 - accuracy: 0.9270 - precision: 0.7244 - recall: 0.2571 - val_loss: 0.1820 - val_accuracy: 0.9272 - val_precision: 0.6940 - val_recall: 0.3040\n",
      "Epoch 3/20\n",
      "411/411 [==============================] - 1s 1ms/step - loss: 0.1779 - accuracy: 0.9290 - precision: 0.7279 - recall: 0.2923 - val_loss: 0.1793 - val_accuracy: 0.9285 - val_precision: 0.7095 - val_recall: 0.3137\n",
      "Epoch 4/20\n",
      "411/411 [==============================] - 0s 1ms/step - loss: 0.1755 - accuracy: 0.9302 - precision: 0.7331 - recall: 0.3082 - val_loss: 0.1776 - val_accuracy: 0.9300 - val_precision: 0.7431 - val_recall: 0.3078\n",
      "Epoch 5/20\n",
      "411/411 [==============================] - 0s 1ms/step - loss: 0.1737 - accuracy: 0.9308 - precision: 0.7353 - recall: 0.3167 - val_loss: 0.1775 - val_accuracy: 0.9288 - val_precision: 0.7032 - val_recall: 0.3253\n",
      "Epoch 6/20\n",
      "411/411 [==============================] - 0s 1ms/step - loss: 0.1725 - accuracy: 0.9315 - precision: 0.7413 - recall: 0.3243 - val_loss: 0.1767 - val_accuracy: 0.9304 - val_precision: 0.7400 - val_recall: 0.3187\n",
      "Epoch 7/20\n",
      "411/411 [==============================] - 0s 1ms/step - loss: 0.1714 - accuracy: 0.9320 - precision: 0.7483 - recall: 0.3269 - val_loss: 0.1747 - val_accuracy: 0.9308 - val_precision: 0.7140 - val_recall: 0.3517\n",
      "Epoch 8/20\n",
      "411/411 [==============================] - 0s 1ms/step - loss: 0.1703 - accuracy: 0.9322 - precision: 0.7472 - recall: 0.3320 - val_loss: 0.1773 - val_accuracy: 0.9304 - val_precision: 0.7728 - val_recall: 0.2921\n",
      "Epoch 9/20\n",
      "411/411 [==============================] - 0s 1ms/step - loss: 0.1697 - accuracy: 0.9325 - precision: 0.7477 - recall: 0.3370 - val_loss: 0.1738 - val_accuracy: 0.9308 - val_precision: 0.7389 - val_recall: 0.3256\n",
      "Epoch 10/20\n",
      "411/411 [==============================] - 0s 1ms/step - loss: 0.1688 - accuracy: 0.9328 - precision: 0.7513 - recall: 0.3380 - val_loss: 0.1740 - val_accuracy: 0.9312 - val_precision: 0.7147 - val_recall: 0.3580\n",
      "Epoch 11/20\n",
      "411/411 [==============================] - 0s 1ms/step - loss: 0.1682 - accuracy: 0.9331 - precision: 0.7486 - recall: 0.3453 - val_loss: 0.1741 - val_accuracy: 0.9310 - val_precision: 0.7316 - val_recall: 0.3377\n",
      "Epoch 12/20\n",
      "411/411 [==============================] - 0s 1ms/step - loss: 0.1677 - accuracy: 0.9334 - precision: 0.7516 - recall: 0.3488 - val_loss: 0.1732 - val_accuracy: 0.9313 - val_precision: 0.7364 - val_recall: 0.3370\n",
      "Epoch 13/20\n",
      "411/411 [==============================] - 0s 1ms/step - loss: 0.1672 - accuracy: 0.9336 - precision: 0.7524 - recall: 0.3518 - val_loss: 0.1748 - val_accuracy: 0.9313 - val_precision: 0.6918 - val_recall: 0.3912\n",
      "Epoch 14/20\n",
      "411/411 [==============================] - 0s 1ms/step - loss: 0.1667 - accuracy: 0.9338 - precision: 0.7530 - recall: 0.3537 - val_loss: 0.1746 - val_accuracy: 0.9315 - val_precision: 0.7448 - val_recall: 0.3327\n",
      "Epoch 15/20\n",
      "411/411 [==============================] - 1s 1ms/step - loss: 0.1664 - accuracy: 0.9339 - precision: 0.7511 - recall: 0.3572 - val_loss: 0.1720 - val_accuracy: 0.9315 - val_precision: 0.7141 - val_recall: 0.3658\n",
      "Epoch 16/20\n",
      "411/411 [==============================] - 1s 1ms/step - loss: 0.1656 - accuracy: 0.9340 - precision: 0.7531 - recall: 0.3575 - val_loss: 0.1755 - val_accuracy: 0.9323 - val_precision: 0.7815 - val_recall: 0.3162\n",
      "Epoch 17/20\n",
      "411/411 [==============================] - 1s 1ms/step - loss: 0.1653 - accuracy: 0.9344 - precision: 0.7586 - recall: 0.3588 - val_loss: 0.1721 - val_accuracy: 0.9324 - val_precision: 0.7422 - val_recall: 0.3509\n",
      "Epoch 18/20\n",
      "411/411 [==============================] - 1s 1ms/step - loss: 0.1648 - accuracy: 0.9346 - precision: 0.7585 - recall: 0.3627 - val_loss: 0.1716 - val_accuracy: 0.9322 - val_precision: 0.7493 - val_recall: 0.3415\n",
      "Epoch 19/20\n",
      "411/411 [==============================] - 1s 1ms/step - loss: 0.1645 - accuracy: 0.9346 - precision: 0.7597 - recall: 0.3619 - val_loss: 0.1716 - val_accuracy: 0.9317 - val_precision: 0.7135 - val_recall: 0.3704\n",
      "Epoch 20/20\n",
      "411/411 [==============================] - 0s 1ms/step - loss: 0.1641 - accuracy: 0.9345 - precision: 0.7564 - recall: 0.3633 - val_loss: 0.1709 - val_accuracy: 0.9330 - val_precision: 0.7377 - val_recall: 0.3656\n"
     ]
    }
   ],
   "source": [
    "history = model.fit(\n",
    "    X_train, y_train,\n",
    "    validation_data=(X_val, y_val),\n",
    "    epochs=20,\n",
    "    batch_size=512,\n",
    ")"
   ]
  },
  {
   "cell_type": "code",
   "execution_count": 14,
   "metadata": {},
   "outputs": [],
   "source": [
    "def plot_learning_curves(history):\n",
    "  plt.figure(figsize=(8, 5))\n",
    "  for key, style in zip(history.history, [\"r-o\", \"r-*\", \"b-o\", \"b-*\"]):\n",
    "    epochs = np.array(history.epoch)\n",
    "    plt.plot(epochs + 1, history.history[key], style, label=key)\n",
    "  plt.xlabel(\"Epoch\")\n",
    "  plt.axis([1, len(history.history['loss']), 0., 1])\n",
    "  plt.legend(loc=\"lower left\")\n",
    "  plt.grid()"
   ]
  },
  {
   "cell_type": "code",
   "execution_count": 15,
   "metadata": {},
   "outputs": [
    {
     "data": {
      "image/png": "[encoded data removed]",
      "text/plain": [
       "<Figure size 800x500 with 1 Axes>"
      ]
     },
     "metadata": {},
     "output_type": "display_data"
    }
   ],
   "source": [
    "plot_learning_curves(history)"
   ]
  }
 ],
 "metadata": {
  "kernelspec": {
   "display_name": ".venv",
   "language": "python",
   "name": "python3"
  },
  "language_info": {
   "codemirror_mode": {
    "name": "ipython",
    "version": 3
   },
   "file_extension": ".py",
   "mimetype": "text/x-python",
   "name": "python",
   "nbconvert_exporter": "python",
   "pygments_lexer": "ipython3",
   "version": "3.11.6"
  }
 },
 "nbformat": 4,
 "nbformat_minor": 2
}
