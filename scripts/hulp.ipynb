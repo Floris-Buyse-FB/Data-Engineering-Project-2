{
 "cells": [
  {
   "cell_type": "code",
   "execution_count": 50,
   "metadata": {},
   "outputs": [],
   "source": [
    "import pandas as pd\n",
    "import numpy as np\n",
    "import os"
   ]
  },
  {
   "cell_type": "code",
   "execution_count": 51,
   "metadata": {},
   "outputs": [],
   "source": [
    "DATA_DIR = '../data_clean/'\n",
    "FILE_NAME = 'Account_financiële_data_fixed'\n",
    "URL = os.path.join(DATA_DIR, FILE_NAME + '.csv')"
   ]
  },
  {
   "cell_type": "code",
   "execution_count": 89,
   "metadata": {},
   "outputs": [
    {
     "data": {
      "text/plain": [
       "['financieledata_ondernemingid',\n",
       " 'financieledata_toegevoegde_waarde',\n",
       " 'financieledata_fte',\n",
       " 'financieledata_gewijzigd_op']"
      ]
     },
     "execution_count": 89,
     "metadata": {},
     "output_type": "execute_result"
    }
   ],
   "source": [
    "data = pd.read_csv(URL)\n",
    "categorical_cols = data.select_dtypes(include=[object]).columns.tolist()\n",
    "\n",
    "categorical_cols"
   ]
  },
  {
   "cell_type": "code",
   "execution_count": 90,
   "metadata": {},
   "outputs": [
    {
     "data": {
      "text/plain": [
       "Index(['financieledata_ondernemingid', 'financieledata_boekjaar',\n",
       "       'financieledata_aantal_maanden', 'financieledata_toegevoegde_waarde',\n",
       "       'financieledata_fte', 'financieledata_gewijzigd_op'],\n",
       "      dtype='object')"
      ]
     },
     "execution_count": 90,
     "metadata": {},
     "output_type": "execute_result"
    }
   ],
   "source": [
    "data.columns"
   ]
  },
  {
   "cell_type": "code",
   "execution_count": 53,
   "metadata": {},
   "outputs": [],
   "source": [
    "data_cat = data[categorical_cols]\n",
    "del data"
   ]
  },
  {
   "cell_type": "code",
   "execution_count": 54,
   "metadata": {},
   "outputs": [
    {
     "data": {
      "text/html": [
       "<div>\n",
       "<style scoped>\n",
       "    .dataframe tbody tr th:only-of-type {\n",
       "        vertical-align: middle;\n",
       "    }\n",
       "\n",
       "    .dataframe tbody tr th {\n",
       "        vertical-align: top;\n",
       "    }\n",
       "\n",
       "    .dataframe thead th {\n",
       "        text-align: right;\n",
       "    }\n",
       "</style>\n",
       "<table border=\"1\" class=\"dataframe\">\n",
       "  <thead>\n",
       "    <tr style=\"text-align: right;\">\n",
       "      <th></th>\n",
       "      <th>financieledata_ondernemingid</th>\n",
       "      <th>financieledata_toegevoegde_waarde</th>\n",
       "      <th>financieledata_fte</th>\n",
       "      <th>financieledata_gewijzigd_op</th>\n",
       "    </tr>\n",
       "  </thead>\n",
       "  <tbody>\n",
       "    <tr>\n",
       "      <th>0</th>\n",
       "      <td>00002DAC-0A69-E111-B43A-00505680000A</td>\n",
       "      <td>unknown</td>\n",
       "      <td>1</td>\n",
       "      <td>15-10-2018 08:21:37</td>\n",
       "    </tr>\n",
       "    <tr>\n",
       "      <th>1</th>\n",
       "      <td>00002DAC-0A69-E111-B43A-00505680000A</td>\n",
       "      <td>unknown</td>\n",
       "      <td>1</td>\n",
       "      <td>15-10-2018 13:20:45</td>\n",
       "    </tr>\n",
       "    <tr>\n",
       "      <th>2</th>\n",
       "      <td>00002DAC-0A69-E111-B43A-00505680000A</td>\n",
       "      <td>unknown</td>\n",
       "      <td>2</td>\n",
       "      <td>15-10-2018 04:00:52</td>\n",
       "    </tr>\n",
       "    <tr>\n",
       "      <th>3</th>\n",
       "      <td>00002DAC-0A69-E111-B43A-00505680000A</td>\n",
       "      <td>unknown</td>\n",
       "      <td>1</td>\n",
       "      <td>15-10-2018 12:42:56</td>\n",
       "    </tr>\n",
       "    <tr>\n",
       "      <th>4</th>\n",
       "      <td>00002DAC-0A69-E111-B43A-00505680000A</td>\n",
       "      <td>unknown</td>\n",
       "      <td>1</td>\n",
       "      <td>15-10-2018 04:54:28</td>\n",
       "    </tr>\n",
       "  </tbody>\n",
       "</table>\n",
       "</div>"
      ],
      "text/plain": [
       "           financieledata_ondernemingid financieledata_toegevoegde_waarde   \n",
       "0  00002DAC-0A69-E111-B43A-00505680000A                           unknown  \\\n",
       "1  00002DAC-0A69-E111-B43A-00505680000A                           unknown   \n",
       "2  00002DAC-0A69-E111-B43A-00505680000A                           unknown   \n",
       "3  00002DAC-0A69-E111-B43A-00505680000A                           unknown   \n",
       "4  00002DAC-0A69-E111-B43A-00505680000A                           unknown   \n",
       "\n",
       "  financieledata_fte financieledata_gewijzigd_op  \n",
       "0                  1         15-10-2018 08:21:37  \n",
       "1                  1         15-10-2018 13:20:45  \n",
       "2                  2         15-10-2018 04:00:52  \n",
       "3                  1         15-10-2018 12:42:56  \n",
       "4                  1         15-10-2018 04:54:28  "
      ]
     },
     "execution_count": 54,
     "metadata": {},
     "output_type": "execute_result"
    }
   ],
   "source": [
    "data_cat.head()"
   ]
  },
  {
   "cell_type": "code",
   "execution_count": 55,
   "metadata": {},
   "outputs": [],
   "source": [
    "ID = 'financieledata_ondernemingid'\n",
    "data_cat.drop(ID, axis=1, inplace=True)"
   ]
  },
  {
   "cell_type": "code",
   "execution_count": 56,
   "metadata": {},
   "outputs": [
    {
     "data": {
      "text/plain": [
       "array(['69164', '46718', '23551', ..., '290293', '325262', '89004'],\n",
       "      dtype=object)"
      ]
     },
     "execution_count": 56,
     "metadata": {},
     "output_type": "execute_result"
    }
   ],
   "source": [
    "data_cat[data_cat['financieledata_toegevoegde_waarde'] != 'unknown']['financieledata_toegevoegde_waarde'].unique()"
   ]
  },
  {
   "cell_type": "code",
   "execution_count": 57,
   "metadata": {},
   "outputs": [
    {
     "data": {
      "text/html": [
       "<div>\n",
       "<style scoped>\n",
       "    .dataframe tbody tr th:only-of-type {\n",
       "        vertical-align: middle;\n",
       "    }\n",
       "\n",
       "    .dataframe tbody tr th {\n",
       "        vertical-align: top;\n",
       "    }\n",
       "\n",
       "    .dataframe thead th {\n",
       "        text-align: right;\n",
       "    }\n",
       "</style>\n",
       "<table border=\"1\" class=\"dataframe\">\n",
       "  <thead>\n",
       "    <tr style=\"text-align: right;\">\n",
       "      <th></th>\n",
       "      <th>financieledata_toegevoegde_waarde</th>\n",
       "      <th>financieledata_fte</th>\n",
       "      <th>financieledata_gewijzigd_op</th>\n",
       "    </tr>\n",
       "  </thead>\n",
       "  <tbody>\n",
       "    <tr>\n",
       "      <th>0</th>\n",
       "      <td>-1.0</td>\n",
       "      <td>1</td>\n",
       "      <td>15-10-2018 08:21:37</td>\n",
       "    </tr>\n",
       "    <tr>\n",
       "      <th>1</th>\n",
       "      <td>-1.0</td>\n",
       "      <td>1</td>\n",
       "      <td>15-10-2018 13:20:45</td>\n",
       "    </tr>\n",
       "    <tr>\n",
       "      <th>2</th>\n",
       "      <td>-1.0</td>\n",
       "      <td>2</td>\n",
       "      <td>15-10-2018 04:00:52</td>\n",
       "    </tr>\n",
       "    <tr>\n",
       "      <th>3</th>\n",
       "      <td>-1.0</td>\n",
       "      <td>1</td>\n",
       "      <td>15-10-2018 12:42:56</td>\n",
       "    </tr>\n",
       "    <tr>\n",
       "      <th>4</th>\n",
       "      <td>-1.0</td>\n",
       "      <td>1</td>\n",
       "      <td>15-10-2018 04:54:28</td>\n",
       "    </tr>\n",
       "  </tbody>\n",
       "</table>\n",
       "</div>"
      ],
      "text/plain": [
       "   financieledata_toegevoegde_waarde financieledata_fte   \n",
       "0                               -1.0                  1  \\\n",
       "1                               -1.0                  1   \n",
       "2                               -1.0                  2   \n",
       "3                               -1.0                  1   \n",
       "4                               -1.0                  1   \n",
       "\n",
       "  financieledata_gewijzigd_op  \n",
       "0         15-10-2018 08:21:37  \n",
       "1         15-10-2018 13:20:45  \n",
       "2         15-10-2018 04:00:52  \n",
       "3         15-10-2018 12:42:56  \n",
       "4         15-10-2018 04:54:28  "
      ]
     },
     "execution_count": 57,
     "metadata": {},
     "output_type": "execute_result"
    }
   ],
   "source": [
    "# change to floats and unknown to -1\n",
    "data_cat['financieledata_toegevoegde_waarde'].replace('unknown', '-1', inplace=True)\n",
    "data_cat['financieledata_toegevoegde_waarde'] = data_cat['financieledata_toegevoegde_waarde'].str.replace(',', '.')\n",
    "data_cat['financieledata_toegevoegde_waarde'] = data_cat['financieledata_toegevoegde_waarde'].astype(float)\n",
    "data_cat.head()"
   ]
  },
  {
   "cell_type": "code",
   "execution_count": 61,
   "metadata": {},
   "outputs": [
    {
     "data": {
      "text/html": [
       "<div>\n",
       "<style scoped>\n",
       "    .dataframe tbody tr th:only-of-type {\n",
       "        vertical-align: middle;\n",
       "    }\n",
       "\n",
       "    .dataframe tbody tr th {\n",
       "        vertical-align: top;\n",
       "    }\n",
       "\n",
       "    .dataframe thead th {\n",
       "        text-align: right;\n",
       "    }\n",
       "</style>\n",
       "<table border=\"1\" class=\"dataframe\">\n",
       "  <thead>\n",
       "    <tr style=\"text-align: right;\">\n",
       "      <th></th>\n",
       "      <th>financieledata_toegevoegde_waarde</th>\n",
       "      <th>financieledata_fte</th>\n",
       "      <th>financieledata_gewijzigd_op</th>\n",
       "    </tr>\n",
       "  </thead>\n",
       "  <tbody>\n",
       "    <tr>\n",
       "      <th>6</th>\n",
       "      <td>69164.0</td>\n",
       "      <td>1</td>\n",
       "      <td>14-10-2018 11:38:50</td>\n",
       "    </tr>\n",
       "    <tr>\n",
       "      <th>7</th>\n",
       "      <td>46718.0</td>\n",
       "      <td>1</td>\n",
       "      <td>14-10-2018 11:29:04</td>\n",
       "    </tr>\n",
       "    <tr>\n",
       "      <th>8</th>\n",
       "      <td>23551.0</td>\n",
       "      <td>0</td>\n",
       "      <td>14-10-2018 13:03:53</td>\n",
       "    </tr>\n",
       "    <tr>\n",
       "      <th>9</th>\n",
       "      <td>65481.0</td>\n",
       "      <td>0</td>\n",
       "      <td>14-10-2018 02:38:24</td>\n",
       "    </tr>\n",
       "    <tr>\n",
       "      <th>10</th>\n",
       "      <td>45387.0</td>\n",
       "      <td>0</td>\n",
       "      <td>14-10-2018 05:45:21</td>\n",
       "    </tr>\n",
       "    <tr>\n",
       "      <th>...</th>\n",
       "      <td>...</td>\n",
       "      <td>...</td>\n",
       "      <td>...</td>\n",
       "    </tr>\n",
       "    <tr>\n",
       "      <th>2030168</th>\n",
       "      <td>12048.0</td>\n",
       "      <td>0</td>\n",
       "      <td>14-10-2018 05:44:04</td>\n",
       "    </tr>\n",
       "    <tr>\n",
       "      <th>2030169</th>\n",
       "      <td>4552.0</td>\n",
       "      <td>0</td>\n",
       "      <td>31-8-2019 03:04:19</td>\n",
       "    </tr>\n",
       "    <tr>\n",
       "      <th>2030170</th>\n",
       "      <td>5892.0</td>\n",
       "      <td>0</td>\n",
       "      <td>3-10-2020 03:02:33</td>\n",
       "    </tr>\n",
       "    <tr>\n",
       "      <th>2030171</th>\n",
       "      <td>-11292.0</td>\n",
       "      <td>0</td>\n",
       "      <td>16-9-2021 03:11:02</td>\n",
       "    </tr>\n",
       "    <tr>\n",
       "      <th>2030172</th>\n",
       "      <td>7172.0</td>\n",
       "      <td>0</td>\n",
       "      <td>16-2-2023 01:08:01</td>\n",
       "    </tr>\n",
       "  </tbody>\n",
       "</table>\n",
       "<p>1165004 rows × 3 columns</p>\n",
       "</div>"
      ],
      "text/plain": [
       "         financieledata_toegevoegde_waarde financieledata_fte   \n",
       "6                                  69164.0                  1  \\\n",
       "7                                  46718.0                  1   \n",
       "8                                  23551.0                  0   \n",
       "9                                  65481.0                  0   \n",
       "10                                 45387.0                  0   \n",
       "...                                    ...                ...   \n",
       "2030168                            12048.0                  0   \n",
       "2030169                             4552.0                  0   \n",
       "2030170                             5892.0                  0   \n",
       "2030171                           -11292.0                  0   \n",
       "2030172                             7172.0                  0   \n",
       "\n",
       "        financieledata_gewijzigd_op  \n",
       "6               14-10-2018 11:38:50  \n",
       "7               14-10-2018 11:29:04  \n",
       "8               14-10-2018 13:03:53  \n",
       "9               14-10-2018 02:38:24  \n",
       "10              14-10-2018 05:45:21  \n",
       "...                             ...  \n",
       "2030168         14-10-2018 05:44:04  \n",
       "2030169          31-8-2019 03:04:19  \n",
       "2030170          3-10-2020 03:02:33  \n",
       "2030171          16-9-2021 03:11:02  \n",
       "2030172          16-2-2023 01:08:01  \n",
       "\n",
       "[1165004 rows x 3 columns]"
      ]
     },
     "execution_count": 61,
     "metadata": {},
     "output_type": "execute_result"
    }
   ],
   "source": [
    "data_cat[data_cat['financieledata_toegevoegde_waarde'] != -1]"
   ]
  },
  {
   "cell_type": "code",
   "execution_count": null,
   "metadata": {},
   "outputs": [],
   "source": [
    "data_cat['financieledata_fte'].replace('unknown', '-1', inplace=True)\n",
    "data_cat['financieledata_fte'] = data_cat['financieledata_fte'].str.replace(',', '.')\n",
    "data_cat['financieledata_fte'] = data_cat['financieledata_fte'].astype(float)"
   ]
  },
  {
   "cell_type": "code",
   "execution_count": 88,
   "metadata": {},
   "outputs": [
    {
     "data": {
      "text/plain": [
       "financieledata_fte\n",
       "0.0    735607\n",
       "1.0    159611\n",
       "2.0    109460\n",
       "Name: count, dtype: int64"
      ]
     },
     "execution_count": 88,
     "metadata": {},
     "output_type": "execute_result"
    }
   ],
   "source": [
    "value_counts = data_cat[data_cat['financieledata_fte'] != -1]['financieledata_fte'].value_counts()\n",
    "selected_values = value_counts[value_counts > 10_0000]\n",
    "selected_values"
   ]
  },
  {
   "cell_type": "code",
   "execution_count": 59,
   "metadata": {},
   "outputs": [],
   "source": [
    "# apply one hot encoding using scikit-learn\n",
    "from sklearn.preprocessing import OneHotEncoder\n",
    "\n",
    "# create instance of one-hot-encoder\n",
    "enc = OneHotEncoder(handle_unknown='ignore')\n",
    "\n",
    "# fit and transform data\n",
    "data_num = pd.DataFrame(enc.fit_transform(data_cat).toarray())\n",
    "\n",
    "data_num.head()"
   ]
  },
  {
   "cell_type": "code",
   "execution_count": 60,
   "metadata": {},
   "outputs": [
    {
     "name": "stdout",
     "output_type": "stream",
     "text": [
      "Account_activiteitscode_fixed.csv\n",
      "Account_financiële_data_fixed.csv\n",
      "Account_fixed.csv\n",
      "Activiteitscode_fixed.csv\n",
      "Activiteit_vereist_contact_fixed.csv\n",
      "Afspraak_account_gelinkt_cleaned_fixed.csv\n",
      "Afspraak_alle_fixed.csv\n",
      "Afspraak_betreft_account_cleaned_fixed.csv\n",
      "Afspraak_betreft_contact_cleaned_fixed.csv\n",
      "Campagne_fixed.csv\n",
      "CDI_mailing_fixed.csv\n",
      "CDI_pageviews_fixed.csv\n",
      "CDI_sent_email_clicks_fixed.csv\n",
      "CDI_visits_fixed.csv\n",
      "CDI_web_content_fixed.csv\n",
      "Contact_fixed.csv\n",
      "Contact_functie_fixed.csv\n",
      "Functie_fixed.csv\n",
      "Gebruikers_fixed.csv\n",
      "Info_en_klachten_fixed.csv\n",
      "Inschrijving_fixed.csv\n",
      "Lidmaatschap_fixed.csv\n",
      "Persoon_fixed.csv\n",
      "Sessie_fixed.csv\n",
      "Sessie_inschrijving_fixed.csv\n",
      "Teams_fixed.csv\n"
     ]
    }
   ],
   "source": [
    "for file in os.listdir(DATA_DIR):\n",
    "    if file.endswith('_fixed.csv'):\n",
    "        print(file)\n"
   ]
  }
 ],
 "metadata": {
  "kernelspec": {
   "display_name": "Python 3",
   "language": "python",
   "name": "python3"
  },
  "language_info": {
   "codemirror_mode": {
    "name": "ipython",
    "version": 3
   },
   "file_extension": ".py",
   "mimetype": "text/x-python",
   "name": "python",
   "nbconvert_exporter": "python",
   "pygments_lexer": "ipython3",
   "version": "3.11.3"
  }
 },
 "nbformat": 4,
 "nbformat_minor": 2
}
