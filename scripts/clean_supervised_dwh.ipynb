{
 "cells": [
  {
   "cell_type": "code",
   "execution_count": 342,
   "metadata": {},
   "outputs": [],
   "source": [
    "import pandas as pd\n",
    "import pyarrow as pa\n",
    "import pyarrow.parquet as pq\n",
    "import numpy as np\n",
    "import os\n",
    "from dotenv import load_dotenv\n",
    "from sqlalchemy import create_engine"
   ]
  },
  {
   "cell_type": "code",
   "execution_count": 343,
   "metadata": {},
   "outputs": [],
   "source": [
    "ENV_URL = os.path.join(os.getcwd(), '../.env')\n",
    "load_dotenv(ENV_URL)\n",
    "\n",
    "DWH_NAME = os.environ.get('DWH_NAME')\n",
    "SERVER_NAME = os.environ.get('SERVER_NAME')\n",
    "DB_USER = os.environ.get('DB_USER')\n",
    "DB_PASSWORD = os.environ.get('DB_PASSWORD')\n",
    "\n",
    "URL = f'mssql+pymssql://{DB_USER}:{DB_PASSWORD}@{SERVER_NAME}/{DWH_NAME}'\n",
    "URL_LOCAL = f'mssql+pyodbc://{SERVER_NAME}/{DWH_NAME}?trusted_connection=yes&driver=ODBC+Driver+17 for SQL Server'\n",
    "\n",
    "engine = create_engine(URL_LOCAL)\n",
    "conn = engine.connect()"
   ]
  },
  {
   "cell_type": "code",
   "execution_count": 344,
   "metadata": {},
   "outputs": [],
   "source": [
    "def create_query(table_name, columns, condition=None):\n",
    "\n",
    "    query = f\"SELECT \"\n",
    "\n",
    "    for i, column in enumerate(columns):\n",
    "        if i == 0:\n",
    "            query += f\"[{column}]\"\n",
    "        else:\n",
    "            query += f\", [{column}]\"\n",
    "    \n",
    "    query += f\" FROM [{DWH_NAME}].[dbo].[{table_name}]\"\n",
    "    \n",
    "    if condition:\n",
    "        query += f\" WHERE {condition}\"\n",
    "\n",
    "    return query"
   ]
  },
  {
   "cell_type": "markdown",
   "metadata": {},
   "source": [
    "### Eerst gaan we alle datafiles die we nodig hebben mergen tot 1 dataframe"
   ]
  },
  {
   "cell_type": "markdown",
   "metadata": {},
   "source": [
    "#### 1. Alles van Account mergen"
   ]
  },
  {
   "cell_type": "code",
   "execution_count": 345,
   "metadata": {},
   "outputs": [
    {
     "data": {
      "text/plain": [
       "(3211, 5)"
      ]
     },
     "execution_count": 345,
     "metadata": {},
     "output_type": "execute_result"
    }
   ],
   "source": [
    "acc_cols = ['accountID', 'subregio', 'ondernemingstype', 'ondernemingsaard', 'activiteitNaam']\n",
    "# account conditie\n",
    "acc_condition = \"accountStatus = 1 AND provincie = 'Oost-Vlaanderen'\"\n",
    "# create query\n",
    "acc_query = create_query('DimAccount', acc_cols, acc_condition)\n",
    "# read sql\n",
    "df_account = pd.read_sql(acc_query, conn)\n",
    "df_account.shape"
   ]
  },
  {
   "cell_type": "code",
   "execution_count": 346,
   "metadata": {},
   "outputs": [
    {
     "data": {
      "text/plain": [
       "['accountID',\n",
       " 'subregio',\n",
       " 'ondernemingstype',\n",
       " 'ondernemingsaard',\n",
       " 'activiteitNaam']"
      ]
     },
     "execution_count": 346,
     "metadata": {},
     "output_type": "execute_result"
    }
   ],
   "source": [
    "list(df_account.columns)"
   ]
  },
  {
   "cell_type": "markdown",
   "metadata": {},
   "source": [
    "##### Accounts merge met Contactfiches"
   ]
  },
  {
   "cell_type": "code",
   "execution_count": 347,
   "metadata": {},
   "outputs": [
    {
     "data": {
      "text/plain": [
       "(70413, 20)"
      ]
     },
     "execution_count": 347,
     "metadata": {},
     "output_type": "execute_result"
    }
   ],
   "source": [
    "contact_cols = ['contactID', 'accountID', 'functietitel', \n",
    " 'persoon_mail_thema_duurzaamheid', 'persoon_mail_thema_financieel_fiscaal', 'persoon_mail_thema_innovatie',\n",
    " 'persoon_mail_thema_internationaal_ondernemen', 'persoon_mail_thema_mobiliteit', 'persoon_mail_thema_omgeving',\n",
    " 'persoon_mail_thema_sales_marketing_communicatie', 'persoon_mail_thema_strategie_en_algemeen_management',\n",
    " 'persoon_mail_thema_talent', 'persoon_mail_thema_welzijn', 'persoon_mail_type_bevraging', 'persoon_mail_type_communities_en_projecten',\n",
    " 'persoon_mail_type_netwerkevenementen', 'persoon_mail_type_nieuwsbrieven', 'persoon_mail_type_opleidingen',\n",
    " 'persoon_mail_type_persberichten_belangrijke_meldingen', 'persoon_marketingcommunicatie',]\n",
    "\n",
    "contact_condition = \"contactStatus = 'Actief'\"\n",
    "contact_query = create_query('DimContact', contact_cols, contact_condition)\n",
    "df_contact = pd.read_sql(contact_query, conn)\n",
    "\n",
    "df_contact['functietitel'] = df_contact['functietitel'].str.lower()\n",
    "df_contact['persoon_marketingcommunicatie'] = df_contact['persoon_marketingcommunicatie'].fillna('-1')\n",
    "df_contact['persoon_marketingcommunicatie'] = df_contact['persoon_marketingcommunicatie'] \\\n",
    "                                                            .str.replace('Strikt', '0').str.replace('Flexibel', '1') \\\n",
    "                                                            .str.replace('Uitgeschreven', '-1').str.replace('unknown', '-1').astype(int)\n",
    "\n",
    "df_contact.shape"
   ]
  },
  {
   "cell_type": "code",
   "execution_count": 348,
   "metadata": {},
   "outputs": [
    {
     "data": {
      "text/plain": [
       "['contactID',\n",
       " 'accountID',\n",
       " 'functietitel',\n",
       " 'persoon_mail_thema_duurzaamheid',\n",
       " 'persoon_mail_thema_financieel_fiscaal',\n",
       " 'persoon_mail_thema_innovatie',\n",
       " 'persoon_mail_thema_internationaal_ondernemen',\n",
       " 'persoon_mail_thema_mobiliteit',\n",
       " 'persoon_mail_thema_omgeving',\n",
       " 'persoon_mail_thema_sales_marketing_communicatie',\n",
       " 'persoon_mail_thema_strategie_en_algemeen_management',\n",
       " 'persoon_mail_thema_talent',\n",
       " 'persoon_mail_thema_welzijn',\n",
       " 'persoon_mail_type_bevraging',\n",
       " 'persoon_mail_type_communities_en_projecten',\n",
       " 'persoon_mail_type_netwerkevenementen',\n",
       " 'persoon_mail_type_nieuwsbrieven',\n",
       " 'persoon_mail_type_opleidingen',\n",
       " 'persoon_mail_type_persberichten_belangrijke_meldingen',\n",
       " 'persoon_marketingcommunicatie']"
      ]
     },
     "execution_count": 348,
     "metadata": {},
     "output_type": "execute_result"
    }
   ],
   "source": [
    "list(df_contact.columns)"
   ]
  },
  {
   "cell_type": "code",
   "execution_count": 349,
   "metadata": {},
   "outputs": [
    {
     "data": {
      "text/plain": [
       "(16656, 24)"
      ]
     },
     "execution_count": 349,
     "metadata": {},
     "output_type": "execute_result"
    }
   ],
   "source": [
    "accounts_merged = pd.merge(df_contact, df_account, on='accountID', how='inner')\n",
    "accounts_merged.shape"
   ]
  },
  {
   "cell_type": "markdown",
   "metadata": {},
   "source": [
    "#### 2. Alles van Afspraken mergen"
   ]
  },
  {
   "cell_type": "code",
   "execution_count": 350,
   "metadata": {},
   "outputs": [],
   "source": [
    "grouping_categories = {\n",
    "    'Lidmaatschap': ['Lidmaatschap'],\n",
    "    'Welt': ['Welt', 'Welt 2.0', 'Welt 2.0-2023'],\n",
    "    'Plato & Bryo': ['Plato', 'Bryo'],\n",
    "    'Internationaal Ondernemen': ['Internationaal Ondernemen', 'Internationaal Ondernemen - voor Info en Advies'],\n",
    "    'Technologie en Innovatie': ['Digitalisering, IT & Technologie', 'Innovatie', 'Veiligheid & Preventie'],\n",
    "    'Groeien en Netwerking': ['Groeien', 'Netwerking', 'Communicatie', 'Starten'],\n",
    "    'Duurzaamheid': ['Duurzaam Ondernemen', 'Mobiliteit'],\n",
    "    'Familiebedrijfsmanagement': ['Familiebedrijven', 'Opvolging en Overname'],\n",
    "    'Arbeidsmarkt': ['Arbeidsmarkt', 'Opleidingen'],\n",
    "    'Bedrijfsbeheer': ['Algemeen Management', 'Bestuurlijke organisaties', 'Human Resources', 'Ruimtelijke ordening en Infrastructuur'],\n",
    "    'Financieel': ['Financieel', 'Marketing & Sales', 'Aankoop'],\n",
    "    'Logistiek en Transport': ['Logistiek en Transport', 'Haven']\n",
    "}\n",
    "\n",
    "def map_thema(thema):\n",
    "    for category, themes in grouping_categories.items():\n",
    "        if thema in themes:\n",
    "            return category\n",
    "    return thema"
   ]
  },
  {
   "cell_type": "code",
   "execution_count": 351,
   "metadata": {},
   "outputs": [
    {
     "data": {
      "text/plain": [
       "(1839, 12)"
      ]
     },
     "execution_count": 351,
     "metadata": {},
     "output_type": "execute_result"
    }
   ],
   "source": [
    "afspraak_cols = ['thema', 'contactID']\n",
    "\n",
    "afspraak_condition = \"contactID is not null\"\n",
    "afspraak_query = create_query('DimAfspraak', afspraak_cols, afspraak_condition)\n",
    "df_afspraak1 = pd.read_sql(afspraak_query, conn)\n",
    "\n",
    "df_afspraak1.drop_duplicates(inplace=True)\n",
    "\n",
    "df_afspraak1['thema'] = df_afspraak1['thema'].apply(map_thema)\n",
    "df_afspraak1 = df_afspraak1.groupby('contactID')['thema'].value_counts().unstack(fill_value=0)\n",
    "\n",
    "df_afspraak1.shape"
   ]
  },
  {
   "cell_type": "code",
   "execution_count": 352,
   "metadata": {},
   "outputs": [
    {
     "data": {
      "text/plain": [
       "(2770, 13)"
      ]
     },
     "execution_count": 352,
     "metadata": {},
     "output_type": "execute_result"
    }
   ],
   "source": [
    "afspraak_cols = ['thema', 'accountID']\n",
    "\n",
    "afspraak_condition = \"accountID is not null\"\n",
    "afspraak_query = create_query('DimAfspraak', afspraak_cols, afspraak_condition)\n",
    "df_afspraak2 = pd.read_sql(afspraak_query, conn)\n",
    "\n",
    "df_afspraak2.drop_duplicates(inplace=True)\n",
    "\n",
    "df_afspraak2['thema'] = df_afspraak2['thema'].apply(map_thema)\n",
    "df_afspraak2 = df_afspraak2.groupby('accountID')['thema'].value_counts().unstack(fill_value=0)\n",
    "\n",
    "df_afspraak2.shape"
   ]
  },
  {
   "cell_type": "markdown",
   "metadata": {},
   "source": [
    "##### Alle afspraken mergen"
   ]
  },
  {
   "cell_type": "code",
   "execution_count": 353,
   "metadata": {},
   "outputs": [
    {
     "name": "stdout",
     "output_type": "stream",
     "text": [
      "<class 'pandas.core.frame.DataFrame'>\n",
      "RangeIndex: 16656 entries, 0 to 16655\n",
      "Data columns (total 37 columns):\n",
      " #   Column                                                 Non-Null Count  Dtype  \n",
      "---  ------                                                 --------------  -----  \n",
      " 0   contactID                                              16656 non-null  object \n",
      " 1   accountID                                              16656 non-null  object \n",
      " 2   functietitel                                           16656 non-null  object \n",
      " 3   persoon_mail_thema_duurzaamheid                        16656 non-null  int64  \n",
      " 4   persoon_mail_thema_financieel_fiscaal                  16656 non-null  int64  \n",
      " 5   persoon_mail_thema_innovatie                           16656 non-null  int64  \n",
      " 6   persoon_mail_thema_internationaal_ondernemen           16656 non-null  int64  \n",
      " 7   persoon_mail_thema_mobiliteit                          16656 non-null  int64  \n",
      " 8   persoon_mail_thema_omgeving                            16656 non-null  int64  \n",
      " 9   persoon_mail_thema_sales_marketing_communicatie        16656 non-null  int64  \n",
      " 10  persoon_mail_thema_strategie_en_algemeen_management    16656 non-null  int64  \n",
      " 11  persoon_mail_thema_talent                              16656 non-null  int64  \n",
      " 12  persoon_mail_thema_welzijn                             16656 non-null  int64  \n",
      " 13  persoon_mail_type_bevraging                            16656 non-null  int64  \n",
      " 14  persoon_mail_type_communities_en_projecten             16656 non-null  int64  \n",
      " 15  persoon_mail_type_netwerkevenementen                   16656 non-null  int64  \n",
      " 16  persoon_mail_type_nieuwsbrieven                        16656 non-null  int64  \n",
      " 17  persoon_mail_type_opleidingen                          16656 non-null  int64  \n",
      " 18  persoon_mail_type_persberichten_belangrijke_meldingen  16656 non-null  int64  \n",
      " 19  persoon_marketingcommunicatie                          16656 non-null  int32  \n",
      " 20  subregio                                               16656 non-null  object \n",
      " 21  ondernemingstype                                       16656 non-null  object \n",
      " 22  ondernemingsaard                                       16656 non-null  object \n",
      " 23  activiteitNaam                                         16656 non-null  object \n",
      " 24  unknown                                                16656 non-null  float64\n",
      " 25  Arbeidsmarkt                                           16656 non-null  float64\n",
      " 26  Bedrijfsbeheer                                         16656 non-null  float64\n",
      " 27  Duurzaamheid                                           16656 non-null  float64\n",
      " 28  Familiebedrijfsmanagement                              16656 non-null  float64\n",
      " 29  Financieel                                             16656 non-null  float64\n",
      " 30  Groeien en Netwerking                                  16656 non-null  float64\n",
      " 31  Internationaal Ondernemen                              16656 non-null  float64\n",
      " 32  Lidmaatschap                                           16656 non-null  float64\n",
      " 33  Logistiek en Transport                                 16656 non-null  float64\n",
      " 34  Plato & Bryo                                           16656 non-null  float64\n",
      " 35  Technologie en Innovatie                               16656 non-null  float64\n",
      " 36  Welt                                                   16656 non-null  float64\n",
      "dtypes: float64(13), int32(1), int64(16), object(7)\n",
      "memory usage: 4.6+ MB\n"
     ]
    }
   ],
   "source": [
    "accounts_merged = accounts_merged.merge(df_afspraak1, on=['contactID'], how='left')\n",
    "accounts_merged = accounts_merged.merge(df_afspraak2, on=['accountID'], how='left')\n",
    "\n",
    "columns_to_merge = ['Arbeidsmarkt', 'Bedrijfsbeheer', 'Duurzaamheid', 'Familiebedrijfsmanagement',\n",
    "                    'Financieel', 'Groeien en Netwerking', 'Internationaal Ondernemen',\n",
    "                    'Lidmaatschap', 'Logistiek en Transport', 'Plato & Bryo',\n",
    "                    'Technologie en Innovatie', 'Welt']\n",
    "\n",
    "for column in columns_to_merge:\n",
    "    accounts_merged[column] = accounts_merged[f'{column}_x'].combine_first(accounts_merged[f'{column}_y'])\n",
    "\n",
    "accounts_merged = accounts_merged.drop(columns=[f'{column}_x' for column in columns_to_merge] + [f'{column}_y' for column in columns_to_merge]).fillna(0)\n",
    "accounts_merged.info()"
   ]
  },
  {
   "cell_type": "markdown",
   "metadata": {},
   "source": [
    "#### 3. Alles van Campagnes mergen"
   ]
  },
  {
   "cell_type": "code",
   "execution_count": 354,
   "metadata": {},
   "outputs": [
    {
     "data": {
      "text/plain": [
       "(468, 3)"
      ]
     },
     "execution_count": 354,
     "metadata": {},
     "output_type": "execute_result"
    }
   ],
   "source": [
    "campagne_cols = ['campagneID', 'campagneType', 'campagneSoort']\n",
    "\n",
    "campagne_query = create_query('DimCampagne', campagne_cols)\n",
    "df_campagne = pd.read_sql(campagne_query, conn)\n",
    "\n",
    "df_campagne.shape"
   ]
  },
  {
   "cell_type": "code",
   "execution_count": 355,
   "metadata": {},
   "outputs": [
    {
     "data": {
      "text/plain": [
       "468"
      ]
     },
     "execution_count": 355,
     "metadata": {},
     "output_type": "execute_result"
    }
   ],
   "source": [
    "df_campagne['campagneID'].nunique()"
   ]
  },
  {
   "cell_type": "code",
   "execution_count": 356,
   "metadata": {},
   "outputs": [
    {
     "data": {
      "text/plain": [
       "(4365, 2)"
      ]
     },
     "execution_count": 356,
     "metadata": {},
     "output_type": "execute_result"
    }
   ],
   "source": [
    "sessie_cols = ['campaignID', 'themaNaam']\n",
    "\n",
    "sessie_query = create_query('DimSessie', sessie_cols)\n",
    "df_sessie = pd.read_sql(sessie_query, conn)\n",
    "\n",
    "df_sessie.shape"
   ]
  },
  {
   "cell_type": "code",
   "execution_count": 357,
   "metadata": {},
   "outputs": [
    {
     "data": {
      "text/plain": [
       "144"
      ]
     },
     "execution_count": 357,
     "metadata": {},
     "output_type": "execute_result"
    }
   ],
   "source": [
    "df_sessie['campaignID'].nunique()"
   ]
  },
  {
   "cell_type": "code",
   "execution_count": 358,
   "metadata": {},
   "outputs": [],
   "source": [
    "sessie_themes_grouped = {\n",
    "  'Bryo': ['Bryo'],\n",
    "  'Algemeen': ['Familiebedrijven','Opvolging en Overname','Algemeen Management','Human Resources','Algemeen Management - Intern','Bestuurlijke organisaties'],\n",
    "  'Onderwijs': ['Opleidingen','Persoonlijke vaardigheden','Onderwijs'],\n",
    "  'Logistiek': ['Logistiek en Transport','Haven','Supply Chain','Retail'],\n",
    "  'Welt': ['Welt', 'Welt 2.0', 'Welt 2.0-2023'],\n",
    "  'Ondernemen': ['Starten', 'Internationaal Ondernemen', 'Jong Voka', 'Groeien', 'Stille Kampioenen', 'Samen doorgaan', 'Strategie'],\n",
    "  'Duurzaamheid': ['Energie', 'Duurzaam Ondernemen', 'Milieu', 'Mobiliteit'],\n",
    "  'Lidmaatschap': ['Lidmaatschap'],\n",
    "  'Innovatie en Technologie': ['Innovatie', 'Digitalisering, IT & Technologie'],\n",
    "  'Netwerking': ['Netwerking'],\n",
    "  'Economie': ['Arbeidsmarkt', 'Economie', 'Fiscaal', 'Financieel', 'Marketing & Sales', 'Jobkanaal'],\n",
    "  'Juridisch': ['Bedrijfsjuridisch', 'Juridisch'],\n",
    "  'Veiligheid en communicatie': ['Communicatie', 'Veiligheid & Preventie', 'Welzijn en gezondheidszorg'],\n",
    "  'Andere': ['Plato', 'Ruimtelijke ordening en Infrastructuur', 'Regeringsvorming', 'Industrie', 'Aankoop', 'Privé&Vrije tijd', 'Aantrekkelijke regio', 'Coronavirus', 'unknown']\n",
    "}\n",
    "\n",
    "def map_thema(thema):\n",
    "    for category, themes in sessie_themes_grouped.items():\n",
    "        if thema in themes:\n",
    "            return category\n",
    "    return thema\n",
    "\n",
    "df_sessie['themaNaam'] = df_sessie['themaNaam'].apply(map_thema)"
   ]
  },
  {
   "cell_type": "code",
   "execution_count": 359,
   "metadata": {},
   "outputs": [
    {
     "name": "stdout",
     "output_type": "stream",
     "text": [
      "<class 'pandas.core.frame.DataFrame'>\n",
      "RangeIndex: 4365 entries, 0 to 4364\n",
      "Data columns (total 2 columns):\n",
      " #   Column      Non-Null Count  Dtype \n",
      "---  ------      --------------  ----- \n",
      " 0   campaignID  4365 non-null   object\n",
      " 1   themaNaam   4365 non-null   object\n",
      "dtypes: object(2)\n",
      "memory usage: 68.3+ KB\n"
     ]
    }
   ],
   "source": [
    "df_sessie.info()"
   ]
  },
  {
   "cell_type": "code",
   "execution_count": 360,
   "metadata": {},
   "outputs": [
    {
     "data": {
      "text/html": [
       "<div>\n",
       "<style scoped>\n",
       "    .dataframe tbody tr th:only-of-type {\n",
       "        vertical-align: middle;\n",
       "    }\n",
       "\n",
       "    .dataframe tbody tr th {\n",
       "        vertical-align: top;\n",
       "    }\n",
       "\n",
       "    .dataframe thead th {\n",
       "        text-align: right;\n",
       "    }\n",
       "</style>\n",
       "<table border=\"1\" class=\"dataframe\">\n",
       "  <thead>\n",
       "    <tr style=\"text-align: right;\">\n",
       "      <th></th>\n",
       "      <th>campaignID</th>\n",
       "      <th>themaNaam_list</th>\n",
       "    </tr>\n",
       "  </thead>\n",
       "  <tbody>\n",
       "    <tr>\n",
       "      <th>53</th>\n",
       "      <td>62A0889B-5BAB-EC11-983F-002248848BF8</td>\n",
       "      <td>[Algemeen, Economie, Ondernemen]</td>\n",
       "    </tr>\n",
       "    <tr>\n",
       "      <th>140</th>\n",
       "      <td>F7C1D664-A26A-ED11-9561-6045BD8956C9</td>\n",
       "      <td>[Algemeen, Economie, Innovatie en Technologie]</td>\n",
       "    </tr>\n",
       "    <tr>\n",
       "      <th>17</th>\n",
       "      <td>210CE445-B4A3-ED11-AAD1-6045BD895D85</td>\n",
       "      <td>[Economie, Innovatie en Technologie]</td>\n",
       "    </tr>\n",
       "    <tr>\n",
       "      <th>119</th>\n",
       "      <td>CEDF71EE-F18F-EC11-B400-000D3A25AC23</td>\n",
       "      <td>[Algemeen, Ondernemen]</td>\n",
       "    </tr>\n",
       "    <tr>\n",
       "      <th>0</th>\n",
       "      <td>025A1F39-01A6-ED11-AAD1-6045BD895CDC</td>\n",
       "      <td>[Algemeen]</td>\n",
       "    </tr>\n",
       "    <tr>\n",
       "      <th>...</th>\n",
       "      <td>...</td>\n",
       "      <td>...</td>\n",
       "    </tr>\n",
       "    <tr>\n",
       "      <th>42</th>\n",
       "      <td>472E86D6-A16A-ED11-9561-6045BD8956C9</td>\n",
       "      <td>[Algemeen]</td>\n",
       "    </tr>\n",
       "    <tr>\n",
       "      <th>41</th>\n",
       "      <td>466301FF-FCEE-ED11-8849-6045BD974EB2</td>\n",
       "      <td>[Ondernemen]</td>\n",
       "    </tr>\n",
       "    <tr>\n",
       "      <th>40</th>\n",
       "      <td>463895E5-7792-ED11-AAD1-6045BD895D85</td>\n",
       "      <td>[Ondernemen]</td>\n",
       "    </tr>\n",
       "    <tr>\n",
       "      <th>39</th>\n",
       "      <td>4476B575-D361-EE11-8DF0-6045BD895554</td>\n",
       "      <td>[Welt]</td>\n",
       "    </tr>\n",
       "    <tr>\n",
       "      <th>143</th>\n",
       "      <td>FFE56B2D-B848-EE11-BE6E-6045BD895D78</td>\n",
       "      <td>[Bryo]</td>\n",
       "    </tr>\n",
       "  </tbody>\n",
       "</table>\n",
       "<p>144 rows × 2 columns</p>\n",
       "</div>"
      ],
      "text/plain": [
       "                               campaignID  \\\n",
       "53   62A0889B-5BAB-EC11-983F-002248848BF8   \n",
       "140  F7C1D664-A26A-ED11-9561-6045BD8956C9   \n",
       "17   210CE445-B4A3-ED11-AAD1-6045BD895D85   \n",
       "119  CEDF71EE-F18F-EC11-B400-000D3A25AC23   \n",
       "0    025A1F39-01A6-ED11-AAD1-6045BD895CDC   \n",
       "..                                    ...   \n",
       "42   472E86D6-A16A-ED11-9561-6045BD8956C9   \n",
       "41   466301FF-FCEE-ED11-8849-6045BD974EB2   \n",
       "40   463895E5-7792-ED11-AAD1-6045BD895D85   \n",
       "39   4476B575-D361-EE11-8DF0-6045BD895554   \n",
       "143  FFE56B2D-B848-EE11-BE6E-6045BD895D78   \n",
       "\n",
       "                                     themaNaam_list  \n",
       "53                 [Algemeen, Economie, Ondernemen]  \n",
       "140  [Algemeen, Economie, Innovatie en Technologie]  \n",
       "17             [Economie, Innovatie en Technologie]  \n",
       "119                          [Algemeen, Ondernemen]  \n",
       "0                                        [Algemeen]  \n",
       "..                                              ...  \n",
       "42                                       [Algemeen]  \n",
       "41                                     [Ondernemen]  \n",
       "40                                     [Ondernemen]  \n",
       "39                                           [Welt]  \n",
       "143                                          [Bryo]  \n",
       "\n",
       "[144 rows x 2 columns]"
      ]
     },
     "execution_count": 360,
     "metadata": {},
     "output_type": "execute_result"
    }
   ],
   "source": [
    "df_sessie = (df_sessie.assign(themaNaam_list=df_sessie['themaNaam'].str.split(', '))\n",
    "               .explode('themaNaam_list')\n",
    "               .drop_duplicates()\n",
    "               .groupby('campaignID')['themaNaam_list']\n",
    "               .agg(lambda x: list(set(x)))\n",
    "               .reset_index()\n",
    "               .sort_values(by='themaNaam_list', key=lambda x: x.str.len(), ascending=False))\n",
    "df_sessie"
   ]
  },
  {
   "cell_type": "code",
   "execution_count": 361,
   "metadata": {},
   "outputs": [],
   "source": [
    "unique_categories = set(category for row in df_sessie['themaNaam_list'] for category in row)\n",
    "\n",
    "for category in unique_categories:\n",
    "    df_sessie[category] = df_sessie['themaNaam_list'].apply(lambda x: int(category in x))\n",
    "\n",
    "df_sessie.drop('themaNaam_list', axis=1, inplace=True)"
   ]
  },
  {
   "cell_type": "code",
   "execution_count": 362,
   "metadata": {},
   "outputs": [
    {
     "name": "stdout",
     "output_type": "stream",
     "text": [
      "<class 'pandas.core.frame.DataFrame'>\n",
      "RangeIndex: 468 entries, 0 to 467\n",
      "Data columns (total 13 columns):\n",
      " #   Column                    Non-Null Count  Dtype  \n",
      "---  ------                    --------------  -----  \n",
      " 0   campagneID                468 non-null    object \n",
      " 1   campagneType              468 non-null    object \n",
      " 2   campagneSoort             468 non-null    object \n",
      " 3   Economie                  468 non-null    float64\n",
      " 4   Logistiek                 468 non-null    float64\n",
      " 5   Netwerking                468 non-null    float64\n",
      " 6   Welt                      468 non-null    float64\n",
      " 7   Duurzaamheid              468 non-null    float64\n",
      " 8   Ondernemen                468 non-null    float64\n",
      " 9   Innovatie en Technologie  468 non-null    float64\n",
      " 10  Bryo                      468 non-null    float64\n",
      " 11  Algemeen                  468 non-null    float64\n",
      " 12  Andere                    468 non-null    float64\n",
      "dtypes: float64(10), object(3)\n",
      "memory usage: 47.7+ KB\n"
     ]
    }
   ],
   "source": [
    "campagnes_merged = pd.merge(df_campagne, df_sessie, left_on='campagneID', right_on='campaignID', how='left').fillna(0)\n",
    "campagnes_merged.drop(['campaignID'], axis=1, inplace=True)\n",
    "campagnes_merged.drop_duplicates(inplace=True)\n",
    "campagnes_merged.info()"
   ]
  },
  {
   "cell_type": "markdown",
   "metadata": {},
   "source": [
    "#### CDI"
   ]
  },
  {
   "cell_type": "code",
   "execution_count": 363,
   "metadata": {},
   "outputs": [
    {
     "name": "stdout",
     "output_type": "stream",
     "text": [
      "<class 'pandas.core.frame.DataFrame'>\n",
      "RangeIndex: 7831 entries, 0 to 7830\n",
      "Data columns (total 8 columns):\n",
      " #   Column             Non-Null Count  Dtype \n",
      "---  ------             --------------  ----- \n",
      " 0   index              7831 non-null   int64 \n",
      " 1   contactID          7831 non-null   object\n",
      " 2   visit_first_visit  7831 non-null   int8  \n",
      " 3   visit_total_pages  7831 non-null   int8  \n",
      " 4   mailing_onderwerp  7831 non-null   object\n",
      " 5   mailing_name       7831 non-null   object\n",
      " 6   campaignID         7831 non-null   object\n",
      " 7   mail_click_freq    7831 non-null   int8  \n",
      "dtypes: int64(1), int8(3), object(4)\n",
      "memory usage: 329.0+ KB\n"
     ]
    }
   ],
   "source": [
    "visit_cols = ['contactID', 'visit_first_visit', 'visit_total_pages', 'mailing_onderwerp', 'mailing_name', 'mailSent_clicks', 'mailSent', 'campaignID']\n",
    "\n",
    "visit_query = create_query('DimVisit', visit_cols)\n",
    "df_visit = pd.read_sql(visit_query, conn)\n",
    "\n",
    "df_visit.drop_duplicates(inplace=True)\n",
    "\n",
    "df_visit['visit_first_visit'] = df_visit['visit_first_visit'] \\\n",
    "      .str.replace('Ja', '0').str.replace('Nee', '1') \\\n",
    "      .str.replace('unknown', '-1').astype(int)\n",
    "\n",
    "df_visit['visit_total_pages'] = df_visit['visit_total_pages']\\\n",
    "      .replace('unknown', '-1.0').astype(float)\n",
    "\n",
    "df_visit['aantal_mails'] = df_visit.groupby(\n",
    "    ['contactID'])['mailSent'].transform('nunique')\n",
    "\n",
    "df_visit['clicks_total'] = df_visit.groupby(\n",
    "    ['contactID'])['mailSent_clicks'].transform('sum')\n",
    "\n",
    "df_visit['visit_total_pages'] = df_visit.groupby(\n",
    "    ['contactID'])['visit_total_pages'].transform('sum').astype(int)\n",
    "\n",
    "df_visit['visit_first_visit'] = df_visit.groupby(\n",
    "    ['contactID'])['visit_first_visit'].transform('sum').astype(int)\n",
    "\n",
    "df_visit['mail_click_freq'] = np.round(df_visit['clicks_total'] / df_visit['aantal_mails'], 0)\n",
    "df_visit['mail_click_freq'] = df_visit['mail_click_freq'].fillna(-1).astype(int)\n",
    "\n",
    "df_visit.drop(['mailSent', 'mailSent_clicks', 'clicks_total', 'aantal_mails'], axis=1, inplace=True)\n",
    "df_visit.drop_duplicates(inplace=True)\n",
    "\n",
    "int_cols = df_visit.select_dtypes(include=['int64', 'int32']).columns\n",
    "df_visit[int_cols] = df_visit[int_cols].astype('int8')\n",
    "\n",
    "df_visit.reset_index(inplace=True)\n",
    "df_visit.drop_duplicates(inplace=True)\n",
    "df_visit.info()"
   ]
  },
  {
   "cell_type": "markdown",
   "metadata": {},
   "source": [
    "#### 5. Cleaning voor de grote merge"
   ]
  },
  {
   "cell_type": "code",
   "execution_count": 364,
   "metadata": {},
   "outputs": [],
   "source": [
    "# Drop duplicates\n",
    "accounts_merged = accounts_merged.drop_duplicates(keep='first')\n",
    "campagnes_merged = campagnes_merged.drop_duplicates(keep='first')"
   ]
  },
  {
   "cell_type": "code",
   "execution_count": 365,
   "metadata": {},
   "outputs": [
    {
     "name": "stdout",
     "output_type": "stream",
     "text": [
      "<class 'pandas.core.frame.DataFrame'>\n",
      "RangeIndex: 16656 entries, 0 to 16655\n",
      "Data columns (total 37 columns):\n",
      " #   Column                                                 Non-Null Count  Dtype  \n",
      "---  ------                                                 --------------  -----  \n",
      " 0   contactID                                              16656 non-null  object \n",
      " 1   accountID                                              16656 non-null  object \n",
      " 2   functietitel                                           16656 non-null  object \n",
      " 3   persoon_mail_thema_duurzaamheid                        16656 non-null  int64  \n",
      " 4   persoon_mail_thema_financieel_fiscaal                  16656 non-null  int64  \n",
      " 5   persoon_mail_thema_innovatie                           16656 non-null  int64  \n",
      " 6   persoon_mail_thema_internationaal_ondernemen           16656 non-null  int64  \n",
      " 7   persoon_mail_thema_mobiliteit                          16656 non-null  int64  \n",
      " 8   persoon_mail_thema_omgeving                            16656 non-null  int64  \n",
      " 9   persoon_mail_thema_sales_marketing_communicatie        16656 non-null  int64  \n",
      " 10  persoon_mail_thema_strategie_en_algemeen_management    16656 non-null  int64  \n",
      " 11  persoon_mail_thema_talent                              16656 non-null  int64  \n",
      " 12  persoon_mail_thema_welzijn                             16656 non-null  int64  \n",
      " 13  persoon_mail_type_bevraging                            16656 non-null  int64  \n",
      " 14  persoon_mail_type_communities_en_projecten             16656 non-null  int64  \n",
      " 15  persoon_mail_type_netwerkevenementen                   16656 non-null  int64  \n",
      " 16  persoon_mail_type_nieuwsbrieven                        16656 non-null  int64  \n",
      " 17  persoon_mail_type_opleidingen                          16656 non-null  int64  \n",
      " 18  persoon_mail_type_persberichten_belangrijke_meldingen  16656 non-null  int64  \n",
      " 19  persoon_marketingcommunicatie                          16656 non-null  int32  \n",
      " 20  subregio                                               16656 non-null  object \n",
      " 21  ondernemingstype                                       16656 non-null  object \n",
      " 22  ondernemingsaard                                       16656 non-null  object \n",
      " 23  activiteitNaam                                         16656 non-null  object \n",
      " 24  unknown                                                16656 non-null  float64\n",
      " 25  Arbeidsmarkt                                           16656 non-null  float64\n",
      " 26  Bedrijfsbeheer                                         16656 non-null  float64\n",
      " 27  Duurzaamheid                                           16656 non-null  float64\n",
      " 28  Familiebedrijfsmanagement                              16656 non-null  float64\n",
      " 29  Financieel                                             16656 non-null  float64\n",
      " 30  Groeien en Netwerking                                  16656 non-null  float64\n",
      " 31  Internationaal Ondernemen                              16656 non-null  float64\n",
      " 32  Lidmaatschap                                           16656 non-null  float64\n",
      " 33  Logistiek en Transport                                 16656 non-null  float64\n",
      " 34  Plato & Bryo                                           16656 non-null  float64\n",
      " 35  Technologie en Innovatie                               16656 non-null  float64\n",
      " 36  Welt                                                   16656 non-null  float64\n",
      "dtypes: float64(13), int32(1), int64(16), object(7)\n",
      "memory usage: 4.6+ MB\n"
     ]
    }
   ],
   "source": [
    "accounts_merged.info()"
   ]
  },
  {
   "cell_type": "code",
   "execution_count": 366,
   "metadata": {},
   "outputs": [
    {
     "name": "stdout",
     "output_type": "stream",
     "text": [
      "<class 'pandas.core.frame.DataFrame'>\n",
      "RangeIndex: 468 entries, 0 to 467\n",
      "Data columns (total 13 columns):\n",
      " #   Column                    Non-Null Count  Dtype  \n",
      "---  ------                    --------------  -----  \n",
      " 0   campagneID                468 non-null    object \n",
      " 1   campagneType              468 non-null    object \n",
      " 2   campagneSoort             468 non-null    object \n",
      " 3   Economie                  468 non-null    float64\n",
      " 4   Logistiek                 468 non-null    float64\n",
      " 5   Netwerking                468 non-null    float64\n",
      " 6   Welt                      468 non-null    float64\n",
      " 7   Duurzaamheid              468 non-null    float64\n",
      " 8   Ondernemen                468 non-null    float64\n",
      " 9   Innovatie en Technologie  468 non-null    float64\n",
      " 10  Bryo                      468 non-null    float64\n",
      " 11  Algemeen                  468 non-null    float64\n",
      " 12  Andere                    468 non-null    float64\n",
      "dtypes: float64(10), object(3)\n",
      "memory usage: 47.7+ KB\n"
     ]
    }
   ],
   "source": [
    "campagnes_merged.info()"
   ]
  },
  {
   "cell_type": "markdown",
   "metadata": {},
   "source": [
    "#### 6. Alles mergen"
   ]
  },
  {
   "cell_type": "code",
   "execution_count": 367,
   "metadata": {},
   "outputs": [
    {
     "data": {
      "text/plain": [
       "(8730, 3)"
      ]
     },
     "execution_count": 367,
     "metadata": {},
     "output_type": "execute_result"
    }
   ],
   "source": [
    "inschrijving_cols = ['campagneID', 'contactID', 'facturatieBedrag']\n",
    "\n",
    "inschrijving_query = create_query('FactInschrijving', inschrijving_cols)\n",
    "df_inschrijving = pd.read_sql(inschrijving_query, conn)\n",
    "\n",
    "df_inschrijving.shape"
   ]
  },
  {
   "cell_type": "code",
   "execution_count": null,
   "metadata": {},
   "outputs": [],
   "source": [
    "int_cols = accounts_merged.select_dtypes(include=['int64', 'int32']).columns\n",
    "accounts_merged[int_cols] = accounts_merged[int_cols].apply(lambda x: np.int8(x))\n",
    "\n",
    "int_cols = campagnes_merged.select_dtypes(include=['int64', 'int32']).columns\n",
    "campagnes_merged[int_cols] = campagnes_merged[int_cols].apply(lambda x: np.int8(x))"
   ]
  },
  {
   "cell_type": "code",
   "execution_count": null,
   "metadata": {},
   "outputs": [],
   "source": [
    "pq.write_table(pa.Table.from_pandas(accounts_merged), 'account_merged.parquet')\n",
    "pq.write_table(pa.Table.from_pandas(campagnes_merged), 'campagnes_merged.parquet')\n",
    "\n",
    "# Read DataFrames back from Parquet files\n",
    "account_merged_parquet = pd.read_parquet('account_merged.parquet')\n",
    "campagnes_merged_parquet = pd.read_parquet('campagnes_merged.parquet')"
   ]
  },
  {
   "cell_type": "code",
   "execution_count": null,
   "metadata": {},
   "outputs": [],
   "source": [
    "merged_total = pd.merge(account_merged_parquet.assign(key=1), campagnes_merged_parquet.assign(key=1), on='key').drop('key', axis=1)\n",
    "merged_total.shape"
   ]
  },
  {
   "cell_type": "code",
   "execution_count": null,
   "metadata": {},
   "outputs": [],
   "source": [
    "# RAM vrijmaken\n",
    "try:\n",
    "    del accounts_merged\n",
    "    del campagnes_merged\n",
    "    del account_merged_parquet\n",
    "    del campagnes_merged_parquet\n",
    "except:\n",
    "    print(\"Data is niet meer beschikbaar / is al verwijderd\")"
   ]
  },
  {
   "cell_type": "code",
   "execution_count": null,
   "metadata": {},
   "outputs": [],
   "source": [
    "def calc_marketing_pressure(df):\n",
    "    marketing_pressure_cols = []\n",
    "    marketing_pressure_cols.append('bron')\n",
    "    marketing_pressure_cols.append('visit_first_visit')\n",
    "    marketing_pressure_cols.append('visit_total_pages')\n",
    "    marketing_pressure_cols.append('mail_click_freq')\n",
    "\n",
    "    df['marketing_pressure'] = df[marketing_pressure_cols].sum(axis=1)\n",
    "    df['marketing_pressure'] = df['marketing_pressure'].astype(int)\n",
    "    df.drop(marketing_pressure_cols, axis=1, inplace=True)\n",
    "\n",
    "    return df"
   ]
  },
  {
   "cell_type": "code",
   "execution_count": null,
   "metadata": {},
   "outputs": [
    {
     "data": {
      "text/plain": [
       "ingeschreven\n",
       "0    19754\n",
       "1        1\n",
       "Name: count, dtype: int64"
      ]
     },
     "execution_count": 165,
     "metadata": {},
     "output_type": "execute_result"
    }
   ],
   "source": [
    "merged_total[\"ingeschreven\"] = 0\n",
    "merged_total[\"marketing_pressure\"] = -1\n",
    "\n",
    "\n",
    "for index, row in merged_total.iterrows():\n",
    "    condition1 = (df_inschrijving['contactID'] == row['contactID']) & (df_inschrijving['campagneID'] == row['campagneID'])\n",
    "    if condition1.any():\n",
    "        merged_total.at[index, 'ingeschreven'] = 1\n",
    "\n",
    "    # Check if the condition is met\n",
    "    condition2 = (df_visit['contactID'] == row['contactID']) & (df_visit['campagneID'] == row['campagneID'])\n",
    "    if condition2.any():\n",
    "        # get the index\n",
    "        visit_index = condition2.first_valid_index()\n",
    "\n",
    "        # calculate the marketing pressure\n",
    "        df_visit_row = calc_marketing_pressure(df_visit.loc[[visit_index]].copy())\n",
    "\n",
    "        # add the marketing pressure to the merged_total \n",
    "        merged_total.at[index, 'marketing_pressure'] = df_visit_row['marketing_pressure'].values[0]\n",
    "\n",
    "merged_total['ingeschreven'] = merged_total['ingeschreven'].apply(lambda x: np.int8(x))"
   ]
  },
  {
   "cell_type": "code",
   "execution_count": null,
   "metadata": {},
   "outputs": [],
   "source": [
    "merged_total = merged_total.drop(['contactID', 'campagneID'], axis=1)"
   ]
  },
  {
   "cell_type": "code",
   "execution_count": null,
   "metadata": {},
   "outputs": [],
   "source": [
    "merged_total = merged_total.drop_duplicates(keep='first')"
   ]
  },
  {
   "cell_type": "markdown",
   "metadata": {},
   "source": [
    "#### 7. Alle samples nemen met inschrijving == 1 en 200k samples nemen met inschrijving == 0"
   ]
  },
  {
   "cell_type": "code",
   "execution_count": null,
   "metadata": {},
   "outputs": [],
   "source": [
    "df_ingeschreven = merged_total[merged_total['ingeschreven'] == 1]\n",
    "df_niet_ingeschreven = merged_total[merged_total['ingeschreven'] == 0].sample(n=(250000 - len(df_ingeschreven)), random_state=42)\n",
    "\n",
    "df = pd.concat([df_ingeschreven, df_niet_ingeschreven])\n",
    "df['ingeschreven'].value_counts()"
   ]
  },
  {
   "cell_type": "code",
   "execution_count": null,
   "metadata": {},
   "outputs": [],
   "source": [
    "# RAM vrijmaken\n",
    "try:\n",
    "    del df_ingeschreven\n",
    "    del df_niet_ingeschreven\n",
    "    del merged_total\n",
    "except:\n",
    "    print(\"Data is niet meer beschikbaar / is al verwijderd\")"
   ]
  },
  {
   "cell_type": "markdown",
   "metadata": {},
   "source": [
    "#### 8. Verdere data cleaning en One/Multi hot encoding"
   ]
  },
  {
   "cell_type": "code",
   "execution_count": null,
   "metadata": {},
   "outputs": [],
   "source": [
    "from sklearn.preprocessing import OneHotEncoder\n",
    "import category_encoders as ce\n",
    "\n",
    "oneHot = OneHotEncoder(sparse=False)"
   ]
  },
  {
   "cell_type": "code",
   "execution_count": null,
   "metadata": {},
   "outputs": [
    {
     "name": "stderr",
     "output_type": "stream",
     "text": [
      "C:\\Users\\marlo\\AppData\\Local\\Packages\\PythonSoftwareFoundation.Python.3.11_qbz5n2kfra8p0\\LocalCache\\local-packages\\Python311\\site-packages\\sklearn\\preprocessing\\_encoders.py:975: FutureWarning: `sparse` was renamed to `sparse_output` in version 1.2 and will be removed in 1.4. `sparse_output` is ignored unless you leave `sparse` to its default value.\n",
      "  warnings.warn(\n"
     ]
    }
   ],
   "source": [
    "# Subregio\n",
    "subregio_1hot = oneHot.fit_transform(df[['subregio']])"
   ]
  },
  {
   "cell_type": "code",
   "execution_count": null,
   "metadata": {},
   "outputs": [],
   "source": [
    "# Ondernemingstype\n",
    "be_ondernemingstype = ce.BinaryEncoder(cols=['ondernemingstype'])\n",
    "encoded_ondernemingstype = be_ondernemingstype.fit_transform(df['ondernemingstype'])\n",
    "df = df.join(encoded_ondernemingstype, rsuffix='_ondernemingstype')"
   ]
  },
  {
   "cell_type": "code",
   "execution_count": null,
   "metadata": {},
   "outputs": [],
   "source": [
    "# Primaire activiteit\n",
    "be_primaire_activiteit = ce.BinaryEncoder(cols=['activiteitNaam'])\n",
    "encoded_primaire_activiteit = be_primaire_activiteit.fit_transform(df['activiteitNaam'])\n",
    "df = df.join(encoded_primaire_activiteit, rsuffix='_activiteitNaam')"
   ]
  },
  {
   "cell_type": "code",
   "execution_count": null,
   "metadata": {},
   "outputs": [],
   "source": [
    "# Ondernemingsaard\n",
    "diensten_column = []\n",
    "productie_column = []\n",
    "\n",
    "for label in df[\"ondernemingsaard\"]:\n",
    "    if label == \"Diensten\":\n",
    "        diensten_column.append(1)\n",
    "        productie_column.append(0)\n",
    "    elif label == \"Productie\":\n",
    "        diensten_column.append(0)\n",
    "        productie_column.append(1)\n",
    "    elif label == \"Productie & Diensten\":\n",
    "        diensten_column.append(1)\n",
    "        productie_column.append(1)\n",
    "    elif label == \"unknown\":\n",
    "        diensten_column.append(0)\n",
    "        productie_column.append(0)\n",
    "\n",
    "ondernemingsaard_multihot = pd.DataFrame({\"Diensten\": diensten_column, \"Productie\": productie_column})\n",
    "df = df.join(ondernemingsaard_multihot, rsuffix='_ondernemingsaard')"
   ]
  },
  {
   "cell_type": "code",
   "execution_count": null,
   "metadata": {},
   "outputs": [
    {
     "name": "stderr",
     "output_type": "stream",
     "text": [
      "C:\\Users\\marlo\\AppData\\Local\\Packages\\PythonSoftwareFoundation.Python.3.11_qbz5n2kfra8p0\\LocalCache\\local-packages\\Python311\\site-packages\\sklearn\\preprocessing\\_encoders.py:975: FutureWarning: `sparse` was renamed to `sparse_output` in version 1.2 and will be removed in 1.4. `sparse_output` is ignored unless you leave `sparse` to its default value.\n",
      "  warnings.warn(\n"
     ]
    }
   ],
   "source": [
    "# Functie_naam\n",
    "def transform_role(role):\n",
    "    if \"Verantwoordelijke\" in role:\n",
    "        return \"Verantwoordelijke\"\n",
    "    elif \"Medewerker\" in role:\n",
    "        return \"Medewerker\"\n",
    "    else:\n",
    "        return role\n",
    "\n",
    "df['functietitel'] = df['functietitel'].apply(transform_role)\n",
    "functie_1hot = oneHot.fit_transform(df[['functietitel']])"
   ]
  },
  {
   "cell_type": "code",
   "execution_count": null,
   "metadata": {},
   "outputs": [],
   "source": [
    "# Campagne soort\n",
    "online_column = []\n",
    "offline_column = []\n",
    "\n",
    "for label in df[\"campagneSoort\"]:\n",
    "    if label == \"Offline\":\n",
    "        online_column.append(0)\n",
    "        offline_column.append(1)\n",
    "    elif label == \"Online\":\n",
    "        online_column.append(1)\n",
    "        offline_column.append(0)\n",
    "    elif label == \"On en Offline\":\n",
    "        online_column.append(1)\n",
    "        offline_column.append(1)\n",
    "    else:\n",
    "        online_column.append(0)\n",
    "        offline_column.append(0)\n",
    "\n",
    "campagne_soort_multihot = pd.DataFrame({\"Online\": online_column, \"Offline\": offline_column})\n",
    "df = df.join(campagne_soort_multihot, rsuffix='_campagneSoort')"
   ]
  },
  {
   "cell_type": "code",
   "execution_count": null,
   "metadata": {},
   "outputs": [
    {
     "name": "stderr",
     "output_type": "stream",
     "text": [
      "C:\\Users\\marlo\\AppData\\Local\\Packages\\PythonSoftwareFoundation.Python.3.11_qbz5n2kfra8p0\\LocalCache\\local-packages\\Python311\\site-packages\\sklearn\\preprocessing\\_encoders.py:975: FutureWarning: `sparse` was renamed to `sparse_output` in version 1.2 and will be removed in 1.4. `sparse_output` is ignored unless you leave `sparse` to its default value.\n",
      "  warnings.warn(\n"
     ]
    }
   ],
   "source": [
    "# Campagne type\n",
    "campagne_type_1hot = oneHot.fit_transform(merged_total[['campagneType']])"
   ]
  },
  {
   "cell_type": "code",
   "execution_count": null,
   "metadata": {},
   "outputs": [],
   "source": [
    "df = df.drop(['subregio', 'ondernemingstype', 'activiteitNaam', 'ondernemingsaard', 'functieTitel', 'campagneSoort', 'campagneType'], axis=1)"
   ]
  },
  {
   "cell_type": "code",
   "execution_count": null,
   "metadata": {},
   "outputs": [],
   "source": [
    "# Al de one hot encodings samenvoegen\n",
    "df = df.join(pd.DataFrame(subregio_1hot), rsuffix='_subregio')\n",
    "df = df.join(pd.DataFrame(functie_1hot), rsuffix='_functie')\n",
    "df = df.join(pd.DataFrame(campagne_type_1hot), rsuffix='_campagne_type')"
   ]
  },
  {
   "cell_type": "code",
   "execution_count": null,
   "metadata": {},
   "outputs": [],
   "source": [
    "df = df.fillna(0)"
   ]
  },
  {
   "cell_type": "code",
   "execution_count": null,
   "metadata": {},
   "outputs": [],
   "source": [
    "# int columns\n",
    "int_cols = df.select_dtypes(include=['int64', 'int32']).columns\n",
    "df[int_cols] = df[int_cols].apply(lambda x: np.int8(x))"
   ]
  },
  {
   "cell_type": "code",
   "execution_count": null,
   "metadata": {},
   "outputs": [],
   "source": [
    "# RAM vrijmaken\n",
    "try:\n",
    "    del ondernemingsaard_multihot\n",
    "    del functie_1hot\n",
    "    del campagne_soort_multihot\n",
    "    del campagne_type_1hot\n",
    "except:\n",
    "    print(\"Data is niet meer beschikbaar / is al verwijderd\")\n"
   ]
  },
  {
   "cell_type": "markdown",
   "metadata": {},
   "source": [
    "#### 9. Dataset opslaan"
   ]
  },
  {
   "cell_type": "code",
   "execution_count": null,
   "metadata": {},
   "outputs": [],
   "source": [
    "# Save to csv\n",
    "df.to_csv('../data_clean/AA_Supervised_dataset.csv', index=False)"
   ]
  }
 ],
 "metadata": {
  "kernelspec": {
   "display_name": "Python 3",
   "language": "python",
   "name": "python3"
  },
  "language_info": {
   "codemirror_mode": {
    "name": "ipython",
    "version": 3
   },
   "file_extension": ".py",
   "mimetype": "text/x-python",
   "name": "python",
   "nbconvert_exporter": "python",
   "pygments_lexer": "ipython3",
   "version": "3.11.6"
  }
 },
 "nbformat": 4,
 "nbformat_minor": 2
}
