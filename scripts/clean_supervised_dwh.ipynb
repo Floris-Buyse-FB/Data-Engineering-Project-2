{
 "cells": [
  {
   "cell_type": "code",
   "execution_count": 71,
   "metadata": {},
   "outputs": [],
   "source": [
    "import pandas as pd\n",
    "import pyarrow as pa\n",
    "import pyarrow.parquet as pq\n",
    "import numpy as np\n",
    "import os\n",
    "from dotenv import load_dotenv\n",
    "from sqlalchemy import create_engine"
   ]
  },
  {
   "cell_type": "code",
   "execution_count": 72,
   "metadata": {},
   "outputs": [],
   "source": [
    "ENV_URL = os.path.join(os.getcwd(), '../.env')\n",
    "load_dotenv(ENV_URL)\n",
    "\n",
    "DWH_NAME = os.environ.get('DWH_NAME')\n",
    "SERVER_NAME = os.environ.get('SERVER_NAME')\n",
    "DB_USER = os.environ.get('DB_USER')\n",
    "DB_PASSWORD = os.environ.get('DB_PASSWORD')\n",
    "\n",
    "URL = f'mssql+pymssql://{DB_USER}:{DB_PASSWORD}@{SERVER_NAME}/{DWH_NAME}'\n",
    "URL_LOCAL = f'mssql+pyodbc://{SERVER_NAME}/{DWH_NAME}?trusted_connection=yes&driver=ODBC+Driver+17 for SQL Server'\n",
    "\n",
    "engine = create_engine(URL_LOCAL)\n",
    "conn = engine.connect()"
   ]
  },
  {
   "cell_type": "code",
   "execution_count": 73,
   "metadata": {},
   "outputs": [],
   "source": [
    "def create_query(table_name, columns, condition=None):\n",
    "\n",
    "    query = f\"SELECT \"\n",
    "\n",
    "    for i, column in enumerate(columns):\n",
    "        if i == 0:\n",
    "            query += f\"[{column}]\"\n",
    "        else:\n",
    "            query += f\", [{column}]\"\n",
    "    \n",
    "    query += f\" FROM [{DWH_NAME}].[dbo].[{table_name}]\"\n",
    "    \n",
    "    if condition:\n",
    "        query += f\" WHERE {condition}\"\n",
    "\n",
    "    return query"
   ]
  },
  {
   "cell_type": "markdown",
   "metadata": {},
   "source": [
    "### Eerst gaan we alle datafiles die we nodig hebben mergen tot 1 dataframe"
   ]
  },
  {
   "cell_type": "markdown",
   "metadata": {},
   "source": [
    "#### 1. Alles van Account mergen"
   ]
  },
  {
   "cell_type": "code",
   "execution_count": 74,
   "metadata": {},
   "outputs": [
    {
     "data": {
      "text/plain": [
       "(3211, 5)"
      ]
     },
     "execution_count": 74,
     "metadata": {},
     "output_type": "execute_result"
    }
   ],
   "source": [
    "acc_cols = ['accountID', 'subregio', 'ondernemingstype', 'ondernemingsaard', 'activiteitNaam']\n",
    "# account conditie\n",
    "acc_condition = \"accountStatus = 1 AND provincie = 'Oost-Vlaanderen'\"\n",
    "# create query\n",
    "acc_query = create_query('DimAccount', acc_cols, acc_condition)\n",
    "# read sql\n",
    "df_account = pd.read_sql(acc_query, conn)\n",
    "df_account.shape"
   ]
  },
  {
   "cell_type": "code",
   "execution_count": 75,
   "metadata": {},
   "outputs": [
    {
     "data": {
      "text/plain": [
       "['accountID',\n",
       " 'subregio',\n",
       " 'ondernemingstype',\n",
       " 'ondernemingsaard',\n",
       " 'activiteitNaam']"
      ]
     },
     "execution_count": 75,
     "metadata": {},
     "output_type": "execute_result"
    }
   ],
   "source": [
    "list(df_account.columns)"
   ]
  },
  {
   "cell_type": "markdown",
   "metadata": {},
   "source": [
    "##### Accounts merge met Contactfiches"
   ]
  },
  {
   "cell_type": "code",
   "execution_count": 76,
   "metadata": {},
   "outputs": [
    {
     "data": {
      "text/plain": [
       "(70114, 2)"
      ]
     },
     "execution_count": 76,
     "metadata": {},
     "output_type": "execute_result"
    }
   ],
   "source": [
    "contact_cols = ['contactID', 'accountID']\n",
    "\n",
    "contact_condition = \"contactStatus = 'Actief'\"\n",
    "contact_query = create_query('DimContact', contact_cols, contact_condition)\n",
    "df_contact = pd.read_sql(contact_query, conn)\n",
    "\n",
    "df_contact.shape"
   ]
  },
  {
   "cell_type": "code",
   "execution_count": 77,
   "metadata": {},
   "outputs": [
    {
     "data": {
      "text/plain": [
       "(16537, 6)"
      ]
     },
     "execution_count": 77,
     "metadata": {},
     "output_type": "execute_result"
    }
   ],
   "source": [
    "accounts_merged = pd.merge(df_contact, df_account, on='accountID', how='inner')\n",
    "accounts_merged.shape"
   ]
  },
  {
   "cell_type": "markdown",
   "metadata": {},
   "source": [
    "#### 2. Alles van Afspraken mergen"
   ]
  },
  {
   "cell_type": "code",
   "execution_count": 78,
   "metadata": {},
   "outputs": [],
   "source": [
    "grouping_categories = {\n",
    "    'afspraak_Lidmaatschap': ['Lidmaatschap'],\n",
    "    'afspraak_Welt': ['Welt', 'Welt 2.0', 'Welt 2.0-2023'],\n",
    "    'afspraak_Plato & Bryo': ['Plato', 'Bryo'],\n",
    "    'afspraak_Internationaal Ondernemen': ['Internationaal Ondernemen', 'Internationaal Ondernemen - voor Info en Advies'],\n",
    "    'afspraak_Technologie en Innovatie': ['Digitalisering, IT & Technologie', 'Innovatie', 'Veiligheid & Preventie'],\n",
    "    'afspraak_Groeien en Netwerking': ['Groeien', 'Netwerking', 'Communicatie', 'Starten'],\n",
    "    'afspraak_Duurzaamheid': ['Duurzaam Ondernemen', 'Mobiliteit'],\n",
    "    'afspraak_Familiebedrijfsmanagement': ['Familiebedrijven', 'Opvolging en Overname'],\n",
    "    'afspraak_Arbeidsmarkt': ['Arbeidsmarkt', 'Opleidingen'],\n",
    "    'afspraak_Bedrijfsbeheer': ['Algemeen Management', 'Bestuurlijke organisaties', 'Human Resources', 'Ruimtelijke ordening en Infrastructuur'],\n",
    "    'afspraak_Financieel': ['Financieel', 'Marketing & Sales', 'Aankoop'],\n",
    "    'afspraak_Logistiek en Transport': ['Logistiek en Transport', 'Haven']\n",
    "}\n",
    "\n",
    "def map_thema(thema):\n",
    "    for category, themes in grouping_categories.items():\n",
    "        if thema in themes:\n",
    "            return category\n",
    "    return thema"
   ]
  },
  {
   "cell_type": "code",
   "execution_count": 79,
   "metadata": {},
   "outputs": [
    {
     "data": {
      "text/plain": [
       "(1839, 12)"
      ]
     },
     "execution_count": 79,
     "metadata": {},
     "output_type": "execute_result"
    }
   ],
   "source": [
    "afspraak_cols = ['thema', 'contactID']\n",
    "\n",
    "afspraak_condition = \"contactID is not null\"\n",
    "afspraak_query = create_query('DimAfspraak', afspraak_cols, afspraak_condition)\n",
    "df_afspraak1 = pd.read_sql(afspraak_query, conn)\n",
    "\n",
    "df_afspraak1.drop_duplicates(inplace=True)\n",
    "\n",
    "df_afspraak1['thema'] = df_afspraak1['thema'].apply(map_thema)\n",
    "df_afspraak1 = df_afspraak1.groupby('contactID')['thema'].value_counts().unstack(fill_value=0)\n",
    "\n",
    "df_afspraak1.shape"
   ]
  },
  {
   "cell_type": "code",
   "execution_count": 80,
   "metadata": {},
   "outputs": [
    {
     "data": {
      "text/plain": [
       "(2770, 13)"
      ]
     },
     "execution_count": 80,
     "metadata": {},
     "output_type": "execute_result"
    }
   ],
   "source": [
    "afspraak_cols = ['thema', 'accountID']\n",
    "\n",
    "afspraak_condition = \"accountID is not null\"\n",
    "afspraak_query = create_query('DimAfspraak', afspraak_cols, afspraak_condition)\n",
    "df_afspraak2 = pd.read_sql(afspraak_query, conn)\n",
    "\n",
    "df_afspraak2.drop_duplicates(inplace=True)\n",
    "\n",
    "df_afspraak2['thema'] = df_afspraak2['thema'].apply(map_thema)\n",
    "df_afspraak2 = df_afspraak2.groupby('accountID')['thema'].value_counts().unstack(fill_value=0).apply(lambda x: np.int8(x))\n",
    "\n",
    "df_afspraak2.shape"
   ]
  },
  {
   "cell_type": "markdown",
   "metadata": {},
   "source": [
    "##### Alle afspraken mergen"
   ]
  },
  {
   "cell_type": "code",
   "execution_count": 81,
   "metadata": {},
   "outputs": [
    {
     "name": "stdout",
     "output_type": "stream",
     "text": [
      "<class 'pandas.core.frame.DataFrame'>\n",
      "RangeIndex: 16537 entries, 0 to 16536\n",
      "Data columns (total 19 columns):\n",
      " #   Column                              Non-Null Count  Dtype  \n",
      "---  ------                              --------------  -----  \n",
      " 0   contactID                           16537 non-null  object \n",
      " 1   accountID                           16537 non-null  object \n",
      " 2   subregio                            16537 non-null  object \n",
      " 3   ondernemingstype                    16537 non-null  object \n",
      " 4   ondernemingsaard                    16537 non-null  object \n",
      " 5   activiteitNaam                      16537 non-null  object \n",
      " 6   unknown                             16537 non-null  float64\n",
      " 7   afspraak_Arbeidsmarkt               16537 non-null  float64\n",
      " 8   afspraak_Bedrijfsbeheer             16537 non-null  float64\n",
      " 9   afspraak_Duurzaamheid               16537 non-null  float64\n",
      " 10  afspraak_Familiebedrijfsmanagement  16537 non-null  float64\n",
      " 11  afspraak_Financieel                 16537 non-null  float64\n",
      " 12  afspraak_Groeien en Netwerking      16537 non-null  float64\n",
      " 13  afspraak_Internationaal Ondernemen  16537 non-null  float64\n",
      " 14  afspraak_Lidmaatschap               16537 non-null  float64\n",
      " 15  afspraak_Logistiek en Transport     16537 non-null  float64\n",
      " 16  afspraak_Plato & Bryo               16537 non-null  float64\n",
      " 17  afspraak_Technologie en Innovatie   16537 non-null  float64\n",
      " 18  afspraak_Welt                       16537 non-null  float64\n",
      "dtypes: float64(13), object(6)\n",
      "memory usage: 2.4+ MB\n"
     ]
    }
   ],
   "source": [
    "accounts_merged = accounts_merged.merge(df_afspraak1, on=['contactID'], how='left')\n",
    "accounts_merged = accounts_merged.merge(df_afspraak2, on=['accountID'], how='left')\n",
    "\n",
    "columns_to_merge = ['afspraak_Arbeidsmarkt', 'afspraak_Bedrijfsbeheer', 'afspraak_Duurzaamheid', 'afspraak_Familiebedrijfsmanagement',\n",
    "                    'afspraak_Financieel', 'afspraak_Groeien en Netwerking', 'afspraak_Internationaal Ondernemen',\n",
    "                    'afspraak_Lidmaatschap', 'afspraak_Logistiek en Transport', 'afspraak_Plato & Bryo',\n",
    "                    'afspraak_Technologie en Innovatie', 'afspraak_Welt']\n",
    "\n",
    "for column in columns_to_merge:\n",
    "    accounts_merged[column] = accounts_merged[f'{column}_x'].combine_first(accounts_merged[f'{column}_y'])\n",
    "\n",
    "accounts_merged = accounts_merged.drop(columns=[f'{column}_x' for column in columns_to_merge] + [f'{column}_y' for column in columns_to_merge]).fillna(0)\n",
    "accounts_merged.info()"
   ]
  },
  {
   "cell_type": "markdown",
   "metadata": {},
   "source": [
    "#### 3. Alles van Campagnes mergen"
   ]
  },
  {
   "cell_type": "code",
   "execution_count": 82,
   "metadata": {},
   "outputs": [
    {
     "data": {
      "text/plain": [
       "(4101, 3)"
      ]
     },
     "execution_count": 82,
     "metadata": {},
     "output_type": "execute_result"
    }
   ],
   "source": [
    "campagne_cols = ['campagneID', 'campagneType', 'campagneSoort']\n",
    "\n",
    "campagne_query = create_query('DimCampagne', campagne_cols)\n",
    "df_campagne = pd.read_sql(campagne_query, conn)\n",
    "\n",
    "df_campagne.shape"
   ]
  },
  {
   "cell_type": "code",
   "execution_count": 83,
   "metadata": {},
   "outputs": [
    {
     "data": {
      "text/plain": [
       "(78790, 2)"
      ]
     },
     "execution_count": 83,
     "metadata": {},
     "output_type": "execute_result"
    }
   ],
   "source": [
    "sessie_cols = ['campaignID', 'themaNaam']\n",
    "\n",
    "sessie_query = create_query('DimSessie', sessie_cols)\n",
    "df_sessie = pd.read_sql(sessie_query, conn)\n",
    "\n",
    "df_sessie.shape"
   ]
  },
  {
   "cell_type": "code",
   "execution_count": 84,
   "metadata": {},
   "outputs": [],
   "source": [
    "sessie_themes_grouped = {\n",
    "  'sessie_bryo': ['Bryo'],\n",
    "  'sessie_algemeen': ['Familiebedrijven','Opvolging en Overname','Algemeen Management','Human Resources','Algemeen Management - Intern','Bestuurlijke organisaties'],\n",
    "  'sessie_onderwijs': ['Opleidingen','Persoonlijke vaardigheden','Onderwijs'],\n",
    "  'sessie_logistiek': ['Logistiek en Transport','Haven','Supply Chain','Retail'],\n",
    "  'sessie_welt': ['Welt', 'Welt 2.0', 'Welt 2.0-2023'],\n",
    "  'sessie_ondernemen': ['Starten', 'Internationaal Ondernemen', 'Jong Voka', 'Groeien', 'Stille Kampioenen', 'Samen doorgaan', 'Strategie'],\n",
    "  'sessie_duurzaamheid': ['Energie', 'Duurzaam Ondernemen', 'Milieu', 'Mobiliteit'],\n",
    "  'sessie_lidmaatschap': ['Lidmaatschap'],\n",
    "  'sessie_innovatie en Technologie': ['Innovatie', 'Digitalisering, IT & Technologie'],\n",
    "  'sessie_netwerking': ['Netwerking'],\n",
    "  'sessie_economie': ['Arbeidsmarkt', 'Economie', 'Fiscaal', 'Financieel', 'Marketing & Sales', 'Jobkanaal'],\n",
    "  'sessie_juridisch': ['Bedrijfsjuridisch', 'Juridisch'],\n",
    "  'sessie_veiligheid en communicatie': ['Communicatie', 'Veiligheid & Preventie', 'Welzijn en gezondheidszorg'],\n",
    "  'sessie_andere': ['Plato', 'Ruimtelijke ordening en Infrastructuur', 'Regeringsvorming', 'Industrie', 'Aankoop', 'Privé&Vrije tijd', 'Aantrekkelijke regio', 'Coronavirus', 'unknown']\n",
    "}\n",
    "\n",
    "def map_thema(thema):\n",
    "    for category, themes in sessie_themes_grouped.items():\n",
    "        if thema in themes:\n",
    "            return category\n",
    "    return thema\n",
    "\n",
    "df_sessie['themaNaam'] = df_sessie['themaNaam'].apply(map_thema)"
   ]
  },
  {
   "cell_type": "code",
   "execution_count": 85,
   "metadata": {},
   "outputs": [
    {
     "name": "stdout",
     "output_type": "stream",
     "text": [
      "<class 'pandas.core.frame.DataFrame'>\n",
      "RangeIndex: 78790 entries, 0 to 78789\n",
      "Data columns (total 2 columns):\n",
      " #   Column      Non-Null Count  Dtype \n",
      "---  ------      --------------  ----- \n",
      " 0   campaignID  78790 non-null  object\n",
      " 1   themaNaam   78790 non-null  object\n",
      "dtypes: object(2)\n",
      "memory usage: 1.2+ MB\n"
     ]
    }
   ],
   "source": [
    "df_sessie.info()"
   ]
  },
  {
   "cell_type": "code",
   "execution_count": 86,
   "metadata": {},
   "outputs": [
    {
     "data": {
      "text/html": [
       "<div>\n",
       "<style scoped>\n",
       "    .dataframe tbody tr th:only-of-type {\n",
       "        vertical-align: middle;\n",
       "    }\n",
       "\n",
       "    .dataframe tbody tr th {\n",
       "        vertical-align: top;\n",
       "    }\n",
       "\n",
       "    .dataframe thead th {\n",
       "        text-align: right;\n",
       "    }\n",
       "</style>\n",
       "<table border=\"1\" class=\"dataframe\">\n",
       "  <thead>\n",
       "    <tr style=\"text-align: right;\">\n",
       "      <th></th>\n",
       "      <th>campaignID</th>\n",
       "      <th>themaNaam_list</th>\n",
       "    </tr>\n",
       "  </thead>\n",
       "  <tbody>\n",
       "    <tr>\n",
       "      <th>495</th>\n",
       "      <td>416A235F-F209-E911-80FA-001DD8B72B62</td>\n",
       "      <td>[sessie_ondernemen, sessie_duurzaamheid, sessi...</td>\n",
       "    </tr>\n",
       "    <tr>\n",
       "      <th>1596</th>\n",
       "      <td>CFF2BA02-E99C-EB11-811E-001DD8B72B62</td>\n",
       "      <td>[sessie_ondernemen, sessie_duurzaamheid, sessi...</td>\n",
       "    </tr>\n",
       "    <tr>\n",
       "      <th>1243</th>\n",
       "      <td>A4658A7D-3629-E911-80FB-001DD8B72B62</td>\n",
       "      <td>[sessie_ondernemen, sessie_duurzaamheid, sessi...</td>\n",
       "    </tr>\n",
       "    <tr>\n",
       "      <th>748</th>\n",
       "      <td>61FE6D67-F088-E811-80F3-001DD8B72B61</td>\n",
       "      <td>[sessie_ondernemen, sessie_duurzaamheid, sessi...</td>\n",
       "    </tr>\n",
       "    <tr>\n",
       "      <th>1509</th>\n",
       "      <td>C6D72260-E451-EC11-8C62-000D3ABFCF4A</td>\n",
       "      <td>[sessie_ondernemen, sessie_innovatie en Techno...</td>\n",
       "    </tr>\n",
       "    <tr>\n",
       "      <th>...</th>\n",
       "      <td>...</td>\n",
       "      <td>...</td>\n",
       "    </tr>\n",
       "    <tr>\n",
       "      <th>654</th>\n",
       "      <td>55D5F840-22D7-EA11-8114-001DD8B72B62</td>\n",
       "      <td>[sessie_economie]</td>\n",
       "    </tr>\n",
       "    <tr>\n",
       "      <th>653</th>\n",
       "      <td>55CC339F-1977-E911-80FE-001DD8B72B62</td>\n",
       "      <td>[sessie_ondernemen]</td>\n",
       "    </tr>\n",
       "    <tr>\n",
       "      <th>652</th>\n",
       "      <td>558B3A03-23A2-ED11-AAD1-6045BD895B5A</td>\n",
       "      <td>[sessie_netwerking]</td>\n",
       "    </tr>\n",
       "    <tr>\n",
       "      <th>651</th>\n",
       "      <td>5532580C-870C-EC11-8123-001DD8B72B61</td>\n",
       "      <td>[sessie_netwerking]</td>\n",
       "    </tr>\n",
       "    <tr>\n",
       "      <th>1943</th>\n",
       "      <td>FFF4DF54-9DBB-EA11-8113-001DD8B72B62</td>\n",
       "      <td>[sessie_ondernemen]</td>\n",
       "    </tr>\n",
       "  </tbody>\n",
       "</table>\n",
       "<p>1944 rows × 2 columns</p>\n",
       "</div>"
      ],
      "text/plain": [
       "                                campaignID  \\\n",
       "495   416A235F-F209-E911-80FA-001DD8B72B62   \n",
       "1596  CFF2BA02-E99C-EB11-811E-001DD8B72B62   \n",
       "1243  A4658A7D-3629-E911-80FB-001DD8B72B62   \n",
       "748   61FE6D67-F088-E811-80F3-001DD8B72B61   \n",
       "1509  C6D72260-E451-EC11-8C62-000D3ABFCF4A   \n",
       "...                                    ...   \n",
       "654   55D5F840-22D7-EA11-8114-001DD8B72B62   \n",
       "653   55CC339F-1977-E911-80FE-001DD8B72B62   \n",
       "652   558B3A03-23A2-ED11-AAD1-6045BD895B5A   \n",
       "651   5532580C-870C-EC11-8123-001DD8B72B61   \n",
       "1943  FFF4DF54-9DBB-EA11-8113-001DD8B72B62   \n",
       "\n",
       "                                         themaNaam_list  \n",
       "495   [sessie_ondernemen, sessie_duurzaamheid, sessi...  \n",
       "1596  [sessie_ondernemen, sessie_duurzaamheid, sessi...  \n",
       "1243  [sessie_ondernemen, sessie_duurzaamheid, sessi...  \n",
       "748   [sessie_ondernemen, sessie_duurzaamheid, sessi...  \n",
       "1509  [sessie_ondernemen, sessie_innovatie en Techno...  \n",
       "...                                                 ...  \n",
       "654                                   [sessie_economie]  \n",
       "653                                 [sessie_ondernemen]  \n",
       "652                                 [sessie_netwerking]  \n",
       "651                                 [sessie_netwerking]  \n",
       "1943                                [sessie_ondernemen]  \n",
       "\n",
       "[1944 rows x 2 columns]"
      ]
     },
     "execution_count": 86,
     "metadata": {},
     "output_type": "execute_result"
    }
   ],
   "source": [
    "df_sessie = (df_sessie.assign(themaNaam_list=df_sessie['themaNaam'].str.split(', '))\n",
    "               .explode('themaNaam_list')\n",
    "               .drop_duplicates()\n",
    "               .groupby('campaignID')['themaNaam_list']\n",
    "               .agg(lambda x: list(set(x)))\n",
    "               .reset_index()\n",
    "               .sort_values(by='themaNaam_list', key=lambda x: x.str.len(), ascending=False))\n",
    "df_sessie"
   ]
  },
  {
   "cell_type": "code",
   "execution_count": 87,
   "metadata": {},
   "outputs": [],
   "source": [
    "unique_categories = set(category for row in df_sessie['themaNaam_list'] for category in row)\n",
    "\n",
    "for category in unique_categories:\n",
    "    df_sessie[category] = df_sessie['themaNaam_list'].apply(lambda x: np.int8(category in x))\n",
    "\n",
    "df_sessie.drop('themaNaam_list', axis=1, inplace=True)"
   ]
  },
  {
   "cell_type": "code",
   "execution_count": 88,
   "metadata": {},
   "outputs": [
    {
     "name": "stdout",
     "output_type": "stream",
     "text": [
      "<class 'pandas.core.frame.DataFrame'>\n",
      "RangeIndex: 4101 entries, 0 to 4100\n",
      "Data columns (total 17 columns):\n",
      " #   Column                             Non-Null Count  Dtype  \n",
      "---  ------                             --------------  -----  \n",
      " 0   campagneID                         4101 non-null   object \n",
      " 1   campagneType                       4101 non-null   object \n",
      " 2   campagneSoort                      4101 non-null   object \n",
      " 3   sessie_ondernemen                  4101 non-null   float64\n",
      " 4   sessie_logistiek                   4101 non-null   float64\n",
      " 5   sessie_onderwijs                   4101 non-null   float64\n",
      " 6   sessie_duurzaamheid                4101 non-null   float64\n",
      " 7   sessie_welt                        4101 non-null   float64\n",
      " 8   sessie_lidmaatschap                4101 non-null   float64\n",
      " 9   sessie_innovatie en Technologie    4101 non-null   float64\n",
      " 10  sessie_netwerking                  4101 non-null   float64\n",
      " 11  sessie_algemeen                    4101 non-null   float64\n",
      " 12  sessie_juridisch                   4101 non-null   float64\n",
      " 13  sessie_bryo                        4101 non-null   float64\n",
      " 14  sessie_economie                    4101 non-null   float64\n",
      " 15  sessie_veiligheid en communicatie  4101 non-null   float64\n",
      " 16  sessie_andere                      4101 non-null   float64\n",
      "dtypes: float64(14), object(3)\n",
      "memory usage: 544.8+ KB\n"
     ]
    }
   ],
   "source": [
    "campagnes_merged = pd.merge(df_campagne, df_sessie, left_on='campagneID', right_on='campaignID', how='left').fillna(0)\n",
    "campagnes_merged.drop(['campaignID'], axis=1, inplace=True)\n",
    "campagnes_merged.drop_duplicates(inplace=True)\n",
    "campagnes_merged.info()"
   ]
  },
  {
   "cell_type": "markdown",
   "metadata": {},
   "source": [
    "#### CDI"
   ]
  },
  {
   "cell_type": "code",
   "execution_count": 89,
   "metadata": {},
   "outputs": [
    {
     "name": "stdout",
     "output_type": "stream",
     "text": [
      "<class 'pandas.core.frame.DataFrame'>\n",
      "RangeIndex: 15631 entries, 0 to 15630\n",
      "Data columns (total 6 columns):\n",
      " #   Column             Non-Null Count  Dtype \n",
      "---  ------             --------------  ----- \n",
      " 0   index              15631 non-null  int64 \n",
      " 1   contactID          15631 non-null  object\n",
      " 2   visit_first_visit  15631 non-null  int8  \n",
      " 3   visit_total_pages  15631 non-null  int8  \n",
      " 4   campaignID         15631 non-null  object\n",
      " 5   mail_click_freq    15631 non-null  int8  \n",
      "dtypes: int64(1), int8(3), object(2)\n",
      "memory usage: 412.3+ KB\n"
     ]
    }
   ],
   "source": [
    "visit_cols = ['contactID', 'visit_first_visit', 'visit_total_pages', 'mailSent_clicks', 'mailSent', 'campaignID']\n",
    "\n",
    "visit_query = create_query('DimVisit', visit_cols)\n",
    "df_visit = pd.read_sql(visit_query, conn)\n",
    "\n",
    "df_visit.drop_duplicates(inplace=True)\n",
    "\n",
    "df_visit['visit_first_visit'] = df_visit['visit_first_visit'] \\\n",
    "      .str.replace('Ja', '0').str.replace('Nee', '1') \\\n",
    "      .str.replace('unknown', '-1').astype(int)\n",
    "\n",
    "df_visit['visit_total_pages'] = df_visit['visit_total_pages']\\\n",
    "      .replace('unknown', '-1.0').astype(float)\n",
    "\n",
    "df_visit['aantal_mails'] = df_visit.groupby(\n",
    "    ['contactID'])['mailSent'].transform('nunique')\n",
    "\n",
    "df_visit['clicks_total'] = df_visit.groupby(\n",
    "    ['contactID'])['mailSent_clicks'].transform('sum')\n",
    "\n",
    "df_visit['visit_total_pages'] = df_visit.groupby(\n",
    "    ['contactID'])['visit_total_pages'].transform('sum').astype(int)\n",
    "\n",
    "df_visit['visit_first_visit'] = df_visit.groupby(\n",
    "    ['contactID'])['visit_first_visit'].transform('sum').astype(int)\n",
    "\n",
    "df_visit['mail_click_freq'] = np.round(df_visit['clicks_total'] / df_visit['aantal_mails'], 0)\n",
    "df_visit['mail_click_freq'] = df_visit['mail_click_freq'].fillna(-1).astype(int)\n",
    "\n",
    "df_visit.drop(['mailSent', 'mailSent_clicks', 'clicks_total', 'aantal_mails'], axis=1, inplace=True)\n",
    "df_visit.drop_duplicates(inplace=True)\n",
    "\n",
    "int_cols = df_visit.select_dtypes(include=['int64', 'int32']).columns\n",
    "df_visit[int_cols] = df_visit[int_cols].astype('int8')\n",
    "\n",
    "df_visit.reset_index(inplace=True)\n",
    "df_visit.drop_duplicates(inplace=True)\n",
    "df_visit.info()"
   ]
  },
  {
   "cell_type": "markdown",
   "metadata": {},
   "source": [
    "#### 5. Cleaning voor de grote merge"
   ]
  },
  {
   "cell_type": "code",
   "execution_count": 90,
   "metadata": {},
   "outputs": [],
   "source": [
    "accounts_merged = accounts_merged.drop(['accountID'], axis=1)"
   ]
  },
  {
   "cell_type": "code",
   "execution_count": 91,
   "metadata": {},
   "outputs": [],
   "source": [
    "# Drop duplicates\n",
    "accounts_merged = accounts_merged.drop_duplicates(keep='first')\n",
    "campagnes_merged = campagnes_merged.drop_duplicates(keep='first')"
   ]
  },
  {
   "cell_type": "code",
   "execution_count": 92,
   "metadata": {},
   "outputs": [],
   "source": [
    "numeric_cols = accounts_merged.select_dtypes(include=np.number).columns\n",
    "accounts_merged[numeric_cols] = accounts_merged[numeric_cols].astype('int8')\n",
    "\n",
    "numeric_cols = campagnes_merged.select_dtypes(include=np.number).columns\n",
    "campagnes_merged[numeric_cols] = campagnes_merged[numeric_cols].astype('int8')"
   ]
  },
  {
   "cell_type": "code",
   "execution_count": 93,
   "metadata": {},
   "outputs": [
    {
     "name": "stdout",
     "output_type": "stream",
     "text": [
      "<class 'pandas.core.frame.DataFrame'>\n",
      "RangeIndex: 16537 entries, 0 to 16536\n",
      "Data columns (total 18 columns):\n",
      " #   Column                              Non-Null Count  Dtype \n",
      "---  ------                              --------------  ----- \n",
      " 0   contactID                           16537 non-null  object\n",
      " 1   subregio                            16537 non-null  object\n",
      " 2   ondernemingstype                    16537 non-null  object\n",
      " 3   ondernemingsaard                    16537 non-null  object\n",
      " 4   activiteitNaam                      16537 non-null  object\n",
      " 5   unknown                             16537 non-null  int8  \n",
      " 6   afspraak_Arbeidsmarkt               16537 non-null  int8  \n",
      " 7   afspraak_Bedrijfsbeheer             16537 non-null  int8  \n",
      " 8   afspraak_Duurzaamheid               16537 non-null  int8  \n",
      " 9   afspraak_Familiebedrijfsmanagement  16537 non-null  int8  \n",
      " 10  afspraak_Financieel                 16537 non-null  int8  \n",
      " 11  afspraak_Groeien en Netwerking      16537 non-null  int8  \n",
      " 12  afspraak_Internationaal Ondernemen  16537 non-null  int8  \n",
      " 13  afspraak_Lidmaatschap               16537 non-null  int8  \n",
      " 14  afspraak_Logistiek en Transport     16537 non-null  int8  \n",
      " 15  afspraak_Plato & Bryo               16537 non-null  int8  \n",
      " 16  afspraak_Technologie en Innovatie   16537 non-null  int8  \n",
      " 17  afspraak_Welt                       16537 non-null  int8  \n",
      "dtypes: int8(13), object(5)\n",
      "memory usage: 856.0+ KB\n"
     ]
    }
   ],
   "source": [
    "accounts_merged.info()"
   ]
  },
  {
   "cell_type": "code",
   "execution_count": 94,
   "metadata": {},
   "outputs": [
    {
     "data": {
      "text/plain": [
       "activiteitNaam\n",
       "Overige industrie & diensten                     6434\n",
       "Voeding                                          1939\n",
       "Ijzer en staal                                   1595\n",
       "Chemie, petrochemie                              1427\n",
       "Distributie, logistiek en transport              1055\n",
       "Telecom & IT                                      905\n",
       "Papier & karton                                   510\n",
       "Human capital                                     472\n",
       "Energie                                           364\n",
       "Zorg                                              271\n",
       "Consultancy                                       259\n",
       "Technologische industrie & diensten               178\n",
       "Groothandel                                       174\n",
       "Bouw                                              144\n",
       "Automobiel- en Tweewielerindustrie                132\n",
       "Financiële diensten                                94\n",
       "Detailhandel                                       86\n",
       "Textiel, kleding en confectie                      76\n",
       "Grafische industrie en diensten                    60\n",
       "Overheid                                           54\n",
       "Onderwijs                                          50\n",
       "Horeca & toerisme                                  47\n",
       "Vastgoed                                           34\n",
       "Hout- en meubelindustrie                           31\n",
       "Verenigingen en maatschappelijke organisaties      25\n",
       "Milieu                                             24\n",
       "Luchthavengerelateerd                              22\n",
       "Agrarische & bio-industrie                         19\n",
       "Verzekering                                        16\n",
       "Accountancy & boekhouding                          14\n",
       "Vrije beroepen                                     12\n",
       "Media                                              10\n",
       "Havengerelateerd                                    3\n",
       "Farmacie                                            1\n",
       "Name: count, dtype: int64"
      ]
     },
     "execution_count": 94,
     "metadata": {},
     "output_type": "execute_result"
    }
   ],
   "source": [
    "accounts_merged['activiteitNaam'].value_counts()"
   ]
  },
  {
   "cell_type": "code",
   "execution_count": 95,
   "metadata": {},
   "outputs": [
    {
     "name": "stdout",
     "output_type": "stream",
     "text": [
      "<class 'pandas.core.frame.DataFrame'>\n",
      "RangeIndex: 4101 entries, 0 to 4100\n",
      "Data columns (total 17 columns):\n",
      " #   Column                             Non-Null Count  Dtype \n",
      "---  ------                             --------------  ----- \n",
      " 0   campagneID                         4101 non-null   object\n",
      " 1   campagneType                       4101 non-null   object\n",
      " 2   campagneSoort                      4101 non-null   object\n",
      " 3   sessie_ondernemen                  4101 non-null   int8  \n",
      " 4   sessie_logistiek                   4101 non-null   int8  \n",
      " 5   sessie_onderwijs                   4101 non-null   int8  \n",
      " 6   sessie_duurzaamheid                4101 non-null   int8  \n",
      " 7   sessie_welt                        4101 non-null   int8  \n",
      " 8   sessie_lidmaatschap                4101 non-null   int8  \n",
      " 9   sessie_innovatie en Technologie    4101 non-null   int8  \n",
      " 10  sessie_netwerking                  4101 non-null   int8  \n",
      " 11  sessie_algemeen                    4101 non-null   int8  \n",
      " 12  sessie_juridisch                   4101 non-null   int8  \n",
      " 13  sessie_bryo                        4101 non-null   int8  \n",
      " 14  sessie_economie                    4101 non-null   int8  \n",
      " 15  sessie_veiligheid en communicatie  4101 non-null   int8  \n",
      " 16  sessie_andere                      4101 non-null   int8  \n",
      "dtypes: int8(14), object(3)\n",
      "memory usage: 152.3+ KB\n"
     ]
    }
   ],
   "source": [
    "campagnes_merged.info()"
   ]
  },
  {
   "cell_type": "markdown",
   "metadata": {},
   "source": [
    "#### 6. Alles mergen"
   ]
  },
  {
   "cell_type": "code",
   "execution_count": 96,
   "metadata": {},
   "outputs": [
    {
     "data": {
      "text/plain": [
       "(78790, 3)"
      ]
     },
     "execution_count": 96,
     "metadata": {},
     "output_type": "execute_result"
    }
   ],
   "source": [
    "inschrijving_cols = ['campagneID', 'contactID', 'facturatieBedrag']\n",
    "\n",
    "inschrijving_query = create_query('FactInschrijving', inschrijving_cols)\n",
    "df_inschrijving = pd.read_sql(inschrijving_query, conn)\n",
    "\n",
    "df_inschrijving.shape"
   ]
  },
  {
   "cell_type": "code",
   "execution_count": 97,
   "metadata": {},
   "outputs": [],
   "source": [
    "int_cols = accounts_merged.select_dtypes(include=['int64', 'int32']).columns\n",
    "accounts_merged[int_cols] = accounts_merged[int_cols].apply(lambda x: np.int8(x))\n",
    "\n",
    "int_cols = campagnes_merged.select_dtypes(include=['int64', 'int32']).columns\n",
    "campagnes_merged[int_cols] = campagnes_merged[int_cols].apply(lambda x: np.int8(x))"
   ]
  },
  {
   "cell_type": "code",
   "execution_count": 98,
   "metadata": {},
   "outputs": [],
   "source": [
    "pq.write_table(pa.Table.from_pandas(accounts_merged), 'account_merged.parquet')\n",
    "pq.write_table(pa.Table.from_pandas(campagnes_merged), 'campagnes_merged.parquet')\n",
    "\n",
    "# Read DataFrames back from Parquet files\n",
    "account_merged_parquet = pd.read_parquet('account_merged.parquet')\n",
    "campagnes_merged_parquet = pd.read_parquet('campagnes_merged.parquet')"
   ]
  },
  {
   "cell_type": "code",
   "execution_count": 99,
   "metadata": {},
   "outputs": [
    {
     "data": {
      "text/plain": [
       "(67818237, 35)"
      ]
     },
     "execution_count": 99,
     "metadata": {},
     "output_type": "execute_result"
    }
   ],
   "source": [
    "merged_total = pd.merge(account_merged_parquet.assign(key=1), campagnes_merged_parquet.assign(key=1), on='key').drop('key', axis=1)\n",
    "merged_total.shape"
   ]
  },
  {
   "cell_type": "code",
   "execution_count": 100,
   "metadata": {},
   "outputs": [],
   "source": [
    "# RAM vrijmaken\n",
    "try:\n",
    "    del accounts_merged\n",
    "    del campagnes_merged\n",
    "    del account_merged_parquet\n",
    "    del campagnes_merged_parquet\n",
    "except:\n",
    "    print(\"Data is niet meer beschikbaar / is al verwijderd\")"
   ]
  },
  {
   "cell_type": "code",
   "execution_count": 101,
   "metadata": {},
   "outputs": [],
   "source": [
    "merged_total = merged_total.drop_duplicates(keep='first')"
   ]
  },
  {
   "cell_type": "code",
   "execution_count": 102,
   "metadata": {},
   "outputs": [],
   "source": [
    "def calc_marketing_pressure(row):\n",
    "    marketing_pressure_cols = ['visit_first_visit', 'visit_total_pages', 'mail_click_freq']\n",
    "    return int(row[marketing_pressure_cols].sum())"
   ]
  },
  {
   "cell_type": "code",
   "execution_count": 103,
   "metadata": {},
   "outputs": [],
   "source": [
    "df_inschrijving['ingeschreven'] = 1\n",
    "merged_total = merged_total.merge(df_inschrijving[['contactID', 'campagneID', 'ingeschreven']], on=['contactID', 'campagneID'], how='left')\n",
    "merged_total['ingeschreven'] = merged_total['ingeschreven'].fillna(0).apply(lambda x: np.int8(x))"
   ]
  },
  {
   "cell_type": "code",
   "execution_count": 104,
   "metadata": {},
   "outputs": [],
   "source": [
    "# RAM vrijmaken\n",
    "try:\n",
    "    del df_inschrijving\n",
    "except:\n",
    "    print(\"Data is niet meer beschikbaar / is al verwijderd\")"
   ]
  },
  {
   "cell_type": "code",
   "execution_count": 105,
   "metadata": {},
   "outputs": [],
   "source": [
    "df_visit['marketing_pressure'] = df_visit.apply(calc_marketing_pressure, axis=1)\n",
    "merged_total = pd.merge(merged_total, df_visit[['contactID', 'campaignID', 'marketing_pressure']], \n",
    "                        left_on=['contactID', 'campagneID'], right_on=['contactID', 'campaignID'], how='left')\n",
    "merged_total['marketing_pressure'] = merged_total['marketing_pressure'].fillna(-1).apply(lambda x: np.int8(x))"
   ]
  },
  {
   "cell_type": "code",
   "execution_count": 106,
   "metadata": {},
   "outputs": [],
   "source": [
    "merged_total = merged_total.drop(['contactID', 'campagneID', 'campaignID'], axis=1)"
   ]
  },
  {
   "cell_type": "code",
   "execution_count": 107,
   "metadata": {},
   "outputs": [
    {
     "data": {
      "text/plain": [
       "(67830255, 35)"
      ]
     },
     "execution_count": 107,
     "metadata": {},
     "output_type": "execute_result"
    }
   ],
   "source": [
    "merged_total.shape"
   ]
  },
  {
   "cell_type": "code",
   "execution_count": 108,
   "metadata": {},
   "outputs": [
    {
     "data": {
      "text/plain": [
       "ingeschreven\n",
       "0    67804274\n",
       "1       25981\n",
       "Name: count, dtype: int64"
      ]
     },
     "execution_count": 108,
     "metadata": {},
     "output_type": "execute_result"
    }
   ],
   "source": [
    "merged_total['ingeschreven'].value_counts()"
   ]
  },
  {
   "cell_type": "code",
   "execution_count": 109,
   "metadata": {},
   "outputs": [],
   "source": [
    "# RAM vrijmaken\n",
    "try:\n",
    "    del df_visit\n",
    "except:\n",
    "    print(\"Data is niet meer beschikbaar / is al verwijderd\")"
   ]
  },
  {
   "cell_type": "markdown",
   "metadata": {},
   "source": [
    "#### 7. Alle samples nemen met inschrijving == 1 en 300k samples nemen met inschrijving == 0"
   ]
  },
  {
   "cell_type": "code",
   "execution_count": 110,
   "metadata": {},
   "outputs": [
    {
     "data": {
      "text/plain": [
       "ingeschreven\n",
       "0    274019\n",
       "1     25981\n",
       "Name: count, dtype: int64"
      ]
     },
     "execution_count": 110,
     "metadata": {},
     "output_type": "execute_result"
    }
   ],
   "source": [
    "df_ingeschreven = merged_total[merged_total['ingeschreven'] == 1]\n",
    "df_niet_ingeschreven = merged_total[merged_total['ingeschreven'] == 0].sample(n=(300000 - len(df_ingeschreven)), random_state=42)\n",
    "\n",
    "df = pd.concat([df_ingeschreven, df_niet_ingeschreven])\n",
    "df['ingeschreven'].value_counts()"
   ]
  },
  {
   "cell_type": "code",
   "execution_count": 111,
   "metadata": {},
   "outputs": [],
   "source": [
    "df_vault = df.copy()"
   ]
  },
  {
   "cell_type": "code",
   "execution_count": 112,
   "metadata": {},
   "outputs": [
    {
     "name": "stdout",
     "output_type": "stream",
     "text": [
      "<class 'pandas.core.frame.DataFrame'>\n",
      "Index: 300000 entries, 7183 to 52768101\n",
      "Data columns (total 35 columns):\n",
      " #   Column                              Non-Null Count   Dtype \n",
      "---  ------                              --------------   ----- \n",
      " 0   subregio                            300000 non-null  object\n",
      " 1   ondernemingstype                    300000 non-null  object\n",
      " 2   ondernemingsaard                    300000 non-null  object\n",
      " 3   activiteitNaam                      300000 non-null  object\n",
      " 4   unknown                             300000 non-null  int8  \n",
      " 5   afspraak_Arbeidsmarkt               300000 non-null  int8  \n",
      " 6   afspraak_Bedrijfsbeheer             300000 non-null  int8  \n",
      " 7   afspraak_Duurzaamheid               300000 non-null  int8  \n",
      " 8   afspraak_Familiebedrijfsmanagement  300000 non-null  int8  \n",
      " 9   afspraak_Financieel                 300000 non-null  int8  \n",
      " 10  afspraak_Groeien en Netwerking      300000 non-null  int8  \n",
      " 11  afspraak_Internationaal Ondernemen  300000 non-null  int8  \n",
      " 12  afspraak_Lidmaatschap               300000 non-null  int8  \n",
      " 13  afspraak_Logistiek en Transport     300000 non-null  int8  \n",
      " 14  afspraak_Plato & Bryo               300000 non-null  int8  \n",
      " 15  afspraak_Technologie en Innovatie   300000 non-null  int8  \n",
      " 16  afspraak_Welt                       300000 non-null  int8  \n",
      " 17  campagneType                        300000 non-null  object\n",
      " 18  campagneSoort                       300000 non-null  object\n",
      " 19  sessie_ondernemen                   300000 non-null  int8  \n",
      " 20  sessie_logistiek                    300000 non-null  int8  \n",
      " 21  sessie_onderwijs                    300000 non-null  int8  \n",
      " 22  sessie_duurzaamheid                 300000 non-null  int8  \n",
      " 23  sessie_welt                         300000 non-null  int8  \n",
      " 24  sessie_lidmaatschap                 300000 non-null  int8  \n",
      " 25  sessie_innovatie en Technologie     300000 non-null  int8  \n",
      " 26  sessie_netwerking                   300000 non-null  int8  \n",
      " 27  sessie_algemeen                     300000 non-null  int8  \n",
      " 28  sessie_juridisch                    300000 non-null  int8  \n",
      " 29  sessie_bryo                         300000 non-null  int8  \n",
      " 30  sessie_economie                     300000 non-null  int8  \n",
      " 31  sessie_veiligheid en communicatie   300000 non-null  int8  \n",
      " 32  sessie_andere                       300000 non-null  int8  \n",
      " 33  ingeschreven                        300000 non-null  int8  \n",
      " 34  marketing_pressure                  300000 non-null  int8  \n",
      "dtypes: int8(29), object(6)\n",
      "memory usage: 24.3+ MB\n"
     ]
    }
   ],
   "source": [
    "df.info()"
   ]
  },
  {
   "cell_type": "code",
   "execution_count": 113,
   "metadata": {},
   "outputs": [],
   "source": [
    "# RAM vrijmaken\n",
    "try:\n",
    "    del df_ingeschreven\n",
    "    del merged_total\n",
    "    del df_niet_ingeschreven\n",
    "except:\n",
    "    print(\"Data is niet meer beschikbaar / is al verwijderd\")"
   ]
  },
  {
   "cell_type": "markdown",
   "metadata": {},
   "source": [
    "#### 8. Verdere data cleaning en One/Multi hot encoding"
   ]
  },
  {
   "cell_type": "code",
   "execution_count": 114,
   "metadata": {},
   "outputs": [],
   "source": [
    "# import pandas as pd\n",
    "\n",
    "# df = pd.read_csv('../data_clean/AA_Supervised_dataset.csv')\n",
    "# df.shape"
   ]
  },
  {
   "cell_type": "code",
   "execution_count": 115,
   "metadata": {},
   "outputs": [],
   "source": [
    "from sklearn.preprocessing import OneHotEncoder\n",
    "\n",
    "\n",
    "subregio_cat = ['Gent', 'Leiestreek-Meetjesland', 'Dendermonde', 'Aalst', 'Oudenaarde', 'Waasland']\n",
    "campagnetype_cat = ['Project', 'Projectgebonden', 'Campagne', 'Opleiding', 'Netwerkevenement', 'Infosessie']\n",
    "\n",
    "oneHot_subregio = OneHotEncoder(sparse=False, categories=[subregio_cat])\n",
    "oneHot_campagnetype = OneHotEncoder(sparse=False, categories=[campagnetype_cat])"
   ]
  },
  {
   "cell_type": "code",
   "execution_count": 116,
   "metadata": {},
   "outputs": [
    {
     "name": "stderr",
     "output_type": "stream",
     "text": [
      "c:\\Users\\marlo\\OneDrive\\Documents\\HOGent\\23-24\\Semester-1\\DEP2\\Data-Engineering-Project-2\\.venv\\Lib\\site-packages\\sklearn\\preprocessing\\_encoders.py:975: FutureWarning: `sparse` was renamed to `sparse_output` in version 1.2 and will be removed in 1.4. `sparse_output` is ignored unless you leave `sparse` to its default value.\n",
      "  warnings.warn(\n"
     ]
    }
   ],
   "source": [
    "# Subregio\n",
    "subregio_1hot = oneHot_subregio.fit_transform(df[['subregio']])"
   ]
  },
  {
   "cell_type": "code",
   "execution_count": 117,
   "metadata": {},
   "outputs": [],
   "source": [
    "# Ondernemingstype\n",
    "ondernemingstype_categories = [\n",
    " {'categorie': 'unknown', 'binary': None},\n",
    " {'categorie': 'Beroepsorganisatie', 'binary': None},\n",
    " {'categorie': 'Vakbonden', 'binary': None},\n",
    " {'categorie': 'Eenmanszaak', 'binary': None},\n",
    " {'categorie': 'Multinational', 'binary': None},\n",
    " {'categorie': 'Sociale organisatie', 'binary': None},\n",
    " {'categorie': 'Werkgeversorganisaties', 'binary': None},\n",
    " {'categorie': 'Pers/Media', 'binary': None},\n",
    " {'categorie': 'Overheid', 'binary': None},\n",
    " {'categorie': 'Onderwijs', 'binary': None},\n",
    " {'categorie': 'Social Profit', 'binary': None},\n",
    " {'categorie': 'Vrije beroepen', 'binary': None},\n",
    " {'categorie': 'Familiebedrijf', 'binary': None},\n",
    " {'categorie': 'Bedrijf', 'binary': None}\n",
    "]\n",
    "\n",
    "for i, categorie in enumerate(ondernemingstype_categories):\n",
    "  categorie['binary'] = str(bin(i)[2:].zfill(4))\n",
    "\n",
    "category_to_binary = {categorie['categorie']: categorie['binary'] for categorie in ondernemingstype_categories}\n",
    "df['ondernemingstype'] = df['ondernemingstype'].map(category_to_binary)\n",
    "\n",
    "for i in range(1, 5):\n",
    "    df[f'ondernemingstype_{i}'] = df['ondernemingstype'].apply(lambda x: int(str(x)[i-1]))"
   ]
  },
  {
   "cell_type": "code",
   "execution_count": 118,
   "metadata": {},
   "outputs": [],
   "source": [
    "# Primaire activiteit\n",
    "activiteitNaam_categories = [\n",
    "  {'categorie': 'Luchthavengerelateerd', 'binary': None},\n",
    "  {'categorie': 'Farmacie', 'binary': None},\n",
    "  {'categorie': 'Diamant, edelstenen, juwelen', 'binary': None},\n",
    "  {'categorie': 'Havengerelateerd', 'binary': None},\n",
    "  {'categorie': 'Media', 'binary': None},\n",
    "  {'categorie': 'Overheid', 'binary': None},\n",
    "  {'categorie': 'Verenigingen en maatschappelijke organisaties', 'binary': None},\n",
    "  {'categorie': 'Onderwijs', 'binary': None},\n",
    "  {'categorie': 'Milieu', 'binary': None},\n",
    "  {'categorie': 'Vrije beroepen', 'binary': None},\n",
    "  {'categorie': 'Agrarische & bio-industrie', 'binary': None},\n",
    "  {'categorie': 'Hout- en meubelindustrie', 'binary': None},\n",
    "  {'categorie': 'Accountancy & boekhouding', 'binary': None},\n",
    "  {'categorie': 'Vastgoed', 'binary': None},\n",
    "  {'categorie': 'Verzekering', 'binary': None},\n",
    "  {'categorie': 'Financiële diensten', 'binary': None},\n",
    "  {'categorie': 'Grafische industrie en diensten', 'binary': None},\n",
    "  {'categorie': 'Automobiel- en Tweewielerindustrie', 'binary': None},\n",
    "  {'categorie': 'Textiel, kleding en confectie', 'binary': None},\n",
    "  {'categorie': 'Horeca & toerisme', 'binary': None},\n",
    "  {'categorie': 'Technologische industrie & diensten', 'binary': None},\n",
    "  {'categorie': 'Zorg', 'binary': None},\n",
    "  {'categorie': 'Detailhandel', 'binary': None},\n",
    "  {'categorie': 'Groothandel', 'binary': None},\n",
    "  {'categorie': 'Bouw', 'binary': None},\n",
    "  {'categorie': 'Energie', 'binary': None},\n",
    "  {'categorie': 'Consultancy', 'binary': None},\n",
    "  {'categorie': 'Papier & karton', 'binary': None},\n",
    "  {'categorie': 'Human capital', 'binary': None},\n",
    "  {'categorie': 'Chemie, petrochemie', 'binary': None},\n",
    "  {'categorie': 'Distributie, logistiek en transport', 'binary': None},\n",
    "  {'categorie': 'Telecom & IT', 'binary': None},\n",
    "  {'categorie': 'Ijzer en staal', 'binary': None},\n",
    "  {'categorie': 'Voeding', 'binary': None},\n",
    "  {'categorie': 'Overige industrie & diensten', 'binary': None}\n",
    "]\n",
    "\n",
    "for i, categorie in enumerate(activiteitNaam_categories):\n",
    "    categorie['binary'] = str(bin(i)[2:].zfill(6))\n",
    "\n",
    "category_to_binary = {categorie['categorie']: categorie['binary'] for categorie in activiteitNaam_categories}\n",
    "df['activiteitNaam'] = df['activiteitNaam'].map(category_to_binary)\n",
    "\n",
    "for i in range(1, 7):\n",
    "    df[f'activiteitNaam_{i}'] = df['activiteitNaam'].apply(lambda x: int(str(x)[i-1]))"
   ]
  },
  {
   "cell_type": "code",
   "execution_count": 119,
   "metadata": {},
   "outputs": [],
   "source": [
    "# Ondernemingsaard\n",
    "diensten_column = []\n",
    "productie_column = []\n",
    "\n",
    "for label in df[\"ondernemingsaard\"]:\n",
    "    if label == \"Productie & Diensten\":\n",
    "        diensten_column.append(1)\n",
    "        productie_column.append(1)\n",
    "    elif label == \"Diensten\":\n",
    "        diensten_column.append(1)\n",
    "        productie_column.append(0)\n",
    "    elif label == \"Productie\":\n",
    "        diensten_column.append(0)\n",
    "        productie_column.append(1)\n",
    "    else:\n",
    "        diensten_column.append(0)\n",
    "        productie_column.append(0)\n",
    "\n",
    "ondernemingsaard_multihot = pd.DataFrame({\"Diensten\": diensten_column, \"Productie\": productie_column})\n",
    "df = df.join(ondernemingsaard_multihot, rsuffix='_ondernemingsaard')"
   ]
  },
  {
   "cell_type": "code",
   "execution_count": 120,
   "metadata": {},
   "outputs": [],
   "source": [
    "# Campagne soort\n",
    "online_column = []\n",
    "offline_column = []\n",
    "\n",
    "for label in df[\"campagneSoort\"]:\n",
    "    if label == \"On en Offline\":\n",
    "        online_column.append(1)\n",
    "        offline_column.append(1)\n",
    "    elif label == \"Offline\":\n",
    "        online_column.append(0)\n",
    "        offline_column.append(1)\n",
    "    elif label == \"Online\":\n",
    "        online_column.append(1)\n",
    "        offline_column.append(0)\n",
    "    else:\n",
    "        online_column.append(0)\n",
    "        offline_column.append(1)\n",
    "\n",
    "campagne_soort_multihot = pd.DataFrame({\"Online\": online_column, \"Offline\": offline_column})"
   ]
  },
  {
   "cell_type": "code",
   "execution_count": 121,
   "metadata": {},
   "outputs": [
    {
     "name": "stderr",
     "output_type": "stream",
     "text": [
      "c:\\Users\\marlo\\OneDrive\\Documents\\HOGent\\23-24\\Semester-1\\DEP2\\Data-Engineering-Project-2\\.venv\\Lib\\site-packages\\sklearn\\preprocessing\\_encoders.py:975: FutureWarning: `sparse` was renamed to `sparse_output` in version 1.2 and will be removed in 1.4. `sparse_output` is ignored unless you leave `sparse` to its default value.\n",
      "  warnings.warn(\n"
     ]
    }
   ],
   "source": [
    "# Campagne type\n",
    "campagne_type_1hot = oneHot_campagnetype.fit_transform(df[['campagneType']])"
   ]
  },
  {
   "cell_type": "code",
   "execution_count": 122,
   "metadata": {},
   "outputs": [],
   "source": [
    "df = df.drop(['subregio', 'ondernemingstype', 'activiteitNaam', 'ondernemingsaard', 'campagneSoort', 'campagneType', 'unknown'], axis=1)"
   ]
  },
  {
   "cell_type": "code",
   "execution_count": 123,
   "metadata": {},
   "outputs": [],
   "source": [
    "# Al de one hot encodings samenvoegen\n",
    "df = df.join(pd.DataFrame(subregio_1hot), rsuffix='_subregio')\n",
    "df = df.join(pd.DataFrame(campagne_type_1hot), rsuffix='_campagne_type')\n",
    "df = df.join(campagne_soort_multihot, rsuffix='_campagneSoort')"
   ]
  },
  {
   "cell_type": "code",
   "execution_count": 124,
   "metadata": {},
   "outputs": [],
   "source": [
    "# RAM vrijmaken\n",
    "try:\n",
    "    del ondernemingsaard_multihot\n",
    "    del campagne_soort_multihot\n",
    "    del campagne_type_1hot\n",
    "except:\n",
    "    print(\"Data is niet meer beschikbaar / is al verwijderd\")\n"
   ]
  },
  {
   "cell_type": "code",
   "execution_count": 127,
   "metadata": {},
   "outputs": [
    {
     "name": "stdout",
     "output_type": "stream",
     "text": [
      "<class 'pandas.core.frame.DataFrame'>\n",
      "Index: 300000 entries, 7183 to 52768101\n",
      "Data columns (total 54 columns):\n",
      " #   Column                              Non-Null Count   Dtype\n",
      "---  ------                              --------------   -----\n",
      " 0   afspraak_Arbeidsmarkt               300000 non-null  int8 \n",
      " 1   afspraak_Bedrijfsbeheer             300000 non-null  int8 \n",
      " 2   afspraak_Duurzaamheid               300000 non-null  int8 \n",
      " 3   afspraak_Familiebedrijfsmanagement  300000 non-null  int8 \n",
      " 4   afspraak_Financieel                 300000 non-null  int8 \n",
      " 5   afspraak_Groeien en Netwerking      300000 non-null  int8 \n",
      " 6   afspraak_Internationaal Ondernemen  300000 non-null  int8 \n",
      " 7   afspraak_Lidmaatschap               300000 non-null  int8 \n",
      " 8   afspraak_Logistiek en Transport     300000 non-null  int8 \n",
      " 9   afspraak_Plato & Bryo               300000 non-null  int8 \n",
      " 10  afspraak_Technologie en Innovatie   300000 non-null  int8 \n",
      " 11  afspraak_Welt                       300000 non-null  int8 \n",
      " 12  sessie_ondernemen                   300000 non-null  int8 \n",
      " 13  sessie_logistiek                    300000 non-null  int8 \n",
      " 14  sessie_onderwijs                    300000 non-null  int8 \n",
      " 15  sessie_duurzaamheid                 300000 non-null  int8 \n",
      " 16  sessie_welt                         300000 non-null  int8 \n",
      " 17  sessie_lidmaatschap                 300000 non-null  int8 \n",
      " 18  sessie_innovatie en Technologie     300000 non-null  int8 \n",
      " 19  sessie_netwerking                   300000 non-null  int8 \n",
      " 20  sessie_algemeen                     300000 non-null  int8 \n",
      " 21  sessie_juridisch                    300000 non-null  int8 \n",
      " 22  sessie_bryo                         300000 non-null  int8 \n",
      " 23  sessie_economie                     300000 non-null  int8 \n",
      " 24  sessie_veiligheid en communicatie   300000 non-null  int8 \n",
      " 25  sessie_andere                       300000 non-null  int8 \n",
      " 26  ingeschreven                        300000 non-null  int8 \n",
      " 27  marketing_pressure                  300000 non-null  int8 \n",
      " 28  ondernemingstype_1                  300000 non-null  int8 \n",
      " 29  ondernemingstype_2                  300000 non-null  int8 \n",
      " 30  ondernemingstype_3                  300000 non-null  int8 \n",
      " 31  ondernemingstype_4                  300000 non-null  int8 \n",
      " 32  activiteitNaam_1                    300000 non-null  int8 \n",
      " 33  activiteitNaam_2                    300000 non-null  int8 \n",
      " 34  activiteitNaam_3                    300000 non-null  int8 \n",
      " 35  activiteitNaam_4                    300000 non-null  int8 \n",
      " 36  activiteitNaam_5                    300000 non-null  int8 \n",
      " 37  activiteitNaam_6                    300000 non-null  int8 \n",
      " 38  Diensten                            300000 non-null  int8 \n",
      " 39  Productie                           300000 non-null  int8 \n",
      " 40  0                                   300000 non-null  int8 \n",
      " 41  1                                   300000 non-null  int8 \n",
      " 42  2                                   300000 non-null  int8 \n",
      " 43  3                                   300000 non-null  int8 \n",
      " 44  4                                   300000 non-null  int8 \n",
      " 45  5                                   300000 non-null  int8 \n",
      " 46  0_campagne_type                     300000 non-null  int8 \n",
      " 47  1_campagne_type                     300000 non-null  int8 \n",
      " 48  2_campagne_type                     300000 non-null  int8 \n",
      " 49  3_campagne_type                     300000 non-null  int8 \n",
      " 50  4_campagne_type                     300000 non-null  int8 \n",
      " 51  5_campagne_type                     300000 non-null  int8 \n",
      " 52  Online                              300000 non-null  int8 \n",
      " 53  Offline                             300000 non-null  int8 \n",
      "dtypes: int8(54)\n",
      "memory usage: 25.8 MB\n"
     ]
    }
   ],
   "source": [
    "df.info()"
   ]
  },
  {
   "cell_type": "code",
   "execution_count": 126,
   "metadata": {},
   "outputs": [
    {
     "name": "stderr",
     "output_type": "stream",
     "text": [
      "c:\\Users\\marlo\\OneDrive\\Documents\\HOGent\\23-24\\Semester-1\\DEP2\\Data-Engineering-Project-2\\.venv\\Lib\\site-packages\\pandas\\core\\series.py:953: RuntimeWarning: invalid value encountered in cast\n",
      "  arr = np.asarray(values, dtype=dtype)\n"
     ]
    }
   ],
   "source": [
    "int_cols = df.select_dtypes(include=['int64', 'int32', 'float32', 'float64']).columns\n",
    "df[int_cols] = df[int_cols].apply(lambda x: np.int8(x))"
   ]
  },
  {
   "cell_type": "markdown",
   "metadata": {},
   "source": [
    "#### 9. Dataset opslaan"
   ]
  },
  {
   "cell_type": "code",
   "execution_count": 67,
   "metadata": {},
   "outputs": [],
   "source": [
    "# Save to csv\n",
    "df.to_csv('../data_clean/AA_Supervised_dataset.csv', index=False)"
   ]
  }
 ],
 "metadata": {
  "kernelspec": {
   "display_name": "Python 3",
   "language": "python",
   "name": "python3"
  },
  "language_info": {
   "codemirror_mode": {
    "name": "ipython",
    "version": 3
   },
   "file_extension": ".py",
   "mimetype": "text/x-python",
   "name": "python",
   "nbconvert_exporter": "python",
   "pygments_lexer": "ipython3",
   "version": "3.11.6"
  }
 },
 "nbformat": 4,
 "nbformat_minor": 2
}
