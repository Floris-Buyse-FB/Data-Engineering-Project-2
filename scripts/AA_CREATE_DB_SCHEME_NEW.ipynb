{
 "cells": [
  {
   "cell_type": "code",
   "execution_count": 428,
   "metadata": {},
   "outputs": [],
   "source": [
    "import pandas as pd\n",
    "import numpy as np\n",
    "import matplotlib.pyplot as plt\n",
    "import seaborn as sns\n",
    "import os\n",
    "import re"
   ]
  },
  {
   "cell_type": "code",
   "execution_count": 429,
   "metadata": {},
   "outputs": [],
   "source": [
    "FILE_NAME = '.csv'\n",
    "\n",
    "URL = os.path.join('../data_clean', FILE_NAME)"
   ]
  },
  {
   "cell_type": "code",
   "execution_count": 430,
   "metadata": {},
   "outputs": [
    {
     "data": {
      "text/html": [
       "<div>\n",
       "<style scoped>\n",
       "    .dataframe tbody tr th:only-of-type {\n",
       "        vertical-align: middle;\n",
       "    }\n",
       "\n",
       "    .dataframe tbody tr th {\n",
       "        vertical-align: top;\n",
       "    }\n",
       "\n",
       "    .dataframe thead th {\n",
       "        text-align: right;\n",
       "    }\n",
       "</style>\n",
       "<table border=\"1\" class=\"dataframe\">\n",
       "  <thead>\n",
       "    <tr style=\"text-align: right;\">\n",
       "      <th></th>\n",
       "      <th>ActiviteitVereistContact_ActivityId</th>\n",
       "      <th>ActiviteitVereistContact_ReqAttendee</th>\n",
       "    </tr>\n",
       "  </thead>\n",
       "  <tbody>\n",
       "    <tr>\n",
       "      <th>0</th>\n",
       "      <td>0000028D-CC1A-E411-ACD3-005056B06EC4</td>\n",
       "      <td>902EEFE7-2703-E211-8CF1-984BE17C2819</td>\n",
       "    </tr>\n",
       "  </tbody>\n",
       "</table>\n",
       "</div>"
      ],
      "text/plain": [
       "    ActiviteitVereistContact_ActivityId  ActiviteitVereistContact_ReqAttendee\n",
       "0  0000028D-CC1A-E411-ACD3-005056B06EC4  902EEFE7-2703-E211-8CF1-984BE17C2819"
      ]
     },
     "execution_count": 430,
     "metadata": {},
     "output_type": "execute_result"
    }
   ],
   "source": [
    "data = pd.read_csv(URL, sep=',')\n",
    "data.head(1)"
   ]
  },
  {
   "cell_type": "code",
   "execution_count": 431,
   "metadata": {},
   "outputs": [
    {
     "data": {
      "text/html": [
       "<div>\n",
       "<style scoped>\n",
       "    .dataframe tbody tr th:only-of-type {\n",
       "        vertical-align: middle;\n",
       "    }\n",
       "\n",
       "    .dataframe tbody tr th {\n",
       "        vertical-align: top;\n",
       "    }\n",
       "\n",
       "    .dataframe thead th {\n",
       "        text-align: right;\n",
       "    }\n",
       "</style>\n",
       "<table border=\"1\" class=\"dataframe\">\n",
       "  <thead>\n",
       "    <tr style=\"text-align: right;\">\n",
       "      <th></th>\n",
       "      <th>Contact_Contactpersoon</th>\n",
       "      <th>Contact_Account</th>\n",
       "      <th>Contact_Functietitel</th>\n",
       "      <th>Contact_Persoon_ID</th>\n",
       "      <th>Contact_Status</th>\n",
       "      <th>Contact_Voka_medewerker</th>\n",
       "    </tr>\n",
       "  </thead>\n",
       "  <tbody>\n",
       "    <tr>\n",
       "      <th>0</th>\n",
       "      <td>00002D37-EF48-EB11-8119-001DD8B72B62</td>\n",
       "      <td>01002D37-EF48-EB11-8119-001DD8B72B62</td>\n",
       "      <td>Zaakvoerder</td>\n",
       "      <td>14002D37-EF48-EB11-8119-001DD8B72B62</td>\n",
       "      <td>Actief</td>\n",
       "      <td>0</td>\n",
       "    </tr>\n",
       "  </tbody>\n",
       "</table>\n",
       "</div>"
      ],
      "text/plain": [
       "                 Contact_Contactpersoon                       Contact_Account   \n",
       "0  00002D37-EF48-EB11-8119-001DD8B72B62  01002D37-EF48-EB11-8119-001DD8B72B62  \\\n",
       "\n",
       "  Contact_Functietitel                    Contact_Persoon_ID Contact_Status   \n",
       "0          Zaakvoerder  14002D37-EF48-EB11-8119-001DD8B72B62         Actief  \\\n",
       "\n",
       "   Contact_Voka_medewerker  \n",
       "0                        0  "
      ]
     },
     "execution_count": 431,
     "metadata": {},
     "output_type": "execute_result"
    }
   ],
   "source": [
    "fk_help = pd.read_csv('../data_clean/Contact_fixed.csv', sep=',')\n",
    "fk_help.head(1)"
   ]
  },
  {
   "cell_type": "code",
   "execution_count": 432,
   "metadata": {},
   "outputs": [],
   "source": [
    "PRIMARY_KEY = 'ActiviteitVereistContact_ActivityId'\n",
    "\n",
    "# add tupel like: (column_name, foreign_key_table_name.foreign_key_column_name) || leave empty if not foreign key\n",
    "FOREIGN_KEY = [('ActiviteitVereistContact_ActivityId', 'Afspraak_alle.Afspraak_ALLE_Afspraak'), ('ActiviteitVereistContact_ReqAttendee', 'Contact.Contact_Contactpersoon')]"
   ]
  },
  {
   "cell_type": "code",
   "execution_count": 433,
   "metadata": {},
   "outputs": [],
   "source": [
    "def create_column_names(dataframe):\n",
    "    columns = dataframe.columns\n",
    "    columns = [col + '_id' if col == PRIMARY_KEY else col for col in columns]\n",
    "    columns = [re.sub(r'\\W+', '', col) for col in columns]\n",
    "    columns = [col.lower() for col in columns]\n",
    "    dict_columns = dict(zip(dataframe.columns, columns))\n",
    "    return dict_columns\n",
    "\n",
    "def change_fk_name(string):\n",
    "    string = string + '_id'\n",
    "    string = string.lower()\n",
    "    string = string[0].upper() + string[1:]\n",
    "    return string"
   ]
  },
  {
   "cell_type": "code",
   "execution_count": 434,
   "metadata": {},
   "outputs": [],
   "source": [
    "new_col_names = create_column_names(data)"
   ]
  },
  {
   "cell_type": "code",
   "execution_count": 435,
   "metadata": {},
   "outputs": [],
   "source": [
    "data.rename(\n",
    "    columns=new_col_names, inplace=True)\n",
    "\n",
    "if PRIMARY_KEY:\n",
    "    PRIMARY_KEY = new_col_names[PRIMARY_KEY]\n",
    "FOREIGN_KEY = [(new_col_names[fk[0]], fk[1]) for fk in FOREIGN_KEY]\n",
    "FOREIGN_KEY = [(fk[0], change_fk_name(fk[1])) for fk in FOREIGN_KEY]"
   ]
  },
  {
   "cell_type": "code",
   "execution_count": 436,
   "metadata": {},
   "outputs": [],
   "source": [
    "def generate_create_table_query():\n",
    "    sql_data_types = {\n",
    "        'int64': 'INT',\n",
    "        'float64': 'FLOAT',\n",
    "        'object': 'VARCHAR(255)',\n",
    "        'datetime64[ns]': 'DATE',\n",
    "    }\n",
    "\n",
    "    table_name = FILE_NAME[:-10]  # Remove the '.csv' extension and the 'fixed' to use as the table name\n",
    "    table_name = table_name.replace(' ', '_')  # Replace spaces with underscores to prevent SQL errors\n",
    "\n",
    "    # Create a list of column definitions with each column on a new line\n",
    "    columns_list = [f'{col} {sql_data_types.get(str(dtype), \"VARCHAR(255)\")}' for col, dtype in zip(data.columns, data.dtypes)]\n",
    "\n",
    "    # Include PRIMARY KEY and FOREIGN KEY columns if provided\n",
    "    if PRIMARY_KEY:\n",
    "        # find which column is the primary key\n",
    "        primary_key_index = data.columns.get_loc(PRIMARY_KEY)\n",
    "        # add PRIMARY KEY to the column definition\n",
    "        columns_list[primary_key_index] = f'{PRIMARY_KEY} INT NOT NULL PRIMARY KEY IDENTITY(1,1)'\n",
    "    if FOREIGN_KEY:\n",
    "        # loop through the list of FOREIGN KEY tuples and add each FOREIGN KEY to the column definition\n",
    "        for foreign_key in FOREIGN_KEY:\n",
    "            columns_list.append(f'FOREIGN KEY ({foreign_key[0]}) REFERENCES {foreign_key[1].split(\".\")[0]}({foreign_key[1].split(\".\")[1]})')\n",
    "            \n",
    "    # Join the column definitions into a string with each column on a new line\n",
    "    columns = ',\\n'.join(columns_list)\n",
    "\n",
    "    # Generate the CREATE TABLE query\n",
    "    create_table_query = f'IF NOT EXISTS (SELECT * FROM INFORMATION_SCHEMA.TABLES WHERE TABLE_NAME = \\'{table_name}\\')\\nBEGIN\\nCREATE TABLE {table_name} (\\n{columns});\\nEND'\n",
    "\n",
    "    # Print the generated CREATE TABLE query\n",
    "    print(create_table_query)\n",
    "    print()\n",
    "\n",
    "    ################################################\n",
    "    ### Generate the SQL_Alchemy class notation ####\n",
    "    ################################################\n",
    "    \n",
    "    # Generate the SQLAlchemy class representation\n",
    "    class_representation = f'class {table_name.capitalize()}(Base):\\n'\n",
    "    class_representation += f'    __tablename__ = \\'{table_name}\\'\\n'\n",
    "\n",
    "    for i, (col, dtype) in enumerate(zip(data.columns, data.dtypes)):\n",
    "        # Change VARCHAR(255) to String(255)\n",
    "        sqlalchemy_type = 'String(255)' if sql_data_types.get(str(dtype), None) == 'VARCHAR(255)' else sql_data_types.get(str(dtype), 'String(255)')\n",
    "        \n",
    "        if str(dtype) == 'int64':\n",
    "            sqlalchemy_type = 'Integer'\n",
    "        elif str(dtype) == 'float64':\n",
    "            sqlalchemy_type = 'Float'\n",
    "        elif str(dtype) == 'datetime64[ns]':\n",
    "            sqlalchemy_type = 'Date'\n",
    "        else:\n",
    "            sqlalchemy_type = 'String(255)'\n",
    "\n",
    "        # Skip the column with the primary key, if applicable\n",
    "        if PRIMARY_KEY:\n",
    "            if primary_key_index is not None and i == primary_key_index:\n",
    "                class_representation += f'    {col} = Column({sqlalchemy_type}, primary_key=True)\\n'\n",
    "        else:\n",
    "            class_representation += f'    {col} = Column({sqlalchemy_type})\\n'\n",
    "                \n",
    "    # Add foreign keys to the class representation, if applicable\n",
    "    if FOREIGN_KEY:\n",
    "        for foreign_key_tuple in FOREIGN_KEY:\n",
    "            # find datatype of foreign key column\n",
    "            foreign_key_column = data[foreign_key_tuple[0]]\n",
    "            foreign_key_dtype = str(foreign_key_column.dtype)\n",
    "            sqlalchemy_type = 'String(255)' if sql_data_types.get(foreign_key_dtype, None) == 'VARCHAR(255)' else sql_data_types.get(foreign_key_dtype, 'String(255)')\n",
    "            # replace the column definition with the column definition and foreign key\n",
    "            fk_str_rep = f'{foreign_key_tuple[0]} = Column({sqlalchemy_type}, ForeignKey(\\'{foreign_key_tuple[1]}\\'))'\n",
    "            class_representation = class_representation.replace(foreign_key_tuple[0], fk_str_rep)\n",
    "            class_representation = class_representation.replace(f'{fk_str_rep} = Column({sqlalchemy_type})', fk_str_rep)\n",
    "\n",
    "    print(class_representation)\n",
    "    print()"
   ]
  },
  {
   "cell_type": "code",
   "execution_count": 437,
   "metadata": {},
   "outputs": [
    {
     "name": "stdout",
     "output_type": "stream",
     "text": [
      "IF NOT EXISTS (SELECT * FROM INFORMATION_SCHEMA.TABLES WHERE TABLE_NAME = 'Activiteit_vereist_contact')\n",
      "BEGIN\n",
      "CREATE TABLE Activiteit_vereist_contact (\n",
      "activiteitvereistcontact_activityid_id INT NOT NULL PRIMARY KEY IDENTITY(1,1),\n",
      "activiteitvereistcontact_reqattendee VARCHAR(255),\n",
      "FOREIGN KEY (activiteitvereistcontact_activityid_id) REFERENCES Afspraak_alle(afspraak_alle_afspraak_id),\n",
      "FOREIGN KEY (activiteitvereistcontact_reqattendee) REFERENCES Contact(contact_contactpersoon_id));\n",
      "END\n",
      "\n",
      "class Activiteit_vereist_contact(Base):\n",
      "    __tablename__ = 'Activiteit_vereist_contact'\n",
      "    activiteitvereistcontact_activityid_id = Column(String(255), ForeignKey('Afspraak_alle.afspraak_alle_afspraak_id')) = Column(String(255), primary_key=True)\n",
      "\n",
      "\n"
     ]
    }
   ],
   "source": [
    "generate_create_table_query()"
   ]
  }
 ],
 "metadata": {
  "kernelspec": {
   "display_name": "Python 3",
   "language": "python",
   "name": "python3"
  },
  "language_info": {
   "codemirror_mode": {
    "name": "ipython",
    "version": 3
   },
   "file_extension": ".py",
   "mimetype": "text/x-python",
   "name": "python",
   "nbconvert_exporter": "python",
   "pygments_lexer": "ipython3",
   "version": "3.11.3"
  }
 },
 "nbformat": 4,
 "nbformat_minor": 2
}
