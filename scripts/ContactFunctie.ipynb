{
 "cells": [
  {
   "cell_type": "code",
   "execution_count": 16,
   "metadata": {},
   "outputs": [
    {
     "data": {
      "text/html": [
       "<div>\n",
       "<style scoped>\n",
       "    .dataframe tbody tr th:only-of-type {\n",
       "        vertical-align: middle;\n",
       "    }\n",
       "\n",
       "    .dataframe tbody tr th {\n",
       "        vertical-align: top;\n",
       "    }\n",
       "\n",
       "    .dataframe thead th {\n",
       "        text-align: right;\n",
       "    }\n",
       "</style>\n",
       "<table border=\"1\" class=\"dataframe\">\n",
       "  <thead>\n",
       "    <tr style=\"text-align: right;\">\n",
       "      <th></th>\n",
       "      <th>crm_ContactFunctie_Contactpersoon</th>\n",
       "      <th>crm_ContactFunctie_Functie</th>\n",
       "    </tr>\n",
       "  </thead>\n",
       "  <tbody>\n",
       "    <tr>\n",
       "      <th>0</th>\n",
       "      <td>NaN</td>\n",
       "      <td>NaN</td>\n",
       "    </tr>\n",
       "    <tr>\n",
       "      <th>1</th>\n",
       "      <td>NaN</td>\n",
       "      <td>NaN</td>\n",
       "    </tr>\n",
       "    <tr>\n",
       "      <th>2</th>\n",
       "      <td>NaN</td>\n",
       "      <td>NaN</td>\n",
       "    </tr>\n",
       "    <tr>\n",
       "      <th>3</th>\n",
       "      <td>NaN</td>\n",
       "      <td>NaN</td>\n",
       "    </tr>\n",
       "    <tr>\n",
       "      <th>4</th>\n",
       "      <td>NaN</td>\n",
       "      <td>NaN</td>\n",
       "    </tr>\n",
       "  </tbody>\n",
       "</table>\n",
       "</div>"
      ],
      "text/plain": [
       "  crm_ContactFunctie_Contactpersoon crm_ContactFunctie_Functie\n",
       "0                               NaN                        NaN\n",
       "1                               NaN                        NaN\n",
       "2                               NaN                        NaN\n",
       "3                               NaN                        NaN\n",
       "4                               NaN                        NaN"
      ]
     },
     "execution_count": 16,
     "metadata": {},
     "output_type": "execute_result"
    }
   ],
   "source": [
    "import pandas as pd\n",
    "data = pd.read_csv('../data/Contact functie.csv', sep=\",\")\n",
    "data = data.dropna()"
   ]
  },
  {
   "cell_type": "code",
   "execution_count": 17,
   "metadata": {},
   "outputs": [
    {
     "name": "stdout",
     "output_type": "stream",
     "text": [
      "<class 'pandas.core.frame.DataFrame'>\n",
      "RangeIndex: 594348 entries, 0 to 594347\n",
      "Data columns (total 2 columns):\n",
      " #   Column                             Non-Null Count   Dtype \n",
      "---  ------                             --------------   ----- \n",
      " 0   crm_ContactFunctie_Contactpersoon  591842 non-null  object\n",
      " 1   crm_ContactFunctie_Functie         591842 non-null  object\n",
      "dtypes: object(2)\n",
      "memory usage: 9.1+ MB\n"
     ]
    }
   ],
   "source": [
    "data.info()"
   ]
  },
  {
   "cell_type": "code",
   "execution_count": 18,
   "metadata": {},
   "outputs": [],
   "source": [
    "data = data.dropna()"
   ]
  },
  {
   "cell_type": "code",
   "execution_count": 19,
   "metadata": {},
   "outputs": [
    {
     "name": "stdout",
     "output_type": "stream",
     "text": [
      "<class 'pandas.core.frame.DataFrame'>\n",
      "Int64Index: 591842 entries, 2506 to 594347\n",
      "Data columns (total 2 columns):\n",
      " #   Column                             Non-Null Count   Dtype \n",
      "---  ------                             --------------   ----- \n",
      " 0   crm_ContactFunctie_Contactpersoon  591842 non-null  object\n",
      " 1   crm_ContactFunctie_Functie         591842 non-null  object\n",
      "dtypes: object(2)\n",
      "memory usage: 13.5+ MB\n"
     ]
    }
   ],
   "source": [
    "data.info()"
   ]
  },
  {
   "cell_type": "code",
   "execution_count": 20,
   "metadata": {},
   "outputs": [
    {
     "data": {
      "text/html": [
       "<div>\n",
       "<style scoped>\n",
       "    .dataframe tbody tr th:only-of-type {\n",
       "        vertical-align: middle;\n",
       "    }\n",
       "\n",
       "    .dataframe tbody tr th {\n",
       "        vertical-align: top;\n",
       "    }\n",
       "\n",
       "    .dataframe thead th {\n",
       "        text-align: right;\n",
       "    }\n",
       "</style>\n",
       "<table border=\"1\" class=\"dataframe\">\n",
       "  <thead>\n",
       "    <tr style=\"text-align: right;\">\n",
       "      <th></th>\n",
       "      <th>crm_ContactFunctie_Contactpersoon</th>\n",
       "      <th>crm_ContactFunctie_Functie</th>\n",
       "    </tr>\n",
       "  </thead>\n",
       "  <tbody>\n",
       "    <tr>\n",
       "      <th>2506</th>\n",
       "      <td>00002D37-EF48-EB11-8119-001DD8B72B62</td>\n",
       "      <td>F9832C1E-1862-E111-8F14-00505680000A</td>\n",
       "    </tr>\n",
       "    <tr>\n",
       "      <th>2507</th>\n",
       "      <td>000043F9-3587-E311-BBFD-005056B06EB4</td>\n",
       "      <td>A9832C1E-1862-E111-8F14-00505680000A</td>\n",
       "    </tr>\n",
       "    <tr>\n",
       "      <th>2508</th>\n",
       "      <td>00005DF1-1FC9-E711-80EC-001DD8B72B62</td>\n",
       "      <td>7CBB6CB0-F29C-E211-A980-005056B06EB4</td>\n",
       "    </tr>\n",
       "    <tr>\n",
       "      <th>2509</th>\n",
       "      <td>00008922-92DA-E711-80EE-001DD8B72B61</td>\n",
       "      <td>F7832C1E-1862-E111-8F14-00505680000A</td>\n",
       "    </tr>\n",
       "    <tr>\n",
       "      <th>2510</th>\n",
       "      <td>0000A149-846A-E111-B43A-00505680000A</td>\n",
       "      <td>F9832C1E-1862-E111-8F14-00505680000A</td>\n",
       "    </tr>\n",
       "  </tbody>\n",
       "</table>\n",
       "</div>"
      ],
      "text/plain": [
       "         crm_ContactFunctie_Contactpersoon  \\\n",
       "2506  00002D37-EF48-EB11-8119-001DD8B72B62   \n",
       "2507  000043F9-3587-E311-BBFD-005056B06EB4   \n",
       "2508  00005DF1-1FC9-E711-80EC-001DD8B72B62   \n",
       "2509  00008922-92DA-E711-80EE-001DD8B72B61   \n",
       "2510  0000A149-846A-E111-B43A-00505680000A   \n",
       "\n",
       "                crm_ContactFunctie_Functie  \n",
       "2506  F9832C1E-1862-E111-8F14-00505680000A  \n",
       "2507  A9832C1E-1862-E111-8F14-00505680000A  \n",
       "2508  7CBB6CB0-F29C-E211-A980-005056B06EB4  \n",
       "2509  F7832C1E-1862-E111-8F14-00505680000A  \n",
       "2510  F9832C1E-1862-E111-8F14-00505680000A  "
      ]
     },
     "execution_count": 20,
     "metadata": {},
     "output_type": "execute_result"
    }
   ],
   "source": [
    "data.head()"
   ]
  }
 ],
 "metadata": {
  "kernelspec": {
   "display_name": "Python 3",
   "language": "python",
   "name": "python3"
  },
  "language_info": {
   "codemirror_mode": {
    "name": "ipython",
    "version": 3
   },
   "file_extension": ".py",
   "mimetype": "text/x-python",
   "name": "python",
   "nbconvert_exporter": "python",
   "pygments_lexer": "ipython3",
   "version": "3.11.2"
  }
 },
 "nbformat": 4,
 "nbformat_minor": 2
}
