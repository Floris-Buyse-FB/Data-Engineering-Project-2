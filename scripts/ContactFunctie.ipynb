{
 "cells": [
  {
   "cell_type": "code",
   "execution_count": 1,
   "metadata": {},
   "outputs": [],
   "source": [
    "import pandas as pd\n",
    "data = pd.read_csv('../data_clean/Contact_functie_fixed.csv', sep=\",\")\n",
    "data = data.dropna()"
   ]
  },
  {
   "cell_type": "code",
   "execution_count": 2,
   "metadata": {},
   "outputs": [
    {
     "name": "stdout",
     "output_type": "stream",
     "text": [
      "<class 'pandas.core.frame.DataFrame'>\n",
      "RangeIndex: 591842 entries, 0 to 591841\n",
      "Data columns (total 3 columns):\n",
      " #   Column                         Non-Null Count   Dtype \n",
      "---  ------                         --------------   ----- \n",
      " 0   FinancieleData_ID              591842 non-null  int64 \n",
      " 1   ContactFunctie_Contactpersoon  591842 non-null  object\n",
      " 2   ContactFunctie_Functie         591842 non-null  object\n",
      "dtypes: int64(1), object(2)\n",
      "memory usage: 13.5+ MB\n"
     ]
    }
   ],
   "source": [
    "data.info()"
   ]
  },
  {
   "cell_type": "code",
   "execution_count": 3,
   "metadata": {},
   "outputs": [
    {
     "data": {
      "text/html": [
       "<div>\n",
       "<style scoped>\n",
       "    .dataframe tbody tr th:only-of-type {\n",
       "        vertical-align: middle;\n",
       "    }\n",
       "\n",
       "    .dataframe tbody tr th {\n",
       "        vertical-align: top;\n",
       "    }\n",
       "\n",
       "    .dataframe thead th {\n",
       "        text-align: right;\n",
       "    }\n",
       "</style>\n",
       "<table border=\"1\" class=\"dataframe\">\n",
       "  <thead>\n",
       "    <tr style=\"text-align: right;\">\n",
       "      <th></th>\n",
       "      <th>FinancieleData_ID</th>\n",
       "      <th>ContactFunctie_Contactpersoon</th>\n",
       "      <th>ContactFunctie_Functie</th>\n",
       "    </tr>\n",
       "  </thead>\n",
       "  <tbody>\n",
       "    <tr>\n",
       "      <th>0</th>\n",
       "      <td>2507</td>\n",
       "      <td>00002D37-EF48-EB11-8119-001DD8B72B62</td>\n",
       "      <td>F9832C1E-1862-E111-8F14-00505680000A</td>\n",
       "    </tr>\n",
       "    <tr>\n",
       "      <th>1</th>\n",
       "      <td>2508</td>\n",
       "      <td>000043F9-3587-E311-BBFD-005056B06EB4</td>\n",
       "      <td>A9832C1E-1862-E111-8F14-00505680000A</td>\n",
       "    </tr>\n",
       "    <tr>\n",
       "      <th>2</th>\n",
       "      <td>2509</td>\n",
       "      <td>00005DF1-1FC9-E711-80EC-001DD8B72B62</td>\n",
       "      <td>7CBB6CB0-F29C-E211-A980-005056B06EB4</td>\n",
       "    </tr>\n",
       "    <tr>\n",
       "      <th>3</th>\n",
       "      <td>2510</td>\n",
       "      <td>00008922-92DA-E711-80EE-001DD8B72B61</td>\n",
       "      <td>F7832C1E-1862-E111-8F14-00505680000A</td>\n",
       "    </tr>\n",
       "    <tr>\n",
       "      <th>4</th>\n",
       "      <td>2511</td>\n",
       "      <td>0000A149-846A-E111-B43A-00505680000A</td>\n",
       "      <td>F9832C1E-1862-E111-8F14-00505680000A</td>\n",
       "    </tr>\n",
       "  </tbody>\n",
       "</table>\n",
       "</div>"
      ],
      "text/plain": [
       "   FinancieleData_ID         ContactFunctie_Contactpersoon   \n",
       "0               2507  00002D37-EF48-EB11-8119-001DD8B72B62  \\\n",
       "1               2508  000043F9-3587-E311-BBFD-005056B06EB4   \n",
       "2               2509  00005DF1-1FC9-E711-80EC-001DD8B72B62   \n",
       "3               2510  00008922-92DA-E711-80EE-001DD8B72B61   \n",
       "4               2511  0000A149-846A-E111-B43A-00505680000A   \n",
       "\n",
       "                 ContactFunctie_Functie  \n",
       "0  F9832C1E-1862-E111-8F14-00505680000A  \n",
       "1  A9832C1E-1862-E111-8F14-00505680000A  \n",
       "2  7CBB6CB0-F29C-E211-A980-005056B06EB4  \n",
       "3  F7832C1E-1862-E111-8F14-00505680000A  \n",
       "4  F9832C1E-1862-E111-8F14-00505680000A  "
      ]
     },
     "execution_count": 3,
     "metadata": {},
     "output_type": "execute_result"
    }
   ],
   "source": [
    "data.head()"
   ]
  }
 ],
 "metadata": {
  "kernelspec": {
   "display_name": "Python 3",
   "language": "python",
   "name": "python3"
  },
  "language_info": {
   "codemirror_mode": {
    "name": "ipython",
    "version": 3
   },
   "file_extension": ".py",
   "mimetype": "text/x-python",
   "name": "python",
   "nbconvert_exporter": "python",
   "pygments_lexer": "ipython3",
   "version": "3.11.3"
  }
 },
 "nbformat": 4,
 "nbformat_minor": 2
}
