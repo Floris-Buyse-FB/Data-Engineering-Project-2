{
 "cells": [
  {
   "cell_type": "code",
   "execution_count": 26,
   "metadata": {},
   "outputs": [],
   "source": [
    "import pandas as pd\n",
    "import numpy as np\n",
    "import matplotlib.pyplot as plt\n",
    "import seaborn as sns"
   ]
  },
  {
   "cell_type": "code",
   "execution_count": 27,
   "metadata": {},
   "outputs": [],
   "source": [
    "df_persoon = pd.read_csv('../data_clean/Persoon_fixed.csv')\n",
    "df_contact = pd.read_csv('../data_clean/Contact_fixed.csv')"
   ]
  },
  {
   "cell_type": "code",
   "execution_count": 28,
   "metadata": {},
   "outputs": [
    {
     "data": {
      "text/html": [
       "<div>\n",
       "<style scoped>\n",
       "    .dataframe tbody tr th:only-of-type {\n",
       "        vertical-align: middle;\n",
       "    }\n",
       "\n",
       "    .dataframe tbody tr th {\n",
       "        vertical-align: top;\n",
       "    }\n",
       "\n",
       "    .dataframe thead th {\n",
       "        text-align: right;\n",
       "    }\n",
       "</style>\n",
       "<table border=\"1\" class=\"dataframe\">\n",
       "  <thead>\n",
       "    <tr style=\"text-align: right;\">\n",
       "      <th></th>\n",
       "      <th>contact_contactpersoon_id</th>\n",
       "      <th>contact_account</th>\n",
       "      <th>contact_functietitel</th>\n",
       "      <th>contact_persoon_id</th>\n",
       "      <th>contact_status</th>\n",
       "      <th>contact_voka_medewerker</th>\n",
       "    </tr>\n",
       "  </thead>\n",
       "  <tbody>\n",
       "    <tr>\n",
       "      <th>0</th>\n",
       "      <td>00002D37-EF48-EB11-8119-001DD8B72B62</td>\n",
       "      <td>01002D37-EF48-EB11-8119-001DD8B72B62</td>\n",
       "      <td>Zaakvoerder</td>\n",
       "      <td>14002D37-EF48-EB11-8119-001DD8B72B62</td>\n",
       "      <td>Actief</td>\n",
       "      <td>0</td>\n",
       "    </tr>\n",
       "  </tbody>\n",
       "</table>\n",
       "</div>"
      ],
      "text/plain": [
       "              contact_contactpersoon_id                       contact_account   \n",
       "0  00002D37-EF48-EB11-8119-001DD8B72B62  01002D37-EF48-EB11-8119-001DD8B72B62  \\\n",
       "\n",
       "  contact_functietitel                    contact_persoon_id contact_status   \n",
       "0          Zaakvoerder  14002D37-EF48-EB11-8119-001DD8B72B62         Actief  \\\n",
       "\n",
       "   contact_voka_medewerker  \n",
       "0                        0  "
      ]
     },
     "execution_count": 28,
     "metadata": {},
     "output_type": "execute_result"
    }
   ],
   "source": [
    "df_contact.head(1)"
   ]
  },
  {
   "cell_type": "code",
   "execution_count": 29,
   "metadata": {},
   "outputs": [
    {
     "data": {
      "text/html": [
       "<div>\n",
       "<style scoped>\n",
       "    .dataframe tbody tr th:only-of-type {\n",
       "        vertical-align: middle;\n",
       "    }\n",
       "\n",
       "    .dataframe tbody tr th {\n",
       "        vertical-align: top;\n",
       "    }\n",
       "\n",
       "    .dataframe thead th {\n",
       "        text-align: right;\n",
       "    }\n",
       "</style>\n",
       "<table border=\"1\" class=\"dataframe\">\n",
       "  <thead>\n",
       "    <tr style=\"text-align: right;\">\n",
       "      <th></th>\n",
       "      <th>persoon_persoon_id</th>\n",
       "      <th>persoon_persoonsnr_</th>\n",
       "      <th>persoon_reden_van_status</th>\n",
       "      <th>persoon_web_login</th>\n",
       "      <th>persoon_mail_regio_antwerpen_waasland</th>\n",
       "      <th>persoon_mail_regio_brussel_hoofdstedelijk_gewest</th>\n",
       "      <th>persoon_mail_regio_limburg</th>\n",
       "      <th>persoon_mail_regio_mechelen_kempen</th>\n",
       "      <th>persoon_mail_regio_oost_vlaanderen</th>\n",
       "      <th>persoon_mail_regio_vlaams_brabant</th>\n",
       "      <th>...</th>\n",
       "      <th>persoon_mail_thema_strategie_en_algemeen_management</th>\n",
       "      <th>persoon_mail_thema_talent</th>\n",
       "      <th>persoon_mail_thema_welzijn</th>\n",
       "      <th>persoon_mail_type_bevraging</th>\n",
       "      <th>persoon_mail_type_communities_en_projecten</th>\n",
       "      <th>persoon_mail_type_netwerkevenementen</th>\n",
       "      <th>persoon_mail_type_nieuwsbrieven</th>\n",
       "      <th>persoon_mail_type_opleidingen</th>\n",
       "      <th>persoon_mail_type_persberichten_belangrijke_meldingen</th>\n",
       "      <th>persoon_marketingcommunicatie</th>\n",
       "    </tr>\n",
       "  </thead>\n",
       "  <tbody>\n",
       "    <tr>\n",
       "      <th>0</th>\n",
       "      <td>000025F6-EF15-EE11-8F6D-6045BD895420</td>\n",
       "      <td>596398</td>\n",
       "      <td>Actief</td>\n",
       "      <td>unknown</td>\n",
       "      <td>0</td>\n",
       "      <td>0</td>\n",
       "      <td>0</td>\n",
       "      <td>0</td>\n",
       "      <td>0</td>\n",
       "      <td>0</td>\n",
       "      <td>...</td>\n",
       "      <td>0</td>\n",
       "      <td>0</td>\n",
       "      <td>0</td>\n",
       "      <td>0</td>\n",
       "      <td>0</td>\n",
       "      <td>0</td>\n",
       "      <td>0</td>\n",
       "      <td>0</td>\n",
       "      <td>0</td>\n",
       "      <td>Strikt</td>\n",
       "    </tr>\n",
       "  </tbody>\n",
       "</table>\n",
       "<p>1 rows × 29 columns</p>\n",
       "</div>"
      ],
      "text/plain": [
       "                     persoon_persoon_id  persoon_persoonsnr_   \n",
       "0  000025F6-EF15-EE11-8F6D-6045BD895420               596398  \\\n",
       "\n",
       "  persoon_reden_van_status persoon_web_login   \n",
       "0                   Actief           unknown  \\\n",
       "\n",
       "   persoon_mail_regio_antwerpen_waasland   \n",
       "0                                      0  \\\n",
       "\n",
       "   persoon_mail_regio_brussel_hoofdstedelijk_gewest   \n",
       "0                                                 0  \\\n",
       "\n",
       "   persoon_mail_regio_limburg  persoon_mail_regio_mechelen_kempen   \n",
       "0                           0                                   0  \\\n",
       "\n",
       "   persoon_mail_regio_oost_vlaanderen  persoon_mail_regio_vlaams_brabant  ...   \n",
       "0                                   0                                  0  ...  \\\n",
       "\n",
       "   persoon_mail_thema_strategie_en_algemeen_management   \n",
       "0                                                  0    \\\n",
       "\n",
       "   persoon_mail_thema_talent  persoon_mail_thema_welzijn   \n",
       "0                          0                           0  \\\n",
       "\n",
       "   persoon_mail_type_bevraging  persoon_mail_type_communities_en_projecten   \n",
       "0                            0                                           0  \\\n",
       "\n",
       "   persoon_mail_type_netwerkevenementen  persoon_mail_type_nieuwsbrieven   \n",
       "0                                     0                                0  \\\n",
       "\n",
       "   persoon_mail_type_opleidingen   \n",
       "0                              0  \\\n",
       "\n",
       "   persoon_mail_type_persberichten_belangrijke_meldingen   \n",
       "0                                                  0      \\\n",
       "\n",
       "   persoon_marketingcommunicatie  \n",
       "0                         Strikt  \n",
       "\n",
       "[1 rows x 29 columns]"
      ]
     },
     "execution_count": 29,
     "metadata": {},
     "output_type": "execute_result"
    }
   ],
   "source": [
    "df_persoon.head(1)"
   ]
  },
  {
   "cell_type": "code",
   "execution_count": 30,
   "metadata": {},
   "outputs": [
    {
     "data": {
      "text/plain": [
       "((1169683,), (580981,))"
      ]
     },
     "execution_count": 30,
     "metadata": {},
     "output_type": "execute_result"
    }
   ],
   "source": [
    "unique_contact_persoon_id = df_contact['contact_contactpersoon_id'].unique()\n",
    "unique_persoon_persoon_id = df_persoon['persoon_persoon_id'].unique()\n",
    "\n",
    "unique_contact_persoon_id.shape, unique_persoon_persoon_id.shape"
   ]
  },
  {
   "cell_type": "code",
   "execution_count": 36,
   "metadata": {},
   "outputs": [
    {
     "data": {
      "text/html": [
       "<div>\n",
       "<style scoped>\n",
       "    .dataframe tbody tr th:only-of-type {\n",
       "        vertical-align: middle;\n",
       "    }\n",
       "\n",
       "    .dataframe tbody tr th {\n",
       "        vertical-align: top;\n",
       "    }\n",
       "\n",
       "    .dataframe thead th {\n",
       "        text-align: right;\n",
       "    }\n",
       "</style>\n",
       "<table border=\"1\" class=\"dataframe\">\n",
       "  <thead>\n",
       "    <tr style=\"text-align: right;\">\n",
       "      <th></th>\n",
       "      <th>persoon_persoon_id</th>\n",
       "      <th>persoon_persoonsnr_</th>\n",
       "      <th>persoon_reden_van_status</th>\n",
       "      <th>persoon_web_login</th>\n",
       "      <th>persoon_mail_regio_antwerpen_waasland</th>\n",
       "      <th>persoon_mail_regio_brussel_hoofdstedelijk_gewest</th>\n",
       "      <th>persoon_mail_regio_limburg</th>\n",
       "      <th>persoon_mail_regio_mechelen_kempen</th>\n",
       "      <th>persoon_mail_regio_oost_vlaanderen</th>\n",
       "      <th>persoon_mail_regio_vlaams_brabant</th>\n",
       "      <th>...</th>\n",
       "      <th>persoon_mail_thema_strategie_en_algemeen_management</th>\n",
       "      <th>persoon_mail_thema_talent</th>\n",
       "      <th>persoon_mail_thema_welzijn</th>\n",
       "      <th>persoon_mail_type_bevraging</th>\n",
       "      <th>persoon_mail_type_communities_en_projecten</th>\n",
       "      <th>persoon_mail_type_netwerkevenementen</th>\n",
       "      <th>persoon_mail_type_nieuwsbrieven</th>\n",
       "      <th>persoon_mail_type_opleidingen</th>\n",
       "      <th>persoon_mail_type_persberichten_belangrijke_meldingen</th>\n",
       "      <th>persoon_marketingcommunicatie</th>\n",
       "    </tr>\n",
       "  </thead>\n",
       "  <tbody>\n",
       "  </tbody>\n",
       "</table>\n",
       "<p>0 rows × 29 columns</p>\n",
       "</div>"
      ],
      "text/plain": [
       "Empty DataFrame\n",
       "Columns: [persoon_persoon_id, persoon_persoonsnr_, persoon_reden_van_status, persoon_web_login, persoon_mail_regio_antwerpen_waasland, persoon_mail_regio_brussel_hoofdstedelijk_gewest, persoon_mail_regio_limburg, persoon_mail_regio_mechelen_kempen, persoon_mail_regio_oost_vlaanderen, persoon_mail_regio_vlaams_brabant, persoon_mail_regio_voka_nationaal, persoon_mail_regio_west_vlaanderen, persoon_mail_thema_duurzaamheid, persoon_mail_thema_financieel_fiscaal, persoon_mail_thema_innovatie, persoon_mail_thema_internationaal_ondernemen, persoon_mail_thema_mobiliteit, persoon_mail_thema_omgeving, persoon_mail_thema_sales_marketing_communicatie, persoon_mail_thema_strategie_en_algemeen_management, persoon_mail_thema_talent, persoon_mail_thema_welzijn, persoon_mail_type_bevraging, persoon_mail_type_communities_en_projecten, persoon_mail_type_netwerkevenementen, persoon_mail_type_nieuwsbrieven, persoon_mail_type_opleidingen, persoon_mail_type_persberichten_belangrijke_meldingen, persoon_marketingcommunicatie]\n",
       "Index: []\n",
       "\n",
       "[0 rows x 29 columns]"
      ]
     },
     "execution_count": 36,
     "metadata": {},
     "output_type": "execute_result"
    }
   ],
   "source": [
    "df_persoon[df_persoon['persoon_persoon_id'].isin(unique_contact_persoon_id)]"
   ]
  }
 ],
 "metadata": {
  "kernelspec": {
   "display_name": "Python 3",
   "language": "python",
   "name": "python3"
  },
  "language_info": {
   "codemirror_mode": {
    "name": "ipython",
    "version": 3
   },
   "file_extension": ".py",
   "mimetype": "text/x-python",
   "name": "python",
   "nbconvert_exporter": "python",
   "pygments_lexer": "ipython3",
   "version": "3.11.3"
  }
 },
 "nbformat": 4,
 "nbformat_minor": 2
}
