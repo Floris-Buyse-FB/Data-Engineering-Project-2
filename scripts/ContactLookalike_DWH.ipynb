{
 "cells": [
  {
   "cell_type": "markdown",
   "metadata": {},
   "source": [
    "# epic 4(sh)\n",
    "\n",
    "Als een key user kan ik voor een contact met weinig transacties een lookalike met veel transacties identificeren. Ik kan ook een clustering maken van contactpersonen die qua jobinhoud, type bedrijf, voorkeuren en (verwacht) gedrag"
   ]
  },
  {
   "cell_type": "code",
   "execution_count": 1,
   "metadata": {},
   "outputs": [],
   "source": [
    "import pandas as pd\n",
    "import pyarrow as pa\n",
    "import pyarrow.parquet as pq\n",
    "import numpy as np\n",
    "import os\n",
    "from dotenv import load_dotenv\n",
    "from sqlalchemy import create_engine"
   ]
  },
  {
   "cell_type": "code",
   "execution_count": 2,
   "metadata": {},
   "outputs": [],
   "source": [
    "ENV_URL = os.path.join(os.getcwd(), '../.env')\n",
    "load_dotenv(ENV_URL)\n",
    "\n",
    "DWH_NAME = os.environ.get('DWH_NAME')\n",
    "SERVER_NAME = os.environ.get('SERVER_NAME')\n",
    "DB_USER = os.environ.get('DB_USER')\n",
    "DB_PASSWORD = os.environ.get('DB_PASSWORD')\n",
    "\n",
    "URL = f'mssql+pymssql://{DB_USER}:{DB_PASSWORD}@{SERVER_NAME}/{DWH_NAME}'\n",
    "URL_LOCAL = f'mssql+pyodbc://{SERVER_NAME}/{DWH_NAME}?trusted_connection=yes&driver=ODBC+Driver+17 for SQL Server'\n",
    "\n",
    "engine = create_engine(URL_LOCAL)\n",
    "conn = engine.connect()"
   ]
  },
  {
   "cell_type": "code",
   "execution_count": 3,
   "metadata": {},
   "outputs": [],
   "source": [
    "def create_query(table_name, columns, condition=None):\n",
    "\n",
    "    query = f\"SELECT \"\n",
    "\n",
    "    for i, column in enumerate(columns):\n",
    "        if i == 0:\n",
    "            query += f\"[{column}]\"\n",
    "        else:\n",
    "            query += f\", [{column}]\"\n",
    "    \n",
    "    query += f\" FROM [{DWH_NAME}].[dbo].[{table_name}]\"\n",
    "    \n",
    "    if condition:\n",
    "        query += f\" WHERE {condition}\"\n",
    "\n",
    "    return query"
   ]
  },
  {
   "cell_type": "markdown",
   "metadata": {},
   "source": [
    "### 1 Alles van account selecteren"
   ]
  },
  {
   "cell_type": "code",
   "execution_count": 4,
   "metadata": {},
   "outputs": [
    {
     "data": {
      "text/plain": [
       "(4124, 6)"
      ]
     },
     "execution_count": 4,
     "metadata": {},
     "output_type": "execute_result"
    }
   ],
   "source": [
    "acc_cols = ['accountID', 'plaats','subregio','ondernemingsaard','ondernemingstype','activiteitNaam']\n",
    "# account conditie\n",
    "acc_condition = \"provincie = 'Oost-Vlaanderen'\"\n",
    "# create query\n",
    "acc_query = create_query('DimAccount', acc_cols, acc_condition)\n",
    "# read sql\n",
    "df_account = pd.read_sql(acc_query, conn)\n",
    "df_account.shape"
   ]
  },
  {
   "cell_type": "markdown",
   "metadata": {},
   "source": [
    "### 2 Mergen van contact en account"
   ]
  },
  {
   "cell_type": "code",
   "execution_count": 5,
   "metadata": {},
   "outputs": [
    {
     "data": {
      "text/plain": [
       "(194192, 3)"
      ]
     },
     "execution_count": 5,
     "metadata": {},
     "output_type": "execute_result"
    }
   ],
   "source": [
    "contact_cols = ['contactID', 'accountID', 'functietitel'] # ,'functieNaam']\n",
    "\n",
    "contact_query = create_query('DimContact', contact_cols)\n",
    "df_contact = pd.read_sql(contact_query, conn)\n",
    "\n",
    "df_contact['functietitel'] = df_contact['functietitel'].str.lower()\n",
    "\n",
    "# df_contact['functieNaam'] = df_contact['functieNaam'].str.lower()\n",
    "df_contact.shape"
   ]
  },
  {
   "cell_type": "code",
   "execution_count": 17,
   "metadata": {},
   "outputs": [
    {
     "data": {
      "text/plain": [
       "(61885, 8)"
      ]
     },
     "execution_count": 17,
     "metadata": {},
     "output_type": "execute_result"
    }
   ],
   "source": [
    "accounts_merged = pd.merge(df_contact, df_account, on='accountID', how='inner')\n",
    "accounts_merged.shape"
   ]
  },
  {
   "cell_type": "markdown",
   "metadata": {},
   "source": [
    "### 3 Mergen van account en afspraak"
   ]
  },
  {
   "cell_type": "code",
   "execution_count": 7,
   "metadata": {},
   "outputs": [
    {
     "data": {
      "text/plain": [
       "(7167, 2)"
      ]
     },
     "execution_count": 7,
     "metadata": {},
     "output_type": "execute_result"
    }
   ],
   "source": [
    "afspraak_cols = ['accountID', 'keyphrases']\n",
    "\n",
    "afspraak_query = create_query('DimAfspraak', afspraak_cols)\n",
    "\n",
    "df_afspraak = pd.read_sql(afspraak_query, conn)\n",
    "df_afspraak.shape"
   ]
  },
  {
   "cell_type": "code",
   "execution_count": 18,
   "metadata": {},
   "outputs": [
    {
     "data": {
      "text/plain": [
       "(63673, 9)"
      ]
     },
     "execution_count": 18,
     "metadata": {},
     "output_type": "execute_result"
    }
   ],
   "source": [
    "acc_con_afs = pd.merge(accounts_merged, df_afspraak, on='accountID', how='inner')\n",
    "acc_con_afs.shape"
   ]
  },
  {
   "cell_type": "markdown",
   "metadata": {},
   "source": [
    "### 4 Mergen van Campagne en account"
   ]
  },
  {
   "cell_type": "code",
   "execution_count": 9,
   "metadata": {},
   "outputs": [
    {
     "data": {
      "text/plain": [
       "(468, 4)"
      ]
     },
     "execution_count": 9,
     "metadata": {},
     "output_type": "execute_result"
    }
   ],
   "source": [
    "campagne_cols = ['campagneID','campagneType','campagneNaam','campagneSoort']\n",
    "\n",
    "campagne_query = create_query('DimCampagne', campagne_cols)\n",
    "\n",
    "df_campagne = pd.read_sql(campagne_query, conn)\n",
    "df_campagne.shape"
   ]
  },
  {
   "cell_type": "code",
   "execution_count": 20,
   "metadata": {},
   "outputs": [
    {
     "data": {
      "text/plain": [
       "(8730, 2)"
      ]
     },
     "execution_count": 20,
     "metadata": {},
     "output_type": "execute_result"
    }
   ],
   "source": [
    "factInschrijving_cols = ['campagneID','contactID']\n",
    "\n",
    "factInschrijving_query = create_query('FactInschrijving', factInschrijving_cols)\n",
    "\n",
    "df_factInschrijving = pd.read_sql(factInschrijving_query, conn)\n",
    "df_factInschrijving.shape"
   ]
  },
  {
   "cell_type": "code",
   "execution_count": 21,
   "metadata": {},
   "outputs": [
    {
     "data": {
      "text/plain": [
       "(8730, 5)"
      ]
     },
     "execution_count": 21,
     "metadata": {},
     "output_type": "execute_result"
    }
   ],
   "source": [
    "camp_fact = pd.merge(df_campagne, df_factInschrijving, on='campagneID', how='inner')\n",
    "camp_fact.shape"
   ]
  },
  {
   "cell_type": "code",
   "execution_count": 34,
   "metadata": {},
   "outputs": [
    {
     "data": {
      "text/plain": [
       "(421, 13)"
      ]
     },
     "execution_count": 34,
     "metadata": {},
     "output_type": "execute_result"
    }
   ],
   "source": [
    "df = pd.merge(acc_con_afs, camp_fact, on='contactID', how='inner')\n",
    "df = df.drop_duplicates(subset=['contactID','campagneID'], keep='first')\n",
    "df.shape"
   ]
  },
  {
   "cell_type": "markdown",
   "metadata": {},
   "source": [
    "## Data Cleaning"
   ]
  },
  {
   "cell_type": "code",
   "execution_count": 23,
   "metadata": {},
   "outputs": [
    {
     "name": "stdout",
     "output_type": "stream",
     "text": [
      "0    41037B31-0969-E111-B43A-00505680000A,unknown,G...\n",
      "1    41037B31-0969-E111-B43A-00505680000A,unknown,G...\n",
      "2    41037B31-0969-E111-B43A-00505680000A,onderzoek...\n",
      "3    41037B31-0969-E111-B43A-00505680000A,teamleide...\n",
      "4    41037B31-0969-E111-B43A-00505680000A,student,G...\n",
      "Name: data, dtype: object\n"
     ]
    }
   ],
   "source": [
    "# combine all the data \n",
    "df3 = df.copy()\n",
    "df2 = df\n",
    "df2['data'] =df[df.columns[1:]].apply(lambda x: ','.join(x.dropna().astype(str)),axis=1)\n",
    "print(df['data'].head())"
   ]
  },
  {
   "cell_type": "code",
   "execution_count": 24,
   "metadata": {},
   "outputs": [],
   "source": [
    "from sklearn.feature_extraction.text import CountVectorizer\n",
    "\n",
    "vectorizer = CountVectorizer()\n",
    "vectorized= vectorizer.fit_transform(df2['data'])"
   ]
  },
  {
   "cell_type": "code",
   "execution_count": 25,
   "metadata": {},
   "outputs": [],
   "source": [
    "from sklearn.metrics.pairwise import cosine_similarity\n",
    "\n",
    "#duurt 2m38s\n",
    "similarities = cosine_similarity(vectorized)"
   ]
  },
  {
   "cell_type": "code",
   "execution_count": 26,
   "metadata": {},
   "outputs": [
    {
     "name": "stdout",
     "output_type": "stream",
     "text": [
      "[[1.         1.         0.96392539 ... 0.         0.         0.        ]\n",
      " [1.         1.         0.96392539 ... 0.         0.         0.        ]\n",
      " [0.96392539 0.96392539 1.         ... 0.         0.         0.        ]\n",
      " ...\n",
      " [0.         0.         0.         ... 1.         1.         1.        ]\n",
      " [0.         0.         0.         ... 1.         1.         1.        ]\n",
      " [0.         0.         0.         ... 1.         1.         1.        ]]\n"
     ]
    }
   ],
   "source": [
    "print(similarities)\n"
   ]
  },
  {
   "cell_type": "code",
   "execution_count": 27,
   "metadata": {},
   "outputs": [
    {
     "data": {
      "text/html": [
       "<div>\n",
       "<style scoped>\n",
       "    .dataframe tbody tr th:only-of-type {\n",
       "        vertical-align: middle;\n",
       "    }\n",
       "\n",
       "    .dataframe tbody tr th {\n",
       "        vertical-align: top;\n",
       "    }\n",
       "\n",
       "    .dataframe thead th {\n",
       "        text-align: right;\n",
       "    }\n",
       "</style>\n",
       "<table border=\"1\" class=\"dataframe\">\n",
       "  <thead>\n",
       "    <tr style=\"text-align: right;\">\n",
       "      <th>contactID</th>\n",
       "      <th>contactID</th>\n",
       "      <th>00008922-92DA-E711-80EE-001DD8B72B61</th>\n",
       "      <th>01C7C34F-90DA-E711-80EE-001DD8B72B61</th>\n",
       "      <th>0217E600-1375-E211-A85C-005056B06EC4</th>\n",
       "      <th>0542DA63-2C64-ED11-9561-6045BD895B5A</th>\n",
       "      <th>09E85092-AF88-EC11-93B0-6045BD91D362</th>\n",
       "      <th>0B39B000-708D-EC11-B400-000D3A24B6E5</th>\n",
       "      <th>126C6BF1-6A9A-E511-A092-005056B06EB4</th>\n",
       "      <th>13AFFF54-DA36-E711-80E6-001DD8B72B61</th>\n",
       "      <th>143B2AE3-1B6F-E111-B43A-00505680000A</th>\n",
       "      <th>...</th>\n",
       "      <th>CDC9B99B-61DA-EC11-BB3D-6045BD8B2E69</th>\n",
       "      <th>03ECA1DC-3267-EE11-9AE7-6045BD895B5A</th>\n",
       "      <th>47233332-2B05-EE11-8F6E-6045BD895420</th>\n",
       "      <th>AA8614A8-EA67-EE11-9AE7-6045BD9745FB</th>\n",
       "      <th>700DB6C4-25CD-E811-80F5-001DD8B72B62</th>\n",
       "      <th>F43AC180-E2C9-EC11-A7B5-00224881D030</th>\n",
       "      <th>7713E350-0556-EE11-BE6E-6045BD895420</th>\n",
       "      <th>1F0BD26E-6C66-EE11-9AE7-6045BD895B5A</th>\n",
       "      <th>FCDBE8E9-3868-EE11-9AE7-000D3A4AB78E</th>\n",
       "      <th>1C2A0BA5-899A-E511-A092-005056B06EB4</th>\n",
       "    </tr>\n",
       "  </thead>\n",
       "  <tbody>\n",
       "    <tr>\n",
       "      <th>0</th>\n",
       "      <td>00008922-92DA-E711-80EE-001DD8B72B61</td>\n",
       "      <td>1.000000</td>\n",
       "      <td>1.000000</td>\n",
       "      <td>0.963925</td>\n",
       "      <td>0.931240</td>\n",
       "      <td>0.975610</td>\n",
       "      <td>0.975610</td>\n",
       "      <td>0.975610</td>\n",
       "      <td>0.963925</td>\n",
       "      <td>0.963925</td>\n",
       "      <td>...</td>\n",
       "      <td>0.0</td>\n",
       "      <td>0.0</td>\n",
       "      <td>0.0</td>\n",
       "      <td>0.0</td>\n",
       "      <td>0.0</td>\n",
       "      <td>0.0</td>\n",
       "      <td>0.0</td>\n",
       "      <td>0.0</td>\n",
       "      <td>0.0</td>\n",
       "      <td>0.0</td>\n",
       "    </tr>\n",
       "    <tr>\n",
       "      <th>1</th>\n",
       "      <td>01C7C34F-90DA-E711-80EE-001DD8B72B61</td>\n",
       "      <td>1.000000</td>\n",
       "      <td>1.000000</td>\n",
       "      <td>0.963925</td>\n",
       "      <td>0.931240</td>\n",
       "      <td>0.975610</td>\n",
       "      <td>0.975610</td>\n",
       "      <td>0.975610</td>\n",
       "      <td>0.963925</td>\n",
       "      <td>0.963925</td>\n",
       "      <td>...</td>\n",
       "      <td>0.0</td>\n",
       "      <td>0.0</td>\n",
       "      <td>0.0</td>\n",
       "      <td>0.0</td>\n",
       "      <td>0.0</td>\n",
       "      <td>0.0</td>\n",
       "      <td>0.0</td>\n",
       "      <td>0.0</td>\n",
       "      <td>0.0</td>\n",
       "      <td>0.0</td>\n",
       "    </tr>\n",
       "    <tr>\n",
       "      <th>2</th>\n",
       "      <td>0217E600-1375-E211-A85C-005056B06EC4</td>\n",
       "      <td>0.963925</td>\n",
       "      <td>0.963925</td>\n",
       "      <td>1.000000</td>\n",
       "      <td>0.920087</td>\n",
       "      <td>0.963925</td>\n",
       "      <td>0.963925</td>\n",
       "      <td>0.963925</td>\n",
       "      <td>0.952381</td>\n",
       "      <td>0.952381</td>\n",
       "      <td>...</td>\n",
       "      <td>0.0</td>\n",
       "      <td>0.0</td>\n",
       "      <td>0.0</td>\n",
       "      <td>0.0</td>\n",
       "      <td>0.0</td>\n",
       "      <td>0.0</td>\n",
       "      <td>0.0</td>\n",
       "      <td>0.0</td>\n",
       "      <td>0.0</td>\n",
       "      <td>0.0</td>\n",
       "    </tr>\n",
       "    <tr>\n",
       "      <th>3</th>\n",
       "      <td>0542DA63-2C64-ED11-9561-6045BD895B5A</td>\n",
       "      <td>0.931240</td>\n",
       "      <td>0.931240</td>\n",
       "      <td>0.920087</td>\n",
       "      <td>1.000000</td>\n",
       "      <td>0.931240</td>\n",
       "      <td>0.931240</td>\n",
       "      <td>0.931240</td>\n",
       "      <td>0.920087</td>\n",
       "      <td>0.920087</td>\n",
       "      <td>...</td>\n",
       "      <td>0.0</td>\n",
       "      <td>0.0</td>\n",
       "      <td>0.0</td>\n",
       "      <td>0.0</td>\n",
       "      <td>0.0</td>\n",
       "      <td>0.0</td>\n",
       "      <td>0.0</td>\n",
       "      <td>0.0</td>\n",
       "      <td>0.0</td>\n",
       "      <td>0.0</td>\n",
       "    </tr>\n",
       "    <tr>\n",
       "      <th>4</th>\n",
       "      <td>09E85092-AF88-EC11-93B0-6045BD91D362</td>\n",
       "      <td>0.975610</td>\n",
       "      <td>0.975610</td>\n",
       "      <td>0.963925</td>\n",
       "      <td>0.931240</td>\n",
       "      <td>1.000000</td>\n",
       "      <td>0.975610</td>\n",
       "      <td>0.975610</td>\n",
       "      <td>0.963925</td>\n",
       "      <td>0.963925</td>\n",
       "      <td>...</td>\n",
       "      <td>0.0</td>\n",
       "      <td>0.0</td>\n",
       "      <td>0.0</td>\n",
       "      <td>0.0</td>\n",
       "      <td>0.0</td>\n",
       "      <td>0.0</td>\n",
       "      <td>0.0</td>\n",
       "      <td>0.0</td>\n",
       "      <td>0.0</td>\n",
       "      <td>0.0</td>\n",
       "    </tr>\n",
       "  </tbody>\n",
       "</table>\n",
       "<p>5 rows × 26349 columns</p>\n",
       "</div>"
      ],
      "text/plain": [
       "contactID                             contactID  \\\n",
       "0          00008922-92DA-E711-80EE-001DD8B72B61   \n",
       "1          01C7C34F-90DA-E711-80EE-001DD8B72B61   \n",
       "2          0217E600-1375-E211-A85C-005056B06EC4   \n",
       "3          0542DA63-2C64-ED11-9561-6045BD895B5A   \n",
       "4          09E85092-AF88-EC11-93B0-6045BD91D362   \n",
       "\n",
       "contactID  00008922-92DA-E711-80EE-001DD8B72B61  \\\n",
       "0                                      1.000000   \n",
       "1                                      1.000000   \n",
       "2                                      0.963925   \n",
       "3                                      0.931240   \n",
       "4                                      0.975610   \n",
       "\n",
       "contactID  01C7C34F-90DA-E711-80EE-001DD8B72B61  \\\n",
       "0                                      1.000000   \n",
       "1                                      1.000000   \n",
       "2                                      0.963925   \n",
       "3                                      0.931240   \n",
       "4                                      0.975610   \n",
       "\n",
       "contactID  0217E600-1375-E211-A85C-005056B06EC4  \\\n",
       "0                                      0.963925   \n",
       "1                                      0.963925   \n",
       "2                                      1.000000   \n",
       "3                                      0.920087   \n",
       "4                                      0.963925   \n",
       "\n",
       "contactID  0542DA63-2C64-ED11-9561-6045BD895B5A  \\\n",
       "0                                      0.931240   \n",
       "1                                      0.931240   \n",
       "2                                      0.920087   \n",
       "3                                      1.000000   \n",
       "4                                      0.931240   \n",
       "\n",
       "contactID  09E85092-AF88-EC11-93B0-6045BD91D362  \\\n",
       "0                                      0.975610   \n",
       "1                                      0.975610   \n",
       "2                                      0.963925   \n",
       "3                                      0.931240   \n",
       "4                                      1.000000   \n",
       "\n",
       "contactID  0B39B000-708D-EC11-B400-000D3A24B6E5  \\\n",
       "0                                      0.975610   \n",
       "1                                      0.975610   \n",
       "2                                      0.963925   \n",
       "3                                      0.931240   \n",
       "4                                      0.975610   \n",
       "\n",
       "contactID  126C6BF1-6A9A-E511-A092-005056B06EB4  \\\n",
       "0                                      0.975610   \n",
       "1                                      0.975610   \n",
       "2                                      0.963925   \n",
       "3                                      0.931240   \n",
       "4                                      0.975610   \n",
       "\n",
       "contactID  13AFFF54-DA36-E711-80E6-001DD8B72B61  \\\n",
       "0                                      0.963925   \n",
       "1                                      0.963925   \n",
       "2                                      0.952381   \n",
       "3                                      0.920087   \n",
       "4                                      0.963925   \n",
       "\n",
       "contactID  143B2AE3-1B6F-E111-B43A-00505680000A  ...  \\\n",
       "0                                      0.963925  ...   \n",
       "1                                      0.963925  ...   \n",
       "2                                      0.952381  ...   \n",
       "3                                      0.920087  ...   \n",
       "4                                      0.963925  ...   \n",
       "\n",
       "contactID  CDC9B99B-61DA-EC11-BB3D-6045BD8B2E69  \\\n",
       "0                                           0.0   \n",
       "1                                           0.0   \n",
       "2                                           0.0   \n",
       "3                                           0.0   \n",
       "4                                           0.0   \n",
       "\n",
       "contactID  03ECA1DC-3267-EE11-9AE7-6045BD895B5A  \\\n",
       "0                                           0.0   \n",
       "1                                           0.0   \n",
       "2                                           0.0   \n",
       "3                                           0.0   \n",
       "4                                           0.0   \n",
       "\n",
       "contactID  47233332-2B05-EE11-8F6E-6045BD895420  \\\n",
       "0                                           0.0   \n",
       "1                                           0.0   \n",
       "2                                           0.0   \n",
       "3                                           0.0   \n",
       "4                                           0.0   \n",
       "\n",
       "contactID  AA8614A8-EA67-EE11-9AE7-6045BD9745FB  \\\n",
       "0                                           0.0   \n",
       "1                                           0.0   \n",
       "2                                           0.0   \n",
       "3                                           0.0   \n",
       "4                                           0.0   \n",
       "\n",
       "contactID  700DB6C4-25CD-E811-80F5-001DD8B72B62  \\\n",
       "0                                           0.0   \n",
       "1                                           0.0   \n",
       "2                                           0.0   \n",
       "3                                           0.0   \n",
       "4                                           0.0   \n",
       "\n",
       "contactID  F43AC180-E2C9-EC11-A7B5-00224881D030  \\\n",
       "0                                           0.0   \n",
       "1                                           0.0   \n",
       "2                                           0.0   \n",
       "3                                           0.0   \n",
       "4                                           0.0   \n",
       "\n",
       "contactID  7713E350-0556-EE11-BE6E-6045BD895420  \\\n",
       "0                                           0.0   \n",
       "1                                           0.0   \n",
       "2                                           0.0   \n",
       "3                                           0.0   \n",
       "4                                           0.0   \n",
       "\n",
       "contactID  1F0BD26E-6C66-EE11-9AE7-6045BD895B5A  \\\n",
       "0                                           0.0   \n",
       "1                                           0.0   \n",
       "2                                           0.0   \n",
       "3                                           0.0   \n",
       "4                                           0.0   \n",
       "\n",
       "contactID  FCDBE8E9-3868-EE11-9AE7-000D3A4AB78E  \\\n",
       "0                                           0.0   \n",
       "1                                           0.0   \n",
       "2                                           0.0   \n",
       "3                                           0.0   \n",
       "4                                           0.0   \n",
       "\n",
       "contactID  1C2A0BA5-899A-E511-A092-005056B06EB4  \n",
       "0                                           0.0  \n",
       "1                                           0.0  \n",
       "2                                           0.0  \n",
       "3                                           0.0  \n",
       "4                                           0.0  \n",
       "\n",
       "[5 rows x 26349 columns]"
      ]
     },
     "execution_count": 27,
     "metadata": {},
     "output_type": "execute_result"
    }
   ],
   "source": [
    "df = pd.DataFrame(similarities,columns=df['contactID'],index=df['contactID']).reset_index()\n",
    "df.head()"
   ]
  },
  {
   "cell_type": "code",
   "execution_count": 28,
   "metadata": {},
   "outputs": [
    {
     "name": "stdout",
     "output_type": "stream",
     "text": [
      "                                contactID\n",
      "0    00008922-92DA-E711-80EE-001DD8B72B61\n",
      "22   225548F9-8EDA-E711-80EE-001DD8B72B61\n",
      "24   23D35156-1341-EB11-8116-001DD8B72B61\n",
      "27   29B0EB66-82DA-E711-80EE-001DD8B72B61\n",
      "41   415EC187-F409-EA11-8107-001DD8B72B62\n",
      "86   8F165595-90DA-E711-80EE-001DD8B72B61\n",
      "96   9B832ACA-81DA-E711-80EE-001DD8B72B61\n",
      "107  B269EBE4-6CDA-E711-80EE-001DD8B72B61\n",
      "136  DE9E5F4B-8349-E811-80F0-001DD8B72B62\n",
      "137  DF8AE390-8349-E811-80F0-001DD8B72B62\n"
     ]
    }
   ],
   "source": [
    "input_person_id = '01C7C34F-90DA-E711-80EE-001DD8B72B61'\n",
    "recommendations = pd.DataFrame(df.nlargest(11,input_person_id)['contactID'])\n",
    "recommendations = recommendations[recommendations['contactID']!=input_person_id]\n",
    "print(recommendations)"
   ]
  },
  {
   "cell_type": "markdown",
   "metadata": {},
   "source": [
    "## test"
   ]
  },
  {
   "cell_type": "code",
   "execution_count": 33,
   "metadata": {},
   "outputs": [
    {
     "data": {
      "text/html": [
       "<div>\n",
       "<style scoped>\n",
       "    .dataframe tbody tr th:only-of-type {\n",
       "        vertical-align: middle;\n",
       "    }\n",
       "\n",
       "    .dataframe tbody tr th {\n",
       "        vertical-align: top;\n",
       "    }\n",
       "\n",
       "    .dataframe thead th {\n",
       "        text-align: right;\n",
       "    }\n",
       "</style>\n",
       "<table border=\"1\" class=\"dataframe\">\n",
       "  <thead>\n",
       "    <tr style=\"text-align: right;\">\n",
       "      <th></th>\n",
       "      <th>contactID</th>\n",
       "      <th>accountID</th>\n",
       "      <th>functietitel</th>\n",
       "      <th>plaats</th>\n",
       "      <th>subregio</th>\n",
       "      <th>ondernemingsaard</th>\n",
       "      <th>ondernemingstype</th>\n",
       "      <th>activiteitNaam</th>\n",
       "      <th>keyphrases</th>\n",
       "      <th>campagneID</th>\n",
       "      <th>campagneType</th>\n",
       "      <th>campagneNaam</th>\n",
       "      <th>campagneSoort</th>\n",
       "    </tr>\n",
       "  </thead>\n",
       "  <tbody>\n",
       "    <tr>\n",
       "      <th>8</th>\n",
       "      <td>143B2AE3-1B6F-E111-B43A-00505680000A</td>\n",
       "      <td>41037B31-0969-E111-B43A-00505680000A</td>\n",
       "      <td>algemeen directeur</td>\n",
       "      <td>Gent</td>\n",
       "      <td>Gent</td>\n",
       "      <td>Diensten</td>\n",
       "      <td>Onderwijs</td>\n",
       "      <td>Overige industrie &amp; diensten</td>\n",
       "      <td>profiel,  tak,  social,  china,  restaurant,  ...</td>\n",
       "      <td>NaN</td>\n",
       "      <td>NaN</td>\n",
       "      <td>NaN</td>\n",
       "      <td>NaN</td>\n",
       "    </tr>\n",
       "  </tbody>\n",
       "</table>\n",
       "</div>"
      ],
      "text/plain": [
       "                              contactID                             accountID  \\\n",
       "8  143B2AE3-1B6F-E111-B43A-00505680000A  41037B31-0969-E111-B43A-00505680000A   \n",
       "\n",
       "         functietitel plaats subregio ondernemingsaard ondernemingstype  \\\n",
       "8  algemeen directeur   Gent     Gent         Diensten        Onderwijs   \n",
       "\n",
       "                 activiteitNaam  \\\n",
       "8  Overige industrie & diensten   \n",
       "\n",
       "                                          keyphrases campagneID campagneType  \\\n",
       "8  profiel,  tak,  social,  china,  restaurant,  ...        NaN          NaN   \n",
       "\n",
       "  campagneNaam campagneSoort  \n",
       "8          NaN           NaN  "
      ]
     },
     "execution_count": 33,
     "metadata": {},
     "output_type": "execute_result"
    }
   ],
   "source": [
    "df3[(df3['contactID']=='143B2AE3-1B6F-E111-B43A-00505680000A')].head()"
   ]
  },
  {
   "cell_type": "code",
   "execution_count": 30,
   "metadata": {},
   "outputs": [
    {
     "data": {
      "text/html": [
       "<div>\n",
       "<style scoped>\n",
       "    .dataframe tbody tr th:only-of-type {\n",
       "        vertical-align: middle;\n",
       "    }\n",
       "\n",
       "    .dataframe tbody tr th {\n",
       "        vertical-align: top;\n",
       "    }\n",
       "\n",
       "    .dataframe thead th {\n",
       "        text-align: right;\n",
       "    }\n",
       "</style>\n",
       "<table border=\"1\" class=\"dataframe\">\n",
       "  <thead>\n",
       "    <tr style=\"text-align: right;\">\n",
       "      <th></th>\n",
       "      <th>contactID</th>\n",
       "      <th>accountID</th>\n",
       "      <th>functietitel</th>\n",
       "      <th>plaats</th>\n",
       "      <th>subregio</th>\n",
       "      <th>ondernemingsaard</th>\n",
       "      <th>ondernemingstype</th>\n",
       "      <th>activiteitNaam</th>\n",
       "      <th>keyphrases</th>\n",
       "      <th>campagneID</th>\n",
       "      <th>campagneType</th>\n",
       "      <th>campagneNaam</th>\n",
       "      <th>campagneSoort</th>\n",
       "    </tr>\n",
       "  </thead>\n",
       "  <tbody>\n",
       "    <tr>\n",
       "      <th>0</th>\n",
       "      <td>00008922-92DA-E711-80EE-001DD8B72B61</td>\n",
       "      <td>41037B31-0969-E111-B43A-00505680000A</td>\n",
       "      <td>unknown</td>\n",
       "      <td>Gent</td>\n",
       "      <td>Gent</td>\n",
       "      <td>Diensten</td>\n",
       "      <td>Onderwijs</td>\n",
       "      <td>Overige industrie &amp; diensten</td>\n",
       "      <td>profiel,  tak,  social,  china,  restaurant,  ...</td>\n",
       "      <td>NaN</td>\n",
       "      <td>NaN</td>\n",
       "      <td>NaN</td>\n",
       "      <td>NaN</td>\n",
       "    </tr>\n",
       "  </tbody>\n",
       "</table>\n",
       "</div>"
      ],
      "text/plain": [
       "                              contactID                             accountID  \\\n",
       "0  00008922-92DA-E711-80EE-001DD8B72B61  41037B31-0969-E111-B43A-00505680000A   \n",
       "\n",
       "  functietitel plaats subregio ondernemingsaard ondernemingstype  \\\n",
       "0      unknown   Gent     Gent         Diensten        Onderwijs   \n",
       "\n",
       "                 activiteitNaam  \\\n",
       "0  Overige industrie & diensten   \n",
       "\n",
       "                                          keyphrases campagneID campagneType  \\\n",
       "0  profiel,  tak,  social,  china,  restaurant,  ...        NaN          NaN   \n",
       "\n",
       "  campagneNaam campagneSoort  \n",
       "0          NaN           NaN  "
      ]
     },
     "execution_count": 30,
     "metadata": {},
     "output_type": "execute_result"
    }
   ],
   "source": [
    "df3[(df3['contactID']=='00008922-92DA-E711-80EE-001DD8B72B61')].head()"
   ]
  },
  {
   "cell_type": "code",
   "execution_count": 31,
   "metadata": {},
   "outputs": [
    {
     "data": {
      "text/plain": [
       "Index(['contactID', '00008922-92DA-E711-80EE-001DD8B72B61',\n",
       "       '01C7C34F-90DA-E711-80EE-001DD8B72B61',\n",
       "       '0217E600-1375-E211-A85C-005056B06EC4',\n",
       "       '0542DA63-2C64-ED11-9561-6045BD895B5A',\n",
       "       '09E85092-AF88-EC11-93B0-6045BD91D362',\n",
       "       '0B39B000-708D-EC11-B400-000D3A24B6E5',\n",
       "       '126C6BF1-6A9A-E511-A092-005056B06EB4',\n",
       "       '13AFFF54-DA36-E711-80E6-001DD8B72B61',\n",
       "       '143B2AE3-1B6F-E111-B43A-00505680000A',\n",
       "       ...\n",
       "       'CDC9B99B-61DA-EC11-BB3D-6045BD8B2E69',\n",
       "       '03ECA1DC-3267-EE11-9AE7-6045BD895B5A',\n",
       "       '47233332-2B05-EE11-8F6E-6045BD895420',\n",
       "       'AA8614A8-EA67-EE11-9AE7-6045BD9745FB',\n",
       "       '700DB6C4-25CD-E811-80F5-001DD8B72B62',\n",
       "       'F43AC180-E2C9-EC11-A7B5-00224881D030',\n",
       "       '7713E350-0556-EE11-BE6E-6045BD895420',\n",
       "       '1F0BD26E-6C66-EE11-9AE7-6045BD895B5A',\n",
       "       'FCDBE8E9-3868-EE11-9AE7-000D3A4AB78E',\n",
       "       '1C2A0BA5-899A-E511-A092-005056B06EB4'],\n",
       "      dtype='object', name='contactID', length=26349)"
      ]
     },
     "execution_count": 31,
     "metadata": {},
     "output_type": "execute_result"
    }
   ],
   "source": [
    "df.head().columns"
   ]
  },
  {
   "cell_type": "code",
   "execution_count": 32,
   "metadata": {},
   "outputs": [
    {
     "data": {
      "text/html": [
       "<div>\n",
       "<style scoped>\n",
       "    .dataframe tbody tr th:only-of-type {\n",
       "        vertical-align: middle;\n",
       "    }\n",
       "\n",
       "    .dataframe tbody tr th {\n",
       "        vertical-align: top;\n",
       "    }\n",
       "\n",
       "    .dataframe thead th {\n",
       "        text-align: right;\n",
       "    }\n",
       "</style>\n",
       "<table border=\"1\" class=\"dataframe\">\n",
       "  <thead>\n",
       "    <tr style=\"text-align: right;\">\n",
       "      <th></th>\n",
       "      <th>contactID</th>\n",
       "      <th>accountID</th>\n",
       "      <th>functietitel</th>\n",
       "      <th>plaats</th>\n",
       "      <th>subregio</th>\n",
       "      <th>ondernemingsaard</th>\n",
       "      <th>ondernemingstype</th>\n",
       "      <th>activiteitNaam</th>\n",
       "      <th>keyphrases</th>\n",
       "      <th>campagneID</th>\n",
       "      <th>campagneType</th>\n",
       "      <th>campagneNaam</th>\n",
       "      <th>campagneSoort</th>\n",
       "    </tr>\n",
       "  </thead>\n",
       "  <tbody>\n",
       "    <tr>\n",
       "      <th>0</th>\n",
       "      <td>00008922-92DA-E711-80EE-001DD8B72B61</td>\n",
       "      <td>41037B31-0969-E111-B43A-00505680000A</td>\n",
       "      <td>unknown</td>\n",
       "      <td>Gent</td>\n",
       "      <td>Gent</td>\n",
       "      <td>Diensten</td>\n",
       "      <td>Onderwijs</td>\n",
       "      <td>Overige industrie &amp; diensten</td>\n",
       "      <td>profiel,  tak,  social,  china,  restaurant,  ...</td>\n",
       "      <td>NaN</td>\n",
       "      <td>NaN</td>\n",
       "      <td>NaN</td>\n",
       "      <td>NaN</td>\n",
       "    </tr>\n",
       "    <tr>\n",
       "      <th>1</th>\n",
       "      <td>01C7C34F-90DA-E711-80EE-001DD8B72B61</td>\n",
       "      <td>41037B31-0969-E111-B43A-00505680000A</td>\n",
       "      <td>unknown</td>\n",
       "      <td>Gent</td>\n",
       "      <td>Gent</td>\n",
       "      <td>Diensten</td>\n",
       "      <td>Onderwijs</td>\n",
       "      <td>Overige industrie &amp; diensten</td>\n",
       "      <td>profiel,  tak,  social,  china,  restaurant,  ...</td>\n",
       "      <td>NaN</td>\n",
       "      <td>NaN</td>\n",
       "      <td>NaN</td>\n",
       "      <td>NaN</td>\n",
       "    </tr>\n",
       "    <tr>\n",
       "      <th>2</th>\n",
       "      <td>0217E600-1375-E211-A85C-005056B06EC4</td>\n",
       "      <td>41037B31-0969-E111-B43A-00505680000A</td>\n",
       "      <td>onderzoek &amp; dienstverlening</td>\n",
       "      <td>Gent</td>\n",
       "      <td>Gent</td>\n",
       "      <td>Diensten</td>\n",
       "      <td>Onderwijs</td>\n",
       "      <td>Overige industrie &amp; diensten</td>\n",
       "      <td>profiel,  tak,  social,  china,  restaurant,  ...</td>\n",
       "      <td>NaN</td>\n",
       "      <td>NaN</td>\n",
       "      <td>NaN</td>\n",
       "      <td>NaN</td>\n",
       "    </tr>\n",
       "    <tr>\n",
       "      <th>3</th>\n",
       "      <td>0542DA63-2C64-ED11-9561-6045BD895B5A</td>\n",
       "      <td>41037B31-0969-E111-B43A-00505680000A</td>\n",
       "      <td>teamleider graduaatsopleidingen enw bmg, artev...</td>\n",
       "      <td>Gent</td>\n",
       "      <td>Gent</td>\n",
       "      <td>Diensten</td>\n",
       "      <td>Onderwijs</td>\n",
       "      <td>Overige industrie &amp; diensten</td>\n",
       "      <td>profiel,  tak,  social,  china,  restaurant,  ...</td>\n",
       "      <td>NaN</td>\n",
       "      <td>NaN</td>\n",
       "      <td>NaN</td>\n",
       "      <td>NaN</td>\n",
       "    </tr>\n",
       "    <tr>\n",
       "      <th>4</th>\n",
       "      <td>09E85092-AF88-EC11-93B0-6045BD91D362</td>\n",
       "      <td>41037B31-0969-E111-B43A-00505680000A</td>\n",
       "      <td>student</td>\n",
       "      <td>Gent</td>\n",
       "      <td>Gent</td>\n",
       "      <td>Diensten</td>\n",
       "      <td>Onderwijs</td>\n",
       "      <td>Overige industrie &amp; diensten</td>\n",
       "      <td>profiel,  tak,  social,  china,  restaurant,  ...</td>\n",
       "      <td>NaN</td>\n",
       "      <td>NaN</td>\n",
       "      <td>NaN</td>\n",
       "      <td>NaN</td>\n",
       "    </tr>\n",
       "    <tr>\n",
       "      <th>...</th>\n",
       "      <td>...</td>\n",
       "      <td>...</td>\n",
       "      <td>...</td>\n",
       "      <td>...</td>\n",
       "      <td>...</td>\n",
       "      <td>...</td>\n",
       "      <td>...</td>\n",
       "      <td>...</td>\n",
       "      <td>...</td>\n",
       "      <td>...</td>\n",
       "      <td>...</td>\n",
       "      <td>...</td>\n",
       "      <td>...</td>\n",
       "    </tr>\n",
       "    <tr>\n",
       "      <th>75093</th>\n",
       "      <td>F43AC180-E2C9-EC11-A7B5-00224881D030</td>\n",
       "      <td>NaN</td>\n",
       "      <td>NaN</td>\n",
       "      <td>NaN</td>\n",
       "      <td>NaN</td>\n",
       "      <td>NaN</td>\n",
       "      <td>NaN</td>\n",
       "      <td>NaN</td>\n",
       "      <td>NaN</td>\n",
       "      <td>FFE56B2D-B848-EE11-BE6E-6045BD895D78</td>\n",
       "      <td>Project</td>\n",
       "      <td>OV-P-GROEP U StartUp Bryo 2023</td>\n",
       "      <td>Offline</td>\n",
       "    </tr>\n",
       "    <tr>\n",
       "      <th>75095</th>\n",
       "      <td>7713E350-0556-EE11-BE6E-6045BD895420</td>\n",
       "      <td>NaN</td>\n",
       "      <td>NaN</td>\n",
       "      <td>NaN</td>\n",
       "      <td>NaN</td>\n",
       "      <td>NaN</td>\n",
       "      <td>NaN</td>\n",
       "      <td>NaN</td>\n",
       "      <td>NaN</td>\n",
       "      <td>FFE56B2D-B848-EE11-BE6E-6045BD895D78</td>\n",
       "      <td>Project</td>\n",
       "      <td>OV-P-GROEP U StartUp Bryo 2023</td>\n",
       "      <td>Offline</td>\n",
       "    </tr>\n",
       "    <tr>\n",
       "      <th>75097</th>\n",
       "      <td>1F0BD26E-6C66-EE11-9AE7-6045BD895B5A</td>\n",
       "      <td>NaN</td>\n",
       "      <td>NaN</td>\n",
       "      <td>NaN</td>\n",
       "      <td>NaN</td>\n",
       "      <td>NaN</td>\n",
       "      <td>NaN</td>\n",
       "      <td>NaN</td>\n",
       "      <td>NaN</td>\n",
       "      <td>FFE56B2D-B848-EE11-BE6E-6045BD895D78</td>\n",
       "      <td>Project</td>\n",
       "      <td>OV-P-GROEP U StartUp Bryo 2023</td>\n",
       "      <td>Offline</td>\n",
       "    </tr>\n",
       "    <tr>\n",
       "      <th>75099</th>\n",
       "      <td>FCDBE8E9-3868-EE11-9AE7-000D3A4AB78E</td>\n",
       "      <td>NaN</td>\n",
       "      <td>NaN</td>\n",
       "      <td>NaN</td>\n",
       "      <td>NaN</td>\n",
       "      <td>NaN</td>\n",
       "      <td>NaN</td>\n",
       "      <td>NaN</td>\n",
       "      <td>NaN</td>\n",
       "      <td>FFE56B2D-B848-EE11-BE6E-6045BD895D78</td>\n",
       "      <td>Project</td>\n",
       "      <td>OV-P-GROEP U StartUp Bryo 2023</td>\n",
       "      <td>Offline</td>\n",
       "    </tr>\n",
       "    <tr>\n",
       "      <th>75101</th>\n",
       "      <td>1C2A0BA5-899A-E511-A092-005056B06EB4</td>\n",
       "      <td>NaN</td>\n",
       "      <td>NaN</td>\n",
       "      <td>NaN</td>\n",
       "      <td>NaN</td>\n",
       "      <td>NaN</td>\n",
       "      <td>NaN</td>\n",
       "      <td>NaN</td>\n",
       "      <td>NaN</td>\n",
       "      <td>FFE56B2D-B848-EE11-BE6E-6045BD895D78</td>\n",
       "      <td>Project</td>\n",
       "      <td>OV-P-GROEP U StartUp Bryo 2023</td>\n",
       "      <td>Offline</td>\n",
       "    </tr>\n",
       "  </tbody>\n",
       "</table>\n",
       "<p>26348 rows × 13 columns</p>\n",
       "</div>"
      ],
      "text/plain": [
       "                                  contactID  \\\n",
       "0      00008922-92DA-E711-80EE-001DD8B72B61   \n",
       "1      01C7C34F-90DA-E711-80EE-001DD8B72B61   \n",
       "2      0217E600-1375-E211-A85C-005056B06EC4   \n",
       "3      0542DA63-2C64-ED11-9561-6045BD895B5A   \n",
       "4      09E85092-AF88-EC11-93B0-6045BD91D362   \n",
       "...                                     ...   \n",
       "75093  F43AC180-E2C9-EC11-A7B5-00224881D030   \n",
       "75095  7713E350-0556-EE11-BE6E-6045BD895420   \n",
       "75097  1F0BD26E-6C66-EE11-9AE7-6045BD895B5A   \n",
       "75099  FCDBE8E9-3868-EE11-9AE7-000D3A4AB78E   \n",
       "75101  1C2A0BA5-899A-E511-A092-005056B06EB4   \n",
       "\n",
       "                                  accountID  \\\n",
       "0      41037B31-0969-E111-B43A-00505680000A   \n",
       "1      41037B31-0969-E111-B43A-00505680000A   \n",
       "2      41037B31-0969-E111-B43A-00505680000A   \n",
       "3      41037B31-0969-E111-B43A-00505680000A   \n",
       "4      41037B31-0969-E111-B43A-00505680000A   \n",
       "...                                     ...   \n",
       "75093                                   NaN   \n",
       "75095                                   NaN   \n",
       "75097                                   NaN   \n",
       "75099                                   NaN   \n",
       "75101                                   NaN   \n",
       "\n",
       "                                            functietitel plaats subregio  \\\n",
       "0                                                unknown   Gent     Gent   \n",
       "1                                                unknown   Gent     Gent   \n",
       "2                            onderzoek & dienstverlening   Gent     Gent   \n",
       "3      teamleider graduaatsopleidingen enw bmg, artev...   Gent     Gent   \n",
       "4                                                student   Gent     Gent   \n",
       "...                                                  ...    ...      ...   \n",
       "75093                                                NaN    NaN      NaN   \n",
       "75095                                                NaN    NaN      NaN   \n",
       "75097                                                NaN    NaN      NaN   \n",
       "75099                                                NaN    NaN      NaN   \n",
       "75101                                                NaN    NaN      NaN   \n",
       "\n",
       "      ondernemingsaard ondernemingstype                activiteitNaam  \\\n",
       "0             Diensten        Onderwijs  Overige industrie & diensten   \n",
       "1             Diensten        Onderwijs  Overige industrie & diensten   \n",
       "2             Diensten        Onderwijs  Overige industrie & diensten   \n",
       "3             Diensten        Onderwijs  Overige industrie & diensten   \n",
       "4             Diensten        Onderwijs  Overige industrie & diensten   \n",
       "...                ...              ...                           ...   \n",
       "75093              NaN              NaN                           NaN   \n",
       "75095              NaN              NaN                           NaN   \n",
       "75097              NaN              NaN                           NaN   \n",
       "75099              NaN              NaN                           NaN   \n",
       "75101              NaN              NaN                           NaN   \n",
       "\n",
       "                                              keyphrases  \\\n",
       "0      profiel,  tak,  social,  china,  restaurant,  ...   \n",
       "1      profiel,  tak,  social,  china,  restaurant,  ...   \n",
       "2      profiel,  tak,  social,  china,  restaurant,  ...   \n",
       "3      profiel,  tak,  social,  china,  restaurant,  ...   \n",
       "4      profiel,  tak,  social,  china,  restaurant,  ...   \n",
       "...                                                  ...   \n",
       "75093                                                NaN   \n",
       "75095                                                NaN   \n",
       "75097                                                NaN   \n",
       "75099                                                NaN   \n",
       "75101                                                NaN   \n",
       "\n",
       "                                 campagneID campagneType  \\\n",
       "0                                       NaN          NaN   \n",
       "1                                       NaN          NaN   \n",
       "2                                       NaN          NaN   \n",
       "3                                       NaN          NaN   \n",
       "4                                       NaN          NaN   \n",
       "...                                     ...          ...   \n",
       "75093  FFE56B2D-B848-EE11-BE6E-6045BD895D78      Project   \n",
       "75095  FFE56B2D-B848-EE11-BE6E-6045BD895D78      Project   \n",
       "75097  FFE56B2D-B848-EE11-BE6E-6045BD895D78      Project   \n",
       "75099  FFE56B2D-B848-EE11-BE6E-6045BD895D78      Project   \n",
       "75101  FFE56B2D-B848-EE11-BE6E-6045BD895D78      Project   \n",
       "\n",
       "                         campagneNaam campagneSoort  \n",
       "0                                 NaN           NaN  \n",
       "1                                 NaN           NaN  \n",
       "2                                 NaN           NaN  \n",
       "3                                 NaN           NaN  \n",
       "4                                 NaN           NaN  \n",
       "...                               ...           ...  \n",
       "75093  OV-P-GROEP U StartUp Bryo 2023       Offline  \n",
       "75095  OV-P-GROEP U StartUp Bryo 2023       Offline  \n",
       "75097  OV-P-GROEP U StartUp Bryo 2023       Offline  \n",
       "75099  OV-P-GROEP U StartUp Bryo 2023       Offline  \n",
       "75101  OV-P-GROEP U StartUp Bryo 2023       Offline  \n",
       "\n",
       "[26348 rows x 13 columns]"
      ]
     },
     "execution_count": 32,
     "metadata": {},
     "output_type": "execute_result"
    }
   ],
   "source": [
    "df3"
   ]
  }
 ],
 "metadata": {
  "kernelspec": {
   "display_name": ".venv",
   "language": "python",
   "name": "python3"
  },
  "language_info": {
   "codemirror_mode": {
    "name": "ipython",
    "version": 3
   },
   "file_extension": ".py",
   "mimetype": "text/x-python",
   "name": "python",
   "nbconvert_exporter": "python",
   "pygments_lexer": "ipython3",
   "version": "3.11.5"
  }
 },
 "nbformat": 4,
 "nbformat_minor": 2
}
