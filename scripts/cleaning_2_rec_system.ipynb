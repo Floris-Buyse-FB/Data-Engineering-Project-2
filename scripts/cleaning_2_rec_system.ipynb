{
 "cells": [
  {
   "cell_type": "code",
   "execution_count": 3,
   "metadata": {},
   "outputs": [],
   "source": [
    "import pandas as pd\n",
    "import numpy as np\n",
    "import os"
   ]
  },
  {
   "cell_type": "markdown",
   "metadata": {},
   "source": [
    "### Notes:"
   ]
  },
  {
   "cell_type": "markdown",
   "metadata": {},
   "source": [
    "##### marketing_pressure wordt berekend adhv deze kolommen : \n",
    "\n",
    "```Python\n",
    "[\n",
    "    persoon_mail_thema_, persoon_mail_type_, persoon_marketingcommunicatie, visit_first_visit, \n",
    "    visit_total_pages, sentemail_kliks_clicks, inschrijving_bron\n",
    "]\n",
    "```\n",
    "\n",
    "- Hierbij wordt sentemail_kliks_clicks eerst omgezet naar een frequentie (# clicks / # emails)\n",
    "\n",
    "- Bij inschrijving bron is email = 1, website 0 en anders -1\n",
    "\n",
    "- Persoon_marketingcommunicatie wordt omgezet naar een numerieke kolom met 1 voor Flexibel en 0 voor strict en -1 voor geen waarde"
   ]
  },
  {
   "cell_type": "markdown",
   "metadata": {},
   "source": [
    "##### keyphrases worden berekend adhv deze kolommen : \n",
    "\n",
    "```Python\n",
    "[\n",
    "    account_adres, account_onderneming, contact_functietitel, functie_naam, activiteitscode_naam, afspraak_thema, afspraak_onderwerp, afspraak_keyphrases, afspraak_betreft, campagne_naam, campagne_type_campagne, campagne_soort_campagne, mailing_name, mailing_onderwerp\n",
    "]\n",
    "```\n"
   ]
  },
  {
   "cell_type": "markdown",
   "metadata": {},
   "source": [
    "### Account en contact merge"
   ]
  },
  {
   "cell_type": "code",
   "execution_count": 301,
   "metadata": {},
   "outputs": [],
   "source": [
    "df_account = pd.read_csv('../data_clean/Account_fixed.csv')\n",
    "\n",
    "# alleen de actieve accounts\n",
    "df_account = df_account[df_account['account_reden_van_status'] != 'Inactief']\n",
    "df_account = df_account[df_account['account_reden_van_status'] != 'Stopzetting']\n",
    "\n",
    "# alleen de accounts uit Oost-Vlaanderen\n",
    "df_account = df_account[df_account['account_adres_provincie'] == 'Oost-Vlaanderen']\n",
    "\n",
    "# account adres samenvoegen\n",
    "df_account['account_adres'] = df_account['account_adres_plaats'].str.lower() + ' ' \\\n",
    "            + df_account['account_adres_geografische_subregio'].str.lower()\n",
    "df_account['account_adres'] = df_account['account_adres'].str.replace(r'\\([a-z.-]+\\)', '', regex=True).str.replace('  ', ' ')\\\n",
    "\n",
    "# account ondernemingstype samenvoegen\n",
    "df_account['account_onderneming'] = df_account['account_ondernemingstype'] + ', ' \\\n",
    "                            + df_account['account_ondernemingsaard'] + ', ' \\\n",
    "                            + df_account['account_primaire_activiteit'] + ' ' \\\n",
    "\n",
    "df_account['account_onderneming'] = df_account['account_onderneming'].str.replace('unknown', '').str.replace(', , ', '') \\\n",
    "                                                            .str.strip().str.lower() \\\n",
    "                                                            .str.replace(r',$|^,', '', regex=True) \\\n",
    "                                                            .str.replace('&', '').str.replace('-', '') \\\n",
    "\n",
    "# drop kolommen\n",
    "df_account.drop(['account_industriezone_naam_', 'account_oprichtingsdatum', 'account_reden_van_status',\n",
    "           'account_status', 'account_voka_nr_', 'account_is_voka_entiteit','account_adres_geografische_regio', \n",
    "           'account_adres_geografische_subregio', 'account_adres_plaats', 'account_adres_postcode', \n",
    "           'account_adres_provincie', 'account_adres_land', 'account_ondernemingstype', \n",
    "           'account_ondernemingsaard', 'account_primaire_activiteit'], axis=1, inplace=True)\n",
    "\n",
    "##############################################################################################################\n",
    "#### CONTACT ####\n",
    "##############################################################################################################\n",
    "\n",
    "df_contact = pd.read_csv('../data_clean/Contact_fixed.csv')\n",
    "df_contact = df_contact[df_contact['contact_status'] != 'Inactief']\n",
    "df_contact['contact_functietitel'] = df_contact['contact_functietitel'].str.lower().str.replace(r'[^\\w\\s]', '', regex=True) \\\n",
    "                                                        .str.replace('  ', ' ').str.strip()\n",
    "df_contact.drop(['contact_status', 'contact_voka_medewerker'], axis=1, inplace=True)\n",
    "\n",
    "##############################################################################################################\n",
    "#### CONTACT ACCOUNT MERGE ####\n",
    "##############################################################################################################\n",
    "\n",
    "df_account_contact = df_account.merge(df_contact, left_on='account_account_id', right_on='contact_account', how='inner')\n",
    "df_account_contact.drop(['contact_account'], axis=1, inplace=True)"
   ]
  },
  {
   "cell_type": "markdown",
   "metadata": {},
   "source": [
    "### Persoon merge"
   ]
  },
  {
   "cell_type": "code",
   "execution_count": 302,
   "metadata": {},
   "outputs": [],
   "source": [
    "df_persoon = pd.read_csv('../data_clean/Persoon_fixed.csv')\n",
    "\n",
    "df_persoon = df_persoon[df_persoon['persoon_reden_van_status'] == 'Actief']\n",
    "\n",
    "for col in df_persoon.columns:\n",
    "    if col.__contains__('persoon_mail_regio'):\n",
    "        df_persoon.drop(col, axis=1, inplace=True)\n",
    "\n",
    "df_persoon.drop(['persoon_persoonsnr_', 'persoon_web_login', 'persoon_reden_van_status'], axis=1, inplace=True)\n",
    "\n",
    "##############################################################################################################\n",
    "#### ACCOUNT CONTACT PERSOON MERGE ####\n",
    "##############################################################################################################\n",
    "\n",
    "df_account_contact_persoon = df_account_contact.merge(df_persoon, left_on='contact_persoon_id', right_on='persoon_persoon_id', how='left')\n",
    "df_account_contact_persoon.drop(['contact_persoon_id', 'persoon_persoon_id'], axis=1, inplace=True)\n",
    "\n",
    "# NaN waarden opvullen\n",
    "for col in df_account_contact_persoon.columns:\n",
    "    if col.__contains__('persoon_mail_type') or col.__contains__('persoon_mail_thema'):\n",
    "        df_account_contact_persoon[col] = df_account_contact_persoon[col].fillna(0)\n",
    "\n",
    "df_account_contact_persoon['persoon_marketingcommunicatie'] = df_account_contact_persoon['persoon_marketingcommunicatie'].fillna('-1')\n",
    "df_account_contact_persoon['persoon_marketingcommunicatie'] = df_account_contact_persoon['persoon_marketingcommunicatie'] \\\n",
    "                                                            .str.replace('Strikt', '0').str.replace('Flexibel', '1') \\\n",
    "                                                            .str.replace('Uitgeschreven', '-1').str.replace('unknown', '-1').astype(int)\n",
    "\n",
    "marketing_pressure_cols = [col for col in df_account_contact_persoon.columns if col.__contains__('persoon_mail_type') \n",
    "                           or col.__contains__('persoon_mail_thema') or col.__contains__('persoon_marketingcommunicatie')]\n",
    "\n",
    "marketing_pressure_cols = [col for col in df_account_contact_persoon.columns if col.__contains__('persoon_mail_type') \n",
    "                           or col.__contains__('persoon_mail_thema') or col.__contains__('persoon_marketingcommunicatie')]\n",
    "\n",
    "df_account_contact_persoon['marketing_pressure'] = df_account_contact_persoon[marketing_pressure_cols].sum(axis=1)\n",
    "df_account_contact_persoon['marketing_pressure'] = df_account_contact_persoon['marketing_pressure'].astype(int)\n",
    "df_account_contact_persoon.drop(marketing_pressure_cols, axis=1, inplace=True)"
   ]
  },
  {
   "cell_type": "markdown",
   "metadata": {},
   "source": [
    "### Functie"
   ]
  },
  {
   "cell_type": "code",
   "execution_count": 303,
   "metadata": {},
   "outputs": [],
   "source": [
    "df_contact_functie = pd.read_csv('../data_clean/Contact_functie_fixed.csv')\n",
    "df_functie = pd.read_csv('../data_clean/Functie_fixed.csv')\n",
    "\n",
    "df_account_contact_persoon = df_account_contact_persoon.merge(df_contact_functie, left_on='contact_contactpersoon_id'\n",
    "                                              , right_on='contactfunctie_contactpersoon', how='inner')\n",
    "df_account_contact_persoon.drop(['contactfunctie_contactpersoon'], axis=1, inplace=True)\n",
    "\n",
    "\n",
    "df_account_contact_persoon = df_account_contact_persoon.merge(df_functie, left_on='contactfunctie_functie'\n",
    "                                                              , right_on='functie_functie_id', how='inner')\n",
    "df_account_contact_persoon.drop(['contactfunctie_functie', 'functie_functie_id'], axis=1, inplace=True)\n",
    "\n",
    "# Define a custom aggregation function to merge 'functie_naam'\n",
    "def merge_functie_naam(series):\n",
    "    return ', '.join(series)\n",
    "\n",
    "# Group by 'account_account_id' and 'contact_contactpersoon_id' and merge 'functie_naam'\n",
    "df_account_contact_persoon = df_account_contact_persoon.groupby(\n",
    "    ['account_account_id', 'contact_contactpersoon_id'], \n",
    "    as_index=False).agg({'functie_naam': merge_functie_naam, \n",
    "                         **{col: 'first' for col in df_account_contact_persoon.columns if col != 'functie_naam'}})\n",
    "\n",
    "df_account_contact_persoon['functie_naam'] = df_account_contact_persoon['functie_naam'].str.lower() \\\n",
    "        .str.replace(r'[^\\w\\s]', '', regex=True).str.replace('  ', ' ').str.strip()"
   ]
  },
  {
   "cell_type": "markdown",
   "metadata": {},
   "source": [
    "### Activiteitscode"
   ]
  },
  {
   "cell_type": "code",
   "execution_count": 304,
   "metadata": {},
   "outputs": [
    {
     "data": {
      "text/plain": [
       "(67225, 8)"
      ]
     },
     "execution_count": 304,
     "metadata": {},
     "output_type": "execute_result"
    }
   ],
   "source": [
    "df_account_activiteitscode = pd.read_csv('../data_clean/Account_activiteitscode_fixed.csv')\n",
    "df_activiteitscode = pd.read_csv('../data_clean/Activiteitscode_fixed.csv')\n",
    "\n",
    "df_activiteit = df_account_activiteitscode.merge(df_activiteitscode, left_on='account_activiteitscode_activiteitscode', right_on='activiteitscode_activiteitscode_id', how='inner')\n",
    "\n",
    "df_activiteit.drop(['account_activiteitscode_activiteitscode', 'activiteitscode_activiteitscode_id'\n",
    "                    , 'activiteitscode_status', 'account_activiteitscode_inf_account_inf_activiteitscodeid'], axis=1, inplace=True)\n",
    "\n",
    "# where account_activiteitscode_account is not unique, combine the activiteitscode_naam\n",
    "def merge_activiteitscode_naam(series):\n",
    "    return ', '.join(series)\n",
    "\n",
    "df_activiteit = df_activiteit.groupby(\n",
    "    ['account_activiteitscode_account'], \n",
    "    as_index=False).agg({'activiteitscode_naam': merge_activiteitscode_naam, \n",
    "                         **{col: 'first' for col in df_activiteit.columns if col != 'activiteitscode_naam'}})\n",
    "\n",
    "df_activiteit['activiteitscode_naam'] = df_activiteit['activiteitscode_naam'].str.replace(' en ', ' ').str.replace(' & ', ' ') \\\n",
    "                                                            .str.replace('-', '').str.replace('  ', ' ').str.lower().str.strip()\n",
    "\n",
    "df_account_contact_persoon = df_account_contact_persoon.merge(df_activiteit, left_on='account_account_id'\n",
    "                                              , right_on='account_activiteitscode_account', how='left')\n",
    "df_account_contact_persoon.drop(['account_activiteitscode_account'], axis=1, inplace=True)\n",
    "df_account_contact_persoon.shape"
   ]
  },
  {
   "cell_type": "markdown",
   "metadata": {},
   "source": [
    "### Financieel"
   ]
  },
  {
   "cell_type": "code",
   "execution_count": 305,
   "metadata": {},
   "outputs": [],
   "source": [
    "df_account_financieel = pd.read_csv('../data_clean/Account_financiële_data_fixed.csv', sep=',')\n",
    "df_account_financieel.drop(['financieledata_gewijzigd_op', 'financieledata_fte', 'financieledata_aantal_maanden'], axis=1, inplace=True)\n",
    "df_account_financieel['financieledata_toegevoegde_waarde'] = df_account_financieel['financieledata_toegevoegde_waarde'].astype(str)\n",
    "\n",
    "df_account_contact_persoon_finance = df_account_contact_persoon.merge(df_account_financieel, left_on='account_account_id', right_on='financieledata_ondernemingid', how='left')\n",
    "df_account_contact_persoon_finance.drop(['financieledata_ondernemingid'], axis=1, inplace=True)\n",
    "\n",
    "# turn financieledata_toegevoegde_waarde into a numeric value\n",
    "df_account_contact_persoon_finance['financieledata_toegevoegde_waarde'] = df_account_contact_persoon_finance['financieledata_toegevoegde_waarde'] \\\n",
    "                                                                    .str.replace(',', '.') \\\n",
    "                                                                    .str.replace('unknown', '0') \\\n",
    "                                                                    .astype(float)\n",
    "\n",
    "# De financieel toegevoegde waarde optellen per account en de boekjaren hun range gebruiken (vb 2007 - 2022 => 15 jaar)\n",
    "df_account_contact_persoon_finance = df_account_contact_persoon_finance.groupby(\n",
    "    ['account_account_id', 'contact_contactpersoon_id'], \n",
    "    as_index=False).agg({'financieledata_toegevoegde_waarde': 'sum', \n",
    "                         'financieledata_boekjaar': lambda x: x.max() - x.min(), \n",
    "                         **{col: 'first' for col in df_account_contact_persoon_finance.columns if col not in ['financieledata_toegevoegde_waarde', 'financieledata_boekjaar']}})\n",
    "\n",
    "df_account_contact_persoon_finance.rename(columns={'financieledata_boekjaar': 'boekjaar_range', 'financieledata_toegevoegde_waarde': 'toegevoegde_waarde'}, inplace=True)\n",
    "\n",
    "df_account_contact_persoon_finance['avg_waarde_jaar'] = df_account_contact_persoon_finance['toegevoegde_waarde'] / df_account_contact_persoon_finance['boekjaar_range']\n",
    "df_account_contact_persoon_finance['avg_waarde_jaar'] = df_account_contact_persoon_finance['avg_waarde_jaar'].round(2)"
   ]
  },
  {
   "cell_type": "markdown",
   "metadata": {},
   "source": [
    "### Afspraken"
   ]
  },
  {
   "cell_type": "code",
   "execution_count": 306,
   "metadata": {},
   "outputs": [
    {
     "data": {
      "text/plain": [
       "(68610, 16)"
      ]
     },
     "execution_count": 306,
     "metadata": {},
     "output_type": "execute_result"
    }
   ],
   "source": [
    "# Csv files inlezen\n",
    "df_afspraak_acc_gelinkt = pd.read_csv('../data_clean/Afspraak_account_gelinkt_cleaned_fixed.csv', sep=',')\n",
    "df_afspraak_acc_gelinkt.drop(['afspraak_account_gelinkt_account'], axis=1, inplace=True)\n",
    "\n",
    "df_afspraak_betreft_acc = pd.read_csv('../data_clean/Afspraak_betreft_account_cleaned_fixed.csv', sep=',')\n",
    "df_afspraak_betreft_acc.drop(['afspraak_betreft_account_betreft_id'], axis=1, inplace=True)\n",
    "\n",
    "df_afspraak_betreft_contact = pd.read_csv('../data_clean/Afspraak_betreft_contact_cleaned_fixed.csv', sep=',')\n",
    "df_afspraak_betreft_contact.drop(['afspraak_betreft_contactfiche_betreft_id'], axis=1, inplace=True)\n",
    "\n",
    "df_afspraak_alle = pd.read_csv('../data_clean/Afspraak_alle_fixed.csv', sep=',')\n",
    "\n",
    "# Kolomnamen hernoemen en afspraakt_betreft toevoegen (betreft account = 1, betreft contact = 0)\n",
    "df_afspraak_acc_gelinkt.columns = ['afspraak_afspraak_id', 'afspraak_thema', 'afspraak_subthema', 'afspraak_onderwerp', 'afspraak_eindtijd', 'afspraak_keyphrases']\n",
    "df_afspraak_betreft_acc.columns = ['afspraak_afspraak_id', 'afspraak_thema', 'afspraak_subthema', 'afspraak_onderwerp', 'afspraak_eindtijd', 'afspraak_keyphrases']\n",
    "df_afspraak_betreft_contact.columns = ['afspraak_afspraak_id', 'afspraak_thema', 'afspraak_subthema', 'afspraak_onderwerp', 'afspraak_eindtijd', 'afspraak_keyphrases']\n",
    "\n",
    "df_afspraak_betreft_acc[\"afspraak_betreft\"] = 'account'\n",
    "df_afspraak_acc_gelinkt[\"afspraak_betreft\"] = 'account'\n",
    "df_afspraak_betreft_contact[\"afspraak_betreft\"] = 'contact'\n",
    "\n",
    "# Get the unique afspraak_afspraak_id's from afspraak_acc_gelinkt\n",
    "acc_gelinkt_id_list = df_afspraak_acc_gelinkt['afspraak_afspraak_id'].unique()\n",
    "\n",
    "# Concatenate the dataframes\n",
    "df_afspraken = pd.concat([df_afspraak_betreft_acc, df_afspraak_acc_gelinkt, df_afspraak_betreft_contact], ignore_index=True)\n",
    "df_afspraken.drop_duplicates(inplace=True)\n",
    "\n",
    "# Mergen met Afspraak_alle\n",
    "df_afspraken = df_afspraken.merge(df_afspraak_alle, left_on='afspraak_afspraak_id', right_on='afspraak_alle_afspraak_id', how='inner')\n",
    "\n",
    "# String cleanup\n",
    "df_afspraken['afspraak_thema'] = df_afspraken['afspraak_subthema'].str.replace('\\(', '', regex=True)\n",
    "df_afspraken['afspraak_thema'] = df_afspraken['afspraak_thema'].str.replace('\\)', '', regex=True)\n",
    "df_afspraken['afspraak_onderwerp'] = df_afspraken['afspraak_onderwerp'].str.lower().astype(str)\n",
    "\n",
    "# Drop kolommen\n",
    "df_afspraken.drop(['afspraak_alle_afspraak_id', 'afspraak_eindtijd', 'afspraak_subthema'], axis=1, inplace=True)\n",
    "df_afspraken.drop_duplicates(inplace=True)\n",
    "\n",
    "# show rows where afspraak_afspraak_id is not unique\n",
    "list_to_change_afspraak_betreft_to_2 = df_afspraken[df_afspraken['afspraak_afspraak_id'].duplicated(keep=False)]['afspraak_afspraak_id'].unique()\n",
    "\n",
    "# for every afspraak_afspraak_id that is not unique, change afspraak_betreft to 2\n",
    "for afspraak_id in list_to_change_afspraak_betreft_to_2:\n",
    "    df_afspraken.loc[df_afspraken['afspraak_afspraak_id'] == afspraak_id, 'afspraak_betreft'] = 2\n",
    "\n",
    "df_afspraken.drop_duplicates(inplace=True)\n",
    "\n",
    "for afspraak_id in acc_gelinkt_id_list:\n",
    "    df_afspraken.loc[df_afspraken['afspraak_afspraak_id'] == afspraak_id, 'afspraak_account_gelinkt'] = 1\n",
    "\n",
    "df_afspraken['afspraak_account_gelinkt'].fillna(0, inplace=True)\n",
    "\n",
    "# Mergen met Activiteit_vereist_contact\n",
    "df_activiteit_vereist_contact = pd.read_csv('../data_clean/Activiteit_vereist_contact_fixed.csv', sep=',')\n",
    "df_afspraken_total = df_afspraken.merge(df_activiteit_vereist_contact, left_on='afspraak_afspraak_id', right_on='activiteitvereistcontact_activityid_id', how='inner')\n",
    "df_afspraken_total.drop(['activiteitvereistcontact_activityid_id', 'afspraak_afspraak_id'], axis=1, inplace=True)\n",
    "\n",
    "##############################################################################################################\n",
    "#### ACCOUNT CONTACT PERSOON ACTIVITEIT MERGE ####\n",
    "##############################################################################################################\n",
    "\n",
    "merged_total = df_account_contact_persoon_finance.merge(df_afspraken_total, left_on=['contact_contactpersoon_id'], right_on=['activiteitvereistcontact_reqattendee'], how='left')\n",
    "merged_total.drop(['activiteitvereistcontact_reqattendee'], axis=1, inplace=True)\n",
    "\n",
    "# NaN values vervangen\n",
    "merged_total['boekjaar_range'].fillna(0, inplace=True)\n",
    "merged_total['afspraak_betreft'].fillna(-1, inplace=True)\n",
    "merged_total['afspraak_account_gelinkt'].fillna(-1, inplace=True)\n",
    "\n",
    "merged_total['activiteitscode_naam'].fillna('unknown', inplace=True)\n",
    "merged_total['afspraak_thema'].fillna('unknown', inplace=True)\n",
    "merged_total['afspraak_onderwerp'].fillna('unknown', inplace=True)\n",
    "merged_total['afspraak_keyphrases'].fillna('unknown', inplace=True)\n",
    "\n",
    "# Strings cleanen\n",
    "merged_total['afspraak_thema'] = merged_total['afspraak_thema'].str.lower() \\\n",
    "        .str.replace(r'[^\\w\\s]', '', regex=True).str.replace('  ', ' ').str.strip()\n",
    "\n",
    "merged_total['afspraak_onderwerp'] = merged_total['afspraak_onderwerp'].str.replace('ov-', '').str.replace('ov -', '') \\\n",
    "        .str.replace('ov ', '').str.replace('-', ' ').str.replace(r'[^\\w\\s]', '', regex=True).str.replace('  ', ' ').str.strip()\n",
    "\n",
    "merged_total['afspraak_keyphrases'] = merged_total['afspraak_keyphrases'].str.lower().str.replace(r'[^\\w\\s]', '', regex=True) \\\n",
    "                                                                            .str.replace('  ', ' ').str.strip()\n",
    "\n",
    "merged_total.drop_duplicates(inplace=True)\n",
    "merged_total.shape"
   ]
  },
  {
   "cell_type": "code",
   "execution_count": 307,
   "metadata": {},
   "outputs": [],
   "source": [
    "# RAM geheugen vrijmaken -> verwijder niet gebruikte dataframes\n",
    "try:\n",
    "    del df_account\n",
    "    del df_contact\n",
    "    del df_account_contact\n",
    "    del df_persoon\n",
    "    del df_account_contact_persoon\n",
    "    del df_contact_functie\n",
    "    del df_functie\n",
    "    del df_account_activiteitscode\n",
    "    del df_activiteitscode\n",
    "    del df_activiteit\n",
    "    del df_account_contact_persoon_finance\n",
    "    del df_afspraak_acc_gelinkt\n",
    "    del df_afspraak_betreft_acc\n",
    "    del df_afspraak_betreft_contact\n",
    "    del df_afspraak_alle\n",
    "    del df_afspraken\n",
    "    del df_activiteit_vereist_contact\n",
    "except:\n",
    "    print('Dataframes already deleted')"
   ]
  },
  {
   "cell_type": "markdown",
   "metadata": {},
   "source": [
    "### Campagne en Inschrijving"
   ]
  },
  {
   "cell_type": "code",
   "execution_count": 308,
   "metadata": {},
   "outputs": [
    {
     "data": {
      "text/plain": [
       "(48427, 8)"
      ]
     },
     "execution_count": 308,
     "metadata": {},
     "output_type": "execute_result"
    }
   ],
   "source": [
    "df_campagne = pd.read_csv('../data_clean/Campagne_fixed.csv', sep=',')\n",
    "df_inschrijving = pd.read_csv('../data_clean/Inschrijving_fixed.csv', sep=',')\n",
    "df_inschrijving.drop(['inschrijving_datum_inschrijving', 'inschrijving_campagne_naam_'], axis=1, inplace=True)\n",
    "\n",
    "# campagne naam cleanen\n",
    "df_campagne['campagne_naam'] = df_campagne['campagne_naam'].str.replace('OV-', '').str.replace('ov-', '') \\\n",
    "                                                            .str.replace('-', ' ').str.replace(r'[^\\w\\s]', '', regex=True) \\\n",
    "                                                            .str.replace('  ', ' ').str.strip().str.lower().str.replace('  ', ' ')\n",
    "\n",
    "# Drop kolommen\n",
    "df_campagne.drop(['campagne_einddatum', 'campagne_startdatum', 'campagne_campagne_nr', \n",
    "                  'campagne_naam_in_email', 'campagne_reden_van_status', 'campagne_status',\n",
    "                  'campagne_url_voka_be'\n",
    "                  ], axis=1, inplace=True)\n",
    "\n",
    "# Merge campagne en inschrijving\n",
    "df_campagne_inschrijving = df_campagne.merge(df_inschrijving, left_on='campagne_campagne_id', right_on='inschrijving_campagne', how='inner')\n",
    "df_campagne_inschrijving.drop(['inschrijving_campagne', 'inschrijving_inschrijving_id'], axis=1, inplace=True)\n",
    "df_campagne_inschrijving.drop_duplicates(inplace=True)\n",
    "df_campagne_inschrijving.shape"
   ]
  },
  {
   "cell_type": "code",
   "execution_count": 309,
   "metadata": {},
   "outputs": [
    {
     "data": {
      "text/plain": [
       "(48123, 23)"
      ]
     },
     "execution_count": 309,
     "metadata": {},
     "output_type": "execute_result"
    }
   ],
   "source": [
    "merged_total2 = merged_total.merge(df_campagne_inschrijving, left_on='contact_contactpersoon_id'\n",
    "                                             , right_on='inschrijving_contactfiche', how='inner')\n",
    "\n",
    "merged_total2.drop(['inschrijving_contactfiche'], axis=1, inplace=True)\n",
    "\n",
    "# drop rows where campagne_campagne_id is NaN\n",
    "merged_total2.dropna(subset=['campagne_campagne_id'], inplace=True)\n",
    "\n",
    "# rows samenvoegen\n",
    "merged_total2['inschrijving_aanwezig_afwezig'] \\\n",
    "    = merged_total2['inschrijving_aanwezig_afwezig'].astype(str) \\\n",
    "                                                            .str.replace('Aanwezig', '1') \\\n",
    "                                                            .str.replace('Afwezig', '0') \\\n",
    "                                                            .str.replace('unknown', '-1') \\\n",
    "                                                            .astype(int)\n",
    "\n",
    "merged_total2['inschrijving_facturatie_bedrag'] \\\n",
    "      = merged_total2['inschrijving_facturatie_bedrag'].astype(str) \\\n",
    "                                                               .str.replace(',', '.') \\\n",
    "                                                               .str.replace('unknown', '-1') \\\n",
    "                                                               .astype(float)\n",
    "\n",
    "merged_total2['inschrijving_bron'] \\\n",
    "    = merged_total2['inschrijving_bron'].astype(str) \\\n",
    "                                                .str.replace('unknown', '-1') \\\n",
    "                                                .str.replace('Website', '0') \\\n",
    "                                                .str.replace('Email', '1') \\\n",
    "                                                .astype(int)\n",
    "\n",
    "merged_total2.shape"
   ]
  },
  {
   "cell_type": "code",
   "execution_count": 310,
   "metadata": {},
   "outputs": [],
   "source": [
    "# RAM geheugen vrijmaken -> verwijder niet gebruikte dataframes\n",
    "try:\n",
    "    del df_campagne\n",
    "    del df_inschrijving\n",
    "    del df_campagne_inschrijving\n",
    "    del merged_total\n",
    "except:\n",
    "    print('Dataframes already deleted')"
   ]
  },
  {
   "cell_type": "markdown",
   "metadata": {},
   "source": [
    "### Visits, Mailing, Sent_mail_clicks"
   ]
  },
  {
   "cell_type": "code",
   "execution_count": 311,
   "metadata": {},
   "outputs": [],
   "source": [
    "df_visit = pd.read_csv('../data_clean/CDI_visits_fixed.csv', sep=',')\n",
    "\n",
    "df_visit.drop(\n",
    "    ['visit_ip_postcode', 'visit_aangemaakt_op', 'visit_adobe_reader', 'visit_campagne_code',\n",
    "    'visit_contact_naam_', 'visit_containssocialprofile', 'visit_ended_on', 'visit_ip_address',\n",
    "    'visit_ip_organization', 'visit_keywords', 'visit_ip_longitude', 'visit_ip_latitude', 'visit_referrer', \n",
    "    'visit_score', 'visit_started_on', 'visit_ip_status', 'visit_time', 'visit_visit_id', 'visit_gewijzigd_op',\n",
    "    'visit_entry_page', 'visit_exit_page', 'visit_ip_company', 'visit_referring_host', 'visit_referrer_type', \n",
    "    'visit_bounce', 'visit_duration', 'visit_browser', 'visit_ip_stad', 'visit_ip_land', 'visit_operating_system',\n",
    "   ], axis=1, inplace=True)\n",
    "\n",
    "df_visit.drop_duplicates(inplace=True)\n",
    "\n",
    "df_visit['visit_first_visit'] = df_visit['visit_first_visit'] \\\n",
    "      .str.replace('Ja', '1').str.replace('Nee', '0') \\\n",
    "      .str.replace('unknown', '-1').astype(int)\n",
    "\n",
    "df_visit['visit_total_pages'] = df_visit['visit_total_pages']\\\n",
    "      .replace('unknown', '-1.0').astype(float)\n",
    "\n",
    "##############################################################################################################\n",
    "\n",
    "# Csv files inlezen\n",
    "df_mailing = pd.read_csv('../data_clean/CDI_mailing_fixed.csv', sep=',')\n",
    "df_mailing.drop(['mailing_sent_on'], axis=1, inplace=True)\n",
    "df_mailing.drop_duplicates(inplace=True)\n",
    "df_click = pd.read_csv('../data_clean/CDI_sent_email_clicks_fixed.csv', sep=',')\n",
    "df_click.drop(['sentemail_kliks_contact', 'sentemail_kliks_sent_email_id'], axis=1, inplace=True)\n",
    "df_click.drop_duplicates(inplace=True)\n",
    "\n",
    "# Merge en drop kolommen\n",
    "df_mailing_merged = df_mailing.merge(df_click, left_on='mailing_mailing_id', right_on='sentemail_kliks_e_mail_versturen', how='inner')\n",
    "df_mailing_merged.drop(['sentemail_kliks_e_mail_versturen'], axis=1, inplace=True)\n",
    "\n",
    "# Voeg een nieuwe kolom toe voor het aantal mails per groep\n",
    "df_mailing_merged['aantal_mails'] = df_mailing_merged.groupby(\n",
    "    ['mailing_mailing_id'])['mailing_mailing_id'].transform('count')\n",
    "\n",
    "# Sentmail_kliks_clicks optellen per mailing\n",
    "df_mailing_merged = df_mailing_merged.groupby(['mailing_mailing_id', 'mailing_name', 'mailing_onderwerp'], \n",
    "                          as_index=False).agg({'sentemail_kliks_clicks': 'sum', \n",
    "                                                **{col: 'first' for col in df_mailing_merged.columns if col not in ['sentemail_kliks_clicks']}})\n",
    "\n",
    "##############################################################################################################\n",
    "\n",
    "df_visit_mailing = df_visit.merge(df_mailing_merged, left_on='visit_email_send', right_on='mailing_mailing_id', how='left')\n",
    "df_visit_mailing.drop(['visit_email_send', 'mailing_mailing_id', 'visit_campaign'], axis=1, inplace=True)\n",
    "\n",
    "# String kolommen cleanen\n",
    "df_visit_mailing['mailing_name'] = df_visit_mailing['mailing_name'].str.replace('OV-', '') \\\n",
    "                                            .str.replace('OV ', '').str.replace('OV -', '') \\\n",
    "                                            .str.replace('-', ' ').str.replace(r'[^\\w\\s]', ' ', regex=True) \\\n",
    "                                            .str.replace('  ', ' ').str.strip().str.lower().str.replace('  ', ' ')\n",
    "\n",
    "df_visit_mailing['mailing_onderwerp'] = df_visit_mailing['mailing_onderwerp'] \\\n",
    "                                            .str.replace('-', ' ').str.replace(r'[^\\w\\s]', ' ', regex=True) \\\n",
    "                                            .str.replace('  ', ' ').str.strip().str.lower().str.replace('  ', ' ')\n",
    "\n",
    "df_visit_mailing['sentemail_kliks_clicks'] \\\n",
    "    = df_visit_mailing['sentemail_kliks_clicks'].replace('unknown', '0').astype(int)"
   ]
  },
  {
   "cell_type": "markdown",
   "metadata": {},
   "source": [
    "### Final merge"
   ]
  },
  {
   "cell_type": "code",
   "execution_count": 312,
   "metadata": {},
   "outputs": [
    {
     "data": {
      "text/plain": [
       "(174436, 8)"
      ]
     },
     "execution_count": 312,
     "metadata": {},
     "output_type": "execute_result"
    }
   ],
   "source": [
    "final_merge = merged_total2.merge(df_visit_mailing, left_on='contact_contactpersoon_id', right_on='visit_contact', how='left')\n",
    "final_merge.drop(['visit_contact', 'account_account_id'], axis=1, inplace=True)\n",
    "\n",
    "# Numeric en categorical kolommen selecteren\n",
    "num_cols = final_merge.select_dtypes(include=['float64', 'int64']).columns\n",
    "cat_cols = final_merge.select_dtypes(include=['object']).columns\n",
    "\n",
    "# fill NaN values with -1 for numeric columns\n",
    "final_merge[num_cols] = final_merge[num_cols].fillna(-1)\n",
    "# fill NaN values with 'unknown' for categorical columns\n",
    "final_merge[cat_cols] = final_merge[cat_cols].fillna('unknown')\n",
    "\n",
    "# verander alle int64 en int32 naar int8\n",
    "int_cols = final_merge.select_dtypes(include=['int64', 'int32']).columns\n",
    "final_merge[int_cols] = final_merge[int_cols].astype('int8')\n",
    "\n",
    "# mail_click_freq berekenen\n",
    "final_merge['mail_click_freq'] = final_merge.apply(\n",
    "    lambda row: 0 if row['aantal_mails'] == -1 else round(row['sentemail_kliks_clicks'] / row['aantal_mails']), axis=1)\n",
    "final_merge.drop(['sentemail_kliks_clicks', 'aantal_mails'], axis=1, inplace=True)\n",
    "\n",
    "# marketing_pressure berekenen\n",
    "final_merge['marketing_pressure'] = final_merge['marketing_pressure'] + final_merge['mail_click_freq'] \n",
    "+ final_merge['visit_total_pages'] + final_merge['visit_first_visit'] + final_merge['inschrijving_bron']\n",
    "\n",
    "final_merge.drop(['mail_click_freq', 'visit_total_pages', 'visit_first_visit', 'inschrijving_bron'], axis=1, inplace=True)\n",
    "\n",
    "# toegevoegde waarde en boekjaar range droppen want we hebben al avg_waarde_jaar -> betere representatie\n",
    "final_merge.drop(['toegevoegde_waarde', 'boekjaar_range'], axis=1, inplace=True)\n",
    "\n",
    "# keyphrases kolommen mergen\n",
    "cols_for_keyphrase = ['functie_naam', 'contact_functietitel', 'account_adres', 'account_onderneming'\n",
    "                      , 'activiteitscode_naam', 'afspraak_thema', 'afspraak_onderwerp', 'afspraak_keyphrases'\n",
    "                      , 'afspraak_betreft', 'campagne_naam', 'campagne_type_campagne', 'campagne_soort_campagne'\n",
    "                      , 'mailing_name', 'mailing_onderwerp']\n",
    "\n",
    "for col in cols_for_keyphrase:\n",
    "    final_merge[col] = final_merge[col].astype(str).str.split().str.join(', ')\n",
    "\n",
    "final_merge['keyphrases'] = final_merge[cols_for_keyphrase].apply(lambda x: ', '.join(x), axis=1)\n",
    "final_merge.drop(cols_for_keyphrase, axis=1, inplace=True)\n",
    "\n",
    "# keyphrases cleanen\n",
    "final_merge['keyphrases'] = final_merge['keyphrases'].str.replace(', ,', ',').str.replace(r'(\\s{2},\\s{2}),*+', '') \\\n",
    "    .str.replace('  ', ' ').str.replace(r'[^\\w\\s]', '', regex=True) \\\n",
    "    .str.replace('  ', ' ').str.strip().str.lower()\n",
    "\n",
    "final_merge.drop_duplicates(inplace=True, ignore_index=True)\n",
    "final_merge.shape"
   ]
  },
  {
   "cell_type": "markdown",
   "metadata": {},
   "source": [
    "### Tokenizing en stopword removal"
   ]
  },
  {
   "cell_type": "code",
   "execution_count": 313,
   "metadata": {},
   "outputs": [
    {
     "name": "stderr",
     "output_type": "stream",
     "text": [
      "[nltk_data] Downloading package stopwords to\n",
      "[nltk_data]     C:\\Users\\buyse\\AppData\\Roaming\\nltk_data...\n",
      "[nltk_data]   Package stopwords is already up-to-date!\n",
      "[nltk_data] Downloading package punkt to\n",
      "[nltk_data]     C:\\Users\\buyse\\AppData\\Roaming\\nltk_data...\n",
      "[nltk_data]   Package punkt is already up-to-date!\n"
     ]
    },
    {
     "data": {
      "text/plain": [
       "True"
      ]
     },
     "execution_count": 313,
     "metadata": {},
     "output_type": "execute_result"
    }
   ],
   "source": [
    "import nltk\n",
    "from nltk.corpus import stopwords\n",
    "from nltk.tokenize import word_tokenize\n",
    "from nltk.stem.snowball import SnowballStemmer\n",
    "\n",
    "nltk.download('stopwords')\n",
    "nltk.download('punkt')"
   ]
  },
  {
   "cell_type": "code",
   "execution_count": 314,
   "metadata": {},
   "outputs": [],
   "source": [
    "def remove_stopwords(text):\n",
    "    stop_words_nl = set(stopwords.words('dutch'))\n",
    "    \n",
    "    word_tokens = word_tokenize(text, language='dutch')\n",
    "\n",
    "    result = [x for x in word_tokens if x not in stop_words_nl]\n",
    "\n",
    "    seperator = ', '\n",
    "    return seperator.join(result)\n",
    "\n",
    "\n",
    "def team_name_change(text):\n",
    "    teams_dict = {\n",
    "        'jo': ' jong ondernemen ',\n",
    "        'do': ' duurzaam ondernemen ',\n",
    "        'in': ' innovatie digitalisering ',\n",
    "        'io': ' internationaal ondernemen ',\n",
    "        'ao': ' arbeidsmarkt ',\n",
    "        'ex': ' expert ',\n",
    "        'gr': ' groei ',\n",
    "        'bb': ' belangenbehartiging ',\n",
    "        'co': ' communicatie ',\n",
    "        'nw': ' netwerking ',\n",
    "        'ha': ' haven ',\n",
    "        'ma': ' match '\n",
    "    }\n",
    "    word_tokens = word_tokenize(text, language='dutch')\n",
    "    # apply dict to list\n",
    "    result = [teams_dict.get(word, word) for word in word_tokens]\n",
    "    # join list to string\n",
    "    cleaned_list = ', '.join(result)\n",
    "    # tokenize string\n",
    "    tokenize_list = word_tokenize(cleaned_list, language='dutch')\n",
    "    # remove comma\n",
    "    tokenize_list_no_comma = [x for x in tokenize_list if x != ',']\n",
    "    # join list to string and remove duplicates from list\n",
    "    return ', '.join(list(set(tokenize_list_no_comma)))\n",
    "\n",
    "\n",
    "def stemmer(text):\n",
    "    stemmer = SnowballStemmer(language='dutch')\n",
    "    stem_sentence=[]\n",
    "    for word in text.split(','):\n",
    "        stem_sentence.append(stemmer.stem(word))\n",
    "    stem_sentence= ', '.join(stem_sentence)\n",
    "    return stem_sentence\n",
    "\n",
    "\n",
    "def clean_text(df=final_merge, col='keyphrases'):\n",
    "\n",
    "    df_copy = df.copy()\n",
    "\n",
    "    for row in range(len(df_copy)):\n",
    "        name_change = team_name_change(df_copy[col][row])\n",
    "        no_stopwords = remove_stopwords(name_change)\n",
    "        tokenize_list = word_tokenize(no_stopwords, language='dutch')\n",
    "        tokenize_list = [x for x in tokenize_list if x != ',']\n",
    "        df_copy.at[row, col] = ', '.join(list(set(tokenize_list)))\n",
    "        stemmer_list= stemmer(df_copy[col][row])\n",
    "        df_copy.at[row, col] = stemmer_list\n",
    "\n",
    "    return df_copy"
   ]
  },
  {
   "cell_type": "code",
   "execution_count": 315,
   "metadata": {},
   "outputs": [],
   "source": [
    "final_merge_clean = clean_text()"
   ]
  },
  {
   "cell_type": "code",
   "execution_count": 353,
   "metadata": {},
   "outputs": [],
   "source": [
    "final_merge_clean['keyphrases'] = final_merge_clean['keyphrases'].str.replace('voka', ' ') \\\n",
    "    .str.replace('ov', '').str.replace('unknown', '').str.replace(r'\\b\\w{1,3}\\b', '', regex=True).str.replace(r'\\d+', '', regex=True) \\\n",
    "    .str.replace(r'(\\s{2},\\s{2}),*+', '', regex=True).str.replace(' ', '').str.replace(r'^,+|,+$', '', regex=True) \\\n",
    "    .str.replace(r',,+', ',', regex=True)"
   ]
  },
  {
   "cell_type": "code",
   "execution_count": 356,
   "metadata": {},
   "outputs": [],
   "source": [
    "final_merge_clean.to_csv('../data_clean/final_merge_clean.csv', index=False)"
   ]
  },
  {
   "cell_type": "markdown",
   "metadata": {},
   "source": [
    "### Embedding"
   ]
  },
  {
   "cell_type": "code",
   "execution_count": 4,
   "metadata": {},
   "outputs": [],
   "source": [
    "import openai\n",
    "from dotenv import load_dotenv"
   ]
  },
  {
   "cell_type": "code",
   "execution_count": 9,
   "metadata": {},
   "outputs": [
    {
     "data": {
      "text/plain": [
       "(174436, 8)"
      ]
     },
     "execution_count": 9,
     "metadata": {},
     "output_type": "execute_result"
    }
   ],
   "source": [
    "data = pd.read_csv('../data_clean/final_merge_clean.csv', sep=',')\n",
    "data.shape"
   ]
  },
  {
   "cell_type": "code",
   "execution_count": 5,
   "metadata": {},
   "outputs": [],
   "source": [
    "load_dotenv(\"../.env\")\n",
    "openai.api_key = os.getenv(\"OPENAI_API_KEY\")\n",
    "\n",
    "embedding_model = \"text-embedding-ada-002\""
   ]
  },
  {
   "cell_type": "code",
   "execution_count": 6,
   "metadata": {},
   "outputs": [],
   "source": [
    "def get_embedding(text):\n",
    "    response = openai.Embedding.create(\n",
    "    input=text,\n",
    "    model=embedding_model\n",
    "    )   \n",
    "    return response['data'][0]['embedding']"
   ]
  },
  {
   "cell_type": "markdown",
   "metadata": {},
   "source": [
    "Zou 11.6 uur duren volgens de berekening ..."
   ]
  },
  {
   "cell_type": "code",
   "execution_count": null,
   "metadata": {},
   "outputs": [],
   "source": [
    "# unique_col = data['keyphrases'].unique().tolist()\n",
    "\n",
    "# dict_temp = {}\n",
    "# for i in unique_col:\n",
    "#     dict_temp[i] = get_embedding(i)\n",
    "\n",
    "# df_embeddings = pd.DataFrame.from_dict(dict_temp, orient='index')"
   ]
  }
 ],
 "metadata": {
  "kernelspec": {
   "display_name": "Python 3",
   "language": "python",
   "name": "python3"
  },
  "language_info": {
   "codemirror_mode": {
    "name": "ipython",
    "version": 3
   },
   "file_extension": ".py",
   "mimetype": "text/x-python",
   "name": "python",
   "nbconvert_exporter": "python",
   "pygments_lexer": "ipython3",
   "version": "3.11.3"
  }
 },
 "nbformat": 4,
 "nbformat_minor": 2
}
