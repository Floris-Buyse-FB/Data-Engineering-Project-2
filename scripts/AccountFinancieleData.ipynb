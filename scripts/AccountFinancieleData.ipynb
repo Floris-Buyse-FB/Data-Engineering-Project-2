{
 "cells": [
  {
   "cell_type": "code",
   "execution_count": 13,
   "metadata": {},
   "outputs": [],
   "source": [
    "import pandas as pd\n",
    "data = pd.read_csv('../data_clean/Account_financiële_data_fixed.csv', sep=\",\")"
   ]
  },
  {
   "cell_type": "code",
   "execution_count": 14,
   "metadata": {},
   "outputs": [
    {
     "data": {
      "text/html": [
       "<div>\n",
       "<style scoped>\n",
       "    .dataframe tbody tr th:only-of-type {\n",
       "        vertical-align: middle;\n",
       "    }\n",
       "\n",
       "    .dataframe tbody tr th {\n",
       "        vertical-align: top;\n",
       "    }\n",
       "\n",
       "    .dataframe thead th {\n",
       "        text-align: right;\n",
       "    }\n",
       "</style>\n",
       "<table border=\"1\" class=\"dataframe\">\n",
       "  <thead>\n",
       "    <tr style=\"text-align: right;\">\n",
       "      <th></th>\n",
       "      <th>FinancieleData_ID</th>\n",
       "      <th>FinancieleData_OndernemingID</th>\n",
       "      <th>FinancieleData_Boekjaar</th>\n",
       "      <th>FinancieleData_Aantal_maanden</th>\n",
       "      <th>FinancieleData_Toegevoegde_waarde</th>\n",
       "      <th>FinancieleData_FTE</th>\n",
       "      <th>FinancieleData_Gewijzigd_op</th>\n",
       "    </tr>\n",
       "  </thead>\n",
       "  <tbody>\n",
       "    <tr>\n",
       "      <th>0</th>\n",
       "      <td>1</td>\n",
       "      <td>00002DAC-0A69-E111-B43A-00505680000A</td>\n",
       "      <td>2007</td>\n",
       "      <td>NaN</td>\n",
       "      <td>NaN</td>\n",
       "      <td>1</td>\n",
       "      <td>15-10-2018 08:21:37</td>\n",
       "    </tr>\n",
       "    <tr>\n",
       "      <th>1</th>\n",
       "      <td>2</td>\n",
       "      <td>00002DAC-0A69-E111-B43A-00505680000A</td>\n",
       "      <td>2008</td>\n",
       "      <td>NaN</td>\n",
       "      <td>NaN</td>\n",
       "      <td>1</td>\n",
       "      <td>15-10-2018 13:20:45</td>\n",
       "    </tr>\n",
       "    <tr>\n",
       "      <th>2</th>\n",
       "      <td>3</td>\n",
       "      <td>00002DAC-0A69-E111-B43A-00505680000A</td>\n",
       "      <td>2009</td>\n",
       "      <td>NaN</td>\n",
       "      <td>NaN</td>\n",
       "      <td>2</td>\n",
       "      <td>15-10-2018 04:00:52</td>\n",
       "    </tr>\n",
       "    <tr>\n",
       "      <th>3</th>\n",
       "      <td>4</td>\n",
       "      <td>00002DAC-0A69-E111-B43A-00505680000A</td>\n",
       "      <td>2010</td>\n",
       "      <td>12.0</td>\n",
       "      <td>NaN</td>\n",
       "      <td>1</td>\n",
       "      <td>15-10-2018 12:42:56</td>\n",
       "    </tr>\n",
       "    <tr>\n",
       "      <th>4</th>\n",
       "      <td>5</td>\n",
       "      <td>00002DAC-0A69-E111-B43A-00505680000A</td>\n",
       "      <td>2011</td>\n",
       "      <td>12.0</td>\n",
       "      <td>NaN</td>\n",
       "      <td>1</td>\n",
       "      <td>15-10-2018 04:54:28</td>\n",
       "    </tr>\n",
       "  </tbody>\n",
       "</table>\n",
       "</div>"
      ],
      "text/plain": [
       "   FinancieleData_ID          FinancieleData_OndernemingID   \n",
       "0                  1  00002DAC-0A69-E111-B43A-00505680000A  \\\n",
       "1                  2  00002DAC-0A69-E111-B43A-00505680000A   \n",
       "2                  3  00002DAC-0A69-E111-B43A-00505680000A   \n",
       "3                  4  00002DAC-0A69-E111-B43A-00505680000A   \n",
       "4                  5  00002DAC-0A69-E111-B43A-00505680000A   \n",
       "\n",
       "   FinancieleData_Boekjaar  FinancieleData_Aantal_maanden   \n",
       "0                     2007                            NaN  \\\n",
       "1                     2008                            NaN   \n",
       "2                     2009                            NaN   \n",
       "3                     2010                           12.0   \n",
       "4                     2011                           12.0   \n",
       "\n",
       "  FinancieleData_Toegevoegde_waarde FinancieleData_FTE   \n",
       "0                               NaN                  1  \\\n",
       "1                               NaN                  1   \n",
       "2                               NaN                  2   \n",
       "3                               NaN                  1   \n",
       "4                               NaN                  1   \n",
       "\n",
       "  FinancieleData_Gewijzigd_op  \n",
       "0         15-10-2018 08:21:37  \n",
       "1         15-10-2018 13:20:45  \n",
       "2         15-10-2018 04:00:52  \n",
       "3         15-10-2018 12:42:56  \n",
       "4         15-10-2018 04:54:28  "
      ]
     },
     "execution_count": 14,
     "metadata": {},
     "output_type": "execute_result"
    }
   ],
   "source": [
    "data.head()"
   ]
  },
  {
   "cell_type": "code",
   "execution_count": 17,
   "metadata": {},
   "outputs": [],
   "source": [
    "unique_financial_onderneming_id = data['FinancieleData_OndernemingID'].unique()"
   ]
  },
  {
   "cell_type": "code",
   "execution_count": 16,
   "metadata": {},
   "outputs": [],
   "source": [
    "data2 = pd.read_csv('../data_clean/Account_fixed.csv', sep=\",\")"
   ]
  },
  {
   "cell_type": "code",
   "execution_count": 18,
   "metadata": {},
   "outputs": [],
   "source": [
    "unique_account_id = data2['Account_Account'].unique()"
   ]
  },
  {
   "cell_type": "code",
   "execution_count": 20,
   "metadata": {},
   "outputs": [
    {
     "name": "stdout",
     "output_type": "stream",
     "text": [
      "02E2C17D-A213-E211-9DAA-005056B06EB4\n",
      "5C161136-A768-E111-B43A-00505680000A\n",
      "8AC9D862-9668-E111-B43A-00505680000A\n",
      "DFAAE601-1969-E111-B43A-00505680000A\n"
     ]
    }
   ],
   "source": [
    "# check if there are any accounts that are not in the financial data\n",
    "for account in unique_financial_onderneming_id:\n",
    "    if account not in unique_account_id:\n",
    "        print(account)"
   ]
  },
  {
   "cell_type": "code",
   "execution_count": 22,
   "metadata": {},
   "outputs": [],
   "source": [
    "excluded_ids = [\n",
    "    \"02E2C17D-A213-E211-9DAA-005056B06EB4\",\n",
    "    \"5C161136-A768-E111-B43A-00505680000A\",\n",
    "    \"8AC9D862-9668-E111-B43A-00505680000A\",\n",
    "    \"DFAAE601-1969-E111-B43A-00505680000A\"\n",
    "]\n",
    "\n",
    "data = data[~data['FinancieleData_OndernemingID'].isin(excluded_ids)]\n"
   ]
  },
  {
   "cell_type": "code",
   "execution_count": 23,
   "metadata": {},
   "outputs": [
    {
     "data": {
      "text/html": [
       "<div>\n",
       "<style scoped>\n",
       "    .dataframe tbody tr th:only-of-type {\n",
       "        vertical-align: middle;\n",
       "    }\n",
       "\n",
       "    .dataframe tbody tr th {\n",
       "        vertical-align: top;\n",
       "    }\n",
       "\n",
       "    .dataframe thead th {\n",
       "        text-align: right;\n",
       "    }\n",
       "</style>\n",
       "<table border=\"1\" class=\"dataframe\">\n",
       "  <thead>\n",
       "    <tr style=\"text-align: right;\">\n",
       "      <th></th>\n",
       "      <th>FinancieleData_ID</th>\n",
       "      <th>FinancieleData_OndernemingID</th>\n",
       "      <th>FinancieleData_Boekjaar</th>\n",
       "      <th>FinancieleData_Aantal_maanden</th>\n",
       "      <th>FinancieleData_Toegevoegde_waarde</th>\n",
       "      <th>FinancieleData_FTE</th>\n",
       "      <th>FinancieleData_Gewijzigd_op</th>\n",
       "    </tr>\n",
       "  </thead>\n",
       "  <tbody>\n",
       "  </tbody>\n",
       "</table>\n",
       "</div>"
      ],
      "text/plain": [
       "Empty DataFrame\n",
       "Columns: [FinancieleData_ID, FinancieleData_OndernemingID, FinancieleData_Boekjaar, FinancieleData_Aantal_maanden, FinancieleData_Toegevoegde_waarde, FinancieleData_FTE, FinancieleData_Gewijzigd_op]\n",
       "Index: []"
      ]
     },
     "execution_count": 23,
     "metadata": {},
     "output_type": "execute_result"
    }
   ],
   "source": [
    "data[data['FinancieleData_OndernemingID'] == \"DFAAE601-1969-E111-B43A-00505680000A\"]"
   ]
  }
 ],
 "metadata": {
  "kernelspec": {
   "display_name": "Python 3",
   "language": "python",
   "name": "python3"
  },
  "language_info": {
   "codemirror_mode": {
    "name": "ipython",
    "version": 3
   },
   "file_extension": ".py",
   "mimetype": "text/x-python",
   "name": "python",
   "nbconvert_exporter": "python",
   "pygments_lexer": "ipython3",
   "version": "3.11.3"
  }
 },
 "nbformat": 4,
 "nbformat_minor": 2
}
