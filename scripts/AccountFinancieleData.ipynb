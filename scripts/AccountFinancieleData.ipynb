{
 "cells": [
  {
   "cell_type": "code",
   "execution_count": 1,
   "metadata": {},
   "outputs": [
    {
     "data": {
      "text/html": [
       "<div>\n",
       "<style scoped>\n",
       "    .dataframe tbody tr th:only-of-type {\n",
       "        vertical-align: middle;\n",
       "    }\n",
       "\n",
       "    .dataframe tbody tr th {\n",
       "        vertical-align: top;\n",
       "    }\n",
       "\n",
       "    .dataframe thead th {\n",
       "        text-align: right;\n",
       "    }\n",
       "</style>\n",
       "<table border=\"1\" class=\"dataframe\">\n",
       "  <thead>\n",
       "    <tr style=\"text-align: right;\">\n",
       "      <th></th>\n",
       "      <th>crm_FinancieleData_OndernemingID</th>\n",
       "      <th>crm_FinancieleData_Boekjaar</th>\n",
       "      <th>crm_FinancieleData_Aantal_maanden</th>\n",
       "      <th>crm_FinancieleData_Toegevoegde_waarde</th>\n",
       "      <th>crm_FinancieleData_FTE</th>\n",
       "      <th>crm_FinancieleData_Gewijzigd_op</th>\n",
       "    </tr>\n",
       "  </thead>\n",
       "  <tbody>\n",
       "    <tr>\n",
       "      <th>0</th>\n",
       "      <td>00002DAC-0A69-E111-B43A-00505680000A</td>\n",
       "      <td>2007</td>\n",
       "      <td>NaN</td>\n",
       "      <td>NaN</td>\n",
       "      <td>1</td>\n",
       "      <td>15-10-2018 08:21:37</td>\n",
       "    </tr>\n",
       "    <tr>\n",
       "      <th>1</th>\n",
       "      <td>00002DAC-0A69-E111-B43A-00505680000A</td>\n",
       "      <td>2008</td>\n",
       "      <td>NaN</td>\n",
       "      <td>NaN</td>\n",
       "      <td>1</td>\n",
       "      <td>15-10-2018 13:20:45</td>\n",
       "    </tr>\n",
       "    <tr>\n",
       "      <th>2</th>\n",
       "      <td>00002DAC-0A69-E111-B43A-00505680000A</td>\n",
       "      <td>2009</td>\n",
       "      <td>NaN</td>\n",
       "      <td>NaN</td>\n",
       "      <td>2</td>\n",
       "      <td>15-10-2018 04:00:52</td>\n",
       "    </tr>\n",
       "    <tr>\n",
       "      <th>3</th>\n",
       "      <td>00002DAC-0A69-E111-B43A-00505680000A</td>\n",
       "      <td>2010</td>\n",
       "      <td>12.0</td>\n",
       "      <td>NaN</td>\n",
       "      <td>1</td>\n",
       "      <td>15-10-2018 12:42:56</td>\n",
       "    </tr>\n",
       "    <tr>\n",
       "      <th>4</th>\n",
       "      <td>00002DAC-0A69-E111-B43A-00505680000A</td>\n",
       "      <td>2011</td>\n",
       "      <td>12.0</td>\n",
       "      <td>NaN</td>\n",
       "      <td>1</td>\n",
       "      <td>15-10-2018 04:54:28</td>\n",
       "    </tr>\n",
       "  </tbody>\n",
       "</table>\n",
       "</div>"
      ],
      "text/plain": [
       "       crm_FinancieleData_OndernemingID  crm_FinancieleData_Boekjaar   \n",
       "0  00002DAC-0A69-E111-B43A-00505680000A                         2007  \\\n",
       "1  00002DAC-0A69-E111-B43A-00505680000A                         2008   \n",
       "2  00002DAC-0A69-E111-B43A-00505680000A                         2009   \n",
       "3  00002DAC-0A69-E111-B43A-00505680000A                         2010   \n",
       "4  00002DAC-0A69-E111-B43A-00505680000A                         2011   \n",
       "\n",
       "   crm_FinancieleData_Aantal_maanden crm_FinancieleData_Toegevoegde_waarde   \n",
       "0                                NaN                                   NaN  \\\n",
       "1                                NaN                                   NaN   \n",
       "2                                NaN                                   NaN   \n",
       "3                               12.0                                   NaN   \n",
       "4                               12.0                                   NaN   \n",
       "\n",
       "  crm_FinancieleData_FTE crm_FinancieleData_Gewijzigd_op  \n",
       "0                      1             15-10-2018 08:21:37  \n",
       "1                      1             15-10-2018 13:20:45  \n",
       "2                      2             15-10-2018 04:00:52  \n",
       "3                      1             15-10-2018 12:42:56  \n",
       "4                      1             15-10-2018 04:54:28  "
      ]
     },
     "execution_count": 1,
     "metadata": {},
     "output_type": "execute_result"
    }
   ],
   "source": [
    "import pandas as pd\n",
    "data = pd.read_csv('../data/Account financiële data.csv', sep=\",\")\n",
    "data.head()"
   ]
  },
  {
   "cell_type": "code",
   "execution_count": 3,
   "metadata": {},
   "outputs": [
    {
     "name": "stdout",
     "output_type": "stream",
     "text": [
      "<class 'pandas.core.frame.DataFrame'>\n",
      "RangeIndex: 2030217 entries, 0 to 2030216\n",
      "Data columns (total 6 columns):\n",
      " #   Column                                 Dtype  \n",
      "---  ------                                 -----  \n",
      " 0   crm_FinancieleData_OndernemingID       object \n",
      " 1   crm_FinancieleData_Boekjaar            int64  \n",
      " 2   crm_FinancieleData_Aantal_maanden      float64\n",
      " 3   crm_FinancieleData_Toegevoegde_waarde  object \n",
      " 4   crm_FinancieleData_FTE                 object \n",
      " 5   crm_FinancieleData_Gewijzigd_op        object \n",
      "dtypes: float64(1), int64(1), object(4)\n",
      "memory usage: 92.9+ MB\n"
     ]
    }
   ],
   "source": [
    "data.info()"
   ]
  },
  {
   "cell_type": "code",
   "execution_count": 4,
   "metadata": {},
   "outputs": [
    {
     "data": {
      "text/plain": [
       "crm_FinancieleData_OndernemingID      crm_FinancieleData_Boekjaar  crm_FinancieleData_Aantal_maanden  crm_FinancieleData_Toegevoegde_waarde  crm_FinancieleData_FTE  crm_FinancieleData_Gewijzigd_op\n",
       "00002DAC-0A69-E111-B43A-00505680000A  2013                         12.0                               69164                                  1                       14-10-2018 11:38:50                1\n",
       "AB04D2BC-2569-E111-B43A-00505680000A  2019                         12.0                               64365                                  0                       11-11-2020 12:48:35                1\n",
       "AB057770-2F69-E111-B43A-00505680000A  2020                         12.0                               -341                                   0                       30-9-2021 16:55:15                 1\n",
       "                                      2019                         12.0                               -1018                                  0                       11-11-2020 13:13:34                1\n",
       "                                      2018                         12.0                               2249                                   0                       10-9-2019 04:00:09                 1\n",
       "                                                                                                                                                                                                       ..\n",
       "53D141A1-1169-E111-B43A-00505680000A  2014                         12.0                               -96429                                 0                       14-10-2018 15:52:53                1\n",
       "                                      2015                         12.0                               -19669                                 0                       14-10-2018 00:52:31                1\n",
       "53D157B6-A568-E111-B43A-00505680000A  2012                         12.0                               49589                                  0                       14-10-2018 11:34:57                1\n",
       "                                      2013                         12.0                               -37175                                 0                       14-10-2018 13:53:38                1\n",
       "FFFF6CCD-DF68-E111-B43A-00505680000A  2021                         12.0                               7172                                   0                       16-2-2023 01:08:01                 1\n",
       "Name: count, Length: 1165030, dtype: int64"
      ]
     },
     "execution_count": 4,
     "metadata": {},
     "output_type": "execute_result"
    }
   ],
   "source": [
    "data.value_counts()"
   ]
  }
 ],
 "metadata": {
  "kernelspec": {
   "display_name": "Python 3",
   "language": "python",
   "name": "python3"
  },
  "language_info": {
   "codemirror_mode": {
    "name": "ipython",
    "version": 3
   },
   "file_extension": ".py",
   "mimetype": "text/x-python",
   "name": "python",
   "nbconvert_exporter": "python",
   "pygments_lexer": "ipython3",
   "version": "3.11.3"
  }
 },
 "nbformat": 4,
 "nbformat_minor": 2
}
