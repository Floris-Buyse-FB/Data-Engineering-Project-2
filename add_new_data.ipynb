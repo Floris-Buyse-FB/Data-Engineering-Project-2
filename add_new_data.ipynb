{
 "cells": [
  {
   "cell_type": "code",
   "execution_count": 1,
   "metadata": {},
   "outputs": [],
   "source": [
    "import pandas as pd\n",
    "import numpy as np\n",
    "import os\n",
    "import re"
   ]
  },
  {
   "cell_type": "markdown",
   "metadata": {},
   "source": [
    "# Bekijk de directory namen goed hieronder"
   ]
  },
  {
   "cell_type": "markdown",
   "metadata": {},
   "source": [
    "- eerst zal je de cdi pageviews file handmatig  moeten cleanen, verwijder alle ;\n",
    "- verander ook de file naam Contac functie naar Contact functie en financiële data naar Account financiële data\n",
    "- er zal een nieuwe dir \"test_data\" gemaakt worden\n",
    "- ook moet je zelf een dir \"data_new\" maken en daarin de nieuwe data steken\n",
    "- NA het runnen van deze code moet je de files van \"test_data\" in de \"data\" folder slepen en op \"replace\" klikken \n",
    "- daarna het cleanup script runnen"
   ]
  },
  {
   "cell_type": "code",
   "execution_count": 2,
   "metadata": {},
   "outputs": [],
   "source": [
    "OLD_DF_DIR = \"./data/\"\n",
    "NEW_DF_DIR = \"./data_new/\"\n",
    "TEST_DATA_DIR = \"./test_data/\"\n",
    "\n",
    "# check if TEST_DATA_DIR exists\n",
    "if not os.path.exists(TEST_DATA_DIR):\n",
    "    os.makedirs(TEST_DATA_DIR)\n",
    "else:\n",
    "    # remove all files in TEST_DATA_DIR\n",
    "    for file in os.listdir(TEST_DATA_DIR):\n",
    "        os.remove(TEST_DATA_DIR + file)"
   ]
  },
  {
   "cell_type": "code",
   "execution_count": 3,
   "metadata": {},
   "outputs": [],
   "source": [
    "def concat_dfs(file):\n",
    "    if file == 'cdi pageviews.csv':\n",
    "        old_df = pd.read_csv(os.path.join(OLD_DF_DIR, file), encoding='latin-1')\n",
    "    else:\n",
    "        old_df = pd.read_csv(os.path.join(OLD_DF_DIR, file))\n",
    "    new_df = pd.read_csv(os.path.join(NEW_DF_DIR, file))\n",
    "    df = pd.concat([old_df, new_df], axis=0)\n",
    "    df.drop_duplicates(inplace=True)\n",
    "    df.reset_index(drop=True, inplace=True)\n",
    "    df.to_csv(os.path.join(TEST_DATA_DIR, file), index=False)"
   ]
  },
  {
   "cell_type": "code",
   "execution_count": 4,
   "metadata": {},
   "outputs": [
    {
     "name": "stdout",
     "output_type": "stream",
     "text": [
      "Error with file: cdi pageviews.csv\n",
      "Error tokenizing data. C error: Expected 1 fields in line 9, saw 2\n",
      "\n"
     ]
    },
    {
     "name": "stderr",
     "output_type": "stream",
     "text": [
      "C:\\Users\\emmad\\AppData\\Local\\Temp\\ipykernel_14740\\790883485.py:5: DtypeWarning: Columns (4,19) have mixed types. Specify dtype option on import or set low_memory=False.\n",
      "  old_df = pd.read_csv(os.path.join(OLD_DF_DIR, file))\n"
     ]
    }
   ],
   "source": [
    "for file in os.listdir(NEW_DF_DIR):\n",
    "    if file.endswith(\".csv\"):\n",
    "        try:\n",
    "            concat_dfs(file)\n",
    "        except Exception as e:\n",
    "            print(f\"Error with file: {file}\")\n",
    "            print(e)"
   ]
  },
  {
   "cell_type": "code",
   "execution_count": 5,
   "metadata": {},
   "outputs": [
    {
     "name": "stderr",
     "output_type": "stream",
     "text": [
      "C:\\Users\\emmad\\AppData\\Local\\Temp\\ipykernel_14740\\4240119484.py:1: DtypeWarning: Columns (2) have mixed types. Specify dtype option on import or set low_memory=False.\n",
      "  test_df = pd.read_csv(os.path.join(NEW_DF_DIR, 'cdi pageviews.csv'))\n"
     ]
    }
   ],
   "source": [
    "test_df = pd.read_csv(os.path.join(NEW_DF_DIR, 'cdi pageviews.csv'))\n",
    "test_df.columns = test_df.columns.map(lambda x: re.sub(r'^crm_CDI_PageView_(.*)$', r'\\1', x))\n",
    "\n",
    "old_test_df = pd.read_csv(os.path.join(OLD_DF_DIR, 'cdi pageviews.csv'), encoding='latin-1', sep=';')\n",
    "old_test_df.columns = old_test_df.columns.map(lambda x: re.sub(r'^crm CDI_PageView\\[(.*)\\]$', r'\\1', x))\n",
    "old_test_df.columns = old_test_df.columns.str.replace(' ', '_')\n",
    "\n",
    "cdi_pageviews = pd.concat([old_test_df, test_df], axis=0)\n",
    "cdi_pageviews.drop_duplicates(inplace=True)\n",
    "cdi_pageviews.reset_index(drop=True, inplace=True)\n",
    "cdi_pageviews.to_csv(os.path.join(TEST_DATA_DIR, 'cdi pageviews.csv'), index=False)"
   ]
  }
 ],
 "metadata": {
  "kernelspec": {
   "display_name": ".venv",
   "language": "python",
   "name": "python3"
  },
  "language_info": {
   "codemirror_mode": {
    "name": "ipython",
    "version": 3
   },
   "file_extension": ".py",
   "mimetype": "text/x-python",
   "name": "python",
   "nbconvert_exporter": "python",
   "pygments_lexer": "ipython3",
   "version": "3.11.3"
  }
 },
 "nbformat": 4,
 "nbformat_minor": 2
}
