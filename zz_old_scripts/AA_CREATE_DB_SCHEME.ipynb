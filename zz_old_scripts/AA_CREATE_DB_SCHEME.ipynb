{
 "cells": [
  {
   "cell_type": "code",
   "execution_count": 347,
   "metadata": {},
   "outputs": [],
   "source": [
    "import pandas as pd\n",
    "import numpy as np\n",
    "import matplotlib.pyplot as plt\n",
    "import seaborn as sns\n",
    "import os\n",
    "import re"
   ]
  },
  {
   "cell_type": "code",
   "execution_count": 348,
   "metadata": {},
   "outputs": [],
   "source": [
    "FILE_NAME = 'Teams_fixed.csv'\n",
    "\n",
    "URL = os.path.join('../data_clean', FILE_NAME)"
   ]
  },
  {
   "cell_type": "code",
   "execution_count": 349,
   "metadata": {},
   "outputs": [
    {
     "data": {
      "text/html": [
       "<div>\n",
       "<style scoped>\n",
       "    .dataframe tbody tr th:only-of-type {\n",
       "        vertical-align: middle;\n",
       "    }\n",
       "\n",
       "    .dataframe tbody tr th {\n",
       "        vertical-align: top;\n",
       "    }\n",
       "\n",
       "    .dataframe thead th {\n",
       "        text-align: right;\n",
       "    }\n",
       "</style>\n",
       "<table border=\"1\" class=\"dataframe\">\n",
       "  <thead>\n",
       "    <tr style=\"text-align: right;\">\n",
       "      <th></th>\n",
       "      <th>XLS_Teams_Team_code_selecteer_uit_lijst_</th>\n",
       "      <th>XLS_Teams_Activiteit_boeking_naam_ter_info_</th>\n",
       "    </tr>\n",
       "  </thead>\n",
       "  <tbody>\n",
       "    <tr>\n",
       "      <th>0</th>\n",
       "      <td>AO</td>\n",
       "      <td>'@level externe kosten</td>\n",
       "    </tr>\n",
       "  </tbody>\n",
       "</table>\n",
       "</div>"
      ],
      "text/plain": [
       "  XLS_Teams_Team_code_selecteer_uit_lijst_   \n",
       "0                                       AO  \\\n",
       "\n",
       "  XLS_Teams_Activiteit_boeking_naam_ter_info_  \n",
       "0                      '@level externe kosten  "
      ]
     },
     "execution_count": 349,
     "metadata": {},
     "output_type": "execute_result"
    }
   ],
   "source": [
    "data = pd.read_csv(URL, sep=',')\n",
    "data.head(1)"
   ]
  },
  {
   "cell_type": "code",
   "execution_count": 350,
   "metadata": {},
   "outputs": [],
   "source": [
    "# fk_help = pd.read_csv('../data_clean/Inschrijving_fixed.csv', sep=',')\n",
    "# fk_help.head(1)"
   ]
  },
  {
   "cell_type": "code",
   "execution_count": 351,
   "metadata": {},
   "outputs": [],
   "source": [
    "PRIMARY_KEY = ''\n",
    "\n",
    "# add tupel like: (column_name, foreign_key_table_name.foreign_key_column_name) || leave empty if not foreign key\n",
    "FOREIGN_KEY = []"
   ]
  },
  {
   "cell_type": "code",
   "execution_count": 352,
   "metadata": {},
   "outputs": [],
   "source": [
    "def create_column_names(dataframe):\n",
    "    columns = dataframe.columns\n",
    "    columns = [col + '_id' if col == PRIMARY_KEY else col for col in columns]\n",
    "    columns = [re.sub(r'\\W+', '', col) for col in columns]\n",
    "    columns = [col.lower() for col in columns]\n",
    "    dict_columns = dict(zip(dataframe.columns, columns))\n",
    "    return dict_columns\n",
    "\n",
    "def change_fk_name(string):\n",
    "    string = string + '_id'\n",
    "    string = string.lower()\n",
    "    string = string[0].upper() + string[1:]\n",
    "    return string"
   ]
  },
  {
   "cell_type": "code",
   "execution_count": 353,
   "metadata": {},
   "outputs": [],
   "source": [
    "new_col_names = create_column_names(data)"
   ]
  },
  {
   "cell_type": "code",
   "execution_count": 354,
   "metadata": {},
   "outputs": [],
   "source": [
    "data.rename(\n",
    "    columns=new_col_names, inplace=True)\n",
    "\n",
    "if PRIMARY_KEY:\n",
    "    PRIMARY_KEY = new_col_names[PRIMARY_KEY]\n",
    "FOREIGN_KEY = [(new_col_names[fk[0]], fk[1]) for fk in FOREIGN_KEY]\n",
    "FOREIGN_KEY = [(fk[0], change_fk_name(fk[1])) for fk in FOREIGN_KEY]"
   ]
  },
  {
   "cell_type": "code",
   "execution_count": 355,
   "metadata": {},
   "outputs": [],
   "source": [
    "def generate_create_table_query():\n",
    "    sql_data_types = {\n",
    "        'int64': 'INT',\n",
    "        'float64': 'FLOAT',\n",
    "        'object': 'VARCHAR(255)',\n",
    "        'datetime64[ns]': 'DATE',\n",
    "    }\n",
    "\n",
    "    table_name = FILE_NAME[:-10]  # Remove the '.csv' extension and the 'fixed' to use as the table name\n",
    "    table_name = table_name.replace(' ', '_')  # Replace spaces with underscores to prevent SQL errors\n",
    "    table_name = table_name.lower()  # Convert to lowercase to prevent SQL errors\n",
    "    table_name = table_name[0].upper() + table_name[1:] # Capitalize the first letter of the table name\n",
    "\n",
    "    # Create a list of column definitions with each column on a new line\n",
    "    columns_list = [f'{col} {sql_data_types.get(str(dtype), \"VARCHAR(255)\")}' for col, dtype in zip(data.columns, data.dtypes)]\n",
    "\n",
    "    # Include PRIMARY KEY and FOREIGN KEY columns if provided\n",
    "    if PRIMARY_KEY:\n",
    "        # find which column is the primary key\n",
    "        primary_key_index = data.columns.get_loc(PRIMARY_KEY)\n",
    "        # add PRIMARY KEY to the column definition\n",
    "        columns_list[primary_key_index] = f'{PRIMARY_KEY} INT NOT NULL PRIMARY KEY'\n",
    "    if FOREIGN_KEY:\n",
    "        # loop through the list of FOREIGN KEY tuples and add each FOREIGN KEY to the column definition\n",
    "        for foreign_key in FOREIGN_KEY:\n",
    "            columns_list.append(f'FOREIGN KEY ({foreign_key[0]}) REFERENCES {foreign_key[1].split(\".\")[0]}({foreign_key[1].split(\".\")[1]})')\n",
    "            \n",
    "    # Join the column definitions into a string with each column on a new line\n",
    "    columns = ',\\n'.join(columns_list)\n",
    "\n",
    "    # Generate the CREATE TABLE query\n",
    "    create_table_query = f'IF NOT EXISTS (SELECT * FROM INFORMATION_SCHEMA.TABLES WHERE TABLE_NAME = \\'{table_name}\\')\\nBEGIN\\nCREATE TABLE {table_name} (\\n{columns});\\nEND'\n",
    "\n",
    "    # Print the generated CREATE TABLE query\n",
    "    print(create_table_query)\n",
    "    print()\n",
    "\n",
    "    ################################################\n",
    "    ### Generate the SQL_Alchemy class notation ####\n",
    "    ################################################\n",
    "    \n",
    "    # Generate the SQLAlchemy class representation\n",
    "    class_representation = f'class {table_name.capitalize()}(Base):\\n'\n",
    "    class_representation += f'    __tablename__ = \\'{table_name}\\'\\n'\n",
    "\n",
    "    for i, (col, dtype) in enumerate(zip(data.columns, data.dtypes)):\n",
    "        # Change VARCHAR(255) to String(255)\n",
    "        sqlalchemy_type = 'String(255)' if sql_data_types.get(str(dtype), None) == 'VARCHAR(255)' else sql_data_types.get(str(dtype), 'String(255)')\n",
    "        \n",
    "        if str(dtype) == 'int64':\n",
    "            sqlalchemy_type = 'Integer'\n",
    "        elif str(dtype) == 'float64':\n",
    "            sqlalchemy_type = 'Float'\n",
    "        elif str(dtype) == 'datetime64[ns]':\n",
    "            sqlalchemy_type = 'Date'\n",
    "        else:\n",
    "            sqlalchemy_type = 'String(255)'\n",
    "\n",
    "        # Skip the column with the primary key, if applicable\n",
    "        if PRIMARY_KEY:\n",
    "            if primary_key_index is not None and i == primary_key_index:\n",
    "                class_representation += f'    {col} = Column({sqlalchemy_type}, primary_key=True)\\n'\n",
    "            else:\n",
    "                class_representation += f'    {col} = Column({sqlalchemy_type})\\n'\n",
    "        else:\n",
    "            class_representation += f'    {col} = Column({sqlalchemy_type})\\n'\n",
    "                        \n",
    "    # Add foreign keys to the class representation, if applicable\n",
    "    if FOREIGN_KEY:\n",
    "        for foreign_key_tuple in FOREIGN_KEY:\n",
    "            # find datatype of foreign key column\n",
    "            foreign_key_column = data[foreign_key_tuple[0]]\n",
    "            foreign_key_dtype = str(foreign_key_column.dtype)\n",
    "            sqlalchemy_type = 'String(255)' if sql_data_types.get(foreign_key_dtype, None) == 'VARCHAR(255)' else sql_data_types.get(foreign_key_dtype, 'String(255)')\n",
    "            # replace the column definition with the column definition and foreign key\n",
    "            fk_str_rep = f'{foreign_key_tuple[0]} = Column({sqlalchemy_type}, ForeignKey(\\'{foreign_key_tuple[1]}\\'))'\n",
    "            class_representation = class_representation.replace(foreign_key_tuple[0], fk_str_rep)\n",
    "            class_representation = class_representation.replace(f'{fk_str_rep} = Column({sqlalchemy_type})', fk_str_rep)\n",
    "\n",
    "    print(class_representation)\n",
    "    print()"
   ]
  },
  {
   "cell_type": "code",
   "execution_count": 356,
   "metadata": {},
   "outputs": [
    {
     "name": "stdout",
     "output_type": "stream",
     "text": [
      "IF NOT EXISTS (SELECT * FROM INFORMATION_SCHEMA.TABLES WHERE TABLE_NAME = 'Teams')\n",
      "BEGIN\n",
      "CREATE TABLE Teams (\n",
      "xls_teams_team_code_selecteer_uit_lijst_ VARCHAR(255),\n",
      "xls_teams_activiteit_boeking_naam_ter_info_ VARCHAR(255));\n",
      "END\n",
      "\n",
      "class Teams(Base):\n",
      "    __tablename__ = 'Teams'\n",
      "    xls_teams_team_code_selecteer_uit_lijst_ = Column(String(255))\n",
      "    xls_teams_activiteit_boeking_naam_ter_info_ = Column(String(255))\n",
      "\n",
      "\n"
     ]
    }
   ],
   "source": [
    "generate_create_table_query()"
   ]
  }
 ],
 "metadata": {
  "kernelspec": {
   "display_name": "Python 3",
   "language": "python",
   "name": "python3"
  },
  "language_info": {
   "codemirror_mode": {
    "name": "ipython",
    "version": 3
   },
   "file_extension": ".py",
   "mimetype": "text/x-python",
   "name": "python",
   "nbconvert_exporter": "python",
   "pygments_lexer": "ipython3",
   "version": "3.11.3"
  }
 },
 "nbformat": 4,
 "nbformat_minor": 2
}
