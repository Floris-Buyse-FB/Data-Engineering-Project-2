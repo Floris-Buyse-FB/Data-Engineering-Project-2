{
 "cells": [
  {
   "cell_type": "code",
   "execution_count": 1,
   "metadata": {},
   "outputs": [],
   "source": [
    "import pandas as pd\n",
    "import numpy as np\n",
    "import matplotlib.pyplot as plt\n",
    "import seaborn as sns"
   ]
  },
  {
   "cell_type": "code",
   "execution_count": 11,
   "metadata": {},
   "outputs": [
    {
     "name": "stdout",
     "output_type": "stream",
     "text": [
      "<class 'pandas.core.frame.DataFrame'>\n",
      "RangeIndex: 14673 entries, 0 to 14672\n",
      "Data columns (total 3 columns):\n",
      " #   Column                                                     Non-Null Count  Dtype \n",
      "---  ------                                                     --------------  ----- \n",
      " 0   Account_ActiviteitsCode_Account                            14673 non-null  object\n",
      " 1   Account_ActiviteitsCode_Activiteitscode                    14673 non-null  object\n",
      " 2   Account_ActiviteitsCode_inf_account_inf_activiteitscodeId  14673 non-null  object\n",
      "dtypes: object(3)\n",
      "memory usage: 344.0+ KB\n"
     ]
    }
   ],
   "source": [
    "data = pd.read_csv('../data_clean/Account_activiteitscode_fixed.csv', sep=',')\n",
    "data.info()"
   ]
  },
  {
   "cell_type": "code",
   "execution_count": 12,
   "metadata": {},
   "outputs": [
    {
     "data": {
      "text/html": [
       "<div>\n",
       "<style scoped>\n",
       "    .dataframe tbody tr th:only-of-type {\n",
       "        vertical-align: middle;\n",
       "    }\n",
       "\n",
       "    .dataframe tbody tr th {\n",
       "        vertical-align: top;\n",
       "    }\n",
       "\n",
       "    .dataframe thead th {\n",
       "        text-align: right;\n",
       "    }\n",
       "</style>\n",
       "<table border=\"1\" class=\"dataframe\">\n",
       "  <thead>\n",
       "    <tr style=\"text-align: right;\">\n",
       "      <th></th>\n",
       "      <th>Account_ActiviteitsCode_Account</th>\n",
       "      <th>Account_ActiviteitsCode_Activiteitscode</th>\n",
       "      <th>Account_ActiviteitsCode_inf_account_inf_activiteitscodeId</th>\n",
       "    </tr>\n",
       "  </thead>\n",
       "  <tbody>\n",
       "  </tbody>\n",
       "</table>\n",
       "</div>"
      ],
      "text/plain": [
       "Empty DataFrame\n",
       "Columns: [Account_ActiviteitsCode_Account, Account_ActiviteitsCode_Activiteitscode, Account_ActiviteitsCode_inf_account_inf_activiteitscodeId]\n",
       "Index: []"
      ]
     },
     "execution_count": 12,
     "metadata": {},
     "output_type": "execute_result"
    }
   ],
   "source": [
    "data[data['Account_ActiviteitsCode_Account'].isnull()]"
   ]
  },
  {
   "cell_type": "code",
   "execution_count": 13,
   "metadata": {},
   "outputs": [
    {
     "data": {
      "text/html": [
       "<div>\n",
       "<style scoped>\n",
       "    .dataframe tbody tr th:only-of-type {\n",
       "        vertical-align: middle;\n",
       "    }\n",
       "\n",
       "    .dataframe tbody tr th {\n",
       "        vertical-align: top;\n",
       "    }\n",
       "\n",
       "    .dataframe thead th {\n",
       "        text-align: right;\n",
       "    }\n",
       "</style>\n",
       "<table border=\"1\" class=\"dataframe\">\n",
       "  <thead>\n",
       "    <tr style=\"text-align: right;\">\n",
       "      <th></th>\n",
       "      <th>Account_ActiviteitsCode_Account</th>\n",
       "      <th>Account_ActiviteitsCode_Activiteitscode</th>\n",
       "      <th>Account_ActiviteitsCode_inf_account_inf_activiteitscodeId</th>\n",
       "    </tr>\n",
       "  </thead>\n",
       "  <tbody>\n",
       "    <tr>\n",
       "      <th>0</th>\n",
       "      <td>00002DAC-0A69-E111-B43A-00505680000A</td>\n",
       "      <td>20787771-1A62-E111-8F14-00505680000A</td>\n",
       "      <td>2D780AA3-856B-E111-B98D-18A905732A15</td>\n",
       "    </tr>\n",
       "    <tr>\n",
       "      <th>1</th>\n",
       "      <td>00068436-F919-E211-9DAA-005056B06EB4</td>\n",
       "      <td>D4FF9BBC-FBC1-E211-A980-005056B06EB4</td>\n",
       "      <td>490DB440-5FC7-E611-80E3-001DD8B72B62</td>\n",
       "    </tr>\n",
       "    <tr>\n",
       "      <th>2</th>\n",
       "      <td>0009A6E6-2369-E111-B43A-00505680000A</td>\n",
       "      <td>12787771-1A62-E111-8F14-00505680000A</td>\n",
       "      <td>37301718-F9C6-EC11-A7B6-000D3A497120</td>\n",
       "    </tr>\n",
       "    <tr>\n",
       "      <th>3</th>\n",
       "      <td>000D39CF-BE68-E111-B43A-00505680000A</td>\n",
       "      <td>1A787771-1A62-E111-8F14-00505680000A</td>\n",
       "      <td>791676C0-816B-E111-B98D-18A905732A15</td>\n",
       "    </tr>\n",
       "    <tr>\n",
       "      <th>4</th>\n",
       "      <td>0016CAE8-BD68-E111-B43A-00505680000A</td>\n",
       "      <td>20787771-1A62-E111-8F14-00505680000A</td>\n",
       "      <td>DB3A9AFC-816B-E111-B98D-18A905732A15</td>\n",
       "    </tr>\n",
       "  </tbody>\n",
       "</table>\n",
       "</div>"
      ],
      "text/plain": [
       "        Account_ActiviteitsCode_Account   \n",
       "0  00002DAC-0A69-E111-B43A-00505680000A  \\\n",
       "1  00068436-F919-E211-9DAA-005056B06EB4   \n",
       "2  0009A6E6-2369-E111-B43A-00505680000A   \n",
       "3  000D39CF-BE68-E111-B43A-00505680000A   \n",
       "4  0016CAE8-BD68-E111-B43A-00505680000A   \n",
       "\n",
       "  Account_ActiviteitsCode_Activiteitscode   \n",
       "0    20787771-1A62-E111-8F14-00505680000A  \\\n",
       "1    D4FF9BBC-FBC1-E211-A980-005056B06EB4   \n",
       "2    12787771-1A62-E111-8F14-00505680000A   \n",
       "3    1A787771-1A62-E111-8F14-00505680000A   \n",
       "4    20787771-1A62-E111-8F14-00505680000A   \n",
       "\n",
       "  Account_ActiviteitsCode_inf_account_inf_activiteitscodeId  \n",
       "0               2D780AA3-856B-E111-B98D-18A905732A15         \n",
       "1               490DB440-5FC7-E611-80E3-001DD8B72B62         \n",
       "2               37301718-F9C6-EC11-A7B6-000D3A497120         \n",
       "3               791676C0-816B-E111-B98D-18A905732A15         \n",
       "4               DB3A9AFC-816B-E111-B98D-18A905732A15         "
      ]
     },
     "execution_count": 13,
     "metadata": {},
     "output_type": "execute_result"
    }
   ],
   "source": [
    "data.head()"
   ]
  },
  {
   "cell_type": "code",
   "execution_count": 18,
   "metadata": {},
   "outputs": [
    {
     "name": "stdout",
     "output_type": "stream",
     "text": [
      "<class 'pandas.core.frame.DataFrame'>\n",
      "RangeIndex: 14673 entries, 0 to 14672\n",
      "Data columns (total 3 columns):\n",
      " #   Column                                                         Non-Null Count  Dtype \n",
      "---  ------                                                         --------------  ----- \n",
      " 0   crm_Account_ActiviteitsCode_Account                            14673 non-null  object\n",
      " 1   crm_Account_ActiviteitsCode_Activiteitscode                    14673 non-null  object\n",
      " 2   crm_Account_ActiviteitsCode_inf_account_inf_activiteitscodeId  14673 non-null  object\n",
      "dtypes: object(3)\n",
      "memory usage: 344.0+ KB\n"
     ]
    }
   ],
   "source": [
    "data.info()"
   ]
  }
 ],
 "metadata": {
  "kernelspec": {
   "display_name": "Python 3",
   "language": "python",
   "name": "python3"
  },
  "language_info": {
   "codemirror_mode": {
    "name": "ipython",
    "version": 3
   },
   "file_extension": ".py",
   "mimetype": "text/x-python",
   "name": "python",
   "nbconvert_exporter": "python",
   "pygments_lexer": "ipython3",
   "version": "3.11.3"
  }
 },
 "nbformat": 4,
 "nbformat_minor": 2
}
