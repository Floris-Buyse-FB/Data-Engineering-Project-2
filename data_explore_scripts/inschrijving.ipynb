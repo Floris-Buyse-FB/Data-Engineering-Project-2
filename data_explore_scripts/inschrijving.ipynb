{
 "cells": [
  {
   "cell_type": "code",
   "execution_count": 1,
   "metadata": {},
   "outputs": [
    {
     "data": {
      "text/html": [
       "<div>\n",
       "<style scoped>\n",
       "    .dataframe tbody tr th:only-of-type {\n",
       "        vertical-align: middle;\n",
       "    }\n",
       "\n",
       "    .dataframe tbody tr th {\n",
       "        vertical-align: top;\n",
       "    }\n",
       "\n",
       "    .dataframe thead th {\n",
       "        text-align: right;\n",
       "    }\n",
       "</style>\n",
       "<table border=\"1\" class=\"dataframe\">\n",
       "  <thead>\n",
       "    <tr style=\"text-align: right;\">\n",
       "      <th></th>\n",
       "      <th>crm_Inschrijving_Aanwezig_Afwezig</th>\n",
       "      <th>crm_Inschrijving_Bron</th>\n",
       "      <th>crm_Inschrijving_Contactfiche</th>\n",
       "      <th>crm_Inschrijving_Datum_inschrijving</th>\n",
       "      <th>crm_Inschrijving_Inschrijving</th>\n",
       "      <th>crm_Inschrijving_Facturatie_Bedrag</th>\n",
       "    </tr>\n",
       "  </thead>\n",
       "  <tbody>\n",
       "    <tr>\n",
       "      <th>0</th>\n",
       "      <td>Aanwezig</td>\n",
       "      <td>NaN</td>\n",
       "      <td>NaN</td>\n",
       "      <td>28-11-2018</td>\n",
       "      <td>6046240D-13F3-E811-80FA-001DD8B72B62</td>\n",
       "      <td>0</td>\n",
       "    </tr>\n",
       "    <tr>\n",
       "      <th>1</th>\n",
       "      <td>Aanwezig</td>\n",
       "      <td>NaN</td>\n",
       "      <td>NaN</td>\n",
       "      <td>5-6-2019</td>\n",
       "      <td>3BE5B8C6-6487-E911-80FF-001DD8B72B62</td>\n",
       "      <td>0</td>\n",
       "    </tr>\n",
       "    <tr>\n",
       "      <th>2</th>\n",
       "      <td>Aanwezig</td>\n",
       "      <td>NaN</td>\n",
       "      <td>NaN</td>\n",
       "      <td>5-6-2019</td>\n",
       "      <td>99A0AC66-6587-E911-80FF-001DD8B72B62</td>\n",
       "      <td>0</td>\n",
       "    </tr>\n",
       "    <tr>\n",
       "      <th>3</th>\n",
       "      <td>Aanwezig</td>\n",
       "      <td>NaN</td>\n",
       "      <td>11501223-64EA-E911-8106-001DD8B72B62</td>\n",
       "      <td>15-1-2020</td>\n",
       "      <td>DA6D262F-9537-EA11-810A-001DD8B72B61</td>\n",
       "      <td>0</td>\n",
       "    </tr>\n",
       "    <tr>\n",
       "      <th>4</th>\n",
       "      <td>Aanwezig</td>\n",
       "      <td>NaN</td>\n",
       "      <td>12C0821D-03EC-E811-80FA-001DD8B72B62</td>\n",
       "      <td>19-11-2018</td>\n",
       "      <td>20A89423-03EC-E811-80FA-001DD8B72B62</td>\n",
       "      <td>0</td>\n",
       "    </tr>\n",
       "  </tbody>\n",
       "</table>\n",
       "</div>"
      ],
      "text/plain": [
       "  crm_Inschrijving_Aanwezig_Afwezig crm_Inschrijving_Bron  \\\n",
       "0                          Aanwezig                   NaN   \n",
       "1                          Aanwezig                   NaN   \n",
       "2                          Aanwezig                   NaN   \n",
       "3                          Aanwezig                   NaN   \n",
       "4                          Aanwezig                   NaN   \n",
       "\n",
       "          crm_Inschrijving_Contactfiche crm_Inschrijving_Datum_inschrijving  \\\n",
       "0                                   NaN                          28-11-2018   \n",
       "1                                   NaN                            5-6-2019   \n",
       "2                                   NaN                            5-6-2019   \n",
       "3  11501223-64EA-E911-8106-001DD8B72B62                           15-1-2020   \n",
       "4  12C0821D-03EC-E811-80FA-001DD8B72B62                          19-11-2018   \n",
       "\n",
       "          crm_Inschrijving_Inschrijving crm_Inschrijving_Facturatie_Bedrag  \n",
       "0  6046240D-13F3-E811-80FA-001DD8B72B62                                  0  \n",
       "1  3BE5B8C6-6487-E911-80FF-001DD8B72B62                                  0  \n",
       "2  99A0AC66-6587-E911-80FF-001DD8B72B62                                  0  \n",
       "3  DA6D262F-9537-EA11-810A-001DD8B72B61                                  0  \n",
       "4  20A89423-03EC-E811-80FA-001DD8B72B62                                  0  "
      ]
     },
     "execution_count": 1,
     "metadata": {},
     "output_type": "execute_result"
    }
   ],
   "source": [
    "import pandas as pd\n",
    "data = pd.read_csv('../data/inschrijving.csv', sep=\",\")\n",
    "data.head()"
   ]
  },
  {
   "cell_type": "code",
   "execution_count": 2,
   "metadata": {},
   "outputs": [
    {
     "name": "stdout",
     "output_type": "stream",
     "text": [
      "<class 'pandas.core.frame.DataFrame'>\n",
      "RangeIndex: 374948 entries, 0 to 374947\n",
      "Data columns (total 6 columns):\n",
      " #   Column                               Non-Null Count   Dtype \n",
      "---  ------                               --------------   ----- \n",
      " 0   crm_Inschrijving_Aanwezig_Afwezig    374948 non-null  object\n",
      " 1   crm_Inschrijving_Bron                374913 non-null  object\n",
      " 2   crm_Inschrijving_Contactfiche        363376 non-null  object\n",
      " 3   crm_Inschrijving_Datum_inschrijving  374948 non-null  object\n",
      " 4   crm_Inschrijving_Inschrijving        374948 non-null  object\n",
      " 5   crm_Inschrijving_Facturatie_Bedrag   374948 non-null  object\n",
      "dtypes: object(6)\n",
      "memory usage: 17.2+ MB\n"
     ]
    }
   ],
   "source": [
    "data.info()"
   ]
  }
 ],
 "metadata": {
  "kernelspec": {
   "display_name": "Python 3",
   "language": "python",
   "name": "python3"
  },
  "language_info": {
   "codemirror_mode": {
    "name": "ipython",
    "version": 3
   },
   "file_extension": ".py",
   "mimetype": "text/x-python",
   "name": "python",
   "nbconvert_exporter": "python",
   "pygments_lexer": "ipython3",
   "version": "3.11.2"
  }
 },
 "nbformat": 4,
 "nbformat_minor": 2
}
