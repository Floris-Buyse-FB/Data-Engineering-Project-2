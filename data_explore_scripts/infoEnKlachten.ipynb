{
 "cells": [
  {
   "cell_type": "code",
   "execution_count": 1,
   "metadata": {},
   "outputs": [
    {
     "data": {
      "text/html": [
       "<div>\n",
       "<style scoped>\n",
       "    .dataframe tbody tr th:only-of-type {\n",
       "        vertical-align: middle;\n",
       "    }\n",
       "\n",
       "    .dataframe tbody tr th {\n",
       "        vertical-align: top;\n",
       "    }\n",
       "\n",
       "    .dataframe thead th {\n",
       "        text-align: right;\n",
       "    }\n",
       "</style>\n",
       "<table border=\"1\" class=\"dataframe\">\n",
       "  <thead>\n",
       "    <tr style=\"text-align: right;\">\n",
       "      <th></th>\n",
       "      <th>crm_Info_en_Klachten_Aanvraag</th>\n",
       "      <th>crm_Info_en_Klachten_Account</th>\n",
       "      <th>crm_Info_en_Klachten_Datum</th>\n",
       "      <th>crm_Info_en_Klachten_Datum_afsluiting</th>\n",
       "      <th>crm_Info_en_Klachten_Status</th>\n",
       "      <th>crm_Info_en_Klachten_Eigenaar</th>\n",
       "    </tr>\n",
       "  </thead>\n",
       "  <tbody>\n",
       "    <tr>\n",
       "      <th>0</th>\n",
       "      <td>0000EE3C-7FD3-EB11-8121-001DD8B72B61</td>\n",
       "      <td>C8770589-34BC-E411-9B05-005056B06EB4</td>\n",
       "      <td>22-6-2021 19:25:00</td>\n",
       "      <td>26-11-2021 09:00:34</td>\n",
       "      <td>Gesloten</td>\n",
       "      <td>8C5DCACE-D4C2-E711-80EC-001DD8B72B62</td>\n",
       "    </tr>\n",
       "    <tr>\n",
       "      <th>1</th>\n",
       "      <td>0002B00B-FB67-E811-80F1-001DD8B72B62</td>\n",
       "      <td>D300E311-BF68-E111-B43A-00505680000A</td>\n",
       "      <td>22-5-2018 00:00:00</td>\n",
       "      <td>25-11-2021 17:15:50</td>\n",
       "      <td>Gesloten</td>\n",
       "      <td>8A7C0F86-638D-E711-80EB-001DD8B72B62</td>\n",
       "    </tr>\n",
       "    <tr>\n",
       "      <th>2</th>\n",
       "      <td>0002B1B1-D378-EA11-8110-001DD8B72B62</td>\n",
       "      <td>0861CB27-7220-E311-8A47-005056B06EC4</td>\n",
       "      <td>26-3-2020 00:00:00</td>\n",
       "      <td>26-3-2020 00:00:00</td>\n",
       "      <td>Gesloten</td>\n",
       "      <td>5D3E2E76-1D4A-E911-80FC-001DD8B72B62</td>\n",
       "    </tr>\n",
       "    <tr>\n",
       "      <th>3</th>\n",
       "      <td>00036F5D-8415-EE11-8F6D-6045BD895B5A</td>\n",
       "      <td>091EFD20-BD68-E111-B43A-00505680000A</td>\n",
       "      <td>27-6-2023 00:00:00</td>\n",
       "      <td>28-6-2023 00:00:00</td>\n",
       "      <td>Gesloten</td>\n",
       "      <td>EF38D66A-FAA2-ED11-AAD1-6045BD895D85</td>\n",
       "    </tr>\n",
       "    <tr>\n",
       "      <th>4</th>\n",
       "      <td>0004F369-6074-EC11-8943-000D3ABB8FB4</td>\n",
       "      <td>48BD9B98-BE68-E111-B43A-00505680000A</td>\n",
       "      <td>13-1-2022 00:00:37</td>\n",
       "      <td>13-1-2022 12:05:43</td>\n",
       "      <td>Gesloten</td>\n",
       "      <td>2EE6E083-7BBF-EA11-8111-001DD8B72B61</td>\n",
       "    </tr>\n",
       "  </tbody>\n",
       "</table>\n",
       "</div>"
      ],
      "text/plain": [
       "          crm_Info_en_Klachten_Aanvraag          crm_Info_en_Klachten_Account  \\\n",
       "0  0000EE3C-7FD3-EB11-8121-001DD8B72B61  C8770589-34BC-E411-9B05-005056B06EB4   \n",
       "1  0002B00B-FB67-E811-80F1-001DD8B72B62  D300E311-BF68-E111-B43A-00505680000A   \n",
       "2  0002B1B1-D378-EA11-8110-001DD8B72B62  0861CB27-7220-E311-8A47-005056B06EC4   \n",
       "3  00036F5D-8415-EE11-8F6D-6045BD895B5A  091EFD20-BD68-E111-B43A-00505680000A   \n",
       "4  0004F369-6074-EC11-8943-000D3ABB8FB4  48BD9B98-BE68-E111-B43A-00505680000A   \n",
       "\n",
       "  crm_Info_en_Klachten_Datum crm_Info_en_Klachten_Datum_afsluiting  \\\n",
       "0         22-6-2021 19:25:00                   26-11-2021 09:00:34   \n",
       "1         22-5-2018 00:00:00                   25-11-2021 17:15:50   \n",
       "2         26-3-2020 00:00:00                    26-3-2020 00:00:00   \n",
       "3         27-6-2023 00:00:00                    28-6-2023 00:00:00   \n",
       "4         13-1-2022 00:00:37                    13-1-2022 12:05:43   \n",
       "\n",
       "  crm_Info_en_Klachten_Status         crm_Info_en_Klachten_Eigenaar  \n",
       "0                    Gesloten  8C5DCACE-D4C2-E711-80EC-001DD8B72B62  \n",
       "1                    Gesloten  8A7C0F86-638D-E711-80EB-001DD8B72B62  \n",
       "2                    Gesloten  5D3E2E76-1D4A-E911-80FC-001DD8B72B62  \n",
       "3                    Gesloten  EF38D66A-FAA2-ED11-AAD1-6045BD895D85  \n",
       "4                    Gesloten  2EE6E083-7BBF-EA11-8111-001DD8B72B61  "
      ]
     },
     "execution_count": 1,
     "metadata": {},
     "output_type": "execute_result"
    }
   ],
   "source": [
    "import pandas as pd\n",
    "data = pd.read_csv('../data/info en klachten.csv', sep=\",\")\n",
    "data.head()"
   ]
  },
  {
   "cell_type": "code",
   "execution_count": 2,
   "metadata": {},
   "outputs": [
    {
     "name": "stdout",
     "output_type": "stream",
     "text": [
      "<class 'pandas.core.frame.DataFrame'>\n",
      "RangeIndex: 47305 entries, 0 to 47304\n",
      "Data columns (total 6 columns):\n",
      " #   Column                                 Non-Null Count  Dtype \n",
      "---  ------                                 --------------  ----- \n",
      " 0   crm_Info_en_Klachten_Aanvraag          47305 non-null  object\n",
      " 1   crm_Info_en_Klachten_Account           47305 non-null  object\n",
      " 2   crm_Info_en_Klachten_Datum             47305 non-null  object\n",
      " 3   crm_Info_en_Klachten_Datum_afsluiting  36766 non-null  object\n",
      " 4   crm_Info_en_Klachten_Status            47305 non-null  object\n",
      " 5   crm_Info_en_Klachten_Eigenaar          47305 non-null  object\n",
      "dtypes: object(6)\n",
      "memory usage: 2.2+ MB\n"
     ]
    }
   ],
   "source": [
    "data.info()"
   ]
  }
 ],
 "metadata": {
  "kernelspec": {
   "display_name": "Python 3",
   "language": "python",
   "name": "python3"
  },
  "language_info": {
   "codemirror_mode": {
    "name": "ipython",
    "version": 3
   },
   "file_extension": ".py",
   "mimetype": "text/x-python",
   "name": "python",
   "nbconvert_exporter": "python",
   "pygments_lexer": "ipython3",
   "version": "3.11.2"
  }
 },
 "nbformat": 4,
 "nbformat_minor": 2
}
