{
 "cells": [
  {
   "cell_type": "code",
   "execution_count": 1,
   "metadata": {},
   "outputs": [
    {
     "data": {
      "text/html": [
       "<div>\n",
       "<style scoped>\n",
       "    .dataframe tbody tr th:only-of-type {\n",
       "        vertical-align: middle;\n",
       "    }\n",
       "\n",
       "    .dataframe tbody tr th {\n",
       "        vertical-align: top;\n",
       "    }\n",
       "\n",
       "    .dataframe thead th {\n",
       "        text-align: right;\n",
       "    }\n",
       "</style>\n",
       "<table border=\"1\" class=\"dataframe\">\n",
       "  <thead>\n",
       "    <tr style=\"text-align: right;\">\n",
       "      <th></th>\n",
       "      <th>crm_ActiviteitsCode_Naam</th>\n",
       "      <th>crm_ActiviteitsCode_Activiteitscode</th>\n",
       "      <th>crm_ActiviteitsCode_Status</th>\n",
       "    </tr>\n",
       "  </thead>\n",
       "  <tbody>\n",
       "    <tr>\n",
       "      <th>0</th>\n",
       "      <td>Accountancy &amp; boekhouding</td>\n",
       "      <td>7D8F7E6B-1A62-E111-8F14-00505680000A</td>\n",
       "      <td>Actief</td>\n",
       "    </tr>\n",
       "    <tr>\n",
       "      <th>1</th>\n",
       "      <td>Agrarische &amp; bio-industrie</td>\n",
       "      <td>808F7E6B-1A62-E111-8F14-00505680000A</td>\n",
       "      <td>Actief</td>\n",
       "    </tr>\n",
       "    <tr>\n",
       "      <th>2</th>\n",
       "      <td>Automobiel- en Tweewielerindustrie</td>\n",
       "      <td>828F7E6B-1A62-E111-8F14-00505680000A</td>\n",
       "      <td>Actief</td>\n",
       "    </tr>\n",
       "    <tr>\n",
       "      <th>3</th>\n",
       "      <td>Bouw</td>\n",
       "      <td>858F7E6B-1A62-E111-8F14-00505680000A</td>\n",
       "      <td>Actief</td>\n",
       "    </tr>\n",
       "    <tr>\n",
       "      <th>4</th>\n",
       "      <td>Chemie, petrochemie</td>\n",
       "      <td>878F7E6B-1A62-E111-8F14-00505680000A</td>\n",
       "      <td>Actief</td>\n",
       "    </tr>\n",
       "  </tbody>\n",
       "</table>\n",
       "</div>"
      ],
      "text/plain": [
       "             crm_ActiviteitsCode_Naam   crm_ActiviteitsCode_Activiteitscode  \\\n",
       "0           Accountancy & boekhouding  7D8F7E6B-1A62-E111-8F14-00505680000A   \n",
       "1          Agrarische & bio-industrie  808F7E6B-1A62-E111-8F14-00505680000A   \n",
       "2  Automobiel- en Tweewielerindustrie  828F7E6B-1A62-E111-8F14-00505680000A   \n",
       "3                                Bouw  858F7E6B-1A62-E111-8F14-00505680000A   \n",
       "4                 Chemie, petrochemie  878F7E6B-1A62-E111-8F14-00505680000A   \n",
       "\n",
       "  crm_ActiviteitsCode_Status  \n",
       "0                     Actief  \n",
       "1                     Actief  \n",
       "2                     Actief  \n",
       "3                     Actief  \n",
       "4                     Actief  "
      ]
     },
     "execution_count": 1,
     "metadata": {},
     "output_type": "execute_result"
    }
   ],
   "source": [
    "import pandas as pd\n",
    "data = pd.read_csv('../data/Activiteitscode.csv', sep=\",\")\n",
    "data.head()"
   ]
  },
  {
   "cell_type": "code",
   "execution_count": 2,
   "metadata": {},
   "outputs": [
    {
     "name": "stdout",
     "output_type": "stream",
     "text": [
      "<class 'pandas.core.frame.DataFrame'>\n",
      "RangeIndex: 40 entries, 0 to 39\n",
      "Data columns (total 3 columns):\n",
      " #   Column                               Non-Null Count  Dtype \n",
      "---  ------                               --------------  ----- \n",
      " 0   crm_ActiviteitsCode_Naam             40 non-null     object\n",
      " 1   crm_ActiviteitsCode_Activiteitscode  40 non-null     object\n",
      " 2   crm_ActiviteitsCode_Status           40 non-null     object\n",
      "dtypes: object(3)\n",
      "memory usage: 1.1+ KB\n"
     ]
    }
   ],
   "source": [
    "data.info()"
   ]
  },
  {
   "cell_type": "code",
   "execution_count": 3,
   "metadata": {},
   "outputs": [
    {
     "data": {
      "text/plain": [
       "crm_ActiviteitsCode_Naam               0\n",
       "crm_ActiviteitsCode_Activiteitscode    0\n",
       "crm_ActiviteitsCode_Status             0\n",
       "dtype: int64"
      ]
     },
     "execution_count": 3,
     "metadata": {},
     "output_type": "execute_result"
    }
   ],
   "source": [
    "data.isnull().sum()"
   ]
  },
  {
   "cell_type": "code",
   "execution_count": 5,
   "metadata": {},
   "outputs": [
    {
     "data": {
      "text/plain": [
       "array(['Actief', 'Inactief'], dtype=object)"
      ]
     },
     "execution_count": 5,
     "metadata": {},
     "output_type": "execute_result"
    }
   ],
   "source": [
    "data.crm_ActiviteitsCode_Status.unique()"
   ]
  },
  {
   "cell_type": "code",
   "execution_count": 7,
   "metadata": {},
   "outputs": [
    {
     "data": {
      "text/html": [
       "<div>\n",
       "<style scoped>\n",
       "    .dataframe tbody tr th:only-of-type {\n",
       "        vertical-align: middle;\n",
       "    }\n",
       "\n",
       "    .dataframe tbody tr th {\n",
       "        vertical-align: top;\n",
       "    }\n",
       "\n",
       "    .dataframe thead th {\n",
       "        text-align: right;\n",
       "    }\n",
       "</style>\n",
       "<table border=\"1\" class=\"dataframe\">\n",
       "  <thead>\n",
       "    <tr style=\"text-align: right;\">\n",
       "      <th></th>\n",
       "      <th>crm_ActiviteitsCode_Naam</th>\n",
       "      <th>crm_ActiviteitsCode_Activiteitscode</th>\n",
       "      <th>crm_ActiviteitsCode_Status</th>\n",
       "    </tr>\n",
       "  </thead>\n",
       "  <tbody>\n",
       "    <tr>\n",
       "      <th>0</th>\n",
       "      <td>Accountancy &amp; boekhouding</td>\n",
       "      <td>7D8F7E6B-1A62-E111-8F14-00505680000A</td>\n",
       "      <td>1</td>\n",
       "    </tr>\n",
       "    <tr>\n",
       "      <th>1</th>\n",
       "      <td>Agrarische &amp; bio-industrie</td>\n",
       "      <td>808F7E6B-1A62-E111-8F14-00505680000A</td>\n",
       "      <td>1</td>\n",
       "    </tr>\n",
       "    <tr>\n",
       "      <th>2</th>\n",
       "      <td>Automobiel- en Tweewielerindustrie</td>\n",
       "      <td>828F7E6B-1A62-E111-8F14-00505680000A</td>\n",
       "      <td>1</td>\n",
       "    </tr>\n",
       "    <tr>\n",
       "      <th>3</th>\n",
       "      <td>Bouw</td>\n",
       "      <td>858F7E6B-1A62-E111-8F14-00505680000A</td>\n",
       "      <td>1</td>\n",
       "    </tr>\n",
       "    <tr>\n",
       "      <th>4</th>\n",
       "      <td>Chemie, petrochemie</td>\n",
       "      <td>878F7E6B-1A62-E111-8F14-00505680000A</td>\n",
       "      <td>1</td>\n",
       "    </tr>\n",
       "  </tbody>\n",
       "</table>\n",
       "</div>"
      ],
      "text/plain": [
       "             crm_ActiviteitsCode_Naam   crm_ActiviteitsCode_Activiteitscode  \\\n",
       "0           Accountancy & boekhouding  7D8F7E6B-1A62-E111-8F14-00505680000A   \n",
       "1          Agrarische & bio-industrie  808F7E6B-1A62-E111-8F14-00505680000A   \n",
       "2  Automobiel- en Tweewielerindustrie  828F7E6B-1A62-E111-8F14-00505680000A   \n",
       "3                                Bouw  858F7E6B-1A62-E111-8F14-00505680000A   \n",
       "4                 Chemie, petrochemie  878F7E6B-1A62-E111-8F14-00505680000A   \n",
       "\n",
       "   crm_ActiviteitsCode_Status  \n",
       "0                           1  \n",
       "1                           1  \n",
       "2                           1  \n",
       "3                           1  \n",
       "4                           1  "
      ]
     },
     "execution_count": 7,
     "metadata": {},
     "output_type": "execute_result"
    }
   ],
   "source": [
    "data.replace({'crm_ActiviteitsCode_Status': {'Actief': 1,'Inactief': 0}}, inplace=True)\n",
    "data.head()"
   ]
  }
 ],
 "metadata": {
  "kernelspec": {
   "display_name": "Python 3",
   "language": "python",
   "name": "python3"
  },
  "language_info": {
   "codemirror_mode": {
    "name": "ipython",
    "version": 3
   },
   "file_extension": ".py",
   "mimetype": "text/x-python",
   "name": "python",
   "nbconvert_exporter": "python",
   "pygments_lexer": "ipython3",
   "version": "3.11.3"
  }
 },
 "nbformat": 4,
 "nbformat_minor": 2
}
