{
 "cells": [
  {
   "cell_type": "code",
   "execution_count": 3,
   "metadata": {},
   "outputs": [
    {
     "data": {
      "text/html": [
       "<div>\n",
       "<style scoped>\n",
       "    .dataframe tbody tr th:only-of-type {\n",
       "        vertical-align: middle;\n",
       "    }\n",
       "\n",
       "    .dataframe tbody tr th {\n",
       "        vertical-align: top;\n",
       "    }\n",
       "\n",
       "    .dataframe thead th {\n",
       "        text-align: right;\n",
       "    }\n",
       "</style>\n",
       "<table border=\"1\" class=\"dataframe\">\n",
       "  <thead>\n",
       "    <tr style=\"text-align: right;\">\n",
       "      <th></th>\n",
       "      <th>crm_Lidmaatschap_Datum_Opzeg</th>\n",
       "      <th>crm_Lidmaatschap_Lidmaatschap</th>\n",
       "      <th>crm_Lidmaatschap_Onderneming</th>\n",
       "      <th>crm_Lidmaatschap_Reden_Aangroei</th>\n",
       "      <th>crm_Lidmaatschap_Reden_Verloop</th>\n",
       "      <th>crm_Lidmaatschap_Startdatum</th>\n",
       "    </tr>\n",
       "  </thead>\n",
       "  <tbody>\n",
       "    <tr>\n",
       "      <th>0</th>\n",
       "      <td>NaN</td>\n",
       "      <td>0014C090-3F02-E611-8668-005056B06EC4</td>\n",
       "      <td>E7726D1E-C80A-E511-ABE8-005056B06EB4</td>\n",
       "      <td>Actieve werving: koude prospectie</td>\n",
       "      <td>NaN</td>\n",
       "      <td>11-4-2016</td>\n",
       "    </tr>\n",
       "    <tr>\n",
       "      <th>1</th>\n",
       "      <td>NaN</td>\n",
       "      <td>0023960B-C39F-E311-B1AE-005056B06EC4</td>\n",
       "      <td>D64157FA-9F68-E111-B43A-00505680000A</td>\n",
       "      <td>Lead van een collega nalv contact of deelname</td>\n",
       "      <td>NaN</td>\n",
       "      <td>12-2-2014</td>\n",
       "    </tr>\n",
       "    <tr>\n",
       "      <th>2</th>\n",
       "      <td>NaN</td>\n",
       "      <td>00296269-096F-E111-B43A-00505680000A</td>\n",
       "      <td>19EB325F-C368-E111-B43A-00505680000A</td>\n",
       "      <td>NaN</td>\n",
       "      <td>NaN</td>\n",
       "      <td>1-1-2014</td>\n",
       "    </tr>\n",
       "    <tr>\n",
       "      <th>3</th>\n",
       "      <td>NaN</td>\n",
       "      <td>0065C4C5-9403-EE11-8F6E-6045BD895D4D</td>\n",
       "      <td>E31B5630-F6EE-ED11-8849-6045BD895D4D</td>\n",
       "      <td>Actieve werving: koude prospectie</td>\n",
       "      <td>NaN</td>\n",
       "      <td>23-5-2023</td>\n",
       "    </tr>\n",
       "    <tr>\n",
       "      <th>4</th>\n",
       "      <td>NaN</td>\n",
       "      <td>0082BAB8-FD6E-E111-B43A-00505680000A</td>\n",
       "      <td>92A753BA-0569-E111-B43A-00505680000A</td>\n",
       "      <td>NaN</td>\n",
       "      <td>NaN</td>\n",
       "      <td>1-1-2007</td>\n",
       "    </tr>\n",
       "  </tbody>\n",
       "</table>\n",
       "</div>"
      ],
      "text/plain": [
       "  crm_Lidmaatschap_Datum_Opzeg         crm_Lidmaatschap_Lidmaatschap  \\\n",
       "0                          NaN  0014C090-3F02-E611-8668-005056B06EC4   \n",
       "1                          NaN  0023960B-C39F-E311-B1AE-005056B06EC4   \n",
       "2                          NaN  00296269-096F-E111-B43A-00505680000A   \n",
       "3                          NaN  0065C4C5-9403-EE11-8F6E-6045BD895D4D   \n",
       "4                          NaN  0082BAB8-FD6E-E111-B43A-00505680000A   \n",
       "\n",
       "           crm_Lidmaatschap_Onderneming  \\\n",
       "0  E7726D1E-C80A-E511-ABE8-005056B06EB4   \n",
       "1  D64157FA-9F68-E111-B43A-00505680000A   \n",
       "2  19EB325F-C368-E111-B43A-00505680000A   \n",
       "3  E31B5630-F6EE-ED11-8849-6045BD895D4D   \n",
       "4  92A753BA-0569-E111-B43A-00505680000A   \n",
       "\n",
       "                 crm_Lidmaatschap_Reden_Aangroei  \\\n",
       "0              Actieve werving: koude prospectie   \n",
       "1  Lead van een collega nalv contact of deelname   \n",
       "2                                            NaN   \n",
       "3              Actieve werving: koude prospectie   \n",
       "4                                            NaN   \n",
       "\n",
       "  crm_Lidmaatschap_Reden_Verloop crm_Lidmaatschap_Startdatum  \n",
       "0                            NaN                   11-4-2016  \n",
       "1                            NaN                   12-2-2014  \n",
       "2                            NaN                    1-1-2014  \n",
       "3                            NaN                   23-5-2023  \n",
       "4                            NaN                    1-1-2007  "
      ]
     },
     "execution_count": 3,
     "metadata": {},
     "output_type": "execute_result"
    }
   ],
   "source": [
    "import pandas as pd\n",
    "data = pd.read_csv('../data/lidmaatschap.csv', sep=\",\")\n",
    "data.head()"
   ]
  },
  {
   "cell_type": "code",
   "execution_count": 4,
   "metadata": {},
   "outputs": [
    {
     "name": "stdout",
     "output_type": "stream",
     "text": [
      "<class 'pandas.core.frame.DataFrame'>\n",
      "RangeIndex: 6826 entries, 0 to 6825\n",
      "Data columns (total 6 columns):\n",
      " #   Column                           Non-Null Count  Dtype \n",
      "---  ------                           --------------  ----- \n",
      " 0   crm_Lidmaatschap_Datum_Opzeg     4273 non-null   object\n",
      " 1   crm_Lidmaatschap_Lidmaatschap    6826 non-null   object\n",
      " 2   crm_Lidmaatschap_Onderneming     6826 non-null   object\n",
      " 3   crm_Lidmaatschap_Reden_Aangroei  3021 non-null   object\n",
      " 4   crm_Lidmaatschap_Reden_Verloop   2477 non-null   object\n",
      " 5   crm_Lidmaatschap_Startdatum      6821 non-null   object\n",
      "dtypes: object(6)\n",
      "memory usage: 320.1+ KB\n"
     ]
    }
   ],
   "source": [
    "data.info()"
   ]
  },
  {
   "cell_type": "code",
   "execution_count": null,
   "metadata": {},
   "outputs": [],
   "source": []
  },
  {
   "cell_type": "code",
   "execution_count": null,
   "metadata": {},
   "outputs": [],
   "source": []
  },
  {
   "cell_type": "code",
   "execution_count": null,
   "metadata": {},
   "outputs": [],
   "source": []
  }
 ],
 "metadata": {
  "kernelspec": {
   "display_name": "Python 3",
   "language": "python",
   "name": "python3"
  },
  "language_info": {
   "codemirror_mode": {
    "name": "ipython",
    "version": 3
   },
   "file_extension": ".py",
   "mimetype": "text/x-python",
   "name": "python",
   "nbconvert_exporter": "python",
   "pygments_lexer": "ipython3",
   "version": "3.11.2"
  }
 },
 "nbformat": 4,
 "nbformat_minor": 2
}
