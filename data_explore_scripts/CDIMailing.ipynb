{
 "cells": [
  {
   "cell_type": "code",
   "execution_count": 1,
   "metadata": {},
   "outputs": [
    {
     "data": {
      "text/html": [
       "<div>\n",
       "<style scoped>\n",
       "    .dataframe tbody tr th:only-of-type {\n",
       "        vertical-align: middle;\n",
       "    }\n",
       "\n",
       "    .dataframe tbody tr th {\n",
       "        vertical-align: top;\n",
       "    }\n",
       "\n",
       "    .dataframe thead th {\n",
       "        text-align: right;\n",
       "    }\n",
       "</style>\n",
       "<table border=\"1\" class=\"dataframe\">\n",
       "  <thead>\n",
       "    <tr style=\"text-align: right;\">\n",
       "      <th></th>\n",
       "      <th>crm_CDI_Mailing_Mailing</th>\n",
       "      <th>crm_CDI_Mailing_Name</th>\n",
       "      <th>crm_CDI_Mailing_Sent_On</th>\n",
       "      <th>crm_CDI_Mailing_Onderwerp</th>\n",
       "    </tr>\n",
       "  </thead>\n",
       "  <tbody>\n",
       "    <tr>\n",
       "      <th>0</th>\n",
       "      <td>00096FAA-9985-EC11-8D21-6045BD8F7A7F</td>\n",
       "      <td>OV-GR-Trajecten familiebedrijven</td>\n",
       "      <td>8-2-2022</td>\n",
       "      <td>Familienieuws: groeiverhalen en -trajecten voo...</td>\n",
       "    </tr>\n",
       "    <tr>\n",
       "      <th>1</th>\n",
       "      <td>0087CD38-0CEB-ED11-8849-6045BD895CDC</td>\n",
       "      <td>[CLONE]: OV-MATCH-Uitnodiging Welkom@Voka-Juni...</td>\n",
       "      <td>5-5-2023</td>\n",
       "      <td>[CLONE]: Uitnodiging: Welkom@Voka - het welkom...</td>\n",
       "    </tr>\n",
       "    <tr>\n",
       "      <th>2</th>\n",
       "      <td>00A0AA7D-F9E4-ED11-A7C7-6045BD8952D3</td>\n",
       "      <td>OV-NW-Voka Politica Zottegem - 24 mei 2023</td>\n",
       "      <td>27-4-2023</td>\n",
       "      <td>Uitnodiging: Voka Politica in Zottegem 24 mei</td>\n",
       "    </tr>\n",
       "    <tr>\n",
       "      <th>3</th>\n",
       "      <td>00B39325-A66C-EC11-8943-000D3A279FAC</td>\n",
       "      <td>OV-IN-Change management en AI opleiding</td>\n",
       "      <td>4-1-2022</td>\n",
       "      <td>Opleiding Change Management: neem jij ook deel?</td>\n",
       "    </tr>\n",
       "    <tr>\n",
       "      <th>4</th>\n",
       "      <td>00B816C5-A56C-ED11-9561-6045BD895CDC</td>\n",
       "      <td>OV-NW-Nieuwjaarsreceptie 2023 Gent</td>\n",
       "      <td>30-11-2022</td>\n",
       "      <td>Nieuwjaarsreceptie Gent | Voka Oost-Vlaanderen</td>\n",
       "    </tr>\n",
       "  </tbody>\n",
       "</table>\n",
       "</div>"
      ],
      "text/plain": [
       "                crm_CDI_Mailing_Mailing   \n",
       "0  00096FAA-9985-EC11-8D21-6045BD8F7A7F  \\\n",
       "1  0087CD38-0CEB-ED11-8849-6045BD895CDC   \n",
       "2  00A0AA7D-F9E4-ED11-A7C7-6045BD8952D3   \n",
       "3  00B39325-A66C-EC11-8943-000D3A279FAC   \n",
       "4  00B816C5-A56C-ED11-9561-6045BD895CDC   \n",
       "\n",
       "                                crm_CDI_Mailing_Name crm_CDI_Mailing_Sent_On   \n",
       "0                   OV-GR-Trajecten familiebedrijven                8-2-2022  \\\n",
       "1  [CLONE]: OV-MATCH-Uitnodiging Welkom@Voka-Juni...                5-5-2023   \n",
       "2         OV-NW-Voka Politica Zottegem - 24 mei 2023               27-4-2023   \n",
       "3            OV-IN-Change management en AI opleiding                4-1-2022   \n",
       "4                 OV-NW-Nieuwjaarsreceptie 2023 Gent              30-11-2022   \n",
       "\n",
       "                           crm_CDI_Mailing_Onderwerp  \n",
       "0  Familienieuws: groeiverhalen en -trajecten voo...  \n",
       "1  [CLONE]: Uitnodiging: Welkom@Voka - het welkom...  \n",
       "2      Uitnodiging: Voka Politica in Zottegem 24 mei  \n",
       "3    Opleiding Change Management: neem jij ook deel?  \n",
       "4     Nieuwjaarsreceptie Gent | Voka Oost-Vlaanderen  "
      ]
     },
     "execution_count": 1,
     "metadata": {},
     "output_type": "execute_result"
    }
   ],
   "source": [
    "import pandas as pd\n",
    "data = pd.read_csv('../data/CDI mailing.csv', sep=\",\")\n",
    "data.head()"
   ]
  },
  {
   "cell_type": "code",
   "execution_count": 2,
   "metadata": {},
   "outputs": [
    {
     "name": "stdout",
     "output_type": "stream",
     "text": [
      "<class 'pandas.core.frame.DataFrame'>\n",
      "RangeIndex: 860 entries, 0 to 859\n",
      "Data columns (total 4 columns):\n",
      " #   Column                     Non-Null Count  Dtype \n",
      "---  ------                     --------------  ----- \n",
      " 0   crm_CDI_Mailing_Mailing    860 non-null    object\n",
      " 1   crm_CDI_Mailing_Name       767 non-null    object\n",
      " 2   crm_CDI_Mailing_Sent_On    860 non-null    object\n",
      " 3   crm_CDI_Mailing_Onderwerp  860 non-null    object\n",
      "dtypes: object(4)\n",
      "memory usage: 27.0+ KB\n"
     ]
    }
   ],
   "source": [
    "data.info()"
   ]
  },
  {
   "cell_type": "code",
   "execution_count": 3,
   "metadata": {},
   "outputs": [
    {
     "data": {
      "text/html": [
       "<div>\n",
       "<style scoped>\n",
       "    .dataframe tbody tr th:only-of-type {\n",
       "        vertical-align: middle;\n",
       "    }\n",
       "\n",
       "    .dataframe tbody tr th {\n",
       "        vertical-align: top;\n",
       "    }\n",
       "\n",
       "    .dataframe thead th {\n",
       "        text-align: right;\n",
       "    }\n",
       "</style>\n",
       "<table border=\"1\" class=\"dataframe\">\n",
       "  <thead>\n",
       "    <tr style=\"text-align: right;\">\n",
       "      <th></th>\n",
       "      <th>crm_CDI_Mailing_Mailing</th>\n",
       "      <th>crm_CDI_Mailing_Name</th>\n",
       "      <th>crm_CDI_Mailing_Sent_On</th>\n",
       "      <th>crm_CDI_Mailing_Onderwerp</th>\n",
       "    </tr>\n",
       "  </thead>\n",
       "  <tbody>\n",
       "    <tr>\n",
       "      <th>7</th>\n",
       "      <td>0162AB74-E766-47D9-B4B9-3DFF3B384A67</td>\n",
       "      <td>NaN</td>\n",
       "      <td>10-9-2021</td>\n",
       "      <td>Een goede zaak voor uw mailbox: Voka-info op maat</td>\n",
       "    </tr>\n",
       "    <tr>\n",
       "      <th>8</th>\n",
       "      <td>01EA1907-F171-EC11-8941-000D3ABB88CA</td>\n",
       "      <td>NaN</td>\n",
       "      <td>10-1-2022</td>\n",
       "      <td>Herinnering - Welkom in de Voka database</td>\n",
       "    </tr>\n",
       "    <tr>\n",
       "      <th>14</th>\n",
       "      <td>034044AC-B698-EC11-B400-002248800905</td>\n",
       "      <td>NaN</td>\n",
       "      <td>1-3-2022</td>\n",
       "      <td>Extra plaatsen beschikbaar naar Dubai</td>\n",
       "    </tr>\n",
       "    <tr>\n",
       "      <th>95</th>\n",
       "      <td>1AAE90F7-F629-4C11-A863-8AFFCE2C481C</td>\n",
       "      <td>NaN</td>\n",
       "      <td>19-8-2021</td>\n",
       "      <td>Welke Voka mails wil u ontvangen?</td>\n",
       "    </tr>\n",
       "    <tr>\n",
       "      <th>101</th>\n",
       "      <td>1C87B829-498C-4187-9985-012646C5D52B</td>\n",
       "      <td>NaN</td>\n",
       "      <td>27-2-2023</td>\n",
       "      <td>Activeer en personaliseer jouw Voka-account in...</td>\n",
       "    </tr>\n",
       "  </tbody>\n",
       "</table>\n",
       "</div>"
      ],
      "text/plain": [
       "                  crm_CDI_Mailing_Mailing crm_CDI_Mailing_Name   \n",
       "7    0162AB74-E766-47D9-B4B9-3DFF3B384A67                  NaN  \\\n",
       "8    01EA1907-F171-EC11-8941-000D3ABB88CA                  NaN   \n",
       "14   034044AC-B698-EC11-B400-002248800905                  NaN   \n",
       "95   1AAE90F7-F629-4C11-A863-8AFFCE2C481C                  NaN   \n",
       "101  1C87B829-498C-4187-9985-012646C5D52B                  NaN   \n",
       "\n",
       "    crm_CDI_Mailing_Sent_On                          crm_CDI_Mailing_Onderwerp  \n",
       "7                 10-9-2021  Een goede zaak voor uw mailbox: Voka-info op maat  \n",
       "8                 10-1-2022           Herinnering - Welkom in de Voka database  \n",
       "14                 1-3-2022              Extra plaatsen beschikbaar naar Dubai  \n",
       "95                19-8-2021                  Welke Voka mails wil u ontvangen?  \n",
       "101               27-2-2023  Activeer en personaliseer jouw Voka-account in...  "
      ]
     },
     "execution_count": 3,
     "metadata": {},
     "output_type": "execute_result"
    }
   ],
   "source": [
    "data[data['crm_CDI_Mailing_Name'].isnull()].head()"
   ]
  }
 ],
 "metadata": {
  "kernelspec": {
   "display_name": "Python 3",
   "language": "python",
   "name": "python3"
  },
  "language_info": {
   "codemirror_mode": {
    "name": "ipython",
    "version": 3
   },
   "file_extension": ".py",
   "mimetype": "text/x-python",
   "name": "python",
   "nbconvert_exporter": "python",
   "pygments_lexer": "ipython3",
   "version": "3.11.3"
  }
 },
 "nbformat": 4,
 "nbformat_minor": 2
}
