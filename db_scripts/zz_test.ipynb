{
 "cells": [
  {
   "cell_type": "code",
   "execution_count": 26,
   "metadata": {},
   "outputs": [
    {
     "data": {
      "text/plain": [
       "(1173515, 6)"
      ]
     },
     "execution_count": 26,
     "metadata": {},
     "output_type": "execute_result"
    }
   ],
   "source": [
    "import pandas as pd\n",
    "import os\n",
    "\n",
    "FILE = 'Contact_fixed'\n",
    "DATA_DIR = '../data_clean/'\n",
    "\n",
    "data = pd.read_csv(os.path.join(DATA_DIR, FILE + '.csv'))\n",
    "data.shape"
   ]
  },
  {
   "cell_type": "code",
   "execution_count": 27,
   "metadata": {},
   "outputs": [],
   "source": [
    "COL = 'contact_contactpersoon_id'"
   ]
  },
  {
   "cell_type": "code",
   "execution_count": 28,
   "metadata": {},
   "outputs": [
    {
     "data": {
      "text/html": [
       "<div>\n",
       "<style scoped>\n",
       "    .dataframe tbody tr th:only-of-type {\n",
       "        vertical-align: middle;\n",
       "    }\n",
       "\n",
       "    .dataframe tbody tr th {\n",
       "        vertical-align: top;\n",
       "    }\n",
       "\n",
       "    .dataframe thead th {\n",
       "        text-align: right;\n",
       "    }\n",
       "</style>\n",
       "<table border=\"1\" class=\"dataframe\">\n",
       "  <thead>\n",
       "    <tr style=\"text-align: right;\">\n",
       "      <th></th>\n",
       "      <th>contact_contactpersoon_id</th>\n",
       "      <th>contact_account</th>\n",
       "      <th>contact_functietitel</th>\n",
       "      <th>contact_persoon_id</th>\n",
       "      <th>contact_status</th>\n",
       "      <th>contact_voka_medewerker</th>\n",
       "    </tr>\n",
       "  </thead>\n",
       "  <tbody>\n",
       "  </tbody>\n",
       "</table>\n",
       "</div>"
      ],
      "text/plain": [
       "Empty DataFrame\n",
       "Columns: [contact_contactpersoon_id, contact_account, contact_functietitel, contact_persoon_id, contact_status, contact_voka_medewerker]\n",
       "Index: []"
      ]
     },
     "execution_count": 28,
     "metadata": {},
     "output_type": "execute_result"
    }
   ],
   "source": [
    "# check duplicates based on contact_contactpersoon_id\n",
    "data[data.duplicated(subset=COL, keep=False)]"
   ]
  },
  {
   "cell_type": "code",
   "execution_count": 16,
   "metadata": {},
   "outputs": [],
   "source": [
    "columns = data.columns\n",
    "columns = list(columns)\n",
    "columns.remove(COL)\n",
    "data = data.groupby(COL).agg(lambda x: x.tolist())\n",
    "data.reset_index(inplace=True)\n",
    "columns = list(data.columns)\n",
    "columns.remove(COL)\n",
    "for col in columns:\n",
    "    data[col] = data[col].apply(lambda x: list(set(x)))\n",
    "    for row in data[col]:\n",
    "        if len(row) > 1:\n",
    "            if 'unknown' in row:\n",
    "                row.remove('unknown')\n",
    "            row.pop(0)\n",
    "    data[col] = data[col].apply(lambda x: x[0] if len(x) > 0 else 'unknown')\n",
    "data.drop_duplicates(inplace=True)"
   ]
  }
 ],
 "metadata": {
  "kernelspec": {
   "display_name": ".venv",
   "language": "python",
   "name": "python3"
  },
  "language_info": {
   "codemirror_mode": {
    "name": "ipython",
    "version": 3
   },
   "file_extension": ".py",
   "mimetype": "text/x-python",
   "name": "python",
   "nbconvert_exporter": "python",
   "pygments_lexer": "ipython3",
   "version": "3.11.3"
  }
 },
 "nbformat": 4,
 "nbformat_minor": 2
}
