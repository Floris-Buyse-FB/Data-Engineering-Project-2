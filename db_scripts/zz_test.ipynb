{
 "cells": [
  {
   "cell_type": "code",
   "execution_count": 1,
   "metadata": {},
   "outputs": [
    {
     "data": {
      "text/plain": [
       "(4299, 21)"
      ]
     },
     "execution_count": 1,
     "metadata": {},
     "output_type": "execute_result"
    }
   ],
   "source": [
    "import pandas as pd\n",
    "import os\n",
    "\n",
    "FILE = 'CDI_Pageviews_fixed'\n",
    "DATA_DIR = '../data_clean/'\n",
    "\n",
    "data = pd.read_csv(os.path.join(DATA_DIR, FILE + '.csv'))\n",
    "data.shape"
   ]
  },
  {
   "cell_type": "code",
   "execution_count": 2,
   "metadata": {},
   "outputs": [
    {
     "data": {
      "text/plain": [
       "page_view_id         0\n",
       "anonymous_visitor    0\n",
       "browser              0\n",
       "campaign             0\n",
       "contact              0\n",
       "duration             0\n",
       "operating_system     0\n",
       "referrer_type        0\n",
       "time                 0\n",
       "page_title           0\n",
       "type                 0\n",
       "url                  0\n",
       "viewed_on            0\n",
       "visit                0\n",
       "visitor_key          0\n",
       "web_content          0\n",
       "aangemaakt_op        0\n",
       "gewijzigd_door       0\n",
       "gewijzigd_op         0\n",
       "status               0\n",
       "reden_van_status     0\n",
       "dtype: int64"
      ]
     },
     "execution_count": 2,
     "metadata": {},
     "output_type": "execute_result"
    }
   ],
   "source": [
    "data.isna().sum()"
   ]
  },
  {
   "cell_type": "code",
   "execution_count": 31,
   "metadata": {},
   "outputs": [],
   "source": [
    "def fill_na():\n",
    "    for file in os.listdir(DATA_DIR):\n",
    "        dataframe = pd.read_csv(os.path.join(DATA_DIR, file))\n",
    "        numeric = dataframe.select_dtypes(include='number').columns\n",
    "        non_numeric = dataframe.select_dtypes(exclude='number').columns\n",
    "        dataframe[numeric] = dataframe[numeric].fillna(-1)\n",
    "        dataframe[non_numeric] = dataframe[non_numeric].fillna('unknown')\n",
    "        dataframe.to_csv(os.path.join(DATA_DIR, file), index=False)\n",
    "\n",
    "fill_na()"
   ]
  },
  {
   "cell_type": "code",
   "execution_count": 9,
   "metadata": {},
   "outputs": [
    {
     "data": {
      "text/plain": [
       "visitor_key\n",
       "c644d32866324170bc6080dd60d4702c    49\n",
       "c5526d64d5aa4f7987c5c44ed13c49b8    40\n",
       "c78d540767214d5f9061bc7b669d8473    38\n",
       "c4708012068a404a9ac3d8803ac3e0a5    28\n",
       "c968a1212d834e9699e5eb4e348d4f93    28\n",
       "                                    ..\n",
       "cff7c11a084b4de2a84b50834dd0e40b     1\n",
       "cbd5d2f7dd2e4840b3592658de1a6b01     1\n",
       "cb436fffcd984d548c398206476c5bf6     1\n",
       "c1e04c504e1c4386ac29207958ddaf89     1\n",
       "ccfa91dd51bc49bc8e331b98f4164ab6     1\n",
       "Name: count, Length: 1482, dtype: int64"
      ]
     },
     "execution_count": 9,
     "metadata": {},
     "output_type": "execute_result"
    }
   ],
   "source": [
    "data['visitor_key'].value_counts()"
   ]
  },
  {
   "cell_type": "code",
   "execution_count": 27,
   "metadata": {},
   "outputs": [],
   "source": [
    "COL = 'contact_contactpersoon_id'"
   ]
  },
  {
   "cell_type": "code",
   "execution_count": 28,
   "metadata": {},
   "outputs": [
    {
     "data": {
      "text/html": [
       "<div>\n",
       "<style scoped>\n",
       "    .dataframe tbody tr th:only-of-type {\n",
       "        vertical-align: middle;\n",
       "    }\n",
       "\n",
       "    .dataframe tbody tr th {\n",
       "        vertical-align: top;\n",
       "    }\n",
       "\n",
       "    .dataframe thead th {\n",
       "        text-align: right;\n",
       "    }\n",
       "</style>\n",
       "<table border=\"1\" class=\"dataframe\">\n",
       "  <thead>\n",
       "    <tr style=\"text-align: right;\">\n",
       "      <th></th>\n",
       "      <th>contact_contactpersoon_id</th>\n",
       "      <th>contact_account</th>\n",
       "      <th>contact_functietitel</th>\n",
       "      <th>contact_persoon_id</th>\n",
       "      <th>contact_status</th>\n",
       "      <th>contact_voka_medewerker</th>\n",
       "    </tr>\n",
       "  </thead>\n",
       "  <tbody>\n",
       "  </tbody>\n",
       "</table>\n",
       "</div>"
      ],
      "text/plain": [
       "Empty DataFrame\n",
       "Columns: [contact_contactpersoon_id, contact_account, contact_functietitel, contact_persoon_id, contact_status, contact_voka_medewerker]\n",
       "Index: []"
      ]
     },
     "execution_count": 28,
     "metadata": {},
     "output_type": "execute_result"
    }
   ],
   "source": [
    "# check duplicates based on contact_contactpersoon_id\n",
    "data[data.duplicated(subset=COL, keep=False)]"
   ]
  },
  {
   "cell_type": "code",
   "execution_count": 16,
   "metadata": {},
   "outputs": [],
   "source": [
    "columns = data.columns\n",
    "columns = list(columns)\n",
    "columns.remove(COL)\n",
    "data = data.groupby(COL).agg(lambda x: x.tolist())\n",
    "data.reset_index(inplace=True)\n",
    "columns = list(data.columns)\n",
    "columns.remove(COL)\n",
    "for col in columns:\n",
    "    data[col] = data[col].apply(lambda x: list(set(x)))\n",
    "    for row in data[col]:\n",
    "        if len(row) > 1:\n",
    "            if 'unknown' in row:\n",
    "                row.remove('unknown')\n",
    "            row.pop(0)\n",
    "    data[col] = data[col].apply(lambda x: x[0] if len(x) > 0 else 'unknown')\n",
    "data.drop_duplicates(inplace=True)"
   ]
  },
  {
   "cell_type": "code",
   "execution_count": 19,
   "metadata": {},
   "outputs": [
    {
     "data": {
      "text/plain": [
       "0       001B28C8-4F5E-4FD7-A0BB-87755F315E37\n",
       "1       0029F118-A50A-40FD-96D7-75D428BFD933\n",
       "2       0030FFCF-E5C2-440B-B5C5-20F128673BB3\n",
       "3       003269D3-A173-4AE9-921A-8A7AD6B999A5\n",
       "4       0069AAA3-23E5-45CF-839D-3C28A2E90004\n",
       "                        ...                 \n",
       "4294    FF82790C-6EF8-4B69-94A0-06B886E4AB0F\n",
       "4295    FF8FC4D4-D756-472B-AE27-7EC20BDDA953\n",
       "4296    FF9619A1-8E61-4FCE-8030-4A791DE26338\n",
       "4297    FFA0124A-A2D0-49D4-8F2E-D277782C04E8\n",
       "4298    FFD1644A-65D2-4E9F-9C8D-2A8FBED19E87\n",
       "Name: page_view_id, Length: 4299, dtype: object"
      ]
     },
     "execution_count": 19,
     "metadata": {},
     "output_type": "execute_result"
    }
   ],
   "source": [
    "data = pd.read_csv('../data_clean/CDI_pageviews_fixed.csv')\n",
    "\n",
    "# show page_view_id where it is null\n",
    "data['page_view_id']"
   ]
  }
 ],
 "metadata": {
  "kernelspec": {
   "display_name": ".venv",
   "language": "python",
   "name": "python3"
  },
  "language_info": {
   "codemirror_mode": {
    "name": "ipython",
    "version": 3
   },
   "file_extension": ".py",
   "mimetype": "text/x-python",
   "name": "python",
   "nbconvert_exporter": "python",
   "pygments_lexer": "ipython3",
   "version": "3.11.5"
  }
 },
 "nbformat": 4,
 "nbformat_minor": 2
}
