{
 "cells": [
  {
   "cell_type": "code",
   "execution_count": 9,
   "metadata": {},
   "outputs": [],
   "source": [
    "import pandas as pd"
   ]
  },
  {
   "cell_type": "code",
   "execution_count": 87,
   "metadata": {},
   "outputs": [
    {
     "data": {
      "text/plain": [
       "(50170, 16)"
      ]
     },
     "execution_count": 87,
     "metadata": {},
     "output_type": "execute_result"
    }
   ],
   "source": [
    "acc = pd.read_csv('../data_clean/Account_fixed.csv')\n",
    "acc = acc[acc['account_adres_provincie'] == 'Oost-Vlaanderen']\n",
    "acc['account_adres_plaats'] = acc['account_adres_plaats'].str.lower()\n",
    "acc.drop_duplicates(inplace=True)\n",
    "acc = acc.groupby('account_account_id').agg(lambda x: x.tolist())\n",
    "acc.reset_index(inplace=True)\n",
    "columns = acc.columns\n",
    "# remove account_account_id\n",
    "columns = columns[1:]\n",
    "for col in columns:\n",
    "    acc[col] = acc[col].apply(lambda x: list(set(x)))\n",
    "    acc = acc[~acc[col].apply(lambda x: any(word in x for word in ['Inactief', 'Stopzetting']))]\n",
    "    for row in acc[col]:\n",
    "        if len(row) > 1:\n",
    "            if 'unknown' in row:\n",
    "                row.remove('unknown')\n",
    "            row.pop(0)"
   ]
  }
 ],
 "metadata": {
  "kernelspec": {
   "display_name": ".venv",
   "language": "python",
   "name": "python3"
  },
  "language_info": {
   "codemirror_mode": {
    "name": "ipython",
    "version": 3
   },
   "file_extension": ".py",
   "mimetype": "text/x-python",
   "name": "python",
   "nbconvert_exporter": "python",
   "pygments_lexer": "ipython3",
   "version": "3.11.3"
  }
 },
 "nbformat": 4,
 "nbformat_minor": 2
}
