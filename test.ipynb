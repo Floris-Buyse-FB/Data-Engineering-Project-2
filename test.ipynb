{
 "cells": [
  {
   "cell_type": "code",
   "execution_count": 2,
   "metadata": {},
   "outputs": [],
   "source": [
    "import pandas as pd\n",
    "import numpy as np\n",
    "import os"
   ]
  },
  {
   "cell_type": "code",
   "execution_count": 14,
   "metadata": {},
   "outputs": [],
   "source": [
    "OLD_DF_DIR = \"./data/\"\n",
    "NEW_DF_DIR = \"./data_new/\"\n",
    "TEST_DATA_DIR = \"./test_data/\"\n",
    "\n",
    "# check if TEST_DATA_DIR exists\n",
    "if not os.path.exists(TEST_DATA_DIR):\n",
    "    os.makedirs(TEST_DATA_DIR)\n",
    "else:\n",
    "    # remove all files in TEST_DATA_DIR\n",
    "    for file in os.listdir(TEST_DATA_DIR):\n",
    "        os.remove(TEST_DATA_DIR + file)"
   ]
  },
  {
   "cell_type": "code",
   "execution_count": 15,
   "metadata": {},
   "outputs": [],
   "source": [
    "def concat_dfs(file):\n",
    "    if file == 'cdi pageviews.csv':\n",
    "        old_df = pd.read_csv(os.path.join(OLD_DF_DIR, file), encoding='latin-1')\n",
    "    else:\n",
    "        old_df = pd.read_csv(os.path.join(OLD_DF_DIR, file))\n",
    "    new_df = pd.read_csv(os.path.join(NEW_DF_DIR, file))\n",
    "    df = pd.concat([old_df, new_df], axis=0)\n",
    "    df.drop_duplicates(inplace=True)\n",
    "    df.reset_index(drop=True, inplace=True)\n",
    "    df.to_csv(os.path.join(TEST_DATA_DIR, file), index=False)"
   ]
  },
  {
   "cell_type": "code",
   "execution_count": 16,
   "metadata": {},
   "outputs": [
    {
     "name": "stdout",
     "output_type": "stream",
     "text": [
      "Error with file: cdi pageviews.csv\n",
      "Error tokenizing data. C error: Expected 1 fields in line 9, saw 2\n",
      "\n"
     ]
    },
    {
     "name": "stderr",
     "output_type": "stream",
     "text": [
      "C:\\Users\\buyse\\AppData\\Local\\Temp\\ipykernel_16952\\790883485.py:5: DtypeWarning: Columns (4,19) have mixed types. Specify dtype option on import or set low_memory=False.\n",
      "  old_df = pd.read_csv(os.path.join(OLD_DF_DIR, file))\n"
     ]
    }
   ],
   "source": [
    "for file in os.listdir(NEW_DF_DIR):\n",
    "    if file.endswith(\".csv\"):\n",
    "        try:\n",
    "            concat_dfs(file)\n",
    "        except Exception as e:\n",
    "            print(f\"Error with file: {file}\")\n",
    "            print(e)"
   ]
  },
  {
   "cell_type": "code",
   "execution_count": 17,
   "metadata": {},
   "outputs": [
    {
     "name": "stderr",
     "output_type": "stream",
     "text": [
      "C:\\Users\\buyse\\AppData\\Local\\Temp\\ipykernel_16952\\1835951275.py:1: DtypeWarning: Columns (2) have mixed types. Specify dtype option on import or set low_memory=False.\n",
      "  test_df = pd.read_csv(os.path.join(NEW_DF_DIR, 'cdi pageviews.csv'))\n"
     ]
    }
   ],
   "source": [
    "test_df = pd.read_csv(os.path.join(NEW_DF_DIR, 'cdi pageviews.csv'))\n",
    "old_test_df = pd.read_csv(os.path.join(OLD_DF_DIR, 'cdi pageviews.csv'), encoding='latin-1', sep=';')\n",
    "cdi_pageviews = pd.concat([old_test_df, test_df], axis=0)\n",
    "cdi_pageviews.drop_duplicates(inplace=True)\n",
    "cdi_pageviews.reset_index(drop=True, inplace=True)\n",
    "cdi_pageviews.to_csv(os.path.join(TEST_DATA_DIR, 'cdi pageviews.csv'), index=False)"
   ]
  }
 ],
 "metadata": {
  "kernelspec": {
   "display_name": ".venv",
   "language": "python",
   "name": "python3"
  },
  "language_info": {
   "codemirror_mode": {
    "name": "ipython",
    "version": 3
   },
   "file_extension": ".py",
   "mimetype": "text/x-python",
   "name": "python",
   "nbconvert_exporter": "python",
   "pygments_lexer": "ipython3",
   "version": "3.11.3"
  }
 },
 "nbformat": 4,
 "nbformat_minor": 2
}
